{
 "cells": [
  {
   "attachments": {},
   "cell_type": "markdown",
   "metadata": {},
   "source": [
    "References:\n",
    "\n",
    "- [Data Persistence](https://huggingface.co/docs/hub/spaces-sdks-docker#data-persistence)\n",
    "- [Create and manage a repository](https://huggingface.co/docs/huggingface_hub/guides/repository)\n",
    "- [Managing local and online repositories](https://huggingface.co/docs/huggingface_hub/v0.13.4/en/package_reference/repository)\n",
    "- [git-lfs tutorial](https://sabicalija.github.io/git-lfs-intro/)"
   ]
  },
  {
   "cell_type": "code",
   "execution_count": 1,
   "metadata": {},
   "outputs": [
    {
     "name": "stdout",
     "output_type": "stream",
     "text": [
      "/workspaces/llm-playground/datasets\n"
     ]
    }
   ],
   "source": [
    "%cd ../datasets"
   ]
  },
  {
   "cell_type": "code",
   "execution_count": 2,
   "metadata": {},
   "outputs": [],
   "source": [
    "from huggingface_hub import Repository"
   ]
  },
  {
   "cell_type": "code",
   "execution_count": 3,
   "metadata": {},
   "outputs": [
    {
     "name": "stdout",
     "output_type": "stream",
     "text": [
      "GIT-LFS(1)                                                          GIT-LFS(1)\n",
      "\n",
      "NAME\n",
      "       git-lfs - Work with large files in Git repositories\n",
      "\n",
      "SYNOPSIS\n",
      "       git lfs <command> [<args>]\n",
      "\n",
      "DESCRIPTION\n",
      "       Git LFS is a system for managing and versioning large files in\n",
      "       association with a Git repository. Instead of storing the large files\n",
      "       within the Git repository as blobs, Git LFS stores special \"pointer\n",
      "       files\" in the repository, while storing the actual file contents on a\n",
      "       Git LFS server. The contents of the large file are downloaded\n",
      "       automatically when needed, for example when a Git branch containing the\n",
      "       large file is checked out.\n",
      "\n",
      "       Git LFS works by using a \"smudge\" filter to look up the large file\n",
      "       contents based on the pointer file, and a \"clean\" filter to create a\n",
      "       new version of the pointer file when the large file’s contents change.\n",
      "       It also uses a pre-push hook to upload the large file contents to the\n",
      "       Git LFS server whenever a commit containing a new large file version is\n",
      "       about to be pushed to the corresponding Git server.\n",
      "\n",
      "COMMANDS\n",
      "       Like Git, Git LFS commands are separated into high level (\"porcelain\")\n",
      "       commands and low level (\"plumbing\") commands.\n",
      "\n",
      "   High level porcelain commands\n",
      "       git-lfs-checkout(1)\n",
      "           Populate working copy with real content from Git LFS files.\n",
      "\n",
      "       git-lfs-dedup(1)\n",
      "           De-duplicate Git LFS files.\n",
      "\n",
      "       git-lfs-env(1)\n",
      "           Display the Git LFS environment.\n",
      "\n",
      "       git-lfs-ext(1)\n",
      "           Display Git LFS extension details.\n",
      "\n",
      "       git-lfs-fetch(1)\n",
      "           Download Git LFS files from a remote.\n",
      "\n",
      "       git-lfs-fsck(1)\n",
      "           Check Git LFS files for consistency.\n",
      "\n",
      "       git-lfs-install(1)\n",
      "           Install Git LFS configuration.\n",
      "\n",
      "       git-lfs-lock(1)\n",
      "           Set a file as \"locked\" on the Git LFS server.\n",
      "\n",
      "       git-lfs-locks(1)\n",
      "           List currently \"locked\" files from the Git LFS server.\n",
      "\n",
      "       git-lfs-logs(1)\n",
      "           Show errors from the Git LFS command.\n",
      "\n",
      "       git-lfs-ls-files(1)\n",
      "           Show information about Git LFS files in the index and working tree.\n",
      "\n",
      "       git-lfs-migrate(1)\n",
      "           Migrate history to or from Git LFS\n",
      "\n",
      "       git-lfs-prune(1)\n",
      "           Delete old Git LFS files from local storage\n",
      "\n",
      "       git-lfs-pull(1)\n",
      "           Fetch Git LFS changes from the remote & checkout any required\n",
      "           working tree files.\n",
      "\n",
      "       git-lfs-push(1)\n",
      "           Push queued large files to the Git LFS endpoint.\n",
      "\n",
      "       git-lfs-status(1)\n",
      "           Show the status of Git LFS files in the working tree.\n",
      "\n",
      "       git-lfs-track(1)\n",
      "           View or add Git LFS paths to Git attributes.\n",
      "\n",
      "       git-lfs-uninstall(1)\n",
      "           Uninstall Git LFS by removing hooks and smudge/clean filter\n",
      "           configuration.\n",
      "\n",
      "       git-lfs-unlock(1)\n",
      "           Remove \"locked\" setting for a file on the Git LFS server.\n",
      "\n",
      "       git-lfs-untrack(1)\n",
      "           Remove Git LFS paths from Git Attributes.\n",
      "\n",
      "       git-lfs-update(1)\n",
      "           Update Git hooks for the current Git repository.\n",
      "\n",
      "       git-lfs-version(1)\n",
      "           Report the version number.\n",
      "\n",
      "   Low level plumbing commands\n",
      "       git-lfs-clean(1)\n",
      "           Git clean filter that converts large files to pointers.\n",
      "\n",
      "       git-lfs-filter-process(1)\n",
      "           Git process filter that converts between large files and pointers.\n",
      "\n",
      "       git-lfs-merge-driver(1)\n",
      "           Merge text-based LFS files\n",
      "\n",
      "       git-lfs-pointer(1)\n",
      "           Build and compare pointers.\n",
      "\n",
      "       git-lfs-post-checkout(1)\n",
      "           Git post-checkout hook implementation.\n",
      "\n",
      "       git-lfs-post-commit(1)\n",
      "           Git post-commit hook implementation.\n",
      "\n",
      "       git-lfs-post-merge(1)\n",
      "           Git post-merge hook implementation.\n",
      "\n",
      "       git-lfs-pre-push(1)\n",
      "           Git pre-push hook implementation.\n",
      "\n",
      "       git-lfs-smudge(1)\n",
      "           Git smudge filter that converts pointer in blobs to the actual\n",
      "           content.\n",
      "\n",
      "       git-lfs-standalone-file(1)\n",
      "           Git LFS standalone transfer adapter for file URLs (local paths).\n",
      "\n",
      "EXAMPLES\n",
      "       To get started with Git LFS, the following commands can be used.\n",
      "\n",
      "        1. Setup Git LFS on your system. You only have to do this once per\n",
      "           user account:\n",
      "\n",
      "               git lfs install\n",
      "\n",
      "        2. Choose the type of files you want to track, for examples all ISO\n",
      "           images, with git-lfs-track(1):\n",
      "\n",
      "               git lfs track \"*.iso\"\n",
      "\n",
      "        3. The above stores this information in gitattributes(5) files, so\n",
      "           that file needs to be added to the repository:\n",
      "\n",
      "               git add .gitattributes\n",
      "\n",
      "        4. Commit, push and work with the files normally:\n",
      "\n",
      "               git add file.iso\n",
      "               git commit -m \"Add disk image\"\n",
      "               git push\n",
      "\n",
      "                                                                    GIT-LFS(1)\n"
     ]
    }
   ],
   "source": [
    "!git lfs --help"
   ]
  },
  {
   "cell_type": "code",
   "execution_count": 4,
   "metadata": {},
   "outputs": [
    {
     "name": "stderr",
     "output_type": "stream",
     "text": [
      "/workspaces/llm-playground/datasets/proof-pile is already a clone of https://huggingface.co/datasets/hoskinson-center/proof-pile. Make sure you pull the latest changes with `repo.git_pull()`.\n"
     ]
    }
   ],
   "source": [
    "# https://huggingface.co/datasets/hoskinson-center/proof-pile/\n",
    "\n",
    "repo = Repository(local_dir=\"proof-pile\", clone_from=\"hoskinson-center/proof-pile\", repo_type='dataset', skip_lfs_files=True)"
   ]
  },
  {
   "cell_type": "code",
   "execution_count": 5,
   "metadata": {},
   "outputs": [
    {
     "name": "stdout",
     "output_type": "stream",
     "text": [
      "git lfs pull [options] [<remote>]\n",
      "\n",
      "Download Git LFS objects for the currently checked out ref, and update\n",
      "the working copy with the downloaded content if required.\n",
      "\n",
      "This is equivalent to running the following 2 commands:\n",
      "\n",
      "git lfs fetch [options] [] git lfs checkout\n",
      "\n",
      "Options:\n",
      "\n",
      "-I <paths>:\n",
      "--include=<paths>:\n",
      "   Specify lfs.fetchinclude just for this invocation; see \"Include and exclude\"\n",
      "-X <paths>:\n",
      "--exclude=<paths>:\n",
      "   Specify lfs.fetchexclude just for this invocation; see \"Include and exclude\"\n",
      "\n",
      "Include and exclude\n",
      "-------------------\n",
      "\n",
      "You can configure Git LFS to only fetch objects to satisfy references in\n",
      "certain paths of the repo, and/or to exclude certain paths of the repo,\n",
      "to reduce the time you spend downloading things you do not use.\n",
      "\n",
      "In your Git configuration or in a .lfsconfig file, you may set either\n",
      "or both of lfs.fetchinclude and lfs.fetchexclude to comma-separated\n",
      "lists of paths. If lfs.fetchinclude is defined, Git LFS objects will\n",
      "only be fetched if their path matches one in that list, and if\n",
      "lfs.fetchexclude is defined, Git LFS objects will only be fetched if\n",
      "their path does not match one in that list. Paths are matched using\n",
      "wildcard matching as per gitignore(5).\n",
      "\n",
      "Note that using the command-line options -I and -X override the\n",
      "respective configuration settings. Setting either option to an empty\n",
      "string clears the value.\n",
      "\n",
      "Default remote\n",
      "--------------\n",
      "\n",
      "Without arguments, pull downloads from the default remote. The default\n",
      "remote is the same as for git pull, i.e. based on the remote branch\n",
      "you're tracking first, or origin otherwise.\n"
     ]
    }
   ],
   "source": [
    "!git lfs pull --help"
   ]
  },
  {
   "cell_type": "code",
   "execution_count": 6,
   "metadata": {},
   "outputs": [
    {
     "name": "stdout",
     "output_type": "stream",
     "text": [
      "/workspaces/llm-playground/datasets/proof-pile\n"
     ]
    }
   ],
   "source": [
    "%cd proof-pile"
   ]
  },
  {
   "cell_type": "code",
   "execution_count": 7,
   "metadata": {},
   "outputs": [],
   "source": [
    "repo.git_pull()"
   ]
  },
  {
   "cell_type": "code",
   "execution_count": 8,
   "metadata": {},
   "outputs": [
    {
     "name": "stdout",
     "output_type": "stream",
     "text": [
      "total 96K\n",
      "drwxrwxrwx+ 2 codespace codespace 4.0K Apr 16 08:16 .\n",
      "-rw-rw-rw-  1 codespace codespace  134 Apr 16 08:16 proofpile_train_8.jsonl.gz\n",
      "-rw-rw-rw-  1 codespace codespace  134 Apr 16 08:16 proofpile_train_9.jsonl.gz\n",
      "-rw-rw-rw-  1 codespace codespace  134 Apr 16 08:16 proofpile_train_19.jsonl.gz\n",
      "-rw-rw-rw-  1 codespace codespace  134 Apr 16 08:16 proofpile_train_2.jsonl.gz\n",
      "-rw-rw-rw-  1 codespace codespace  134 Apr 16 08:16 proofpile_train_20.jsonl.gz\n",
      "-rw-rw-rw-  1 codespace codespace  134 Apr 16 08:16 proofpile_train_3.jsonl.gz\n",
      "-rw-rw-rw-  1 codespace codespace  134 Apr 16 08:16 proofpile_train_4.jsonl.gz\n",
      "-rw-rw-rw-  1 codespace codespace  134 Apr 16 08:16 proofpile_train_5.jsonl.gz\n",
      "-rw-rw-rw-  1 codespace codespace  134 Apr 16 08:16 proofpile_train_6.jsonl.gz\n",
      "-rw-rw-rw-  1 codespace codespace  134 Apr 16 08:16 proofpile_train_7.jsonl.gz\n",
      "drwxrwxrwx+ 6 codespace codespace 4.0K Apr 16 08:16 ..\n",
      "-rw-rw-rw-  1 codespace codespace 1.4K Apr 16 08:16 .gitattributes\n",
      "-rw-rw-rw-  1 codespace codespace  134 Apr 16 08:16 proofpile_train_0.jsonl.gz\n",
      "-rw-rw-rw-  1 codespace codespace  134 Apr 16 08:16 proofpile_train_1.jsonl.gz\n",
      "-rw-rw-rw-  1 codespace codespace  134 Apr 16 08:16 proofpile_train_10.jsonl.gz\n",
      "-rw-rw-rw-  1 codespace codespace  134 Apr 16 08:16 proofpile_train_11.jsonl.gz\n",
      "-rw-rw-rw-  1 codespace codespace  134 Apr 16 08:16 proofpile_train_12.jsonl.gz\n",
      "-rw-rw-rw-  1 codespace codespace  134 Apr 16 08:16 proofpile_train_13.jsonl.gz\n",
      "-rw-rw-rw-  1 codespace codespace  134 Apr 16 08:16 proofpile_train_14.jsonl.gz\n",
      "-rw-rw-rw-  1 codespace codespace  134 Apr 16 08:16 proofpile_train_15.jsonl.gz\n",
      "-rw-rw-rw-  1 codespace codespace  134 Apr 16 08:16 proofpile_train_16.jsonl.gz\n",
      "-rw-rw-rw-  1 codespace codespace  134 Apr 16 08:16 proofpile_train_17.jsonl.gz\n",
      "-rw-rw-rw-  1 codespace codespace  134 Apr 16 08:16 proofpile_train_18.jsonl.gz\n"
     ]
    }
   ],
   "source": [
    "!ls -lhta train"
   ]
  },
  {
   "cell_type": "code",
   "execution_count": 9,
   "metadata": {},
   "outputs": [
    {
     "name": "stdout",
     "output_type": "stream",
     "text": [
      "total 155M\n",
      "-rw-rw-rw-  1 codespace codespace 155M Apr 16 08:28 proofpile_dev.jsonl.gz\n",
      "drwxrwxrwx+ 2 codespace codespace 4.0K Apr 16 08:28 .\n",
      "drwxrwxrwx+ 6 codespace codespace 4.0K Apr 16 08:16 ..\n",
      "-rw-rw-rw-  1 codespace codespace   59 Apr 16 08:16 .gitattributes\n"
     ]
    }
   ],
   "source": [
    "%%bash\n",
    "git lfs pull --include=\"dev/proofpile_dev.jsonl.gz\"\n",
    "ls -lhta dev"
   ]
  },
  {
   "cell_type": "code",
   "execution_count": 10,
   "metadata": {},
   "outputs": [
    {
     "name": "stderr",
     "output_type": "stream",
     "text": [
      "Git LFS pointer for dev/proofpile_dev.jsonl.gz\n",
      "\n"
     ]
    },
    {
     "name": "stdout",
     "output_type": "stream",
     "text": [
      "version https://git-lfs.github.com/spec/v1\n",
      "oid sha256:9a33bde2feabb2421936bbde65ab15692ba814812bb2cf0e82a77b35e07e0b9b\n",
      "size 161818020\n",
      "total 155M\n",
      "-rw-rw-rw-  1 codespace codespace 155M Apr 16 08:28 proofpile_dev.jsonl.gz\n",
      "drwxrwxrwx+ 2 codespace codespace 4.0K Apr 16 08:28 .\n",
      "drwxrwxrwx+ 6 codespace codespace 4.0K Apr 16 08:16 ..\n",
      "-rw-rw-rw-  1 codespace codespace   59 Apr 16 08:16 .gitattributes\n"
     ]
    }
   ],
   "source": [
    "%%bash\n",
    "git lfs pointer --file=\"dev/proofpile_dev.jsonl.gz\"\n",
    "ls -lhta dev"
   ]
  },
  {
   "cell_type": "code",
   "execution_count": 11,
   "metadata": {},
   "outputs": [
    {
     "name": "stdout",
     "output_type": "stream",
     "text": [
      "/workspaces/llm-playground/datasets/proof-pile\n"
     ]
    }
   ],
   "source": [
    "!pwd"
   ]
  },
  {
   "cell_type": "code",
   "execution_count": 12,
   "metadata": {},
   "outputs": [
    {
     "name": "stdout",
     "output_type": "stream",
     "text": [
      "/workspaces/llm-playground\n"
     ]
    }
   ],
   "source": [
    "%cd ../../"
   ]
  },
  {
   "cell_type": "code",
   "execution_count": 13,
   "metadata": {},
   "outputs": [],
   "source": [
    "import os\n",
    "HF_TOKEN = os.environ.get(\"HUGGINGFACE_TOKEN\")"
   ]
  },
  {
   "cell_type": "code",
   "execution_count": 14,
   "metadata": {},
   "outputs": [
    {
     "name": "stderr",
     "output_type": "stream",
     "text": [
      "Cloning https://huggingface.co/datasets/utensil/storage into local empty directory.\n"
     ]
    }
   ],
   "source": [
    "# https://huggingface.co/datasets/utensil/storage\n",
    "repo = Repository(local_dir=\"storage\", clone_from=\"utensil/storage\", repo_type='dataset', skip_lfs_files=True, use_auth_token=HF_TOKEN)"
   ]
  },
  {
   "cell_type": "code",
   "execution_count": 15,
   "metadata": {},
   "outputs": [],
   "source": [
    "!touch storage/test.txt"
   ]
  },
  {
   "cell_type": "code",
   "execution_count": 16,
   "metadata": {},
   "outputs": [],
   "source": [
    "repo.push_to_hub()"
   ]
  },
  {
   "cell_type": "code",
   "execution_count": 17,
   "metadata": {},
   "outputs": [],
   "source": [
    "!date --rfc-3339=seconds > storage/time.txt"
   ]
  },
  {
   "cell_type": "code",
   "execution_count": 18,
   "metadata": {},
   "outputs": [
    {
     "name": "stdout",
     "output_type": "stream",
     "text": [
      "2023-04-16 12:03:25+00:00\n"
     ]
    }
   ],
   "source": [
    "!cat storage/time.txt"
   ]
  },
  {
   "cell_type": "code",
   "execution_count": 19,
   "metadata": {},
   "outputs": [
    {
     "name": "stdout",
     "output_type": "stream",
     "text": [
      "/workspaces/llm-playground\n"
     ]
    }
   ],
   "source": [
    "!pwd"
   ]
  },
  {
   "cell_type": "code",
   "execution_count": 20,
   "metadata": {},
   "outputs": [
    {
     "name": "stdout",
     "output_type": "stream",
     "text": [
      "Working directory changed to: /workspaces/llm-playground/helper/..\n",
      "/workspaces/llm-playground/storage is already a clone of https://huggingface.co/datasets/utensil/storage. Make sure you pull the latest changes with `repo.git_pull()`.\n",
      "To https://huggingface.co/datasets/utensil/storage\n",
      "   7ea436a..39774b0  main -> main\n",
      "\n",
      "Upload succeeded.\n"
     ]
    }
   ],
   "source": [
    "!python helper/upload.py"
   ]
  },
  {
   "cell_type": "code",
   "execution_count": null,
   "metadata": {},
   "outputs": [],
   "source": []
  }
 ],
 "metadata": {
  "kernelspec": {
   "display_name": "Python 3",
   "language": "python",
   "name": "python3"
  },
  "language_info": {
   "codemirror_mode": {
    "name": "ipython",
    "version": 3
   },
   "file_extension": ".py",
   "mimetype": "text/x-python",
   "name": "python",
   "nbconvert_exporter": "python",
   "pygments_lexer": "ipython3",
   "version": "3.10.4"
  },
  "orig_nbformat": 4
 },
 "nbformat": 4,
 "nbformat_minor": 2
}
