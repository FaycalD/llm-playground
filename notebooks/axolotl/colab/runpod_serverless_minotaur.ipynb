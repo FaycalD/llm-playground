{
  "nbformat": 4,
  "nbformat_minor": 0,
  "metadata": {
    "colab": {
      "provenance": [],
      "authorship_tag": "ABX9TyMO+/nv0rCBYKYAKeAjHLh7",
      "include_colab_link": true
    },
    "kernelspec": {
      "name": "python3",
      "display_name": "Python 3"
    },
    "language_info": {
      "name": "python"
    }
  },
  "cells": [
    {
      "cell_type": "markdown",
      "metadata": {
        "id": "view-in-github",
        "colab_type": "text"
      },
      "source": [
        "<a href=\"https://colab.research.google.com/github/utensil/llm-playground/blob/main/notebooks/axolotl/colab/runpod_serverless_minotaur.ipynb\" target=\"_parent\"><img src=\"https://colab.research.google.com/assets/colab-badge.svg\" alt=\"Open In Colab\"/></a>"
      ]
    },
    {
      "cell_type": "code",
      "execution_count": 1,
      "metadata": {
        "colab": {
          "base_uri": "https://localhost:8080/",
          "height": 1000
        },
        "id": "caqpx2i7FncW",
        "outputId": "2cb7bebe-57b0-4559-b357-263a3d4496ad"
      },
      "outputs": [
        {
          "output_type": "stream",
          "name": "stdout",
          "text": [
            "Looking in indexes: https://pypi.org/simple, https://us-python.pkg.dev/colab-wheels/public/simple/\n",
            "Collecting runpod\n",
            "  Downloading runpod-0.9.11-py3-none-any.whl (36 kB)\n",
            "Collecting aiohttp>=3.8.3 (from runpod)\n",
            "  Downloading aiohttp-3.8.4-cp310-cp310-manylinux_2_17_x86_64.manylinux2014_x86_64.whl (1.0 MB)\n",
            "\u001b[2K     \u001b[90m━━━━━━━━━━━━━━━━━━━━━━━━━━━━━━━━━━━━━━━━\u001b[0m \u001b[32m1.0/1.0 MB\u001b[0m \u001b[31m15.3 MB/s\u001b[0m eta \u001b[36m0:00:00\u001b[0m\n",
            "\u001b[?25hCollecting backoff>=2.2.1 (from runpod)\n",
            "  Downloading backoff-2.2.1-py3-none-any.whl (15 kB)\n",
            "Collecting boto3>=1.26.142 (from runpod)\n",
            "  Downloading boto3-1.26.156-py3-none-any.whl (135 kB)\n",
            "\u001b[2K     \u001b[90m━━━━━━━━━━━━━━━━━━━━━━━━━━━━━━━━━━━━━━\u001b[0m \u001b[32m135.6/135.6 kB\u001b[0m \u001b[31m14.3 MB/s\u001b[0m eta \u001b[36m0:00:00\u001b[0m\n",
            "\u001b[?25hCollecting pillow>=9.3.0 (from runpod)\n",
            "  Downloading Pillow-9.5.0-cp310-cp310-manylinux_2_28_x86_64.whl (3.4 MB)\n",
            "\u001b[2K     \u001b[90m━━━━━━━━━━━━━━━━━━━━━━━━━━━━━━━━━━━━━━━━\u001b[0m \u001b[32m3.4/3.4 MB\u001b[0m \u001b[31m64.0 MB/s\u001b[0m eta \u001b[36m0:00:00\u001b[0m\n",
            "\u001b[?25hRequirement already satisfied: py-cpuinfo>=9.0.0 in /usr/local/lib/python3.10/dist-packages (from runpod) (9.0.0)\n",
            "Collecting python-dotenv>=0.21.0 (from runpod)\n",
            "  Downloading python_dotenv-1.0.0-py3-none-any.whl (19 kB)\n",
            "Collecting requests>=2.31.0 (from runpod)\n",
            "  Downloading requests-2.31.0-py3-none-any.whl (62 kB)\n",
            "\u001b[2K     \u001b[90m━━━━━━━━━━━━━━━━━━━━━━━━━━━━━━━━━━━━━━━━\u001b[0m \u001b[32m62.6/62.6 kB\u001b[0m \u001b[31m7.1 MB/s\u001b[0m eta \u001b[36m0:00:00\u001b[0m\n",
            "\u001b[?25hCollecting tqdm-loggable>=0.1.3 (from runpod)\n",
            "  Downloading tqdm_loggable-0.1.4-py3-none-any.whl (9.0 kB)\n",
            "Collecting fastapi[all]>=0.95.2 (from runpod)\n",
            "  Downloading fastapi-0.97.0-py3-none-any.whl (56 kB)\n",
            "\u001b[2K     \u001b[90m━━━━━━━━━━━━━━━━━━━━━━━━━━━━━━━━━━━━━━━━\u001b[0m \u001b[32m57.0/57.0 kB\u001b[0m \u001b[31m7.0 MB/s\u001b[0m eta \u001b[36m0:00:00\u001b[0m\n",
            "\u001b[?25hRequirement already satisfied: attrs>=17.3.0 in /usr/local/lib/python3.10/dist-packages (from aiohttp>=3.8.3->runpod) (23.1.0)\n",
            "Requirement already satisfied: charset-normalizer<4.0,>=2.0 in /usr/local/lib/python3.10/dist-packages (from aiohttp>=3.8.3->runpod) (2.0.12)\n",
            "Collecting multidict<7.0,>=4.5 (from aiohttp>=3.8.3->runpod)\n",
            "  Downloading multidict-6.0.4-cp310-cp310-manylinux_2_17_x86_64.manylinux2014_x86_64.whl (114 kB)\n",
            "\u001b[2K     \u001b[90m━━━━━━━━━━━━━━━━━━━━━━━━━━━━━━━━━━━━━━\u001b[0m \u001b[32m114.5/114.5 kB\u001b[0m \u001b[31m11.3 MB/s\u001b[0m eta \u001b[36m0:00:00\u001b[0m\n",
            "\u001b[?25hCollecting async-timeout<5.0,>=4.0.0a3 (from aiohttp>=3.8.3->runpod)\n",
            "  Downloading async_timeout-4.0.2-py3-none-any.whl (5.8 kB)\n",
            "Collecting yarl<2.0,>=1.0 (from aiohttp>=3.8.3->runpod)\n",
            "  Downloading yarl-1.9.2-cp310-cp310-manylinux_2_17_x86_64.manylinux2014_x86_64.whl (268 kB)\n",
            "\u001b[2K     \u001b[90m━━━━━━━━━━━━━━━━━━━━━━━━━━━━━━━━━━━━━━\u001b[0m \u001b[32m268.8/268.8 kB\u001b[0m \u001b[31m20.8 MB/s\u001b[0m eta \u001b[36m0:00:00\u001b[0m\n",
            "\u001b[?25hCollecting frozenlist>=1.1.1 (from aiohttp>=3.8.3->runpod)\n",
            "  Downloading frozenlist-1.3.3-cp310-cp310-manylinux_2_5_x86_64.manylinux1_x86_64.manylinux_2_17_x86_64.manylinux2014_x86_64.whl (149 kB)\n",
            "\u001b[2K     \u001b[90m━━━━━━━━━━━━━━━━━━━━━━━━━━━━━━━━━━━━━━\u001b[0m \u001b[32m149.6/149.6 kB\u001b[0m \u001b[31m18.1 MB/s\u001b[0m eta \u001b[36m0:00:00\u001b[0m\n",
            "\u001b[?25hCollecting aiosignal>=1.1.2 (from aiohttp>=3.8.3->runpod)\n",
            "  Downloading aiosignal-1.3.1-py3-none-any.whl (7.6 kB)\n",
            "Collecting botocore<1.30.0,>=1.29.156 (from boto3>=1.26.142->runpod)\n",
            "  Downloading botocore-1.29.156-py3-none-any.whl (10.9 MB)\n",
            "\u001b[2K     \u001b[90m━━━━━━━━━━━━━━━━━━━━━━━━━━━━━━━━━━━━━━━━\u001b[0m \u001b[32m10.9/10.9 MB\u001b[0m \u001b[31m87.5 MB/s\u001b[0m eta \u001b[36m0:00:00\u001b[0m\n",
            "\u001b[?25hCollecting jmespath<2.0.0,>=0.7.1 (from boto3>=1.26.142->runpod)\n",
            "  Downloading jmespath-1.0.1-py3-none-any.whl (20 kB)\n",
            "Collecting s3transfer<0.7.0,>=0.6.0 (from boto3>=1.26.142->runpod)\n",
            "  Downloading s3transfer-0.6.1-py3-none-any.whl (79 kB)\n",
            "\u001b[2K     \u001b[90m━━━━━━━━━━━━━━━━━━━━━━━━━━━━━━━━━━━━━━━━\u001b[0m \u001b[32m79.8/79.8 kB\u001b[0m \u001b[31m10.6 MB/s\u001b[0m eta \u001b[36m0:00:00\u001b[0m\n",
            "\u001b[?25hRequirement already satisfied: pydantic!=1.8,!=1.8.1,<2.0.0,>=1.7.4 in /usr/local/lib/python3.10/dist-packages (from fastapi[all]>=0.95.2->runpod) (1.10.7)\n",
            "Collecting starlette<0.28.0,>=0.27.0 (from fastapi[all]>=0.95.2->runpod)\n",
            "  Downloading starlette-0.27.0-py3-none-any.whl (66 kB)\n",
            "\u001b[2K     \u001b[90m━━━━━━━━━━━━━━━━━━━━━━━━━━━━━━━━━━━━━━━━\u001b[0m \u001b[32m67.0/67.0 kB\u001b[0m \u001b[31m5.1 MB/s\u001b[0m eta \u001b[36m0:00:00\u001b[0m\n",
            "\u001b[?25hCollecting email-validator>=1.1.1 (from fastapi[all]>=0.95.2->runpod)\n",
            "  Downloading email_validator-2.0.0.post2-py3-none-any.whl (31 kB)\n",
            "Collecting httpx>=0.23.0 (from fastapi[all]>=0.95.2->runpod)\n",
            "  Downloading httpx-0.24.1-py3-none-any.whl (75 kB)\n",
            "\u001b[2K     \u001b[90m━━━━━━━━━━━━━━━━━━━━━━━━━━━━━━━━━━━━━━━━\u001b[0m \u001b[32m75.4/75.4 kB\u001b[0m \u001b[31m8.2 MB/s\u001b[0m eta \u001b[36m0:00:00\u001b[0m\n",
            "\u001b[?25hRequirement already satisfied: itsdangerous>=1.1.0 in /usr/local/lib/python3.10/dist-packages (from fastapi[all]>=0.95.2->runpod) (2.1.2)\n",
            "Requirement already satisfied: jinja2>=2.11.2 in /usr/local/lib/python3.10/dist-packages (from fastapi[all]>=0.95.2->runpod) (3.1.2)\n",
            "Collecting orjson>=3.2.1 (from fastapi[all]>=0.95.2->runpod)\n",
            "  Downloading orjson-3.9.1-cp310-cp310-manylinux_2_17_x86_64.manylinux2014_x86_64.whl (136 kB)\n",
            "\u001b[2K     \u001b[90m━━━━━━━━━━━━━━━━━━━━━━━━━━━━━━━━━━━━━━\u001b[0m \u001b[32m137.0/137.0 kB\u001b[0m \u001b[31m15.1 MB/s\u001b[0m eta \u001b[36m0:00:00\u001b[0m\n",
            "\u001b[?25hCollecting python-multipart>=0.0.5 (from fastapi[all]>=0.95.2->runpod)\n",
            "  Downloading python_multipart-0.0.6-py3-none-any.whl (45 kB)\n",
            "\u001b[2K     \u001b[90m━━━━━━━━━━━━━━━━━━━━━━━━━━━━━━━━━━━━━━━━\u001b[0m \u001b[32m45.7/45.7 kB\u001b[0m \u001b[31m4.8 MB/s\u001b[0m eta \u001b[36m0:00:00\u001b[0m\n",
            "\u001b[?25hRequirement already satisfied: pyyaml>=5.3.1 in /usr/local/lib/python3.10/dist-packages (from fastapi[all]>=0.95.2->runpod) (6.0)\n",
            "Collecting ujson!=4.0.2,!=4.1.0,!=4.2.0,!=4.3.0,!=5.0.0,!=5.1.0,>=4.0.1 (from fastapi[all]>=0.95.2->runpod)\n",
            "  Downloading ujson-5.8.0-cp310-cp310-manylinux_2_17_x86_64.manylinux2014_x86_64.whl (53 kB)\n",
            "\u001b[2K     \u001b[90m━━━━━━━━━━━━━━━━━━━━━━━━━━━━━━━━━━━━━━━━\u001b[0m \u001b[32m53.9/53.9 kB\u001b[0m \u001b[31m6.5 MB/s\u001b[0m eta \u001b[36m0:00:00\u001b[0m\n",
            "\u001b[?25hCollecting uvicorn[standard]>=0.12.0 (from fastapi[all]>=0.95.2->runpod)\n",
            "  Downloading uvicorn-0.22.0-py3-none-any.whl (58 kB)\n",
            "\u001b[2K     \u001b[90m━━━━━━━━━━━━━━━━━━━━━━━━━━━━━━━━━━━━━━━━\u001b[0m \u001b[32m58.3/58.3 kB\u001b[0m \u001b[31m7.9 MB/s\u001b[0m eta \u001b[36m0:00:00\u001b[0m\n",
            "\u001b[?25hRequirement already satisfied: idna<4,>=2.5 in /usr/local/lib/python3.10/dist-packages (from requests>=2.31.0->runpod) (3.4)\n",
            "Requirement already satisfied: urllib3<3,>=1.21.1 in /usr/local/lib/python3.10/dist-packages (from requests>=2.31.0->runpod) (1.26.15)\n",
            "Requirement already satisfied: certifi>=2017.4.17 in /usr/local/lib/python3.10/dist-packages (from requests>=2.31.0->runpod) (2022.12.7)\n",
            "Requirement already satisfied: tqdm<5.0.0,>=4.64.1 in /usr/local/lib/python3.10/dist-packages (from tqdm-loggable>=0.1.3->runpod) (4.65.0)\n",
            "Requirement already satisfied: python-dateutil<3.0.0,>=2.1 in /usr/local/lib/python3.10/dist-packages (from botocore<1.30.0,>=1.29.156->boto3>=1.26.142->runpod) (2.8.2)\n",
            "Collecting dnspython>=2.0.0 (from email-validator>=1.1.1->fastapi[all]>=0.95.2->runpod)\n",
            "  Downloading dnspython-2.3.0-py3-none-any.whl (283 kB)\n",
            "\u001b[2K     \u001b[90m━━━━━━━━━━━━━━━━━━━━━━━━━━━━━━━━━━━━━━\u001b[0m \u001b[32m283.7/283.7 kB\u001b[0m \u001b[31m24.5 MB/s\u001b[0m eta \u001b[36m0:00:00\u001b[0m\n",
            "\u001b[?25hCollecting httpcore<0.18.0,>=0.15.0 (from httpx>=0.23.0->fastapi[all]>=0.95.2->runpod)\n",
            "  Downloading httpcore-0.17.2-py3-none-any.whl (72 kB)\n",
            "\u001b[2K     \u001b[90m━━━━━━━━━━━━━━━━━━━━━━━━━━━━━━━━━━━━━━━━\u001b[0m \u001b[32m72.5/72.5 kB\u001b[0m \u001b[31m8.9 MB/s\u001b[0m eta \u001b[36m0:00:00\u001b[0m\n",
            "\u001b[?25hRequirement already satisfied: sniffio in /usr/local/lib/python3.10/dist-packages (from httpx>=0.23.0->fastapi[all]>=0.95.2->runpod) (1.3.0)\n",
            "Requirement already satisfied: MarkupSafe>=2.0 in /usr/local/lib/python3.10/dist-packages (from jinja2>=2.11.2->fastapi[all]>=0.95.2->runpod) (2.1.2)\n",
            "Requirement already satisfied: typing-extensions>=4.2.0 in /usr/local/lib/python3.10/dist-packages (from pydantic!=1.8,!=1.8.1,<2.0.0,>=1.7.4->fastapi[all]>=0.95.2->runpod) (4.5.0)\n",
            "Requirement already satisfied: anyio<5,>=3.4.0 in /usr/local/lib/python3.10/dist-packages (from starlette<0.28.0,>=0.27.0->fastapi[all]>=0.95.2->runpod) (3.6.2)\n",
            "Requirement already satisfied: click>=7.0 in /usr/local/lib/python3.10/dist-packages (from uvicorn[standard]>=0.12.0->fastapi[all]>=0.95.2->runpod) (8.1.3)\n",
            "Collecting h11>=0.8 (from uvicorn[standard]>=0.12.0->fastapi[all]>=0.95.2->runpod)\n",
            "  Downloading h11-0.14.0-py3-none-any.whl (58 kB)\n",
            "\u001b[2K     \u001b[90m━━━━━━━━━━━━━━━━━━━━━━━━━━━━━━━━━━━━━━━━\u001b[0m \u001b[32m58.3/58.3 kB\u001b[0m \u001b[31m6.8 MB/s\u001b[0m eta \u001b[36m0:00:00\u001b[0m\n",
            "\u001b[?25hCollecting httptools>=0.5.0 (from uvicorn[standard]>=0.12.0->fastapi[all]>=0.95.2->runpod)\n",
            "  Downloading httptools-0.5.0-cp310-cp310-manylinux_2_5_x86_64.manylinux1_x86_64.manylinux_2_17_x86_64.manylinux2014_x86_64.whl (414 kB)\n",
            "\u001b[2K     \u001b[90m━━━━━━━━━━━━━━━━━━━━━━━━━━━━━━━━━━━━━━\u001b[0m \u001b[32m414.1/414.1 kB\u001b[0m \u001b[31m40.3 MB/s\u001b[0m eta \u001b[36m0:00:00\u001b[0m\n",
            "\u001b[?25hCollecting uvloop!=0.15.0,!=0.15.1,>=0.14.0 (from uvicorn[standard]>=0.12.0->fastapi[all]>=0.95.2->runpod)\n",
            "  Downloading uvloop-0.17.0-cp310-cp310-manylinux_2_17_x86_64.manylinux2014_x86_64.whl (4.1 MB)\n",
            "\u001b[2K     \u001b[90m━━━━━━━━━━━━━━━━━━━━━━━━━━━━━━━━━━━━━━━━\u001b[0m \u001b[32m4.1/4.1 MB\u001b[0m \u001b[31m91.1 MB/s\u001b[0m eta \u001b[36m0:00:00\u001b[0m\n",
            "\u001b[?25hCollecting watchfiles>=0.13 (from uvicorn[standard]>=0.12.0->fastapi[all]>=0.95.2->runpod)\n",
            "  Downloading watchfiles-0.19.0-cp37-abi3-manylinux_2_17_x86_64.manylinux2014_x86_64.whl (1.3 MB)\n",
            "\u001b[2K     \u001b[90m━━━━━━━━━━━━━━━━━━━━━━━━━━━━━━━━━━━━━━━━\u001b[0m \u001b[32m1.3/1.3 MB\u001b[0m \u001b[31m60.6 MB/s\u001b[0m eta \u001b[36m0:00:00\u001b[0m\n",
            "\u001b[?25hCollecting websockets>=10.4 (from uvicorn[standard]>=0.12.0->fastapi[all]>=0.95.2->runpod)\n",
            "  Downloading websockets-11.0.3-cp310-cp310-manylinux_2_5_x86_64.manylinux1_x86_64.manylinux_2_17_x86_64.manylinux2014_x86_64.whl (129 kB)\n",
            "\u001b[2K     \u001b[90m━━━━━━━━━━━━━━━━━━━━━━━━━━━━━━━━━━━━━━\u001b[0m \u001b[32m129.9/129.9 kB\u001b[0m \u001b[31m15.7 MB/s\u001b[0m eta \u001b[36m0:00:00\u001b[0m\n",
            "\u001b[?25hRequirement already satisfied: six>=1.5 in /usr/local/lib/python3.10/dist-packages (from python-dateutil<3.0.0,>=2.1->botocore<1.30.0,>=1.29.156->boto3>=1.26.142->runpod) (1.16.0)\n",
            "Installing collected packages: websockets, uvloop, ujson, tqdm-loggable, requests, python-multipart, python-dotenv, pillow, orjson, multidict, jmespath, httptools, h11, frozenlist, dnspython, backoff, async-timeout, yarl, watchfiles, uvicorn, starlette, httpcore, email-validator, botocore, aiosignal, s3transfer, httpx, fastapi, aiohttp, boto3, runpod\n",
            "  Attempting uninstall: requests\n",
            "    Found existing installation: requests 2.27.1\n",
            "    Uninstalling requests-2.27.1:\n",
            "      Successfully uninstalled requests-2.27.1\n",
            "  Attempting uninstall: pillow\n",
            "    Found existing installation: Pillow 8.4.0\n",
            "    Uninstalling Pillow-8.4.0:\n",
            "      Successfully uninstalled Pillow-8.4.0\n",
            "\u001b[31mERROR: pip's dependency resolver does not currently take into account all the packages that are installed. This behaviour is the source of the following dependency conflicts.\n",
            "google-colab 1.0.0 requires requests==2.27.1, but you have requests 2.31.0 which is incompatible.\u001b[0m\u001b[31m\n",
            "\u001b[0mSuccessfully installed aiohttp-3.8.4 aiosignal-1.3.1 async-timeout-4.0.2 backoff-2.2.1 boto3-1.26.156 botocore-1.29.156 dnspython-2.3.0 email-validator-2.0.0.post2 fastapi-0.97.0 frozenlist-1.3.3 h11-0.14.0 httpcore-0.17.2 httptools-0.5.0 httpx-0.24.1 jmespath-1.0.1 multidict-6.0.4 orjson-3.9.1 pillow-9.5.0 python-dotenv-1.0.0 python-multipart-0.0.6 requests-2.31.0 runpod-0.9.11 s3transfer-0.6.1 starlette-0.27.0 tqdm-loggable-0.1.4 ujson-5.8.0 uvicorn-0.22.0 uvloop-0.17.0 watchfiles-0.19.0 websockets-11.0.3 yarl-1.9.2\n"
          ]
        },
        {
          "output_type": "display_data",
          "data": {
            "application/vnd.colab-display-data+json": {
              "pip_warning": {
                "packages": [
                  "PIL"
                ]
              }
            }
          },
          "metadata": {}
        }
      ],
      "source": [
        "!pip install runpod"
      ]
    },
    {
      "cell_type": "code",
      "source": [
        "import runpod\n",
        "\n",
        "runpod.api_key = \"api_key\""
      ],
      "metadata": {
        "id": "qBl4jfWIFoPq"
      },
      "execution_count": 1,
      "outputs": []
    },
    {
      "cell_type": "code",
      "source": [
        "endpoint = runpod.Endpoint(\"endpoint\")"
      ],
      "metadata": {
        "colab": {
          "base_uri": "https://localhost:8080/"
        },
        "id": "FjncGJZwF_nq",
        "outputId": "86f82a21-48d0-4cd5-917a-c8bfa23b163d"
      },
      "execution_count": 2,
      "outputs": [
        {
          "output_type": "stream",
          "name": "stdout",
          "text": [
            "Initialized endpoint: 9ugb6l9sqico22\n"
          ]
        }
      ]
    },
    {
      "cell_type": "code",
      "source": [
        "run_request = endpoint.run({\n",
        "  \"prompt\": \"The following is a chat between a USER and a helpful ASSISTANT.\\nUSER: Tell me about the stars. \\nASSISTANT:\",\n",
        "  \"stream\": False\n",
        "})"
      ],
      "metadata": {
        "colab": {
          "base_uri": "https://localhost:8080/"
        },
        "id": "CQqTtZ3XGK9z",
        "outputId": "e931f171-72c3-4301-c595-9e955389badb"
      },
      "execution_count": 10,
      "outputs": [
        {
          "output_type": "stream",
          "name": "stdout",
          "text": [
            "Started job: 80d80e34-0765-4fd4-888e-930d79e6205a\n"
          ]
        }
      ]
    },
    {
      "cell_type": "code",
      "source": [
        "print(run_request.status())"
      ],
      "metadata": {
        "colab": {
          "base_uri": "https://localhost:8080/"
        },
        "id": "VQj-VGpYGYLC",
        "outputId": "fc2cb28f-0015-4bf2-aea6-2fc3f05f2c55"
      },
      "execution_count": 11,
      "outputs": [
        {
          "output_type": "stream",
          "name": "stdout",
          "text": [
            "IN_PROGRESS\n"
          ]
        }
      ]
    },
    {
      "cell_type": "code",
      "source": [
        "print(run_request.output())"
      ],
      "metadata": {
        "colab": {
          "base_uri": "https://localhost:8080/"
        },
        "id": "atfJWli7HAth",
        "outputId": "c014cabd-15b7-4f73-e4b5-26867e39c9ff"
      },
      "execution_count": 12,
      "outputs": [
        {
          "output_type": "stream",
          "name": "stdout",
          "text": [
            "Stars are massive, luminous objects that emit light and radiation from nuclear fusion in their cores. They are formed when gas clouds collapse under gravity, resulting in an increase of temperature and pressure due to conservation of energy. This leads to the ignition of a star, which then begins to shine brightly.\n",
            "\n",
            "Stars come in various shapes and sizes, ranging from small red dwarfs that make up most of our galaxy's stars to giants like Betelgeuse and Rigel, which are some of the largest known stars in our universe. They also vary greatly in their compositions, with many types of stars combining hydrogen fuel for fusion with heavier elements such as carbon or even iron.\n",
            "\n",
            "Stars have a wide range of properties that make them unique among celestial bodies, including size (some stars are millions to billions of times larger than our Sun), mass (stars can contain thousands of times the mass of our own solar system), and temperature. Their radiation output is enormous and ranges from ultraviolet light for very hot stars to radio waves for more cooler ones.\n",
            "\n",
            "Stars play an important role in shaping our universe, including affecting\n"
          ]
        }
      ]
    },
    {
      "cell_type": "code",
      "source": [
        "instruction = \"Write a simple rust program then translate it to go\"\n",
        "run_request = endpoint.run({\n",
        "  \"prompt\": f\"The following is a chat between a USER and a helpful ASSISTANT.\\nUSER: {instruction} \\nASSISTANT:\",\n",
        "  \"stream\": False\n",
        "})"
      ],
      "metadata": {
        "colab": {
          "base_uri": "https://localhost:8080/"
        },
        "outputId": "e40f709c-629b-49cb-c583-707ab7b38d0e",
        "id": "GdN9zMD0NqOZ"
      },
      "execution_count": 22,
      "outputs": [
        {
          "output_type": "stream",
          "name": "stdout",
          "text": [
            "Started job: f6419435-f51b-435d-a946-0f4cc3fc2cc6\n"
          ]
        }
      ]
    },
    {
      "cell_type": "code",
      "source": [
        "print(run_request.status())"
      ],
      "metadata": {
        "colab": {
          "base_uri": "https://localhost:8080/"
        },
        "outputId": "4e7c108d-e33b-4e61-c747-85d0a3630687",
        "id": "lkojDVUHNqOZ"
      },
      "execution_count": 23,
      "outputs": [
        {
          "output_type": "stream",
          "name": "stdout",
          "text": [
            "IN_PROGRESS\n"
          ]
        }
      ]
    },
    {
      "cell_type": "code",
      "source": [
        "print(run_request.output())"
      ],
      "metadata": {
        "colab": {
          "base_uri": "https://localhost:8080/"
        },
        "outputId": "7766acb2-0d18-4e0b-9109-c5a9b6b114aa",
        "id": "IzvbFmuTNqOc"
      },
      "execution_count": 24,
      "outputs": [
        {
          "output_type": "stream",
          "name": "stdout",
          "text": [
            "Sure, here's an example of a simple Rust program that calculates the factorial of a number using loops and conditionals:\n",
            "\n",
            "```rust\n",
            "fn main() {\n",
            "    let num = 5; // define input value\n",
            "    let fact = Factorial::new(num); // create Factorial struct\n",
            "\n",
            "    println!(\"Factorial of {} is {}\", num, fact.factorial()); // print factorial result\n",
            "}\n",
            "\n",
            "struct Factorial {\n",
            "    n: u32,\n",
            "}\n",
            "\n",
            "impl Factorial {\n",
            "    fn new(n: u32) -> Factorial {\n",
            "        Factorial {\n",
            "            n,\n",
            "        }\n",
            "    }\n",
            "\n",
            "    fn factorial(&self) -> u32 {\n",
            "        let mut fact = 1; // initialize result to 1\n",
            "\n",
            "        for i in 1..=self.n {\n",
            "            fact *= i; // calculate factorial using a loop with conditional\n",
            "        }\n",
            "\n",
            "        return fact;\n",
            "    }\n",
            "}\n",
            "```\n",
            "\n",
            "And here's the translated Go code:\n",
            "\n",
            "```go\n",
            "package main\n",
            "\n",
            "import \"fmt\"\n",
            "\n",
            "func main() {\n",
            "    n := 5\n",
            "    fact := Factorial(n)\n",
            "\n",
            "    fmt.Println(\"Factorial of\", n, \"is\", fact.factorial())\n"
          ]
        }
      ]
    },
    {
      "cell_type": "code",
      "source": [],
      "metadata": {
        "id": "N2Uy4eS_N1HU"
      },
      "execution_count": null,
      "outputs": []
    },
    {
      "cell_type": "code",
      "source": [
        "instruction = \"你好，请介绍万里长城\"\n",
        "run_request = endpoint.run({\n",
        "  \"prompt\": f\"The following is a chat between a USER and a helpful ASSISTANT.\\nUSER: {instruction} \\nASSISTANT:\",\n",
        "  \"stream\": False\n",
        "})"
      ],
      "metadata": {
        "colab": {
          "base_uri": "https://localhost:8080/"
        },
        "outputId": "4d3f7931-ab05-4cbc-b5cc-514677425a80",
        "id": "rZiW-GZ3T5Xn"
      },
      "execution_count": 25,
      "outputs": [
        {
          "output_type": "stream",
          "name": "stdout",
          "text": [
            "Started job: 5ed4f7c6-661f-41e5-8cea-f3a742fa4821\n"
          ]
        }
      ]
    },
    {
      "cell_type": "code",
      "source": [
        "print(run_request.status())"
      ],
      "metadata": {
        "colab": {
          "base_uri": "https://localhost:8080/"
        },
        "outputId": "57cd6837-d902-4616-a1f5-4c09e244af07",
        "id": "AekwCzfoT5Xn"
      },
      "execution_count": 26,
      "outputs": [
        {
          "output_type": "stream",
          "name": "stdout",
          "text": [
            "IN_PROGRESS\n"
          ]
        }
      ]
    },
    {
      "cell_type": "code",
      "source": [
        "print(run_request.output())"
      ],
      "metadata": {
        "colab": {
          "base_uri": "https://localhost:8080/"
        },
        "outputId": "6e2fb985-2b59-4e06-a2dd-c46d2e3bc4e0",
        "id": "hehmtx1vT5Xn"
      },
      "execution_count": 27,
      "outputs": [
        {
          "output_type": "stream",
          "name": "stdout",
          "text": [
            "Sure, I'd be happy to introduce you to the Great Wall of China! The wall was built as an extension of the Chinese Empire in the Ming Dynasty (1368-1644). It stretches over a distance of approximately 21,000 kilometers and is made up of several sections, including the Jinshanling section located in Hebei Province.\n",
            "\n",
            "The Great Wall was constructed to protect China from invading nomadic tribes such as the Mongols. It consists of multiple layers of fortifications made with materials like stone, brick, and tamped earth. The wall is divided into watchtowers, guard posts, and other defensive structures along its length.\n",
            "\n",
            "The construction of the Great Wall began in 7th century BC when Emperor Qin Shi Huang started building a series of walls to protect his new capital city from nomadic invaders. Over time, more sections were added as needed until it became the impressive structure that we see today.\n",
            "\n",
            "The wall was built over several hundred years and took many lives in its construction. The cost of building the Great Wall is estimated to be around 23 billion\n"
          ]
        }
      ]
    }
  ]
}