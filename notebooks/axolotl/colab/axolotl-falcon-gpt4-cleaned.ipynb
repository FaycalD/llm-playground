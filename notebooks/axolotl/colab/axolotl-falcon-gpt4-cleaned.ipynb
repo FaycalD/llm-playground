{
  "nbformat": 4,
  "nbformat_minor": 0,
  "metadata": {
    "colab": {
      "provenance": [],
      "toc_visible": true,
      "gpuType": "T4",
      "authorship_tag": "ABX9TyP0jHt4WNuLaC5ecmX0YtWl",
      "include_colab_link": true
    },
    "kernelspec": {
      "name": "python3",
      "display_name": "Python 3"
    },
    "language_info": {
      "name": "python"
    },
    "accelerator": "GPU"
  },
  "cells": [
    {
      "cell_type": "markdown",
      "metadata": {
        "id": "view-in-github",
        "colab_type": "text"
      },
      "source": [
        "<a href=\"https://colab.research.google.com/github/utensil/llm-playground/blob/main/axolotlp_falcon_colab.ipynb\" target=\"_parent\"><img src=\"https://colab.research.google.com/assets/colab-badge.svg\" alt=\"Open In Colab\"/></a>"
      ]
    },
    {
      "cell_type": "code",
      "source": [
        "!apt update"
      ],
      "metadata": {
        "colab": {
          "base_uri": "https://localhost:8080/"
        },
        "id": "985rCLJuoQ-d",
        "outputId": "670c3232-8f9b-49c3-8f63-d01af937499e"
      },
      "execution_count": 1,
      "outputs": [
        {
          "output_type": "stream",
          "name": "stdout",
          "text": [
            "Hit:1 http://archive.ubuntu.com/ubuntu focal InRelease\n",
            "Get:2 http://archive.ubuntu.com/ubuntu focal-updates InRelease [114 kB]\n",
            "Get:3 http://archive.ubuntu.com/ubuntu focal-backports InRelease [108 kB]\n",
            "Get:4 http://security.ubuntu.com/ubuntu focal-security InRelease [114 kB]\n",
            "Get:5 https://cloud.r-project.org/bin/linux/ubuntu focal-cran40/ InRelease [3,622 B]\n",
            "Get:6 http://ppa.launchpad.net/c2d4u.team/c2d4u4.0+/ubuntu focal InRelease [18.1 kB]\n",
            "Hit:7 http://ppa.launchpad.net/cran/libgit2/ubuntu focal InRelease\n",
            "Hit:8 http://ppa.launchpad.net/deadsnakes/ppa/ubuntu focal InRelease\n",
            "Hit:9 http://ppa.launchpad.net/graphics-drivers/ppa/ubuntu focal InRelease\n",
            "Hit:10 http://ppa.launchpad.net/ubuntugis/ppa/ubuntu focal InRelease\n",
            "Hit:11 https://developer.download.nvidia.com/compute/cuda/repos/ubuntu2004/x86_64  InRelease\n",
            "Get:12 http://archive.ubuntu.com/ubuntu focal-updates/main amd64 Packages [3,202 kB]\n",
            "Get:13 http://archive.ubuntu.com/ubuntu focal-updates/universe amd64 Packages [1,346 kB]\n",
            "Get:14 http://ppa.launchpad.net/c2d4u.team/c2d4u4.0+/ubuntu focal/main Sources [2,581 kB]\n",
            "Get:15 http://ppa.launchpad.net/c2d4u.team/c2d4u4.0+/ubuntu focal/main amd64 Packages [1,218 kB]\n",
            "Get:16 http://security.ubuntu.com/ubuntu focal-security/universe amd64 Packages [1,051 kB]\n",
            "Fetched 9,755 kB in 3s (3,695 kB/s)\n",
            "Reading package lists... Done\n",
            "Building dependency tree       \n",
            "Reading state information... Done\n",
            "34 packages can be upgraded. Run 'apt list --upgradable' to see them.\n"
          ]
        }
      ]
    },
    {
      "cell_type": "code",
      "source": [
        "!apt install python3.9 python3-pip"
      ],
      "metadata": {
        "colab": {
          "base_uri": "https://localhost:8080/"
        },
        "id": "ZTd-_N9BocWI",
        "outputId": "dcdc316b-01dc-4fba-ef95-79698e3e2528"
      },
      "execution_count": 2,
      "outputs": [
        {
          "output_type": "stream",
          "name": "stdout",
          "text": [
            "Reading package lists... Done\n",
            "Building dependency tree       \n",
            "Reading state information... Done\n",
            "The following additional packages will be installed:\n",
            "  libpython3.9-minimal libpython3.9-stdlib python-pip-whl python3-setuptools\n",
            "  python3-wheel python3.9-minimal\n",
            "Suggested packages:\n",
            "  python-setuptools-doc python3.9-venv binfmt-support\n",
            "The following NEW packages will be installed:\n",
            "  libpython3.9-minimal libpython3.9-stdlib python-pip-whl python3-pip\n",
            "  python3-setuptools python3-wheel python3.9 python3.9-minimal\n",
            "0 upgraded, 8 newly installed, 0 to remove and 34 not upgraded.\n",
            "Need to get 7,412 kB of archives.\n",
            "After this operation, 24.6 MB of additional disk space will be used.\n",
            "Get:1 http://archive.ubuntu.com/ubuntu focal-updates/universe amd64 python-pip-whl all 20.0.2-5ubuntu1.8 [1,805 kB]\n",
            "Get:2 http://ppa.launchpad.net/deadsnakes/ppa/ubuntu focal/main amd64 libpython3.9-minimal amd64 3.9.16-1+focal1 [804 kB]\n",
            "Get:3 http://ppa.launchpad.net/deadsnakes/ppa/ubuntu focal/main amd64 python3.9-minimal amd64 3.9.16-1+focal1 [2,062 kB]\n",
            "Get:4 http://archive.ubuntu.com/ubuntu focal-updates/main amd64 python3-setuptools all 45.2.0-1ubuntu0.1 [330 kB]\n",
            "Get:5 http://archive.ubuntu.com/ubuntu focal-updates/universe amd64 python3-wheel all 0.34.2-1ubuntu0.1 [23.9 kB]\n",
            "Get:6 http://archive.ubuntu.com/ubuntu focal-updates/universe amd64 python3-pip all 20.0.2-5ubuntu1.8 [231 kB]\n",
            "Get:7 http://ppa.launchpad.net/deadsnakes/ppa/ubuntu focal/main amd64 libpython3.9-stdlib amd64 3.9.16-1+focal1 [1,662 kB]\n",
            "Get:8 http://ppa.launchpad.net/deadsnakes/ppa/ubuntu focal/main amd64 python3.9 amd64 3.9.16-1+focal1 [495 kB]\n",
            "Fetched 7,412 kB in 0s (19.0 MB/s)\n",
            "Selecting previously unselected package libpython3.9-minimal:amd64.\n",
            "(Reading database ... 122545 files and directories currently installed.)\n",
            "Preparing to unpack .../0-libpython3.9-minimal_3.9.16-1+focal1_amd64.deb ...\n",
            "Unpacking libpython3.9-minimal:amd64 (3.9.16-1+focal1) ...\n",
            "Selecting previously unselected package python3.9-minimal.\n",
            "Preparing to unpack .../1-python3.9-minimal_3.9.16-1+focal1_amd64.deb ...\n",
            "Unpacking python3.9-minimal (3.9.16-1+focal1) ...\n",
            "Selecting previously unselected package libpython3.9-stdlib:amd64.\n",
            "Preparing to unpack .../2-libpython3.9-stdlib_3.9.16-1+focal1_amd64.deb ...\n",
            "Unpacking libpython3.9-stdlib:amd64 (3.9.16-1+focal1) ...\n",
            "Selecting previously unselected package python-pip-whl.\n",
            "Preparing to unpack .../3-python-pip-whl_20.0.2-5ubuntu1.8_all.deb ...\n",
            "Unpacking python-pip-whl (20.0.2-5ubuntu1.8) ...\n",
            "Selecting previously unselected package python3-setuptools.\n",
            "Preparing to unpack .../4-python3-setuptools_45.2.0-1ubuntu0.1_all.deb ...\n",
            "Unpacking python3-setuptools (45.2.0-1ubuntu0.1) ...\n",
            "Selecting previously unselected package python3-wheel.\n",
            "Preparing to unpack .../5-python3-wheel_0.34.2-1ubuntu0.1_all.deb ...\n",
            "Unpacking python3-wheel (0.34.2-1ubuntu0.1) ...\n",
            "Selecting previously unselected package python3-pip.\n",
            "Preparing to unpack .../6-python3-pip_20.0.2-5ubuntu1.8_all.deb ...\n",
            "Unpacking python3-pip (20.0.2-5ubuntu1.8) ...\n",
            "Selecting previously unselected package python3.9.\n",
            "Preparing to unpack .../7-python3.9_3.9.16-1+focal1_amd64.deb ...\n",
            "Unpacking python3.9 (3.9.16-1+focal1) ...\n",
            "Setting up python3-setuptools (45.2.0-1ubuntu0.1) ...\n",
            "Setting up libpython3.9-minimal:amd64 (3.9.16-1+focal1) ...\n",
            "Setting up python3-wheel (0.34.2-1ubuntu0.1) ...\n",
            "Setting up python-pip-whl (20.0.2-5ubuntu1.8) ...\n",
            "Setting up python3.9-minimal (3.9.16-1+focal1) ...\n",
            "Setting up libpython3.9-stdlib:amd64 (3.9.16-1+focal1) ...\n",
            "Setting up python3-pip (20.0.2-5ubuntu1.8) ...\n",
            "Setting up python3.9 (3.9.16-1+focal1) ...\n",
            "Processing triggers for man-db (2.9.1-1) ...\n",
            "Processing triggers for mime-support (3.64ubuntu1) ...\n"
          ]
        }
      ]
    },
    {
      "cell_type": "code",
      "source": [
        "!update-alternatives --install /usr/bin/python3 python3 /usr/bin/python3.9 100"
      ],
      "metadata": {
        "colab": {
          "base_uri": "https://localhost:8080/"
        },
        "id": "WIoxlz5wok3o",
        "outputId": "8497ee81-d982-4852-f611-bd4aa29ec1f2"
      },
      "execution_count": 3,
      "outputs": [
        {
          "output_type": "stream",
          "name": "stdout",
          "text": [
            "update-alternatives: using /usr/bin/python3.9 to provide /usr/bin/python3 (python3) in auto mode\n"
          ]
        }
      ]
    },
    {
      "cell_type": "code",
      "source": [
        "!python3 -V"
      ],
      "metadata": {
        "colab": {
          "base_uri": "https://localhost:8080/"
        },
        "id": "wp6OioEmotH3",
        "outputId": "ad5b5ceb-b24e-4066-b03e-a1e243cc691b"
      },
      "execution_count": 4,
      "outputs": [
        {
          "output_type": "stream",
          "name": "stdout",
          "text": [
            "Python 3.9.16\n"
          ]
        }
      ]
    },
    {
      "cell_type": "code",
      "source": [
        "!pip3 -V"
      ],
      "metadata": {
        "colab": {
          "base_uri": "https://localhost:8080/"
        },
        "id": "9j-yX9N3p_4W",
        "outputId": "60442b58-4a97-4d03-cece-606e12fd8b7d"
      },
      "execution_count": 5,
      "outputs": [
        {
          "output_type": "stream",
          "name": "stdout",
          "text": [
            "pip 20.0.2 from /usr/lib/python3/dist-packages/pip (python 3.9)\n"
          ]
        }
      ]
    },
    {
      "cell_type": "code",
      "source": [
        "!pip install torch --index-url https://download.pytorch.org/whl/cu118"
      ],
      "metadata": {
        "colab": {
          "base_uri": "https://localhost:8080/"
        },
        "id": "5pezTteOTJFg",
        "outputId": "790591eb-a7b8-4fc3-8d2f-7a395161ba51"
      },
      "execution_count": 6,
      "outputs": [
        {
          "output_type": "stream",
          "name": "stdout",
          "text": [
            "Looking in indexes: https://download.pytorch.org/whl/cu118, https://us-python.pkg.dev/colab-wheels/public/simple/\n",
            "Collecting torch\n",
            "  Downloading https://download.pytorch.org/whl/cu118/torch-2.0.1%2Bcu118-cp39-cp39-linux_x86_64.whl (2267.3 MB)\n",
            "\u001b[K     |████████████████████████████████| 2267.3 MB 1.5 kB/s \n",
            "\u001b[?25hCollecting filelock\n",
            "  Downloading https://download.pytorch.org/whl/filelock-3.9.0-py3-none-any.whl (9.7 kB)\n",
            "Collecting networkx\n",
            "  Downloading https://download.pytorch.org/whl/networkx-3.0-py3-none-any.whl (2.0 MB)\n",
            "\u001b[K     |████████████████████████████████| 2.0 MB 17.5 MB/s \n",
            "\u001b[?25hCollecting jinja2\n",
            "  Downloading https://download.pytorch.org/whl/Jinja2-3.1.2-py3-none-any.whl (133 kB)\n",
            "\u001b[K     |████████████████████████████████| 133 kB 70.9 MB/s \n",
            "\u001b[?25hCollecting sympy\n",
            "  Downloading https://download.pytorch.org/whl/sympy-1.11.1-py3-none-any.whl (6.5 MB)\n",
            "\u001b[K     |████████████████████████████████| 6.5 MB 42.0 MB/s \n",
            "\u001b[?25hCollecting triton==2.0.0; platform_system == \"Linux\" and platform_machine == \"x86_64\"\n",
            "  Downloading https://download.pytorch.org/whl/triton-2.0.0-1-cp39-cp39-manylinux2014_x86_64.manylinux_2_17_x86_64.whl (63.3 MB)\n",
            "\u001b[K     |████████████████████████████████| 63.3 MB 79 kB/s \n",
            "\u001b[?25hCollecting typing-extensions\n",
            "  Downloading https://download.pytorch.org/whl/typing_extensions-4.4.0-py3-none-any.whl (26 kB)\n",
            "Collecting MarkupSafe>=2.0\n",
            "  Downloading https://download.pytorch.org/whl/MarkupSafe-2.1.2-cp39-cp39-manylinux_2_17_x86_64.manylinux2014_x86_64.whl (25 kB)\n",
            "Collecting mpmath>=0.19\n",
            "  Downloading https://download.pytorch.org/whl/mpmath-1.2.1-py3-none-any.whl (532 kB)\n",
            "\u001b[K     |████████████████████████████████| 532 kB 71.5 MB/s \n",
            "\u001b[?25hCollecting cmake\n",
            "  Downloading https://download.pytorch.org/whl/cmake-3.25.0-py2.py3-none-manylinux_2_17_x86_64.manylinux2014_x86_64.whl (23.7 MB)\n",
            "\u001b[K     |████████████████████████████████| 23.7 MB 1.3 MB/s \n",
            "\u001b[?25hCollecting lit\n",
            "  Downloading https://download.pytorch.org/whl/lit-15.0.7.tar.gz (132 kB)\n",
            "\u001b[K     |████████████████████████████████| 132 kB 71.2 MB/s \n",
            "\u001b[?25hBuilding wheels for collected packages: lit\n",
            "  Building wheel for lit (setup.py) ... \u001b[?25l\u001b[?25hdone\n",
            "  Created wheel for lit: filename=lit-15.0.7-py3-none-any.whl size=89984 sha256=388dc89c33b459eb86123b6871a12dde65d235459d83938c4d63a9ff86814a82\n",
            "  Stored in directory: /root/.cache/pip/wheels/77/9f/9c/1c3217c66e9f310f11a534c68e168a295d9448999af79d680b\n",
            "Successfully built lit\n",
            "Installing collected packages: filelock, networkx, MarkupSafe, jinja2, mpmath, sympy, cmake, lit, triton, typing-extensions, torch\n",
            "Successfully installed MarkupSafe-2.1.2 cmake-3.25.0 filelock-3.9.0 jinja2-3.1.2 lit-15.0.7 mpmath-1.2.1 networkx-3.0 sympy-1.11.1 torch-2.0.1+cu118 triton-2.0.0 typing-extensions-4.4.0\n"
          ]
        }
      ]
    },
    {
      "cell_type": "code",
      "execution_count": 7,
      "metadata": {
        "colab": {
          "base_uri": "https://localhost:8080/"
        },
        "id": "Bvjxdzg-kVxE",
        "outputId": "5df6962f-6c24-4cb4-9d35-9d6fd603c135"
      },
      "outputs": [
        {
          "output_type": "stream",
          "name": "stdout",
          "text": [
            "Cloning into 'axolotl'...\n",
            "remote: Enumerating objects: 1728, done.\u001b[K\n",
            "remote: Counting objects: 100% (817/817), done.\u001b[K\n",
            "remote: Compressing objects: 100% (235/235), done.\u001b[K\n",
            "remote: Total 1728 (delta 596), reused 712 (delta 522), pack-reused 911\u001b[K\n",
            "Receiving objects: 100% (1728/1728), 1.16 MiB | 10.54 MiB/s, done.\n",
            "Resolving deltas: 100% (1065/1065), done.\n"
          ]
        }
      ],
      "source": [
        "!git clone https://github.com/OpenAccess-AI-Collective/axolotl"
      ]
    },
    {
      "cell_type": "code",
      "source": [
        "!apt install build-essential ninja-build python3.9-dev"
      ],
      "metadata": {
        "colab": {
          "base_uri": "https://localhost:8080/"
        },
        "id": "lwGvBD0YYA0D",
        "outputId": "e2a7ac0e-b78f-46ac-cb7d-84d0f4a8e364"
      },
      "execution_count": 8,
      "outputs": [
        {
          "output_type": "stream",
          "name": "stdout",
          "text": [
            "Reading package lists... Done\n",
            "Building dependency tree       \n",
            "Reading state information... Done\n",
            "build-essential is already the newest version (12.8ubuntu1.1).\n",
            "The following additional packages will be installed:\n",
            "  libpython3.9 libpython3.9-dev\n",
            "The following NEW packages will be installed:\n",
            "  libpython3.9 libpython3.9-dev ninja-build python3.9-dev\n",
            "0 upgraded, 4 newly installed, 0 to remove and 34 not upgraded.\n",
            "Need to get 6,517 kB of archives.\n",
            "After this operation, 27.6 MB of additional disk space will be used.\n",
            "Get:1 http://ppa.launchpad.net/deadsnakes/ppa/ubuntu focal/main amd64 libpython3.9 amd64 3.9.16-1+focal1 [1,715 kB]\n",
            "Get:2 http://archive.ubuntu.com/ubuntu focal/universe amd64 ninja-build amd64 1.10.0-1build1 [107 kB]\n",
            "Get:3 http://ppa.launchpad.net/deadsnakes/ppa/ubuntu focal/main amd64 libpython3.9-dev amd64 3.9.16-1+focal1 [4,195 kB]\n",
            "Get:4 http://ppa.launchpad.net/deadsnakes/ppa/ubuntu focal/main amd64 python3.9-dev amd64 3.9.16-1+focal1 [501 kB]\n",
            "Fetched 6,517 kB in 0s (19.1 MB/s)\n",
            "Selecting previously unselected package libpython3.9:amd64.\n",
            "(Reading database ... 123547 files and directories currently installed.)\n",
            "Preparing to unpack .../libpython3.9_3.9.16-1+focal1_amd64.deb ...\n",
            "Unpacking libpython3.9:amd64 (3.9.16-1+focal1) ...\n",
            "Selecting previously unselected package libpython3.9-dev:amd64.\n",
            "Preparing to unpack .../libpython3.9-dev_3.9.16-1+focal1_amd64.deb ...\n",
            "Unpacking libpython3.9-dev:amd64 (3.9.16-1+focal1) ...\n",
            "Selecting previously unselected package ninja-build.\n",
            "Preparing to unpack .../ninja-build_1.10.0-1build1_amd64.deb ...\n",
            "Unpacking ninja-build (1.10.0-1build1) ...\n",
            "Selecting previously unselected package python3.9-dev.\n",
            "Preparing to unpack .../python3.9-dev_3.9.16-1+focal1_amd64.deb ...\n",
            "Unpacking python3.9-dev (3.9.16-1+focal1) ...\n",
            "Setting up ninja-build (1.10.0-1build1) ...\n",
            "Setting up libpython3.9:amd64 (3.9.16-1+focal1) ...\n",
            "Setting up libpython3.9-dev:amd64 (3.9.16-1+focal1) ...\n",
            "Setting up python3.9-dev (3.9.16-1+focal1) ...\n",
            "Processing triggers for man-db (2.9.1-1) ...\n"
          ]
        }
      ]
    },
    {
      "cell_type": "code",
      "source": [
        "%cd axolotl"
      ],
      "metadata": {
        "colab": {
          "base_uri": "https://localhost:8080/"
        },
        "id": "zJvyUmZdktu0",
        "outputId": "25275dd8-4787-4b77-f7bf-4f2bbe66f0b8"
      },
      "execution_count": 9,
      "outputs": [
        {
          "output_type": "stream",
          "name": "stdout",
          "text": [
            "/content/axolotl\n"
          ]
        }
      ]
    },
    {
      "cell_type": "code",
      "source": [
        "!pip3 install -e .[int4]"
      ],
      "metadata": {
        "colab": {
          "base_uri": "https://localhost:8080/",
          "height": 1000
        },
        "id": "elAr8TUQkfHR",
        "outputId": "477cabe1-5b13-446c-e1fa-0fac10b1cfbd"
      },
      "execution_count": 10,
      "outputs": [
        {
          "output_type": "stream",
          "name": "stdout",
          "text": [
            "Looking in indexes: https://pypi.org/simple, https://us-python.pkg.dev/colab-wheels/public/simple/\n",
            "Obtaining file:///content/axolotl\n",
            "Collecting PyYAML==6.0\n",
            "  Downloading PyYAML-6.0-cp39-cp39-manylinux_2_5_x86_64.manylinux1_x86_64.manylinux_2_12_x86_64.manylinux2010_x86_64.whl (661 kB)\n",
            "\u001b[K     |████████████████████████████████| 661 kB 17.0 MB/s \n",
            "\u001b[?25hCollecting accelerate>=0.19.0\n",
            "  Downloading accelerate-0.19.0-py3-none-any.whl (219 kB)\n",
            "\u001b[K     |████████████████████████████████| 219 kB 76.3 MB/s \n",
            "\u001b[?25hCollecting addict\n",
            "  Downloading addict-2.4.0-py3-none-any.whl (3.8 kB)\n",
            "Collecting bert-score==0.3.13\n",
            "  Downloading bert_score-0.3.13-py3-none-any.whl (61 kB)\n",
            "\u001b[K     |████████████████████████████████| 61 kB 8.8 MB/s \n",
            "\u001b[?25hCollecting bitsandbytes>=0.39.0\n",
            "  Downloading bitsandbytes-0.39.0-py3-none-any.whl (92.2 MB)\n",
            "\u001b[K     |████████████████████████████████| 92.2 MB 140 kB/s \n",
            "\u001b[?25hCollecting black\n",
            "  Downloading black-23.3.0-cp39-cp39-manylinux_2_17_x86_64.manylinux2014_x86_64.whl (1.7 MB)\n",
            "\u001b[K     |████████████████████████████████| 1.7 MB 42.6 MB/s \n",
            "\u001b[?25hCollecting datasets\n",
            "  Downloading datasets-2.12.0-py3-none-any.whl (474 kB)\n",
            "\u001b[K     |████████████████████████████████| 474 kB 61.9 MB/s \n",
            "\u001b[?25hCollecting einops\n",
            "  Downloading einops-0.6.1-py3-none-any.whl (42 kB)\n",
            "\u001b[K     |████████████████████████████████| 42 kB 1.1 MB/s \n",
            "\u001b[?25hCollecting evaluate==0.4.0\n",
            "  Downloading evaluate-0.4.0-py3-none-any.whl (81 kB)\n",
            "\u001b[K     |████████████████████████████████| 81 kB 10.5 MB/s \n",
            "\u001b[?25hCollecting fire\n",
            "  Downloading fire-0.5.0.tar.gz (88 kB)\n",
            "\u001b[K     |████████████████████████████████| 88 kB 8.9 MB/s \n",
            "\u001b[?25hCollecting rouge-score==0.1.2\n",
            "  Downloading rouge_score-0.1.2.tar.gz (17 kB)\n",
            "Collecting scikit-learn==1.2.2\n",
            "  Downloading scikit_learn-1.2.2-cp39-cp39-manylinux_2_17_x86_64.manylinux2014_x86_64.whl (9.6 MB)\n",
            "\u001b[K     |████████████████████████████████| 9.6 MB 69.8 MB/s \n",
            "\u001b[?25hCollecting scipy\n",
            "  Downloading scipy-1.10.1-cp39-cp39-manylinux_2_17_x86_64.manylinux2014_x86_64.whl (34.5 MB)\n",
            "\u001b[K     |████████████████████████████████| 34.5 MB 1.2 MB/s \n",
            "\u001b[?25hCollecting sentencepiece\n",
            "  Downloading sentencepiece-0.1.99-cp39-cp39-manylinux_2_17_x86_64.manylinux2014_x86_64.whl (1.3 MB)\n",
            "\u001b[K     |████████████████████████████████| 1.3 MB 54.6 MB/s \n",
            "\u001b[?25hCollecting transformers@ git+https://github.com/huggingface/transformers.git\n",
            "  Cloning https://github.com/huggingface/transformers.git to /tmp/pip-install-3c28i36d/transformers\n",
            "  Running command git clone -q https://github.com/huggingface/transformers.git /tmp/pip-install-3c28i36d/transformers\n",
            "  Installing build dependencies ... \u001b[?25l\u001b[?25hdone\n",
            "  Getting requirements to build wheel ... \u001b[?25l\u001b[?25hdone\n",
            "    Preparing wheel metadata ... \u001b[?25l\u001b[?25hdone\n",
            "Collecting wandb\n",
            "  Downloading wandb-0.15.3-py3-none-any.whl (2.0 MB)\n",
            "\u001b[K     |████████████████████████████████| 2.0 MB 59.8 MB/s \n",
            "\u001b[?25hCollecting xformers\n",
            "  Downloading xformers-0.0.20-cp39-cp39-manylinux2014_x86_64.whl (109.1 MB)\n",
            "\u001b[K     |████████████████████████████████| 109.1 MB 21 kB/s \n",
            "\u001b[?25hCollecting alpaca_lora_4bit@ git+https://github.com/winglian/alpaca_lora_4bit.git@setup_pip\n",
            "  Cloning https://github.com/winglian/alpaca_lora_4bit.git (to revision setup_pip) to /tmp/pip-install-3c28i36d/alpaca-lora-4bit\n",
            "  Running command git clone -q https://github.com/winglian/alpaca_lora_4bit.git /tmp/pip-install-3c28i36d/alpaca-lora-4bit\n",
            "  Running command git checkout -b setup_pip --track origin/setup_pip\n",
            "  Switched to a new branch 'setup_pip'\n",
            "  Branch 'setup_pip' set up to track remote branch 'setup_pip' from 'origin'.\n",
            "Collecting numpy>=1.17\n",
            "  Downloading numpy-1.24.3-cp39-cp39-manylinux_2_17_x86_64.manylinux2014_x86_64.whl (17.3 MB)\n",
            "\u001b[K     |████████████████████████████████| 17.3 MB 66.6 MB/s \n",
            "\u001b[?25hCollecting packaging>=20.0\n",
            "  Downloading packaging-23.1-py3-none-any.whl (48 kB)\n",
            "\u001b[K     |████████████████████████████████| 48 kB 5.1 MB/s \n",
            "\u001b[?25hCollecting psutil\n",
            "  Downloading psutil-5.9.5-cp36-abi3-manylinux_2_12_x86_64.manylinux2010_x86_64.manylinux_2_17_x86_64.manylinux2014_x86_64.whl (282 kB)\n",
            "\u001b[K     |████████████████████████████████| 282 kB 67.7 MB/s \n",
            "\u001b[?25hRequirement already satisfied: torch>=1.6.0 in /usr/local/lib/python3.9/dist-packages (from accelerate>=0.19.0->axolotl==0.1) (2.0.1+cu118)\n",
            "Collecting pandas>=1.0.1\n",
            "  Downloading pandas-2.0.1-cp39-cp39-manylinux_2_17_x86_64.manylinux2014_x86_64.whl (12.4 MB)\n",
            "\u001b[K     |████████████████████████████████| 12.4 MB 51.6 MB/s \n",
            "\u001b[?25hCollecting requests\n",
            "  Downloading requests-2.31.0-py3-none-any.whl (62 kB)\n",
            "\u001b[K     |████████████████████████████████| 62 kB 1.2 MB/s \n",
            "\u001b[?25hCollecting matplotlib\n",
            "  Downloading matplotlib-3.7.1-cp39-cp39-manylinux_2_17_x86_64.manylinux2014_x86_64.whl (11.6 MB)\n",
            "\u001b[K     |████████████████████████████████| 11.6 MB 60.8 MB/s \n",
            "\u001b[?25hCollecting tqdm>=4.31.1\n",
            "  Downloading tqdm-4.65.0-py3-none-any.whl (77 kB)\n",
            "\u001b[K     |████████████████████████████████| 77 kB 2.6 MB/s \n",
            "\u001b[?25hCollecting pathspec>=0.9.0\n",
            "  Downloading pathspec-0.11.1-py3-none-any.whl (29 kB)\n",
            "Collecting platformdirs>=2\n",
            "  Downloading platformdirs-3.5.1-py3-none-any.whl (15 kB)\n",
            "Requirement already satisfied: typing-extensions>=3.10.0.0; python_version < \"3.10\" in /usr/local/lib/python3.9/dist-packages (from black->axolotl==0.1) (4.4.0)\n",
            "Collecting click>=8.0.0\n",
            "  Downloading click-8.1.3-py3-none-any.whl (96 kB)\n",
            "\u001b[K     |████████████████████████████████| 96 kB 6.9 MB/s \n",
            "\u001b[?25hCollecting tomli>=1.1.0; python_version < \"3.11\"\n",
            "  Downloading tomli-2.0.1-py3-none-any.whl (12 kB)\n",
            "Collecting mypy-extensions>=0.4.3\n",
            "  Downloading mypy_extensions-1.0.0-py3-none-any.whl (4.7 kB)\n",
            "Collecting fsspec[http]>=2021.11.1\n",
            "  Downloading fsspec-2023.5.0-py3-none-any.whl (160 kB)\n",
            "\u001b[K     |████████████████████████████████| 160 kB 83.3 MB/s \n",
            "\u001b[?25hCollecting aiohttp\n",
            "  Downloading aiohttp-3.8.4-cp39-cp39-manylinux_2_17_x86_64.manylinux2014_x86_64.whl (1.0 MB)\n",
            "\u001b[K     |████████████████████████████████| 1.0 MB 74.5 MB/s \n",
            "\u001b[?25hCollecting dill<0.3.7,>=0.3.0\n",
            "  Downloading dill-0.3.6-py3-none-any.whl (110 kB)\n",
            "\u001b[K     |████████████████████████████████| 110 kB 76.2 MB/s \n",
            "\u001b[?25hCollecting huggingface-hub<1.0.0,>=0.11.0\n",
            "  Downloading huggingface_hub-0.14.1-py3-none-any.whl (224 kB)\n",
            "\u001b[K     |████████████████████████████████| 224 kB 63.6 MB/s \n",
            "\u001b[?25hCollecting responses<0.19\n",
            "  Downloading responses-0.18.0-py3-none-any.whl (38 kB)\n",
            "Collecting pyarrow>=8.0.0\n",
            "  Downloading pyarrow-12.0.0-cp39-cp39-manylinux_2_17_x86_64.manylinux2014_x86_64.whl (39.0 MB)\n",
            "\u001b[K     |████████████████████████████████| 39.0 MB 1.2 MB/s \n",
            "\u001b[?25hCollecting multiprocess\n",
            "  Downloading multiprocess-0.70.14-py39-none-any.whl (132 kB)\n",
            "\u001b[K     |████████████████████████████████| 132 kB 82.3 MB/s \n",
            "\u001b[?25hCollecting xxhash\n",
            "  Downloading xxhash-3.2.0-cp39-cp39-manylinux_2_17_x86_64.manylinux2014_x86_64.whl (212 kB)\n",
            "\u001b[K     |████████████████████████████████| 212 kB 81.3 MB/s \n",
            "\u001b[?25hCollecting six\n",
            "  Downloading six-1.16.0-py2.py3-none-any.whl (11 kB)\n",
            "Collecting termcolor\n",
            "  Downloading termcolor-2.3.0-py3-none-any.whl (6.9 kB)\n",
            "Collecting absl-py\n",
            "  Downloading absl_py-1.4.0-py3-none-any.whl (126 kB)\n",
            "\u001b[K     |████████████████████████████████| 126 kB 77.2 MB/s \n",
            "\u001b[?25hCollecting nltk\n",
            "  Downloading nltk-3.8.1-py3-none-any.whl (1.5 MB)\n",
            "\u001b[K     |████████████████████████████████| 1.5 MB 67.4 MB/s \n",
            "\u001b[?25hCollecting threadpoolctl>=2.0.0\n",
            "  Downloading threadpoolctl-3.1.0-py3-none-any.whl (14 kB)\n",
            "Collecting joblib>=1.1.1\n",
            "  Downloading joblib-1.2.0-py3-none-any.whl (297 kB)\n",
            "\u001b[K     |████████████████████████████████| 297 kB 72.1 MB/s \n",
            "\u001b[?25hCollecting tokenizers!=0.11.3,<0.14,>=0.11.1\n",
            "  Downloading tokenizers-0.13.3-cp39-cp39-manylinux_2_17_x86_64.manylinux2014_x86_64.whl (7.8 MB)\n",
            "\u001b[K     |████████████████████████████████| 7.8 MB 57.2 MB/s \n",
            "\u001b[?25hCollecting safetensors>=0.2.1\n",
            "  Downloading safetensors-0.3.1-cp39-cp39-manylinux_2_17_x86_64.manylinux2014_x86_64.whl (1.3 MB)\n",
            "\u001b[K     |████████████████████████████████| 1.3 MB 55.4 MB/s \n",
            "\u001b[?25hRequirement already satisfied: filelock in /usr/local/lib/python3.9/dist-packages (from transformers@ git+https://github.com/huggingface/transformers.git->axolotl==0.1) (3.9.0)\n",
            "Collecting regex!=2019.12.17\n",
            "  Downloading regex-2023.5.5-cp39-cp39-manylinux_2_17_x86_64.manylinux2014_x86_64.whl (769 kB)\n",
            "\u001b[K     |████████████████████████████████| 769 kB 62.0 MB/s \n",
            "\u001b[?25hCollecting appdirs>=1.4.3\n",
            "  Downloading appdirs-1.4.4-py2.py3-none-any.whl (9.6 kB)\n",
            "Collecting sentry-sdk>=1.0.0\n",
            "  Downloading sentry_sdk-1.24.0-py2.py3-none-any.whl (206 kB)\n",
            "\u001b[K     |████████████████████████████████| 206 kB 51.6 MB/s \n",
            "\u001b[?25hCollecting GitPython!=3.1.29,>=1.0.0\n",
            "  Downloading GitPython-3.1.31-py3-none-any.whl (184 kB)\n",
            "\u001b[K     |████████████████████████████████| 184 kB 60.5 MB/s \n",
            "\u001b[?25hCollecting docker-pycreds>=0.4.0\n",
            "  Downloading docker_pycreds-0.4.0-py2.py3-none-any.whl (9.0 kB)\n",
            "Collecting setproctitle\n",
            "  Downloading setproctitle-1.3.2-cp39-cp39-manylinux_2_5_x86_64.manylinux1_x86_64.manylinux_2_17_x86_64.manylinux2014_x86_64.whl (30 kB)\n",
            "Collecting protobuf!=4.21.0,<5,>=3.15.0; python_version == \"3.9\" and sys_platform == \"linux\"\n",
            "  Downloading protobuf-4.23.2-cp37-abi3-manylinux2014_x86_64.whl (304 kB)\n",
            "\u001b[K     |████████████████████████████████| 304 kB 59.5 MB/s \n",
            "\u001b[?25hCollecting pathtools\n",
            "  Downloading pathtools-0.1.2.tar.gz (11 kB)\n",
            "Requirement already satisfied: setuptools in /usr/lib/python3/dist-packages (from wandb->axolotl==0.1) (45.2.0)\n",
            "Collecting pyre-extensions==0.0.29\n",
            "  Downloading pyre_extensions-0.0.29-py3-none-any.whl (12 kB)\n",
            "Collecting colorama\n",
            "  Downloading colorama-0.4.6-py2.py3-none-any.whl (25 kB)\n",
            "Collecting peft@ git+https://github.com/huggingface/peft.git@70af02a2bca5a63921790036b2c9430edf4037e2\n",
            "  Cloning https://github.com/huggingface/peft.git (to revision 70af02a2bca5a63921790036b2c9430edf4037e2) to /tmp/pip-install-3c28i36d/peft\n",
            "  Running command git clone -q https://github.com/huggingface/peft.git /tmp/pip-install-3c28i36d/peft\n",
            "  Running command git checkout -q 70af02a2bca5a63921790036b2c9430edf4037e2\n",
            "  Installing build dependencies ... \u001b[?25l\u001b[?25hdone\n",
            "  Getting requirements to build wheel ... \u001b[?25l\u001b[?25hdone\n",
            "    Preparing wheel metadata ... \u001b[?25l\u001b[?25hdone\n",
            "Requirement already satisfied: sympy in /usr/local/lib/python3.9/dist-packages (from torch>=1.6.0->accelerate>=0.19.0->axolotl==0.1) (1.11.1)\n",
            "Requirement already satisfied: networkx in /usr/local/lib/python3.9/dist-packages (from torch>=1.6.0->accelerate>=0.19.0->axolotl==0.1) (3.0)\n",
            "Requirement already satisfied: jinja2 in /usr/local/lib/python3.9/dist-packages (from torch>=1.6.0->accelerate>=0.19.0->axolotl==0.1) (3.1.2)\n",
            "Requirement already satisfied: triton==2.0.0; platform_system == \"Linux\" and platform_machine == \"x86_64\" in /usr/local/lib/python3.9/dist-packages (from torch>=1.6.0->accelerate>=0.19.0->axolotl==0.1) (2.0.0)\n",
            "Collecting tzdata>=2022.1\n",
            "  Downloading tzdata-2023.3-py2.py3-none-any.whl (341 kB)\n",
            "\u001b[K     |████████████████████████████████| 341 kB 70.7 MB/s \n",
            "\u001b[?25hCollecting pytz>=2020.1\n",
            "  Downloading pytz-2023.3-py2.py3-none-any.whl (502 kB)\n",
            "\u001b[K     |████████████████████████████████| 502 kB 76.2 MB/s \n",
            "\u001b[?25hCollecting python-dateutil>=2.8.2\n",
            "  Downloading python_dateutil-2.8.2-py2.py3-none-any.whl (247 kB)\n",
            "\u001b[K     |████████████████████████████████| 247 kB 78.5 MB/s \n",
            "\u001b[?25hCollecting certifi>=2017.4.17\n",
            "  Downloading certifi-2023.5.7-py3-none-any.whl (156 kB)\n",
            "\u001b[K     |████████████████████████████████| 156 kB 75.9 MB/s \n",
            "\u001b[?25hCollecting idna<4,>=2.5\n",
            "  Downloading idna-3.4-py3-none-any.whl (61 kB)\n",
            "\u001b[K     |████████████████████████████████| 61 kB 111 kB/s \n",
            "\u001b[?25hCollecting charset-normalizer<4,>=2\n",
            "  Downloading charset_normalizer-3.1.0-cp39-cp39-manylinux_2_17_x86_64.manylinux2014_x86_64.whl (199 kB)\n",
            "\u001b[K     |████████████████████████████████| 199 kB 81.0 MB/s \n",
            "\u001b[?25hCollecting urllib3<3,>=1.21.1\n",
            "  Downloading urllib3-2.0.2-py3-none-any.whl (123 kB)\n",
            "\u001b[K     |████████████████████████████████| 123 kB 72.5 MB/s \n",
            "\u001b[?25hCollecting kiwisolver>=1.0.1\n",
            "  Downloading kiwisolver-1.4.4-cp39-cp39-manylinux_2_12_x86_64.manylinux2010_x86_64.whl (1.6 MB)\n",
            "\u001b[K     |████████████████████████████████| 1.6 MB 62.7 MB/s \n",
            "\u001b[?25hCollecting contourpy>=1.0.1\n",
            "  Downloading contourpy-1.0.7-cp39-cp39-manylinux_2_17_x86_64.manylinux2014_x86_64.whl (299 kB)\n",
            "\u001b[K     |████████████████████████████████| 299 kB 81.5 MB/s \n",
            "\u001b[?25hCollecting pillow>=6.2.0\n",
            "  Downloading Pillow-9.5.0-cp39-cp39-manylinux_2_17_x86_64.manylinux2014_x86_64.whl (3.3 MB)\n",
            "\u001b[K     |████████████████████████████████| 3.3 MB 68.0 MB/s \n",
            "\u001b[?25hCollecting fonttools>=4.22.0\n",
            "  Downloading fonttools-4.39.4-py3-none-any.whl (1.0 MB)\n",
            "\u001b[K     |████████████████████████████████| 1.0 MB 74.2 MB/s \n",
            "\u001b[?25hCollecting pyparsing>=2.3.1\n",
            "  Downloading pyparsing-3.0.9-py3-none-any.whl (98 kB)\n",
            "\u001b[K     |████████████████████████████████| 98 kB 9.1 MB/s \n",
            "\u001b[?25hCollecting importlib-resources>=3.2.0; python_version < \"3.10\"\n",
            "  Downloading importlib_resources-5.12.0-py3-none-any.whl (36 kB)\n",
            "Collecting cycler>=0.10\n",
            "  Downloading cycler-0.11.0-py3-none-any.whl (6.4 kB)\n",
            "Collecting yarl<2.0,>=1.0\n",
            "  Downloading yarl-1.9.2-cp39-cp39-manylinux_2_17_x86_64.manylinux2014_x86_64.whl (269 kB)\n",
            "\u001b[K     |████████████████████████████████| 269 kB 58.7 MB/s \n",
            "\u001b[?25hCollecting attrs>=17.3.0\n",
            "  Downloading attrs-23.1.0-py3-none-any.whl (61 kB)\n",
            "\u001b[K     |████████████████████████████████| 61 kB 8.3 MB/s \n",
            "\u001b[?25hCollecting async-timeout<5.0,>=4.0.0a3\n",
            "  Downloading async_timeout-4.0.2-py3-none-any.whl (5.8 kB)\n",
            "Collecting frozenlist>=1.1.1\n",
            "  Downloading frozenlist-1.3.3-cp39-cp39-manylinux_2_5_x86_64.manylinux1_x86_64.manylinux_2_17_x86_64.manylinux2014_x86_64.whl (158 kB)\n",
            "\u001b[K     |████████████████████████████████| 158 kB 63.3 MB/s \n",
            "\u001b[?25hCollecting aiosignal>=1.1.2\n",
            "  Downloading aiosignal-1.3.1-py3-none-any.whl (7.6 kB)\n",
            "Collecting multidict<7.0,>=4.5\n",
            "  Downloading multidict-6.0.4-cp39-cp39-manylinux_2_17_x86_64.manylinux2014_x86_64.whl (114 kB)\n",
            "\u001b[K     |████████████████████████████████| 114 kB 42.8 MB/s \n",
            "\u001b[?25hCollecting gitdb<5,>=4.0.1\n",
            "  Downloading gitdb-4.0.10-py3-none-any.whl (62 kB)\n",
            "\u001b[K     |████████████████████████████████| 62 kB 1.5 MB/s \n",
            "\u001b[?25hCollecting typing-inspect\n",
            "  Downloading typing_inspect-0.9.0-py3-none-any.whl (8.8 kB)\n",
            "Requirement already satisfied: mpmath>=0.19 in /usr/local/lib/python3.9/dist-packages (from sympy->torch>=1.6.0->accelerate>=0.19.0->axolotl==0.1) (1.2.1)\n",
            "Requirement already satisfied: MarkupSafe>=2.0 in /usr/local/lib/python3.9/dist-packages (from jinja2->torch>=1.6.0->accelerate>=0.19.0->axolotl==0.1) (2.1.2)\n",
            "Requirement already satisfied: lit in /usr/local/lib/python3.9/dist-packages (from triton==2.0.0; platform_system == \"Linux\" and platform_machine == \"x86_64\"->torch>=1.6.0->accelerate>=0.19.0->axolotl==0.1) (15.0.7)\n",
            "Requirement already satisfied: cmake in /usr/local/lib/python3.9/dist-packages (from triton==2.0.0; platform_system == \"Linux\" and platform_machine == \"x86_64\"->torch>=1.6.0->accelerate>=0.19.0->axolotl==0.1) (3.25.0)\n",
            "Collecting zipp>=3.1.0; python_version < \"3.10\"\n",
            "  Downloading zipp-3.15.0-py3-none-any.whl (6.8 kB)\n",
            "Collecting smmap<6,>=3.0.1\n",
            "  Downloading smmap-5.0.0-py3-none-any.whl (24 kB)\n",
            "Building wheels for collected packages: fire, rouge-score, transformers, alpaca-lora-4bit, pathtools, peft\n",
            "  Building wheel for fire (setup.py) ... \u001b[?25l\u001b[?25hdone\n",
            "  Created wheel for fire: filename=fire-0.5.0-py2.py3-none-any.whl size=116936 sha256=3175a8ab0f7a5471f260773255f6256903f994b0d6a50cf588151abda303f7e6\n",
            "  Stored in directory: /root/.cache/pip/wheels/f7/f1/89/b9ea2bf8f80ec027a88fef1d354b3816b4d3d29530988972f6\n",
            "  Building wheel for rouge-score (setup.py) ... \u001b[?25l\u001b[?25hdone\n",
            "  Created wheel for rouge-score: filename=rouge_score-0.1.2-py3-none-any.whl size=24954 sha256=17d27c5df2b650a669d13eecc32bbf814405aa761c2aad8631eb87e732f35056\n",
            "  Stored in directory: /root/.cache/pip/wheels/9b/3d/39/09558097d3119ca0a4d462df68f22c6f3c1b345ac63a09b86e\n",
            "  Building wheel for transformers (PEP 517) ... \u001b[?25l\u001b[?25hdone\n",
            "  Created wheel for transformers: filename=transformers-4.30.0.dev0-py3-none-any.whl size=7102950 sha256=87574291789490dfcc5f7ed40fa82d826ce5244a98fde328ed06339bce004b55\n",
            "  Stored in directory: /tmp/pip-ephem-wheel-cache-syii_zx6/wheels/f7/92/8c/752ff3bfcd3439805d8bbf641614da38ef3226e127ebea86ee\n",
            "  Building wheel for alpaca-lora-4bit (setup.py) ... \u001b[?25l\u001b[?25hdone\n",
            "  Created wheel for alpaca-lora-4bit: filename=alpaca_lora_4bit-0.1-cp39-cp39-linux_x86_64.whl size=3621883 sha256=9906cf53d1b47679d537c819020c9c742415f0556236abf430904e4dc35bb91c\n",
            "  Stored in directory: /tmp/pip-ephem-wheel-cache-syii_zx6/wheels/fa/12/ba/a191ae13eef3219588221dcb899ef8340ee1b60ea3f02375ec\n",
            "  Building wheel for pathtools (setup.py) ... \u001b[?25l\u001b[?25hdone\n",
            "  Created wheel for pathtools: filename=pathtools-0.1.2-py3-none-any.whl size=8784 sha256=36b7c13c856d6ad3d82ea98ccf402c3e652a63c04ac1662019cf1e92c2ce8a81\n",
            "  Stored in directory: /root/.cache/pip/wheels/b7/0a/67/ada2a22079218c75a88361c0782855cc72aebc4d18d0289d05\n",
            "  Building wheel for peft (PEP 517) ... \u001b[?25l\u001b[?25hdone\n",
            "  Created wheel for peft: filename=peft-0.3.0.dev0-py3-none-any.whl size=50371 sha256=2f86cce3487c630222588c74a24239f328ba2f541ee3cfa8ff4f22bb6be4d898\n",
            "  Stored in directory: /root/.cache/pip/wheels/1e/d6/0d/ffffc3403e2464680bdba454ea14c0b80062ce04e666c010f8\n",
            "Successfully built fire rouge-score transformers alpaca-lora-4bit pathtools peft\n",
            "\u001b[31mERROR: sentry-sdk 1.24.0 has requirement urllib3<2.0.0, but you'll have urllib3 2.0.2 which is incompatible.\u001b[0m\n",
            "Installing collected packages: PyYAML, numpy, packaging, psutil, accelerate, addict, tzdata, pytz, six, python-dateutil, pandas, certifi, idna, charset-normalizer, urllib3, requests, kiwisolver, contourpy, pillow, fonttools, pyparsing, zipp, importlib-resources, cycler, matplotlib, tqdm, tokenizers, safetensors, multidict, yarl, attrs, async-timeout, frozenlist, aiosignal, aiohttp, fsspec, huggingface-hub, regex, transformers, bert-score, bitsandbytes, pathspec, platformdirs, click, tomli, mypy-extensions, black, dill, responses, pyarrow, multiprocess, xxhash, datasets, einops, evaluate, termcolor, fire, absl-py, joblib, nltk, rouge-score, scipy, threadpoolctl, scikit-learn, sentencepiece, appdirs, sentry-sdk, smmap, gitdb, GitPython, docker-pycreds, setproctitle, protobuf, pathtools, wandb, typing-inspect, pyre-extensions, xformers, colorama, peft, alpaca-lora-4bit, axolotl\n",
            "  Running setup.py develop for axolotl\n",
            "Successfully installed GitPython-3.1.31 PyYAML-6.0 absl-py-1.4.0 accelerate-0.19.0 addict-2.4.0 aiohttp-3.8.4 aiosignal-1.3.1 alpaca-lora-4bit-0.1 appdirs-1.4.4 async-timeout-4.0.2 attrs-23.1.0 axolotl bert-score-0.3.13 bitsandbytes-0.39.0 black-23.3.0 certifi-2023.5.7 charset-normalizer-3.1.0 click-8.1.3 colorama-0.4.6 contourpy-1.0.7 cycler-0.11.0 datasets-2.12.0 dill-0.3.6 docker-pycreds-0.4.0 einops-0.6.1 evaluate-0.4.0 fire-0.5.0 fonttools-4.39.4 frozenlist-1.3.3 fsspec-2023.5.0 gitdb-4.0.10 huggingface-hub-0.14.1 idna-3.4 importlib-resources-5.12.0 joblib-1.2.0 kiwisolver-1.4.4 matplotlib-3.7.1 multidict-6.0.4 multiprocess-0.70.14 mypy-extensions-1.0.0 nltk-3.8.1 numpy-1.24.3 packaging-23.1 pandas-2.0.1 pathspec-0.11.1 pathtools-0.1.2 peft-0.3.0.dev0 pillow-9.5.0 platformdirs-3.5.1 protobuf-4.23.2 psutil-5.9.5 pyarrow-12.0.0 pyparsing-3.0.9 pyre-extensions-0.0.29 python-dateutil-2.8.2 pytz-2023.3 regex-2023.5.5 requests-2.31.0 responses-0.18.0 rouge-score-0.1.2 safetensors-0.3.1 scikit-learn-1.2.2 scipy-1.10.1 sentencepiece-0.1.99 sentry-sdk-1.24.0 setproctitle-1.3.2 six-1.16.0 smmap-5.0.0 termcolor-2.3.0 threadpoolctl-3.1.0 tokenizers-0.13.3 tomli-2.0.1 tqdm-4.65.0 transformers-4.30.0.dev0 typing-inspect-0.9.0 tzdata-2023.3 urllib3-2.0.2 wandb-0.15.3 xformers-0.0.20 xxhash-3.2.0 yarl-1.9.2 zipp-3.15.0\n"
          ]
        },
        {
          "output_type": "display_data",
          "data": {
            "application/vnd.colab-display-data+json": {
              "pip_warning": {
                "packages": [
                  "cycler",
                  "dateutil",
                  "kiwisolver",
                  "matplotlib",
                  "mpl_toolkits",
                  "psutil",
                  "six"
                ]
              }
            }
          },
          "metadata": {}
        }
      ]
    },
    {
      "cell_type": "code",
      "source": [
        "!accelerate config --config_file configs/accelerate/default_config.yaml default"
      ],
      "metadata": {
        "colab": {
          "base_uri": "https://localhost:8080/"
        },
        "id": "mC48y25Lkqa5",
        "outputId": "2757a3c8-3790-4fd3-be39-03be8f533b35"
      },
      "execution_count": 32,
      "outputs": [
        {
          "output_type": "stream",
          "name": "stdout",
          "text": [
            "accelerate configuration saved at /root/.cache/huggingface/accelerate/default_config.yaml\n"
          ]
        }
      ]
    },
    {
      "cell_type": "code",
      "source": [
        "!cat examples/falcon/config-1b-lora.yml"
      ],
      "metadata": {
        "colab": {
          "base_uri": "https://localhost:8080/"
        },
        "id": "--s-HPfqUwH9",
        "outputId": "c524f89e-bafc-486e-b760-ff4697c16da6"
      },
      "execution_count": 33,
      "outputs": [
        {
          "output_type": "stream",
          "name": "stdout",
          "text": [
            "base_model: tiiuae/falcon-rw-1b\n",
            "base_model_config: tiiuae/falcon-rw-1b\n",
            "trust_remote_code: true\n",
            "model_type: AutoModelForCausalLM\n",
            "tokenizer_type: AutoTokenizer\n",
            "load_in_8bit: true\n",
            "load_in_4bit: false\n",
            "gptq: false\n",
            "strict: false\n",
            "push_dataset_to_hub:\n",
            "datasets:\n",
            "  - path: teknium/GPT4-LLM-Cleaned\n",
            "    type: alpaca:chat\n",
            "dataset_prepared_path: last_run_prepared\n",
            "val_set_size: 0.01\n",
            "adapter: lora\n",
            "lora_model_dir:\n",
            "sequence_len: 2048\n",
            "max_packed_sequence_len:\n",
            "lora_r: 16\n",
            "lora_alpha: 32\n",
            "lora_dropout: 0.0\n",
            "lora_target_modules:\n",
            "lora_target_linear: true\n",
            "lora_fan_in_fan_out:\n",
            "wandb_project: falcon-rw-1b\n",
            "wandb_watch:\n",
            "wandb_run_id:\n",
            "wandb_log_model:\n",
            "output_dir: ./falcon-rw-1b\n",
            "batch_size: 2\n",
            "micro_batch_size: 1\n",
            "num_epochs: 4\n",
            "optimizer: adamw_bnb_8bit\n",
            "torchdistx_path:\n",
            "lr_scheduler: cosine\n",
            "learning_rate: 0.00003\n",
            "train_on_inputs: false\n",
            "group_by_length: false\n",
            "bf16: true\n",
            "fp16: false\n",
            "tf32: true\n",
            "gradient_checkpointing: true\n",
            "early_stopping_patience:\n",
            "resume_from_checkpoint:\n",
            "local_rank:\n",
            "logging_steps: 1\n",
            "xformers_attention: true\n",
            "flash_attention:\n",
            "gptq_groupsize:\n",
            "gptq_model_v1:\n",
            "warmup_steps: 40\n",
            "eval_steps: 5\n",
            "save_steps: 43\n",
            "debug:\n",
            "deepspeed:\n",
            "weight_decay: 0.0\n",
            "fsdp:\n",
            "fsdp_config:\n",
            "special_tokens:\n",
            "  pad_token: \"<|endoftext|>\"\n",
            "  bos_token: \">>ABSTRACT<<\"\n",
            "  eos_token: \"<|endoftext|>\"\n",
            "\n"
          ]
        }
      ]
    },
    {
      "cell_type": "code",
      "source": [
        "!accelerate scripts/finetune.py examples/falcon/config-1b-lora.yml"
      ],
      "metadata": {
        "id": "jICMPJuomFsx"
      },
      "execution_count": null,
      "outputs": []
    },
    {
      "cell_type": "code",
      "source": [],
      "metadata": {
        "id": "0S87GQqWnzzc"
      },
      "execution_count": 11,
      "outputs": []
    }
  ]
}