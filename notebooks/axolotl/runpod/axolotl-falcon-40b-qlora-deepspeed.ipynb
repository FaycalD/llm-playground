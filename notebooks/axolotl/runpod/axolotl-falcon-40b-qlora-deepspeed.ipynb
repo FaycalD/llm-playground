{
  "cells": [
    {
      "cell_type": "markdown",
      "metadata": {
        "id": "view-in-github",
        "colab_type": "text"
      },
      "source": [
        "<a href=\"https://colab.research.google.com/github/utensil/llm-playground/blob/main/notebooks/axolotl/runpod/axolotl-falcon-40b-qlora-deepspeed.ipynb\" target=\"_parent\"><img src=\"https://colab.research.google.com/assets/colab-badge.svg\" alt=\"Open In Colab\"/></a>"
      ]
    },
    {
      "cell_type": "markdown",
      "metadata": {
        "id": "pCpbQuaxDY7H"
      },
      "source": [
        "<!-- https://jupyterlab.readthedocs.io/en/stable/user/commands.html#commands-list -->\n",
        "<button data-commandLinker-command=\"apputils:change-theme\" data-commandlinker-args='{\"theme\": \"JupyterLab Dark\"}' href=\"#\">Dark theme</button>\n",
        "<button data-commandLinker-command=\"filebrowser:go-to-path\" data-commandlinker-args='{\"path\": \"/content/llm-playground/\"}' href=\"#\">llm-playground</button>\n",
        "<button data-commandLinker-command=\"filebrowser:go-to-path\" data-commandlinker-args='{\"path\": \"/workspace/axolotl/\"}' href=\"#\">axolotl</button>\n",
        "<button data-commandLinker-command=\"filebrowser:go-to-path\" data-commandlinker-args='{\"path\": \"/content/llm-playground/notebooks/axolotl/runpod\"}' href=\"#\">Runpod notebooks</button>\n",
        "<button data-commandLinker-command=\"filebrowser:go-to-path\" data-commandlinker-args='{\"path\": \"/workspace/axolotl/examples\"}' href=\"#\">axolotl configs</button>\n",
        "<button data-commandLinker-command=\"filebrowser:go-to-path\" data-commandlinker-args='{\"path\": \"/content/llm-playground/storage\"}' href=\"#\">Storage</button>\n",
        "<button data-commandLinker-command=\"filebrowser:go-to-path\" data-commandlinker-args='{\"path\": \"/content/axolotl-trained\"}' href=\"#\">axolotl-trained</button>\n",
        "<button data-commandLinker-command=\"docmanager:open\" data-commandlinker-args='{\"path\": \"/workspace/axolotl/examples/falcon/config-40b-qlora.yml\"}' href=\"#\">Edit qlora config</button>\n",
        "<button data-commandLinker-command=\"docmanager:open\" data-commandlinker-args='{\"path\": \"/workspace/axolotl/ds_config.json\"}' href=\"#\">Edit ds config</button>"
      ]
    },
    {
      "cell_type": "markdown",
      "metadata": {
        "id": "97yoSiRvDY7G"
      },
      "source": [
        "# Finetuning falcon-40b\n",
        "\n",
        "- Axolotl+QLoRA\n",
        "- minotaur datasets\n",
        "- deepspeed ZeRO 3 8xGPU\n",
        "\n",
        "Entry script:\n",
        "\n",
        "https://github.com/utensil/llm-playground/blob/main/scripts/entry/ax_lite.sh\n",
        "\n",
        "Mount volume disk to `/content`\n",
        "\n",
        "Save to:\n",
        "\n",
        "- repo: `utensil/llm-playground`\n",
        "- path: `notebooks/axolotl/runpod/axolotl-falcon-40b-qlora-deepspeed.ipynb`\n"
      ]
    },
    {
      "cell_type": "markdown",
      "metadata": {
        "id": "uZd-cf70HM2n"
      },
      "source": [
        "## Prepare"
      ]
    },
    {
      "cell_type": "markdown",
      "metadata": {
        "id": "UjFhNeLIshBM"
      },
      "source": [
        "### Setup notify"
      ]
    },
    {
      "cell_type": "code",
      "execution_count": null,
      "metadata": {
        "id": "KNM9aJoto7ZD",
        "scrolled": true,
        "outputId": "49e9a166-2ab2-4248-d54f-687a3b64333d"
      },
      "outputs": [
        {
          "name": "stdout",
          "output_type": "stream",
          "text": [
            "Collecting git+https://github.com/cphyc/jupyter-notify.git\n",
            "  Cloning https://github.com/cphyc/jupyter-notify.git to /tmp/pip-req-build-zu3hp4aa\n",
            "  Running command git clone --filter=blob:none --quiet https://github.com/cphyc/jupyter-notify.git /tmp/pip-req-build-zu3hp4aa\n",
            "  Resolved https://github.com/cphyc/jupyter-notify.git to commit 8cff958cbd3f00f7e4eb59b457f9f915e2ddff37\n",
            "  Preparing metadata (setup.py) ... \u001b[?25ldone\n",
            "\u001b[?25hRequirement already satisfied: ipython in /root/miniconda3/envs/py3.9/lib/python3.9/site-packages (from jupyternotify==0.1.15) (8.14.0)\n",
            "Requirement already satisfied: jupyter in /root/miniconda3/envs/py3.9/lib/python3.9/site-packages (from jupyternotify==0.1.15) (1.0.0)\n",
            "Requirement already satisfied: backcall in /root/miniconda3/envs/py3.9/lib/python3.9/site-packages (from ipython->jupyternotify==0.1.15) (0.2.0)\n",
            "Requirement already satisfied: decorator in /root/miniconda3/envs/py3.9/lib/python3.9/site-packages (from ipython->jupyternotify==0.1.15) (5.1.1)\n",
            "Requirement already satisfied: jedi>=0.16 in /root/miniconda3/envs/py3.9/lib/python3.9/site-packages (from ipython->jupyternotify==0.1.15) (0.18.2)\n",
            "Requirement already satisfied: matplotlib-inline in /root/miniconda3/envs/py3.9/lib/python3.9/site-packages (from ipython->jupyternotify==0.1.15) (0.1.6)\n",
            "Requirement already satisfied: pickleshare in /root/miniconda3/envs/py3.9/lib/python3.9/site-packages (from ipython->jupyternotify==0.1.15) (0.7.5)\n",
            "Requirement already satisfied: prompt-toolkit!=3.0.37,<3.1.0,>=3.0.30 in /root/miniconda3/envs/py3.9/lib/python3.9/site-packages (from ipython->jupyternotify==0.1.15) (3.0.38)\n",
            "Requirement already satisfied: pygments>=2.4.0 in /root/miniconda3/envs/py3.9/lib/python3.9/site-packages (from ipython->jupyternotify==0.1.15) (2.15.1)\n",
            "Requirement already satisfied: stack-data in /root/miniconda3/envs/py3.9/lib/python3.9/site-packages (from ipython->jupyternotify==0.1.15) (0.6.2)\n",
            "Requirement already satisfied: traitlets>=5 in /root/miniconda3/envs/py3.9/lib/python3.9/site-packages (from ipython->jupyternotify==0.1.15) (5.9.0)\n",
            "Requirement already satisfied: typing-extensions in /root/miniconda3/envs/py3.9/lib/python3.9/site-packages (from ipython->jupyternotify==0.1.15) (4.6.3)\n",
            "Requirement already satisfied: pexpect>4.3 in /root/miniconda3/envs/py3.9/lib/python3.9/site-packages (from ipython->jupyternotify==0.1.15) (4.8.0)\n",
            "Requirement already satisfied: notebook in /root/miniconda3/envs/py3.9/lib/python3.9/site-packages (from jupyter->jupyternotify==0.1.15) (6.5.4)\n",
            "Requirement already satisfied: qtconsole in /root/miniconda3/envs/py3.9/lib/python3.9/site-packages (from jupyter->jupyternotify==0.1.15) (5.4.3)\n",
            "Requirement already satisfied: jupyter-console in /root/miniconda3/envs/py3.9/lib/python3.9/site-packages (from jupyter->jupyternotify==0.1.15) (6.6.3)\n",
            "Requirement already satisfied: nbconvert in /root/miniconda3/envs/py3.9/lib/python3.9/site-packages (from jupyter->jupyternotify==0.1.15) (7.5.0)\n",
            "Requirement already satisfied: ipykernel in /root/miniconda3/envs/py3.9/lib/python3.9/site-packages (from jupyter->jupyternotify==0.1.15) (6.23.2)\n",
            "Requirement already satisfied: ipywidgets in /root/miniconda3/envs/py3.9/lib/python3.9/site-packages (from jupyter->jupyternotify==0.1.15) (8.0.6)\n",
            "Requirement already satisfied: parso<0.9.0,>=0.8.0 in /root/miniconda3/envs/py3.9/lib/python3.9/site-packages (from jedi>=0.16->ipython->jupyternotify==0.1.15) (0.8.3)\n",
            "Requirement already satisfied: ptyprocess>=0.5 in /root/miniconda3/envs/py3.9/lib/python3.9/site-packages (from pexpect>4.3->ipython->jupyternotify==0.1.15) (0.7.0)\n",
            "Requirement already satisfied: wcwidth in /root/miniconda3/envs/py3.9/lib/python3.9/site-packages (from prompt-toolkit!=3.0.37,<3.1.0,>=3.0.30->ipython->jupyternotify==0.1.15) (0.2.6)\n",
            "Requirement already satisfied: comm>=0.1.1 in /root/miniconda3/envs/py3.9/lib/python3.9/site-packages (from ipykernel->jupyter->jupyternotify==0.1.15) (0.1.3)\n",
            "Requirement already satisfied: debugpy>=1.6.5 in /root/miniconda3/envs/py3.9/lib/python3.9/site-packages (from ipykernel->jupyter->jupyternotify==0.1.15) (1.6.7)\n",
            "Requirement already satisfied: jupyter-client>=6.1.12 in /root/miniconda3/envs/py3.9/lib/python3.9/site-packages (from ipykernel->jupyter->jupyternotify==0.1.15) (8.2.0)\n",
            "Requirement already satisfied: jupyter-core!=5.0.*,>=4.12 in /root/miniconda3/envs/py3.9/lib/python3.9/site-packages (from ipykernel->jupyter->jupyternotify==0.1.15) (5.3.1)\n",
            "Requirement already satisfied: nest-asyncio in /root/miniconda3/envs/py3.9/lib/python3.9/site-packages (from ipykernel->jupyter->jupyternotify==0.1.15) (1.5.6)\n",
            "Requirement already satisfied: packaging in /root/miniconda3/envs/py3.9/lib/python3.9/site-packages (from ipykernel->jupyter->jupyternotify==0.1.15) (23.1)\n",
            "Requirement already satisfied: psutil in /root/miniconda3/envs/py3.9/lib/python3.9/site-packages (from ipykernel->jupyter->jupyternotify==0.1.15) (5.9.5)\n",
            "Requirement already satisfied: pyzmq>=20 in /root/miniconda3/envs/py3.9/lib/python3.9/site-packages (from ipykernel->jupyter->jupyternotify==0.1.15) (25.1.0)\n",
            "Requirement already satisfied: tornado>=6.1 in /root/miniconda3/envs/py3.9/lib/python3.9/site-packages (from ipykernel->jupyter->jupyternotify==0.1.15) (6.3.2)\n",
            "Requirement already satisfied: widgetsnbextension~=4.0.7 in /root/miniconda3/envs/py3.9/lib/python3.9/site-packages (from ipywidgets->jupyter->jupyternotify==0.1.15) (4.0.7)\n",
            "Requirement already satisfied: jupyterlab-widgets~=3.0.7 in /root/miniconda3/envs/py3.9/lib/python3.9/site-packages (from ipywidgets->jupyter->jupyternotify==0.1.15) (3.0.7)\n",
            "Requirement already satisfied: beautifulsoup4 in /root/miniconda3/envs/py3.9/lib/python3.9/site-packages (from nbconvert->jupyter->jupyternotify==0.1.15) (4.12.2)\n",
            "Requirement already satisfied: bleach!=5.0.0 in /root/miniconda3/envs/py3.9/lib/python3.9/site-packages (from nbconvert->jupyter->jupyternotify==0.1.15) (6.0.0)\n",
            "Requirement already satisfied: defusedxml in /root/miniconda3/envs/py3.9/lib/python3.9/site-packages (from nbconvert->jupyter->jupyternotify==0.1.15) (0.7.1)\n",
            "Requirement already satisfied: importlib-metadata>=3.6 in /root/miniconda3/envs/py3.9/lib/python3.9/site-packages (from nbconvert->jupyter->jupyternotify==0.1.15) (6.6.0)\n",
            "Requirement already satisfied: jinja2>=3.0 in /root/miniconda3/envs/py3.9/lib/python3.9/site-packages (from nbconvert->jupyter->jupyternotify==0.1.15) (3.1.2)\n",
            "Requirement already satisfied: jupyterlab-pygments in /root/miniconda3/envs/py3.9/lib/python3.9/site-packages (from nbconvert->jupyter->jupyternotify==0.1.15) (0.2.2)\n",
            "Requirement already satisfied: markupsafe>=2.0 in /root/miniconda3/envs/py3.9/lib/python3.9/site-packages (from nbconvert->jupyter->jupyternotify==0.1.15) (2.1.3)\n",
            "Requirement already satisfied: mistune<3,>=2.0.3 in /root/miniconda3/envs/py3.9/lib/python3.9/site-packages (from nbconvert->jupyter->jupyternotify==0.1.15) (2.0.5)\n",
            "Requirement already satisfied: nbclient>=0.5.0 in /root/miniconda3/envs/py3.9/lib/python3.9/site-packages (from nbconvert->jupyter->jupyternotify==0.1.15) (0.8.0)\n",
            "Requirement already satisfied: nbformat>=5.7 in /root/miniconda3/envs/py3.9/lib/python3.9/site-packages (from nbconvert->jupyter->jupyternotify==0.1.15) (5.9.0)\n",
            "Requirement already satisfied: pandocfilters>=1.4.1 in /root/miniconda3/envs/py3.9/lib/python3.9/site-packages (from nbconvert->jupyter->jupyternotify==0.1.15) (1.5.0)\n",
            "Requirement already satisfied: tinycss2 in /root/miniconda3/envs/py3.9/lib/python3.9/site-packages (from nbconvert->jupyter->jupyternotify==0.1.15) (1.2.1)\n",
            "Requirement already satisfied: argon2-cffi in /root/miniconda3/envs/py3.9/lib/python3.9/site-packages (from notebook->jupyter->jupyternotify==0.1.15) (21.3.0)\n",
            "Requirement already satisfied: ipython-genutils in /root/miniconda3/envs/py3.9/lib/python3.9/site-packages (from notebook->jupyter->jupyternotify==0.1.15) (0.2.0)\n",
            "Requirement already satisfied: Send2Trash>=1.8.0 in /root/miniconda3/envs/py3.9/lib/python3.9/site-packages (from notebook->jupyter->jupyternotify==0.1.15) (1.8.2)\n",
            "Requirement already satisfied: terminado>=0.8.3 in /root/miniconda3/envs/py3.9/lib/python3.9/site-packages (from notebook->jupyter->jupyternotify==0.1.15) (0.17.1)\n",
            "Requirement already satisfied: prometheus-client in /root/miniconda3/envs/py3.9/lib/python3.9/site-packages (from notebook->jupyter->jupyternotify==0.1.15) (0.17.0)\n",
            "Requirement already satisfied: nbclassic>=0.4.7 in /root/miniconda3/envs/py3.9/lib/python3.9/site-packages (from notebook->jupyter->jupyternotify==0.1.15) (1.0.0)\n",
            "Requirement already satisfied: qtpy>=2.0.1 in /root/miniconda3/envs/py3.9/lib/python3.9/site-packages (from qtconsole->jupyter->jupyternotify==0.1.15) (2.3.1)\n",
            "Requirement already satisfied: executing>=1.2.0 in /root/miniconda3/envs/py3.9/lib/python3.9/site-packages (from stack-data->ipython->jupyternotify==0.1.15) (1.2.0)\n",
            "Requirement already satisfied: asttokens>=2.1.0 in /root/miniconda3/envs/py3.9/lib/python3.9/site-packages (from stack-data->ipython->jupyternotify==0.1.15) (2.2.1)\n",
            "Requirement already satisfied: pure-eval in /root/miniconda3/envs/py3.9/lib/python3.9/site-packages (from stack-data->ipython->jupyternotify==0.1.15) (0.2.2)\n",
            "Requirement already satisfied: six in /root/miniconda3/envs/py3.9/lib/python3.9/site-packages (from asttokens>=2.1.0->stack-data->ipython->jupyternotify==0.1.15) (1.16.0)\n",
            "Requirement already satisfied: webencodings in /root/miniconda3/envs/py3.9/lib/python3.9/site-packages (from bleach!=5.0.0->nbconvert->jupyter->jupyternotify==0.1.15) (0.5.1)\n",
            "Requirement already satisfied: zipp>=0.5 in /root/miniconda3/envs/py3.9/lib/python3.9/site-packages (from importlib-metadata>=3.6->nbconvert->jupyter->jupyternotify==0.1.15) (3.15.0)\n",
            "Requirement already satisfied: python-dateutil>=2.8.2 in /root/miniconda3/envs/py3.9/lib/python3.9/site-packages (from jupyter-client>=6.1.12->ipykernel->jupyter->jupyternotify==0.1.15) (2.8.2)\n",
            "Requirement already satisfied: platformdirs>=2.5 in /root/miniconda3/envs/py3.9/lib/python3.9/site-packages (from jupyter-core!=5.0.*,>=4.12->ipykernel->jupyter->jupyternotify==0.1.15) (3.5.3)\n",
            "Requirement already satisfied: jupyter-server>=1.8 in /root/miniconda3/envs/py3.9/lib/python3.9/site-packages (from nbclassic>=0.4.7->notebook->jupyter->jupyternotify==0.1.15) (2.6.0)\n",
            "Requirement already satisfied: notebook-shim>=0.2.3 in /root/miniconda3/envs/py3.9/lib/python3.9/site-packages (from nbclassic>=0.4.7->notebook->jupyter->jupyternotify==0.1.15) (0.2.3)\n",
            "Requirement already satisfied: fastjsonschema in /root/miniconda3/envs/py3.9/lib/python3.9/site-packages (from nbformat>=5.7->nbconvert->jupyter->jupyternotify==0.1.15) (2.17.1)\n",
            "Requirement already satisfied: jsonschema>=2.6 in /root/miniconda3/envs/py3.9/lib/python3.9/site-packages (from nbformat>=5.7->nbconvert->jupyter->jupyternotify==0.1.15) (4.17.3)\n",
            "Requirement already satisfied: argon2-cffi-bindings in /root/miniconda3/envs/py3.9/lib/python3.9/site-packages (from argon2-cffi->notebook->jupyter->jupyternotify==0.1.15) (21.2.0)\n",
            "Requirement already satisfied: soupsieve>1.2 in /root/miniconda3/envs/py3.9/lib/python3.9/site-packages (from beautifulsoup4->nbconvert->jupyter->jupyternotify==0.1.15) (2.4.1)\n",
            "Requirement already satisfied: attrs>=17.4.0 in /root/miniconda3/envs/py3.9/lib/python3.9/site-packages (from jsonschema>=2.6->nbformat>=5.7->nbconvert->jupyter->jupyternotify==0.1.15) (23.1.0)\n",
            "Requirement already satisfied: pyrsistent!=0.17.0,!=0.17.1,!=0.17.2,>=0.14.0 in /root/miniconda3/envs/py3.9/lib/python3.9/site-packages (from jsonschema>=2.6->nbformat>=5.7->nbconvert->jupyter->jupyternotify==0.1.15) (0.19.3)\n",
            "Requirement already satisfied: anyio>=3.1.0 in /root/miniconda3/envs/py3.9/lib/python3.9/site-packages (from jupyter-server>=1.8->nbclassic>=0.4.7->notebook->jupyter->jupyternotify==0.1.15) (3.7.0)\n",
            "Requirement already satisfied: jupyter-events>=0.6.0 in /root/miniconda3/envs/py3.9/lib/python3.9/site-packages (from jupyter-server>=1.8->nbclassic>=0.4.7->notebook->jupyter->jupyternotify==0.1.15) (0.6.3)\n",
            "Requirement already satisfied: jupyter-server-terminals in /root/miniconda3/envs/py3.9/lib/python3.9/site-packages (from jupyter-server>=1.8->nbclassic>=0.4.7->notebook->jupyter->jupyternotify==0.1.15) (0.4.4)\n",
            "Requirement already satisfied: overrides in /root/miniconda3/envs/py3.9/lib/python3.9/site-packages (from jupyter-server>=1.8->nbclassic>=0.4.7->notebook->jupyter->jupyternotify==0.1.15) (7.3.1)\n",
            "Requirement already satisfied: websocket-client in /root/miniconda3/envs/py3.9/lib/python3.9/site-packages (from jupyter-server>=1.8->nbclassic>=0.4.7->notebook->jupyter->jupyternotify==0.1.15) (1.5.3)\n",
            "Requirement already satisfied: cffi>=1.0.1 in /root/miniconda3/envs/py3.9/lib/python3.9/site-packages (from argon2-cffi-bindings->argon2-cffi->notebook->jupyter->jupyternotify==0.1.15) (1.15.1)\n",
            "Requirement already satisfied: idna>=2.8 in /root/miniconda3/envs/py3.9/lib/python3.9/site-packages (from anyio>=3.1.0->jupyter-server>=1.8->nbclassic>=0.4.7->notebook->jupyter->jupyternotify==0.1.15) (3.4)\n",
            "Requirement already satisfied: sniffio>=1.1 in /root/miniconda3/envs/py3.9/lib/python3.9/site-packages (from anyio>=3.1.0->jupyter-server>=1.8->nbclassic>=0.4.7->notebook->jupyter->jupyternotify==0.1.15) (1.3.0)\n",
            "Requirement already satisfied: exceptiongroup in /root/miniconda3/envs/py3.9/lib/python3.9/site-packages (from anyio>=3.1.0->jupyter-server>=1.8->nbclassic>=0.4.7->notebook->jupyter->jupyternotify==0.1.15) (1.1.1)\n",
            "Requirement already satisfied: pycparser in /root/miniconda3/envs/py3.9/lib/python3.9/site-packages (from cffi>=1.0.1->argon2-cffi-bindings->argon2-cffi->notebook->jupyter->jupyternotify==0.1.15) (2.21)\n",
            "Requirement already satisfied: python-json-logger>=2.0.4 in /root/miniconda3/envs/py3.9/lib/python3.9/site-packages (from jupyter-events>=0.6.0->jupyter-server>=1.8->nbclassic>=0.4.7->notebook->jupyter->jupyternotify==0.1.15) (2.0.7)\n",
            "Requirement already satisfied: pyyaml>=5.3 in /root/miniconda3/envs/py3.9/lib/python3.9/site-packages (from jupyter-events>=0.6.0->jupyter-server>=1.8->nbclassic>=0.4.7->notebook->jupyter->jupyternotify==0.1.15) (6.0)\n",
            "Requirement already satisfied: rfc3339-validator in /root/miniconda3/envs/py3.9/lib/python3.9/site-packages (from jupyter-events>=0.6.0->jupyter-server>=1.8->nbclassic>=0.4.7->notebook->jupyter->jupyternotify==0.1.15) (0.1.4)\n",
            "Requirement already satisfied: rfc3986-validator>=0.1.1 in /root/miniconda3/envs/py3.9/lib/python3.9/site-packages (from jupyter-events>=0.6.0->jupyter-server>=1.8->nbclassic>=0.4.7->notebook->jupyter->jupyternotify==0.1.15) (0.1.1)\n",
            "Requirement already satisfied: fqdn in /root/miniconda3/envs/py3.9/lib/python3.9/site-packages (from jsonschema>=2.6->nbformat>=5.7->nbconvert->jupyter->jupyternotify==0.1.15) (1.5.1)\n",
            "Requirement already satisfied: isoduration in /root/miniconda3/envs/py3.9/lib/python3.9/site-packages (from jsonschema>=2.6->nbformat>=5.7->nbconvert->jupyter->jupyternotify==0.1.15) (20.11.0)\n",
            "Requirement already satisfied: jsonpointer>1.13 in /root/miniconda3/envs/py3.9/lib/python3.9/site-packages (from jsonschema>=2.6->nbformat>=5.7->nbconvert->jupyter->jupyternotify==0.1.15) (2.3)\n",
            "Requirement already satisfied: uri-template in /root/miniconda3/envs/py3.9/lib/python3.9/site-packages (from jsonschema>=2.6->nbformat>=5.7->nbconvert->jupyter->jupyternotify==0.1.15) (1.2.0)\n",
            "Requirement already satisfied: webcolors>=1.11 in /root/miniconda3/envs/py3.9/lib/python3.9/site-packages (from jsonschema>=2.6->nbformat>=5.7->nbconvert->jupyter->jupyternotify==0.1.15) (1.13)\n",
            "Requirement already satisfied: arrow>=0.15.0 in /root/miniconda3/envs/py3.9/lib/python3.9/site-packages (from isoduration->jsonschema>=2.6->nbformat>=5.7->nbconvert->jupyter->jupyternotify==0.1.15) (1.2.3)\n",
            "\u001b[33mWARNING: Running pip as the 'root' user can result in broken permissions and conflicting behaviour with the system package manager. It is recommended to use a virtual environment instead: https://pip.pypa.io/warnings/venv\u001b[0m\u001b[33m\n",
            "\u001b[0m"
          ]
        }
      ],
      "source": [
        "!pip install git+https://github.com/cphyc/jupyter-notify.git"
      ]
    },
    {
      "cell_type": "code",
      "execution_count": null,
      "metadata": {
        "id": "7j0Wga8io7ZD",
        "outputId": "29fb626b-9e53-4085-adfd-dd380f744901"
      },
      "outputs": [
        {
          "data": {
            "application/javascript": [
              "if (!(\"Notification\" in window)) {\n",
              "    alert(\"This browser does not support desktop notifications, so the %%notify magic will not work.\");\n",
              "} else if (Notification.permission !== 'granted' && Notification.permission !== 'denied') {\n",
              "    Notification.requestPermission(function (permission) {\n",
              "        if(!('permission' in Notification)) {\n",
              "            Notification.permission = permission;\n",
              "        }\n",
              "    })\n",
              "}\n",
              "\n",
              "if(!window.jQuery) {\n",
              "    var jq = document.createElement('script');\n",
              "    jq.src = \"//ajax.googleapis.com/ajax/libs/jquery/2.1.4/jquery.min.js\";\n",
              "    document.getElementsByTagName('head')[0].appendChild(jq);\n",
              "}\n",
              "\n",
              "// Detect if the window is out of focus.\n",
              "window.jupyterNotifyIsInBackground = undefined;\n",
              "(function() {\n",
              "    // Check document.hidden support\n",
              "    var hidden;\n",
              "    if (typeof document.hidden !== \"undefined\") { // Opera 12.10 and Firefox 18 and later support\n",
              "      hidden = \"hidden\";\n",
              "    } else if (typeof document.msHidden !== \"undefined\") {\n",
              "      hidden = \"msHidden\";\n",
              "    } else if (typeof document.webkitHidden !== \"undefined\") {\n",
              "      hidden = \"webkitHidden\";\n",
              "    }\n",
              "\n",
              "    // Set initial background state\n",
              "    if (document[hidden]) {\n",
              "      window.jupyterNotifyIsInBackground = true;\n",
              "    } else {\n",
              "      window.jupyterNotifyIsInBackground = false;\n",
              "    }\n",
              "\n",
              "    window.addEventListener('blur', function() { window.jupyterNotifyIsInBackground = true; }, false);\n",
              "    window.addEventListener('focus', function() { window.jupyterNotifyIsInBackground = false; }, false);\n",
              "})();\n"
            ],
            "text/plain": [
              "<IPython.core.display.Javascript object>"
            ]
          },
          "metadata": {},
          "output_type": "display_data"
        }
      ],
      "source": [
        "%load_ext jupyternotify"
      ]
    },
    {
      "cell_type": "code",
      "execution_count": null,
      "metadata": {
        "id": "iWWi1zMYo7ZD"
      },
      "outputs": [],
      "source": [
        "%autonotify -a 30 -o"
      ]
    },
    {
      "cell_type": "markdown",
      "metadata": {
        "id": "DkrtaRkauKLL"
      },
      "source": [
        "### Set HF Cache"
      ]
    },
    {
      "cell_type": "code",
      "execution_count": null,
      "metadata": {
        "id": "hpIyW4yWuHvd"
      },
      "outputs": [],
      "source": [
        "# %env HF_DATASETS_CACHE"
      ]
    },
    {
      "cell_type": "code",
      "execution_count": null,
      "metadata": {
        "id": "hHOfHUYQduRX"
      },
      "outputs": [],
      "source": [
        "#%env TRANSFORMERS_CACHE"
      ]
    },
    {
      "cell_type": "code",
      "execution_count": null,
      "metadata": {
        "id": "oR9oblHTduRY"
      },
      "outputs": [],
      "source": [
        "!rm -rf /root/.cache"
      ]
    },
    {
      "cell_type": "code",
      "execution_count": null,
      "metadata": {
        "id": "KkaKgWKnduRY"
      },
      "outputs": [],
      "source": [
        "!mkdir -p /content/cache"
      ]
    },
    {
      "cell_type": "code",
      "execution_count": null,
      "metadata": {
        "id": "aJMsnPnOduRY"
      },
      "outputs": [],
      "source": [
        "!ln -s /content/cache /root/.cache"
      ]
    },
    {
      "cell_type": "markdown",
      "metadata": {
        "id": "FkZ6RzFyiAue"
      },
      "source": [
        "### Speed up model download"
      ]
    },
    {
      "cell_type": "code",
      "execution_count": null,
      "metadata": {
        "id": "huZ5eZUUgJ76",
        "outputId": "ae3286d2-d076-4885-e736-11f70e4df99a"
      },
      "outputs": [
        {
          "name": "stdout",
          "output_type": "stream",
          "text": [
            "Hit:1 http://archive.ubuntu.com/ubuntu jammy InRelease\n",
            "Get:2 http://security.ubuntu.com/ubuntu jammy-security InRelease [110 kB]      \n",
            "Get:3 http://archive.ubuntu.com/ubuntu jammy-updates InRelease [119 kB]        \n",
            "Hit:4 https://developer.download.nvidia.com/compute/cuda/repos/ubuntu2204/x86_64  InRelease\n",
            "Get:5 http://archive.ubuntu.com/ubuntu jammy-backports InRelease [108 kB]\n",
            "Get:6 http://archive.ubuntu.com/ubuntu jammy-updates/universe amd64 Packages [1185 kB]\n",
            "Get:7 http://archive.ubuntu.com/ubuntu jammy-updates/main amd64 Packages [919 kB]\n",
            "Get:8 http://archive.ubuntu.com/ubuntu jammy-updates/restricted amd64 Packages [545 kB]\n",
            "Fetched 2985 kB in 1s (3189 kB/s)                        \n",
            "Reading package lists... Done\n",
            "Reading package lists... Done\n",
            "Building dependency tree... Done\n",
            "Reading state information... Done\n",
            "The following additional packages will be installed:\n",
            "  libaria2-0 libc-ares2 libicu70 libssh2-1 libxml2\n",
            "The following NEW packages will be installed:\n",
            "  aria2 libaria2-0 libc-ares2 libicu70 libssh2-1 libxml2\n",
            "0 upgraded, 6 newly installed, 0 to remove and 58 not upgraded.\n",
            "Need to get 13.0 MB of archives.\n",
            "After this operation, 43.2 MB of additional disk space will be used.\n",
            "Get:1 http://archive.ubuntu.com/ubuntu jammy/main amd64 libicu70 amd64 70.1-2 [10.6 MB]\n",
            "Get:2 http://archive.ubuntu.com/ubuntu jammy-updates/main amd64 libxml2 amd64 2.9.13+dfsg-1ubuntu0.3 [763 kB]\n",
            "Get:3 http://archive.ubuntu.com/ubuntu jammy-updates/main amd64 libc-ares2 amd64 1.18.1-1ubuntu0.22.04.2 [45.0 kB]\n",
            "Get:4 http://archive.ubuntu.com/ubuntu jammy/universe amd64 libssh2-1 amd64 1.10.0-3 [109 kB]\n",
            "Get:5 http://archive.ubuntu.com/ubuntu jammy/universe amd64 libaria2-0 amd64 1.36.0-1 [1086 kB]\n",
            "Get:6 http://archive.ubuntu.com/ubuntu jammy/universe amd64 aria2 amd64 1.36.0-1 [381 kB]\n",
            "Fetched 13.0 MB in 2s (8370 kB/s)\n",
            "debconf: delaying package configuration, since apt-utils is not installed\n",
            "Selecting previously unselected package libicu70:amd64.\n",
            "(Reading database ... 17816 files and directories currently installed.)\n",
            "Preparing to unpack .../0-libicu70_70.1-2_amd64.deb ...\n",
            "Unpacking libicu70:amd64 (70.1-2) ...\n",
            "Selecting previously unselected package libxml2:amd64.\n",
            "Preparing to unpack .../1-libxml2_2.9.13+dfsg-1ubuntu0.3_amd64.deb ...\n",
            "Unpacking libxml2:amd64 (2.9.13+dfsg-1ubuntu0.3) ...\n",
            "Selecting previously unselected package libc-ares2:amd64.\n",
            "Preparing to unpack .../2-libc-ares2_1.18.1-1ubuntu0.22.04.2_amd64.deb ...\n",
            "Unpacking libc-ares2:amd64 (1.18.1-1ubuntu0.22.04.2) ...\n",
            "Selecting previously unselected package libssh2-1:amd64.\n",
            "Preparing to unpack .../3-libssh2-1_1.10.0-3_amd64.deb ...\n",
            "Unpacking libssh2-1:amd64 (1.10.0-3) ...\n",
            "Selecting previously unselected package libaria2-0:amd64.\n",
            "Preparing to unpack .../4-libaria2-0_1.36.0-1_amd64.deb ...\n",
            "Unpacking libaria2-0:amd64 (1.36.0-1) ...\n",
            "Selecting previously unselected package aria2.\n",
            "Preparing to unpack .../5-aria2_1.36.0-1_amd64.deb ...\n",
            "Unpacking aria2 (1.36.0-1) ...\n",
            "Setting up libc-ares2:amd64 (1.18.1-1ubuntu0.22.04.2) ...\n",
            "Setting up libssh2-1:amd64 (1.10.0-3) ...\n",
            "Setting up libicu70:amd64 (70.1-2) ...\n",
            "Setting up libxml2:amd64 (2.9.13+dfsg-1ubuntu0.3) ...\n",
            "Setting up libaria2-0:amd64 (1.36.0-1) ...\n",
            "Setting up aria2 (1.36.0-1) ...\n",
            "Processing triggers for libc-bin (2.35-0ubuntu3.1) ...\n",
            "Updated git hooks.\n",
            "Git LFS initialized.\n",
            "Requirement already satisfied: requests in /root/miniconda3/envs/py3.9/lib/python3.9/site-packages (2.31.0)\n",
            "Requirement already satisfied: huggingface_hub in /root/miniconda3/envs/py3.9/lib/python3.9/site-packages (0.15.1)\n",
            "Requirement already satisfied: charset-normalizer<4,>=2 in /root/miniconda3/envs/py3.9/lib/python3.9/site-packages (from requests) (3.1.0)\n",
            "Requirement already satisfied: idna<4,>=2.5 in /root/miniconda3/envs/py3.9/lib/python3.9/site-packages (from requests) (3.4)\n",
            "Requirement already satisfied: urllib3<3,>=1.21.1 in /root/miniconda3/envs/py3.9/lib/python3.9/site-packages (from requests) (2.0.3)\n",
            "Requirement already satisfied: certifi>=2017.4.17 in /root/miniconda3/envs/py3.9/lib/python3.9/site-packages (from requests) (2023.5.7)\n",
            "Requirement already satisfied: filelock in /root/miniconda3/envs/py3.9/lib/python3.9/site-packages (from huggingface_hub) (3.12.2)\n",
            "Requirement already satisfied: fsspec in /root/miniconda3/envs/py3.9/lib/python3.9/site-packages (from huggingface_hub) (2023.6.0)\n",
            "Requirement already satisfied: tqdm>=4.42.1 in /root/miniconda3/envs/py3.9/lib/python3.9/site-packages (from huggingface_hub) (4.65.0)\n",
            "Requirement already satisfied: pyyaml>=5.1 in /root/miniconda3/envs/py3.9/lib/python3.9/site-packages (from huggingface_hub) (6.0)\n",
            "Requirement already satisfied: typing-extensions>=3.7.4.3 in /root/miniconda3/envs/py3.9/lib/python3.9/site-packages (from huggingface_hub) (4.6.3)\n",
            "Requirement already satisfied: packaging>=20.9 in /root/miniconda3/envs/py3.9/lib/python3.9/site-packages (from huggingface_hub) (23.1)\n",
            "\u001b[33mWARNING: Running pip as the 'root' user can result in broken permissions and conflicting behaviour with the system package manager. It is recommended to use a virtual environment instead: https://pip.pypa.io/warnings/venv\u001b[0m\u001b[33m\n",
            "\u001b[0m"
          ]
        }
      ],
      "source": [
        "!apt-get update\n",
        "!apt-get install -y aria2\n",
        "!git lfs install\n",
        "!pip install requests huggingface_hub"
      ]
    },
    {
      "cell_type": "code",
      "execution_count": null,
      "metadata": {
        "id": "dqzd-Ul4iMPf"
      },
      "outputs": [],
      "source": [
        "#%cd /content/"
      ]
    },
    {
      "cell_type": "code",
      "execution_count": null,
      "metadata": {
        "id": "mmJ7tmaIifTR"
      },
      "outputs": [],
      "source": [
        "#!git clone https://github.com/utensil/llm-playground"
      ]
    },
    {
      "cell_type": "code",
      "execution_count": null,
      "metadata": {
        "id": "29dpWyRujiSZ",
        "outputId": "e97d1254-edad-4510-c694-4973186323ab"
      },
      "outputs": [
        {
          "name": "stdout",
          "output_type": "stream",
          "text": [
            "/content/llm-playground\n"
          ]
        }
      ],
      "source": [
        "%cd /content/llm-playground"
      ]
    },
    {
      "cell_type": "code",
      "execution_count": null,
      "metadata": {
        "id": "c8nAsJ4ggJ77",
        "scrolled": true,
        "outputId": "65f92918-64fe-4d5b-cf4c-bc7417fceac1"
      },
      "outputs": [
        {
          "name": "stdout",
          "output_type": "stream",
          "text": [
            "Working directory changed to: /content/llm-playground/helper/..\n",
            "Skipping: .gitattributes\n",
            "Downloading the model to models/tiiuae_falcon-40b\n",
            "Running: aria2c -c -x 16 -s 16 -k 1M https://huggingface.co/tiiuae/falcon-40b/resolve/main/README.md -d models/tiiuae_falcon-40b -o README.md\n",
            "Running: aria2c -c -x 16 -s 16 -k 1M https://huggingface.co/tiiuae/falcon-40b/resolve/main/config.json -d models/tiiuae_falcon-40b -o config.json\n",
            "Running: aria2c -c -x 16 -s 16 -k 1M https://huggingface.co/tiiuae/falcon-40b/resolve/main/configuration_RW.py -d models/tiiuae_falcon-40b -o configuration_RW.py\n",
            "Running: aria2c -c -x 16 -s 16 -k 1M https://huggingface.co/tiiuae/falcon-40b/resolve/main/generation_config.json -d models/tiiuae_falcon-40b -o generation_config.json\n",
            "Running: aria2c -c -x 16 -s 16 -k 1M https://huggingface.co/tiiuae/falcon-40b/resolve/main/modelling_RW.py -d models/tiiuae_falcon-40b -o modelling_RW.py\n",
            "\n",
            "06/16 05:46:00 [\u001b[1;32mNOTICE\u001b[0m] Downloading 1 item(s)\n",
            "Running: aria2c -c -x 16 -s 16 -k 1M https://huggingface.co/tiiuae/falcon-40b/resolve/main/pytorch_model-00001-of-00009.bin -d models/tiiuae_falcon-40b -o pytorch_model-00001-of-00009.bin\n",
            "\n",
            "06/16 05:46:00 [\u001b[1;32mNOTICE\u001b[0m] Downloading 1 item(s)\n",
            "\n",
            "06/16 05:46:00 [\u001b[1;32mNOTICE\u001b[0m] Downloading 1 item(s)\n",
            "Running: aria2c -c -x 16 -s 16 -k 1M https://huggingface.co/tiiuae/falcon-40b/resolve/main/pytorch_model-00002-of-00009.bin -d models/tiiuae_falcon-40b -o pytorch_model-00002-of-00009.bin\n",
            "\n",
            "06/16 05:46:00 [\u001b[1;32mNOTICE\u001b[0m] Downloading 1 item(s)\n",
            "Running: aria2c -c -x 16 -s 16 -k 1M https://huggingface.co/tiiuae/falcon-40b/resolve/main/pytorch_model-00003-of-00009.bin -d models/tiiuae_falcon-40b -o pytorch_model-00003-of-00009.bin\n",
            "  0%|                                                    | 0/18 [00:00<?, ?it/s]\n",
            "06/16 05:46:00 [\u001b[1;32mNOTICE\u001b[0m] Downloading 1 item(s)\n",
            "\n",
            "06/16 05:46:00 [\u001b[1;32mNOTICE\u001b[0m] Downloading 1 item(s)\n",
            "\n",
            "06/16 05:46:00 [\u001b[1;32mNOTICE\u001b[0m] Downloading 1 item(s)\n",
            "\n",
            "06/16 05:46:00 [\u001b[1;32mNOTICE\u001b[0m] Downloading 1 item(s)\n",
            "\n",
            "06/16 05:46:00 [\u001b[1;32mNOTICE\u001b[0m] Download complete: models/tiiuae_falcon-40b/configuration_RW.py\n",
            "\n",
            "Download Results:\n",
            "gid   |stat|avg speed  |path/URI\n",
            "======+====+===========+=======================================================\n",
            "0d4633|\u001b[1;32mOK\u001b[0m  |        n/a|models/tiiuae_falcon-40b/configuration_RW.py\n",
            "\n",
            "Status Legend:\n",
            "(OK):download completed.\n",
            "\n",
            "06/16 05:46:00 [\u001b[1;32mNOTICE\u001b[0m] Download complete: models/tiiuae_falcon-40b/config.json\n",
            "\n",
            "Download Results:\n",
            "gid   |stat|avg speed  |path/URI\n",
            "======+====+===========+=======================================================\n",
            "1e2c93|\u001b[1;32mOK\u001b[0m  |        n/a|models/tiiuae_falcon-40b/config.json\n",
            "\n",
            "Status Legend:\n",
            "(OK):download completed.\n",
            "Running: aria2c -c -x 16 -s 16 -k 1M https://huggingface.co/tiiuae/falcon-40b/resolve/main/pytorch_model-00004-of-00009.bin -d models/tiiuae_falcon-40b -o pytorch_model-00004-of-00009.bin\n",
            "\n",
            "06/16 05:46:00 [\u001b[1;32mNOTICE\u001b[0m] Download complete: models/tiiuae_falcon-40b/generation_config.json\n",
            "\n",
            "Download Results:\n",
            "gid   |stat|avg speed  |path/URI\n",
            "======+====+===========+=======================================================\n",
            "0072bb|\u001b[1;32mOK\u001b[0m  |        n/a|models/tiiuae_falcon-40b/generation_config.json\n",
            "\n",
            "Status Legend:\n",
            "(OK):download completed.\n",
            "Running: aria2c -c -x 16 -s 16 -k 1M https://huggingface.co/tiiuae/falcon-40b/resolve/main/pytorch_model-00005-of-00009.bin -d models/tiiuae_falcon-40b -o pytorch_model-00005-of-00009.bin\n",
            "Running: aria2c -c -x 16 -s 16 -k 1M https://huggingface.co/tiiuae/falcon-40b/resolve/main/pytorch_model-00006-of-00009.bin -d models/tiiuae_falcon-40b -o pytorch_model-00006-of-00009.bin\n",
            "\n",
            "06/16 05:46:00 [\u001b[1;32mNOTICE\u001b[0m] CUID#7 - Redirecting to https://cdn-lfs.huggingface.co/repos/a3/72/a37288fd25de45b6a8bbb79801907289f6c12bb870db68f75b0024193da1f047/b2125ceee3992a093f9808efc9a720643a44e59b17baa77eddb0fbec6965ce5a?response-content-disposition=attachment%3B+filename*%3DUTF-8%27%27pytorch_model-00003-of-00009.bin%3B+filename%3D%22pytorch_model-00003-of-00009.bin%22%3B&response-content-type=application%2Foctet-stream&Expires=1687153231&Policy=eyJTdGF0ZW1lbnQiOlt7IlJlc291cmNlIjoiaHR0cHM6Ly9jZG4tbGZzLmh1Z2dpbmdmYWNlLmNvL3JlcG9zL2EzLzcyL2EzNzI4OGZkMjVkZTQ1YjZhOGJiYjc5ODAxOTA3Mjg5ZjZjMTJiYjg3MGRiNjhmNzViMDAyNDE5M2RhMWYwNDcvYjIxMjVjZWVlMzk5MmEwOTNmOTgwOGVmYzlhNzIwNjQzYTQ0ZTU5YjE3YmFhNzdlZGRiMGZiZWM2OTY1Y2U1YT9yZXNwb25zZS1jb250ZW50LWRpc3Bvc2l0aW9uPSomcmVzcG9uc2UtY29udGVudC10eXBlPSoiLCJDb25kaXRpb24iOnsiRGF0ZUxlc3NUaGFuIjp7IkFXUzpFcG9jaFRpbWUiOjE2ODcxNTMyMzF9fX1dfQ__&Signature=zq6%7EQqPrJV3VrXo4T9TbcecaeSYQR8UtAxm6%7EOQuxZp4gg4SUwMGQyBTucihhYS8tT9MtN0GHLbVgh7Mn62BpTs5q4z0wx9bsg1Btr624rsr937P5a9hWlwqXi3APOh9wnGEINK5liH-Jv1W69wDWoCLHX04FiXYLt50AqPWR4JQ8VUPacshFEsrDM1F85wVl77IadH%7EmvyWMTYJ%7ErCSxdz4q2-hWeC7gMPTUf43Wo6mzSJisVpkTX6nrsGMTWcvr%7EU4z-euMbGgnf-IsJGWeYhIL9WglLYXBgfo7HedX6IiVPx5xMcVgrOaRPs%7EbbNq6Cd7RUa6pf%7E02xdaX4dGDg__&Key-Pair-Id=KVTP0A1DKRTAX\n",
            "\n",
            "06/16 05:46:00 [\u001b[1;32mNOTICE\u001b[0m] Downloading 1 item(s)\n",
            "\n",
            "06/16 05:46:00 [\u001b[1;32mNOTICE\u001b[0m] Downloading 1 item(s)\n",
            "\n",
            "06/16 05:46:00 [\u001b[1;32mNOTICE\u001b[0m] Downloading 1 item(s)\n",
            "\n",
            "06/16 05:46:00 [\u001b[1;32mNOTICE\u001b[0m] Download complete: models/tiiuae_falcon-40b/modelling_RW.py\n",
            "\n",
            "Download Results:\n",
            "gid   |stat|avg speed  |path/URI\n",
            "======+====+===========+=======================================================\n",
            "44c44b|\u001b[1;32mOK\u001b[0m  |   1.3MiB/s|models/tiiuae_falcon-40b/modelling_RW.py\n",
            "\n",
            "Status Legend:\n",
            "(OK):download completed.\n",
            "Running: aria2c -c -x 16 -s 16 -k 1M https://huggingface.co/tiiuae/falcon-40b/resolve/main/pytorch_model-00007-of-00009.bin -d models/tiiuae_falcon-40b -o pytorch_model-00007-of-00009.bin\n",
            "\n",
            "06/16 05:46:00 [\u001b[1;32mNOTICE\u001b[0m] Downloading 1 item(s)\n",
            "\n",
            "06/16 05:46:01 [\u001b[1;32mNOTICE\u001b[0m] CUID#7 - Redirecting to https://cdn-lfs.huggingface.co/repos/a3/72/a37288fd25de45b6a8bbb79801907289f6c12bb870db68f75b0024193da1f047/384bd92e6d1d0b6a133b1d81bad915a10d954d1bfcdf4fdc8b6d0d81b4f5e9e8?response-content-disposition=attachment%3B+filename*%3DUTF-8%27%27pytorch_model-00001-of-00009.bin%3B+filename%3D%22pytorch_model-00001-of-00009.bin%22%3B&response-content-type=application%2Foctet-stream&Expires=1687153561&Policy=eyJTdGF0ZW1lbnQiOlt7IlJlc291cmNlIjoiaHR0cHM6Ly9jZG4tbGZzLmh1Z2dpbmdmYWNlLmNvL3JlcG9zL2EzLzcyL2EzNzI4OGZkMjVkZTQ1YjZhOGJiYjc5ODAxOTA3Mjg5ZjZjMTJiYjg3MGRiNjhmNzViMDAyNDE5M2RhMWYwNDcvMzg0YmQ5MmU2ZDFkMGI2YTEzM2IxZDgxYmFkOTE1YTEwZDk1NGQxYmZjZGY0ZmRjOGI2ZDBkODFiNGY1ZTllOD9yZXNwb25zZS1jb250ZW50LWRpc3Bvc2l0aW9uPSomcmVzcG9uc2UtY29udGVudC10eXBlPSoiLCJDb25kaXRpb24iOnsiRGF0ZUxlc3NUaGFuIjp7IkFXUzpFcG9jaFRpbWUiOjE2ODcxNTM1NjF9fX1dfQ__&Signature=iNaCCN6qnYFUxwnxQeaAeD2SIvmH6QQU3oSUMU3ooPseaimTNN3Igpx1aeYQYHjAW5qvItarVqk5JoiEOfHkumJZgm3-OiKcbQPc7SXMnHA7Z6ItKrvN82N2l363JIGLpuPgfW1cSyqPRhHRTIu-h2RAKuCM6RI-VZz6904k5IQhat3GtF4H2JKlPZ-tL1Jn9z6TPH4ebt7hXY56opM2MsAk%7EdiE84luPziZv73vYL5ImQwroT2ctd35LuPXC82zo%7EZVBWpwFoDE3Wf3ofq8QMdCL%7E5PTgSby58IliJugvr9pTF9zjT8OGWnzbJo20jx2qaeseMLhrziyBP0Y5zntA__&Key-Pair-Id=KVTP0A1DKRTAX\n",
            "\n",
            "06/16 05:46:01 [\u001b[1;32mNOTICE\u001b[0m] CUID#7 - Redirecting to https://cdn-lfs.huggingface.co/repos/a3/72/a37288fd25de45b6a8bbb79801907289f6c12bb870db68f75b0024193da1f047/638cb048ee6ad66f85a176e980332b0d61cbddb2d5dc9b5ad1863d87e020350c?response-content-disposition=attachment%3B+filename*%3DUTF-8%27%27pytorch_model-00002-of-00009.bin%3B+filename%3D%22pytorch_model-00002-of-00009.bin%22%3B&response-content-type=application%2Foctet-stream&Expires=1687153561&Policy=eyJTdGF0ZW1lbnQiOlt7IlJlc291cmNlIjoiaHR0cHM6Ly9jZG4tbGZzLmh1Z2dpbmdmYWNlLmNvL3JlcG9zL2EzLzcyL2EzNzI4OGZkMjVkZTQ1YjZhOGJiYjc5ODAxOTA3Mjg5ZjZjMTJiYjg3MGRiNjhmNzViMDAyNDE5M2RhMWYwNDcvNjM4Y2IwNDhlZTZhZDY2Zjg1YTE3NmU5ODAzMzJiMGQ2MWNiZGRiMmQ1ZGM5YjVhZDE4NjNkODdlMDIwMzUwYz9yZXNwb25zZS1jb250ZW50LWRpc3Bvc2l0aW9uPSomcmVzcG9uc2UtY29udGVudC10eXBlPSoiLCJDb25kaXRpb24iOnsiRGF0ZUxlc3NUaGFuIjp7IkFXUzpFcG9jaFRpbWUiOjE2ODcxNTM1NjF9fX1dfQ__&Signature=LNCXuhpYoleRWT-Nit7xH-JUlnQ1ZYlrPjw5rQjEspFAw2GEmsGPo4d4ZX%7EI6ob6sO6twKaJHSgi2Ttycr3d3XlIdDocZ3nuYzzqGKc04ytd9BRpoX99Fwd0k9SuOMC0HW3sgdachv2HA-SbgisfFUp%7E6ghkxIaAeS0cFWK3jq2pZGbOtA1RyJ-40dnyt1wRNAdgrmmPGY4LBgCijyhJz4zj6diZfHI2tzlo2GtmxQL8P2UH1x1WK0af6rnA%7E-RexFGMdv7ZYBHTmW8hRPRyK-h-SmFNGlB-JTC4910c5nNTHLiZwNv3pcryfdHPj0b13O9W9gLIRWUCWUAsIFbqAQ__&Key-Pair-Id=KVTP0A1DKRTAX\n",
            "\n",
            "06/16 05:46:01 [\u001b[1;32mNOTICE\u001b[0m] CUID#7 - Redirecting to https://cdn-lfs.huggingface.co/repos/a3/72/a37288fd25de45b6a8bbb79801907289f6c12bb870db68f75b0024193da1f047/d6376a884bc80a6ea95da83f963508e57d8508333c424bed7beda565e4aaa0f3?response-content-disposition=attachment%3B+filename*%3DUTF-8%27%27pytorch_model-00006-of-00009.bin%3B+filename%3D%22pytorch_model-00006-of-00009.bin%22%3B&response-content-type=application%2Foctet-stream&Expires=1687153561&Policy=eyJTdGF0ZW1lbnQiOlt7IlJlc291cmNlIjoiaHR0cHM6Ly9jZG4tbGZzLmh1Z2dpbmdmYWNlLmNvL3JlcG9zL2EzLzcyL2EzNzI4OGZkMjVkZTQ1YjZhOGJiYjc5ODAxOTA3Mjg5ZjZjMTJiYjg3MGRiNjhmNzViMDAyNDE5M2RhMWYwNDcvZDYzNzZhODg0YmM4MGE2ZWE5NWRhODNmOTYzNTA4ZTU3ZDg1MDgzMzNjNDI0YmVkN2JlZGE1NjVlNGFhYTBmMz9yZXNwb25zZS1jb250ZW50LWRpc3Bvc2l0aW9uPSomcmVzcG9uc2UtY29udGVudC10eXBlPSoiLCJDb25kaXRpb24iOnsiRGF0ZUxlc3NUaGFuIjp7IkFXUzpFcG9jaFRpbWUiOjE2ODcxNTM1NjF9fX1dfQ__&Signature=ntw8OyVxaP5xy4ZfnDAjS1A-oRCBJXvzxyaDnSvXB9OBVeYwIL3PDxb%7EqMP7GsDjeItpkT4qYHkMCaXFD7V7PVkXU3Iv5Gg4EJ-nh--h3-ueT2pLR2aEEzurxt1rir%7EzK6oXm0546iZLYjzRhxQlAqfbdc38YXvUmJA-thJxwyzWfg8LO0e7oUrhceD8bK8qnP8xcdf7aXHH15cS3p%7EqscnGamJOl7ueSY%7EpzBq521QI9HeGOA-YVErtGUP7KvrcgYRcVa0LHNPl8qc8giszj2wVisf%7E9FOxrB1Ahvqn29Paqjb1eTQVVD0Yeg4ZuDQLzYscswMf%7EDgax2BzY-ZRYA__&Key-Pair-Id=KVTP0A1DKRTAX\n",
            "\n",
            "06/16 05:46:01 [\u001b[1;32mNOTICE\u001b[0m] Download complete: models/tiiuae_falcon-40b/README.md\n",
            "\n",
            "Download Results:\n",
            "gid   |stat|avg speed  |path/URI\n",
            "======+====+===========+=======================================================\n",
            "56868b|\u001b[1;32mOK\u001b[0m  |        n/a|models/tiiuae_falcon-40b/README.md\n",
            "\n",
            "Status Legend:\n",
            "(OK):download completed.\n",
            "\n",
            "06/16 05:46:01 [\u001b[1;32mNOTICE\u001b[0m] CUID#7 - Redirecting to https://cdn-lfs.huggingface.co/repos/a3/72/a37288fd25de45b6a8bbb79801907289f6c12bb870db68f75b0024193da1f047/2fc011e39d4a9c5958630b1bb946dec9ca54adbccc52804fed545490f995b20b?response-content-disposition=attachment%3B+filename*%3DUTF-8%27%27pytorch_model-00004-of-00009.bin%3B+filename%3D%22pytorch_model-00004-of-00009.bin%22%3B&response-content-type=application%2Foctet-stream&Expires=1687153561&Policy=eyJTdGF0ZW1lbnQiOlt7IlJlc291cmNlIjoiaHR0cHM6Ly9jZG4tbGZzLmh1Z2dpbmdmYWNlLmNvL3JlcG9zL2EzLzcyL2EzNzI4OGZkMjVkZTQ1YjZhOGJiYjc5ODAxOTA3Mjg5ZjZjMTJiYjg3MGRiNjhmNzViMDAyNDE5M2RhMWYwNDcvMmZjMDExZTM5ZDRhOWM1OTU4NjMwYjFiYjk0NmRlYzljYTU0YWRiY2NjNTI4MDRmZWQ1NDU0OTBmOTk1YjIwYj9yZXNwb25zZS1jb250ZW50LWRpc3Bvc2l0aW9uPSomcmVzcG9uc2UtY29udGVudC10eXBlPSoiLCJDb25kaXRpb24iOnsiRGF0ZUxlc3NUaGFuIjp7IkFXUzpFcG9jaFRpbWUiOjE2ODcxNTM1NjF9fX1dfQ__&Signature=C2SJlMxnLLBXXdTGqMzx2uo8ovqyMzqdZuQ2YUgEM8pil%7EY6e7vMjNRsOyXQ3lcv22CQ2FuScm787msIuuwDVAvgsk6LBW-H78geLWFy0MHPHk1%7EtN4umdBEaPv3OU6mWicQA%7Ey%7EgW7W6L0q0-WYz15plFwPkvIPawbZaj-vFIrmMlO3ZfxONU1eKZyFYTKhCeec1bSwpKNjOfX6wUgY33ktN9LsYIxjkn-2IKKTR5HoF2Pe9uxsI-Getd6GWIbHWPDpqpEBgi1n7npMVqe4e-7Mcy9%7EWcVMEj5Ti0N6HCp-7AcI-z%7E27nYmRs%7E24YmkefV%7EkZEad5GW9KhlHtSjnw__&Key-Pair-Id=KVTP0A1DKRTAX\n",
            "Running: aria2c -c -x 16 -s 16 -k 1M https://huggingface.co/tiiuae/falcon-40b/resolve/main/pytorch_model-00008-of-00009.bin -d models/tiiuae_falcon-40b -o pytorch_model-00008-of-00009.bin\n",
            "  6%|██▍                                         | 1/18 [00:00<00:07,  2.14it/s]\n",
            "06/16 05:46:01 [\u001b[1;32mNOTICE\u001b[0m] Downloading 1 item(s)\n",
            "\n",
            "06/16 05:46:01 [\u001b[1;32mNOTICE\u001b[0m] CUID#7 - Redirecting to https://cdn-lfs.huggingface.co/repos/a3/72/a37288fd25de45b6a8bbb79801907289f6c12bb870db68f75b0024193da1f047/c3f07c8ec31edebe5ff80ed32d175475a044a0517d84c5eff6f6247ad0a4432d?response-content-disposition=attachment%3B+filename*%3DUTF-8%27%27pytorch_model-00007-of-00009.bin%3B+filename%3D%22pytorch_model-00007-of-00009.bin%22%3B&response-content-type=application%2Foctet-stream&Expires=1687153395&Policy=eyJTdGF0ZW1lbnQiOlt7IlJlc291cmNlIjoiaHR0cHM6Ly9jZG4tbGZzLmh1Z2dpbmdmYWNlLmNvL3JlcG9zL2EzLzcyL2EzNzI4OGZkMjVkZTQ1YjZhOGJiYjc5ODAxOTA3Mjg5ZjZjMTJiYjg3MGRiNjhmNzViMDAyNDE5M2RhMWYwNDcvYzNmMDdjOGVjMzFlZGViZTVmZjgwZWQzMmQxNzU0NzVhMDQ0YTA1MTdkODRjNWVmZjZmNjI0N2FkMGE0NDMyZD9yZXNwb25zZS1jb250ZW50LWRpc3Bvc2l0aW9uPSomcmVzcG9uc2UtY29udGVudC10eXBlPSoiLCJDb25kaXRpb24iOnsiRGF0ZUxlc3NUaGFuIjp7IkFXUzpFcG9jaFRpbWUiOjE2ODcxNTMzOTV9fX1dfQ__&Signature=tD3kJmLr8Gr3%7EEck4PaiT-86UTluGOoxUWxNbjOuNxXiqHcWOhSOzvOf04xe6EvsZdYHWcZm0AN4eLSj1LX-QI-yrMG-4tyJhwVPLrplU43Jwx5l0FSgkhyIgkNoShQmijKM-z6fZFMn1ECnYXvhZ0VlGcLBNRR7AK16Wcer-VGgdLTBsyTx6Kxt7sZE2Q9mEQnUETpbpGb27DNKlIvMKUnTwsuwqjsmF-8njMtkmpBolHjg-sF3dl6JR3ywE6dSuxHvcEO7rr6k9nR7rqK5jgs-e6jApr7iaevWcM9-8IQOPmxr-iOsU7bJUNs6Ap9u8gRwX6Eb3xTZ3oZyUE%7ECiw__&Key-Pair-Id=KVTP0A1DKRTAX\n",
            "\n",
            "06/16 05:46:01 [\u001b[1;32mNOTICE\u001b[0m] CUID#9 - Redirecting to https://cdn-lfs.huggingface.co/repos/a3/72/a37288fd25de45b6a8bbb79801907289f6c12bb870db68f75b0024193da1f047/b2125ceee3992a093f9808efc9a720643a44e59b17baa77eddb0fbec6965ce5a?response-content-disposition=attachment%3B+filename*%3DUTF-8%27%27pytorch_model-00003-of-00009.bin%3B+filename%3D%22pytorch_model-00003-of-00009.bin%22%3B&response-content-type=application%2Foctet-stream&Expires=1687153561&Policy=eyJTdGF0ZW1lbnQiOlt7IlJlc291cmNlIjoiaHR0cHM6Ly9jZG4tbGZzLmh1Z2dpbmdmYWNlLmNvL3JlcG9zL2EzLzcyL2EzNzI4OGZkMjVkZTQ1YjZhOGJiYjc5ODAxOTA3Mjg5ZjZjMTJiYjg3MGRiNjhmNzViMDAyNDE5M2RhMWYwNDcvYjIxMjVjZWVlMzk5MmEwOTNmOTgwOGVmYzlhNzIwNjQzYTQ0ZTU5YjE3YmFhNzdlZGRiMGZiZWM2OTY1Y2U1YT9yZXNwb25zZS1jb250ZW50LWRpc3Bvc2l0aW9uPSomcmVzcG9uc2UtY29udGVudC10eXBlPSoiLCJDb25kaXRpb24iOnsiRGF0ZUxlc3NUaGFuIjp7IkFXUzpFcG9jaFRpbWUiOjE2ODcxNTM1NjF9fX1dfQ__&Signature=q1YOzZWADzqibBgxzBqNn7Sl%7E9gT%7EjCMOJC027WpKb0jQygqSz2x-KMetuJ15g4Wv6bBiQ1MgvetRI1En5Prc39f908xMml8fvldCw9No%7Ed6DCdhttoYI5rCBM4ASTggw2%7EY7u7fjydjDF-rprYBVevOSZyrMExdFsj3kwttEQ2H3VGGTCduTxC%7EylpI%7E-jRArOO9yNB3CxoD4UeIonEgT6SzB0CamYaU8JC2Bo4tUF%7EqSpp7Pm4ATxuNCevuUzMxxrryZF0PHY8X4pFzc2UsINsdqovb%7E7L8vcnzdojp4HERBqbGtU2AvYuPow7fWbcCXP3%7EiA0N-XGg6ZsBjlcRQ__&Key-Pair-Id=KVTP0A1DKRTAX\n",
            "\n",
            "06/16 05:46:01 [\u001b[1;32mNOTICE\u001b[0m] CUID#10 - Redirecting to https://cdn-lfs.huggingface.co/repos/a3/72/a37288fd25de45b6a8bbb79801907289f6c12bb870db68f75b0024193da1f047/b2125ceee3992a093f9808efc9a720643a44e59b17baa77eddb0fbec6965ce5a?response-content-disposition=attachment%3B+filename*%3DUTF-8%27%27pytorch_model-00003-of-00009.bin%3B+filename%3D%22pytorch_model-00003-of-00009.bin%22%3B&response-content-type=application%2Foctet-stream&Expires=1687153561&Policy=eyJTdGF0ZW1lbnQiOlt7IlJlc291cmNlIjoiaHR0cHM6Ly9jZG4tbGZzLmh1Z2dpbmdmYWNlLmNvL3JlcG9zL2EzLzcyL2EzNzI4OGZkMjVkZTQ1YjZhOGJiYjc5ODAxOTA3Mjg5ZjZjMTJiYjg3MGRiNjhmNzViMDAyNDE5M2RhMWYwNDcvYjIxMjVjZWVlMzk5MmEwOTNmOTgwOGVmYzlhNzIwNjQzYTQ0ZTU5YjE3YmFhNzdlZGRiMGZiZWM2OTY1Y2U1YT9yZXNwb25zZS1jb250ZW50LWRpc3Bvc2l0aW9uPSomcmVzcG9uc2UtY29udGVudC10eXBlPSoiLCJDb25kaXRpb24iOnsiRGF0ZUxlc3NUaGFuIjp7IkFXUzpFcG9jaFRpbWUiOjE2ODcxNTM1NjF9fX1dfQ__&Signature=q1YOzZWADzqibBgxzBqNn7Sl%7E9gT%7EjCMOJC027WpKb0jQygqSz2x-KMetuJ15g4Wv6bBiQ1MgvetRI1En5Prc39f908xMml8fvldCw9No%7Ed6DCdhttoYI5rCBM4ASTggw2%7EY7u7fjydjDF-rprYBVevOSZyrMExdFsj3kwttEQ2H3VGGTCduTxC%7EylpI%7E-jRArOO9yNB3CxoD4UeIonEgT6SzB0CamYaU8JC2Bo4tUF%7EqSpp7Pm4ATxuNCevuUzMxxrryZF0PHY8X4pFzc2UsINsdqovb%7E7L8vcnzdojp4HERBqbGtU2AvYuPow7fWbcCXP3%7EiA0N-XGg6ZsBjlcRQ__&Key-Pair-Id=KVTP0A1DKRTAX\n",
            "\n",
            "06/16 05:46:01 [\u001b[1;32mNOTICE\u001b[0m] CUID#16 - Redirecting to https://cdn-lfs.huggingface.co/repos/a3/72/a37288fd25de45b6a8bbb79801907289f6c12bb870db68f75b0024193da1f047/b2125ceee3992a093f9808efc9a720643a44e59b17baa77eddb0fbec6965ce5a?response-content-disposition=attachment%3B+filename*%3DUTF-8%27%27pytorch_model-00003-of-00009.bin%3B+filename%3D%22pytorch_model-00003-of-00009.bin%22%3B&response-content-type=application%2Foctet-stream&Expires=1687153561&Policy=eyJTdGF0ZW1lbnQiOlt7IlJlc291cmNlIjoiaHR0cHM6Ly9jZG4tbGZzLmh1Z2dpbmdmYWNlLmNvL3JlcG9zL2EzLzcyL2EzNzI4OGZkMjVkZTQ1YjZhOGJiYjc5ODAxOTA3Mjg5ZjZjMTJiYjg3MGRiNjhmNzViMDAyNDE5M2RhMWYwNDcvYjIxMjVjZWVlMzk5MmEwOTNmOTgwOGVmYzlhNzIwNjQzYTQ0ZTU5YjE3YmFhNzdlZGRiMGZiZWM2OTY1Y2U1YT9yZXNwb25zZS1jb250ZW50LWRpc3Bvc2l0aW9uPSomcmVzcG9uc2UtY29udGVudC10eXBlPSoiLCJDb25kaXRpb24iOnsiRGF0ZUxlc3NUaGFuIjp7IkFXUzpFcG9jaFRpbWUiOjE2ODcxNTM1NjF9fX1dfQ__&Signature=q1YOzZWADzqibBgxzBqNn7Sl%7E9gT%7EjCMOJC027WpKb0jQygqSz2x-KMetuJ15g4Wv6bBiQ1MgvetRI1En5Prc39f908xMml8fvldCw9No%7Ed6DCdhttoYI5rCBM4ASTggw2%7EY7u7fjydjDF-rprYBVevOSZyrMExdFsj3kwttEQ2H3VGGTCduTxC%7EylpI%7E-jRArOO9yNB3CxoD4UeIonEgT6SzB0CamYaU8JC2Bo4tUF%7EqSpp7Pm4ATxuNCevuUzMxxrryZF0PHY8X4pFzc2UsINsdqovb%7E7L8vcnzdojp4HERBqbGtU2AvYuPow7fWbcCXP3%7EiA0N-XGg6ZsBjlcRQ__&Key-Pair-Id=KVTP0A1DKRTAX\n",
            "\n",
            "06/16 05:46:01 [\u001b[1;32mNOTICE\u001b[0m] CUID#11 - Redirecting to https://cdn-lfs.huggingface.co/repos/a3/72/a37288fd25de45b6a8bbb79801907289f6c12bb870db68f75b0024193da1f047/b2125ceee3992a093f9808efc9a720643a44e59b17baa77eddb0fbec6965ce5a?response-content-disposition=attachment%3B+filename*%3DUTF-8%27%27pytorch_model-00003-of-00009.bin%3B+filename%3D%22pytorch_model-00003-of-00009.bin%22%3B&response-content-type=application%2Foctet-stream&Expires=1687153561&Policy=eyJTdGF0ZW1lbnQiOlt7IlJlc291cmNlIjoiaHR0cHM6Ly9jZG4tbGZzLmh1Z2dpbmdmYWNlLmNvL3JlcG9zL2EzLzcyL2EzNzI4OGZkMjVkZTQ1YjZhOGJiYjc5ODAxOTA3Mjg5ZjZjMTJiYjg3MGRiNjhmNzViMDAyNDE5M2RhMWYwNDcvYjIxMjVjZWVlMzk5MmEwOTNmOTgwOGVmYzlhNzIwNjQzYTQ0ZTU5YjE3YmFhNzdlZGRiMGZiZWM2OTY1Y2U1YT9yZXNwb25zZS1jb250ZW50LWRpc3Bvc2l0aW9uPSomcmVzcG9uc2UtY29udGVudC10eXBlPSoiLCJDb25kaXRpb24iOnsiRGF0ZUxlc3NUaGFuIjp7IkFXUzpFcG9jaFRpbWUiOjE2ODcxNTM1NjF9fX1dfQ__&Signature=q1YOzZWADzqibBgxzBqNn7Sl%7E9gT%7EjCMOJC027WpKb0jQygqSz2x-KMetuJ15g4Wv6bBiQ1MgvetRI1En5Prc39f908xMml8fvldCw9No%7Ed6DCdhttoYI5rCBM4ASTggw2%7EY7u7fjydjDF-rprYBVevOSZyrMExdFsj3kwttEQ2H3VGGTCduTxC%7EylpI%7E-jRArOO9yNB3CxoD4UeIonEgT6SzB0CamYaU8JC2Bo4tUF%7EqSpp7Pm4ATxuNCevuUzMxxrryZF0PHY8X4pFzc2UsINsdqovb%7E7L8vcnzdojp4HERBqbGtU2AvYuPow7fWbcCXP3%7EiA0N-XGg6ZsBjlcRQ__&Key-Pair-Id=KVTP0A1DKRTAX\n",
            "\n",
            "06/16 05:46:01 [\u001b[1;32mNOTICE\u001b[0m] CUID#12 - Redirecting to https://cdn-lfs.huggingface.co/repos/a3/72/a37288fd25de45b6a8bbb79801907289f6c12bb870db68f75b0024193da1f047/b2125ceee3992a093f9808efc9a720643a44e59b17baa77eddb0fbec6965ce5a?response-content-disposition=attachment%3B+filename*%3DUTF-8%27%27pytorch_model-00003-of-00009.bin%3B+filename%3D%22pytorch_model-00003-of-00009.bin%22%3B&response-content-type=application%2Foctet-stream&Expires=1687153561&Policy=eyJTdGF0ZW1lbnQiOlt7IlJlc291cmNlIjoiaHR0cHM6Ly9jZG4tbGZzLmh1Z2dpbmdmYWNlLmNvL3JlcG9zL2EzLzcyL2EzNzI4OGZkMjVkZTQ1YjZhOGJiYjc5ODAxOTA3Mjg5ZjZjMTJiYjg3MGRiNjhmNzViMDAyNDE5M2RhMWYwNDcvYjIxMjVjZWVlMzk5MmEwOTNmOTgwOGVmYzlhNzIwNjQzYTQ0ZTU5YjE3YmFhNzdlZGRiMGZiZWM2OTY1Y2U1YT9yZXNwb25zZS1jb250ZW50LWRpc3Bvc2l0aW9uPSomcmVzcG9uc2UtY29udGVudC10eXBlPSoiLCJDb25kaXRpb24iOnsiRGF0ZUxlc3NUaGFuIjp7IkFXUzpFcG9jaFRpbWUiOjE2ODcxNTM1NjF9fX1dfQ__&Signature=q1YOzZWADzqibBgxzBqNn7Sl%7E9gT%7EjCMOJC027WpKb0jQygqSz2x-KMetuJ15g4Wv6bBiQ1MgvetRI1En5Prc39f908xMml8fvldCw9No%7Ed6DCdhttoYI5rCBM4ASTggw2%7EY7u7fjydjDF-rprYBVevOSZyrMExdFsj3kwttEQ2H3VGGTCduTxC%7EylpI%7E-jRArOO9yNB3CxoD4UeIonEgT6SzB0CamYaU8JC2Bo4tUF%7EqSpp7Pm4ATxuNCevuUzMxxrryZF0PHY8X4pFzc2UsINsdqovb%7E7L8vcnzdojp4HERBqbGtU2AvYuPow7fWbcCXP3%7EiA0N-XGg6ZsBjlcRQ__&Key-Pair-Id=KVTP0A1DKRTAX\n",
            "\n",
            "\n",
            "06/16 05:46:01 [\u001b[1;32mNOTICE\u001b[0m] CUID#7 - Redirecting to https://cdn-lfs.huggingface.co/repos/a3/72/a37288fd25de45b6a8bbb79801907289f6c12bb870db68f75b0024193da1f047/ae277c7c5aef0d0fea9e9e6b13113dfef0078a36c78805bebe14d32e9ab887d1?response-content-disposition=attachment%3B+filename*%3DUTF-8%27%27pytorch_model-00005-of-00009.bin%3B+filename%3D%22pytorch_model-00005-of-00009.bin%22%3B&response-content-type=application%2Foctet-stream&Expires=1687153561&Policy=eyJTdGF0ZW1lbnQiOlt7IlJlc291cmNlIjoiaHR0cHM6Ly9jZG4tbGZzLmh1Z2dpbmdmYWNlLmNvL3JlcG9zL2EzLzcyL2EzNzI4OGZkMjVkZTQ1YjZhOGJiYjc5ODAxOTA3Mjg5ZjZjMTJiYjg3MGRiNjhmNzViMDAyNDE5M2RhMWYwNDcvYWUyNzdjN2M1YWVmMGQwZmVhOWU5ZTZiMTMxMTNkZmVmMDA3OGEzNmM3ODgwNWJlYmUxNGQzMmU5YWI4ODdkMT9yZXNwb25zZS1jb250ZW50LWRpc3Bvc2l0aW9uPSomcmVzcG9uc2UtY29udGVudC10eXBlPSoiLCJDb25kaXRpb24iOnsiRGF0ZUxlc3NUaGFuIjp7IkFXUzpFcG9jaFRpbWUiOjE2ODcxNTM1NjF9fX1dfQ__&Signature=fyOwWj8kL3xA4h4-DgFiz50VNncaq989TMc0tW-UdvqQ9uVdu7UaoGfGFP8EaGVRxLMzQPFJH2BSfHaDY%7E9oujFsmxbm93bbzYT8n5D7h18lKWczONn-ayzGI98gI06/16 05:46:01 [\u001b[1;32mNOTICE\u001b[0m] CUID#19 - Redirecting to https://cdn-lfs.huggingface.co/repos/a3/72/a37288fd25de45b6a8bbb79801907289f6c12bb870db68f75b0024193da1f047/b2125ceee3992a093f9808efc9a720643a44e59b17baa77eddb0fbec6965ce5a?response-content-disposition=attachment%3B+filename*%3DUTF-8%27%27pytorch_model-00003-of-00009.bin%3B+filename%3D%22pytorch_model-00003-of-00009.bin%22%3B&response-content-type=application%2Foctet-stream&Expires=1687153561&Policy=eyJTdGF0ZW1lbnQiOlt7IlJlc291cmNlIjoiaHR0cHM6Ly9jZG4tbGZzLmh1Z2dpbmdmYWNlLmNvL3JlcG9zL2EzLzcyL2EzNzI4OGZkMjVkZTQ1YjZhOGJiYjc5ODAxOTA3Mjg5ZjZjMTJiYjg3MGRiNjhmNzViMDAyNDE5M2RhMWYwNDcvYjIxMjVjZWVlMzk5MmEwOTNmOTgwOGVmYzlhNzIwNjQzYTQ0ZTU5YjE3YmFhNzdlZGRiMGZiZWM2OTY1Y2U1YT9yZXNwb25zZS1jb250ZW50LWRpc3Bvc2l0aW9uPSomcmVzcG9uc2UtY29udGVudC10eXBlPSoiLCJDb25kaXRpb24iOnsiRGF0ZUxlc3NUaGFuIjp7IkFXUzpFcG9jaFRpbWUiOjE2ODcxNTM1NjF9fX1dfQ__&Signature=q1YOzZWADzqibBgxzBqNn7Sl%7E9gT%7EjCMOJC027WpKb0jQygqSz2x-KMetuJ15g4Wv6bBiQ1MgvetRI1En5Prc39f908xMml8fvldCw9No%7Ed6DCdhttoYI5rC3vWtGrDn6995sHaI6UN2XVzhuf%7EIacaPaHgclcM1NzPVNcAs1sxV3n%7E5XBlU3UTtsCuWuTDaybKlKlEUYz4-1twoiwxXeUQBXyxfxVAjuUewgUBBohU8No36mD0vEhW1gHO7VRHxjl8nJPB3P12qic6SZPKFOIYvq8rJDpzz1LeBfsHX8WxiXGLkkfLGtkHMQ75j5JUuz5LB7fTitiGBdKUtA__&Key-Pair-Id=KVTP0A1DKRTAX\n",
            "BM4ASTggw2%7EY7u7fjydjDF-rprYBVevOSZyrMExdFsj3kwttEQ2H3VGGTCduTxC%7EylpI%7E-jRArOO9yNB3CxoD4UeIonEgT6SzB0CamYaU8JC2Bo4tUF%7EqSpp7Pm4ATxuNCevuUzMxxrryZF0PHY8X4pFzc2UsINsdqovb%7E7L8vcnzdojp4HERBqbGtU2AvYuPow7fWbcCXP3%7EiA0N-XGg6ZsBjlcRQ__&Key-Pair-Id=KVTP0A1DKRTAX\n",
            "\n",
            "06/16 05:46:01 [\u001b[1;32mNOTICE\u001b[0m] CUID#15 - Redirecting to https://cdn-lfs.huggingface.co/repos/a3/72/a37288fd25de45b6a8bbb79801907289f6c12bb870db68f75b0024193da1f047/b2125ceee3992a093f9808efc9a720643a44e59b17baa77eddb0fbec6965ce5a?response-content-disposition=attachment%3B+filename*%3DUTF-8%27%27pytorch_model-00003-of-00009.bin%3B+filename%3D%22pytorch_model-00003-of-00009.bin%22%3B&response-content-type=application%2Foctet-stream&Expires=1687153561&Policy=eyJTdGF0ZW1lbnQiOlt7IlJlc291cmNlIjoiaHR0cHM6Ly9jZG4tbGZzLmh1Z2dpbmdmYWNlLmNvL3JlcG9zL2EzLzcyL2EzNzI4OGZkMjVkZTQ1YjZhOGJiYjc5ODAxOTA3Mjg5ZjZjMTJiYjg3MGRiNjhmNzViMDAyNDE5M2RhMWYwNDcvYjIxMjVjZWVlMzk5MmEwOTNmOTgwOGVmYzlhNzIwNjQzYTQ0ZTU5YjE3YmFhNzdlZGRiMGZiZWM2OTY1Y2U1YT9yZXNwb25zZS1jb250ZW50LWRpc3Bvc2l0aW9uPSomcmVzcG9uc2UtY29udGVudC10eXBlPSoiLCJDb25kaXRpb24iOnsiRGF0ZUxlc3NUaGFuIjp7IkFXUzpFcG9jaFRpbWUiOjE2ODcxNTM1NjF9fX1dfQ__&Signature=q1YOzZWADzqibBgxzBqNn7Sl%7E9gT%7EjCMOJC027WpKb0jQygqSz2x-KMetuJ15g4Wv6bBiQ1MgvetRI1En5Prc39f908xMml8fvldCw9No%7Ed6DCdhttoYI5rCBM4ASTggw2%7EY7u7fjydjDF-rprYBVevOSZyrMExdFsj3kwttEQ2H3VGGTCduTxC%7EylpI%7E-jRArOO9yNB3CxoD4UeIonEgT6SzB0CamYaU8JC2Bo4tUF%7EqSpp7Pm4ATxuNCevuUzMxxrryZF0PHY8X4pFzc2UsINsdqovb%7E7L8vcnzdojp4HERBqbGtU2AvYuPow7fWbcCXP3%7EiA0N-XGg6ZsBjlcRQ__&Key-Pair-Id=KVTP0A1DKRTAX\n",
            "\n",
            "06/16 05:46:01 [\u001b[1;32mNOTICE\u001b[0m] CUID#18 - Redirecting to https://cdn-lfs.huggingface.co/repos/a3/72/a37288fd25de45b6a8bbb79801907289f6c12bb870db68f75b0024193da1f047/b2125ceee3992a093f9808efc9a720643a44e59b17baa77eddb0fbec6965ce5a?response-content-disposition=attachment%3B+filename*%3DUTF-8%27%27pytorch_model-00003-of-00009.bin%3B+filename%3D%22pytorch_model-00003-of-00009.bin%22%3B&response-content-type=application%2Foctet-stream&Expires=1687153561&Policy=eyJTdGF0ZW1lbnQiOlt7IlJlc291cmNlIjoiaHR0cHM6Ly9jZG4tbGZzLmh1Z2dpbmdmYWNlLmNvL3JlcG9zL2EzLzcyL2EzNzI4OGZkMjVkZTQ1YjZhOGJiYjc5ODAxOTA3Mjg5ZjZjMTJiYjg3MGRiNjhmNzViMDAyNDE5M2RhMWYwNDcvYjIxMjVjZWVlMzk5MmEwOTNmOTgwOGVmYzlhNzIwNjQzYTQ0ZTU5YjE3YmFhNzdlZGRiMGZiZWM2OTY1Y2U1YT9yZXNwb25zZS1jb250ZW50LWRpc3Bvc2l0aW9uPSomcmVzcG9uc2UtY29udGVudC10eXBlPSoiLCJDb25kaXRpb24iOnsiRGF0ZUxlc3NUaGFuIjp7IkFXUzpFcG9jaFRpbWUiOjE2ODcxNTM1NjF9fX1dfQ__&Signature=q1YOzZWADzqibBgxzBqNn7Sl%7E9gT%7EjCMOJC027WpKb0jQygqSz2x-KMetuJ15g4Wv6bBiQ1MgvetRI1En5Prc39f908xMml8fvldCw9No%7Ed6DCdhttoYI5rCBM4ASTggw2%7EY7u7fjydjDF-rprYBVevOSZyrMExdFsj3kwttEQ2H3VGGTCduTxC%7EylpI%7E-jRArOO9yNB3CxoD4UeIonEgT6SzB0CamYaU8JC2Bo4tUF%7EqSpp7Pm4ATxuNCevuUzMxxrryZF0PHY8X4pFzc2UsINsdqovb%7E7L8vcnzdojp4HERBqbGtU2AvYuPow7fWbcCXP3%7EiA0N-XGg6ZsBjlcRQ__&Key-Pair-Id=KVTP0A1DKRTAX\n",
            "\n",
            "06/16 05:46:01 [\u001b[1;32mNOTICE\u001b[0m] CUID#14 - Redirecting to https://cdn-lfs.huggingface.co/repos/a3/72/a37288fd25de45b6a8bbb79801907289f6c12bb870db68f75b0024193da1f047/b2125ceee3992a093f9808efc9a720643a44e59b17baa77eddb0fbec6965ce5a?response-content-disposition=attachment%3B+filename*%3DUTF-8%27%27pytorch_model-00003-of-00009.bin%3B+filename%3D%22pytorch_model-00003-of-00009.bin%22%3B&response-content-type=application%2Foctet-stream&Expires=1687153561&Policy=eyJTdGF0ZW1lbnQiOlt7IlJlc291cmNlIjoiaHR0cHM6Ly9jZG4tbGZzLmh1Z2dpbmdmYWNlLmNvL3JlcG9zL2EzLzcyL2EzNzI4OGZkMjVkZTQ1YjZhOGJiYjc5ODAxOTA3Mjg5ZjZjMTJiYjg3MGRiNjhmNzViMDAyNDE5M2RhMWYwNDcvYjIxMjVjZWVlMzk5MmEwOTNmOTgwOGVmYzlhNzIwNjQzYTQ0ZTU5YjE3YmFhNzdlZGRiMGZiZWM2OTY1Y2U1YT9yZXNwb25zZS1jb250ZW50LWRpc3Bvc2l0aW9uPSomcmVzcG9uc2UtY29udGVudC10eXBlPSoiLCJDb25kaXRpb24iOnsiRGF0ZUxlc3NUaGFuIjp7IkFXUzpFcG9jaFRpbWUiOjE2ODcxNTM1NjF9fX1dfQ__&Signature=q1YOzZWADzqibBgxzBqNn7Sl%7E9gT%7EjCMOJC027WpKb0jQygqSz2x-KMetuJ15g4Wv6bBiQ1MgvetRI1En5Prc39f908xMml8fvldCw9No%7Ed6DCdhttoYI5rCBM4ASTggw2%7EY7u7fjydjDF-rprYBVevOSZyrMExdFsj3kwttEQ2H3VGGTCduTxC%7EylpI%7E-jRArOO9yNB3CxoD4UeIonEgT6SzB0CamYaU8JC2Bo4tUF%7EqSpp7Pm4ATxuNCevuUzMxxrryZF0PHY8X4pFzc2UsINsdqovb%7E7L8vcnzdojp4HERBqbGtU2AvYuPow7fWbcCXP3%7EiA0N-XGg6ZsBjlcRQ__&Key-Pair-Id=KVTP0A1DKRTAX\n",
            "\n",
            "06/16 05:46:01 [\u001b[1;32mNOTICE\u001b[0m] CUID#17 - Redirecting to https://cdn-lfs.huggingface.co/repos/a3/72/a37288fd25de45b6a8bbb79801907289f6c12bb870db68f75b0024193da1f047/b2125ceee3992a093f9808efc9a720643a44e59b17baa77eddb0fbec6965ce5a?response-content-disposition=attachment%3B+filename*%3DUTF-8%27%27pytorch_model-00003-of-00009.bin%3B+filename%3D%22pytorch_model-00003-of-00009.bin%22%3B&response-content-type=application%2Foctet-stream&Expires=1687153561&Policy=eyJTdGF0ZW1lbnQiOlt7IlJlc291cmNlIjoiaHR0cHM6Ly9jZG4tbGZzLmh1Z2dpbmdmYWNlLmNvL3JlcG9zL2EzLzcyL2EzNzI4OGZkMjVkZTQ1YjZhOGJiYjc5ODAxOTA3Mjg5ZjZjMTJiYjg3MGRiNjhmNzViMDAyNDE5M2RhMWYwNDcvYjIxMjVjZWVlMzk5MmEwOTNmOTgwOGVmYzlhNzIwNjQzYTQ0ZTU5YjE3YmFhNzdlZGRiMGZiZWM2OTY1Y2U1YT9yZXNwb25zZS1jb250ZW50LWRpc3Bvc2l0aW9uPSomcmVzcG9uc2UtY29udGVudC10eXBlPSoiLCJDb25kaXRpb24iOnsiRGF0ZUxlc3NUaGFuIjp7IkFXUzpFcG9jaFRpbWUiOjE2ODcxNTM1NjF9fX1dfQ__&Signature=q1YOzZWADzqibBgxzBqNn7Sl%7E9gT%7EjCMOJC027WpKb0jQygqSz2x-KMetuJ15g4Wv6bBiQ1MgvetRI1En5Prc39f908xMml8fvldCw9No%7Ed6DCdhttoYI5rCBM4ASTggw2%7EY7u7fjydjDF-rprYBVevOSZyrMExdFsj3kwttEQ2H3VGGTCduTxC%7EylpI%7E-jRArOO9yNB3CxoD4UeIonEgT6SzB0CamYaU8JC2Bo4tUF%7EqSpp7Pm4ATxuNCevuUzMxxrryZF0PHY8X4pFzc2UsINsdqovb%7E7L8vcnzdojp4HERBqbGtU2AvYuPow7fWbcCXP3%7EiA0N-XGg6ZsBjlcRQ__&Key-Pair-Id=KVTP0A1DKRTAX\n",
            "\n",
            "06/16 05:46:01 [\u001b[1;32mNOTICE\u001b[0m] CUID#20 - Redirecting to https://cdn-lfs.huggingface.co/repos/a3/72/a37288fd25de45b6a8bbb79801907289f6c12bb870db68f75b0024193da1f047/b2125ceee3992a093f9808efc9a720643a44e59b17baa77eddb0fbec6965ce5a?response-content-disposition=attachment%3B+filename*%3DUTF-8%27%27pytorch_model-00003-of-00009.bin%3B+filename%3D%22pytorch_model-00003-of-00009.bin%22%3B&response-content-type=application%2Foctet-stream&Expires=1687153561&Policy=eyJTdGF0ZW1lbnQiOlt7IlJlc291cmNlIjoiaHR0cHM6Ly9jZG4tbGZzLmh1Z2dpbmdmYWNlLmNvL3JlcG9zL2EzLzcyL2EzNzI4OGZkMjVkZTQ1YjZhOGJiYjc5ODAxOTA3Mjg5ZjZjMTJiYjg3MGRiNjhmNzViMDAyNDE5M2RhMWYwNDcvYjIxMjVjZWVlMzk5MmEwOTNmOTgwOGVmYzlhNzIwNjQzYTQ0ZTU5YjE3YmFhNzdlZGRiMGZiZWM2OTY1Y2U1YT9yZXNwb25zZS1jb250ZW50LWRpc3Bvc2l0aW9uPSomcmVzcG9uc2UtY29udGVudC10eXBlPSoiLCJDb25kaXRpb24iOnsiRGF0ZUxlc3NUaGFuIjp7IkFXUzpFcG9jaFRpbWUiOjE2ODcxNTM1NjF9fX1dfQ__&Signature=q1YOzZWADzqibBgxzBqNn7Sl%7E9gT%7EjCMOJC027WpKb0jQygqSz2x-KMetuJ15g4Wv6bBiQ1MgvetRI1En5Prc39f908xMml8fvldCw9No%7Ed6DCdhttoYI5rCBM4ASTggw2%7EY7u7fjydjDF-rprYBVevOSZyrMExdFsj3kwttEQ2H3VGGTCduTxC%7EylpI%7E-jRArOO9yNB3CxoD4UeIonEgT6SzB0CamYaU8JC2Bo4tUF%7EqSpp7Pm4ATxuNCevuUzMxxrryZF0PHY8X4pFzc2UsINsdqovb%7E7L8vcnzdojp4HERBqbGtU2AvYuPow7fWbcCXP3%7EiA0N-XGg6ZsBjlcRQ__&Key-Pair-Id=KVTP0A1DKRTAX\n",
            "\n",
            "06/16 05:46:01 [\u001b[1;32mNOTICE\u001b[0m] CUID#21 - Redirecting to https://cdn-lfs.huggingface.co/repos/a3/72/a37288fd25de45b6a8bbb79801907289f6c12bb870db68f75b0024193da1f047/b2125ceee3992a093f9808efc9a720643a44e59b17baa77eddb0fbec6965ce5a?response-content-disposition=attachment%3B+filename*%3DUTF-8%27%27pytorch_model-00003-of-00009.bin%3B+filename%3D%22pytorch_model-00003-of-00009.bin%22%3B&response-content-type=application%2Foctet-stream&Expires=1687153561&Policy=eyJTdGF0ZW1lbnQiOlt7IlJlc291cmNlIjoiaHR0cHM6Ly9jZG4tbGZzLmh1Z2dpbmdmYWNlLmNvL3JlcG9zL2EzLzcyL2EzNzI4OGZkMjVkZTQ1YjZhOGJiYjc5ODAxOTA3Mjg5ZjZjMTJiYjg3MGRiNjhmNzViMDAyNDE5M2RhMWYwNDcvYjIxMjVjZWVlMzk5MmEwOTNmOTgwOGVmYzlhNzIwNjQzYTQ0ZTU5YjE3YmFhNzdlZGRiMGZiZWM2OTY1Y2U1YT9yZXNwb25zZS1jb250ZW50LWRpc3Bvc2l0aW9uPSomcmVzcG9uc2UtY29udGVudC10eXBlPSoiLCJDb25kaXRpb24iOnsiRGF0ZUxlc3NUaGFuIjp7IkFXUzpFcG9jaFRpbWUiOjE2ODcxNTM1NjF9fX1dfQ__&Signature=q1YOzZWADzqibBgxzBqNn7Sl%7E9gT%7EjCMOJC027WpKb0jQygqSz2x-KMetuJ15g4Wv6bBiQ1MgvetRI1En5Prc39f908xMml8fvldCw9No%7Ed6DCdhttoYI5rCBM4ASTggw2%7EY7u7fjydjDF-rprYBVevOSZyrMExdFsj3kwttEQ2H3VGGTCduTxC%7EylpI%7E-jRArOO9yNB3CxoD4UeIonEgT6SzB0CamYaU8JC2Bo4tUF%7EqSpp7Pm4ATxuNCevuUzMxxrryZF0PHY8X4pFzc2UsINsdqovb%7E7L8vcnzdojp4HERBqbGtU2AvYuPow7fWbcCXP3%7EiA0N-XGg6ZsBjlcRQ__&Key-Pair-Id=KVTP0A1DKRTAX\n",
            "\n",
            "06/16 05:46:01 [\u001b[1;32mNOTICE\u001b[0m] CUID#23 - Redirecting to https://cdn-lfs.huggingface.co/repos/a3/72/a37288fd25de45b6a8bbb79801907289f6c12bb870db68f75b0024193da1f047/b2125ceee3992a093f9808efc9a720643a44e59b17baa77eddb0fbec6965ce5a?response-content-disposition=attachment%3B+filename*%3DUTF-8%27%27pytorch_model-00003-of-00009.bin%3B+filename%3D%22pytorch_model-00003-of-00009.bin%22%3B&response-content-type=application%2Foctet-stream&Expires=1687153561&Policy=eyJTdGF0ZW1lbnQiOlt7IlJlc291cmNlIjoiaHR0cHM6Ly9jZG4tbGZzLmh1Z2dpbmdmYWNlLmNvL3JlcG9zL2EzLzcyL2EzNzI4OGZkMjVkZTQ1YjZhOGJiYjc5ODAxOTA3Mjg5ZjZjMTJiYjg3MGRiNjhmNzViMDAyNDE5M2RhMWYwNDcvYjIxMjVjZWVlMzk5MmEwOTNmOTgwOGVmYzlhNzIwNjQzYTQ0ZTU5YjE3YmFhNzdlZGRiMGZiZWM2OTY1Y2U1YT9yZXNwb25zZS1jb250ZW50LWRpc3Bvc2l0aW9uPSomcmVzcG9uc2UtY29udGVudC10eXBlPSoiLCJDb25kaXRpb24iOnsiRGF0ZUxlc3NUaGFuIjp7IkFXUzpFcG9jaFRpbWUiOjE2ODcxNTM1NjF9fX1dfQ__&Signature=q1YOzZWADzqibBgxzBqNn7Sl%7E9gT%7EjCMOJC027WpKb0jQygqSz2x-KMetuJ15g4Wv6bBiQ1MgvetRI1En5Prc39f908xMml8fvldCw9No%7Ed6DCdhttoYI5rCBM4ASTggw2%7EY7u7fjydjDF-rprYBVevOSZyrMExdFsj3kwttEQ2H3VGGTCduTxC%7EylpI%7E-jRArOO9yNB3CxoD4UeIonEgT6SzB0CamYaU8JC2Bo4tUF%7EqSpp7Pm4ATxuNCevuUzMxxrryZF0PHY8X4pFzc2UsINsdqovb%7E7L8vcnzdojp4HERBqbGtU2AvYuPow7fWbcCXP3%7EiA0N-XGg6ZsBjlcRQ__&Key-Pair-Id=KVTP0A1DKRTAX\n",
            "\n",
            "06/16 05:46:01 [\u001b[1;32mNOTICE\u001b[0m] CUID#9 - Redirecting to https://cdn-lfs.huggingface.co/repos/a3/72/a37288fd25de45b6a8bbb79801907289f6c12bb870db68f75b0024193da1f047/384bd92e6d1d0b6a133b1d81bad915a10d954d1bfcdf4fdc8b6d0d81b4f5e9e8?response-content-disposition=attachment%3B+filename*%3DUTF-8%27%27pytorch_model-00001-of-00009.bin%3B+filename%3D%22pytorch_model-00001-of-00009.bin%22%3B&response-content-type=application%2Foctet-stream&Expires=1687153561&Policy=eyJTdGF0ZW1lbnQiOlt7IlJlc291cmNlIjoiaHR0cHM6Ly9jZG4tbGZzLmh1Z2dpbmdmYWNlLmNvL3JlcG9zL2EzLzcyL2EzNzI4OGZkMjVkZTQ1YjZhOGJiYjc5ODAxOTA3Mjg5ZjZjMTJiYjg3MGRiNjhmNzViMDAyNDE5M2RhMWYwNDcvMzg0YmQ5MmU2ZDFkMGI2YTEzM2IxZDgxYmFkOTE1YTEwZDk1NGQxYmZjZGY0ZmRjOGI2ZDBkODFiNGY1ZTllOD9yZXNwb25zZS1jb250ZW50LWRpc3Bvc2l0aW9uPSomcmVzcG9uc2UtY29udGVudC10eXBlPSoiLCJDb25kaXRpb24iOnsiRGF0ZUxlc3NUaGFuIjp7IkFXUzpFcG9jaFRpbWUiOjE2ODcxNTM1NjF9fX1dfQ__&Signature=iNaCCN6qnYFUxwnxQeaAeD2SIvmH6QQU3oSUMU3ooPseaimTNN3Igpx1aeYQYHjAW5qvItarVqk5JoiEOfHkumJZgm3-OiKcbQPc7SXMnHA7Z6ItKrvN82N2l363JIGLpuPgfW1cSyqPRhHRTIu-h2RAKuCM6RI-VZz6904k5IQhat3GtF4H2JKlPZ-tL1Jn9z6TPH4ebt7hXY56opM2MsAk%7EdiE84luPziZv73vYL5ImQwroT2ctd35LuPXC82zo%7EZVBWpwFoDE3Wf3ofq8QMdCL%7E5PTgSby58IliJugvr9pTF9zjT8OGWnzbJo20jx2qaeseMLhrziyBP0Y5zntA__&Key-Pair-Id=KVTP0A1DKRTAX\n",
            "\n",
            "06/16 05:46:01 [\u001b[1;32mNOTICE\u001b[0m] CUID#9 - Redirecting to https://cdn-lfs.huggingface.co/repos/a3/72/a37288fd25de45b6a8bbb79801907289f6c12bb870db68f75b0024193da1f047/638cb048ee6ad66f85a176e980332b0d61cbddb2d5dc9b5ad1863d87e020350c?response-content-disposition=attachment%3B+filename*%3DUTF-8%27%27pytorch_model-00002-of-00009.bin%3B+filename%3D%22pytorch_model-00002-of-00009.bin%22%3B&response-content-type=application%2Foctet-stream&Expires=1687153561&Policy=eyJTdGF0ZW1lbnQiOlt7IlJlc291cmNlIjoiaHR0cHM6Ly9jZG4tbGZzLmh1Z2dpbmdmYWNlLmNvL3JlcG9zL2EzLzcyL2EzNzI4OGZkMjVkZTQ1YjZhOGJiYjc5ODAxOTA3Mjg5ZjZjMTJiYjg3MGRiNjhmNzViMDAyNDE5M2RhMWYwNDcvNjM4Y2IwNDhlZTZhZDY2Zjg1YTE3NmU5ODAzMzJiMGQ2MWNiZGRiMmQ1ZGM5YjVhZDE4NjNkODdlMDIwMzUwYz9yZXNwb25zZS1jb250ZW50LWRpc3Bvc2l0aW9uPSomcmVzcG9uc2UtY29udGVudC10eXBlPSoiLCJDb25kaXRpb24iOnsiRGF0ZUxlc3NUaGFuIjp7IkFXUzpFcG9jaFRpbWUiOjE2ODcxNTM1NjF9fX1dfQ__&Signature=LNCXuhpYoleRWT-Nit7xH-JUlnQ1ZYlrPjw5rQjEspFAw2GEmsGPo4d4ZX%7EI6ob6sO6twKaJHSgi2Ttycr3d3XlIdDocZ3nuYzzqGKc04ytd9BRpoX99Fwd0k9SuOMC0HW3sgdachv2HA-SbgisfFUp%7E6ghkxIaAeS0cFWK3jq2pZGbOtA1RyJ-40dnyt1wRNAdgrmmPGY4LBgCijyhJz4zj6diZfHI2tzlo2GtmxQL8P2UH1x1WK0af6rnA%7E-RexFGMdv7ZYBHTmW8hRPRyK-h-SmFNGlB-JTC4910c5nNTHLiZwNv3pcryfdHPj0b13O9W9gLIRWUCWUAsIFbqAQ__&Key-Pair-Id=KVTP0A1DKRTAX\n",
            "\n",
            "06/16 05:46:01 [\u001b[1;32mNOTICE\u001b[0m] CUID#7 - Redirecting to https://cdn-lfs.huggingface.co/repos/a3/72/a37288fd25de45b6a8bbb79801907289f6c12bb870db68f75b0024193da1f047/7af5021fe9afb9b4186a59a91e75aa60570c66fba43390b634387ee54bd73223?response-content-disposition=attachment%3B+filename*%3DUTF-8%27%27pytorch_model-00008-of-00009.bin%3B+filename%3D%22pytorch_model-00008-of-00009.bin%22%3B&response-content-type=application%2Foctet-stream&Expires=1687153561&Policy=eyJTdGF0ZW1lbnQiOlt7IlJlc291cmNlIjoiaHR0cHM6Ly9jZG4tbGZzLmh1Z2dpbmdmYWNlLmNvL3JlcG9zL2EzLzcyL2EzNzI4OGZkMjVkZTQ1YjZhOGJiYjc5ODAxOTA3Mjg5ZjZjMTJiYjg3MGRiNjhmNzViMDAyNDE5M2RhMWYwNDcvN2FmNTAyMWZlOWFmYjliNDE4NmE1OWE5MWU3NWFhNjA1NzBjNjZmYmE0MzM5MGI2MzQzODdlZTU0YmQ3MzIyMz9yZXNwb25zZS1jb250ZW50LWRpc3Bvc2l0aW9uPSomcmVzcG9uc2UtY29udGVudC10eXBlPSoiLCJDb25kaXRpb24iOnsiRGF0ZUxlc3NUaGFuIjp7IkFXUzpFcG9jaFRpbWUiOjE2ODcxNTM1NjF9fX1dfQ__&Signature=SAWHuFd6vX87uAM8obUh2j58rWoEhvAHU77qs44oYLtVosUqiJd2VJhvFdpWIE0sM4aSQDQ-0MSJSmZn67%7E9tx2JO97S8yZzQ55F-bcYneWe6DFGAHVE0at9TxEknES1ckEuRc7nenBh2I3%7EOnafTOuMlNP0cvJGI%7EVenL4VRR4VCATgFDW8R6ZQJWau8QzZn%7ExvGLl8gPEMP86BkwJwjc4R%7EiC4MCxu0gFnGUHt21BMoeIgWGhAHEH6w1A9Jye9GD0U0JiPIFcUgd9BGlg-7f22DTFurnmzzsrcL2qS8TyRE95SelaCvrFUVXnqMPahozfFDEbfqsGS9Pz3QZKe%7Ew__&Key-Pair-Id=KVTP0A1DKRTAX\n",
            "\n",
            "06/16 05:46:01 [\u001b[1;32mNOTICE\u001b[0m] CUID#9 - Redirecting to https://cdn-lfs.huggingface.co/repos/a3/72/a37288fd25de45b6a8bbb79801907289f6c12bb870db68f75b0024193da1f047/d6376a884bc80a6ea95da83f963508e57d8508333c424bed7beda565e4aaa0f3?response-content-disposition=attachment%3B+filename*%3DUTF-8%27%27pytorch_model-00006-of-00009.bin%3B+filename%3D%22pytorch_model-00006-of-00009.bin%22%3B&response-content-type=application%2Foctet-stream&Expires=1687153561&Policy=eyJTdGF0ZW1lbnQiOlt7IlJlc291cmNlIjoiaHR0cHM6Ly9jZG4tbGZzLmh1Z2dpbmdmYWNlLmNvL3JlcG9zL2EzLzcyL2EzNzI4OGZkMjVkZTQ1YjZhOGJiYjc5ODAxOTA3Mjg5ZjZjMTJiYjg3MGRiNjhmNzViMDAyNDE5M2RhMWYwNDcvZDYzNzZhODg0YmM4MGE2ZWE5NWRhODNmOTYzNTA4ZTU3ZDg1MDgzMzNjNDI0YmVkN2JlZGE1NjVlNGFhYTBmMz9yZXNwb25zZS1jb250ZW50LWRpc3Bvc2l0aW9uPSomcmVzcG9uc2UtY29udGVudC10eXBlPSoiLCJDb25kaXRpb24iOnsiRGF0ZUxlc3NUaGFuIjp7IkFXUzpFcG9jaFRpbWUiOjE2ODcxNTM1NjF9fX1dfQ__&Signature=ntw8OyVxaP5xy4ZfnDAjS1A-oRCBJXvzxyaDnSvXB9OBVeYwIL3PDxb%7EqMP7GsDjeItpkT4qYHkMCaXFD7V7PVkXU3Iv5Gg4EJ-nh--h3-ueT2pLR2aEEzurxt1rir%7EzK6oXm0546iZLYjzRhxQlAqfbdc38YXvUmJA-thJxwyzWfg8LO0e7oUrhceD8bK8qnP8xcdf7aXHH15cS3p%7EqscnGamJOl7ueSY%7EpzBq521QI9HeGOA-YVErtGUP7KvrcgYRcVa0LHNPl8qc8giszj2wVisf%7E9FOxrB1Ahvqn29Paqjb1eTQVVD0Yeg4ZuDQLzYscswMf%7EDgax2BzY-ZRYA__&Key-Pair-Id=KVTP0A1DKRTAX\n",
            "\n",
            "06/16 05:46:01 [\u001b[1;32mNOTICE\u001b[0m] CUID#10 - Redirecting to https://cdn-lfs.huggingface.co/repos/a3/72/a37288fd25de45b6a8bbb79801907289f6c12bb870db68f75b0024193da1f047/384bd92e6d1d0b6a133b1d81bad915a10d954d1bfcdf4fdc8b6d0d81b4f5e9e8?response-content-disposition=attachment%3B+filename*%3DUTF-8%27%27pytorch_model-00001-of-00009.bin%3B+filename%3D%22pytorch_model-00001-of-00009.bin%22%3B&response-content-type=application%2Foctet-stream&Expires=1687153561&Policy=eyJTdGF0ZW1lbnQiOlt7IlJlc291cmNlIjoiaHR0cHM6Ly9jZG4tbGZzLmh1Z2dpbmdmYWNlLmNvL3JlcG9zL2EzLzcyL2EzNzI4OGZkMjVkZTQ1YjZhOGJiYjc5ODAxOTA3Mjg5ZjZjMTJiYjg3MGRiNjhmNzViMDAyNDE5M2RhMWYwNDcvMzg0YmQ5MmU2ZDFkMGI2YTEzM2IxZDgxYmFkOTE1YTEwZDk1NGQxYmZjZGY0ZmRjOGI2ZDBkODFiNGY1ZTllOD9yZXNwb25zZS1jb250ZW50LWRpc3Bvc2l0aW9uPSomcmVzcG9uc2UtY29udGVudC10eXBlPSoiLCJDb25kaXRpb24iOnsiRGF0ZUxlc3NUaGFuIjp7IkFXUzpFcG9jaFRpbWUiOjE2ODcxNTM1NjF9fX1dfQ__&Signature=iNaCCN6qnYFUxwnxQeaAeD2SIvmH6QQU3oSUMU3ooPseaimTNN3Igpx1aeYQYHjAW5qvItarVqk5JoiEOfHkumJZgm3-OiKcbQPc7SXMnHA7Z6ItKrvN82N2l363JIGLpuPgfW1cSyqPRhHRTIu-h2RAKuCM6RI-VZz6904k5IQhat3GtF4H2JKlPZ-tL1Jn9z6TPH4ebt7hXY56opM2MsAk%7EdiE84luPziZv73vYL5ImQwroT2ctd35LuPXC82zo%7EZVBWpwFoDE3Wf3ofq8QMdCL%7E5PTgSby58IliJugvr9pTF9zjT8OGWnzbJo20jx2qaeseMLhrziyBP0Y5zntA__&Key-Pair-Id=KVTP0A1DKRTAX\n",
            "\n",
            "06/16 05:46:01 [\u001b[1;32mNOTICE\u001b[0m] CUID#11 - Redirecting to https://cdn-lfs.huggingface.co/repos/a3/72/a37288fd25de45b6a8bbb79801907289f6c12bb870db68f75b0024193da1f047/384bd92e6d1d0b6a133b1d81bad915a10d954d1bfcdf4fdc8b6d0d81b4f5e9e8?response-content-disposition=attachment%3B+filename*%3DUTF-8%27%27pytorch_model-00001-of-00009.bin%3B+filename%3D%22pytorch_model-00001-of-00009.bin%22%3B&response-content-type=application%2Foctet-stream&Expires=1687153561&Policy=eyJTdGF0ZW1lbnQiOlt7IlJlc291cmNlIjoiaHR0cHM6Ly9jZG4tbGZzLmh1Z2dpbmdmYWNlLmNvL3JlcG9zL2EzLzcyL2EzNzI4OGZkMjVkZTQ1YjZhOGJiYjc5ODAxOTA3Mjg5ZjZjMTJiYjg3MGRiNjhmNzViMDAyNDE5M2RhMWYwNDcvMzg0YmQ5MmU2ZDFkMGI2YTEzM2IxZDgxYmFkOTE1YTEwZDk1NGQxYmZjZGY0ZmRjOGI2ZDBkODFiNGY1ZTllOD9yZXNwb25zZS1jb250ZW50LWRpc3Bvc2l0aW9uPSomcmVzcG9uc2UtY29udGVudC10eXBlPSoiLCJDb25kaXRpb24iOnsiRGF0ZUxlc3NUaGFuIjp7IkFXUzpFcG9jaFRpbWUiOjE2ODcxNTM1NjF9fX1dfQ__&Signature=iNaCCN6qnYFUxwnxQeaAeD2SIvmH6QQU3oSUMU3ooPseaimTNN3Igpx1aeYQYHjAW5qvItarVqk5JoiEOfHkumJZgm3-OiKcbQPc7SXMnHA7Z6ItKrvN82N2l363JI\n",
            "GLpuPgfW1cSyqPRhHRTIu-h2RAKuCM6RI-VZz6904k5IQhat3GtF4H2JKlPZ-tL1Jn9z6TPH4ebt7hXY56opM2MsAk%7EdiE84luPziZv73vYL5ImQwroT2ctd35LuPXC82zo%7EZVBWpwFoDE3Wf3ofq8QMdCL%7E5PTgSby58IliJugvr9pTF9zjT8OGWnzbJo20jx2qaeseMLhrziyBP0Y5zntA__&Key-Pair-Id=KVTP0A1DKRTAX\n",
            "06/16 05:46:01 [\u001b[1;32mNOTICE\u001b[0m] CUID#10 - Redirecting to https://cdn-lfs.huggingface.co/repos/a3/72/a37288fd25de45b6a8bbb79801907289f6c12bb870db68f75b0024193da1f047/638cb048ee6ad66f85a176e980332b0d61cbddb2d5dc9b5ad1863d87e020350c?response-content-disposition=attachment%3B+filename*%3DUTF-8%27%27pytorch_model-00002-of-00009.bin%3B+filename%3D%22pytorch_model-00002-of-00009.bin%22%3B&response-content-type=application%2Foctet-stream&Expires=1687153561&Policy=eyJTdGF0ZW1lbnQiOlt7IlJlc291cmNlIjoiaHR0cHM6Ly9jZG4tbGZzLmh1Z2dpbmdmYWNlLmNvL3JlcG9zL2EzLzcyL2EzNzI4OGZkMjVkZTQ1YjZhOGJiYjc5ODAxOTA3Mjg5ZjZjMTJiYjg3MGRiNjhmNzViMDAyNDE5M2RhMWYwNDcvNjM4Y2IwNDhlZTZhZDY2Zjg1YTE3NmU5ODAzMzJiMGQ2MWNiZGRiMmQ1ZGM5YjVhZDE4NjNkODdlMDIwMzUwYz9yZXNwb25zZS1jb250ZW50LWRpc3Bvc2l0aW9uPSomcmVzcG9uc2UtY29udGVudC10eXBlPSoiLCJDb25kaXRpb24iOnsiRGF0ZUxlc3NUaGFuIjp7IkFXUzpFcG9jaFRpbWUiOjE2ODcxNTM1NjF9fX1dfQ__&Signature=LNCXuhpYoleRWT-Nit7xH-JUlnQ1ZYlrPjw5rQjEspFAw2GEmsGPo4d4ZX%7EI6ob6sO6twKaJHSgi2Ttycr3d3XlIdDocZ3nuYzzqGKc04ytd9BRpoX99Fwd0k9SuOMC0HW3sgdachv2HA-SbgisfFUp%7E6ghkxIaAeS0cFWK3jq2pZGbOtA1RyJ-40dnyt1wRNAdgrmmPGY4LBgCijyhJz4zj6diZfHI2tzlo2GtmxQL8P2UH1x1WK0af6rnA%7E-RexFGMdv7ZYBHTmW8hRPRyK-h-SmFNGlB-JTC4910c5nNTHLiZwNv3pcryfdHPj0b13O9W9gLIRWUCWUAsIFbqAQ__&Key-Pair-Id=KVTP0A1DKRTAX\n",
            "\n",
            "06/16 05:46:01 [\u001b[1;32mNOTICE\u001b[0m] CUID#20 - Redirecting to https://cdn-lfs.huggingface.co/repos/a3/72/a37288fd25de45b6a8bbb79801907289f6c12bb870db68f75b0024193da1f047/384bd92e6d1d0b6a133b1d81bad915a10d954d1bfcdf4fdc8b6d0d81b4f5e9e8?response-content-disposition=attachment%3B+filename*%3DUTF-8%27%27pytorch_model-00001-of-00009.bin%3B+filename%3D%22pytorch_model-00001-of-00009.bin%22%3B&response-content-type=application%2Foctet-stream&Expires=1687153561&Policy=eyJTdGF0ZW1lbnQiOlt7IlJlc291cmNlIjoiaHR0cHM6Ly9jZG4tbGZzLmh1Z2dpbmdmYWNlLmNvL3JlcG9zL2EzLzcyL2EzNzI4OGZkMjVkZTQ1YjZhOGJiYjc5ODAxOTA3Mjg5ZjZjMTJiYjg3MGRiNjhmNzViMDAyNDE5M2RhMWYwNDcvMzg0YmQ5MmU2ZDFkMGI2YTEzM2IxZDgxYmFkOTE1YTEwZDk1NGQxYmZjZGY0ZmRjOGI2ZDBkODFiNGY1ZTllOD9yZXNwb25zZS1jb250ZW50LWRpc3Bvc2l0aW9uPSomcmVzcG9uc2UtY29udGVudC10eXBlPSoiLCJDb25kaXRpb24iOnsiRGF0ZUxlc3NUaGFuIjp7IkFXUzpFcG9jaFRpbWUiOjE2ODcxNTM1NjF9fX1dfQ__&Signature=iNaCCN6qnYFUxwnxQeaAeD2SIvmH6QQU3oSUMU3ooPseaimTNN3Igpx1aeYQYHjAW5qvItarVqk5JoiEOfHkumJZgm3-OiKcbQPc7SXMnHA7Z6ItKrvN82N2l363JIGLpuPgfW1cSyqPRhHRTIu-h2RAKuCM6RI-VZz6904k5IQhat3GtF4H2JKlPZ-tL1Jn9z6TPH4ebt7hXY56opM2MsAk%7EdiE84luPziZv73vYL5ImQwroT2ctd35LuPXC82zo%7EZVBWpwFoDE3Wf3ofq8QMdCL%7E5PTgSby58IliJugvr9pTF9zjT8OGWnzbJo20jx2qaeseMLhrziyBP0Y5zntA__&Key-Pair-Id=KVTP0A1DKRTAX\n",
            "\n",
            "06/16 05:46:01 [\u001b[1;32mNOTICE\u001b[0m] CUID#12 - Redirecting to https://cdn-lfs.huggingface.co/repos/a3/72/a37288fd25de45b6a8bbb79801907289f6c12bb870db68f75b0024193da1f047/384bd92e6d1d0b6a133b1d81bad915a10d954d1bfcdf4fdc8b6d0d81b4f5e9e8?response-content-disposition=attachment%3B+filename*%3DUTF-8%27%27pytorch_model-00001-of-00009.bin%3B+filename%3D%22pytorch_model-00001-of-00009.bin%22%3B&response-content-type=application%2Foctet-stream&Expires=1687153561&Policy=eyJTdGF0ZW1lbnQiOlt7IlJlc291cmNlIjoiaHR0cHM6Ly9jZG4tbGZzLmh1Z2dpbmdmYWNlLmNvL3JlcG9zL2EzLzcyL2EzNzI4OGZkMjVkZTQ1YjZhOGJiYjc5ODAxOTA3Mjg5ZjZjMTJiYjg3MGRiNjhmNzViMDAyNDE5M2RhMWYwNDcvMzg0YmQ5MmU2ZDFkMGI2YTEzM2IxZDgxYmFkOTE1YTEwZDk1NGQxYmZjZGY0ZmRjOGI2ZDBkODFiNGY1ZTllOD9yZXNwb25zZS1jb250ZW50LWRpc3Bvc2l0aW9uPSomcmVzcG9uc2UtY29udGVudC10eXBlPSoiLCJDb25kaXRpb24iOnsiRGF0ZUxlc3NUaGFuIjp7IkFXUzpFcG9jaFRpbWUiOjE2ODcxNTM1NjF9fX1dfQ__&Signature=iNaCCN6qnYFUxwnxQeaAeD2SIvmH6QQU3oSUMU3ooPseaimTNN3Igpx1aeYQYHjAW5qvItarVqk5JoiEOfHkumJZgm3-OiKcbQPc7SXMnHA7Z6ItKrvN82N2l363JIGLpuPgfW1cSyqPRhHRTIu-h2RAKuCM6RI-VZz6904k5IQhat3GtF4H2JKlPZ-tL1Jn9z6TPH4ebt7hXY56opM2MsAk%7EdiE84luPziZv73vYL5ImQwroT2ctd35LuPXC82zo%7EZVBWpwFoDE3Wf3ofq8QMdCL%7E5PTgSby58IliJugvr9pTF9zjT8OGWnzbJo20jx2qaeseMLhrziyBP0Y5zntA__&Key-Pair-Id=KVTP0A1DKRTAX\n",
            "\n",
            "06/16 05:46:01 [\u001b[1;32mNOTICE\u001b[0m] CUID#12 - Redirecting to https://cdn-lfs.huggingface.co/repos/a3/72/a37288fd25de45b6a8bbb79801907289f6c12bb870db68f75b0024193da1f047/638cb048ee6ad66f85a176e980332b0d61cbddb2d5dc9b5ad1863d87e020350c?response-content-disposition=attachment%3B+filename*%3DUTF-8%27%27pytorch_model-00002-of-00009.bin%3B+filename%3D%22pytorch_model-00002-of-00009.bin%22%3B&response-content-type=application%2Foctet-stream&Expires=1687152860&Policy=eyJTdGF0ZW1lbnQiOlt7IlJlc291cmNlIjoiaHR0cHM6Ly9jZG4tbGZzLmh1Z2dpbmdmYWNlLmNvL3JlcG9zL2EzLzcyL2EzNzI4OGZkMjVkZTQ1YjZhOGJiYjc5ODAxOTA3Mjg5ZjZjMTJiYjg3MGRiNjhmNzViMDAyNDE5M2RhMWYwNDcvNjM4Y2IwNDhlZTZhZDY2Zjg1YTE3NmU5ODAzMzJiMGQ2MWNiZGRiMmQ1ZGM5YjVhZDE4NjNkODdlMDIwMzUwYz9yZXNwb25zZS1jb250ZW50LWRpc3Bvc2l0aW9uPSomcmVzcG9uc2UtY29udGVudC10eXBlPSoiLCJDb25kaXRpb24iOnsiRGF0ZUxlc3NUaGFuIjp7IkFXUzpFcG9jaFRpbWUiOjE2ODcxNTI4NjB9fX1dfQ__&Signature=rBdjvTkuvTcjKQ7RKYPkhK0dGIGu2UzolF3Jfr%7EbzX8F58lS7KTePRh1SyUwyn8WSvbGhbsnP1HRttRcVI9fvDWwBGZiH3erSvbYm685viIchceB7FQc1kVcyo1mPMBbwmBjD7XXG6eNhJzcu6rdNkl0BHL8zYq-HWhsDSZsgXkBrrZ4HcBO-aQP3pdY4tLp3jZ9hDa0thkYdckuuKh64ANc6vyzXtFtEisqf9MzXiqA%7Ex5BQleqXkB1Y60OCQaHw3ciOWcuA89sWs9%7E5SNcDNNarNhJU042vQtvvkYDOrUFXao62WQeTnNHlaK-XyS0vtTg37ID8VH%7EU18XvbJV6A__&Key-Pair-Id=KVTP0A1DKRTAX\n",
            "\n",
            "06/16 05:46:01 [\u001b[1;32mNOTICE\u001b[0m] CUID#14 - Redirecting to https://cdn-lfs.huggingface.co/repos/a3/72/a37288fd25de45b6a8bbb79801907289f6c12bb870db68f75b0024193da1f047/384bd92e6d1d0b6a133b1d81bad915a10d954d1bfcdf4fdc8b6d0d81b4f5e9e8?response-content-disposition=attachment%3B+filename*%3DUTF-8%27%27pytorch_model-00001-of-00009.bin%3B+filename%3D%22pytorch_model-00001-of-00009.bin%22%3B&response-content-type=application%2Foctet-stream&Expires=1687153561&Policy=eyJTdGF0ZW1lbnQiOlt7IlJlc291cmNlIjoiaHR0cHM6Ly9jZG4tbGZzLmh1Z2dpbmdmYWNlLmNvL3JlcG9zL2EzLzcyL2EzNzI4OGZkMjVkZTQ1YjZhOGJiYjc5ODAxOTA3Mjg5ZjZjMTJiYjg3MGRiNjhmNzViMDAyNDE5M2RhMWYwNDcvMzg0YmQ5MmU2ZDFkMGI2YTEzM2IxZDgxYmFkOTE1YTEwZDk1NGQxYmZjZGY0ZmRjOGI2ZDBkODFiNGY1ZTllOD9yZXNwb25zZS1jb250ZW50LWRpc3Bvc2l0aW9uPSomcmVzcG9uc2UtY29udGVudC10eXBlPSoiLCJDb25kaXRpb24iOnsiRGF0ZUxlc3NUaGFuIjp7IkFXUzpFcG9jaFRpbWUiOjE2ODcxNTM1NjF9fX1dfQ__&Signature=iNaCCN6qnYFUxwnxQeaAeD2SIvmH6QQU3oSUMU3ooPseaimTNN3Igpx1aeYQYHjAW5qvItarVqk5JoiEOfHkumJZgm3-OiKcbQPc7SXMnHA7Z6ItKrvN82N2l363JIGLpuPgfW1cSyqPRhHRTIu-h2RAKuCM6RI-VZz6904k5IQhat3GtF4H2JKlPZ-tL1Jn9z6TPH4ebt7hXY56opM2MsAk%7EdiE84luPziZv73vYL5ImQwroT2ctd35LuPXC82zo%7EZVBWpwFoDE3Wf3ofq8QMdCL%7E5PTgSby58IliJugvr9pTF9zjT8OGWnzbJo20jx2qaeseMLhrziyBP0Y5zntA__&Key-Pair-Id=KVTP0A1DKRTAX\n",
            "\n",
            "06/16 05:46:01 [\u001b[1;32mNOTICE\u001b[0m] CUID#15 - Redirecting to https://cdn-lfs.huggingface.co/repos/a3/72/a37288fd25de45b6a8bbb79801907289f6c12bb870db68f75b0024193da1f047/638cb048ee6ad66f85a176e980332b0d61cbddb2d5dc9b5ad1863d87e020350c?response-content-disposition=attachment%3B+filename*%3DUTF-8%27%27pytorch_model-00002-of-00009.bin%3B+filename%3D%22pytorch_model-00002-of-00009.bin%22%3B&response-content-type=application%2Foctet-stream&Expires=1687153561&Policy=eyJTdGF0ZW1lbnQiOlt7IlJlc291cmNlIjoiaHR0cHM6Ly9jZG4tbGZzLmh1Z2dpbmdmYWNlLmNvL3JlcG9zL2EzLzcyL2EzNzI4OGZkMjVkZTQ1YjZhOGJiYjc5ODAxOTA3Mjg5ZjZjMTJiYjg3MGRiNjhmNzViMDAyNDE5M2RhMWYwNDcvNjM4Y2IwNDhlZTZhZDY2Zjg1YTE3NmU5ODAzMzJiMGQ2MWNiZGRiMmQ1ZGM5YjVhZDE4NjNkODdlMDIwMzUwYz9yZXNwb25zZS1jb250ZW50LWRpc3Bvc2l0aW9uPSomcmVzcG9uc2UtY29udGVudC10eXBlPSoiLCJDb25kaXRpb24iOnsiRGF0ZUxlc3NUaGFuIjp7IkFXUzpFcG9jaFRpbWUiOjE2ODcxNTM1NjF9fX1dfQ__&Signature=LNCXuhpYoleRWT-Nit7xH-JUlnQ1ZYlrPjw5rQjEspFAw2GEmsGPo4d4ZX%7EI6ob6sO6twKaJHSgi2Ttycr3d3XlIdDocZ3nuYzzqGKc04ytd9BRpoX99Fwd0k9SuOMC0HW3sgdachv2HA-SbgisfFUp%7E6ghkxIaAeS0cFWK3jq2pZGbOtA1RyJ-40dnyt1wRNAdgrmmPGY4LBgCijyhJz4zj6diZfHI2tzlo2GtmxQL8P2UH1x1WK0af6rnA%7E-RexFGMdv7ZYBHTmW8hRPRyK-h-SmFNGlB-JTC4910c5nNTHLiZwNv3pcryfdHPj0b13O9W9gLIRWUCWUAsIFbqAQ__&Key-Pair-Id=KVTP0A1DKRTAX\n",
            "\n",
            "06/16 05:46:01 [\u001b[1;32mNOTICE\u001b[0m] CUID#18 - Redirecting to https://cdn-lfs.huggingface.co/repos/a3/72/a37288fd25de45b6a8bbb79801907289f6c12bb870db68f75b0024193da1f047/384bd92e6d1d0b6a133b1d81bad915a10d954d1bfcdf4fdc8b6d0d81b4f5e9e8?response-content-disposition=attachment%3B+filename*%3DUTF-8%27%27pytorch_model-00001-of-00009.bin%3B+filename%3D%22pytorch_model-00001-of-00009.bin%22%3B&response-content-type=application%2Foctet-stream&Expires=1687153561&Policy=eyJTdGF0ZW1lbnQiOlt7IlJlc291cmNlIjoiaHR0cHM6Ly9jZG4tbGZzLmh1Z2dpbmdmYWNlLmNvL3JlcG9zL2EzLzcyL2EzNzI4OGZkMjVkZTQ1YjZhOGJiYjc5ODAxOTA3Mjg5ZjZjMTJiYjg3MGRiNjhmNzViMDAyNDE5M2RhMWYwNDcvMzg0YmQ5MmU2ZDFkMGI2YTEzM2IxZDgxYmFkOTE1YTEwZDk1NGQxYmZjZGY0ZmRjOGI2ZDBkODFiNGY1ZTllOD9yZXNwb25zZS1jb250ZW50LWRpc3Bvc2l0aW9uPSomcmVzcG9uc2UtY29udGVudC10eXBlPSoiLCJDb25kaXRpb24iOnsiRGF0ZUxlc3NUaGFuIjp7IkFXUzpFcG9jaFRpbWUiOjE2ODcxNTM1NjF9fX1dfQ__&Signature=iNaCCN6qnYFUxwnxQeaAeD2SIvmH6QQU3oSUMU3ooPseaimTNN3Igpx1aeYQYHjAW5qvItarVqk5JoiEOfHkumJZgm3-OiKcbQPc7SXMnHA7Z6ItKrvN82N2l363JIGLpuPgfW1cSyqPRhHRTIu-h2RAKuCM6RI-VZz6904k5IQhat3GtF4H2JKlPZ-tL1Jn9z6TPH4ebt7hXY56opM2MsAk%7EdiE84luPziZv73vYL5ImQwroT2ctd35LuPXC82zo%7EZVBWpwFoDE3Wf3ofq8QMdCL%7E5PTgSby58IliJugvr9pTF9zjT8OGWnzbJo20jx2qaeseMLhrziyBP0Y5zntA__&Key-Pair-Id=KVTP0A1DKRTAX\n",
            "\n",
            "06/16 05:46:01 [\u001b[1;32mNOTICE\u001b[0m] CUID#14 - Redirecting to https://cdn-lfs.huggingface.co/repos/a3/72/a37288fd25de45b6a8bbb79801907289f6c12bb870db68f75b0024193da1f047/638cb048ee6ad66f85a176e980332b0d61cbddb2d5dc9b5ad1863d87e020350c?response-content-disposition=attachment%3B+filename*%3DUTF-8%27%27pytorch_model-00002-of-00009.bin%3B+filename%3D%22pytorch_model-00002-of-00009.bin%22%3B&response-content-type=application%2Foctet-stream&Expires=1687153561&Policy=eyJTdGF0ZW1lbnQiOlt7IlJlc291cmNlIjoiaHR0cHM6Ly9jZG4tbGZzLmh1Z2dpbmdmYWNlLmNvL3JlcG9zL2EzLzcyL2EzNzI4OGZkMjVkZTQ1YjZhOGJiYjc5ODAxOTA3Mjg5ZjZjMTJiYjg3MGRiNjhmNzViMDAyNDE5M2RhMWYwNDcvNjM4Y2IwNDhlZTZhZDY2Zjg1YTE3NmU5ODAzMzJiMGQ2MWNiZGRiMmQ1ZGM5YjVhZDE4NjNkODdlMDIwMzUwYz9yZXNwb25zZS1jb250ZW50LWRpc3Bvc2l0aW9uPSomcmVzcG9uc2UtY29udGVudC10eXBlPSoiLCJDb25kaXRpb24iOnsiRGF0ZUxlc3NUaGFuIjp7IkFXUzpFcG9jaFRpbWUiOjE2ODcxNTM1NjF9fX1dfQ__&Signature=LNCXuhpYoleRWT-Nit7xH-JUlnQ1ZYlrPjw5rQjEspFAw2GEmsGPo4d4ZX%7EI6ob6sO6twKaJHSgi2Ttycr3d3XlIdDocZ3nuYzzqGKc04ytd9BRpoX99Fwd0k9SuOMC0HW3sgdachv2HA-SbgisfFUp%7E6ghkxIaAeS0cFWK3jq2pZGbOtA1RyJ-40dnyt1wRNAdgrmmPGY4LBgCijyhJz4zj6diZfHI2tzlo2GtmxQL8P2UH1x1WK0af6rnA%7E-RexFGMdv7ZYBHTmW8hRPRyK-h-SmFNGlB-JTC4910c5nNTHLiZwNv3pcryfdHPj0b13O9W9gLIRWUCWUAsIFbqAQ__&Key-Pair-Id=KVTP0A1DKRTAX\n",
            "\n",
            "06/16 05:46:01 [\u001b[1;32mNOTICE\u001b[0m] CUID#16 - Redirecting to https://cdn-lfs.huggingface.co/repos/a3/72/a37288fd25de45b6a8bbb79801907289f6c12bb870db68f75b0024193da1f047/384bd92e6d1d0b6a133b1d81bad915a10d954d1bfcdf4fdc8b6d0d81b4f5e9e8?response-content-disposition=attachment%3B+filename*%3DUTF-8%27%27pytorch_model-00001-of-00009.bin%3B+filename%3D%22pytorch_model-00001-of-00009.bin%22%3B&response-content-type=application%2Foctet-stream&Expires=1687153561&Policy=eyJTdGF0ZW1lbnQiOlt7IlJlc291cmNlIjoiaHR0cHM6Ly9jZG4tbGZzLmh1Z2dpbmdmYWNlLmNvL3JlcG9zL2EzLzcyL2EzNzI4OGZkMjVkZTQ1YjZhOGJiYjc5ODAxOTA3Mjg5ZjZjMTJiYjg3MGRiNjhmNzViMDAyNDE5M2RhMWYwNDcvMzg0YmQ5MmU2ZDFkMGI2YTEzM2IxZDgxYmFkOTE1YTEwZDk1NGQxYmZjZGY0ZmRjOGI2ZDBkODFiNGY1ZTllOD9yZXNwb25zZS1jb250ZW50LWRpc3Bvc2l0aW9uPSomcmVzcG9uc2UtY29udGVudC10eXBlPSoiLCJDb25kaXRpb24iOnsiRGF0ZUxlc3NUaGFuIjp7IkFXUzpFcG9jaFRpbWUiOjE2ODcxNTM1NjF9fX1dfQ__&Signature=iNaCCN6qnYFUxwnxQeaAeD2SIvmH6QQU3oSUMU3ooPseaimTNN3Igpx1aeYQYHjAW5qvItarVqk5JoiEOfHkumJZgm3-OiKcbQPc7SXMnHA7Z6ItKrvN82N2l363JIGLpuPgfW1cSyqPRhHRTIu-h2RAKuCM6RI-VZz6904k5IQhat3GtF4H2JKlPZ-tL1Jn9z6TPH4ebt7hXY56opM2MsAk%7EdiE84luPziZv73vYL5ImQwroT2ctd35LuPXC82zo%7EZVBWpwFoDE3Wf3ofq8QMdCL%7E5PTgSby58IliJugvr9pTF9zjT8OGWnzbJo20jx2qaeseMLhrziyBP0Y5zntA__&Key-Pair-Id=KVTP0A1DKRTAX\n",
            "\n",
            "06/16 05:46:01 [\u001b[1;32mNOTICE\u001b[0m] CUID#16 - Redirecting to https://cdn-lfs.huggingface.co/repos/a3/72/a37288fd25de45b6a8bbb79801907289f6c12bb870db68f75b0024193da1f047/638cb048ee6ad66f85a176e980332b0d61cbddb2d5dc9b5ad1863d87e020350c?response-content-disposition=attachment%3B+filename*%3DUTF-8%27%27pytorch_model-00002-of-00009.bin%3B+filename%3D%22pytorch_model-00002-of-00009.bin%22%3B&response-content-type=application%2Foctet-stream&Expires=1687153561&Policy=eyJTdGF0ZW1lbnQiOlt7IlJlc291cmNlIjoiaHR0cHM6Ly9jZG4tbGZzLmh1Z2dpbmdmYWNlLmNvL3JlcG9zL2EzLzcyL2EzNzI4OGZkMjVkZTQ1YjZhOGJiYjc5ODAxOTA3Mjg5ZjZjMTJiYjg3MGRiNjhmNzViMDAyNDE5M2RhMWYwNDcvNjM4Y2IwNDhlZTZhZDY2Zjg1YTE3NmU5ODAzMzJiMGQ2MWNiZGRiMmQ1ZGM5YjVhZDE4NjNkODdlMDIwMzUwYz9yZXNwb25zZS1jb250ZW50LWRpc3Bvc2l0aW9uPSomcmVzcG9uc2UtY29udGVudC10eXBlPSoiLCJDb25kaXRpb24iOnsiRGF0ZUxlc3NUaGFuIjp7IkFXUzpFcG9jaFRpbWUiOjE2ODcxNTM1NjF9fX1dfQ__&Signature=LNCXuhpYoleRWT-Nit7xH-JUlnQ1ZYlrPjw5rQjEspFAw2GEmsGPo4d4ZX%7EI6ob6sO6twKaJHSgi2Ttycr3d3XlIdDocZ3nuYzzqGKc04ytd9BRpoX99Fwd0k9SuOMC0HW3sgdachv2HA-SbgisfFUp%7E6ghkxIaAeS0cFWK3jq2pZGbOtA1RyJ-40dnyt1wRNAdgrmmPGY4LBgCijyhJz4zj6diZfHI2tzlo2GtmxQL8P2UH1x1WK0af6rnA%7E-RexFGMdv7ZYBHTmW8hRPRyK-h-SmFNGlB-JTC4910c5nNTHLiZwNv3pcryfdHPj0b13O9W9gLIRWUCWUAsIFbqAQ__&Key-Pair-Id=KVTP0A1DKRTAX\n",
            "\n",
            "06/16 05:46:01 [\u001b[1;32mNOTICE\u001b[0m] CUID#17 - Redirecting to https://cdn-lfs.huggingface.co/repos/a3/72/a37288fd25de45b6a8bbb79801907289f6c12bb870db68f75b0024193da1f047/384bd92e6d1d0b6a133b1d81bad915a10d954d1bfcdf4fdc8b6d0d81b4f5e9e8?response-content-disposition=attachment%3B+filename*%3DUTF-8%27%27pytorch_model-00001-of-00009.bin%3B+filename%3D%22pytorch_model-00001-of-00009.bin%22%3B&response-content-type=application%2Foctet-stream&Expires=1687153561&Policy=eyJTdGF0ZW1lbnQiOlt7IlJlc291cmNlIjoiaHR0cHM6Ly9jZG4tbGZzLmh1Z2dpbmdmYWNlLmNvL3JlcG9zL2EzLzcyL2EzNzI4OGZkMjVkZTQ1YjZhOGJiYjc5ODAxOTA3Mjg5ZjZjMTJiYjg3MGRiNjhmNzViMDAyNDE5M2RhMWYwNDcvMzg0YmQ5MmU2ZDFkMGI2YTEzM2IxZDgxYmFkOTE1YTEwZDk1NGQxYmZjZGY0ZmRjOGI2ZDBkODFiNGY1ZTllOD9yZXNwb25zZS1jb250ZW50LWRpc3Bvc2l0aW9uPSomcmVzcG9uc2UtY29udGVudC10eXBlPSoiLCJDb25kaXRpb24iOnsiRGF0ZUxlc3NUaGFuIjp7IkFXUzpFcG9jaFRpbWUiOjE2ODcxNTM1NjF9fX1dfQ__&Signature=iNaCCN6qnYFUxwnxQeaAeD2SIvmH6QQU3oSUMU3ooPseaimTNN3Igpx1aeYQYHjAW5qvItarVqk5JoiEOfHkumJZgm3-OiKcbQPc7SXMnHA7Z6ItKrvN82N2l363JIGLpuPgfW1cSyqPRhHRTIu-h2RAKuCM6RI-VZz6904k5IQhat3GtF4H2JKlPZ-tL1Jn9z6TPH4ebt7hXY56opM2MsAk%7EdiE84luPziZv73vYL5ImQwroT2ctd35LuPXC82zo%7EZVBWpwFoDE3Wf3ofq8QMdCL%7E5PTgSby58IliJugvr9pTF9zjT8OGWnzbJo20jx2qaeseMLhrziyBP0Y5zntA__&Key-Pair-Id=KVTP0A1DKRTAX\n",
            "\n",
            "06/16 05:46:01 [\u001b[1;32mNOTICE\u001b[0m] CUID#19 - Redirecting to https://cdn-lfs.huggingface.co/repos/a3/72/a37288fd25de45b6a8bbb79801907289f6c12bb870db68f75b0024193da1f047/384bd92e6d1d0b6a133b1d81bad915a10d954d1bfcdf4fdc8b6d0d81b4f5e9e8?response-content-disposition=attachment%3B+filename*%3DUTF-8%27%27pytorch_model-00001-of-00009.bin%3B+filename%3D%22pytorch_model-00001-of-00009.bin%22%3B&response-content-type=application%2Foctet-stream&Expires=1687153561&Policy=eyJTdGF0ZW1lbnQiOlt7IlJlc291cmNlIjoiaHR0cHM6Ly9jZG4tbGZzLmh1Z2dpbmdmYWNlLmNvL3JlcG9zL2EzLzcyL2EzNzI4OGZkMjVkZTQ1YjZhOGJiYjc5ODAxOTA3Mjg5ZjZjMTJiYjg3MGRiNjhmNzViMDAyNDE5M2RhMWYwNDcvMzg0YmQ5MmU2ZDFkMGI2YTEzM2IxZDgxYmFkOTE1YTEwZDk1NGQxYmZjZGY0ZmRjOGI2ZDBkODFiNGY1ZTllOD9yZXNwb25zZS1jb250ZW50LWRpc3Bvc2l0aW9uPSomcmVzcG9uc2UtY29udGVudC10eXBlPSoiLCJDb25kaXRpb24iOnsiRGF0ZUxlc3NUaGFuIjp7IkFXUzpFcG9jaFRpbWUiOjE2ODcxNTM1NjF9fX1dfQ__&Signature=iNaCCN6qnYFUxwnxQeaAeD2SIvmH6QQU3oSUMU3ooPseaimTNN3Igpx1aeYQYHjAW5qvItarVqk5JoiEOfHkumJZgm3-OiKcbQPc7SXMnHA7Z6ItKrvN82N2l363JIGLpuPgfW1cSyqPRhHRTIu-h2RAKuCM6RI-VZz6904k5IQhat3GtF4H2JKlPZ-tL1Jn9z6TPH4ebt7hXY56opM2MsAk%7EdiE84luPziZv73vYL5ImQwroT2ctd35LuPXC82zo%7EZVBWpwFoDE3Wf3ofq8QMdCL%7E5PTgSby58IliJugvr9pTF9zjT8OGWnzbJo20jx2qaeseMLhrziyBP0Y5zntA__&Key-Pair-Id=KVTP0A1DKRTAX\n",
            "\n",
            "06/16 05:46:01 [\u001b[1;32mNOTICE\u001b[0m] CUID#21 - Redirecting to https://cdn-lfs.huggingface.co/repos/a3/72/a37288fd25de45b6a8bbb79801907289f6c12bb870db68f75b0024193da1f047/384bd92e6d1d0b6a133b1d81bad915a10d954d1bfcdf4fdc8b6d0d81b4f5e9e8?response-content-disposition=attachment%3B+filename*%3DUTF-8%27%27pytorch_model-00001-of-00009.bin%3B+filename%3D%22pytorch_model-00001-of-00009.bin%22%3B&response-content-type=application%2Foctet-stream&Expires=1687153561&Policy=eyJTdGF0ZW1lbnQiOlt7IlJlc291cmNlIjoiaHR0cHM6Ly9jZG4tbGZzLmh1Z2dpbmdmYWNlLmNvL3JlcG9zL2EzLzcyL2EzNzI4OGZkMjVkZTQ1YjZhOGJiYjc5ODAxOTA3Mjg5ZjZjMTJiYjg3MGRiNjhmNzViMDAyNDE5M2RhMWYwNDcvMzg0YmQ5MmU2ZDFkMGI2YTEzM2IxZDgxYmFkOTE1YTEwZDk1NGQxYmZjZGY0ZmRjOGI2ZDBkODFiNGY1ZTllOD9yZXNwb25zZS1jb250ZW50LWRpc3Bvc2l0aW9uPSomcmVzcG9uc2UtY29udGVudC10eXBlPSoiLCJDb25kaXRpb24iOnsiRGF0ZUxlc3NUaGFuIjp7IkFXUzpFcG9jaFRpbWUiOjE2ODcxNTM1NjF9fX1dfQ__&Signature=iNaCCN6qnYFUxwnxQeaAeD2SIvmH6QQU3oSUMU3ooPseaimTNN3Igpx1aeYQYHjAW5qvItarVqk5JoiEOfHkumJZgm3-OiKcbQPc7SXMnHA7Z6ItKrvN82N2l363JIGLpuPgfW1cSyqPRhHRTIu-h2RAKuCM6RI-VZz6904k5IQhat3GtF4H2JKlPZ-tL1Jn9z6TPH4ebt7hXY56opM2MsAk%7EdiE84luPziZv73vYL5ImQwroT2ctd35LuPXC82zo%7EZVBWpwFoDE3Wf3ofq8QMdCL%7E5PTgSby58IliJugvr9pTF9zjT8OGWnzbJo20jx2qaeseMLhrziyBP0Y5zntA__&Key-Pair-Id=KVTP0A1DKRTAX\n",
            "\n",
            "06/16 05:46:01 [\u001b[1;32mNOTICE\u001b[0m] CUID#17 - Redirecting to https://cdn-lfs.huggingface.co/repos/a3/72/a37288fd25de45b6a8bbb79801907289f6c12bb870db68f75b0024193da1f047/638cb048ee6ad66f85a176e980332b0d61cbddb2d5dc9b5ad1863d87e020350c?response-content-disposition=attachment%3B+filename*%3DUTF-8%27%27pytorch_model-00002-of-00009.bin%3B+filename%3D%22pytorch_model-00002-of-00009.bin%22%3B&response-content-type=application%2Foctet-stream&Expires=1687153207&Policy=eyJTdGF0ZW1lbnQiOlt7IlJlc291cmNlIjoiaHR0cHM6Ly9jZG4tbGZzLmh1Z2dpbmdmYWNlLmNvL3JlcG9zL2EzLzcyL2EzNzI4OGZkMjVkZTQ1YjZhOGJiYjc5ODAxOTA3Mjg5ZjZjMTJiYjg3MGRiNjhmNzViMDAyNDE5M2RhMWYwNDcvNjM4Y2IwNDhlZTZhZDY2Zjg1YTE3NmU5ODAzMzJiMGQ2MWNiZGRiMmQ1ZGM5YjVhZDE4NjNkODdlMDIwMzUwYz9yZXNwb25zZS1jb250ZW50LWRpc3Bvc2l0aW9uPSomcmVzcG9uc2UtY29udGVudC10eXBlPSoiLCJDb25kaXRpb24iOnsiRGF0ZUxlc3NUaGFuIjp7IkFXUzpFcG9jaFRpbWUiOjE2ODcxNTMyMDd9fX1dfQ__&Signature=mU3jfuqcHJhPPsFlikwuZb39cqm8KuMlvz7WUCsnmluGNwuit2U5xtfpj0mWhckCSZB68keOTELC0W5obaSZj%7Esu9Nx-uPCepwzG6CSQQrpOnqK6cCV%7E%7EuYrgyjWK%7EKAKGggRXENIeJXtaQlY5bvIHOWAjNQ59BQHQBH4D%7EdnS384VYKbBTWQElnu35xiF6KEOmjZOOhG-QJH%7EbrNSnOZ-LiQ1iTkKtQ2lRthLpGhl9Jsp6sA6muihFN34P71Wjsyaa2AJgyuh8ofVk8eDhLLwHXsz7um%7EdTh4zFHg%7EoeXOt6liUjhjL8h%7E1ipPcqyBfsELXgCDpyRP48CZ9FFXjEw__&Key-Pair-Id=KVTP0A1DKRTAX\n",
            "\n",
            "06/16 05:46:01 [\u001b[1;32mNOTICE\u001b[0m] CUID#19 - Redirecting to https://cdn-lfs.huggingface.co/repos/a3/72/a37288fd25de45b6a8bbb79801907289f6c12bb870db68f75b0024193da1f047/638cb048ee6ad66f85a176e980332b0d61cbddb2d5dc9b5ad1863d87e020350c?response-content-disposition=attachment%3B+filename*%3DUTF-8%27%27pytorch_model-00002-of-00009.bin%3B+filename%3D%22pytorch_model-00002-of-00009.bin%22%3B&response-content-type=application%2Foctet-stream&Expires=1687153561&Policy=eyJTdGF0ZW1lbnQiOlt7IlJlc291cmNlIjoiaHR0cHM6Ly9jZG4tbGZzLmh1Z2dpbmdmYWNlLmNvL3JlcG9zL2EzLzcyL2EzNzI4OGZkMjVkZTQ1YjZhOGJiYjc5ODAxOTA3Mjg5ZjZjMTJiYjg3MGRiNjhmNzViMDAyNDE5M2RhMWYwNDcvNjM4Y2IwNDhlZTZhZDY2Zjg1YTE3NmU5ODAzMzJiMGQ2MWNiZGRiMmQ1ZGM5YjVhZDE4NjNkODdlMDIwMzUwYz9yZXNwb25zZS1jb250ZW50LWRpc3Bvc2l0aW9uPSomcmVzcG9uc2UtY29udGVudC10eXBlPSoiLCJDb25kaXRpb24iOnsiRGF0ZUxlc3NUaGFuIjp7IkFXUzpFcG9jaFRpbWUiOjE2ODcxNTM1NjF9fX1dfQ__&Signature=LNCXuhpYoleRWT-Nit7xH-JUlnQ1ZYlrPjw5rQjEspFAw2GEmsGPo4d4ZX%7EI6ob6sO6twKaJHSgi2Ttycr3d3XlIdDocZ3nuYzzqGKc04ytd9BRpoX99Fwd0k9SuOMC0HW3sgdachv2HA-SbgisfFUp%7E6ghkxIaAeS0cFWK3jq2pZGbOtA1RyJ-40dnyt1wRNAdgrmmPGY4LBgCijyhJz4zj6diZfHI2tzlo2GtmxQL8P2UH1x1WK0af6rnA%7E-RexFGMdv7ZYBHTmW8hRPRyK-h-SmFNGlB-JTC4910c5nNTHLiZwNv3pcryfdHPj0b13O9W9gLIRWUCWUAsIFbqAQ__&Key-Pair-Id=KVTP0A1DKRTAX\n",
            "\n",
            "06/16 05:46:01 [\u001b[1;32mNOTICE\u001b[0m] CUID#22 - Redirecting to https://cdn-lfs.huggingface.co/repos/a3/72/a37288fd25de45b6a8bbb79801907289f6c12bb870db68f75b0024193da1f047/384bd92e6d1d0b6a133b1d81bad915a10d954d1bfcdf4fdc8b6d0d81b4f5e9e8?response-content-disposition=attachment%3B+filename*%3DUTF-8%27%27pytorch_model-00001-of-00009.bin%3B+filename%3D%22pytorch_model-00001-of-00009.bin%22%3B&response-content-type=application%2Foctet-stream&Expires=1687153561&Policy=eyJTdGF0ZW1lbnQiOlt7IlJlc291cmNlIjoiaHR0cHM6Ly9jZG4tbGZzLmh1Z2dpbmdmYWNlLmNvL3JlcG9zL2EzLzcyL2EzNzI4OGZkMjVkZTQ1YjZhOGJiYjc5ODAxOTA3Mjg5ZjZjMTJiYjg3MGRiNjhmNzViMDAyNDE5M2RhMWYwNDcvMzg0YmQ5MmU2ZDFkMGI2YTEzM2IxZDgxYmFkOTE1YTEwZDk1NGQxYmZjZGY0ZmRjOGI2ZDBkODFiNGY1ZTllOD9yZXNwb25zZS1jb250ZW50LWRpc3Bvc2l0aW9uPSomcmVzcG9uc2UtY29udGVudC10eXBlPSoiLCJDb25kaXRpb24iOnsiRGF0ZUxlc3NUaGFuIjp7IkFXUzpFcG9jaFRpbWUiOjE2ODcxNTM1NjF9fX1dfQ__&Signature=iNaCCN6qnYFUxwnxQeaAeD2SIvmH6QQU3oSUMU3ooPseaimTNN3Igpx1aeYQYHjAW5qvItarVqk5JoiEOfHkumJZgm3-OiKcbQPc7SXMnHA7Z6ItKrvN82N2l363JIGLpuPgfW1cSyqPRhHRTIu-h2RAKuCM6RI-VZz6904k5IQhat3GtF4H2JKlPZ-tL1Jn9z6TPH4ebt7hXY56opM2MsAk%7EdiE84luPziZv73vYL5ImQwroT2ctd35LuPXC82zo%7EZVBWpwFoDE3Wf3ofq8QMdCL%7E5PTgSby58IliJugvr9pTF9zjT8OGWnzbJo20jx2qaeseMLhrziyBP0Y5zntA__&Key-Pair-Id=KVTP0A1DKRTAX\n",
            "\n",
            "06/16 05:46:01 [\u001b[1;32mNOTICE\u001b[0m] CUID#9 - Redirecting to https://cdn-lfs.huggingface.co/repos/a3/72/a37288fd25de45b6a8bbb79801907289f6c12bb870db68f75b0024193da1f047/c3f07c8ec31edebe5ff80ed32d175475a044a0517d84c5eff6f6247ad0a4432d?response-content-disposition=attachment%3B+filename*%3DUTF-8%27%27pytorch_model-00007-of-00009.bin%3B+filename%3D%22pytorch_model-00007-of-00009.bin%22%3B&response-content-type=application%2Foctet-stream&Expires=1687153561&Policy=eyJTdGF0ZW1lbnQiOlt7IlJlc291cmNlIjoiaHR0cHM6Ly9jZG4tbGZzLmh1Z2dpbmdmYWNlLmNvL3JlcG9zL2EzLzcyL2EzNzI4OGZkMjVkZTQ1YjZhOGJiYjc5ODAxOTA3Mjg5ZjZjMTJiYjg3MGRiNjhmNzViMDAyNDE5M2RhMWYwNDcvYzNmMDdjOGVjMzFlZGViZTVmZjgwZWQzMmQxNzU0NzVhMDQ0YTA1MTdkODRjNWVmZjZmNjI0N2FkMGE0NDMyZD9yZXNwb25zZS1jb250ZW50LWRpc3Bvc2l0aW9uPSomcmVzcG9uc2UtY29udGVudC10eXBlPSoiLCJDb25kaXRpb24iOnsiRGF0ZUxlc3NUaGFuIjp7IkFXUzpFcG9jaFRpbWUiOjE2ODcxNTM1NjF9fX1dfQ__&Signature=Gamn7nZ5r-G9Saa9K4N78%7Ez7fC25RE5SZLfigtkj5RlHEk-XkGlK1x62bcEiIto9RJvbt6aF3RRAKeSjnxnoqiiWuMCHuNq5L65ZyTWjPmgmSSj0fL-hnSBu4asMu2Irlviy%7EgluSSBLLPSWSznFa04T28Z6IuIUEDian-LderXEejt0MEXRn5vFUupZgmcKG%7EndmZghOKMaxqYUzRVDHiEZqIuYYklSWYlMA9ehILwYLHHT5fIV5tNLwxZqIw9OHu99DEd9LSZt7GEgGkTfWMZ83BM8Lxee1fXoFg%7ELRI%7EaqYnsJX5Juk%7EjfV6%7Etv2gVLE9wZGxfommqA%7E8gaJmhA__&Key-Pair-Id=KVTP0A1DKRTAX\n",
            "\n",
            "06/16 05:46:01 [\u001b[1;32mNOTICE\u001b[0m] CUID#18 - Redirecting to https://cdn-lfs.huggingface.co/repos/a3/72/a37288fd25de45b6a8bbb79801907289f6c12bb870db68f75b0024193da1f047/638cb048ee6ad66f85a176e980332b0d61cbddb2d5dc9b5ad1863d87e020350c?response-content-disposition=attachment%3B+filename*%3DUTF-8%27%27pytorch_model-00002-of-00009.bin%3B+filename%3D%22pytorch_model-00002-of-00009.bin%22%3B&response-content-type=application%2Foctet-stream&Expires=1687153561&Policy=eyJTdGF0ZW1lbnQiOlt7IlJlc291cmNlIjoiaHR0cHM6Ly9jZG4tbGZzLmh1Z2dpbmdmYWNlLmNvL3JlcG9zL2EzLzcyL2EzNzI4OGZkMjVkZTQ1YjZhOGJiYjc5ODAxOTA3Mjg5ZjZjMTJiYjg3MGRiNjhmNzViMDAyNDE5M2RhMWYwNDcvNjM4Y2IwNDhlZTZhZDY2Zjg1YTE3NmU5ODAzMzJiMGQ2MWNiZGRiMmQ1ZGM5YjVhZDE4NjNkODdlMDIwMzUwYz9yZXNwb25zZS1jb250ZW50LWRpc3Bvc2l0aW9uPSomcmVzcG9uc2UtY29udGVudC10eXBlPSoiLCJDb25kaXRpb24iOnsiRGF0ZUxlc3NUaGFuIjp7IkFXUzpFcG9jaFRpbWUiOjE2ODcxNTM1NjF9fX1dfQ__&Signature=LNCXuhpYoleRWT-Nit7xH-JUlnQ1ZYlrPjw5rQjEspFAw2GEmsGPo4d4ZX%7EI6ob6sO6twKaJHSgi2Ttycr3d3XlIdDocZ3nuYzzqGKc04ytd9BRpoX99Fwd0k9SuOMC0HW3sgdachv2HA-SbgisfFUp%7E6ghkxIaAeS0cFWK3jq2pZGbOtA1RyJ-40dnyt1wRNAdgrmmPGY4LBgCijyhJz4zj6diZfHI2tzlo2GtmxQL8P2UH1x1WK0af6rnA%7E-RexFGMdv7ZYBHTmW8hRPRyK-h-SmFNGlB-JTC4910c5nNTHLiZwNv3pcryfdHPj0b13O9W9gLIRWUCWUAsIFbqAQ__&Key-Pair-Id=KVTP0A1DKRTAX\n",
            "\n",
            "06/16 05:46:01 [\u001b[1;32mNOTICE\u001b[0m] CUID#20 - Redirecting to https://cdn-lfs.huggingface.co/repos/a3/72/a37288fd25de45b6a8bbb79801907289f6c12bb870db68f75b0024193da1f047/638cb048ee6ad66f85a176e980332b0d61cbddb2d5dc9b5ad1863d87e020350c?response-content-disposition=attachment%3B+filename*%3DUTF-8%27%27pytorch_model-00002-of-00009.bin%3B+filename%3D%22pytorch_model-00002-of-00009.bin%22%3B&response-content-type=application%2Foctet-stream&Expires=1687153561&Policy=eyJTdGF0ZW1lbnQiOlt7IlJlc291cmNlIjoiaHR0cHM6Ly9jZG4tbGZzLmh1Z2dpbmdmYWNlLmNvL3JlcG9zL2EzLzcyL2EzNzI4OGZkMjVkZTQ1YjZhOGJiYjc5ODAxOTA3Mjg5ZjZjMTJiYjg3MGRiNjhmNzViMDAyNDE5M2RhMWYwNDcvNjM4Y2IwNDhlZTZhZDY2Zjg1YTE3NmU5ODAzMzJiMGQ2MWNiZGRiMmQ1ZGM5YjVhZDE4NjNkODdlMDIwMzUwYz9yZXNwb25zZS1jb250ZW50LWRpc3Bvc2l0aW9uPSomcmVzcG9uc2UtY29udGVudC10eXBlPSoiLCJDb25kaXRpb24iOnsiRGF0ZUxlc3NUaGFuIjp7IkFXUzpFcG9jaFRpbWUiOjE2ODcxNTM1NjF9fX1dfQ__&Signature=LNCXuhpYoleRWT-Nit7xH-JUlnQ1ZYlrPjw5rQjEspFAw2GEmsGPo4d4ZX%7EI6ob6sO6twKaJHSgi2Ttycr3d3XlIdDocZ3nuYzzqGKc04ytd9BRpoX99Fwd0k9SuOMC0HW3sgdachv2HA-SbgisfFUp%7E6ghkxIaAeS0cFWK3jq2pZGbOtA1RyJ-40dnyt1wRNAdgrmmPGY4LBgCijyhJz4zj6diZfHI2tzlo2GtmxQL8P2UH1x1WK0af6rnA%7E-RexFGMdv7ZYBHTmW8hRPRyK-h-SmFNGlB-JTC4910c5nNTHLiZwNv3pcryfdHPj0b13O9W9gLIRWUCWUAsIFbqAQ__&Key-Pair-Id=KVTP0A1DKRTAX\n",
            "\n",
            "06/16 05:46:01 [\u001b[1;32mNOTICE\u001b[0m] CUID#23 - Redirecting to https://cdn-lfs.huggingface.co/repos/a3/72/a37288fd25de45b6a8bbb79801907289f6c12bb870db68f75b0024193da1f047/384bd92e6d1d0b6a133b1d81bad915a10d954d1bfcdf4fdc8b6d0d81b4f5e9e8?response-content-disposition=attachment%3B+filename*%3DUTF-8%27%27pytorch_model-00001-of-00009.bin%3B+filename%3D%22pytorch_model-00001-of-00009.bin%22%3B&response-content-type=application%2Foctet-stream&Expires=1687153561&Policy=eyJTdGF0ZW1lbnQiOlt7IlJlc291cmNlIjoiaHR0cHM6Ly9jZG4tbGZzLmh1Z2dpbmdmYWNlLmNvL3JlcG9zL2EzLzcyL2EzNzI4OGZkMjVkZTQ1YjZhOGJiYjc5ODAxOTA3Mjg5ZjZjMTJiYjg3MGRiNjhmNzViMDAyNDE5M2RhMWYwNDcvMzg0YmQ5MmU2ZDFkMGI2YTEzM2IxZDgxYmFkOTE1YTEwZDk1NGQxYmZjZGY0ZmRjOGI2ZDBkODFiNGY1ZTllOD9yZXNwb25zZS1jb250ZW50LWRpc3Bvc2l0aW9uPSomcmVzcG9uc2UtY29udGVudC10eXBlPSoiLCJDb25kaXRpb24iOnsiRGF0ZUxlc3NUaGFuIjp7IkFXUzpFcG9jaFRpbWUiOjE2ODcxNTM1NjF9fX1dfQ__&Signature=iNaCCN6qnYFUxwnxQeaAeD2SIvmH6QQU3oSUMU3ooPseaimTNN3Igpx1aeYQYHjAW5qvItarVqk5JoiEOfHkumJZgm3-OiKcbQPc7SXMnHA7Z6ItKrvN82N2l363JI\n",
            "GLpuPgfW1cSyqPRhHRTIu-h2RAKuCM6RI-VZz6904k5IQhat3GtF4H2JKlPZ-tL1Jn9z6TPH4ebt7hXY56opM2MsAk%7EdiE84luPziZv73vYL5ImQwroT2ctd35LuPXC82zo%7EZVBWpwFoDE3Wf3ofq8QMdCL%7E5PTgSby58IliJugvr9pTF9zjT8OGWnzbJo20jx2qaeseMLhrziyBP0Y5zntA__&Key-Pair-Id=KVTP0A1DKRTAX\n",
            "06/16 05:46:01 [\u001b[1;32mNOTICE\u001b[0m] CUID#23 - Redirecting to https://cdn-lfs.huggingface.co/repos/a3/72/a37288fd25de45b6a8bbb79801907289f6c12bb870db68f75b0024193da1f047/638cb048ee6ad66f85a176e980332b0d61cbddb2d5dc9b5ad1863d87e020350c?response-content-disposition=attachment%3B+filename*%3DUTF-8%27%27pytorch_model-00002-of-00009.bin%3B+filename%3D%22pytorch_model-00002-of-00009.bin%22%3B&response-content-type=application%2Foctet-stream&Expires=1687153561&Policy=eyJTdGF0ZW1lbnQiOlt7IlJlc291cmNlIjoiaHR0cHM6Ly9jZG4tbGZzLmh1Z2dpbmdmYWNlLmNvL3JlcG9zL2EzLzcyL2EzNzI4OGZkMjVkZTQ1YjZhOGJiYjc5ODAxOTA3Mjg5ZjZjMTJiYjg3MGRiNjhmNzViMDAyNDE5M2RhMWYwNDcvNjM4Y2IwNDhlZTZhZDY2Zjg1YTE3NmU5ODAzMzJiMGQ2MWNiZGRiMmQ1ZGM5YjVhZDE4NjNkODdlMDIwMzUwYz9yZXNwb25zZS1jb250ZW50LWRpc3Bvc2l0aW9uPSomcmVzcG9uc2UtY29udGVudC10eXBlPSoiLCJDb25kaXRpb24iOnsiRGF0ZUxlc3NUaGFuIjp7IkFXUzpFcG9jaFRpbWUiOjE2ODcxNTM1NjF9fX1dfQ__&Signature=LNCXuhpYoleRWT-Nit7xH-JUlnQ1ZYlrPjw5rQjEspFAw2GEmsGPo4d4ZX%7EI6ob6sO6twKaJHSgi2Ttycr3d3XlIdDocZ3nuYzzqGKc04ytd9BRpoX99Fwd0k9SuOMC0HW3sgdachv2HA-SbgisfFUp%7E6ghkxIaAeS0cFWK3jq2pZGbOtA1RyJ-40dnyt1wRNAdgrmmPGY4LBgCijyhJz4zj6diZfHI2tzlo2GtmxQL8P2UH1x1WK0af6rnA%7E-RexFGMdv7ZYBHTmW8hRPRyK-h-SmFNGlB-JTC4910c5nNTHLiZwNv3pcryfdHPj0b13O9W9gLIRWUCWUAsIFbqAQ__&Key-Pair-Id=KVTP0A1DKRTAX\n",
            "\n",
            "06/16 05:46:01 [\u001b[1;32mNOTICE\u001b[0m] CUID#22 - Redirecting to https://cdn-lfs.huggingface.co/repos/a3/72/a37288fd25de45b6a8bbb79801907289f6c12bb870db68f75b0024193da1f047/638cb048ee6ad66f85a176e980332b0d61cbddb2d5dc9b5ad1863d87e020350c?response-content-disposition=attachment%3B+filename*%3DUTF-8%27%27pytorch_model-00002-of-00009.bin%3B+filename%3D%22pytorch_model-00002-of-00009.bin%22%3B&response-content-type=application%2Foctet-stream&Expires=1687153561&Policy=eyJTdGF0ZW1lbnQiOlt7IlJlc291cmNlIjoiaHR0cHM6Ly9jZG4tbGZzLmh1Z2dpbmdmYWNlLmNvL3JlcG9zL2EzLzcyL2EzNzI4OGZkMjVkZTQ1YjZhOGJiYjc5ODAxOTA3Mjg5ZjZjMTJiYjg3MGRiNjhmNzViMDAyNDE5M2RhMWYwNDcvNjM4Y2IwNDhlZTZhZDY2Zjg1YTE3NmU5ODAzMzJiMGQ2MWNiZGRiMmQ1ZGM5YjVhZDE4NjNkODdlMDIwMzUwYz9yZXNwb25zZS1jb250ZW50LWRpc3Bvc2l0aW9uPSomcmVzcG9uc2UtY29udGVudC10eXBlPSoiLCJDb25kaXRpb24iOnsiRGF0ZUxlc3NUaGFuIjp7IkFXUzpFcG9jaFRpbWUiOjE2ODcxNTM1NjF9fX1dfQ__&Signature=LNCXuhpYoleRWT-Nit7xH-JUlnQ1ZYlrPjw5rQjEspFAw2GEmsGPo4d4ZX%7EI6ob6sO6twKaJHSgi2Ttycr3d3XlIdDocZ3nuYzzqGKc04ytd9BRpoX99Fwd0k9SuOMC0HW3sgdachv2HA-SbgisfFUp%7E6ghkxIaAeS0cFWK3jq2pZGbOtA1RyJ-40dnyt1wRNAdgrmmPGY4LBgCijyhJz4zj6diZfHI2tzlo2GtmxQL8P2UH1x1WK0af6rnA%7E-RexFGMdv7ZYBHTmW8hRPRyK-h-SmFNGlB-JTC4910c5nNTHLiZwNv3pcryfdHPj0b13O9W9gLIRWUCWUAsIFbqAQ__&Key-Pair-Id=KVTP0A1DKRTAX\n",
            "\n",
            "06/16 05:46:01 [\u001b[1;32mNOTICE\u001b[0m] CUID#21 - Redirecting to https://cdn-lfs.huggingface.co/repos/a3/72/a37288fd25de45b6a8bbb79801907289f6c12bb870db68f75b0024193da1f047/638cb048ee6ad66f85a176e980332b0d61cbddb2d5dc9b5ad1863d87e020350c?response-content-disposition=attachment%3B+filename*%3DUTF-8%27%27pytorch_model-00002-of-00009.bin%3B+filename%3D%22pytorch_model-00002-of-00009.bin%22%3B&response-content-type=application%2Foctet-stream&Expires=1687153561&Policy=eyJTdGF0ZW1lbnQiOlt7IlJlc291cmNlIjoiaHR0cHM6Ly9jZG4tbGZzLmh1Z2dpbmdmYWNlLmNvL3JlcG9zL2EzLzcyL2EzNzI4OGZkMjVkZTQ1YjZhOGJiYjc5ODAxOTA3Mjg5ZjZjMTJiYjg3MGRiNjhmNzViMDAyNDE5M2RhMWYwNDcvNjM4Y2IwNDhlZTZhZDY2Zjg1YTE3NmU5ODAzMzJiMGQ2MWNiZGRiMmQ1ZGM5YjVhZDE4NjNkODdlMDIwMzUwYz9yZXNwb25zZS1jb250ZW50LWRpc3Bvc2l0aW9uPSomcmVzcG9uc2UtY29udGVudC10eXBlPSoiLCJDb25kaXRpb24iOnsiRGF0ZUxlc3NUaGFuIjp7IkFXUzpFcG9jaFRpbWUiOjE2ODcxNTM1NjF9fX1dfQ__&Signature=LNCXuhpYoleRWT-Nit7xH-JUlnQ1ZYlrPjw5rQjEspFAw2GEmsGPo4d4ZX%7EI6ob6sO6twKaJHSgi2Ttycr3d3XlIdDocZ3nuYzzqGKc04ytd9BRpoX99Fwd0k9SuOMC0HW3sgdachv2HA-SbgisfFUp%7E6ghkxIaAeS0cFWK3jq2pZGbOtA1RyJ-40dnyt1wRNAdgrmmPGY4LBgCijyhJz4zj6diZfHI2tzlo2GtmxQL8P2UH1x1WK0af6rnA%7E-RexFGMdv7ZYBHTmW8hRPRyK-h-SmFNGlB-JTC4910c5nNTHLiZwNv3pcryfdHPj0b13O9W9gLIRWUCWUAsIFbqAQ__&Key-Pair-Id=KVTP0A1DKRTAX\n",
            "\n",
            "06/16 05:46:01 [\u001b[1;32mNOTICE\u001b[0m] CUID#13 - Redirecting to https://cdn-lfs.huggingface.co/repos/a3/72/a37288fd25de45b6a8bbb79801907289f6c12bb870db68f75b0024193da1f047/b2125ceee3992a093f9808efc9a720643a44e59b17baa77eddb0fbec6965ce5a?response-content-disposition=attachment%3B+filename*%3DUTF-8%27%27pytorch_model-00003-of-00009.bin%3B+filename%3D%22pytorch_model-00003-of-00009.bin%22%3B&response-content-type=application%2Foctet-stream&Expires=1687153561&Policy=eyJTdGF0ZW1lbnQiOlt7IlJlc291cmNlIjoiaHR0cHM6Ly9jZG4tbGZzLmh1Z2dpbmdmYWNlLmNvL3JlcG9zL2EzLzcyL2EzNzI4OGZkMjVkZTQ1YjZhOGJiYjc5ODAxOTA3Mjg5ZjZjMTJiYjg3MGRiNjhmNzViMDAyNDE5M2RhMWYwNDcvYjIxMjVjZWVlMzk5MmEwOTNmOTgwOGVmYzlhNzIwNjQzYTQ0ZTU5YjE3YmFhNzdlZGRiMGZiZWM2OTY1Y2U1YT9yZXNwb25zZS1jb250ZW50LWRpc3Bvc2l0aW9uPSomcmVzcG9uc2UtY29udGVudC10eXBlPSoiLCJDb25kaXRpb24iOnsiRGF0ZUxlc3NUaGFuIjp7IkFXUzpFcG9jaFRpbWUiOjE2ODcxNTM1NjF9fX1dfQ__&Signature=q1YOzZWADzqibBgxzBqNn7Sl%7E9gT%7EjCMOJC027WpKb0jQygqSz2x-KMetuJ15g4Wv6bBiQ1MgvetRI1En5Prc39f908xMml8fvldCw9No%7Ed6DCdhttoYI5rCBM4ASTggw2%7EY7u7fjydjDF-rprYBVevOSZyrMExdFsj3kwttEQ2H3VGGTCduTxC%7EylpI%7E-jRArOO9yNB3CxoD4UeIonEgT6SzB0CamYaU8JC2Bo4tUF%7EqSpp7Pm4ATxuNCevuUzMxxrryZF0PHY8X4pFzc2UsINsdqovb%7E7L8vcnzdojp4HERBqbGtU2AvYuPow7fWbcCXP3%7EiA0N-XGg6ZsBjlcRQ__&Key-Pair-Id=KVTP0A1DKRTAX\n",
            "\n",
            "06/16 05:46:01 [\u001b[1;32mNOTICE\u001b[0m] CUID#10 - Redirecting to https://cdn-lfs.huggingface.co/repos/a3/72/a37288fd25de45b6a8bbb79801907289f6c12bb870db68f75b0024193da1f047/d6376a884bc80a6ea95da83f963508e57d8508333c424bed7beda565e4aaa0f3?response-content-disposition=attachment%3B+filename*%3DUTF-8%27%27pytorch_model-00006-of-00009.bin%3B+filename%3D%22pytorch_model-00006-of-00009.bin%22%3B&response-content-type=application%2Foctet-stream&Expires=1687153561&Policy=eyJTdGF0ZW1lbnQiOlt7IlJlc291cmNlIjoiaHR0cHM6Ly9jZG4tbGZzLmh1Z2dpbmdmYWNlLmNvL3JlcG9zL2EzLzcyL2EzNzI4OGZkMjVkZTQ1YjZhOGJiYjc5ODAxOTA3Mjg5ZjZjMTJiYjg3MGRiNjhmNzViMDAyNDE5M2RhMWYwNDcvZDYzNzZhODg0YmM4MGE2ZWE5NWRhODNmOTYzNTA4ZTU3ZDg1MDgzMzNjNDI0YmVkN2JlZGE1NjVlNGFhYTBmMz9yZXNwb25zZS1jb250ZW50LWRpc3Bvc2l0aW9uPSomcmVzcG9uc2UtY29udGVudC10eXBlPSoiLCJDb25kaXRpb24iOnsiRGF0ZUxlc3NUaGFuIjp7IkFXUzpFcG9jaFRpbWUiOjE2ODcxNTM1NjF9fX1dfQ__&Signature=ntw8OyVxaP5xy4ZfnDAjS1A-oRCBJXvzxyaDnSvXB9OBVeYwIL3PDxb%7EqMP7GsDjeItpkT4qYHkMCaXFD7V7PVkXU3Iv5Gg4EJ-nh--h3-ueT2pLR2aEEzurxt1rir%7EzK6oXm0546iZLYjzRhxQlAqfbdc38YXvUmJA-thJxwyzWfg8LO0e7oUrhceD8bK8qnP8xcdf7aXHH15cS3p%7EqscnGamJOl7ueSY%7EpzBq521QI9HeGOA-YVErtGUP7KvrcgYRcVa0LHNPl8qc8giszj2wVisf%7E9FOxrB1Ahvqn29Paqjb1eTQVVD0Yeg4ZuDQLzYscswMf%7EDgax2BzY-ZRYA__&Key-Pair-Id=KVTP0A1DKRTAX\n",
            "\n",
            "06/16 05:46:01 [\u001b[1;32mNOTICE\u001b[0m] CUID#13 - Redirecting to https://cdn-lfs.huggingface.co/repos/a3/72/a37288fd25de45b6a8bbb79801907289f6c12bb870db68f75b0024193da1f047/d6376a884bc80a6ea95da83f963508e57d8508333c424bed7beda565e4aaa0f3?response-content-disposition=attachment%3B+filename*%3DUTF-8%27%27pytorch_model-00006-of-00009.bin%3B+filename%3D%22pytorch_model-00006-of-00009.bin%22%3B&response-content-type=application%2Foctet-stream&Expires=1687151934&Policy=eyJTdGF0ZW1lbnQiOlt7IlJlc291cmNlIjoiaHR0cHM6Ly9jZG4tbGZzLmh1Z2dpbmdmYWNlLmNvL3JlcG9zL2EzLzcyL2EzNzI4OGZkMjVkZTQ1YjZhOGJiYjc5ODAxOTA3Mjg5ZjZjMTJiYjg3MGRiNjhmNzViMDAyNDE5M2RhMWYwNDcvZDYzNzZhODg0YmM4MGE2ZWE5NWRhODNmOTYzNTA4ZTU3ZDg1MDgzMzNjNDI0YmVkN2JlZGE1NjVlNGFhYTBmMz9yZXNwb25zZS1jb250ZW50LWRpc3Bvc2l0aW9uPSomcmVzcG9uc2UtY29udGVudC10eXBlPSoiLCJDb25kaXRpb24iOnsiRGF0ZUxlc3NUaGFuIjp7IkFXUzpFcG9jaFRpbWUiOjE2ODcxNTE5MzR9fX1dfQ__&Signature=XW17MLZ%7EQcXclHOC644LpEM36jSdFA4ua3A7%7E2jlYZWXTe44ywS6i6SJ2%7EsTGUMhHsMES8aK5ot3bdBH6UDjSyriKBjtDRS%7ERbVEZXJuG0yHatTmRtBBGUXUdW3FNWBMLO5kU7e9defIdvgRfU52%7Ebw6OOmibc1GEWnELBVExQ19n53A-7%7EnXAerpM1JNpybqCBigpyI7eUeBVk7qElYDtWzc36pmuGpCMLwDQ4o7DAH9Ah86P9DXjNxsS-VU0RlgIXtf7-ejNkZ%7EPaF7N4ryqDjPH236JMCR9vK5qP3URwBiFefoX0oRniRBeRTMFdh2xLfZUkE3O1LiY1IPcB58A__&Key-Pair-Id=KVTP0A1DKRTAX\n",
            "\n",
            "06/16 05:46:01 [\u001b[1;32mNOTICE\u001b[0m] CUID#17 - Redirecting to https://cdn-lfs.huggingface.co/repos/a3/72/a37288fd25de45b6a8bbb79801907289f6c12bb870db68f75b0024193da1f047/d6376a884bc80a6ea95da83f963508e57d8508333c424bed7beda565e4aaa0f3?response-content-disposition=attachment%3B+filename*%3DUTF-8%27%27pytorch_model-00006-of-00009.bin%3B+filename%3D%22pytorch_model-00006-of-00009.bin%22%3B&response-content-type=application%2Foctet-stream&Expires=1687153561&Policy=eyJTdGF0ZW1lbnQiOlt7IlJlc291cmNlIjoiaHR0cHM6Ly9jZG4tbGZzLmh1Z2dpbmdmYWNlLmNvL3JlcG9zL2EzLzcyL2EzNzI4OGZkMjVkZTQ1YjZhOGJiYjc5ODAxOTA3Mjg5ZjZjMTJiYjg3MGRiNjhmNzViMDAyNDE5M2RhMWYwNDcvZDYzNzZhODg0YmM4MGE2ZWE5NWRhODNmOTYzNTA4ZTU3ZDg1MDgzMzNjNDI0YmVkN2JlZGE1NjVlNGFhYTBmMz9yZXNwb25zZS1jb250ZW50LWRpc3Bvc2l0aW9uPSomcmVzcG9uc2UtY29udGVudC10eXBlPSoiLCJDb25kaXRpb24iOnsiRGF0ZUxlc3NUaGFuIjp7IkFXUzpFcG9jaFRpbWUiOjE2ODcxNTM1NjF9fX1dfQ__&Signature=ntw8OyVxaP5xy4ZfnDAjS1A-oRCBJXvzxyaDnSvXB9OBVeYwIL3PDxb%7EqMP7GsDjeItpkT4qYHkMCaXFD7V7PVkXU3Iv5Gg4EJ-nh--h3-ueT2pLR2aEEzurxt1rir%7EzK6oXm0546iZLYjzRhxQlAqfbdc38YXvUmJA-thJxwyzWfg8LO0e7oUrhceD8bK8qnP8xcdf7aXHH15cS3p%7EqscnGamJOl7ueSY%7EpzBq521QI9HeGOA-YVErtGUP7KvrcgYRcVa0LHNPl8qc8giszj2wVisf%7E9FOxrB1Ahvqn29Paqjb1eTQVVD0Yeg4ZuDQLzYscswMf%7EDgax2BzY-ZRYA__&Key-Pair-Id=KVTP0A1DKRTAX\n",
            "\n",
            "06/16 05:46:01 [\u001b[1;32mNOTICE\u001b[0m] CUID#22 - Redirecting to https://cdn-lfs.huggingface.co/repos/a3/72/a37288fd25de45b6a8bbb79801907289f6c12bb870db68f75b0024193da1f047/b2125ceee3992a093f9808efc9a720643a44e59b17baa77eddb0fbec6965ce5a?response-content-disposition=attachment%3B+filename*%3DUTF-8%27%27pytorch_model-00003-of-00009.bin%3B+filename%3D%22pytorch_model-00003-of-00009.bin%22%3B&response-content-type=application%2Foctet-stream&Expires=1687153561&Policy=eyJTdGF0ZW1lbnQiOlt7IlJlc291cmNlIjoiaHR0cHM6Ly9jZG4tbGZzLmh1Z2dpbmdmYWNlLmNvL3JlcG9zL2EzLzcyL2EzNzI4OGZkMjVkZTQ1YjZhOGJiYjc5ODAxOTA3Mjg5ZjZjMTJiYjg3MGRiNjhmNzViMDAyNDE5M2RhMWYwNDcvYjIxMjVjZWVlMzk5MmEwOTNmOTgwOGVmYzlhNzIwNjQzYTQ0ZTU5YjE3YmFhNzdlZGRiMGZiZWM2OTY1Y2U1YT9yZXNwb25zZS1jb250ZW50LWRpc3Bvc2l0aW9uPSomcmVzcG9uc2UtY29udGVudC10eXBlPSoiLCJDb25kaXRpb24iOnsiRGF0ZUxlc3NUaGFuIjp7IkFXUzpFcG9jaFRpbWUiOjE2ODcxNTM1NjF9fX1dfQ__&Signature=q1YOzZWADzqibBgxzBqNn7Sl%7E9gT%7EjCMOJC027WpKb0jQygqSz2x-KMetuJ15g4Wv6bBiQ1MgvetRI1En5Prc39f908xMml8fvldCw9No%7Ed6DCdhttoYI5rCBM4ASTggw2%7EY7u7fjydjDF-rprYBVevOSZyrMExdFsj3kwttEQ2H3VGGTCduTxC%7EylpI%7E-jRArOO9yNB3CxoD4UeIonEgT6SzB0CamYaU8JC2Bo4tUF%7EqSpp7Pm4ATxuNCevuUzMxxrryZF0PHY8X4pFzc2UsINsdqovb%7E7L8vcnzdojp4HERBqbGtU2AvYuPow7fWbcCXP3%7EiA0N-XGg6ZsBjlcRQ__&Key-Pair-Id=KVTP0A1DKRTAX\n",
            "\n",
            "06/16 05:46:01 [\u001b[1;32mNOTICE\u001b[0m] CUID#21 - Redirecting to https://cdn-lfs.huggingface.co/repos/a3/72/a37288fd25de45b6a8bbb79801907289f6c12bb870db68f75b0024193da1f047/d6376a884bc80a6ea95da83f963508e57d8508333c424bed7beda565e4aaa0f3?response-content-disposition=attachment%3B+filename*%3DUTF-8%27%27pytorch_model-00006-of-00009.bin%3B+filename%3D%22pytorch_model-00006-of-00009.bin%22%3B&response-content-type=application%2Foctet-stream&Expires=1687153561&Policy=eyJTdGF0ZW1lbnQiOlt7IlJlc291cmNlIjoiaHR0cHM6Ly9jZG4tbGZzLmh1Z2dpbmdmYWNlLmNvL3JlcG9zL2EzLzcyL2EzNzI4OGZkMjVkZTQ1YjZhOGJiYjc5ODAxOTA3Mjg5ZjZjMTJiYjg3MGRiNjhmNzViMDAyNDE5M2RhMWYwNDcvZDYzNzZhODg0YmM4MGE2ZWE5NWRhODNmOTYzNTA4ZTU3ZDg1MDgzMzNjNDI0YmVkN2JlZGE1NjVlNGFhYTBmMz9yZXNwb25zZS1jb250ZW50LWRpc3Bvc2l0aW9uPSomcmVzcG9uc2UtY29udGVudC10eXBlPSoiLCJDb25kaXRpb24iOnsiRGF0ZUxlc3NUaGFuIjp7IkFXUzpFcG9jaFRpbWUiOjE2ODcxNTM1NjF9fX1dfQ__&Signature=ntw8OyVxaP5xy4ZfnDAjS1A-oRCBJXvzxyaDnSvXB9OBVeYwIL3PDxb%7EqMP7GsDjeItpkT4qYHkMCaXFD7V7PVkXU3Iv5Gg4EJ-nh--h3-ueT2pLR2aEEzurxt1rir%7EzK6oXm0546iZLYjzRhxQlAqfbdc38YXvUmJA-thJxwyzWfg8LO0e7oUrhceD8bK8qnP8xcdf7aXHH15cS3p%7EqscnGamJOl7ueSY%7EpzBq521QI9HeGOA-YVErtGUP7KvrcgYRcVa0LHNPl8qc8giszj2wVisf%7E9FOxrB1Ahvqn29Paqjb1eTQVVD0Yeg4ZuDQLzYscswMf%7EDgax2BzY-ZRYA__&Key-Pair-Id=KVTP0A1DKRTAX\n",
            "\n",
            "06/16 05:46:01 [\u001b[1;32mNOTICE\u001b[0m] CUID#22 - Redirecting to https://cdn-lfs.huggingface.co/repos/a3/72/a37288fd25de45b6a8bbb79801907289f6c12bb870db68f75b0024193da1f047/d6376a884bc80a6ea95da83f963508e57d8508333c424bed7beda565e4aaa0f3?response-content-disposition=attachment%3B+filename*%3DUTF-8%27%27pytorch_model-00006-of-00009.bin%3B+filename%3D%22pytorch_model-00006-of-00009.bin%22%3B&response-content-type=application%2Foctet-stream&Expires=1687153561&Policy=eyJTdGF0ZW1lbnQiOlt7IlJlc291cmNlIjoiaHR0cHM6Ly9jZG4tbGZzLmh1Z2dpbmdmYWNlLmNvL3JlcG9zL2EzLzcyL2EzNzI4OGZkMjVkZTQ1YjZhOGJiYjc5ODAxOTA3Mjg5ZjZjMTJiYjg3MGRiNjhmNzViMDAyNDE5M2RhMWYwNDcvZDYzNzZhODg0YmM4MGE2ZWE5NWRhODNmOTYzNTA4ZTU3ZDg1MDgzMzNjNDI0YmVkN2JlZGE1NjVlNGFhYTBmMz9yZXNwb25zZS1jb250ZW50LWRpc3Bvc2l0aW9uPSomcmVzcG9uc2UtY29udGVudC10eXBlPSoiLCJDb25kaXRpb24iOnsiRGF0ZUxlc3NUaGFuIjp7IkFXUzpFcG9jaFRpbWUiOjE2ODcxNTM1NjF9fX1dfQ__&Signature=ntw8OyVxaP5xy4ZfnDAjS1A-oRCBJXvzxyaDnSvXB9OBVeYwIL3PDxb%7EqMP7GsDjeItpkT4qYHkMCaXFD7V7PVkXU3Iv5Gg4EJ-nh--h3-ueT2pLR2aEEzurxt1rir%7EzK6oXm0546iZLYjzRhxQlAqfbdc38YXvUmJA-thJxwyzWfg8LO0e7oUrhceD8bK8qnP8xcdf7aXHH15cS3p%7EqscnGamJOl7ueSY%7EpzBq521QI9HeGOA-YVErtGUP7KvrcgYRcVa0LHNPl8qc8giszj2wVisf%7E9FOxrB1Ahvqn29Paqjb1eTQVVD0Yeg4ZuDQLzYscswMf%7EDgax2BzY-ZRYA__&Key-Pair-Id=KVTP0A1DKRTAX\n",
            "\n",
            "06/16 05:46:01 [\u001b[1;32mNOTICE\u001b[0m] CUID#11 - Redirecting to https://cdn-lfs.huggingface.co/repos/a3/72/a37288fd25de45b6a8bbb79801907289f6c12bb870db68f75b0024193da1f047/d6376a884bc80a6ea95da83f963508e57d8508333c424bed7beda565e4aaa0f3?response-content-disposition=attachment%3B+filename*%3DUTF-8%27%27pytorch_model-00006-of-00009.bin%3B+filename%3D%22pytorch_model-00006-of-00009.bin%22%3B&response-content-type=application%2Foctet-stream&Expires=1687153561&Policy=eyJTdGF0ZW1lbnQiOlt7IlJlc291cmNlIjoiaHR0cHM6Ly9jZG4tbGZzLmh1Z2dpbmdmYWNlLmNvL3JlcG9zL2EzLzcyL2EzNzI4OGZkMjVkZTQ1YjZhOGJiYjc5ODAxOTA3Mjg5ZjZjMTJiYjg3MGRiNjhmNzViMDAyNDE5M2RhMWYwNDcvZDYzNzZhODg0YmM4MGE2ZWE5NWRhODNmOTYzNTA4ZTU3ZDg1MDgzMzNjNDI0YmVkN2JlZGE1NjVlNGFhYTBmMz9yZXNwb25zZS1jb250ZW50LWRpc3Bvc2l0aW9uPSomcmVzcG9uc2UtY29udGVudC10eXBlPSoiLCJDb25kaXRpb24iOnsiRGF0ZUxlc3NUaGFuIjp7IkFXUzpFcG9jaFRpbWUiOjE2ODcxNTM1NjF9fX1dfQ__&Signature=ntw8OyVxaP5xy4ZfnDAjS1A-oRCBJXvzxyaDnSvXB9OBVeYwIL3PDxb%7EqMP7GsDjeItpkT4qYHkMCaXFD7V7PVkXU3Iv5Gg4EJ-nh--h3-ueT2pLR2aEEzurxt1rir%7EzK6oXm0546iZLYjzRhxQlAqfbdc38YXvUmJA-thJxwyzWfg8LO0e7oUrhceD8bK8qnP8xcdf7aXHH15cS3p%7EqscnGamJOl7ueSY%7EpzBq521QI9HeGOA-YVErtGUP7KvrcgYRcVa0LHNPl8qc8giszj2wVisf%7E9FOxrB1Ahvqn29Paqjb1eTQVVD0Yeg4ZuDQLzYscswMf%7EDgax2BzY-ZRYA__&Key-Pair-Id=KVTP0A1DKRTAX\n",
            "\n",
            "06/16 05:46:01 [\u001b[1;32mNOTICE\u001b[0m] CUID#20 - Redirecting to https://cdn-lfs.huggingface.co/repos/a3/72/a37288fd25de45b6a8bbb79801907289f6c12bb870db68f75b0024193da1f047/d6376a884bc80a6ea95da83f963508e57d8508333c424bed7beda565e4aaa0f3?response-content-disposition=attachment%3B+filename*%3DUTF-8%27%27pytorch_model-00006-of-00009.bin%3B+filename%3D%22pytorch_model-00006-of-00009.bin%22%3B&response-content-type=application%2Foctet-stream&Expires=1687153561&Policy=eyJTdGF0ZW1lbnQiOlt7IlJlc291cmNlIjoiaHR0cHM6Ly9jZG4tbGZzLmh1Z2dpbmdmYWNlLmNvL3JlcG9zL2EzLzcyL2EzNzI4OGZkMjVkZTQ1YjZhOGJiYjc5ODAxOTA3Mjg5ZjZjMTJiYjg3MGRiNjhmNzViMDAyNDE5M2RhMWYwNDcvZDYzNzZhODg0YmM4MGE2ZWE5NWRhODNmOTYzNTA4ZTU3ZDg1MDgzMzNjNDI0YmVkN2JlZGE1NjVlNGFhYTBmMz9yZXNwb25zZS1jb250ZW50LWRpc3Bvc2l0aW9uPSomcmVzcG9uc2UtY29udGVudC10eXBlPSoiLCJDb25kaXRpb24iOnsiRGF0ZUxlc3NUaGFuIjp7IkFXUzpFcG9jaFRpbWUiOjE2ODcxNTM1NjF9fX1dfQ__&Signature=ntw8OyVxaP5xy4ZfnDAjS1A-oRCBJXvzxyaDnSvXB9OBVeYwIL3PDxb%7EqMP7GsDjeItpkT4qYHkMCaXFD7V7PVkXU3Iv5Gg4EJ-nh--h3-ueT2pLR2aEEzurxt1rir%7EzK6oXm0546iZLYjzRhxQlAqfbdc38YXvUmJA-thJxwyzWfg8LO0e7oUrhceD8bK8qnP8xcdf7aXHH15cS3p%7EqscnGamJOl7ueSY%7EpzBq521QI9HeGOA-YVErtGUP7KvrcgYRcVa0LHNPl8qc8giszj2wVisf%7E9FOxrB1Ahvqn29Paqjb1eTQVVD0Yeg4ZuDQLzYscswMf%7EDgax2BzY-ZRYA__&Key-Pair-Id=KVTP0A1DKRTAX\n",
            "\n",
            "06/16 05:46:01 [\u001b[1;32mNOTICE\u001b[0m] CUID#15 - Redirecting to https://cdn-lfs.huggingface.co/repos/a3/72/a37288fd25de45b6a8bbb79801907289f6c12bb870db68f75b0024193da1f047/d6376a884bc80a6ea95da83f963508e57d8508333c424bed7beda565e4aaa0f3?response-content-disposition=attachment%3B+filename*%3DUTF-8%27%27pytorch_model-00006-of-00009.bin%3B+filename%3D%22pytorch_model-00006-of-00009.bin%22%3B&response-content-type=application%2Foctet-stream&Expires=1687153561&Policy=eyJTdGF0ZW1lbnQiOlt7IlJlc291cmNlIjoiaHR0cHM6Ly9jZG4tbGZzLmh1Z2dpbmdmYWNlLmNvL3JlcG9zL2EzLzcyL2EzNzI4OGZkMjVkZTQ1YjZhOGJiYjc5ODAxOTA3Mjg5ZjZjMTJiYjg3MGRiNjhmNzViMDAyNDE5M2RhMWYwNDcvZDYzNzZhODg0YmM4MGE2ZWE5NWRhODNmOTYzNTA4ZTU3ZDg1MDgzMzNjNDI0YmVkN2JlZGE1NjVlNGFhYTBmMz9yZXNwb25zZS1jb250ZW50LWRpc3Bvc2l0aW9uPSomcmVzcG9uc2UtY29udGVudC10eXBlPSoiLCJDb25kaXRpb24iOnsiRGF0ZUxlc3NUaGFuIjp7IkFXUzpFcG9jaFRpbWUiOjE2ODcxNTM1NjF9fX1dfQ__&Signature=ntw8OyVxaP5xy4ZfnDAjS1A-oRCBJXvzxyaDnSvXB9OBVeYwIL3PDxb%7EqMP7GsDjeItpkT4qYHkMCaXFD7V7PVkXU3Iv5Gg4EJ-nh--h3-ueT2pLR2aEEzurxt1rir%7EzK6oXm0546iZLYjzRhxQlAqfbdc38YXvUmJA-thJxwyzWfg8LO0e7oUrhceD8bK8qnP8xcdf7aXHH15cS3p%7EqscnGamJOl7ueSY%7EpzBq521QI9HeGOA-YVErtGUP7KvrcgYRcVa0LHNPl8qc8giszj2wVisf%7E9FOxrB1Ahvqn29Paqjb1eTQVVD0Yeg4ZuDQLzYscswMf%7EDgax2BzY-ZRYA__&Key-Pair-Id=KVTP0A1DKRTAX\n",
            "\n",
            "06/16 05:46:01 [\u001b[1;32mNOTICE\u001b[0m] CUID#18 - Redirecting to https://cdn-lfs.huggingface.co/repos/a3/72/a37288fd25de45b6a8bbb79801907289f6c12bb870db68f75b0024193da1f047/d6376a884bc80a6ea95da83f963508e57d8508333c424bed7beda565e4aaa0f3?response-content-disposition=attachment%3B+filename*%3DUTF-8%27%27pytorch_model-00006-of-00009.bin%3B+filename%3D%22pytorch_model-00006-of-00009.bin%22%3B&response-content-type=application%2Foctet-stream&Expires=1687153561&Policy=eyJTdGF0ZW1lbnQiOlt7IlJlc291cmNlIjoiaHR0cHM6Ly9jZG4tbGZzLmh1Z2dpbmdmYWNlLmNvL3JlcG9zL2EzLzcyL2EzNzI4OGZkMjVkZTQ1YjZhOGJiYjc5ODAxOTA3Mjg5ZjZjMTJiYjg3MGRiNjhmNzViMDAyNDE5M2RhMWYwNDcvZDYzNzZhODg0YmM4MGE2ZWE5NWRhODNmOTYzNTA4ZTU3ZDg1MDgzMzNjNDI0YmVkN2JlZGE1NjVlNGFhYTBmMz9yZXNwb25zZS1jb250ZW50LWRpc3Bvc2l0aW9uPSomcmVzcG9uc2UtY29udGVudC10eXBlPSoiLCJDb25kaXRpb24iOnsiRGF0ZUxlc3NUaGFuIjp7IkFXUzpFcG9jaFRpbWUiOjE2ODcxNTM1NjF9fX1dfQ__&Signature=ntw8OyVxaP5xy4ZfnDAjS1A-oRCBJXvzxyaDnSvXB9OBVeYwIL3PDxb%7EqMP7GsDjeItpkT4qYHkMCaXFD7V7PVkXU3Iv5Gg4EJ-nh--h3-ueT2pLR2aEEzurxt1rir%7EzK6oXm0546iZLYjzRhxQlAqfbdc38YXvUmJA-thJxwyzWfg8LO0e7oUrhceD8bK8qnP8xcdf7aXHH15cS3p%7EqscnGamJOl7ueSY%7EpzBq521QI9HeGOA-YVErtGUP7KvrcgYRcVa0LHNPl8qc8giszj2wVisf%7E9FOxrB1Ahvqn29Paqjb1eTQVVD0Yeg4ZuDQLzYscswMf%7EDgax2BzY-ZRYA__&Key-Pair-Id=KVTP0A1DKRTAX\n",
            "\n",
            "06/16 05:46:01 [\u001b[1;32mNOTICE\u001b[0m] CUID#16 - Redirecting to https://cdn-lfs.huggingface.co/repos/a3/72/a37288fd25de45b6a8bbb79801907289f6c12bb870db68f75b0024193da1f047/d6376a884bc80a6ea95da83f963508e57d8508333c424bed7beda565e4aaa0f3?response-content-disposition=attachment%3B+filename*%3DUTF-8%27%27pytorch_model-00006-of-00009.bin%3B+filename%3D%22pytorch_model-00006-of-00009.bin%22%3B&response-content-type=application%2Foctet-stream&Expires=1687153561&Policy=eyJTdGF0ZW1lbnQiOlt7IlJlc291cmNlIjoiaHR0cHM6Ly9jZG4tbGZzLmh1Z2dpbmdmYWNlLmNvL3JlcG9zL2EzLzcyL2EzNzI4OGZkMjVkZTQ1YjZhOGJiYjc5ODAxOTA3Mjg5ZjZjMTJiYjg3MGRiNjhmNzViMDAyNDE5M2RhMWYwNDcvZDYzNzZhODg0YmM4MGE2ZWE5NWRhODNmOTYzNTA4ZTU3ZDg1MDgzMzNjNDI0YmVkN2JlZGE1NjVlNGFhYTBmMz9yZXNwb25zZS1jb250ZW50LWRpc3Bvc2l0aW9uPSomcmVzcG9uc2UtY29udGVudC10eXBlPSoiLCJDb25kaXRpb24iOnsiRGF0ZUxlc3NUaGFuIjp7IkFXUzpFcG9jaFRpbWUiOjE2ODcxNTM1NjF9fX1dfQ__&Signature=ntw8OyVxaP5xy4ZfnDAjS1A-oRCBJXvzxyaDnSvXB9OBVeYwIL3PDxb%7EqMP7GsDjeItpkT4qYHkMCaXFD7V7PVkXU3Iv5Gg4EJ-nh--h3-ueT2pLR2aEEzurxt1rir%7EzK6oXm0546iZLYjzRhxQlAqfbdc38YXvUmJA-thJxwyzWfg8LO0e7oUrhceD8bK8qnP8xcdf7aXHH15cS3p%7EqscnGamJOl7ueSY%7EpzBq521QI9HeGOA-YVErtGUP7KvrcgYRcVa0LHNPl8qc8giszj2wVisf%7E9FOxrB1Ahvqn29Paqjb1eTQVVD0Yeg4ZuDQLzYscswMf%7EDgax2BzY-ZRYA__&Key-Pair-Id=KVTP0A1DKRTAX\n",
            "\n",
            "06/16 05:46:01 [\u001b[1;32mNOTICE\u001b[0m] CUID#23 - Redirecting to https://cdn-lfs.huggingface.co/repos/a3/72/a37288fd25de45b6a8bbb79801907289f6c12bb870db68f75b0024193da1f047/d6376a884bc80a6ea95da83f963508e57d8508333c424bed7beda565e4aaa0f3?response-content-disposition=attachment%3B+filename*%3DUTF-8%27%27pytorch_model-00006-of-00009.bin%3B+filename%3D%22pytorch_model-00006-of-00009.bin%22%3B&response-content-type=application%2Foctet-stream&Expires=1687153561&Policy=eyJTdGF0ZW1lbnQiOlt7IlJlc291cmNlIjoiaHR0cHM6Ly9jZG4tbGZzLmh1Z2dpbmdmYWNlLmNvL3JlcG9zL2EzLzcyL2EzNzI4OGZkMjVkZTQ1YjZhOGJiYjc5ODAxOTA3Mjg5ZjZjMTJiYjg3MGRiNjhmNzViMDAyNDE5M2RhMWYwNDcvZDYzNzZhODg0YmM4MGE2ZWE5NWRhODNmOTYzNTA4ZTU3ZDg1MDgzMzNjNDI0YmVkN2JlZGE1NjVlNGFhYTBmMz9yZXNwb25zZS1jb250ZW50LWRpc3Bvc2l0aW9uPSomcmVzcG9uc2UtY29udGVudC10eXBlPSoiLCJDb25kaXRpb24iOnsiRGF0ZUxlc3NUaGFuIjp7IkFXUzpFcG9jaFRpbWUiOjE2ODcxNTM1NjF9fX1dfQ__&Signature=ntw8OyVxaP5xy4ZfnDAjS1A-oRCBJXvzxyaDnSvXB9OBVeYwIL3PDxb%7EqMP7GsDjeItpkT4qYHkMCaXFD7V7PVkXU3Iv5Gg4EJ-nh--h3-ueT2pLR2aEEzurxt1rir%7EzK6oXm0546iZLYjzRhxQlAqfbdc38YXvUmJA-thJxwyzWfg8LO0e7oUrhceD8bK8qnP8xcdf7aXHH15cS3p%7EqscnGamJOl7ueSY%7EpzBq521QI9HeGOA-YVErtGUP7KvrcgYRcVa0LHNPl8qc8giszj2wVisf%7E9FOxrB1Ahvqn29Paqjb1eTQVVD0Yeg4ZuDQLzYscswMf%7EDgax2BzY-ZRYA__&Key-Pair-Id=KVTP0A1DKRTAX\n",
            "\n",
            "06/16 05:46:01 [\u001b[1;32mNOTICE\u001b[0m] CUID#11 - Redirecting to https://cdn-lfs.huggingface.co/repos/a3/72/a37288fd25de45b6a8bbb79801907289f6c12bb870db68f75b0024193da1f047/c3f07c8ec31edebe5ff80ed32d175475a044a0517d84c5eff6f6247ad0a4432d?response-content-disposition=attachment%3B+filename*%3DUTF-8%27%27pytorch_model-00007-of-00009.bin%3B+filename%3D%22pytorch_model-00007-of-00009.bin%22%3B&response-content-type=application%2Foctet-stream&Expires=1687153561&Policy=eyJTdGF0ZW1lbnQiOlt7IlJlc291cmNlIjoiaHR0cHM6Ly9jZG4tbGZzLmh1Z2dpbmdmYWNlLmNvL3JlcG9zL2EzLzcyL2EzNzI4OGZkMjVkZTQ1YjZhOGJiYjc5ODAxOTA3Mjg5ZjZjMTJiYjg3MGRiNjhmNzViMDAyNDE5M2RhMWYwNDcvYzNmMDdjOGVjMzFlZGViZTVmZjgwZWQzMmQxNzU0NzVhMDQ0YTA1MTdkODRjNWVmZjZmNjI0N2FkMGE0NDMyZD9yZXNwb25zZS1jb250ZW50LWRpc3Bvc2l0aW9uPSomcmVzcG9uc2UtY29udGVudC10eXBlPSoiLCJDb25kaXRpb24iOnsiRGF0ZUxlc3NUaGFuIjp7IkFXUzpFcG9jaFRpbWUiOjE2ODcxNTM1NjF9fX1dfQ__&Signature=Gamn7nZ5r-G9Saa9K4N78%7Ez7fC25RE5SZLfigtkj5RlHEk-XkGlK1x62bcEiIto9RJvbt6aF3RRAKeSjnxnoqiiWuMCHuNq5L65ZyTWjPmgmSSj0fL-hnSBu4asMu2Irlviy%7EgluSSBLLPSWSznFa04T28Z6IuIUEDian-LderXEejt0MEXRn5vFUupZgmcKG%7EndmZghOKMaxqYUzRVDHiEZqIuYYklSWYlMA9ehILwYLHHT5fIV5tNLwxZqIw9OHu99DEd9LSZt7GEgGkTfWMZ83BM8Lxee1fXoFg%7ELRI%7EaqYnsJX5Juk%7EjfV6%7Etv2gVLE9wZGxfommqA%7E8gaJmhA__&Key-Pair-Id=KVTP0A1DKRTAX\n",
            "\n",
            "06/16 05:46:01 [\u001b[1;32mNOTICE\u001b[0m] CUID#10 - Redirecting to https://cdn-lfs.huggingface.co/repos/a3/72/a37288fd25de45b6a8bbb79801907289f6c12bb870db68f75b0024193da1f047/c3f07c8ec31edebe5ff80ed32d175475a044a0517d84c5eff6f6247ad0a4432d?response-content-disposition=attachment%3B+filename*%3DUTF-8%27%27pytorch_model-00007-of-00009.bin%3B+filename%3D%22pytorch_model-00007-of-00009.bin%22%3B&response-content-type=application%2Foctet-stream&Expires=1687153395&Policy=eyJTdGF0ZW1lbnQiOlt7IlJlc291cmNlIjoiaHR0cHM6Ly9jZG4tbGZzLmh1Z2dpbmdmYWNlLmNvL3JlcG9zL2EzLzcyL2EzNzI4OGZkMjVkZTQ1YjZhOGJiYjc5ODAxOTA3Mjg5ZjZjMTJiYjg3MGRiNjhmNzViMDAyNDE5M2RhMWYwNDcvYzNmMDdjOGVjMzFlZGViZTVmZjgwZWQzMmQxNzU0NzVhMDQ0YTA1MTdkODRjNWVmZjZmNjI0N2FkMGE0NDMyZD9yZXNwb25zZS1jb250ZW50LWRpc3Bvc2l0aW9uPSomcmVzcG9uc2UtY29udGVudC10eXBlPSoiLCJDb25kaXRpb24iOnsiRGF0ZUxlc3NUaGFuIjp7IkFXUzpFcG9jaFRpbWUiOjE2ODcxNTMzOTV9fX1dfQ__&Signature=tD3kJmLr8Gr3%7EEck4PaiT-86UTluGOoxUWxNbjOuNxXiqHcWOhSOzvOf04xe6EvsZdYHWcZm0AN4eLSj1LX-QI-yrMG-4tyJhwVPLrplU43Jwx5l0FSgkhyIgkNoShQmijKM-z6fZFMn1ECnYXvhZ0VlGcLBNRR7AK16Wcer-VGgdLTBsyTx6Kxt7sZE2Q9mEQnUETpbpGb27DNKlIvMKUnTwsuwqjsmF-8njMtkmpBolHjg-sF3dl6JR3ywE6dSuxHvcEO7rr6k9nR7rqK5jgs-e6jApr7iaevWcM9-8IQOPmxr-iOsU7bJUNs6Ap9u8gRwX6Eb3xTZ3oZyUE%7ECiw__&Key-Pair-Id=KVTP0A1DKRTAX\n",
            "\n",
            "06/16 05:46:01 [\u001b[1;32mNOTICE\u001b[0m] CUID#18 - Redirecting to https://cdn-lfs.huggingface.co/repos/a3/72/a37288fd25de45b6a8bbb79801907289f6c12bb870db68f75b0024193da1f047/c3f07c8ec31edebe5ff80ed32d175475a044a0517d84c5eff6f6247ad0a4432d?response-content-disposition=attachment%3B+filename*%3DUTF-8%27%27pytorch_model-00007-of-00009.bin%3B+filename%3D%22pytorch_model-00007-of-00009.bin%22%3B&response-content-type=application%2Foctet-stream&Expires=1687151830&Policy=eyJTdGF0ZW1lbnQiOlt7IlJlc291cmNlIjoiaHR0cHM6Ly9jZG4tbGZzLmh1Z2dpbmdmYWNlLmNvL3JlcG9zL2EzLzcyL2EzNzI4OGZkMjVkZTQ1YjZhOGJiYjc5ODAxOTA3Mjg5ZjZjMTJiYjg3MGRiNjhmNzViMDAyNDE5M2RhMWYwNDcvYzNmMDdjOGVjMzFlZGViZTVmZjgwZWQzMmQxNzU0NzVhMDQ0YTA1MTdkODRjNWVmZjZmNjI0N2FkMGE0NDMyZD9yZXNwb25zZS1jb250ZW50LWRpc3Bvc2l0aW9uPSomcmVzcG9uc2UtY29udGVudC10eXBlPSoiLCJDb25kaXRpb24iOnsiRGF0ZUxlc3NUaGFuIjp7IkFXUzpFcG9jaFRpbWUiOjE2ODcxNTE4MzB9fX1dfQ__&Signature=HWeUNieVraxe6ETlUtppNg1jI8BUznJeUbUUicAurg-WUloiutDVxYtnBY6UXQXe8nRa0FGmJkoQhlSQlBDwzYA8FPAlEg7cEFjtDeGOsShr3deXhPKQU0Cew7JjALcwXdhR0k7beFa%7E2twljOAlpFrn5u68G1oTdZAh7H-JoW4J8bbRGaY4HHrv72UbJN3z3IInMU%7EDIdoseM5MVDYWKnQ%7Ep1y%7ElL9wpKkLesnopOcPsHV5TNXaoJxUYqv7Fo4MYjYuts5BU4P8aDPUDRCm79imfnVCuqGxXckjvit7ewuEGR1TxdG7gUxVsRNwQxhquygvsVRYECYxshwQCqWuSQ__&Key-Pair-Id=KVTP0A1DKRTAX\n",
            "\n",
            "06/16 05:46:01 [\u001b[1;32mNOTICE\u001b[0m] CUID#12 - Redirecting to https://cdn-lfs.huggingface.co/repos/a3/72/a37288fd25de45b6a8bbb79801907289f6c12bb870db68f75b0024193da1f047/c3f07c8ec31edebe5ff80ed32d175475a044a0517d84c5eff6f6247ad0a4432d?response-content-disposition=attachment%3B+filename*%3DUTF-8%27%27pytorch_model-00007-of-00009.bin%3B+filename%3D%22pytorch_model-00007-of-00009.bin%22%3B&response-content-type=application%2Foctet-stream&Expires=1687153561&Policy=eyJTdGF0ZW1lbnQiOlt7IlJlc291cmNlIjoiaHR0cHM6Ly9jZG4tbGZzLmh1Z2dpbmdmYWNlLmNvL3JlcG9zL2EzLzcyL2EzNzI4OGZkMjVkZTQ1YjZhOGJiYjc5ODAxOTA3Mjg5ZjZjMTJiYjg3MGRiNjhmNzViMDAyNDE5M2RhMWYwNDcvYzNmMDdjOGVjMzFlZGViZTVmZjgwZWQzMmQxNzU0NzVhMDQ0YTA1MTdkODRjNWVmZjZmNjI0N2FkMGE0NDMyZD9yZXNwb25zZS1jb250ZW50LWRpc3Bvc2l0aW9uPSomcmVzcG9uc2UtY29udGVudC10eXBlPSoiLCJDb25kaXRpb24iOnsiRGF0ZUxlc3NUaGFuIjp7IkFXUzpFcG9jaFRpbWUiOjE2ODcxNTM1NjF9fX1dfQ__&Signature=Gamn7nZ5r-G9Saa9K4N78%7Ez7fC25RE5SZLfigtkj5RlHEk-XkGlK1x62bcEiIto9RJvbt6aF3RRAKeSjnxnoqiiWuMCHuNq5L65ZyTWjPmgmSSj0fL-hnSBu4asMu2Irlviy%7EgluSSBLLPSWSznFa04T28Z6IuIUEDian-LderXEejt0MEXRn5vFUupZgmcKG%7EndmZghOKMaxqYUzRVDHiEZqIuYYklSWYlMA9ehILwYLHHT5fIV5tNLwxZqIw9OHu99DEd9LSZt7GEgGkTfWMZ83BM8Lxee1fXoFg%7ELRI%7EaqYnsJX5Juk%7EjfV6%7Etv2gVLE9wZGxfommqA%7E8gaJmhA__&Key-Pair-Id=KVTP0A1DKRTAX\n",
            "\n",
            "06/16 05:46:01 [\u001b[1;32mNOTICE\u001b[0m] CUID#13 - Redirecting to https://cdn-lfs.huggingface.co/repos/a3/72/a37288fd25de45b6a8bbb79801907289f6c12bb870db68f75b0024193da1f047/c3f07c8ec31edebe5ff80ed32d175475a044a0517d84c5eff6f6247ad0a4432d?response-content-disposition=attachment%3B+filename*%3DUTF-8%27%27pytorch_model-00007-of-00009.bin%3B+filename%3D%22pytorch_model-00007-of-00009.bin%22%3B&response-content-type=application%2Foctet-stream&Expires=1687153561&Policy=eyJTdGF0ZW1lbnQiOlt7IlJlc291cmNlIjoiaHR0cHM6Ly9jZG4tbGZzLmh1Z2dpbmdmYWNlLmNvL3JlcG9zL2EzLzcyL2EzNzI4OGZkMjVkZTQ1YjZhOGJiYjc5ODAxOTA3Mjg5ZjZjMTJiYjg3MGRiNjhmNzViMDAyNDE5M2RhMWYwNDcvYzNmMDdjOGVjMzFlZGViZTVmZjgwZWQzMmQxNzU0NzVhMDQ0YTA1MTdkODRjNWVmZjZmNjI0N2FkMGE0NDMyZD9yZXNwb25zZS1jb250ZW50LWRpc3Bvc2l0aW9uPSomcmVzcG9uc2UtY29udGVudC10eXBlPSoiLCJDb25kaXRpb24iOnsiRGF0ZUxlc3NUaGFuIjp7IkFXUzpFcG9jaFRpbWUiOjE2ODcxNTM1NjF9fX1dfQ__&Signature=Gamn7nZ5r-G9Saa9K4N78%7Ez7fC25RE5SZLfigtkj5RlHEk-XkGlK1x62bcEiIto9RJvbt6aF3RRAKeSjnxnoqiiWuMCHuNq5L65ZyTWjPmgmSSj0fL-hnSBu4asMu2Irlviy%7EgluSSBLLPSWSznFa04T28Z6IuIUEDian-LderXEejt0MEXRn5vFUupZgmcKG%7EndmZghOKMaxqYUzRVDHiEZqIuYYklSWYlMA9ehILwYLHHT5fIV5tNLwxZqIw9OHu99DEd9LSZt7GEgGkTfWMZ83BM8Lxee1fXoFg%7ELRI%7EaqYnsJX5Juk%7EjfV6%7Etv2gVLE9wZGxfommqA%7E8gaJmhA__&Key-Pair-Id=KVTP0A1DKRTAX\n",
            "\n",
            "06/16 05:46:01 [\u001b[1;32mNOTICE\u001b[0m] CUID#14 - Redirecting to https://cdn-lfs.huggingface.co/repos/a3/72/a37288fd25de45b6a8bbb79801907289f6c12bb870db68f75b0024193da1f047/d6376a884bc80a6ea95da83f963508e57d8508333c424bed7beda565e4aaa0f3?response-content-disposition=attachment%3B+filename*%3DUTF-8%27%27pytorch_model-00006-of-00009.bin%3B+filename%3D%22pytorch_model-00006-of-00009.bin%22%3B&response-content-type=application%2Foctet-stream&Expires=1687153561&Policy=eyJTdGF0ZW1lbnQiOlt7IlJlc291cmNlIjoiaHR0cHM6Ly9jZG4tbGZzLmh1Z2dpbmdmYWNlLmNvL3JlcG9zL2EzLzcyL2EzNzI4OGZkMjVkZTQ1YjZhOGJiYjc5ODAxOTA3Mjg5ZjZjMTJiYjg3MGRiNjhmNzViMDAyNDE5M2RhMWYwNDcvZDYzNzZhODg0YmM4MGE2ZWE5NWRhODNmOTYzNTA4ZTU3ZDg1MDgzMzNjNDI0YmVkN2JlZGE1NjVlNGFhYTBmMz9yZXNwb25zZS1jb250ZW50LWRpc3Bvc2l0aW9uPSomcmVzcG9uc2UtY29udGVudC10eXBlPSoiLCJDb25kaXRpb24iOnsiRGF0ZUxlc3NUaGFuIjp7IkFXUzpFcG9jaFRpbWUiOjE2ODcxNTM1NjF9fX1dfQ__&Signature=ntw8OyVxaP5xy4ZfnDAjS1A-oRCBJXvzxyaDnSvXB9OBVeYwIL3PDxb%7EqMP7GsDjeItpkT4qYHkMCaXFD7V7PVkXU3Iv5Gg4EJ-nh--h3-ueT2pLR2aEEzurxt1rir%7EzK6oXm0546iZLYjzRhxQlAqfbdc38YXvUmJA-thJxwyzWfg8LO0e7oUrhceD8bK8qnP8xcdf7aXHH15cS3p%7EqscnGamJOl7ueSY%7EpzBq521QI9HeGOA-YVErtGUP7KvrcgYRcVa0LHNPl8qc8giszj2wVisf%7E9FOxrB1Ahvqn29Paqjb1eTQVVD0Yeg4ZuDQLzYscswMf%7EDgax2BzY-ZRYA__&Key-Pair-Id=KVTP0A1DKRTAX\n",
            "\n",
            "06/16 05:46:01 [\u001b[1;32mNOTICE\u001b[0m] CUID#14 - Redirecting to https://cdn-lfs.huggingface.co/repos/a3/72/a37288fd25de45b6a8bbb79801907289f6c12bb870db68f75b0024193da1f047/c3f07c8ec31edebe5ff80ed32d175475a044a0517d84c5eff6f6247ad0a4432d?response-content-disposition=attachment%3B+filename*%3DUTF-8%27%27pytorch_model-00007-of-00009.bin%3B+filename%3D%22pytorch_model-00007-of-00009.bin%22%3B&response-content-type=application%2Foctet-stream&Expires=1687153561&Policy=eyJTdGF0ZW1lbnQiOlt7IlJlc291cmNlIjoiaHR0cHM6Ly9jZG4tbGZzLmh1Z2dpbmdmYWNlLmNvL3JlcG9zL2EzLzcyL2EzNzI4OGZkMjVkZTQ1YjZhOGJiYjc5ODAxOTA3Mjg5ZjZjMTJiYjg3MGRiNjhmNzViMDAyNDE5M2RhMWYwNDcvYzNmMDdjOGVjMzFlZGViZTVmZjgwZWQzMmQxNzU0NzVhMDQ0YTA1MTdkODRjNWVmZjZmNjI0N2FkMGE0NDMyZD9yZXNwb25zZS1jb250ZW50LWRpc3Bvc2l0aW9uPSomcmVzcG9uc2UtY29udGVudC10eXBlPSoiLCJDb25kaXRpb24iOnsiRGF0ZUxlc3NUaGFuIjp7IkFXUzpFcG9jaFRpbWUiOjE2ODcxNTM1NjF9fX1dfQ__&Signature=Gamn7nZ5r-G9Saa9K4N78%7Ez7fC25RE5SZLfigtkj5RlHEk-XkGlK1x62bcEiIto9RJvbt6aF3RRAKeSjnxnoqiiWuMCHuNq5L65ZyTWjPmgmSSj0fL-hnSBu4asMu2Irlviy%7EgluSSBLLPSWSznFa04T28Z6IuIUEDian-LderXEejt0MEXRn5vFUupZgmcKG%7EndmZghOKMaxqYUzRVDHiEZqIuYYklSWYlMA9ehILwYLHHT5fIV5tNLwxZqIw9OHu99DEd9LSZt7GEgGkTfWMZ83BM8Lxee1fXoFg%7ELRI%7EaqYnsJX5Juk%7EjfV6%7Etv2gVLE9wZGxfommqA%7E8gaJmhA__&Key-Pair-Id=KVTP0A1DKRTAX\n",
            "\n",
            "06/16 05:46:01 [\u001b[1;32mNOTICE\u001b[0m] CUID#16 - Redirecting to https://cdn-lfs.huggingface.co/repos/a3/72/a37288fd25de45b6a8bbb79801907289f6c12bb870db68f75b0024193da1f047/c3f07c8ec31edebe5ff80ed32d175475a044a0517d84c5eff6f6247ad0a4432d?response-content-disposition=attachment%3B+filename*%3DUTF-8%27%27pytorch_model-00007-of-00009.bin%3B+filename%3D%22pytorch_model-00007-of-00009.bin%22%3B&response-content-type=application%2Foctet-stream&Expires=1687153561&Policy=eyJTdGF0ZW1lbnQiOlt7IlJlc291cmNlIjoiaHR0cHM6Ly9jZG4tbGZzLmh1Z2dpbmdmYWNlLmNvL3JlcG9zL2EzLzcyL2EzNzI4OGZkMjVkZTQ1YjZhOGJiYjc5ODAxOTA3Mjg5ZjZjMTJiYjg3MGRiNjhmNzViMDAyNDE5M2RhMWYwNDcvYzNmMDdjOGVjMzFlZGViZTVmZjgwZWQzMmQxNzU0NzVhMDQ0YTA1MTdkODRjNWVmZjZmNjI0N2FkMGE0NDMyZD9yZXNwb25zZS1jb250ZW50LWRpc3Bvc2l0aW9uPSomcmVzcG9uc2UtY29udGVudC10eXBlPSoiLCJDb25kaXRpb24iOnsiRGF0ZUxlc3NUaGFuIjp7IkFXUzpFcG9jaFRpbWUiOjE2ODcxNTM1NjF9fX1dfQ__&Signature=Gamn7nZ5r-G9Saa9K4N78%7Ez7fC25RE5SZLfigtkj5RlHEk-XkGlK1x62bcEiIto9RJvbt6aF3RRAKeSjnxnoqiiWuMCHuNq5L65ZyTWjPmgmSSj0fL-hnSBu4asMu2Irlviy%7EgluSSBLLPSWSznFa04T28Z6IuIUEDian-LderXEejt0MEXRn5vFUupZgmcKG%7EndmZghOKMaxqYUzRVDHiEZqIuYYklSWYlMA9ehILwYLHHT5fIV5tNLwxZqIw9OHu99DEd9LSZt7GEgGkTfWMZ83BM8Lxee1fXoFg%7ELRI%7EaqYnsJX5Juk%7EjfV6%7Etv2gVLE9wZGxfommqA%7E8gaJmhA__&Key-Pair-Id=KVTP0A1DKRTAX\n",
            "\n",
            "06/16 05:46:01 [\u001b[1;32mNOTICE\u001b[0m] CUID#19 - Redirecting to https://cdn-lfs.huggingface.co/repos/a3/72/a37288fd25de45b6a8bbb79801907289f6c12bb870db68f75b0024193da1f047/c3f07c8ec31edebe5ff80ed32d175475a044a0517d84c5eff6f6247ad0a4432d?response-content-disposition=attachment%3B+filename*%3DUTF-8%27%27pytorch_model-00007-of-00009.bin%3B+filename%3D%22pytorch_model-00007-of-00009.bin%22%3B&response-content-type=application%2Foctet-stream&Expires=1687153561&Policy=eyJTdGF0ZW1lbnQiOlt7IlJlc291cmNlIjoiaHR0cHM6Ly9jZG4tbGZzLmh1Z2dpbmdmYWNlLmNvL3JlcG9zL2EzLzcyL2EzNzI4OGZkMjVkZTQ1YjZhOGJiYjc5ODAxOTA3Mjg5ZjZjMTJiYjg3MGRiNjhmNzViMDAyNDE5M2RhMWYwNDcvYzNmMDdjOGVjMzFlZGViZTVmZjgwZWQzMmQxNzU0NzVhMDQ0YTA1MTdkODRjNWVmZjZmNjI0N2FkMGE0NDMyZD9yZXNwb25zZS1jb250ZW50LWRpc3Bvc2l0aW9uPSomcmVzcG9uc2UtY29udGVudC10eXBlPSoiLCJDb25kaXRpb24iOnsiRGF0ZUxlc3NUaGFuIjp7IkFXUzpFcG9jaFRpbWUiOjE2ODcxNTM1NjF9fX1dfQ__&Signature=Gamn7nZ5r-G9Saa9K4N78%7Ez7fC25RE5SZLfigtkj5RlHEk-XkGlK1x62bcEiIto9RJvbt6aF3RRAKeSjnxnoqiiWuMCHuNq5L65ZyTWjPmgmSSj0fL-hnSBu4asMu2Irlviy%7EgluSSBLLPSWSznFa04T28Z6IuIUEDian-LderXEejt0MEXRn5vFUupZgmcKG%7EndmZghOKMaxqYUzRVDHiEZqIuYYklSWYlMA9ehILwYLHHT5fIV5tNLwxZqIw9OHu99DEd9LSZt7GEgGkTfWMZ83BM8Lxee1fXoFg%7ELRI%7EaqYnsJX5Juk%7EjfV6%7Etv2gVLE9wZGxfommqA%7E8gaJmhA__&Key-Pair-Id=KVTP0A1DKRTAX\n",
            "\n",
            "06/16 05:46:01 [\u001b[1;32mNOTICE\u001b[0m] CUID#17 - Redirecting to https://cdn-lfs.huggingface.co/repos/a3/72/a37288fd25de45b6a8bbb79801907289f6c12bb870db68f75b0024193da1f047/c3f07c8ec31edebe5ff80ed32d175475a044a0517d84c5eff6f6247ad0a4432d?response-content-disposition=attachment%3B+filename*%3DUTF-8%27%27pytorch_model-00007-of-00009.bin%3B+filename%3D%22pytorch_model-00007-of-00009.bin%22%3B&response-content-type=application%2Foctet-stream&Expires=1687153561&Policy=eyJTdGF0ZW1lbnQiOlt7IlJlc291cmNlIjoiaHR0cHM6Ly9jZG4tbGZzLmh1Z2dpbmdmYWNlLmNvL3JlcG9zL2EzLzcyL2EzNzI4OGZkMjVkZTQ1YjZhOGJiYjc5ODAxOTA3Mjg5ZjZjMTJiYjg3MGRiNjhmNzViMDAyNDE5M2RhMWYwNDcvYzNmMDdjOGVjMzFlZGViZTVmZjgwZWQzMmQxNzU0NzVhMDQ0YTA1MTdkODRjNWVmZjZmNjI0N2FkMGE0NDMyZD9yZXNwb25zZS1jb250ZW50LWRpc3Bvc2l0aW9uPSomcmVzcG9uc2UtY29udGVudC10eXBlPSoiLCJDb25kaXRpb24iOnsiRGF0ZUxlc3NUaGFuIjp7IkFXUzpFcG9jaFRpbWUiOjE2ODcxNTM1NjF9fX1dfQ__&Signature=Gamn7nZ5r-G9Saa9K4N78%7Ez7fC25RE5SZLfigtkj5RlHEk-XkGlK1x62bcEiIto9RJvbt6aF3RRAKeSjnxnoqiiWuMCHuNq5L65ZyTWjPmgmSSj0fL-hnSBu4asMu2Irlviy%7EgluSSBLLPSWSznFa04T28Z6IuIUEDian-LderXEejt0MEXRn5vFUupZgmcKG%7EndmZghOKMaxqYUzRVDHiEZqIuYYklSWYlMA9ehILwYLHHT5fIV5tNLwxZqIw9OHu99DEd9LSZt7GEgGkTfWMZ83BM8Lxee1fXoFg%7ELRI%7EaqYnsJX5Juk%7EjfV6%7Etv2gVLE9wZGxfommqA%7E8gaJmhA__&Key-Pair-Id=KVTP0A1DKRTAX\n",
            "\n",
            "06/16 05:46:01 [\u001b[1;32mNOTICE\u001b[0m] CUID#22 - Redirecting to https://cdn-lfs.huggingface.co/repos/a3/72/a37288fd25de45b6a8bbb79801907289f6c12bb870db68f75b0024193da1f047/c3f07c8ec31edebe5ff80ed32d175475a044a0517d84c5eff6f6247ad0a4432d?response-content-disposition=attachment%3B+filename*%3DUTF-8%27%27pytorch_model-00007-of-00009.bin%3B+filename%3D%22pytorch_model-00007-of-00009.bin%22%3B&response-content-type=application%2Foctet-stream&Expires=1687153561&Policy=eyJTdGF0ZW1lbnQiOlt7IlJlc291cmNlIjoiaHR0cHM6Ly9jZG4tbGZzLmh1Z2dpbmdmYWNlLmNvL3JlcG9zL2EzLzcyL2EzNzI4OGZkMjVkZTQ1YjZhOGJiYjc5ODAxOTA3Mjg5ZjZjMTJiYjg3MGRiNjhmNzViMDAyNDE5M2RhMWYwNDcvYzNmMDdjOGVjMzFlZGViZTVmZjgwZWQzMmQxNzU0NzVhMDQ0YTA1MTdkODRjNWVmZjZmNjI0N2FkMGE0NDMyZD9yZXNwb25zZS1jb250ZW50LWRpc3Bvc2l0aW9uPSomcmVzcG9uc2UtY29udGVudC10eXBlPSoiLCJDb25kaXRpb24iOnsiRGF0ZUxlc3NUaGFuIjp7IkFXUzpFcG9jaFRpbWUiOjE2ODcxNTM1NjF9fX1dfQ__&Signature=Gamn7nZ5r-G9Saa9K4N78%7Ez7fC25RE5SZLfigtkj5RlHEk-XkGlK1x62bcEiIto9RJvbt6aF3RRAKeSjnxnoqiiWuMCHuNq5L65ZyTWjPmgmSSj0fL-hnSBu4asMu2Irlviy%7EgluSSBLLPSWSznFa04T28Z6IuIUEDian-LderXEejt0MEXRn5vFUupZgmcKG%7EndmZghOKMaxqYUzRVDHiEZqIuYYklSWYlMA9ehILwYLHHT5fIV5tNLwxZqIw9OHu99DEd9LSZt7GEgGkTfWMZ83BM8Lxee1fXoFg%7ELRI%7EaqYnsJX5Juk%7EjfV6%7Etv2gVLE9wZGxfommqA%7E8gaJmhA__&Key-Pair-Id=KVTP0A1DKRTAX\n",
            "\n",
            "06/16 05:46:01 [\u001b[1;32mNOTICE\u001b[0m] CUID#20 - Redirecting to https://cdn-lfs.huggingface.co/repos/a3/72/a37288fd25de45b6a8bbb79801907289f6c12bb870db68f75b0024193da1f047/c3f07c8ec31edebe5ff80ed32d175475a044a0517d84c5eff6f6247ad0a4432d?response-content-disposition=attachment%3B+filename*%3DUTF-8%27%27pytorch_model-00007-of-00009.bin%3B+filename%3D%22pytorch_model-00007-of-00009.bin%22%3B&response-content-type=application%2Foctet-stream&Expires=1687153561&Policy=eyJTdGF0ZW1lbnQiOlt7IlJlc291cmNlIjoiaHR0cHM6Ly9jZG4tbGZzLmh1Z2dpbmdmYWNlLmNvL3JlcG9zL2EzLzcyL2EzNzI4OGZkMjVkZTQ1YjZhOGJiYjc5ODAxOTA3Mjg5ZjZjMTJiYjg3MGRiNjhmNzViMDAyNDE5M2RhMWYwNDcvYzNmMDdjOGVjMzFlZGViZTVmZjgwZWQzMmQxNzU0NzVhMDQ0YTA1MTdkODRjNWVmZjZmNjI0N2FkMGE0NDMyZD9yZXNwb25zZS1jb250ZW50LWRpc3Bvc2l0aW9uPSomcmVzcG9uc2UtY29udGVudC10eXBlPSoiLCJDb25kaXRpb24iOnsiRGF0ZUxlc3NUaGFuIjp7IkFXUzpFcG9jaFRpbWUiOjE2ODcxNTM1NjF9fX1dfQ__&Signature=Gamn7nZ5r-G9Saa9K4N78%7Ez7fC25RE5SZLfigtkj5RlHEk-XkGlK1x62bcEiIto9RJvbt6aF3RRAKeSjnxnoqiiWuMCHuNq5L65ZyTWjPmgmSSj0fL-hnSBu4asMu2Irlviy%7EgluSSBLLPSWSznFa04T28Z6IuIUEDian-LderXEejt0MEXRn5vFUupZgmcKG%7EndmZghOKMaxqYUzRVDHiEZqIuYYklSWYlMA9ehILwYLHHT5fIV5tNLwxZqIw9OHu99DEd9LSZt7GEgGkTfWMZ83BM8Lxee1fXoFg%7ELRI%7EaqYnsJX5Juk%7EjfV6%7Etv2gVLE9wZGxfommqA%7E8gaJmhA__&Key-Pair-Id=KVTP0A1DKRTAX\n",
            "\n",
            "06/16 05:46:01 [\u001b[1;32mNOTICE\u001b[0m] CUID#21 - Redirecting to https://cdn-lfs.huggingface.co/repos/a3/72/a37288fd25de45b6a8bbb79801907289f6c12bb870db68f75b0024193da1f047/c3f07c8ec31edebe5ff80ed32d175475a044a0517d84c5eff6f6247ad0a4432d?response-content-disposition=attachment%3B+filename*%3DUTF-8%27%27pytorch_model-00007-of-00009.bin%3B+filename%3D%22pytorch_model-00007-of-00009.bin%22%3B&response-content-type=application%2Foctet-stream&Expires=1687153561&Policy=eyJTdGF0ZW1lbnQiOlt7IlJlc291cmNlIjoiaHR0cHM6Ly9jZG4tbGZzLmh1Z2dpbmdmYWNlLmNvL3JlcG9zL2EzLzcyL2EzNzI4OGZkMjVkZTQ1YjZhOGJiYjc5ODAxOTA3Mjg5ZjZjMTJiYjg3MGRiNjhmNzViMDAyNDE5M2RhMWYwNDcvYzNmMDdjOGVjMzFlZGViZTVmZjgwZWQzMmQxNzU0NzVhMDQ0YTA1MTdkODRjNWVmZjZmNjI0N2FkMGE0NDMyZD9yZXNwb25zZS1jb250ZW50LWRpc3Bvc2l0aW9uPSomcmVzcG9uc2UtY29udGVudC10eXBlPSoiLCJDb25kaXRpb24iOnsiRGF0ZUxlc3NUaGFuIjp7IkFXUzpFcG9jaFRpbWUiOjE2ODcxNTM1NjF9fX1dfQ__&Signature=Gamn7nZ5r-G9Saa9K4N78%7Ez7fC25RE5SZLfigtkj5RlHEk-XkGlK1x62bcEiIto9RJvbt6aF3RRAKeSjnxnoqiiWuMCHuNq5L65ZyTWjPmgmSSj0fL-hnSBu4asMu2Irlviy%7EgluSSBLLPSWSznFa04T28Z6IuIUEDian-LderXEejt0MEXRn5vFUupZgmcKG%7EndmZghOKMaxqYUzRVDHiEZqIuYYklSWYlMA9ehILwYLHHT5fIV5tNLwxZqIw9OHu99DEd9LSZt7GEgGkTfWMZ83BM8Lxee1fXoFg%7ELRI%7EaqYnsJX5Juk%7EjfV6%7Etv2gVLE9wZGxfommqA%7E8gaJmhA__&Key-Pair-Id=KVTP0A1DKRTAX\n",
            "\n",
            "06/16 05:46:01 [\u001b[1;32mNOTICE\u001b[0m] CUID#23 - Redirecting to https://cdn-lfs.huggingface.co/repos/a3/72/a37288fd25de45b6a8bbb79801907289f6c12bb870db68f75b0024193da1f047/c3f07c8ec31edebe5ff80ed32d175475a044a0517d84c5eff6f6247ad0a4432d?response-content-disposition=attachment%3B+filename*%3DUTF-8%27%27pytorch_model-00007-of-00009.bin%3B+filename%3D%22pytorch_model-00007-of-00009.bin%22%3B&response-content-type=application%2Foctet-stream&Expires=1687153561&Policy=eyJTdGF0ZW1lbnQiOlt7IlJlc291cmNlIjoiaHR0cHM6Ly9jZG4tbGZzLmh1Z2dpbmdmYWNlLmNvL3JlcG9zL2EzLzcyL2EzNzI4OGZkMjVkZTQ1YjZhOGJiYjc5ODAxOTA3Mjg5ZjZjMTJiYjg3MGRiNjhmNzViMDAyNDE5M2RhMWYwNDcvYzNmMDdjOGVjMzFlZGViZTVmZjgwZWQzMmQxNzU0NzVhMDQ0YTA1MTdkODRjNWVmZjZmNjI0N2FkMGE0NDMyZD9yZXNwb25zZS1jb250ZW50LWRpc3Bvc2l0aW9uPSomcmVzcG9uc2UtY29udGVudC10eXBlPSoiLCJDb25kaXRpb24iOnsiRGF0ZUxlc3NUaGFuIjp7IkFXUzpFcG9jaFRpbWUiOjE2ODcxNTM1NjF9fX1dfQ__&Signature=Gamn7nZ5r-G9Saa9K4N78%7Ez7fC25RE5SZLfigtkj5RlHEk-XkGlK1x62bcEiIto9RJvbt6aF3RRAKeSjnxnoqiiWuMCHuNq5L65ZyTWjPmgmSSj0fL-hnSBu4asMu2Irlviy%7EgluSSBLLPSWSznFa04T28Z6IuIUEDian-LderXEejt0MEXRn5vFUupZgmcKG%7EndmZghOKMaxqYUzRVDHiEZqIuYYklSWYlMA9ehILwYLHHT5fIV5tNLwxZqIw9OHu99DEd9LSZt7GEgGkTfWMZ83BM8Lxee1fXoFg%7ELRI%7EaqYnsJX5Juk%7EjfV6%7Etv2gVLE9wZGxfommqA%7E8gaJmhA__&Key-Pair-Id=KVTP0A1DKRTAX\n",
            "\n",
            "06/16 05:46:01 [\u001b[1;32mNOTICE\u001b[0m] CUID#11 - Redirecting to https://cdn-lfs.huggingface.co/repos/a3/72/a37288fd25de45b6a8bbb79801907289f6c12bb870db68f75b0024193da1f047/384bd92e6d1d0b6a133b1d81bad915a10d954d1bfcdf4fdc8b6d0d81b4f5e9e8?response-content-disposition=attachment%3B+filename*%3DUTF-8%27%27pytorch_model-00001-of-00009.bin%3B+filename%3D%22pytorch_model-00001-of-00009.bin%22%3B&response-content-type=application%2Foctet-stream&Expires=1687151781&Policy=eyJTdGF0ZW1lbnQiOlt7IlJlc291cmNlIjoiaHR0cHM6Ly9jZG4tbGZzLmh1Z2dpbmdmYWNlLmNvL3JlcG9zL2EzLzcyL2EzNzI4OGZkMjVkZTQ1YjZhOGJiYjc5ODAxOTA3Mjg5ZjZjMTJiYjg3MGRiNjhmNzViMDAyNDE5M2RhMWYwNDcvMzg0YmQ5MmU2ZDFkMGI2YTEzM2IxZDgxYmFkOTE1YTEwZDk1NGQxYmZjZGY0ZmRjOGI2ZDBkODFiNGY1ZTllOD9yZXNwb25zZS1jb250ZW50LWRpc3Bvc2l0aW9uPSomcmVzcG9uc2UtY29udGVudC10eXBlPSoiLCJDb25kaXRpb24iOnsiRGF0ZUxlc3NUaGFuIjp7IkFXUzpFcG9jaFRpbWUiOjE2ODcxNTE3ODF9fX1dfQ__&Signature=bxWooKSepaBZQR9cYRrCHaIlTRbKRGM646%7EFJAUODcUzN29JOkbWhedO3f5O5Xtx730WOYj5bkTniUoQqIHmRIwEUHwHHUc0UBrtDDFJ%7Ea8VhYzlQqGL-%7EjanCSASXMIcVAR1-adGDNgLz7qTrSkajFqst0ZgC4iq2qNNLTgx-DX6dpbzPsVRCkO8JsZHy1BRsrCOEmTCM2l0qvsWq9prHVP5N5g9AvbhYGLMbPBjI98exc-arIgPTTdLIhk7N3TKYRPac8zWAAKVDlWbBDbnUdfZQ2tG5TpHREBBtiYct0QnIsw7vwwk0y9lajOH3AZVSP9dOJpJ0Y9DCETG06rCw__&Key-Pair-Id=KVTP0A1DKRTAX\n",
            "\n",
            "06/16 05:46:01 [\u001b[1;32mNOTICE\u001b[0m] CUID#9 - Redirecting to https://cdn-lfs.huggingface.co/repos/a3/72/a37288fd25de45b6a8bbb79801907289f6c12bb870db68f75b0024193da1f047/ae277c7c5aef0d0fea9e9e6b13113dfef0078a36c78805bebe14d32e9ab887d1?response-content-disposition=attachment%3B+filename*%3DUTF-8%27%27pytorch_model-00005-of-00009.bin%3B+filename%3D%22pytorch_model-00005-of-00009.bin%22%3B&response-content-type=application%2Foctet-stream&Expires=1687153562&Policy=eyJTdGF0ZW1lbnQiOlt7IlJlc291cmNlIjoiaHR0cHM6Ly9jZG4tbGZzLmh1Z2dpbmdmYWNlLmNvL3JlcG9zL2EzLzcyL2EzNzI4OGZkMjVkZTQ1YjZhOGJiYjc5ODAxOTA3Mjg5ZjZjMTJiYjg3MGRiNjhmNzViMDAyNDE5M2RhMWYwNDcvYWUyNzdjN2M1YWVmMGQwZmVhOWU5ZTZiMTMxMTNkZmVmMDA3OGEzNmM3ODgwNWJlYmUxNGQzMmU5YWI4ODdkMT9yZXNwb25zZS1jb250ZW50LWRpc3Bvc2l0aW9uPSomcmVzcG9uc2UtY29udGVudC10eXBlPSoiLCJDb25kaXRpb24iOnsiRGF0ZUxlc3NUaGFuIjp7IkFXUzpFcG9jaFRpbWUiOjE2ODcxNTM1NjJ9fX1dfQ__&Signature=KiWq94e1Zf3Ntipl5Nga4DYLLulOM%7ESB07WgtYQstx8YSCTSTaSPOFz1cedpsePz4wUdAPxdbA%7EgNkOp7HQO1aobPfarJWTQzXUkWPxuJDFAkJJxmiUdPl-dRR4TzxbB4HhvkFMBP8tBLt7L6dr%7EcbhhaLlsqyOYzqcYElnFnxuJjNQQrXQlSenpWw40UH6KWYi1eBJi%7EDGWcn6aQ60h0WgHEj641NjA-com3CBfoQPlC8dVWBHGsCx4aBpxRX7656MnedCnVGlnn2kyiNX37s98pZtNxN0mYQIJN50ZRBgawqE0u0OxVGIIDow7IXDqjZz4G7gURmxyAPRwzHAHfg__&Key-Pair-Id=KVTP0A1DKRTAX\n",
            "\n",
            "06/16 05:46:01 [\u001b[1;32mNOTICE\u001b[0m] CUID#20 - Redirecting to https://cdn-lfs.huggingface.co/repos/a3/72/a37288fd25de45b6a8bbb79801907289f6c12bb870db68f75b0024193da1f047/638cb048ee6ad66f85a176e980332b0d61cbddb2d5dc9b5ad1863d87e020350c?response-content-disposition=attachment%3B+filename*%3DUTF-8%27%27pytorch_model-00002-of-00009.bin%3B+filename%3D%22pytorch_model-00002-of-00009.bin%22%3B&response-content-type=application%2Foctet-stream&Expires=1687153562&Policy=eyJTdGF0ZW1lbnQiOlt7IlJlc291cmNlIjoiaHR0cHM6Ly9jZG4tbGZzLmh1Z2dpbmdmYWNlLmNvL3JlcG9zL2EzLzcyL2EzNzI4OGZkMjVkZTQ1YjZhOGJiYjc5ODAxOTA3Mjg5ZjZjMTJiYjg3MGRiNjhmNzViMDAyNDE5M2RhMWYwNDcvNjM4Y2IwNDhlZTZhZDY2Zjg1YTE3NmU5ODAzMzJiMGQ2MWNiZGRiMmQ1ZGM5YjVhZDE4NjNkODdlMDIwMzUwYz9yZXNwb25zZS1jb250ZW50LWRpc3Bvc2l0aW9uPSomcmVzcG9uc2UtY29udGVudC10eXBlPSoiLCJDb25kaXRpb24iOnsiRGF0ZUxlc3NUaGFuIjp7IkFXUzpFcG9jaFRpbWUiOjE2ODcxNTM1NjJ9fX1dfQ__&Signature=ja2MmyET2oPcaqTcLvvvVJCsG0JHNOrdp%7EZ-ugvhjJnEeeh%7E9Tp7vqSjn6cJz2iMBr97ubmYynSLLhEg85oBPZvkPV1VUBF48dUZ-sNmkkOPadib8VuxvCbtVNxdFjps1-zdITCvSrp9EARHE5OeZtFfWE9Ka5snm29U8iRz01Mq%7EYx0WimaaRYlLdOpuFxtko0CwIyiyfoegPCKNc8EfZLcQm1hFQNnzhqgSDE0M18FscLQZatXvPV1qW5B6%7ExODff-7oUl5nq75O0xIbxMOmDGYwQrwlSwBQ574ZNGFiduuA4FQ5EfeegUgDSlaNQjOb5q%7E7A6PItV2FTzU-Tacg__&Key-Pair-Id=KVTP0A1DKRTAX\n",
            "\n",
            "06/16 05:46:01 [\u001b[1;32mNOTICE\u001b[0m] CUID#13 - Redirecting to https://cdn-lfs.huggingface.co/repos/a3/72/a37288fd25de45b6a8bbb79801907289f6c12bb870db68f75b0024193da1f047/384bd92e6d1d0b6a133b1d81bad915a10d954d1bfcdf4fdc8b6d0d81b4f5e9e8?response-content-disposition=attachment%3B+filename*%3DUTF-8%27%27pytorch_model-00001-of-00009.bin%3B+filename%3D%22pytorch_model-00001-of-00009.bin%22%3B&response-content-type=application%2Foctet-stream&Expires=1687153562&Policy=eyJTdGF0ZW1lbnQiOlt7IlJlc291cmNlIjoiaHR0cHM6Ly9jZG4tbGZzLmh1Z2dpbmdmYWNlLmNvL3JlcG9zL2EzLzcyL2EzNzI4OGZkMjVkZTQ1YjZhOGJiYjc5ODAxOTA3Mjg5ZjZjMTJiYjg3MGRiNjhmNzViMDAyNDE5M2RhMWYwNDcvMzg0YmQ5MmU2ZDFkMGI2YTEzM2IxZDgxYmFkOTE1YTEwZDk1NGQxYmZjZGY0ZmRjOGI2ZDBkODFiNGY1ZTllOD9yZXNwb25zZS1jb250ZW50LWRpc3Bvc2l0aW9uPSomcmVzcG9uc2UtY29udGVudC10eXBlPSoiLCJDb25kaXRpb24iOnsiRGF0ZUxlc3NUaGFuIjp7IkFXUzpFcG9jaFRpbWUiOjE2ODcxNTM1NjJ9fX1dfQ__&Signature=jwtb8UFqNrBrEmaJZTHSiDiv1XtbP9115vwdhs6SpwKDjUI28l8MSl%7EiMxHDz6jZhMNDIImKxfHNULyIXKv4RsJIM4Se0knSIdNKp0F5bdDQTzIVM3U6g0cK%7Eips47uEjz0xyiNhDn3HSR73x77BDFDS4Tmen5XAPR43oc%7Ee0zKCG-4nnLhFuGTbCVpo0BPtHbpXbz85r433%7Eo1d%7EjI19Lk9nXRFknGaVPOopJYhYX4qs7-XkEYostyUqfQovDzG4Hy7TElwQB5ZkbDTiKScNv7Ph2cjT4p1iVY7XwzdoV3DJgG6UnKdWuqBQRJMAYFiSAPmkXE2yEhIzxt6SFZzlA__&Key-Pair-Id=KVTP0A1DKRTAX\n",
            "\n",
            "06/16 05:46:01 [\u001b[1;32mNOTICE\u001b[0m] CUID#15 - Redirecting to https://cdn-lfs.huggingface.co/repos/a3/72/a37288fd25de45b6a8bbb79801907289f6c12bb870db68f75b0024193da1f047/384bd92e6d1d0b6a133b1d81bad915a10d954d1bfcdf4fdc8b6d0d81b4f5e9e8?response-content-disposition=attachment%3B+filename*%3DUTF-8%27%27pytorch_model-00001-of-00009.bin%3B+filename%3D%22pytorch_model-00001-of-00009.bin%22%3B&response-content-type=application%2Foctet-stream&Expires=1687153562&Policy=eyJTdGF0ZW1lbnQiOlt7IlJlc291cmNlIjoiaHR0cHM6Ly9jZG4tbGZzLmh1Z2dpbmdmYWNlLmNvL3JlcG9zL2EzLzcyL2EzNzI4OGZkMjVkZTQ1YjZhOGJiYjc5ODAxOTA3Mjg5ZjZjMTJiYjg3MGRiNjhmNzViMDAyNDE5M2RhMWYwNDcvMzg0YmQ5MmU2ZDFkMGI2YTEzM2IxZDgxYmFkOTE1YTEwZDk1NGQxYmZjZGY0ZmRjOGI2ZDBkODFiNGY1ZTllOD9yZXNwb25zZS1jb250ZW50LWRpc3Bvc2l0aW9uPSomcmVzcG9uc2UtY29udGVudC10eXBlPSoiLCJDb25kaXRpb24iOnsiRGF0ZUxlc3NUaGFuIjp7IkFXUzpFcG9jaFRpbWUiOjE2ODcxNTM1NjJ9fX1dfQ__&Signature=jwtb8UFqNrBrEmaJZTHSiDiv1XtbP9115vwdhs6SpwKDjUI28l8MSl%7EiMxHDz6jZhMNDIImKxfHNULyIXKv4RsJIM4Se0knSIdNKp0F5bdDQTzIVM3U6g0cK%7Eips47uEjz0xyiNhDn3HSR73x77BDFDS4Tmen5XAPR43oc%7Ee0zKCG-4nnLhFuGTbCVpo0BPtHbpXbz85r433%7Eo1d%7EjI19Lk9nXRFknGaVPOopJYhYX4qs7-XkEYostyUqfQovDzG4Hy7TElwQB5ZkbDTiKScNv7Ph2cjT4p1iVY7XwzdoV3DJgG6UnKdWuqBQRJMAYFiSAPmkXE2yEhIzxt6SFZzlA__&Key-Pair-Id=KVTP0A1DKRTAX\n",
            "\n",
            "06/16 05:46:01 [\u001b[1;32mNOTICE\u001b[0m] CUID#12 - Redirecting to https://cdn-lfs.huggingface.co/repos/a3/72/a37288fd25de45b6a8bbb79801907289f6c12bb870db68f75b0024193da1f047/d6376a884bc80a6ea95da83f963508e57d8508333c424bed7beda565e4aaa0f3?response-content-disposition=attachment%3B+filename*%3DUTF-8%27%27pytorch_model-00006-of-00009.bin%3B+filename%3D%22pytorch_model-00006-of-00009.bin%22%3B&response-content-type=application%2Foctet-stream&Expires=1687153561&Policy=eyJTdGF0ZW1lbnQiOlt7IlJlc291cmNlIjoiaHR0cHM6Ly9jZG4tbGZzLmh1Z2dpbmdmYWNlLmNvL3JlcG9zL2EzLzcyL2EzNzI4OGZkMjVkZTQ1YjZhOGJiYjc5ODAxOTA3Mjg5ZjZjMTJiYjg3MGRiNjhmNzViMDAyNDE5M2RhMWYwNDcvZDYzNzZhODg0YmM4MGE2ZWE5NWRhODNmOTYzNTA4ZTU3ZDg1MDgzMzNjNDI0YmVkN2JlZGE1NjVlNGFhYTBmMz9yZXNwb25zZS1jb250ZW50LWRpc3Bvc2l0aW9uPSomcmVzcG9uc2UtY29udGVudC10eXBlPSoiLCJDb25kaXRpb24iOnsiRGF0ZUxlc3NUaGFuIjp7IkFXUzpFcG9jaFRpbWUiOjE2ODcxNTM1NjF9fX1dfQ__&Signature=ntw8OyVxaP5xy4ZfnDAjS1A-oRCBJXvzxyaDnSvXB9OBVeYwIL3PDxb%7EqMP7GsDjeItpkT4qYHkMCaXFD7V7PVkXU3Iv5Gg4EJ-nh--h3-ueT2pLR2aEEzurxt1rir%7EzK6oXm0546iZLYjzRhxQlAqfbdc38YXvUmJA-thJxwyzWfg8LO0e7oUrhceD8bK8qnP8xcdf7aXHH15cS3p%7EqscnGamJOl7ueSY%7EpzBq521QI9HeGOA-YVErtGUP7KvrcgYRcVa0LHNPl8qc8giszj2wVisf%7E9FOxrB1Ahvqn29Paqjb1eTQVVD0Yeg4ZuDQLzYscswMf%7EDgax2BzY-ZRYA__&Key-Pair-Id=KVTP0A1DKRTAX\n",
            "\n",
            "06/16 05:46:01 [\u001b[1;32mNOTICE\u001b[0m] CUID#11 - Redirecting to https://cdn-lfs.huggingface.co/repos/a3/72/a37288fd25de45b6a8bbb79801907289f6c12bb870db68f75b0024193da1f047/ae277c7c5aef0d0fea9e9e6b13113dfef0078a36c78805bebe14d32e9ab887d1?response-content-disposition=attachment%3B+filename*%3DUTF-8%27%27pytorch_model-00005-of-00009.bin%3B+filename%3D%22pytorch_model-00005-of-00009.bin%22%3B&response-content-type=application%2Foctet-stream&Expires=1687153562&Policy=eyJTdGF0ZW1lbnQiOlt7IlJlc291cmNlIjoiaHR0cHM6Ly9jZG4tbGZzLmh1Z2dpbmdmYWNlLmNvL3JlcG9zL2EzLzcyL2EzNzI4OGZkMjVkZTQ1YjZhOGJiYjc5ODAxOTA3Mjg5ZjZjMTJiYjg3MGRiNjhmNzViMDAyNDE5M2RhMWYwNDcvYWUyNzdjN2M1YWVmMGQwZmVhOWU5ZTZiMTMxMTNkZmVmMDA3OGEzNmM3ODgwNWJlYmUxNGQzMmU5YWI4ODdkMT9yZXNwb25zZS1jb250ZW50LWRpc3Bvc2l0aW9uPSomcmVzcG9uc2UtY29udGVudC10eXBlPSoiLCJDb25kaXRpb24iOnsiRGF0ZUxlc3NUaGFuIjp7IkFXUzpFcG9jaFRpbWUiOjE2ODcxNTM1NjJ9fX1dfQ__&Signature=KiWq94e1Zf3Ntipl5Nga4DYLLulOM%7ESB07WgtYQstx8YSCTSTaSPOFz1cedpsePz4wUdAPxdbA%7EgNkOp7HQO1aobPfarJWTQzXUkWPxuJDFAkJJxmiUdPl-dRR4TzxbB4HhvkFMBP8tBLt7L6dr%7EcbhhaLlsqyOYzqcYElnFnxuJjNQQrXQlSenpWw40UH6KWYi1eBJi%7EDGWcn6aQ60h0WgHEj641NjA-com3CBfoQPlC8dVWBHGsCx4aBpxRX7656MnedCnVGlnn2kyiNX37s98pZtNxN0mYQIJN50ZRBgawqE0u0OxVGIIDow7IXDqjZz4G7gURmxyAPRwzHAHfg__&Key-Pair-Id=KVTP0A1DKRTAX\n",
            "\n",
            "06/16 05:46:01 [\u001b[1;32mNOTICE\u001b[0m] CUID#17 - Redirecting to https://cdn-lfs.huggingface.co/repos/a3/72/a37288fd25de45b6a8bbb79801907289f6c12bb870db68f75b0024193da1f047/ae277c7c5aef0d0fea9e9e6b13113dfef0078a36c78805bebe14d32e9ab887d1?response-content-disposition=attachment%3B+filename*%3DUTF-8%27%27pytorch_model-00005-of-00009.bin%3B+filename%3D%22pytorch_model-00005-of-00009.bin%22%3B&response-content-type=application%2Foctet-stream&Expires=1687153562&Policy=eyJTdGF0ZW1lbnQiOlt7IlJlc291cmNlIjoiaHR0cHM6Ly9jZG4tbGZzLmh1Z2dpbmdmYWNlLmNvL3JlcG9zL2EzLzcyL2EzNzI4OGZkMjVkZTQ1YjZhOGJiYjc5ODAxOTA3Mjg5ZjZjMTJiYjg3MGRiNjhmNzViMDAyNDE5M2RhMWYwNDcvYWUyNzdjN2M1YWVmMGQwZmVhOWU5ZTZiMTMxMTNkZmVmMDA3OGEzNmM3ODgwNWJlYmUxNGQzMmU5YWI4ODdkMT9yZXNwb25zZS1jb250ZW50LWRpc3Bvc2l0aW9uPSomcmVzcG9uc2UtY29udGVudC10eXBlPSoiLCJDb25kaXRpb24iOnsiRGF0ZUxlc3NUaGFuIjp7IkFXUzpFcG9jaFRpbWUiOjE2ODcxNTM1NjJ9fX1dfQ__&Signature=KiWq94e1Zf3Ntipl5Nga4DYLLulOM%7ESB07WgtYQstx8YSCTSTaSPOFz1cedpsePz4wUdAPxdbA%7EgNkOp7HQO1aobPfarJWTQzXUkWPxuJDFAkJJxmiUdPl-dRR4TzxbB4HhvkFMBP8tBLt7L6dr%7EcbhhaLlsqyOYzqcYElnFnxuJjNQQrXQlSenpWw40UH6KWYi1eBJi%7EDGWcn6aQ60h0WgHEj641NjA-com3CBfoQPlC8dVWBHGsCx4aBpxRX7656MnedCnVGlnn2kyiNX37s98pZtNxN0mYQIJN50ZRBgawqE0u0OxVGIIDow7IXDqjZz4G7gURmxyAPRwzHAHfg__&Key-Pair-Id=KVTP0A1DKRTAX\n",
            "\n",
            "06/16 05:46:01 [\u001b[1;32mNOTICE\u001b[0m] CUID#18 - Redirecting to https://cdn-lfs.huggingface.co/repos/a3/72/a37288fd25de45b6a8bbb79801907289f6c12bb870db68f75b0024193da1f047/c3f07c8ec31edebe5ff80ed32d175475a044a0517d84c5eff6f6247ad0a4432d?response-content-disposition=attachment%3B+filename*%3DUTF-8%27%27pytorch_model-00007-of-00009.bin%3B+filename%3D%22pytorch_model-00007-of-00009.bin%22%3B&response-content-type=application%2Foctet-stream&Expires=1687153562&Policy=eyJTdGF0ZW1lbnQiOlt7IlJlc291cmNlIjoiaHR0cHM6Ly9jZG4tbGZzLmh1Z2dpbmdmYWNlLmNvL3JlcG9zL2EzLzcyL2EzNzI4OGZkMjVkZTQ1YjZhOGJiYjc5ODAxOTA3Mjg5ZjZjMTJiYjg3MGRiNjhmNzViMDAyNDE5M2RhMWYwNDcvYzNmMDdjOGVjMzFlZGViZTVmZjgwZWQzMmQxNzU0NzVhMDQ0YTA1MTdkODRjNWVmZjZmNjI0N2FkMGE0NDMyZD9yZXNwb25zZS1jb250ZW50LWRpc3Bvc2l0aW9uPSomcmVzcG9uc2UtY29udGVudC10eXBlPSoiLCJDb25kaXRpb24iOnsiRGF0ZUxlc3NUaGFuIjp7IkFXUzpFcG9jaFRpbWUiOjE2ODcxNTM1NjJ9fX1dfQ__&Signature=r6F8BQngcU%7EcKXNfW5Axzt6mJu28l5ScNWTt2t1vCNuslim8BS38Tlj2R97psBar9ORNsw%7ES3Vr03gCatth-rKptqJI7-3ydnz%7EVsyGe6AJb1Fc8S7KqXTcKXUmFjjLYo1wYQnyzO0RD39EjJ4vTxGnWGemo6-HwEdKtTVgqaKsc3vRqyeX3MAIOpTcXT9pN95BYPur%7Ep2fp8pSRZ%7EIHAEpyKv9E%7EEudDi4E7l%7EX6rgWz2ZhJZQL0rI0gXyKul9nK1FFq4xwECPyAIqmDNcVzTe21qe%7EZGmelKF9T96slxGBeiPtSfFOGqKmBBh83MowGZBoccsAQB6a2u39fwuedA__&Key-Pair-Id=KVTP0A1DKRTAX\n",
            "\n",
            "06/16 05:46:01 [\u001b[1;32mNOTICE\u001b[0m] CUID#12 - Redirecting to https://cdn-lfs.huggingface.co/repos/a3/72/a37288fd25de45b6a8bbb79801907289f6c12bb870db68f75b0024193da1f047/ae277c7c5aef0d0fea9e9e6b13113dfef0078a36c78805bebe14d32e9ab887d1?response-content-disposition=attachment%3B+filename*%3DUTF-8%27%27pytorch_model-00005-of-00009.bin%3B+filename%3D%22pytorch_model-00005-of-00009.bin%22%3B&response-content-type=application%2Foctet-stream&Expires=1687151416&Policy=eyJTdGF0ZW1lbnQiOlt7IlJlc291cmNlIjoiaHR0cHM6Ly9jZG4tbGZzLmh1Z2dpbmdmYWNlLmNvL3JlcG9zL2EzLzcyL2EzNzI4OGZkMjVkZTQ1YjZhOGJiYjc5ODAxOTA3Mjg5ZjZjMTJiYjg3MGRiNjhmNzViMDAyNDE5M2RhMWYwNDcvYWUyNzdjN2M1YWVmMGQwZmVhOWU5ZTZiMTMxMTNkZmVmMDA3OGEzNmM3ODgwNWJlYmUxNGQzMmU5YWI4ODdkMT9yZXNwb25zZS1jb250ZW50LWRpc3Bvc2l0aW9uPSomcmVzcG9uc2UtY29udGVudC10eXBlPSoiLCJDb25kaXRpb24iOnsiRGF0ZUxlc3NUaGFuIjp7IkFXUzpFcG9jaFRpbWUiOjE2ODcxNTE0MTZ9fX1dfQ__&Signature=W-ln6GR5JVDNJrI0UUSL-0cvOZFCVBP77S2Ha6u6LNp7M39P6iKlER0V1VAW-hlqXiSpT8xw%7E69qeAbbQ1GxqMufz9wjmYNt%7ETlPCBEer2mzY99e2Mid3U%7EUC-ljpJrstOnHnKQdWCnFvOOi0tdJrJMoWGsuiOKWgScjobG-Y04Om82y6E0PfDEruFfj-kCvs04zQMi9SG9EO7cEkZ4Ur%7EXgB-IR7uM91arA-MA9Rc3MWD3%7EMQZHkGe6Z4N-A1uyhq7gSNw%7E24mOmvSsO9F1q1BvS8uE2kV4yBdDDYNdagJiOWenYIS7REDztbtM2qkNTJKzmq9a7cakOOzqnsIoxg__&Key-Pair-Id=KVTP0A1DKRTAX\n",
            "\n",
            "06/16 05:46:01 [\u001b[1;32mNOTICE\u001b[0m] CUID#14 - Redirecting to https://cdn-lfs.huggingface.co/repos/a3/72/a37288fd25de45b6a8bbb79801907289f6c12bb870db68f75b0024193da1f047/ae277c7c5aef0d0fea9e9e6b13113dfef0078a36c78805bebe14d32e9ab887d1?response-content-disposition=attachment%3B+filename*%3DUTF-8%27%27pytorch_model-00005-of-00009.bin%3B+filename%3D%22pytorch_model-00005-of-00009.bin%22%3B&response-content-type=application%2Foctet-stream&Expires=1687152356&Policy=eyJTdGF0ZW1lbnQiOlt7IlJlc291cmNlIjoiaHR0cHM6Ly9jZG4tbGZzLmh1Z2dpbmdmYWNlLmNvL3JlcG9zL2EzLzcyL2EzNzI4OGZkMjVkZTQ1YjZhOGJiYjc5ODAxOTA3Mjg5ZjZjMTJiYjg3MGRiNjhmNzViMDAyNDE5M2RhMWYwNDcvYWUyNzdjN2M1YWVmMGQwZmVhOWU5ZTZiMTMxMTNkZmVmMDA3OGEzNmM3ODgwNWJlYmUxNGQzMmU5YWI4ODdkMT9yZXNwb25zZS1jb250ZW50LWRpc3Bvc2l0aW9uPSomcmVzcG9uc2UtY29udGVudC10eXBlPSoiLCJDb25kaXRpb24iOnsiRGF0ZUxlc3NUaGFuIjp7IkFXUzpFcG9jaFRpbWUiOjE2ODcxNTIzNTZ9fX1dfQ__&Signature=iskn1SYJOpo1Jr5KfwaD8h5XfUwwK-AhaKED7TodiCbGUyG6XkrPQUIaYDqQE16CWWqTHu-fCEz6d%7E456eBJ5DaHEvS56ClvUQiu9ZBtP%7EsALuEUjyf6k6uWJPr3Y%7EMMbu9NOSGokg1uuiLoIqUeRlCvwK8petwZCi%7Ep4d3k2RguVzctGAqTXaKAif1CqRTviGhlT%7E-Q9voh1d0e1jBHZdRDFmE0LXq-Fg-1uAX%7En%7EfEfxIqmPqQJNYKP0v0o03IruQKt%7EhdvEcV8RMXUkUOBXbLJm7ZXJcU4bijZpRyf93e9HgUk3oi5iAD1I8W9AuMjrdbuzB2udQe9PbkSr2A8A__&Key-Pair-Id=KVTP0A1DKRTAX\n",
            "\n",
            "06/16 05:46:01 [\u001b[1;32mNOTICE\u001b[0m] CUID#15 - Redirecting to https://cdn-lfs.huggingface.co/repos/a3/72/a37288fd25de45b6a8bbb79801907289f6c12bb870db68f75b0024193da1f047/ae277c7c5aef0d0fea9e9e6b13113dfef0078a36c78805bebe14d32e9ab887d1?response-content-disposition=attachment%3B+filename*%3DUTF-8%27%27pytorch_model-00005-of-00009.bin%3B+filename%3D%22pytorch_model-00005-of-00009.bin%22%3B&response-content-type=application%2Foctet-stream&Expires=1687153284&Policy=eyJTdGF0ZW1lbnQiOlt7IlJlc291cmNlIjoiaHR0cHM6Ly9jZG4tbGZzLmh1Z2dpbmdmYWNlLmNvL3JlcG9zL2EzLzcyL2EzNzI4OGZkMjVkZTQ1YjZhOGJiYjc5ODAxOTA3Mjg5ZjZjMTJiYjg3MGRiNjhmNzViMDAyNDE5M2RhMWYwNDcvYWUyNzdjN2M1YWVmMGQwZmVhOWU5ZTZiMTMxMTNkZmVmMDA3OGEzNmM3ODgwNWJlYmUxNGQzMmU5YWI4ODdkMT9yZXNwb25zZS1jb250ZW50LWRpc3Bvc2l0aW9uPSomcmVzcG9uc2UtY29udGVudC10eXBlPSoiLCJDb25kaXRpb24iOnsiRGF0ZUxlc3NUaGFuIjp7IkFXUzpFcG9jaFRpbWUiOjE2ODcxNTMyODR9fX1dfQ__&Signature=Mp4keoe7iA%7EvxJAeMz1HmoasNYVLHLOUPGNU-20PfyJeZYtU%7EAyfBQVzOJv-vnieGMyw3282bXXs1uW7QdHw-FCgVEWlgynOcQyddDMTSTgDBFgYyKJuCKGIcdrzomKMjGiYly61xgK0lbwNI7H%7E-i-PLi02YUDozm7sLm63DMhpC4DR6siMYmvd4zDA7bp01riKwgmlz9K0bSPNuHQP7Be4IxAVSM-zAT3Nf7zFRwfZ8GHVz8IqMEWaiTpUPHUNGCeWm7daSp2JKd9wrdj4V4TEK30q8Bf7nhiBQPRAyj91rm1xXBUngMdzqWnsUJzbIgg60fSS-b-7AL3GrfmFng__&Key-Pair-Id=KVTP0A1DKRTAX\n",
            "\n",
            "06/16 05:46:01 [\u001b[1;32mNOTICE\u001b[0m] CUID#16 - Redirecting to https://cdn-lfs.huggingface.co/repos/a3/72/a37288fd25de45b6a8bbb79801907289f6c12bb870db68f75b0024193da1f047/ae277c7c5aef0d0fea9e9e6b13113dfef0078a36c78805bebe14d32e9ab887d1?response-content-disposition=attachment%3B+filename*%3DUTF-8%27%27pytorch_model-00005-of-00009.bin%3B+filename%3D%22pytorch_model-00005-of-00009.bin%22%3B&response-content-type=application%2Foctet-stream&Expires=1687151416&Policy=eyJTdGF0ZW1lbnQiOlt7IlJlc291cmNlIjoiaHR0cHM6Ly9jZG4tbGZzLmh1Z2dpbmdmYWNlLmNvL3JlcG9zL2EzLzcyL2EzNzI4OGZkMjVkZTQ1YjZhOGJiYjc5ODAxOTA3Mjg5ZjZjMTJiYjg3MGRiNjhmNzViMDAyNDE5M2RhMWYwNDcvYWUyNzdjN2M1YWVmMGQwZmVhOWU5ZTZiMTMxMTNkZmVmMDA3OGEzNmM3ODgwNWJlYmUxNGQzMmU5YWI4ODdkMT9yZXNwb25zZS1jb250ZW50LWRpc3Bvc2l0aW9uPSomcmVzcG9uc2UtY29udGVudC10eXBlPSoiLCJDb25kaXRpb24iOnsiRGF0ZUxlc3NUaGFuIjp7IkFXUzpFcG9jaFRpbWUiOjE2ODcxNTE0MTZ9fX1dfQ__&Signature=W-ln6GR5JVDNJrI0UUSL-0cvOZFCVBP77S2Ha6u6LNp7M39P6iKlER0V1VAW-hlqXiSpT8xw%7E69qeAbbQ1GxqMufz9wjmYNt%7ETlPCBEer2mzY99e2Mid3U%7EUC-ljpJrstOnHnKQdWCnFvOOi0tdJrJMoWGsuiOKWgScjobG-Y04Om82y6E0PfDEruFfj-kCvs04zQMi9SG9EO7cEkZ4Ur%7EXgB-IR7uM91arA-MA9Rc3MWD3%7EMQZHkGe6Z4N-A1uyhq7gSNw%7E24mOmvSsO9F1q1BvS8uE2kV4yBdDDYNdagJiOWenYIS7REDztbtM2qkNTJKzmq9a7cakOOzqnsIoxg__&Key-Pair-Id=KVTP0A1DKRTAX\n",
            "\n",
            "06/16 05:46:01 [\u001b[1;32mNOTICE\u001b[0m] CUID#10 - Redirecting to https://cdn-lfs.huggingface.co/repos/a3/72/a37288fd25de45b6a8bbb79801907289f6c12bb870db68f75b0024193da1f047/ae277c7c5aef0d0fea9e9e6b13113dfef0078a36c78805bebe14d32e9ab887d1?response-content-disposition=attachment%3B+filename*%3DUTF-8%27%27pytorch_model-00005-of-00009.bin%3B+filename%3D%22pytorch_model-00005-of-00009.bin%22%3B&response-content-type=application%2Foctet-stream&Expires=1687153562&Policy=eyJTdGF0ZW1lbnQiOlt7IlJlc291cmNlIjoiaHR0cHM6Ly9jZG4tbGZzLmh1Z2dpbmdmYWNlLmNvL3JlcG9zL2EzLzcyL2EzNzI4OGZkMjVkZTQ1YjZhOGJiYjc5ODAxOTA3Mjg5ZjZjMTJiYjg3MGRiNjhmNzViMDAyNDE5M2RhMWYwNDcvYWUyNzdjN2M1YWVmMGQwZmVhOWU5ZTZiMTMxMTNkZmVmMDA3OGEzNmM3ODgwNWJlYmUxNGQzMmU5YWI4ODdkMT9yZXNwb25zZS1jb250ZW50LWRpc3Bvc2l0aW9uPSomcmVzcG9uc2UtY29udGVudC10eXBlPSoiLCJDb25kaXRpb24iOnsiRGF0ZUxlc3NUaGFuIjp7IkFXUzpFcG9jaFRpbWUiOjE2ODcxNTM1NjJ9fX1dfQ__&Signature=KiWq94e1Zf3Ntipl5Nga4DYLLulOM%7ESB07WgtYQstx8YSCTSTaSPOFz1cedpsePz4wUdAPxdbA%7EgNkOp7HQO1aobPfarJWTQzXUkWPxuJDFAkJJxmiUdPl-dRR4TzxbB4HhvkFMBP8tBLt7L6dr%7EcbhhaLlsqyOYzqcYElnFnxuJjNQQrXQlSenpWw40UH6KWYi1eBJi%7EDGWcn6aQ60h0WgHEj641NjA-com3CBfoQPlC8dVWBHGsCx4aBpxRX7656MnedCnVGlnn2kyiNX37s98pZtNxN0mYQIJN50ZRBgawqE0u0OxVGIIDow7IXDqjZz4G7gURmxyAPRwzHAHfg__&Key-Pair-Id=KVTP0A1DKRTAX\n",
            "\n",
            "06/16 05:46:01 [\u001b[1;32mNOTICE\u001b[0m] CUID#18 - Redirecting to https://cdn-lfs.huggingface.co/repos/a3/72/a37288fd25de45b6a8bbb79801907289f6c12bb870db68f75b0024193da1f047/ae277c7c5aef0d0fea9e9e6b13113dfef0078a36c78805bebe14d32e9ab887d1?response-content-disposition=attachment%3B+filename*%3DUTF-8%27%27pytorch_model-00005-of-00009.bin%3B+filename%3D%22pytorch_model-00005-of-00009.bin%22%3B&response-content-type=application%2Foctet-stream&Expires=1687153562&Policy=eyJTdGF0ZW1lbnQiOlt7IlJlc291cmNlIjoiaHR0cHM6Ly9jZG4tbGZzLmh1Z2dpbmdmYWNlLmNvL3JlcG9zL2EzLzcyL2EzNzI4OGZkMjVkZTQ1YjZhOGJiYjc5ODAxOTA3Mjg5ZjZjMTJiYjg3MGRiNjhmNzViMDAyNDE5M2RhMWYwNDcvYWUyNzdjN2M1YWVmMGQwZmVhOWU5ZTZiMTMxMTNkZmVmMDA3OGEzNmM3ODgwNWJlYmUxNGQzMmU5YWI4ODdkMT9yZXNwb25zZS1jb250ZW50LWRpc3Bvc2l0aW9uPSomcmVzcG9uc2UtY29udGVudC10eXBlPSoiLCJDb25kaXRpb24iOnsiRGF0ZUxlc3NUaGFuIjp7IkFXUzpFcG9jaFRpbWUiOjE2ODcxNTM1NjJ9fX1dfQ__&Signature=KiWq94e1Zf3Ntipl5Nga4DYLLulOM%7ESB07WgtYQstx8YSCTSTaSPOFz1cedpsePz4wUdAPxdbA%7EgNkOp7HQO1aobPfarJWTQzXUkWPxuJDFAkJJxmiUdPl-dRR4TzxbB4HhvkFMBP8tBLt7L6dr%7EcbhhaLlsqyOYzqcYElnFnxuJjNQQrXQlSenpWw40UH6KWYi1eBJi%7EDGWcn6aQ60h0WgHEj641NjA-com3CBfoQPlC8dVWBHGsCx4aBpxRX7656MnedCnVGlnn2kyiNX37s98pZtNxN0mYQIJN50ZRBgawqE0u0OxVGIIDow7IXDqjZz4G7gURmxyAPRwzHAHfg__&Key-Pair-Id=KVTP0A1DKRTAX\n",
            "\n",
            "06/16 05:46:01 [\u001b[1;32mNOTICE\u001b[0m] CUID#20 - Redirecting to https://cdn-lfs.huggingface.co/repos/a3/72/a37288fd25de45b6a8bbb79801907289f6c12bb870db68f75b0024193da1f047/ae277c7c5aef0d0fea9e9e6b13113dfef0078a36c78805bebe14d32e9ab887d1?response-content-disposition=attachment%3B+filename*%3DUTF-8%27%27pytorch_model-00005-of-00009.bin%3B+filename%3D%22pytorch_model-00005-of-00009.bin%22%3B&response-content-type=application%2Foctet-stream&Expires=1687153562&Policy=eyJTdGF0ZW1lbnQiOlt7IlJlc291cmNlIjoiaHR0cHM6Ly9jZG4tbGZzLmh1Z2dpbmdmYWNlLmNvL3JlcG9zL2EzLzcyL2EzNzI4OGZkMjVkZTQ1YjZhOGJiYjc5ODAxOTA3Mjg5ZjZjMTJiYjg3MGRiNjhmNzViMDAyNDE5M2RhMWYwNDcvYWUyNzdjN2M1YWVmMGQwZmVhOWU5ZTZiMTMxMTNkZmVmMDA3OGEzNmM3ODgwNWJlYmUxNGQzMmU5YWI4ODdkMT9yZXNwb25zZS1jb250ZW50LWRpc3Bvc2l0aW9uPSomcmVzcG9uc2UtY29udGVudC10eXBlPSoiLCJDb25kaXRpb24iOnsiRGF0ZUxlc3NUaGFuIjp7IkFXUzpFcG9jaFRpbWUiOjE2ODcxNTM1NjJ9fX1dfQ__&Signature=KiWq94e1Zf3Ntipl5Nga4DYLLulOM%7ESB07WgtYQstx8YSCTSTaSPOFz1cedpsePz4wUdAPxdbA%7EgNkOp7HQO1aobPfarJWTQzXUkWPxuJDFAkJJxmiUdPl-dRR4TzxbB4HhvkFMBP8tBLt7L6dr%7EcbhhaLlsqyOYzqcYElnFnxuJjNQQrXQlSenpWw40UH6KWYi1eBJi%7EDGWcn6aQ60h0WgHEj641NjA-com3CBfoQPlC8dVWBHGsCx4aBpxRX7656MnedCnVGlnn2kyiNX37s98pZtNxN0mYQIJN50ZRBgawqE0u0OxVGIIDow7IXDqjZz4G7gURmxyAPRwzHAHfg__&Key-Pair-Id=KVTP0A1DKRTAX\n",
            "\n",
            "06/16 05:46:01 [\u001b[1;32mNOTICE\u001b[0m] CUID#22 - Redirecting to https://cdn-lfs.huggingface.co/repos/a3/72/a37288fd25de45b6a8bbb79801907289f6c12bb870db68f75b0024193da1f047/ae277c7c5aef0d0fea9e9e6b13113dfef0078a36c78805bebe14d32e9ab887d1?response-content-disposition=attachment%3B+filename*%3DUTF-8%27%27pytorch_model-00005-of-00009.bin%3B+filename%3D%22pytorch_model-00005-of-00009.bin%22%3B&response-content-type=application%2Foctet-stream&Expires=1687151416&Policy=eyJTdGF0ZW1lbnQiOlt7IlJlc291cmNlIjoiaHR0cHM6Ly9jZG4tbGZzLmh1Z2dpbmdmYWNlLmNvL3JlcG9zL2EzLzcyL2EzNzI4OGZkMjVkZTQ1YjZhOGJiYjc5ODAxOTA3Mjg5ZjZjMTJiYjg3MGRiNjhmNzViMDAyNDE5M2RhMWYwNDcvYWUyNzdjN2M1YWVmMGQwZmVhOWU5ZTZiMTMxMTNkZmVmMDA3OGEzNmM3ODgwNWJlYmUxNGQzMmU5YWI4ODdkMT9yZXNwb25zZS1jb250ZW50LWRpc3Bvc2l0aW9uPSomcmVzcG9uc2UtY29udGVudC10eXBlPSoiLCJDb25kaXRpb24iOnsiRGF0ZUxlc3NUaGFuIjp7IkFXUzpFcG9jaFRpbWUiOjE2ODcxNTE0MTZ9fX1dfQ__&Signature=W-ln6GR5JVDNJrI0UUSL-0cvOZFCVBP77S2Ha6u6LNp7M39P6iKlER0V1VAW-hlqXiSpT8xw%7E69qeAbbQ1GxqMufz9wjmYNt%7ETlPCBEer2mzY99e2Mid3U%7EUC-ljpJrstOnHnKQdWCnFvOOi0tdJrJMoWGsuiOKWgScjobG-Y04Om82y6E0PfDEruFfj-kCvs04zQMi9SG9EO7cEkZ4Ur%7EXgB-IR7uM91arA-MA9Rc3MWD3%7EMQZHkGe6Z4N-A1uyhq7gSNw%7E24mOmvSsO9F1q1BvS8uE2kV4yBdDDYNdagJiOWenYIS7REDztbtM2qkNTJKzmq9a7cakOOzqnsIoxg__&Key-Pair-Id=KVTP0A1DKRTAX\n",
            "\n",
            "06/16 05:46:01 [\u001b[1;32mNOTICE\u001b[0m] CUID#19 - Redirecting to https://cdn-lfs.huggingface.co/repos/a3/72/a37288fd25de45b6a8bbb79801907289f6c12bb870db68f75b0024193da1f047/ae277c7c5aef0d0fea9e9e6b13113dfef0078a36c78805bebe14d32e9ab887d1?response-content-disposition=attachment%3B+filename*%3DUTF-8%27%27pytorch_model-00005-of-00009.bin%3B+filename%3D%22pytorch_model-00005-of-00009.bin%22%3B&response-content-type=application%2Foctet-stream&Expires=1687153562&Policy=eyJTdGF0ZW1lbnQiOlt7IlJlc291cmNlIjoiaHR0cHM6Ly9jZG4tbGZzLmh1Z2dpbmdmYWNlLmNvL3JlcG9zL2EzLzcyL2EzNzI4OGZkMjVkZTQ1YjZhOGJiYjc5ODAxOTA3Mjg5ZjZjMTJiYjg3MGRiNjhmNzViMDAyNDE5M2RhMWYwNDcvYWUyNzdjN2M1YWVmMGQwZmVhOWU5ZTZiMTMxMTNkZmVmMDA3OGEzNmM3ODgwNWJlYmUxNGQzMmU5YWI4ODdkMT9yZXNwb25zZS1jb250ZW50LWRpc3Bvc2l0aW9uPSomcmVzcG9uc2UtY29udGVudC10eXBlPSoiLCJDb25kaXRpb24iOnsiRGF0ZUxlc3NUaGFuIjp7IkFXUzpFcG9jaFRpbWUiOjE2ODcxNTM1NjJ9fX1dfQ__&Signature=KiWq94e1Zf3Ntipl5Nga4DYLLulOM%7ESB07WgtYQstx8YSCTSTaSPOFz1cedpsePz4wUdAPxdbA%7EgNkOp7HQO1aobPfarJWTQzXUkWPxuJDFAkJJxmiUdPl-dRR4TzxbB4HhvkFMBP8tBLt7L6dr%7EcbhhaLlsqyOYzqcYElnFnxuJjNQQrXQlSenpWw40UH6KWYi1eBJi%7EDGWcn6aQ60h0WgHEj641NjA-com3CBfoQPlC8dVWBHGsCx4aBpxRX7656MnedCnVGlnn2kyiNX37s98pZtNxN0mYQIJN50ZRBgawqE0u0OxVGIIDow7IXDqjZz4G7gURmxyAPRwzHAHfg__&Key-Pair-Id=KVTP0A1DKRTAX\n",
            "\n",
            "06/16 05:46:01 [\u001b[1;32mNOTICE\u001b[0m] CUID#23 - Redirecting to https://cdn-lfs.huggingface.co/repos/a3/72/a37288fd25de45b6a8bbb79801907289f6c12bb870db68f75b0024193da1f047/ae277c7c5aef0d0fea9e9e6b13113dfef0078a36c78805bebe14d32e9ab887d1?response-content-disposition=attachment%3B+filename*%3DUTF-8%27%27pytorch_model-00005-of-00009.bin%3B+filename%3D%22pytorch_model-00005-of-00009.bin%22%3B&response-content-type=application%2Foctet-stream&Expires=1687153562&Policy=eyJTdGF0ZW1lbnQiOlt7IlJlc291cmNlIjoiaHR0cHM6Ly9jZG4tbGZzLmh1Z2dpbmdmYWNlLmNvL3JlcG9zL2EzLzcyL2EzNzI4OGZkMjVkZTQ1YjZhOGJiYjc5ODAxOTA3Mjg5ZjZjMTJiYjg3MGRiNjhmNzViMDAyNDE5M2RhMWYwNDcvYWUyNzdjN2M1YWVmMGQwZmVhOWU5ZTZiMTMxMTNkZmVmMDA3OGEzNmM3ODgwNWJlYmUxNGQzMmU5YWI4ODdkMT9yZXNwb25zZS1jb250ZW50LWRpc3Bvc2l0aW9uPSomcmVzcG9uc2UtY29udGVudC10eXBlPSoiLCJDb25kaXRpb24iOnsiRGF0ZUxlc3NUaGFuIjp7IkFXUzpFcG9jaFRpbWUiOjE2ODcxNTM1NjJ9fX1dfQ__&Signature=KiWq94e1Zf3Ntipl5Nga4DYLLulOM%7ESB07WgtYQstx8YSCTSTaSPOFz1cedpsePz4wUdAPxdbA%7EgNkOp7HQO1aobPfarJWTQzXUkWPxuJDFAkJJxmiUdPl-dRR4TzxbB4HhvkFMBP8tBLt7L6dr%7EcbhhaLlsqyOYzqcYElnFnxuJjNQQrXQlSenpWw40UH6KWYi1eBJi%7EDGWcn6aQ60h0WgHEj641NjA-com3CBfoQPlC8dVWBHGsCx4aBpxRX7656MnedCnVGlnn2kyiNX37s98pZtNxN0mYQIJN50ZRBgawqE0u0OxVGIIDow7IXDqjZz4G7gURmxyAPRwzHAHfg__&Key-Pair-Id=KVTP0A1DKRTAX\n",
            "\u001b[35m[\u001b[0m#6068d0 21MiB/8.8GiB\u001b[36m(0%)\u001b[0m CN:16 DL:\u001b[32m42MiB\u001b[0m ETA:\u001b[33m3m33s\u001b[0m\u001b[35m]\u001b[0m\u001b[0mm\n",
            "06/16 05:46:01 [\u001b[1;32mNOTICE\u001b[0m] CUID#12 - Redirecting to https://cdn-lfs.huggingface.co/repos/a3/72/a37288fd25de45b6a8bbb79801907289f6c12bb870db68f75b0024193da1f047/7af5021fe9afb9b4186a59a91e75aa60570c66fba43390b634387ee54bd73223?response-content-disposition=attachment%3B+filename*%3DUTF-8%27%27pytorch_model-00008-of-00009.bin%3B+filename%3D%22pytorch_model-00008-of-00009.bin%22%3B&response-content-type=application%2Foctet-stream&Expires=1687153562&Policy=eyJTdGF0ZW1lbnQiOlt7IlJlc291cmNlIjoiaHR0cHM6Ly9jZG4tbGZzLmh1Z2dpbmdmYWNlLmNvL3JlcG9zL2EzLzcyL2EzNzI4OGZkMjVkZTQ1YjZhOGJiYjc5ODAxOTA3Mjg5ZjZjMTJiYjg3MGRiNjhmNzViMDAyNDE5M2RhMWYwNDcvN2FmNTAyMWZlOWFmYjliNDE4NmE1OWE5MWU3NWFhNjA1NzBjNjZmYmE0MzM5MGI2MzQzODdlZTU0YmQ3MzIyMz9yZXNwb25zZS1jb250ZW50LWRpc3Bvc2l0aW9uPSomcmVzcG9uc2UtY29udGVudC10eXBlPSoiLCJDb25kaXRpb24iOnsiRGF0ZUxlc3NUaGFuIjp7IkFXUzpFcG9jaFRpbWUiOjE2ODcxNTM1NjJ9fX1dfQ__&Signature=cyN9uLumJ6Rbt7uCpkESJ32pTHBQDUOBCKVNyB%7EpNs66JvaZL0qC01EwENoaRiFSQLRrH1Tb5OpHYvSkldy6a4PnKtZ2xXwPjX5plMmKwaOhw6gqE0VoSDdzJA86abq-bGrLFCzdjchqbYz6Lg3VYPR0eGhmL9oH4oXM8DwWkfi6VWpcj6f2gapGjqWYsHL9VdtpAqihqsa2-HIsCx14Qt2zsENTVhjEAEwohDTytEuQEuyqYvpD6ddfaqMRQpO3LO84J2SJ6OXhDu60qz1CczxjNKRUMMWsjqHoEVv4oso%7EjNXnn%7EgRiHyyPtixxgtbNItMfFhB-Jw2Fd5iJuxxtg__&Key-Pair-Id=KVTP0A1DKRTAX\n",
            "\n",
            "06/16 05:46:01 [\u001b[1;32mNOTICE\u001b[0m] CUID#14 - Redirecting to https://cdn-lfs.huggingface.co/repos/a3/72/a37288fd25de45b6a8bbb79801907289f6c12bb870db68f75b0024193da1f047/7af5021fe9afb9b4186a59a91e75aa60570c66fba43390b634387ee54bd73223?response-content-disposition=attachment%3B+filename*%3DUTF-8%27%27pytorch_model-00008-of-00009.bin%3B+filename%3D%22pytorch_model-00008-of-00009.bin%22%3B&response-content-type=application%2Foctet-stream&Expires=1687153562&Policy=eyJTdGF0ZW1lbnQiOlt7IlJlc291cmNlIjoiaHR0cHM6Ly9jZG4tbGZzLmh1Z2dpbmdmYWNlLmNvL3JlcG9zL2EzLzcyL2EzNzI4OGZkMjVkZTQ1YjZhOGJiYjc5ODAxOTA3Mjg5ZjZjMTJiYjg3MGRiNjhmNzViMDAyNDE5M2RhMWYwNDcvN2FmNTAyMWZlOWFmYjliNDE4NmE1OWE5MWU3NWFhNjA1NzBjNjZmYmE0MzM5MGI2MzQzODdlZTU0YmQ3MzIyMz9yZXNwb25zZS1jb250ZW50LWRpc3Bvc2l0aW9uPSomcmVzcG9uc2UtY29udGVudC10eXBlPSoiLCJDb25kaXRpb24iOnsiRGF0ZUxlc3NUaGFuIjp7IkFXUzpFcG9jaFRpbWUiOjE2ODcxNTM1NjJ9fX1dfQ__&Signature=cyN9uLumJ6Rbt7uCpkESJ32pTHBQDUOBCKVNyB%7EpNs66JvaZL0qC01EwENoaRiFSQLRrH1Tb5OpHYvSkldy6a4PnKtZ2xXwPjX5plMmKwaOhw6gqE0VoSDdzJA86abq-bGrLFCzdjchqbYz6Lg3VYPR0eGhmL9oH4oXM8DwWkfi6VWpcj6f2gapGjqWYsHL9VdtpAqihqsa2-HIsCx14Qt2zsENTVhjEAEwohDTytEuQEuyqYvpD6ddfaqMRQpO3LO84J2SJ6OXhDu60qz1CczxjNKRUMMWsjqHoEVv4oso%7EjNXnn%7EgRiHyyPtixxgtbNItMfFhB-Jw2Fd5iJuxxtg__&Key-Pair-Id=KVTP0A1DKRTAX\n",
            "\n",
            "06/16 05:46:01 [\u001b[1;32mNOTICE\u001b[0m] CUID#23 - Redirecting to https://cdn-lfs.huggingface.co/repos/a3/72/a37288fd25de45b6a8bbb79801907289f6c12bb870db68f75b0024193da1f047/7af5021fe9afb9b4186a59a91e75aa60570c66fba43390b634387ee54bd73223?response-content-disposition=attachment%3B+filename*%3DUTF-8%27%27pytorch_model-00008-of-00009.bin%3B+filename%3D%22pytorch_model-00008-of-00009.bin%22%3B&response-content-type=application%2Foctet-stream&Expires=1687153562&Policy=eyJTdGF0ZW1lbnQiOlt7IlJlc291cmNlIjoiaHR0cHM6Ly9jZG4tbGZzLmh1Z2dpbmdmYWNlLmNvL3JlcG9zL2EzLzcyL2EzNzI4OGZkMjVkZTQ1YjZhOGJiYjc5ODAxOTA3Mjg5ZjZjMTJiYjg3MGRiNjhmNzViMDAyNDE5M2RhMWYwNDcvN2FmNTAyMWZlOWFmYjliNDE4NmE1OWE5MWU3NWFhNjA1NzBjNjZmYmE0MzM5MGI2MzQzODdlZTU0YmQ3MzIyMz9yZXNwb25zZS1jb250ZW50LWRpc3Bvc2l0aW9uPSomcmVzcG9uc2UtY29udGVudC10eXBlPSoiLCJDb25kaXRpb24iOnsiRGF0ZUxlc3NUaGFuIjp7IkFXUzpFcG9jaFRpbWUiOjE2ODcxNTM1NjJ9fX1dfQ__&Signature=cyN9uLumJ6Rbt7uCpkESJ32pTHBQDUOBCKVNyB%7EpNs66JvaZL0qC01EwENoaRiFSQLRrH1Tb5OpHYvSkldy6a4PnKtZ2xXwPjX5plMmKwaOhw6gqE0VoSDdzJA86abq-bGrLFCzdjchqbYz6Lg3VYPR0eGhmL9oH4oXM8DwWkfi6VWpcj6f2gapGjqWYsHL9VdtpAqihqsa2-HIsCx14Qt2zsENTVhjEAEwohDTytEuQEuyqYvpD6ddfaqMRQpO3LO84J2SJ6OXhDu60qz1CczxjNKRUMMWsjqHoEVv4oso%7EjNXnn%7EgRiHyyPtixxgtbNItMfFhB-Jw2Fd5iJuxxtg__&Key-Pair-Id=KVTP0A1DKRTAX\n",
            "\n",
            "06/16 05:46:01 [\u001b[1;32mNOTICE\u001b[0m] CUID#10 - Redirecting to https://cdn-lfs.huggingface.co/repos/a3/72/a37288fd25de45b6a8bbb79801907289f6c12bb870db68f75b0024193da1f047/7af5021fe9afb9b4186a59a91e75aa60570c66fba43390b634387ee54bd73223?response-content-disposition=attachment%3B+filename*%3DUTF-8%27%27pytorch_model-00008-of-00009.bin%3B+filename%3D%22pytorch_model-00008-of-00009.bin%22%3B&response-content-type=application%2Foctet-stream&Expires=1687153562&Policy=eyJTdGF0ZW1lbnQiOlt7IlJlc291cmNlIjoiaHR0cHM6Ly9jZG4tbGZzLmh1Z2dpbmdmYWNlLmNvL3JlcG9zL2EzLzcyL2EzNzI4OGZkMjVkZTQ1YjZhOGJiYjc5ODAxOTA3Mjg5ZjZjMTJiYjg3MGRiNjhmNzViMDAyNDE5M2RhMWYwNDcvN2FmNTAyMWZlOWFmYjliNDE4NmE1OWE5MWU3NWFhNjA1NzBjNjZmYmE0MzM5MGI2MzQzODdlZTU0YmQ3MzIyMz9yZXNwb25zZS1jb250ZW50LWRpc3Bvc2l0aW9uPSomcmVzcG9uc2UtY29udGVudC10eXBlPSoiLCJDb25kaXRpb24iOnsiRGF0ZUxlc3NUaGFuIjp7IkFXUzpFcG9jaFRpbWUiOjE2ODcxNTM1NjJ9fX1dfQ__&Signature=cyN9uLumJ6Rbt7uCpkESJ32pTHBQDUOBCKVNyB%7EpNs66JvaZL0qC01EwENoaRiFSQLRrH1Tb5OpHYvSkldy6a4PnKtZ2xXwPjX5plMmKwaOhw6gqE0VoSDdzJA86abq-bGrLFCzdjchqbYz6Lg3VYPR0eGhmL9oH4oXM8DwWkfi6VWpcj6f2gapGjqWYsHL9VdtpAqihqsa2-HIsCx14Qt2zsENTVhjEAEwohDTytEuQEuyqYvpD6ddfaqMRQpO3LO84J2SJ6OXhDu60qz1CczxjNKRUMMWsjqHoEVv4oso%7EjNXnn%7EgRiHyyPtixxgtbNItMfFhB-Jw2Fd5iJuxxtg__&Key-Pair-Id=KVTP0A1DKRTAX\n",
            "\n",
            "06/16 05:46:01 [\u001b[1;32mNOTICE\u001b[0m] CUID#20 - Redirecting to https://cdn-lfs.huggingface.co/repos/a3/72/a37288fd25de45b6a8bbb79801907289f6c12bb870db68f75b0024193da1f047/7af5021fe9afb9b4186a59a91e75aa60570c66fba43390b634387ee54bd73223?response-content-disposition=attachment%3B+filename*%3DUTF-8%27%27pytorch_model-00008-of-00009.bin%3B+filename%3D%22pytorch_model-00008-of-00009.bin%22%3B&response-content-type=application%2Foctet-stream&Expires=1687153562&Policy=eyJTdGF0ZW1lbnQiOlt7IlJlc291cmNlIjoiaHR0cHM6Ly9jZG4tbGZzLmh1Z2dpbmdmYWNlLmNvL3JlcG9zL2EzLzcyL2EzNzI4OGZkMjVkZTQ1YjZhOGJiYjc5ODAxOTA3Mjg5ZjZjMTJiYjg3MGRiNjhmNzViMDAyNDE5M2RhMWYwNDcvN2FmNTAyMWZlOWFmYjliNDE4NmE1OWE5MWU3NWFhNjA1NzBjNjZmYmE0MzM5MGI2MzQzODdlZTU0YmQ3MzIyMz9yZXNwb25zZS1jb250ZW50LWRpc3Bvc2l0aW9uPSomcmVzcG9uc2UtY29udGVudC10eXBlPSoiLCJDb25kaXRpb24iOnsiRGF0ZUxlc3NUaGFuIjp7IkFXUzpFcG9jaFRpbWUiOjE2ODcxNTM1NjJ9fX1dfQ__&Signature=cyN9uLumJ6Rbt7uCpkESJ32pTHBQDUOBCKVNyB%7EpNs66JvaZL0qC01EwENoaRiFSQLRrH1Tb5OpHYvSkldy6a4PnKtZ2xXwPjX5plMmKwaOhw6gqE0VoSDdzJA86abq-bGrLFCzdjchqbYz6Lg3VYPR0eGhmL9oH4oXM8DwWkfi6VWpcj6f2gapGjqWYsHL9VdtpAqihqsa2-HIsCx14Qt2zsENTVhjEAEwohDTytEuQEuyqYvpD6ddfaqMRQpO3LO84J2SJ6OXhDu60qz1CczxjNKRUMMWsjqHoEVv4oso%7EjNXnn%7EgRiHyyPtixxgtbNItMfFhB-Jw2Fd5iJuxxtg__&Key-Pair-Id=KVTP0A1DKRTAX\n",
            "\n",
            "06/16 05:46:01 [\u001b[1;32mNOTICE\u001b[0m] CUID#15 - Redirecting to https://cdn-lfs.huggingface.co/repos/a3/72/a37288fd25de45b6a8bbb79801907289f6c12bb870db68f75b0024193da1f047/7af5021fe9afb9b4186a59a91e75aa60570c66fba43390b634387ee54bd73223?response-content-disposition=attachment%3B+filename*%3DUTF-8%27%27pytorch_model-00008-of-00009.bin%3B+filename%3D%22pytorch_model-00008-of-00009.bin%22%3B&response-content-type=application%2Foctet-stream&Expires=1687153561&Policy=eyJTdGF0ZW1lbnQiOlt7IlJlc291cmNlIjoiaHR0cHM6Ly9jZG4tbGZzLmh1Z2dpbmdmYWNlLmNvL3JlcG9zL2EzLzcyL2EzNzI4OGZkMjVkZTQ1YjZhOGJiYjc5ODAxOTA3Mjg5ZjZjMTJiYjg3MGRiNjhmNzViMDAyNDE5M2RhMWYwNDcvN2FmNTAyMWZlOWFmYjliNDE4NmE1OWE5MWU3NWFhNjA1NzBjNjZmYmE0MzM5MGI2MzQzODdlZTU0YmQ3MzIyMz9yZXNwb25zZS1jb250ZW50LWRpc3Bvc2l0aW9uPSomcmVzcG9uc2UtY29udGVudC10eXBlPSoiLCJDb25kaXRpb24iOnsiRGF0ZUxlc3NUaGFuIjp7IkFXUzpFcG9jaFRpbWUiOjE2ODcxNTM1NjF9fX1dfQ__&Signature=SAWHuFd6vX87uAM8obUh2j58rWoEhvAHU77qs44oYLtVosUqiJd2VJhvFdpWIE0sM4aSQDQ-0MSJSmZn67%7E9tx2JO97S8yZzQ55F-bcYneWe6DFGAHVE0at9TxEknES1ckEuRc7nenBh2I3%7EOnafTOuMlNP0cvJGI%7EVenL4VRR4VCATgFDW8R6ZQJWau8QzZn%7ExvGLl8gPEMP86BkwJwjc4R%7EiC4MCxu0gFnGUHt21BMoeIgWGhAHEH6w1A9Jye9GD0U0JiPIFcUgd9BGlg-7f22DTFurnmzzsrcL2qS8TyRE95SelaCvrFUVXnqMPahozfFDEbfqsGS9Pz3QZKe%7Ew__&Key-Pair-Id=KVTP0A1DKRTAX\n",
            "\n",
            "06/16 05:46:01 [\u001b[1;32mNOTICE\u001b[0m] CUID#16 - Redirecting to https://cdn-lfs.huggingface.co/repos/a3/72/a37288fd25de45b6a8bbb79801907289f6c12bb870db68f75b0024193da1f047/7af5021fe9afb9b4186a59a91e75aa60570c66fba43390b634387ee54bd73223?response-content-disposition=attachment%3B+filename*%3DUTF-8%27%27pytorch_model-00008-of-00009.bin%3B+filename%3D%22pytorch_model-00008-of-00009.bin%22%3B&response-content-type=application%2Foctet-stream&Expires=1687153562&Policy=eyJTdGF0ZW1lbnQiOlt7IlJlc291cmNlIjoiaHR0cHM6Ly9jZG4tbGZzLmh1Z2dpbmdmYWNlLmNvL3JlcG9zL2EzLzcyL2EzNzI4OGZkMjVkZTQ1YjZhOGJiYjc5ODAxOTA3Mjg5ZjZjMTJiYjg3MGRiNjhmNzViMDAyNDE5M2RhMWYwNDcvN2FmNTAyMWZlOWFmYjliNDE4NmE1OWE5MWU3NWFhNjA1NzBjNjZmYmE0MzM5MGI2MzQzODdlZTU0YmQ3MzIyMz9yZXNwb25zZS1jb250ZW50LWRpc3Bvc2l0aW9uPSomcmVzcG9uc2UtY29udGVudC10eXBlPSoiLCJDb25kaXRpb24iOnsiRGF0ZUxlc3NUaGFuIjp7IkFXUzpFcG9jaFRpbWUiOjE2ODcxNTM1NjJ9fX1dfQ__&Signature=cyN9uLumJ6Rbt7uCpkESJ32pTHBQDUOBCKVNyB%7EpNs66JvaZL0qC01EwENoaRiFSQLRrH1Tb5OpHYvSkldy6a4PnKtZ2xXwPjX5plMmKwaOhw6gqE0VoSDdzJA86abq-bGrLFCzdjchqbYz6Lg3VYPR0eGhmL9oH4oXM8DwWkfi6VWpcj6f2gapGjqWYsHL9VdtpAqihqsa2-HIsCx14Qt2zsENTVhjEAEwohDTytEuQEuyqYvpD6ddfaqMRQpO3LO84J2SJ6OXhDu60qz1CczxjNKRUMMWsjqHoEVv4oso%7EjNXnn%7EgRiHyyPtixxgtbNItMfFhB-Jw2Fd5iJuxxtg__&Key-Pair-Id=KVTP0A1DKRTAX\n",
            "\n",
            "06/16 05:46:01 [\u001b[1;32mNOTICE\u001b[0m] CUID#13 - Redirecting to https://cdn-lfs.huggingface.co/repos/a3/72/a37288fd25de45b6a8bbb79801907289f6c12bb870db68f75b0024193da1f047/7af5021fe9afb9b4186a59a91e75aa60570c66fba43390b634387ee54bd73223?response-content-disposition=attachment%3B+filename*%3DUTF-8%27%27pytorch_model-00008-of-00009.bin%3B+filename%3D%22pytorch_model-00008-of-00009.bin%22%3B&response-content-type=application%2Foctet-stream&Expires=1687153562&Policy=eyJTdGF0ZW1lbnQiOlt7IlJlc291cmNlIjoiaHR0cHM6Ly9jZG4tbGZzLmh1Z2dpbmdmYWNlLmNvL3JlcG9zL2EzLzcyL2EzNzI4OGZkMjVkZTQ1YjZhOGJiYjc5ODAxOTA3Mjg5ZjZjMTJiYjg3MGRiNjhmNzViMDAyNDE5M2RhMWYwNDcvN2FmNTAyMWZlOWFmYjliNDE4NmE1OWE5MWU3NWFhNjA1NzBjNjZmYmE0MzM5MGI2MzQzODdlZTU0YmQ3MzIyMz9yZXNwb25zZS1jb250ZW50LWRpc3Bvc2l0aW9uPSomcmVzcG9uc2UtY29udGVudC10eXBlPSoiLCJDb25kaXRpb24iOnsiRGF0ZUxlc3NUaGFuIjp7IkFXUzpFcG9jaFRpbWUiOjE2ODcxNTM1NjJ9fX1dfQ__&Signature=cyN9uLumJ6Rbt7uCpkESJ32pTHBQDUOBCKVNyB%7EpNs66JvaZL0qC01EwENoaRiFSQLRrH1Tb5OpHYvSkldy6a4PnKtZ2xXwPjX5plMmKwaOhw6gqE0VoSDdzJA86abq-bGrLFCzdjchqbYz6Lg3VYPR0eGhmL9oH4oXM8DwWkfi6VWpcj6f2gapGjqWYsHL9VdtpAqihqsa2-HIsCx14Qt2zsENTVhjEAEwohDTytEuQEuyqYvpD6ddfaqMRQpO3LO84J2SJ6OXhDu60qz1CczxjNKRUMMWsjqHoEVv4oso%7EjNXnn%7EgRiHyyPtixxgtbNItMfFhB-Jw2Fd5iJuxxtg__&Key-Pair-Id=KVTP0A1DKRTAX\n",
            "\n",
            "06/16 05:46:01 [\u001b[1;32mNOTICE\u001b[0m] CUID#17 - Redirecting to https://cdn-lfs.huggingface.co/repos/a3/72/a37288fd25de45b6a8bbb79801907289f6c12bb870db68f75b0024193da1f047/7af5021fe9afb9b4186a59a91e75aa60570c66fba43390b634387ee54bd73223?response-content-disposition=attachment%3B+filename*%3DUTF-8%27%27pytorch_model-00008-of-00009.bin%3B+filename%3D%22pytorch_model-00008-of-00009.bin%22%3B&response-content-type=application%2Foctet-stream&Expires=1687153562&Policy=eyJTdGF0ZW1lbnQiOlt7IlJlc291cmNlIjoiaHR0cHM6Ly9jZG4tbGZzLmh1Z2dpbmdmYWNlLmNvL3JlcG9zL2EzLzcyL2EzNzI4OGZkMjVkZTQ1YjZhOGJiYjc5ODAxOTA3Mjg5ZjZjMTJiYjg3MGRiNjhmNzViMDAyNDE5M2RhMWYwNDcvN2FmNTAyMWZlOWFmYjliNDE4NmE1OWE5MWU3NWFhNjA1NzBjNjZmYmE0MzM5MGI2MzQzODdlZTU0YmQ3MzIyMz9yZXNwb25zZS1jb250ZW50LWRpc3Bvc2l0aW9uPSomcmVzcG9uc2UtY29udGVudC10eXBlPSoiLCJDb25kaXRpb24iOnsiRGF0ZUxlc3NUaGFuIjp7IkFXUzpFcG9jaFRpbWUiOjE2ODcxNTM1NjJ9fX1dfQ__&Signature=cyN9uLumJ6Rbt7uCpkESJ32pTHBQDUOBCKVNyB%7EpNs66JvaZL0qC01EwENoaRiFSQLRrH1Tb5OpHYvSkldy6a4PnKtZ2xXwPjX5plMmKwaOhw6gqE0VoSDdzJA86abq-bGrLFCzdjchqbYz6Lg3VYPR0eGhmL9oH4oXM8DwWkfi6VWpcj6f2gapGjqWYsHL9VdtpAqihqsa2-HIsCx14Qt2zsENTVhjEAEwohDTytEuQEuyqYvpD6ddfaqMRQpO3LO84J2SJ6OXhDu60qz1CczxjNKRUMMWsjqHoEVv4oso%7EjNXnn%7EgRiHyyPtixxgtbNItMfFhB-Jw2Fd5iJuxxtg__&Key-Pair-Id=KVTP0A1DKRTAX\n",
            "\n",
            "06/16 05:46:01 [\u001b[1;32mNOTICE\u001b[0m] CUID#18 - Redirecting to https://cdn-lfs.huggingface.co/repos/a3/72/a37288fd25de45b6a8bbb79801907289f6c12bb870db68f75b0024193da1f047/7af5021fe9afb9b4186a59a91e75aa60570c66fba43390b634387ee54bd73223?response-content-disposition=attachment%3B+filename*%3DUTF-8%27%27pytorch_model-00008-of-00009.bin%3B+filename%3D%22pytorch_model-00008-of-00009.bin%22%3B&response-content-type=application%2Foctet-stream&Expires=1687153562&Policy=eyJTdGF0ZW1lbnQiOlt7IlJlc291cmNlIjoiaHR0cHM6Ly9jZG4tbGZzLmh1Z2dpbmdmYWNlLmNvL3JlcG9zL2EzLzcyL2EzNzI4OGZkMjVkZTQ1YjZhOGJiYjc5ODAxOTA3Mjg5ZjZjMTJiYjg3MGRiNjhmNzViMDAyNDE5M2RhMWYwNDcvN2FmNTAyMWZlOWFmYjliNDE4NmE1OWE5MWU3NWFhNjA1NzBjNjZmYmE0MzM5MGI2MzQzODdlZTU0YmQ3MzIyMz9yZXNwb25zZS1jb250ZW50LWRpc3Bvc2l0aW9uPSomcmVzcG9uc2UtY29udGVudC10eXBlPSoiLCJDb25kaXRpb24iOnsiRGF0ZUxlc3NUaGFuIjp7IkFXUzpFcG9jaFRpbWUiOjE2ODcxNTM1NjJ9fX1dfQ__&Signature=cyN9uLumJ6Rbt7uCpkESJ32pTHBQDUOBCKVNyB%7EpNs66JvaZL0qC01EwENoaRiFSQLRrH1Tb5OpHYvSkldy6a4PnKtZ2xXwPjX5plMmKwaOhw6gqE0VoSDdzJA86abq-bGrLFCzdjchqbYz6Lg3VYPR0eGhmL9oH4oXM8DwWkfi6VWpcj6f2gapGjqWYsHL9VdtpAqihqsa2-HIsCx14Qt2zsENTVhjEAEwohDTytEuQEuyqYvpD6ddfaqMRQpO3LO84J2SJ6OXhDu60qz1CczxjNKRUMMWsjqHoEVv4oso%7EjNXnn%7EgRiHyyPtixxgtbNItMfFhB-Jw2Fd5iJuxxtg__&Key-Pair-Id=KVTP0A1DKRTAX\n",
            "\n",
            "06/16 05:46:01 [\u001b[1;32mNOTICE\u001b[0m] CUID#19 - Redirecting to https://cdn-lfs.huggingface.co/repos/a3/72/a37288fd25de45b6a8bbb79801907289f6c12bb870db68f75b0024193da1f047/7af5021fe9afb9b4186a59a91e75aa60570c66fba43390b634387ee54bd73223?response-content-disposition=attachment%3B+filename*%3DUTF-8%27%27pytorch_model-00008-of-00009.bin%3B+filename%3D%22pytorch_model-00008-of-00009.bin%22%3B&response-content-type=application%2Foctet-stream&Expires=1687153562&Policy=eyJTdGF0ZW1lbnQiOlt7IlJlc291cmNlIjoiaHR0cHM6Ly9jZG4tbGZzLmh1Z2dpbmdmYWNlLmNvL3JlcG9zL2EzLzcyL2EzNzI4OGZkMjVkZTQ1YjZhOGJiYjc5ODAxOTA3Mjg5ZjZjMTJiYjg3MGRiNjhmNzViMDAyNDE5M2RhMWYwNDcvN2FmNTAyMWZlOWFmYjliNDE4NmE1OWE5MWU3NWFhNjA1NzBjNjZmYmE0MzM5MGI2MzQzODdlZTU0YmQ3MzIyMz9yZXNwb25zZS1jb250ZW50LWRpc3Bvc2l0aW9uPSomcmVzcG9uc2UtY29udGVudC10eXBlPSoiLCJDb25kaXRpb24iOnsiRGF0ZUxlc3NUaGFuIjp7IkFXUzpFcG9jaFRpbWUiOjE2ODcxNTM1NjJ9fX1dfQ__&Signature=cyN9uLumJ6Rbt7uCpkESJ32pTHBQDUOBCKVNyB%7EpNs66JvaZL0qC01EwENoaRiFSQLRrH1Tb5OpHYvSkldy6a4PnKtZ2xXwPjX5plMmKwaOhw6gqE0VoSDdzJA86abq-bGrLFCzdjchqbYz6Lg3VYPR0eGhmL9oH4oXM8DwWkfi6VWpcj6f2gapGjqWYsHL9VdtpAqihqsa2-HIsCx14Qt2zsENTVhjEAEwohDTytEuQEuyqYvpD6ddfaqMRQpO3LO84J2SJ6OXhDu60qz1CczxjNKRUMMWsjqHoEVv4oso%7EjNXnn%7EgRiHyyPtixxgtbNItMfFhB-Jw2Fd5iJuxxtg__&Key-Pair-Id=KVTP0A1DKRTAX\n",
            "\n",
            "06/16 05:46:01 [\u001b[1;32mNOTICE\u001b[0m] CUID#21 - Redirecting to https://cdn-lfs.huggingface.co/repos/a3/72/a37288fd25de45b6a8bbb79801907289f6c12bb870db68f75b0024193da1f047/7af5021fe9afb9b4186a59a91e75aa60570c66fba43390b634387ee54bd73223?response-content-disposition=attachment%3B+filename*%3DUTF-8%27%27pytorch_model-00008-of-00009.bin%3B+filename%3D%22pytorch_model-00008-of-00009.bin%22%3B&response-content-type=application%2Foctet-stream&Expires=1687153562&Policy=eyJTdGF0ZW1lbnQiOlt7IlJlc291cmNlIjoiaHR0cHM6Ly9jZG4tbGZzLmh1Z2dpbmdmYWNlLmNvL3JlcG9zL2EzLzcyL2EzNzI4OGZkMjVkZTQ1YjZhOGJiYjc5ODAxOTA3Mjg5ZjZjMTJiYjg3MGRiNjhmNzViMDAyNDE5M2RhMWYwNDcvN2FmNTAyMWZlOWFmYjliNDE4NmE1OWE5MWU3NWFhNjA1NzBjNjZmYmE0MzM5MGI2MzQzODdlZTU0YmQ3MzIyMz9yZXNwb25zZS1jb250ZW50LWRpc3Bvc2l0aW9uPSomcmVzcG9uc2UtY29udGVudC10eXBlPSoiLCJDb25kaXRpb24iOnsiRGF0ZUxlc3NUaGFuIjp7IkFXUzpFcG9jaFRpbWUiOjE2ODcxNTM1NjJ9fX1dfQ__&Signature=cyN9uLumJ6Rbt7uCpkESJ32pTHBQDUOBCKVNyB%7EpNs66JvaZL0qC01EwENoaRiFSQLRrH1Tb5OpHYvSkldy6a4PnKtZ2xXwPjX5plMmKwaOhw6gqE0VoSDdzJA86abq-bGrLFCzdjchqbYz6Lg3VYPR0eGhmL9oH4oXM8DwWkfi6VWpcj6f2gapGjqWYsHL9VdtpAqihqsa2-HIsCx14Qt2zsENTVhjEAEwohDTytEuQEuyqYvpD6ddfaqMRQpO3LO84J2SJ6OXhDu60qz1CczxjNKRUMMWsjqHoEVv4oso%7EjNXnn%7EgRiHyyPtixxgtbNItMfFhB-Jw2Fd5iJuxxtg__&Key-Pair-Id=KVTP0A1DKRTAX\n",
            "\n",
            "06/16 05:46:01 [\u001b[1;32mNOTICE\u001b[0m] CUID#22 - Redirecting to https://cdn-lfs.huggingface.co/repos/a3/72/a37288fd25de45b6a8bbb79801907289f6c12bb870db68f75b0024193da1f047/7af5021fe9afb9b4186a59a91e75aa60570c66fba43390b634387ee54bd73223?response-content-disposition=attachment%3B+filename*%3DUTF-8%27%27pytorch_model-00008-of-00009.bin%3B+filename%3D%22pytorch_model-00008-of-00009.bin%22%3B&response-content-type=application%2Foctet-stream&Expires=1687153562&Policy=eyJTdGF0ZW1lbnQiOlt7IlJlc291cmNlIjoiaHR0cHM6Ly9jZG4tbGZzLmh1Z2dpbmdmYWNlLmNvL3JlcG9zL2EzLzcyL2EzNzI4OGZkMjVkZTQ1YjZhOGJiYjc5ODAxOTA3Mjg5ZjZjMTJiYjg3MGRiNjhmNzViMDAyNDE5M2RhMWYwNDcvN2FmNTAyMWZlOWFmYjliNDE4NmE1OWE5MWU3NWFhNjA1NzBjNjZmYmE0MzM5MGI2MzQzODdlZTU0YmQ3MzIyMz9yZXNwb25zZS1jb250ZW50LWRpc3Bvc2l0aW9uPSomcmVzcG9uc2UtY29udGVudC10eXBlPSoiLCJDb25kaXRpb24iOnsiRGF0ZUxlc3NUaGFuIjp7IkFXUzpFcG9jaFRpbWUiOjE2ODcxNTM1NjJ9fX1dfQ__&Signature=cyN9uLumJ6Rbt7uCpkESJ32pTHBQDUOBCKVNyB%7EpNs66JvaZL0qC01EwENoaRiFSQLRrH1Tb5OpHYvSkldy6a4PnKtZ2xXwPjX5plMmKwaOhw6gqE0VoSDdzJA86abq-bGrLFCzdjchqbYz6Lg3VYPR0eGhmL9oH4oXM8DwWkfi6VWpcj6f2gapGjqWYsHL9VdtpAqihqsa2-HIsCx14Qt2zsENTVhjEAEwohDTytEuQEuyqYvpD6ddfaqMRQpO3LO84J2SJ6OXhDu60qz1CczxjNKRUMMWsjqHoEVv4oso%7EjNXnn%7EgRiHyyPtixxgtbNItMfFhB-Jw2Fd5iJuxxtg__&Key-Pair-Id=KVTP0A1DKRTAX\n",
            "\n",
            "06/16 05:46:01 [\u001b[1;32mNOTICE\u001b[0m] CUID#20 - Redirecting to https://cdn-lfs.huggingface.co/repos/a3/72/a37288fd25de45b6a8bbb79801907289f6c12bb870db68f75b0024193da1f047/d6376a884bc80a6ea95da83f963508e57d8508333c424bed7beda565e4aaa0f3?response-content-disposition=attachment%3B+filename*%3DUTF-8%27%27pytorch_model-00006-of-00009.bin%3B+filename%3D%22pytorch_model-00006-of-00009.bin%22%3B&response-content-type=application%2Foctet-stream&Expires=1687153561&Policy=eyJTdGF0ZW1lbnQiOlt7IlJlc291cmNlIjoiaHR0cHM6Ly9jZG4tbGZzLmh1Z2dpbmdmYWNlLmNvL3JlcG9zL2EzLzcyL2EzNzI4OGZkMjVkZTQ1YjZhOGJiYjc5ODAxOTA3Mjg5ZjZjMTJiYjg3MGRiNjhmNzViMDAyNDE5M2RhMWYwNDcvZDYzNzZhODg0YmM4MGE2ZWE5NWRhODNmOTYzNTA4ZTU3ZDg1MDgzMzNjNDI0YmVkN2JlZGE1NjVlNGFhYTBmMz9yZXNwb25zZS1jb250ZW50LWRpc3Bvc2l0aW9uPSomcmVzcG9uc2UtY29udGVudC10eXBlPSoiLCJDb25kaXRpb24iOnsiRGF0ZUxlc3NUaGFuIjp7IkFXUzpFcG9jaFRpbWUiOjE2ODcxNTM1NjF9fX1dfQ__&Signature=ntw8OyVxaP5xy4ZfnDAjS1A-oRCBJXvzxyaDnSvXB9OBVeYwIL3PDxb%7EqMP7GsDjeItpkT4qYHkMCaXFD7V7PVkXU3Iv5Gg4EJ-nh--h3-ueT2pLR2aEEzurxt1rir%7EzK6oXm0546iZLYjzRhxQlAqfbdc38YXvUmJA-thJxwyzWfg8LO0e7oUrhceD8bK8qnP8xcdf7aXHH15cS3p%7EqscnGamJOl7ueSY%7EpzBq521QI9HeGOA-YVErtGUP7KvrcgYRcVa0LHNPl8qc8giszj2wVisf%7E9FOxrB1Ahvqn29Paqjb1eTQVVD0Yeg4ZuDQLzYscswMf%7EDgax2BzY-ZRYA__&Key-Pair-Id=KVTP0A1DKRTAX\n",
            "\n",
            "06/16 05:46:01 [\u001b[1;32mNOTICE\u001b[0m] CUID#21 - Redirecting to https://cdn-lfs.huggingface.co/repos/a3/72/a37288fd25de45b6a8bbb79801907289f6c12bb870db68f75b0024193da1f047/ae277c7c5aef0d0fea9e9e6b13113dfef0078a36c78805bebe14d32e9ab887d1?response-content-disposition=attachment%3B+filename*%3DUTF-8%27%27pytorch_model-00005-of-00009.bin%3B+filename%3D%22pytorch_model-00005-of-00009.bin%22%3B&response-content-type=application%2Foctet-stream&Expires=1687153562&Policy=eyJTdGF0ZW1lbnQiOlt7IlJlc291cmNlIjoiaHR0cHM6Ly9jZG4tbGZzLmh1Z2dpbmdmYWNlLmNvL3JlcG9zL2EzLzcyL2EzNzI4OGZkMjVkZTQ1YjZhOGJiYjc5ODAxOTA3Mjg5ZjZjMTJiYjg3MGRiNjhmNzViMDAyNDE5M2RhMWYwNDcvYWUyNzdjN2M1YWVmMGQwZmVhOWU5ZTZiMTMxMTNkZmVmMDA3OGEzNmM3ODgwNWJlYmUxNGQzMmU5YWI4ODdkMT9yZXNwb25zZS1jb250ZW50LWRpc3Bvc2l0aW9uPSomcmVzcG9uc2UtY29udGVudC10eXBlPSoiLCJDb25kaXRpb24iOnsiRGF0ZUxlc3NUaGFuIjp7IkFXUzpFcG9jaFRpbWUiOjE2ODcxNTM1NjJ9fX1dfQ__&Signature=KiWq94e1Zf3Ntipl5Nga4DYLLulOM%7ESB07WgtYQstx8YSCTSTaSPOFz1cedpsePz4wUdAPxdbA%7EgNkOp7HQO1aobPfarJWTQzXUkWPxuJDFAkJJxmiUdPl-dRR4TzxbB4HhvkFMBP8tBLt7L6dr%7EcbhhaLlsqyOYzqcYElnFnxuJjNQQrXQlSenpWw40UH6KWYi1eBJi%7EDGWcn6aQ60h0WgHEj641NjA-com3CBfoQPlC8dVWBHGsCx4aBpxRX7656MnedCnVGlnn2kyiNX37s98pZtNxN0mYQIJN50ZRBgawqE0u0OxVGIIDow7IXDqjZz4G7gURmxyAPRwzHAHfg__&Key-Pair-Id=KVTP0A1DKRTAX\n",
            "\n",
            "06/16 05:46:01 [\u001b[1;32mNOTICE\u001b[0m] CUID#13 - Redirecting to https://cdn-lfs.huggingface.co/repos/a3/72/a37288fd25de45b6a8bbb79801907289f6c12bb870db68f75b0024193da1f047/ae277c7c5aef0d0fea9e9e6b13113dfef0078a36c78805bebe14d32e9ab887d1?response-content-disposition=attachment%3B+filename*%3DUTF-8%27%27pytorch_model-00005-of-00009.bin%3B+filename%3D%22pytorch_model-00005-of-00009.bin%22%3B&response-content-type=application%2Foctet-stream&Expires=1687153561&Policy=eyJTdGF0ZW1lbnQiOlt7IlJlc291cmNlIjoiaHR0cHM6Ly9jZG4tbGZzLmh1Z2dpbmdmYWNlLmNvL3JlcG9zL2EzLzcyL2EzNzI4OGZkMjVkZTQ1YjZhOGJiYjc5ODAxOTA3Mjg5ZjZjMTJiYjg3MGRiNjhmNzViMDAyNDE5M2RhMWYwNDcvYWUyNzdjN2M1YWVmMGQwZmVhOWU5ZTZiMTMxMTNkZmVmMDA3OGEzNmM3ODgwNWJlYmUxNGQzMmU5YWI4ODdkMT9yZXNwb25zZS1jb250ZW50LWRpc3Bvc2l0aW9uPSomcmVzcG9uc2UtY29udGVudC10eXBlPSoiLCJDb25kaXRpb24iOnsiRGF0ZUxlc3NUaGFuIjp7IkFXUzpFcG9jaFRpbWUiOjE2ODcxNTM1NjF9fX1dfQ__&Signature=fyOwWj8kL3xA4h4-DgFiz50VNncaq989TMc0tW-UdvqQ9uVdu7UaoGfGFP8EaGVRxLMzQPFJH2BSfHaDY%7E9oujFsmxbm93bbzYT8n5D7h18lKWczONn-ayzGI98gI3vWtGrDn6995sHaI6UN2XVzhuf%7EIacaPaHgclcM1NzPVNcAs1sxV3n%7E5XBlU3UTtsCuWuTDaybKlKlEUYz4-1twoiwxXeUQBXyxfxVAjuUewgUBBohU8No36mD0vEhW1gHO7VRHxjl8nJPB3P12qic6SZPKFOIYvq8rJDpzz1LeBfsHX8WxiXGLkkfLGtkHMQ75j5JUuz5LB7fTitiGBdKUtA__&Key-Pair-Id=KVTP0A1DKRTAX\n",
            "\n",
            "06/16 05:46:01 [\u001b[1;32mNOTICE\u001b[0m] CUID#9 - Redirecting to https://cdn-lfs.huggingface.co/repos/a3/72/a37288fd25de45b6a8bbb79801907289f6c12bb870db68f75b0024193da1f047/2fc011e39d4a9c5958630b1bb946dec9ca54adbccc52804fed545490f995b20b?response-content-disposition=attachment%3B+filename*%3DUTF-8%27%27pytorch_model-00004-of-00009.bin%3B+filename%3D%22pytorch_model-00004-of-00009.bin%22%3B&response-content-type=application%2Foctet-stream&Expires=1687153561&Policy=eyJTdGF0ZW1lbnQiOlt7IlJlc291cmNlIjoiaHR0cHM6Ly9jZG4tbGZzLmh1Z2dpbmdmYWNlLmNvL3JlcG9zL2EzLzcyL2EzNzI4OGZkMjVkZTQ1YjZhOGJiYjc5ODAxOTA3Mjg5ZjZjMTJiYjg3MGRiNjhmNzViMDAyNDE5M2RhMWYwNDcvMmZjMDExZTM5ZDRhOWM1OTU4NjMwYjFiYjk0NmRlYzljYTU0YWRiY2NjNTI4MDRmZWQ1NDU0OTBmOTk1YjIwYj9yZXNwb25zZS1jb250ZW50LWRpc3Bvc2l0aW9uPSomcmVzcG9uc2UtY29udGVudC10eXBlPSoiLCJDb25kaXRpb24iOnsiRGF0ZUxlc3NUaGFuIjp7IkFXUzpFcG9jaFRpbWUiOjE2ODcxNTM1NjF9fX1dfQ__&Signature=C2SJlMxnLLBXXdTGqMzx2uo8ovqyMzqdZuQ2YUgEM8pil%7EY6e7vMjNRsOyXQ3lcv22CQ2FuScm787msIuuwDVAvgsk6LBW-H78geLWFy0MHPHk1%7EtN4umdBEaPv3OU6mWicQA%7Ey%7EgW7W6L0q0-WYz15plFwPkvIPawbZaj-vFIrmMlO3ZfxONU1eKZyFYTKhCeec1bSwpKNjOfX6wUgY33ktN9LsYIxjkn-2IKKTR5HoF2Pe9uxsI-Getd6GWIbHWPDpqpEBgi1n7npMVqe4e-7Mcy9%7EWcVMEj5Ti0N6HCp-7AcI-z%7E27nYmRs%7E24YmkefV%7EkZEad5GW9KhlHtSjnw__&Key-Pair-Id=KVTP0A1DKRTAX\n",
            "\n",
            "06/16 05:46:01 [\u001b[1;32mNOTICE\u001b[0m] CUID#15 - Redirecting to https://cdn-lfs.huggingface.co/repos/a3/72/a37288fd25de45b6a8bbb79801907289f6c12bb870db68f75b0024193da1f047/7af5021fe9afb9b4186a59a91e75aa60570c66fba43390b634387ee54bd73223?response-content-disposition=attachment%3B+filename*%3DUTF-8%27%27pytorch_model-00008-of-00009.bin%3B+filename%3D%22pytorch_model-00008-of-00009.bin%22%3B&response-content-type=application%2Foctet-stream&Expires=1687153562&Policy=eyJTdGF0ZW1lbnQiOlt7IlJlc291cmNlIjoiaHR0cHM6Ly9jZG4tbGZzLmh1Z2dpbmdmYWNlLmNvL3JlcG9zL2EzLzcyL2EzNzI4OGZkMjVkZTQ1YjZhOGJiYjc5ODAxOTA3Mjg5ZjZjMTJiYjg3MGRiNjhmNzViMDAyNDE5M2RhMWYwNDcvN2FmNTAyMWZlOWFmYjliNDE4NmE1OWE5MWU3NWFhNjA1NzBjNjZmYmE0MzM5MGI2MzQzODdlZTU0YmQ3MzIyMz9yZXNwb25zZS1jb250ZW50LWRpc3Bvc2l0aW9uPSomcmVzcG9uc2UtY29udGVudC10eXBlPSoiLCJDb25kaXRpb24iOnsiRGF0ZUxlc3NUaGFuIjp7IkFXUzpFcG9jaFRpbWUiOjE2ODcxNTM1NjJ9fX1dfQ__&Signature=cyN9uLumJ6Rbt7uCpkESJ32pTHBQDUOBCKVNyB%7EpNs66JvaZL0qC01EwENoaRiFSQLRrH1Tb5OpHYvSkldy6a4PnKtZ2xXwPjX5plMmKwaOhw6gqE0VoSDdzJA86abq-bGrLFCzdjchqbYz6Lg3VYPR0eGhmL9oH4oXM8DwWkfi6VWpcj6f2gapGjqWYsHL9VdtpAqihqsa2-HIsCx14Qt2zsENTVhjEAEwohDTytEuQEuyqYvpD6ddfaqMRQpO3LO84J2SJ6OXhDu60qz1CczxjNKRUMMWsjqHoEVv4oso%7EjNXnn%7EgRiHyyPtixxgtbNItMfFhB-Jw2Fd5iJuxxtg__&Key-Pair-Id=KVTP0A1DKRTAX\n",
            "\u001b[35m[\u001b[0m#33a6b9 15MiB/8.8GiB\u001b[36m(0%)\u001b[0m CN:16 DL:\u001b[32m29MiB\u001b[0m ETA:\u001b[33m5m6s\u001b[0m\u001b[35m]\u001b[0m\u001b[0mmm\u001b[0m\n",
            "06/16 05:46:01 [\u001b[1;32mNOTICE\u001b[0m] CUID#10 - Redirecting to https://cdn-lfs.huggingface.co/repos/a3/72/a37288fd25de45b6a8bbb79801907289f6c12bb870db68f75b0024193da1f047/2fc011e39d4a9c5958630b1bb946dec9ca54adbccc52804fed545490f995b20b?response-content-disposition=attachment%3B+filename*%3DUTF-8%27%27pytorch_model-00004-of-00009.bin%3B+filename%3D%22pytorch_model-00004-of-00009.bin%22%3B&response-content-type=application%2Foctet-stream&Expires=1687153562&Policy=eyJTdGF0ZW1lbnQiOlt7IlJlc291cmNlIjoiaHR0cHM6Ly9jZG4tbGZzLmh1Z2dpbmdmYWNlLmNvL3JlcG9zL2EzLzcyL2EzNzI4OGZkMjVkZTQ1YjZhOGJiYjc5ODAxOTA3Mjg5ZjZjMTJiYjg3MGRiNjhmNzViMDAyNDE5M2RhMWYwNDcvMmZjMDExZTM5ZDRhOWM1OTU4NjMwYjFiYjk0NmRlYzljYTU0YWRiY2NjNTI4MDRmZWQ1NDU0OTBmOTk1YjIwYj9yZXNwb25zZS1jb250ZW50LWRpc3Bvc2l0aW9uPSomcmVzcG9uc2UtY29udGVudC10eXBlPSoiLCJDb25kaXRpb24iOnsiRGF0ZUxlc3NUaGFuIjp7IkFXUzpFcG9jaFRpbWUiOjE2ODcxNTM1NjJ9fX1dfQ__&Signature=DY8bQTkuokWv7il%7Ew5A9l4QFt3ApYFHOafU93Vm2KHP6n1Jv18MfPkULpXmcT7kIUxOlQJoK-0m%7EjQ8rJK%7Ef9%7Ewkro83JTwUag0QJJjk5hMlaoi1NiVkYISYA7n%7Eo-7sHSz5KFD7woR7jfE96BJd%7E2cJvKw-bhD8W%7EUaSmX8B8KwDeDgv6%7ELz8uZR%7Ew4tGC4uX4LKZhvBPYSO%7En4bYJnOdoJJ9jIQ5dJVs69hQ%7EuDitygYLhB%7ElfjA6rbL06y0UCI2WcNfwFm1SPugddiRBl-nHxGJU60JQRQBvnlbOQSU-YfgfRNb%7Ectk5K0iJ1udg83N7GVksYOCd5jYuvjo1i2A__&Key-Pair-Id=KVTP0A1DKRTAX\n",
            "\n",
            "06/16 05:46:01 [\u001b[1;32mNOTICE\u001b[0m] CUID#12 - Redirecting to https://cdn-lfs.huggingface.co/repos/a3/72/a37288fd25de45b6a8bbb79801907289f6c12bb870db68f75b0024193da1f047/2fc011e39d4a9c5958630b1bb946dec9ca54adbccc52804fed545490f995b20b?response-content-disposition=attachment%3B+filename*%3DUTF-8%27%27pytorch_model-00004-of-00009.bin%3B+filename%3D%22pytorch_model-00004-of-00009.bin%22%3B&response-content-type=application%2Foctet-stream&Expires=1687153562&Policy=eyJTdGF0ZW1lbnQiOlt7IlJlc291cmNlIjoiaHR0cHM6Ly9jZG4tbGZzLmh1Z2dpbmdmYWNlLmNvL3JlcG9zL2EzLzcyL2EzNzI4OGZkMjVkZTQ1YjZhOGJiYjc5ODAxOTA3Mjg5ZjZjMTJiYjg3MGRiNjhmNzViMDAyNDE5M2RhMWYwNDcvMmZjMDExZTM5ZDRhOWM1OTU4NjMwYjFiYjk0NmRlYzljYTU0YWRiY2NjNTI4MDRmZWQ1NDU0OTBmOTk1YjIwYj9yZXNwb25zZS1jb250ZW50LWRpc3Bvc2l0aW9uPSomcmVzcG9uc2UtY29udGVudC10eXBlPSoiLCJDb25kaXRpb24iOnsiRGF0ZUxlc3NUaGFuIjp7IkFXUzpFcG9jaFRpbWUiOjE2ODcxNTM1NjJ9fX1dfQ__&Signature=DY8bQTkuokWv7il%7Ew5A9l4QFt3ApYFHOafU93Vm2KHP6n1Jv18MfPkULpXmcT7kIUxOlQJoK-0m%7EjQ8rJK%7Ef9%7Ewkro83JTwUag0QJJjk5hMlaoi1NiVkYISYA7n%7Eo-7sHSz5KFD7woR7jfE96BJd%7E2cJvKw-bhD8W%7EUaSmX8B8KwDeDgv6%7ELz8uZR%7Ew4tGC4uX4LKZhvBPYSO%7En4bYJnOdoJJ9jIQ5dJVs69hQ%7EuDitygYLhB%7ElfjA6rbL06y0UCI2WcNfwFm1SPugddiRBl-nHxGJU60JQRQBvnlbOQSU-YfgfRNb%7Ectk5K0iJ1udg83N7GVksYOCd5jYuvjo1i2A__&Key-Pair-Id=KVTP0A1DKRTAX\n",
            "\n",
            "06/16 05:46:01 [\u001b[1;32mNOTICE\u001b[0m] CUID#14 - Redirecting to https://cdn-lfs.huggingface.co/repos/a3/72/a37288fd25de45b6a8bbb79801907289f6c12bb870db68f75b0024193da1f047/2fc011e39d4a9c5958630b1bb946dec9ca54adbccc52804fed545490f995b20b?response-content-disposition=attachment%3B+filename*%3DUTF-8%27%27pytorch_model-00004-of-00009.bin%3B+filename%3D%22pytorch_model-00004-of-00009.bin%22%3B&response-content-type=application%2Foctet-stream&Expires=1687153562&Policy=eyJTdGF0ZW1lbnQiOlt7IlJlc291cmNlIjoiaHR0cHM6Ly9jZG4tbGZzLmh1Z2dpbmdmYWNlLmNvL3JlcG9zL2EzLzcyL2EzNzI4OGZkMjVkZTQ1YjZhOGJiYjc5ODAxOTA3Mjg5ZjZjMTJiYjg3MGRiNjhmNzViMDAyNDE5M2RhMWYwNDcvMmZjMDExZTM5ZDRhOWM1OTU4NjMwYjFiYjk0NmRlYzljYTU0YWRiY2NjNTI4MDRmZWQ1NDU0OTBmOTk1YjIwYj9yZXNwb25zZS1jb250ZW50LWRpc3Bvc2l0aW9uPSomcmVzcG9uc2UtY29udGVudC10eXBlPSoiLCJDb25kaXRpb24iOnsiRGF0ZUxlc3NUaGFuIjp7IkFXUzpFcG9jaFRpbWUiOjE2ODcxNTM1NjJ9fX1dfQ__&Signature=DY8bQTkuokWv7il%7Ew5A9l4QFt3ApYFHOafU93Vm2KHP6n1Jv18MfPkULpXmcT7kIUxOlQJoK-0m%7EjQ8rJK%7Ef9%7Ewkro83JTwUag0QJJjk5hMlaoi1NiVkYISYA7n%7Eo-7sHSz5KFD7woR7jfE96BJd%7E2cJvKw-bhD8W%7EUaSmX8B8KwDeDgv6%7ELz8uZR%7Ew4tGC4uX4LKZhvBPYSO%7En4bYJnOdoJJ9jIQ5dJVs69hQ%7EuDitygYLhB%7ElfjA6rbL06y0UCI2WcNfwFm1SPugddiRBl-nHxGJU60JQRQBvnlbOQSU-YfgfRNb%7Ectk5K0iJ1udg83N7GVksYOCd5jYuvjo1i2A__&Key-Pair-Id=KVTP0A1DKRTAX\n",
            "\n",
            "06/16 05:46:01 [\u001b[1;32mNOTICE\u001b[0m] CUID#15 - Redirecting to https://cdn-lfs.huggingface.co/repos/a3/72/a37288fd25de45b6a8bbb79801907289f6c12bb870db68f75b0024193da1f047/2fc011e39d4a9c5958630b1bb946dec9ca54adbccc52804fed545490f995b20b?response-content-disposition=attachment%3B+filename*%3DUTF-8%27%27pytorch_model-00004-of-00009.bin%3B+filename%3D%22pytorch_model-00004-of-00009.bin%22%3B&response-content-type=application%2Foctet-stream&Expires=1687153562&Policy=eyJTdGF0ZW1lbnQiOlt7IlJlc291cmNlIjoiaHR0cHM6Ly9jZG4tbGZzLmh1Z2dpbmdmYWNlLmNvL3JlcG9zL2EzLzcyL2EzNzI4OGZkMjVkZTQ1YjZhOGJiYjc5ODAxOTA3Mjg5ZjZjMTJiYjg3MGRiNjhmNzViMDAyNDE5M2RhMWYwNDcvMmZjMDExZTM5ZDRhOWM1OTU4NjMwYjFiYjk0NmRlYzljYTU0YWRiY2NjNTI4MDRmZWQ1NDU0OTBmOTk1YjIwYj9yZXNwb25zZS1jb250ZW50LWRpc3Bvc2l0aW9uPSomcmVzcG9uc2UtY29udGVudC10eXBlPSoiLCJDb25kaXRpb24iOnsiRGF0ZUxlc3NUaGFuIjp7IkFXUzpFcG9jaFRpbWUiOjE2ODcxNTM1NjJ9fX1dfQ__&Signature=DY8bQTkuokWv7il%7Ew5A9l4QFt3ApYFHOafU93Vm2KHP6n1Jv18MfPkULpXmcT7kIUxOlQJoK-0m%7EjQ8rJK%7Ef9%7Ewkro83JTwUag0QJJjk5hMlaoi1NiVkYISYA7n%7Eo-7sHSz5KFD7woR7jfE96BJd%7E2cJvKw-bhD8W%7EUaSmX8B8KwDeDgv6%7ELz8uZR%7Ew4tGC4uX4LKZhvBPYSO%7En4bYJnOdoJJ9jIQ5dJVs69hQ%7EuDitygYLhB%7ElfjA6rbL06y0UCI2WcNfwFm1SPugddiRBl-nHxGJU60JQRQBvnlbOQSU-YfgfRNb%7Ectk5K0iJ1udg83N7GVksYOCd5jYuvjo1i2A__&Key-Pair-Id=KVTP0A1DKRTAX\n",
            "\n",
            "06/16 05:46:01 [\u001b[1;32mNOTICE\u001b[0m] CUID#17 - Redirecting to https://cdn-lfs.huggingface.co/repos/a3/72/a37288fd25de45b6a8bbb79801907289f6c12bb870db68f75b0024193da1f047/2fc011e39d4a9c5958630b1bb946dec9ca54adbccc52804fed545490f995b20b?response-content-disposition=attachment%3B+filename*%3DUTF-8%27%27pytorch_model-00004-of-00009.bin%3B+filename%3D%22pytorch_model-00004-of-00009.bin%22%3B&response-content-type=application%2Foctet-stream&Expires=1687153562&Policy=eyJTdGF0ZW1lbnQiOlt7IlJlc291cmNlIjoiaHR0cHM6Ly9jZG4tbGZzLmh1Z2dpbmdmYWNlLmNvL3JlcG9zL2EzLzcyL2EzNzI4OGZkMjVkZTQ1YjZhOGJiYjc5ODAxOTA3Mjg5ZjZjMTJiYjg3MGRiNjhmNzViMDAyNDE5M2RhMWYwNDcvMmZjMDExZTM5ZDRhOWM1OTU4NjMwYjFiYjk0NmRlYzljYTU0YWRiY2NjNTI4MDRmZWQ1NDU0OTBmOTk1YjIwYj9yZXNwb25zZS1jb250ZW50LWRpc3Bvc2l0aW9uPSomcmVzcG9uc2UtY29udGVudC10eXBlPSoiLCJDb25kaXRpb24iOnsiRGF0ZUxlc3NUaGFuIjp7IkFXUzpFcG9jaFRpbWUiOjE2ODcxNTM1NjJ9fX1dfQ__&Signature=DY8bQTkuokWv7il%7Ew5A9l4QFt3ApYFHOafU93Vm2KHP6n1Jv18MfPkULpXmcT7kIUxOlQJoK-0m%7EjQ8rJK%7Ef9%7Ewkro83JTwUag0QJJjk5hMlaoi1NiVkYISYA7n%7Eo-7sHSz5KFD7woR7jfE96BJd%7E2cJvKw-bhD8W%7EUaSmX8B8KwDeDgv6%7ELz8uZR%7Ew4tGC4uX4LKZhvBPYSO%7En4bYJnOdoJJ9jIQ5dJVs69hQ%7EuDitygYLhB%7ElfjA6rbL06y0UCI2WcNfwFm1SPugddiRBl-nHxGJU60JQRQBvnlbOQSU-YfgfRNb%7Ectk5K0iJ1udg83N7GVksYOCd5jYuvjo1i2A__&Key-Pair-Id=KVTP0A1DKRTAX\n",
            "\n",
            "06/16 05:46:01 [\u001b[1;32mNOTICE\u001b[0m] CUID#19 - Redirecting to https://cdn-lfs.huggingface.co/repos/a3/72/a37288fd25de45b6a8bbb79801907289f6c12bb870db68f75b0024193da1f047/2fc011e39d4a9c5958630b1bb946dec9ca54adbccc52804fed545490f995b20b?response-content-disposition=attachment%3B+filename*%3DUTF-8%27%27pytorch_model-00004-of-00009.bin%3B+filename%3D%22pytorch_model-00004-of-00009.bin%22%3B&response-content-type=application%2Foctet-stream&Expires=1687153562&Policy=eyJTdGF0ZW1lbnQiOlt7IlJlc291cmNlIjoiaHR0cHM6Ly9jZG4tbGZzLmh1Z2dpbmdmYWNlLmNvL3JlcG9zL2EzLzcyL2EzNzI4OGZkMjVkZTQ1YjZhOGJiYjc5ODAxOTA3Mjg5ZjZjMTJiYjg3MGRiNjhmNzViMDAyNDE5M2RhMWYwNDcvMmZjMDExZTM5ZDRhOWM1OTU4NjMwYjFiYjk0NmRlYzljYTU0YWRiY2NjNTI4MDRmZWQ1NDU0OTBmOTk1YjIwYj9yZXNwb25zZS1jb250ZW50LWRpc3Bvc2l0aW9uPSomcmVzcG9uc2UtY29udGVudC10eXBlPSoiLCJDb25kaXRpb24iOnsiRGF0ZUxlc3NUaGFuIjp7IkFXUzpFcG9jaFRpbWUiOjE2ODcxNTM1NjJ9fX1dfQ__&Signature=DY8bQTkuokWv7il%7Ew5A9l4QFt3ApYFHOafU93Vm2KHP6n1Jv18MfPkULpXmcT7kIUxOlQJoK-0m%7EjQ8rJK%7Ef9%7Ewkro83JTwUag0QJJjk5hMlaoi1NiVkYISYA7n%7Eo-7sHSz5KFD7woR7jfE96BJd%7E2cJvKw-bhD8W%7EUaSmX8B8KwDeDgv6%7ELz8uZR%7Ew4tGC4uX4LKZhvBPYSO%7En4bYJnOdoJJ9jIQ5dJVs69hQ%7EuDitygYLhB%7ElfjA6rbL06y0UCI2WcNfwFm1SPugddiRBl-nHxGJU60JQRQBvnlbOQSU-YfgfRNb%7Ectk5K0iJ1udg83N7GVksYOCd5jYuvjo1i2A__&Key-Pair-Id=KVTP0A1DKRTAX\n",
            "\u001b[35m[\u001b[0m#399118 28MiB/8.8GiB\u001b[36m(0%)\u001b[0m CN:16 DL:\u001b[32m43MiB\u001b[0m ETA:\u001b[33m3m30s\u001b[0m\u001b[35m]\u001b[0m\u001b[0m\n",
            "06/16 05:46:01 [\u001b[1;32mNOTICE\u001b[0m] CUID#16 - Redirecting to https://cdn-lfs.huggingface.co/repos/a3/72/a37288fd25de45b6a8bbb79801907289f6c12bb870db68f75b0024193da1f047/2fc011e39d4a9c5958630b1bb946dec9ca54adbccc52804fed545490f995b20b?response-content-disposition=attachment%3B+filename*%3DUTF-8%27%27pytorch_model-00004-of-00009.bin%3B+filename%3D%22pytorch_model-00004-of-00009.bin%22%3B&response-content-type=application%2Foctet-stream&Expires=1687153562&Policy=eyJTdGF0ZW1lbnQiOlt7IlJlc291cmNlIjoiaHR0cHM6Ly9jZG4tbGZzLmh1Z2dpbmdmYWNlLmNvL3JlcG9zL2EzLzcyL2EzNzI4OGZkMjVkZTQ1YjZhOGJiYjc5ODAxOTA3Mjg5ZjZjMTJiYjg3MGRiNjhmNzViMDAyNDE5M2RhMWYwNDcvMmZjMDExZTM5ZDRhOWM1OTU4NjMwYjFiYjk0NmRlYzljYTU0YWRiY2NjNTI4MDRmZWQ1NDU0OTBmOTk1YjIwYj9yZXNwb25zZS1jb250ZW50LWRpc3Bvc2l0aW9uPSomcmVzcG9uc2UtY29udGVudC10eXBlPSoiLCJDb25kaXRpb24iOnsiRGF0ZUxlc3NUaGFuIjp7IkFXUzpFcG9jaFRpbWUiOjE2ODcxNTM1NjJ9fX1dfQ__&Signature=DY8bQTkuokWv7il%7Ew5A9l4QFt3ApYFHOafU93Vm2KHP6n1Jv18MfPkULpXmcT7kIUxOlQJoK-0m%7EjQ8rJK%7Ef9%7Ewkro83JTwUag0QJJjk5hMlaoi1NiVkYISYA7n%7Eo-7sHSz5KFD7woR7jfE96BJd%7E2cJvKw-bhD8W%7EUaSmX8B8KwDeDgv6%7ELz8uZR%7Ew4tGC4uX4LKZhvBPYSO%7En4bYJnOdoJJ9jIQ5dJVs69hQ%7EuDitygYLhB%7ElfjA6rbL06y0UCI2WcNfwFm1SPugddiRBl-nHxGJU60JQRQBvnlbOQSU-YfgfRNb%7Ectk5K0iJ1udg83N7GVksYOCd5jYuvjo1i2A__&Key-Pair-Id=KVTP0A1DKRTAX\n",
            "\n",
            "06/16 05:46:01 [\u001b[1;32mNOTICE\u001b[0m] CUID#18 - Redirecting to https://cdn-lfs.huggingface.co/repos/a3/72/a37288fd25de45b6a8bbb79801907289f6c12bb870db68f75b0024193da1f047/2fc011e39d4a9c5958630b1bb946dec9ca54adbccc52804fed545490f995b20b?response-content-disposition=attachment%3B+filename*%3DUTF-8%27%27pytorch_model-00004-of-00009.bin%3B+filename%3D%22pytorch_model-00004-of-00009.bin%22%3B&response-content-type=application%2Foctet-stream&Expires=1687153562&Policy=eyJTdGF0ZW1lbnQiOlt7IlJlc291cmNlIjoiaHR0cHM6Ly9jZG4tbGZzLmh1Z2dpbmdmYWNlLmNvL3JlcG9zL2EzLzcyL2EzNzI4OGZkMjVkZTQ1YjZhOGJiYjc5ODAxOTA3Mjg5ZjZjMTJiYjg3MGRiNjhmNzViMDAyNDE5M2RhMWYwNDcvMmZjMDExZTM5ZDRhOWM1OTU4NjMwYjFiYjk0NmRlYzljYTU0YWRiY2NjNTI4MDRmZWQ1NDU0OTBmOTk1YjIwYj9yZXNwb25zZS1jb250ZW50LWRpc3Bvc2l0aW9uPSomcmVzcG9uc2UtY29udGVudC10eXBlPSoiLCJDb25kaXRpb24iOnsiRGF0ZUxlc3NUaGFuIjp7IkFXUzpFcG9jaFRpbWUiOjE2ODcxNTM1NjJ9fX1dfQ__&Signature=DY8bQTkuokWv7il%7Ew5A9l4QFt3ApYFHOafU93Vm2KHP6n1Jv18MfPkULpXmcT7kIUxOlQJoK-0m%7EjQ8rJK%7Ef9%7Ewkro83JTwUag0QJJjk5hMlaoi1NiVkYISYA7n%7Eo-7sHSz5KFD7woR7jfE96BJd%7E2cJvKw-bhD8W%7EUaSmX8B8KwDeDgv6%7ELz8uZR%7Ew4tGC4uX4LKZhvBPYSO%7En4bYJnOdoJJ9jIQ5dJVs69hQ%7EuDitygYLhB%7ElfjA6rbL06y0UCI2WcNfwFm1SPugddiRBl-nHxGJU60JQRQBvnlbOQSU-YfgfRNb%7Ectk5K0iJ1udg83N7GVksYOCd5jYuvjo1i2A__&Key-Pair-Id=KVTP0A1DKRTAX\n",
            "\n",
            "06/16 05:46:01 [\u001b[1;32mNOTICE\u001b[0m] CUID#18 - Redirecting to https://cdn-lfs.huggingface.co/repos/a3/72/a37288fd25de45b6a8bbb79801907289f6c12bb870db68f75b0024193da1f047/7af5021fe9afb9b4186a59a91e75aa60570c66fba43390b634387ee54bd73223?response-content-disposition=attachment%3B+filename*%3DUTF-8%27%27pytorch_model-00008-of-00009.bin%3B+filename%3D%22pytorch_model-00008-of-00009.bin%22%3B&response-content-type=application%2Foctet-stream&Expires=1687153562&Policy=eyJTdGF0ZW1lbnQiOlt7IlJlc291cmNlIjoiaHR0cHM6Ly9jZG4tbGZzLmh1Z2dpbmdmYWNlLmNvL3JlcG9zL2EzLzcyL2EzNzI4OGZkMjVkZTQ1YjZhOGJiYjc5ODAxOTA3Mjg5ZjZjMTJiYjg3MGRiNjhmNzViMDAyNDE5M2RhMWYwNDcvN2FmNTAyMWZlOWFmYjliNDE4NmE1OWE5MWU3NWFhNjA1NzBjNjZmYmE0MzM5MGI2MzQzODdlZTU0YmQ3MzIyMz9yZXNwb25zZS1jb250ZW50LWRpc3Bvc2l0aW9uPSomcmVzcG9uc2UtY29udGVudC10eXBlPSoiLCJDb25kaXRpb24iOnsiRGF0ZUxlc3NUaGFuIjp7IkFXUzpFcG9jaFRpbWUiOjE2ODcxNTM1NjJ9fX1dfQ__&Signature=cyN9uLumJ6Rbt7uCpkESJ32pTHBQDUOBCKVNyB%7EpNs66JvaZL0qC01EwENoaRiFSQLRrH1Tb5OpHYvSkldy6a4PnKtZ2xXwPjX5plMmKwaOhw6gqE0VoSDdzJA86abq-bGrLFCzdjchqbYz6Lg3VYPR0eGhmL9oH4oXM8DwWkfi6VWpcj6f2gapGjqWYsHL9VdtpAqihqsa2-HIsCx14Qt2zsENTVhjEAEwohDTytEuQEuyqYvpD6ddfaqMRQpO3LO84J2SJ6OXhDu60qz1CczxjNKRUMMWsjqHoEVv4oso%7EjNXnn%7EgRiHyyPtixxgtbNItMfFhB-Jw2Fd5iJuxxtg__&Key-Pair-Id=KVTP0A1DKRTAX\n",
            "\n",
            "06/16 05:46:01 [\u001b[1;32mNOTICE\u001b[0m] CUID#22 - Redirecting to https://cdn-lfs.huggingface.co/repos/a3/72/a37288fd25de45b6a8bbb79801907289f6c12bb870db68f75b0024193da1f047/2fc011e39d4a9c5958630b1bb946dec9ca54adbccc52804fed545490f995b20b?response-content-disposition=attachment%3B+filename*%3DUTF-8%27%27pytorch_model-00004-of-00009.bin%3B+filename%3D%22pytorch_model-00004-of-00009.bin%22%3B&response-content-type=application%2Foctet-stream&Expires=1687153562&Policy=eyJTdGF0ZW1lbnQiOlt7IlJlc291cmNlIjoiaHR0cHM6Ly9jZG4tbGZzLmh1Z2dpbmdmYWNlLmNvL3JlcG9zL2EzLzcyL2EzNzI4OGZkMjVkZTQ1YjZhOGJiYjc5ODAxOTA3Mjg5ZjZjMTJiYjg3MGRiNjhmNzViMDAyNDE5M2RhMWYwNDcvMmZjMDExZTM5ZDRhOWM1OTU4NjMwYjFiYjk0NmRlYzljYTU0YWRiY2NjNTI4MDRmZWQ1NDU0OTBmOTk1YjIwYj9yZXNwb25zZS1jb250ZW50LWRpc3Bvc2l0aW9uPSomcmVzcG9uc2UtY29udGVudC10eXBlPSoiLCJDb25kaXRpb24iOnsiRGF0ZUxlc3NUaGFuIjp7IkFXUzpFcG9jaFRpbWUiOjE2ODcxNTM1NjJ9fX1dfQ__&Signature=DY8bQTkuokWv7il%7Ew5A9l4QFt3ApYFHOafU93Vm2KHP6n1Jv18MfPkULpXmcT7kIUxOlQJoK-0m%7EjQ8rJK%7Ef9%7Ewkro83JTwUag0QJJjk5hMlaoi1NiVkYISYA7n%7Eo-7sHSz5KFD7woR7jfE96BJd%7E2cJvKw-bhD8W%7EUaSmX8B8KwDeDgv6%7ELz8uZR%7Ew4tGC4uX4LKZhvBPYSO%7En4bYJnOdoJJ9jIQ5dJVs69hQ%7EuDitygYLhB%7ElfjA6rbL06y0UCI2WcNfwFm1SPugddiRBl-nHxGJU60JQRQBvnlbOQSU-YfgfRNb%7Ectk5K0iJ1udg83N7GVksYOCd5jYuvjo1i2A__&Key-Pair-Id=KVTP0A1DKRTAX\n",
            "\n",
            "06/16 05:46:01 [\u001b[1;32mNOTICE\u001b[0m] CUID#20 - Redirecting to https://cdn-lfs.huggingface.co/repos/a3/72/a37288fd25de45b6a8bbb79801907289f6c12bb870db68f75b0024193da1f047/2fc011e39d4a9c5958630b1bb946dec9ca54adbccc52804fed545490f995b20b?response-content-disposition=attachment%3B+filename*%3DUTF-8%27%27pytorch_model-00004-of-00009.bin%3B+filename%3D%22pytorch_model-00004-of-00009.bin%22%3B&response-content-type=application%2Foctet-stream&Expires=1687153562&Policy=eyJTdGF0ZW1lbnQiOlt7IlJlc291cmNlIjoiaHR0cHM6Ly9jZG4tbGZzLmh1Z2dpbmdmYWNlLmNvL3JlcG9zL2EzLzcyL2EzNzI4OGZkMjVkZTQ1YjZhOGJiYjc5ODAxOTA3Mjg5ZjZjMTJiYjg3MGRiNjhmNzViMDAyNDE5M2RhMWYwNDcvMmZjMDExZTM5ZDRhOWM1OTU4NjMwYjFiYjk0NmRlYzljYTU0YWRiY2NjNTI4MDRmZWQ1NDU0OTBmOTk1YjIwYj9yZXNwb25zZS1jb250ZW50LWRpc3Bvc2l0aW9uPSomcmVzcG9uc2UtY29udGVudC10eXBlPSoiLCJDb25kaXRpb24iOnsiRGF0ZUxlc3NUaGFuIjp7IkFXUzpFcG9jaFRpbWUiOjE2ODcxNTM1NjJ9fX1dfQ__&Signature=DY8bQTkuokWv7il%7Ew5A9l4QFt3ApYFHOafU93Vm2KHP6n1Jv18MfPkULpXmcT7kIUxOlQJoK-0m%7EjQ8rJK%7Ef9%7Ewkro83JTwUag0QJJjk5hMlaoi1NiVkYISYA7n%7Eo-7sHSz5KFD7woR7jfE96BJd%7E2cJvKw-bhD8W%7EUaSmX8B8KwDeDgv6%7ELz8uZR%7Ew4tGC4uX4LKZhvBPYSO%7En4bYJnOdoJJ9jIQ5dJVs69hQ%7EuDitygYLhB%7ElfjA6rbL06y0UCI2WcNfwFm1SPugddiRBl-nHxGJU60JQRQBvnlbOQSU-YfgfRNb%7Ectk5K0iJ1udg83N7GVksYOCd5jYuvjo1i2A__&Key-Pair-Id=KVTP0A1DKRTAX\n",
            "\n",
            "06/16 05:46:01 [\u001b[1;32mNOTICE\u001b[0m] CUID#11 - Redirecting to https://cdn-lfs.huggingface.co/repos/a3/72/a37288fd25de45b6a8bbb79801907289f6c12bb870db68f75b0024193da1f047/2fc011e39d4a9c5958630b1bb946dec9ca54adbccc52804fed545490f995b20b?response-content-disposition=attachment%3B+filename*%3DUTF-8%27%27pytorch_model-00004-of-00009.bin%3B+filename%3D%22pytorch_model-00004-of-00009.bin%22%3B&response-content-type=application%2Foctet-stream&Expires=1687153562&Policy=eyJTdGF0ZW1lbnQiOlt7IlJlc291cmNlIjoiaHR0cHM6Ly9jZG4tbGZzLmh1Z2dpbmdmYWNlLmNvL3JlcG9zL2EzLzcyL2EzNzI4OGZkMjVkZTQ1YjZhOGJiYjc5ODAxOTA3Mjg5ZjZjMTJiYjg3MGRiNjhmNzViMDAyNDE5M2RhMWYwNDcvMmZjMDExZTM5ZDRhOWM1OTU4NjMwYjFiYjk0NmRlYzljYTU0YWRiY2NjNTI4MDRmZWQ1NDU0OTBmOTk1YjIwYj9yZXNwb25zZS1jb250ZW50LWRpc3Bvc2l0aW9uPSomcmVzcG9uc2UtY29udGVudC10eXBlPSoiLCJDb25kaXRpb24iOnsiRGF0ZUxlc3NUaGFuIjp7IkFXUzpFcG9jaFRpbWUiOjE2ODcxNTM1NjJ9fX1dfQ__&Signature=DY8bQTkuokWv7il%7Ew5A9l4QFt3ApYFHOafU93Vm2KHP6n1Jv18MfPkULpXmcT7kIUxOlQJoK-0m%7EjQ8rJK%7Ef9%7Ewkro83JTwUag0QJJjk5hMlaoi1NiVkYISYA7n%7Eo-7sHSz5KFD7woR7jfE96BJd%7E2cJvKw-bhD8W%7EUaSmX8B8KwDeDgv6%7ELz8uZR%7Ew4tGC4uX4LKZhvBPYSO%7En4bYJnOdoJJ9jIQ5dJVs69hQ%7EuDitygYLhB%7ElfjA6rbL06y0UCI2WcNfwFm1SPugddiRBl-nHxGJU60JQRQBvnlbOQSU-YfgfRNb%7Ectk5K0iJ1udg83N7GVksYOCd5jYuvjo1i2A__&Key-Pair-Id=KVTP0A1DKRTAX\n",
            "\n",
            "06/16 05:46:01 [\u001b[1;32mNOTICE\u001b[0m] CUID#21 - Redirecting to https://cdn-lfs.huggingface.co/repos/a3/72/a37288fd25de45b6a8bbb79801907289f6c12bb870db68f75b0024193da1f047/2fc011e39d4a9c5958630b1bb946dec9ca54adbccc52804fed545490f995b20b?response-content-disposition=attachment%3B+filename*%3DUTF-8%27%27pytorch_model-00004-of-00009.bin%3B+filename%3D%22pytorch_model-00004-of-00009.bin%22%3B&response-content-type=application%2Foctet-stream&Expires=1687153562&Policy=eyJTdGF0ZW1lbnQiOlt7IlJlc291cmNlIjoiaHR0cHM6Ly9jZG4tbGZzLmh1Z2dpbmdmYWNlLmNvL3JlcG9zL2EzLzcyL2EzNzI4OGZkMjVkZTQ1YjZhOGJiYjc5ODAxOTA3Mjg5ZjZjMTJiYjg3MGRiNjhmNzViMDAyNDE5M2RhMWYwNDcvMmZjMDExZTM5ZDRhOWM1OTU4NjMwYjFiYjk0NmRlYzljYTU0YWRiY2NjNTI4MDRmZWQ1NDU0OTBmOTk1YjIwYj9yZXNwb25zZS1jb250ZW50LWRpc3Bvc2l0aW9uPSomcmVzcG9uc2UtY29udGVudC10eXBlPSoiLCJDb25kaXRpb24iOnsiRGF0ZUxlc3NUaGFuIjp7IkFXUzpFcG9jaFRpbWUiOjE2ODcxNTM1NjJ9fX1dfQ__&Signature=DY8bQTkuokWv7il%7Ew5A9l4QFt3ApYFHOafU93Vm2KHP6n1Jv18MfPkULpXmcT7kIUxOlQJoK-0m%7EjQ8rJK%7Ef9%7Ewkro83JTwUag0QJJjk5hMlaoi1NiVkYISYA7n%7Eo-7sHSz5KFD7woR7jfE96BJd%7E2cJvKw-bhD8W%7EUaSmX8B8KwDeDgv6%7ELz8uZR%7Ew4tGC4uX4LKZhvBPYSO%7En4bYJnOdoJJ9jIQ5dJVs69hQ%7EuDitygYLhB%7ElfjA6rbL06y0UCI2WcNfwFm1SPugddiRBl-nHxGJU60JQRQBvnlbOQSU-YfgfRNb%7Ectk5K0iJ1udg83N7GVksYOCd5jYuvjo1i2A__&Key-Pair-Id=KVTP0A1DKRTAX\n",
            "\n",
            "06/16 05:46:01 [\u001b[1;32mNOTICE\u001b[0m] CUID#23 - Redirecting to https://cdn-lfs.huggingface.co/repos/a3/72/a37288fd25de45b6a8bbb79801907289f6c12bb870db68f75b0024193da1f047/2fc011e39d4a9c5958630b1bb946dec9ca54adbccc52804fed545490f995b20b?response-content-disposition=attachment%3B+filename*%3DUTF-8%27%27pytorch_model-00004-of-00009.bin%3B+filename%3D%22pytorch_model-00004-of-00009.bin%22%3B&response-content-type=application%2Foctet-stream&Expires=1687153562&Policy=eyJTdGF0ZW1lbnQiOlt7IlJlc291cmNlIjoiaHR0cHM6Ly9jZG4tbGZzLmh1Z2dpbmdmYWNlLmNvL3JlcG9zL2EzLzcyL2EzNzI4OGZkMjVkZTQ1YjZhOGJiYjc5ODAxOTA3Mjg5ZjZjMTJiYjg3MGRiNjhmNzViMDAyNDE5M2RhMWYwNDcvMmZjMDExZTM5ZDRhOWM1OTU4NjMwYjFiYjk0NmRlYzljYTU0YWRiY2NjNTI4MDRmZWQ1NDU0OTBmOTk1YjIwYj9yZXNwb25zZS1jb250ZW50LWRpc3Bvc2l0aW9uPSomcmVzcG9uc2UtY29udGVudC10eXBlPSoiLCJDb25kaXRpb24iOnsiRGF0ZUxlc3NUaGFuIjp7IkFXUzpFcG9jaFRpbWUiOjE2ODcxNTM1NjJ9fX1dfQ__&Signature=DY8bQTkuokWv7il%7Ew5A9l4QFt3ApYFHOafU93Vm2KHP6n1Jv18MfPkULpXmcT7kIUxOlQJoK-0m%7EjQ8rJK%7Ef9%7Ewkro83JTwUag0QJJjk5hMlaoi1NiVkYISYA7n%7Eo-7sHSz5KFD7woR7jfE96BJd%7E2cJvKw-bhD8W%7EUaSmX8B8KwDeDgv6%7ELz8uZR%7Ew4tGC4uX4LKZhvBPYSO%7En4bYJnOdoJJ9jIQ5dJVs69hQ%7EuDitygYLhB%7ElfjA6rbL06y0UCI2WcNfwFm1SPugddiRBl-nHxGJU60JQRQBvnlbOQSU-YfgfRNb%7Ectk5K0iJ1udg83N7GVksYOCd5jYuvjo1i2A__&Key-Pair-Id=KVTP0A1DKRTAX\n",
            "\n",
            "06/16 05:46:02 [\u001b[1;32mNOTICE\u001b[0m] CUID#11 - Redirecting to https://cdn-lfs.huggingface.co/repos/a3/72/a37288fd25de45b6a8bbb79801907289f6c12bb870db68f75b0024193da1f047/638cb048ee6ad66f85a176e980332b0d61cbddb2d5dc9b5ad1863d87e020350c?response-content-disposition=attachment%3B+filename*%3DUTF-8%27%27pytorch_model-00002-of-00009.bin%3B+filename%3D%22pytorch_model-00002-of-00009.bin%22%3B&response-content-type=application%2Foctet-stream&Expires=1687153562&Policy=eyJTdGF0ZW1lbnQiOlt7IlJlc291cmNlIjoiaHR0cHM6Ly9jZG4tbGZzLmh1Z2dpbmdmYWNlLmNvL3JlcG9zL2EzLzcyL2EzNzI4OGZkMjVkZTQ1YjZhOGJiYjc5ODAxOTA3Mjg5ZjZjMTJiYjg3MGRiNjhmNzViMDAyNDE5M2RhMWYwNDcvNjM4Y2IwNDhlZTZhZDY2Zjg1YTE3NmU5ODAzMzJiMGQ2MWNiZGRiMmQ1ZGM5YjVhZDE4NjNkODdlMDIwMzUwYz9yZXNwb25zZS1jb250ZW50LWRpc3Bvc2l0aW9uPSomcmVzcG9uc2UtY29udGVudC10eXBlPSoiLCJDb25kaXRpb24iOnsiRGF0ZUxlc3NUaGFuIjp7IkFXUzpFcG9jaFRpbWUiOjE2ODcxNTM1NjJ9fX1dfQ__&Signature=ja2MmyET2oPcaqTcLvvvVJCsG0JHNOrdp%7EZ-ugvhjJnEeeh%7E9Tp7vqSjn6cJz2iMBr97ubmYynSLLhEg85oBPZvkPV1VUBF48dUZ-sNmkkOPadib8VuxvCbtVNxdFjps1-zdITCvSrp9EARHE5OeZtFfWE9Ka5snm29U8iRz01Mq%7EYx0WimaaRYlLdOpuFxtko0CwIyiyfoegPCKNc8EfZLcQm1hFQNnzhqgSDE0M18FscLQZatXvPV1qW5B6%7ExODff-7oUl5nq75O0xIbxMOmDGYwQrwlSwBQ574ZNGFiduuA4FQ5EfeegUgDSlaNQjOb5q%7E7A6PItV2FTzU-Tacg__&Key-Pair-Id=KVTP0A1DKRTAX\n",
            "\n",
            "06/16 05:46:02 [\u001b[1;32mNOTICE\u001b[0m] CUID#13 - Redirecting to https://cdn-lfs.huggingface.co/repos/a3/72/a37288fd25de45b6a8bbb79801907289f6c12bb870db68f75b0024193da1f047/638cb048ee6ad66f85a176e980332b0d61cbddb2d5dc9b5ad1863d87e020350c?response-content-disposition=attachment%3B+filename*%3DUTF-8%27%27pytorch_model-00002-of-00009.bin%3B+filename%3D%22pytorch_model-00002-of-00009.bin%22%3B&response-content-type=application%2Foctet-stream&Expires=1687153562&Policy=eyJTdGF0ZW1lbnQiOlt7IlJlc291cmNlIjoiaHR0cHM6Ly9jZG4tbGZzLmh1Z2dpbmdmYWNlLmNvL3JlcG9zL2EzLzcyL2EzNzI4OGZkMjVkZTQ1YjZhOGJiYjc5ODAxOTA3Mjg5ZjZjMTJiYjg3MGRiNjhmNzViMDAyNDE5M2RhMWYwNDcvNjM4Y2IwNDhlZTZhZDY2Zjg1YTE3NmU5ODAzMzJiMGQ2MWNiZGRiMmQ1ZGM5YjVhZDE4NjNkODdlMDIwMzUwYz9yZXNwb25zZS1jb250ZW50LWRpc3Bvc2l0aW9uPSomcmVzcG9uc2UtY29udGVudC10eXBlPSoiLCJDb25kaXRpb24iOnsiRGF0ZUxlc3NUaGFuIjp7IkFXUzpFcG9jaFRpbWUiOjE2ODcxNTM1NjJ9fX1dfQ__&Signature=ja2MmyET2oPcaqTcLvvvVJCsG0JHNOrdp%7EZ-ugvhjJnEeeh%7E9Tp7vqSjn6cJz2iMBr97ubmYynSLLhEg85oBPZvkPV1VUBF48dUZ-sNmkkOPadib8VuxvCbtVNxdFjps1-zdITCvSrp9EARHE5OeZtFfWE9Ka5snm29U8iRz01Mq%7EYx0WimaaRYlLdOpuFxtko0CwIyiyfoegPCKNc8EfZLcQm1hFQNnzhqgSDE0M18FscLQZatXvPV1qW5B6%7ExODff-7oUl5nq75O0xIbxMOmDGYwQrwlSwBQ574ZNGFiduuA4FQ5EfeegUgDSlaNQjOb5q%7E7A6PItV2FTzU-Tacg__&Key-Pair-Id=KVTP0A1DKRTAX\n",
            "\n",
            "06/16 05:46:02 [\u001b[1;32mNOTICE\u001b[0m] CUID#19 - Redirecting to https://cdn-lfs.huggingface.co/repos/a3/72/a37288fd25de45b6a8bbb79801907289f6c12bb870db68f75b0024193da1f047/d6376a884bc80a6ea95da83f963508e57d8508333c424bed7beda565e4aaa0f3?response-content-disposition=attachment%3B+filename*%3DUTF-8%27%27pytorch_model-00006-of-00009.bin%3B+filename%3D%22pytorch_model-00006-of-00009.bin%22%3B&response-content-type=application%2Foctet-stream&Expires=1687153562&Policy=eyJTdGF0ZW1lbnQiOlt7IlJlc291cmNlIjoiaHR0cHM6Ly9jZG4tbGZzLmh1Z2dpbmdmYWNlLmNvL3JlcG9zL2EzLzcyL2EzNzI4OGZkMjVkZTQ1YjZhOGJiYjc5ODAxOTA3Mjg5ZjZjMTJiYjg3MGRiNjhmNzViMDAyNDE5M2RhMWYwNDcvZDYzNzZhODg0YmM4MGE2ZWE5NWRhODNmOTYzNTA4ZTU3ZDg1MDgzMzNjNDI0YmVkN2JlZGE1NjVlNGFhYTBmMz9yZXNwb25zZS1jb250ZW50LWRpc3Bvc2l0aW9uPSomcmVzcG9uc2UtY29udGVudC10eXBlPSoiLCJDb25kaXRpb24iOnsiRGF0ZUxlc3NUaGFuIjp7IkFXUzpFcG9jaFRpbWUiOjE2ODcxNTM1NjJ9fX1dfQ__&Signature=ZP7kgbOmZySmZMJI-ol0rZabgFhdglECEzdQkQVHijdjsxC5umuq7Y5eQ3ewpk49Qqd1gxDHLL2cPNPa1gwTZH3EtalwxCm9o9i0C9BmKWI%7EBh6imCrzesVQqpfnOb-Nc1XRLBty8STGOl9NDU0afKoWQ%7EU%7Eug%7ELZuajeKvEBRUAzIs9JXTZCNiURQJCIWsFeQL7mcwXxtMD2uM9fj9mZewYPaKXrVQKXOMs8RlkieifSfxYJCYZZJQn2HFc9mTm1ITAGv-288CyY2B6wrCiV18EPHu8SK3OBaPGquRGl5slurJDdbgklqc1AsV0KU%7EqnlhSH8ZruagtXuNK4NseZg__&Key-Pair-Id=KVTP0A1DKRTAX\n",
            "\n",
            "06/16 05:46:02 [\u001b[1;32mNOTICE\u001b[0m] CUID#11 - Redirecting to https://cdn-lfs.huggingface.co/repos/a3/72/a37288fd25de45b6a8bbb79801907289f6c12bb870db68f75b0024193da1f047/7af5021fe9afb9b4186a59a91e75aa60570c66fba43390b634387ee54bd73223?response-content-disposition=attachment%3B+filename*%3DUTF-8%27%27pytorch_model-00008-of-00009.bin%3B+filename%3D%22pytorch_model-00008-of-00009.bin%22%3B&response-content-type=application%2Foctet-stream&Expires=1687153562&Policy=eyJTdGF0ZW1lbnQiOlt7IlJlc291cmNlIjoiaHR0cHM6Ly9jZG4tbGZzLmh1Z2dpbmdmYWNlLmNvL3JlcG9zL2EzLzcyL2EzNzI4OGZkMjVkZTQ1YjZhOGJiYjc5ODAxOTA3Mjg5ZjZjMTJiYjg3MGRiNjhmNzViMDAyNDE5M2RhMWYwNDcvN2FmNTAyMWZlOWFmYjliNDE4NmE1OWE5MWU3NWFhNjA1NzBjNjZmYmE0MzM5MGI2MzQzODdlZTU0YmQ3MzIyMz9yZXNwb25zZS1jb250ZW50LWRpc3Bvc2l0aW9uPSomcmVzcG9uc2UtY29udGVudC10eXBlPSoiLCJDb25kaXRpb24iOnsiRGF0ZUxlc3NUaGFuIjp7IkFXUzpFcG9jaFRpbWUiOjE2ODcxNTM1NjJ9fX1dfQ__&Signature=cyN9uLumJ6Rbt7uCpkESJ32pTHBQDUOBCKVNyB%7EpNs66JvaZL0qC01EwENoaRiFSQLRrH1Tb5OpHYvSkldy6a4PnKtZ2xXwPjX5plMmKwaOhw6gqE0VoSDdzJA86abq-bGrLFCzdjchqbYz6Lg3VYPR0eGhmL9oH4oXM8DwWkfi6VWpcj6f2gapGjqWYsHL9VdtpAqihqsa2-HIsCx14Qt2zsENTVhjEAEwohDTytEuQEuyqYvpD6ddfaqMRQpO3LO84J2SJ6OXhDu60qz1CczxjNKRUMMWsjqHoEVv4oso%7EjNXnn%7EgRiHyyPtixxgtbNItMfFhB-Jw2Fd5iJuxxtg__&Key-Pair-Id=KVTP0A1DKRTAX\n",
            "\u001b[35m[\u001b[0m#3c8e86 10MiB/8.8GiB\u001b[36m(0%)\u001b[0m CN:16 DL:\u001b[32m16MiB\u001b[0m ETA:\u001b[33m9m20s\u001b[0m\u001b[35m]\u001b[0m\u001b[0m\n",
            "06/16 05:46:02 [\u001b[1;32mNOTICE\u001b[0m] CUID#13 - Redirecting to https://cdn-lfs.huggingface.co/repos/a3/72/a37288fd25de45b6a8bbb79801907289f6c12bb870db68f75b0024193da1f047/2fc011e39d4a9c5958630b1bb946dec9ca54adbccc52804fed545490f995b20b?response-content-disposition=attachment%3B+filename*%3DUTF-8%27%27pytorch_model-00004-of-00009.bin%3B+filename%3D%22pytorch_model-00004-of-00009.bin%22%3B&response-content-type=application%2Foctet-stream&Expires=1687153562&Policy=eyJTdGF0ZW1lbnQiOlt7IlJlc291cmNlIjoiaHR0cHM6Ly9jZG4tbGZzLmh1Z2dpbmdmYWNlLmNvL3JlcG9zL2EzLzcyL2EzNzI4OGZkMjVkZTQ1YjZhOGJiYjc5ODAxOTA3Mjg5ZjZjMTJiYjg3MGRiNjhmNzViMDAyNDE5M2RhMWYwNDcvMmZjMDExZTM5ZDRhOWM1OTU4NjMwYjFiYjk0NmRlYzljYTU0YWRiY2NjNTI4MDRmZWQ1NDU0OTBmOTk1YjIwYj9yZXNwb25zZS1jb250ZW50LWRpc3Bvc2l0aW9uPSomcmVzcG9uc2UtY29udGVudC10eXBlPSoiLCJDb25kaXRpb24iOnsiRGF0ZUxlc3NUaGFuIjp7IkFXUzpFcG9jaFRpbWUiOjE2ODcxNTM1NjJ9fX1dfQ__&Signature=DY8bQTkuokWv7il%7Ew5A9l4QFt3ApYFHOafU93Vm2KHP6n1Jv18MfPkULpXmcT7kIUxOlQJoK-0m%7EjQ8rJK%7Ef9%7Ewkro83JTwUag0QJJjk5hMlaoi1NiVkYISYA7n%7Eo-7sHSz5KFD7woR7jfE96BJd%7E2cJvKw-bhD8W%7EUaSmX8B8KwDeDgv6%7ELz8uZR%7Ew4tGC4uX4LKZhvBPYSO%7En4bYJnOdoJJ9jIQ5dJVs69hQ%7EuDitygYLhB%7ElfjA6rbL06y0UCI2WcNfwFm1SPugddiRBl-nHxGJU60JQRQBvnlbOQSU-YfgfRNb%7Ectk5K0iJ1udg83N7GVksYOCd5jYuvjo1i2A__&Key-Pair-Id=KVTP0A1DKRTAX\n",
            "\n",
            "06/16 05:46:02 [\u001b[1;32mNOTICE\u001b[0m] CUID#18 - Redirecting to https://cdn-lfs.huggingface.co/repos/a3/72/a37288fd25de45b6a8bbb79801907289f6c12bb870db68f75b0024193da1f047/2fc011e39d4a9c5958630b1bb946dec9ca54adbccc52804fed545490f995b20b?response-content-disposition=attachment%3B+filename*%3DUTF-8%27%27pytorch_model-00004-of-00009.bin%3B+filename%3D%22pytorch_model-00004-of-00009.bin%22%3B&response-content-type=application%2Foctet-stream&Expires=1687153562&Policy=eyJTdGF0ZW1lbnQiOlt7IlJlc291cmNlIjoiaHR0cHM6Ly9jZG4tbGZzLmh1Z2dpbmdmYWNlLmNvL3JlcG9zL2EzLzcyL2EzNzI4OGZkMjVkZTQ1YjZhOGJiYjc5ODAxOTA3Mjg5ZjZjMTJiYjg3MGRiNjhmNzViMDAyNDE5M2RhMWYwNDcvMmZjMDExZTM5ZDRhOWM1OTU4NjMwYjFiYjk0NmRlYzljYTU0YWRiY2NjNTI4MDRmZWQ1NDU0OTBmOTk1YjIwYj9yZXNwb25zZS1jb250ZW50LWRpc3Bvc2l0aW9uPSomcmVzcG9uc2UtY29udGVudC10eXBlPSoiLCJDb25kaXRpb24iOnsiRGF0ZUxlc3NUaGFuIjp7IkFXUzpFcG9jaFRpbWUiOjE2ODcxNTM1NjJ9fX1dfQ__&Signature=DY8bQTkuokWv7il%7Ew5A9l4QFt3ApYFHOafU93Vm2KHP6n1Jv18MfPkULpXmcT7kIUxOlQJoK-0m%7EjQ8rJK%7Ef9%7Ewkro83JTwUag0QJJjk5hMlaoi1NiVkYISYA7n%7Eo-7sHSz5KFD7woR7jfE96BJd%7E2cJvKw-bhD8W%7EUaSmX8B8KwDeDgv6%7ELz8uZR%7Ew4tGC4uX4LKZhvBPYSO%7En4bYJnOdoJJ9jIQ5dJVs69hQ%7EuDitygYLhB%7ElfjA6rbL06y0UCI2WcNfwFm1SPugddiRBl-nHxGJU60JQRQBvnlbOQSU-YfgfRNb%7Ectk5K0iJ1udg83N7GVksYOCd5jYuvjo1i2A__&Key-Pair-Id=KVTP0A1DKRTAX\n",
            "\n",
            "06/16 05:46:02 [\u001b[1;32mNOTICE\u001b[0m] CUID#15 - Redirecting to https://cdn-lfs.huggingface.co/repos/a3/72/a37288fd25de45b6a8bbb79801907289f6c12bb870db68f75b0024193da1f047/c3f07c8ec31edebe5ff80ed32d175475a044a0517d84c5eff6f6247ad0a4432d?response-content-disposition=attachment%3B+filename*%3DUTF-8%27%27pytorch_model-00007-of-00009.bin%3B+filename%3D%22pytorch_model-00007-of-00009.bin%22%3B&response-content-type=application%2Foctet-stream&Expires=1687153562&Policy=eyJTdGF0ZW1lbnQiOlt7IlJlc291cmNlIjoiaHR0cHM6Ly9jZG4tbGZzLmh1Z2dpbmdmYWNlLmNvL3JlcG9zL2EzLzcyL2EzNzI4OGZkMjVkZTQ1YjZhOGJiYjc5ODAxOTA3Mjg5ZjZjMTJiYjg3MGRiNjhmNzViMDAyNDE5M2RhMWYwNDcvYzNmMDdjOGVjMzFlZGViZTVmZjgwZWQzMmQxNzU0NzVhMDQ0YTA1MTdkODRjNWVmZjZmNjI0N2FkMGE0NDMyZD9yZXNwb25zZS1jb250ZW50LWRpc3Bvc2l0aW9uPSomcmVzcG9uc2UtY29udGVudC10eXBlPSoiLCJDb25kaXRpb24iOnsiRGF0ZUxlc3NUaGFuIjp7IkFXUzpFcG9jaFRpbWUiOjE2ODcxNTM1NjJ9fX1dfQ__&Signature=r6F8BQngcU%7EcKXNfW5Axzt6mJu28l5ScNWTt2t1vCNuslim8BS38Tlj2R97psBar9ORNsw%7ES3Vr03gCatth-rKptqJI7-3ydnz%7EVsyGe6AJb1Fc8S7KqXTcKXUmFjjLYo1wYQnyzO0RD39EjJ4vTxGnWGemo6-HwEdKtTVgqaKsc3vRqyeX3MAIOpTcXT9pN95BYPur%7Ep2fp8pSRZ%7EIHAEpyKv9E%7EEudDi4E7l%7EX6rgWz2ZhJZQL0rI0gXyKul9nK1FFq4xwECPyAIqmDNcVzTe21qe%7EZGmelKF9T96slxGBeiPtSfFOGqKmBBh83MowGZBoccsAQB6a2u39fwuedA__&Key-Pair-Id=KVTP0A1DKRTAX\n",
            "\n",
            "06/16 05:46:02 [\u001b[1;32mNOTICE\u001b[0m] CUID#9 - Redirecting to https://cdn-lfs.huggingface.co/repos/a3/72/a37288fd25de45b6a8bbb79801907289f6c12bb870db68f75b0024193da1f047/7af5021fe9afb9b4186a59a91e75aa60570c66fba43390b634387ee54bd73223?response-content-disposition=attachment%3B+filename*%3DUTF-8%27%27pytorch_model-00008-of-00009.bin%3B+filename%3D%22pytorch_model-00008-of-00009.bin%22%3B&response-content-type=application%2Foctet-stream&Expires=1687153563&Policy=eyJTdGF0ZW1lbnQiOlt7IlJlc291cmNlIjoiaHR0cHM6Ly9jZG4tbGZzLmh1Z2dpbmdmYWNlLmNvL3JlcG9zL2EzLzcyL2EzNzI4OGZkMjVkZTQ1YjZhOGJiYjc5ODAxOTA3Mjg5ZjZjMTJiYjg3MGRiNjhmNzViMDAyNDE5M2RhMWYwNDcvN2FmNTAyMWZlOWFmYjliNDE4NmE1OWE5MWU3NWFhNjA1NzBjNjZmYmE0MzM5MGI2MzQzODdlZTU0YmQ3MzIyMz9yZXNwb25zZS1jb250ZW50LWRpc3Bvc2l0aW9uPSomcmVzcG9uc2UtY29udGVudC10eXBlPSoiLCJDb25kaXRpb24iOnsiRGF0ZUxlc3NUaGFuIjp7IkFXUzpFcG9jaFRpbWUiOjE2ODcxNTM1NjN9fX1dfQ__&Signature=OWgzC5l6PYrubDvyqkYDCrOUduiFrnyPffJAN8i%7EkFKGO4Hmm2GnOlAU4Vj61ohk-iycczFEpEMHBt3mPMjUoaO0DG%7EWbfHBBYNPO%7EGZOOP1vqC-cpCSpYGOq469L-mK63cNsZR4WykyaCs6pGosHEFsHnKbON4kdg5WEVSNGe-iFENf7Vb3tknH%7EEVq6Ap4hFu%7EeBRCzAP59YYzPBnVwjg8WikxoNF7VMo6rROBGyuQS42ioDy4swNCvQ-s23xGZOWme%7EZIX4fpRZyHhI2v7mnPjr2T0qLfZBV5rsiSBNF7WFVFaCezif228TG41U7Nuq5hNjOV6EdL9SJQ%7ELoXSA__&Key-Pair-Id=KVTP0A1DKRTAX\n",
            " *** Download Progress Summary as of Fri Jun 16 05:47:02 2023 ***              40s\u001b[0m\u001b[35m]\u001b[0m\u001b[0m0mm\n",
            "===============================================================================\n",
            "[#33a6b9 6.1GiB/8.8GiB(69%) CN:16 DL:29MiB ETA:1m32s]\n",
            "FILE: models/tiiuae_falcon-40b/pytorch_model-00005-of-00009.bin\n",
            "-------------------------------------------------------------------------------\n",
            "\n",
            " *** Download Progress Summary as of Fri Jun 16 05:47:03 2023 ***              1m32s\u001b[0m\u001b[35m]\u001b[0m\u001b[0m\n",
            "===============================================================================\n",
            " *** Download Progress Summary as of Fri Jun 16 05:47:03 2023 ***              \n",
            "===============================================================================\n",
            "[#399118 6.0GiB/8.8GiB(68%) CN:16 DL:32MiB ETA:1m26s]\n",
            "FILE: models/tiiuae_falcon-40b/pytorch_model-00007-of-00009.bin\n",
            "-------------------------------------------------------------------------------\n",
            "\n",
            "\u001b[35m[\u001b[0m#399118 6.0GiB/8.8GiB\u001b[36m(68%)\u001b[0m CN:16 DL:\u001b[32m32MiB\u001b[0m ETA:\u001b[33m1m26s\u001b[0m\u001b[35m]\u001b[0m\u001b[0m[#0605d5 5.7GiB/8.8GiB(64%) CN:16 DL:40MiB ETA:1m18s]\n",
            "FILE: models/tiiuae_falcon-40b/pytorch_model-00004-of-00009.bin\n",
            "-------------------------------------------------------------------------------\n",
            "\n",
            " *** Download Progress Summary as of Fri Jun 16 05:47:03 2023 ***              1m18s\u001b[0m\u001b[35m]\u001b[0m\u001b[0m\n",
            "===============================================================================\n",
            "[#3c8e86 6.4GiB/8.8GiB(72%) CN:16 DL:54MiB ETA:45s]\n",
            "FILE: models/tiiuae_falcon-40b/pytorch_model-00008-of-00009.bin\n",
            "-------------------------------------------------------------------------------\n",
            "\n",
            " *** Download Progress Summary as of Fri Jun 16 05:47:04 2023 ***              33s\u001b[0m\u001b[35m]\u001b[0m\u001b[0m\n",
            "===============================================================================\n",
            "[#6508ee 7.5GiB/8.8GiB(85%) CN:16 DL:129MiB ETA:10s]\n",
            "FILE: models/tiiuae_falcon-40b/pytorch_model-00001-of-00009.bin\n",
            "-------------------------------------------------------------------------------\n",
            "\n",
            " *** Download Progress Summary as of Fri Jun 16 05:47:04 2023 ***              m10s\u001b[0m\u001b[35m]\u001b[0m\u001b[0m\n",
            "===============================================================================\n",
            "[#6068d0 6.0GiB/8.8GiB(67%) CN:16 DL:40MiB ETA:1m11s]\n",
            "FILE: models/tiiuae_falcon-40b/pytorch_model-00002-of-00009.bin\n",
            "-------------------------------------------------------------------------------\n",
            "\n",
            " *** Download Progress Summary as of Fri Jun 16 05:47:04 2023 ***              m18s\u001b[0m\u001b[35m]\u001b[0m\u001b[0mm\n",
            "===============================================================================\n",
            "[#f655f9 7.7GiB/8.8GiB(87%) CN:16 DL:96MiB ETA:11s]\n",
            "FILE: models/tiiuae_falcon-40b/pytorch_model-00003-of-00009.bin\n",
            "-------------------------------------------------------------------------------\n",
            "\n",
            " *** Download Progress Summary as of Fri Jun 16 05:47:04 2023 ***              11s\u001b[0m\u001b[35m]\u001b[0m\u001b[0m\n",
            "===============================================================================\n",
            "[#7a585f 6.4GiB/8.8GiB(72%) CN:16 DL:70MiB ETA:35s]\n",
            "FILE: models/tiiuae_falcon-40b/pytorch_model-00006-of-00009.bin\n",
            "-------------------------------------------------------------------------------\n",
            "\n",
            "\u001b[35m[\u001b[0m#7a585f 7.6GiB/8.8GiB\u001b[36m(86%)\u001b[0m CN:16 DL:\u001b[32m116MiB\u001b[0m ETA:\u001b[33m10s\u001b[0m\u001b[35m]\u001b[0m\u001b[0m\n",
            "06/16 05:47:15 [\u001b[1;32mNOTICE\u001b[0m] Download complete: models/tiiuae_falcon-40b/pytorch_model-00003-of-00009.bin\n",
            "\n",
            "Download Results:\n",
            "gid   |stat|avg speed  |path/URI\n",
            "======+====+===========+=======================================================\n",
            "f655f9|\u001b[1;32mOK\u001b[0m  |   122MiB/s|models/tiiuae_falcon-40b/pytorch_model-00003-of-00009.bin\n",
            "\n",
            "Status Legend:\n",
            "(OK):download completed.\n",
            "Running: aria2c -c -x 16 -s 16 -k 1M https://huggingface.co/tiiuae/falcon-40b/resolve/main/pytorch_model-00009-of-00009.bin -d models/tiiuae_falcon-40b -o pytorch_model-00009-of-00009.bin\n",
            "\n",
            "06/16 05:47:15 [\u001b[1;32mNOTICE\u001b[0m] Downloading 1 item(s)\n",
            "\n",
            "06/16 05:47:15 [\u001b[1;32mNOTICE\u001b[0m] CUID#7 - Redirecting to https://cdn-lfs.huggingface.co/repos/a3/72/a37288fd25de45b6a8bbb79801907289f6c12bb870db68f75b0024193da1f047/c5c794d3106945f514b5501904506485377c95ce2cef030373c7cbe7459ef610?response-content-disposition=attachment%3B+filename*%3DUTF-8%27%27pytorch_model-00009-of-00009.bin%3B+filename%3D%22pytorch_model-00009-of-00009.bin%22%3B&response-content-type=application%2Foctet-stream&Expires=1687153636&Policy=eyJTdGF0ZW1lbnQiOlt7IlJlc291cmNlIjoiaHR0cHM6Ly9jZG4tbGZzLmh1Z2dpbmdmYWNlLmNvL3JlcG9zL2EzLzcyL2EzNzI4OGZkMjVkZTQ1YjZhOGJiYjc5ODAxOTA3Mjg5ZjZjMTJiYjg3MGRiNjhmNzViMDAyNDE5M2RhMWYwNDcvYzVjNzk0ZDMxMDY5NDVmNTE0YjU1MDE5MDQ1MDY0ODUzNzdjOTVjZTJjZWYwMzAzNzNjN2NiZTc0NTllZjYxMD9yZXNwb25zZS1jb250ZW50LWRpc3Bvc2l0aW9uPSomcmVzcG9uc2UtY29udGVudC10eXBlPSoiLCJDb25kaXRpb24iOnsiRGF0ZUxlc3NUaGFuIjp7IkFXUzpFcG9jaFRpbWUiOjE2ODcxNTM2MzZ9fX1dfQ__&Signature=u1Z12RfBB3ci3WYCqbT92Ef29HsTI2qxkoYScyumryVecEN2V4UUeXxJAtRTjfEwJdpuKgqME2xRs%7ErdhyMIUOEOZWIn7IFOEJu%7EptpxgBIucv2LbSibxA9eEK0VzoCFJVKqaUkObhLhxeYhnDNrnhkWLv%7EbnYP0C4ZulRniMZQJt8TEx5uwheVgXZlUZPX89gFByEImF9htILXNRIrtKGkrvnqH3Ne4ctvLIVE04pKGVFR4oShqy80a5jRE1cIkGXSSgVp4VFI3mzAvJKD%7Ef%7EVFXUaHDA5Gs3dWfYiC8vBMFQdD4Q9KgSHf7I4%7E9y7vE3MrrT5r89ZmLMCfBETzOA__&Key-Pair-Id=KVTP0A1DKRTAX\n",
            "\n",
            "06/16 05:47:15 [\u001b[1;32mNOTICE\u001b[0m] Download complete: models/tiiuae_falcon-40b/pytorch_model-00001-of-00009.bin\n",
            "\n",
            "Download Results:\n",
            "gid   |stat|avg speed  |path/URI\n",
            "======+====+===========+=======================================================\n",
            "6508ee|\u001b[1;32mOK\u001b[0m  |   121MiB/s|models/tiiuae_falcon-40b/pytorch_model-00001-of-00009.bin\n",
            "\n",
            "Status Legend:\n",
            "(OK):download completed.\n",
            "Running: aria2c -c -x 16 -s 16 -k 1M https://huggingface.co/tiiuae/falcon-40b/resolve/main/pytorch_model.bin.index.json -d models/tiiuae_falcon-40b -o pytorch_model.bin.index.json\n",
            " 33%|██████████████▋                             | 6/18 [01:15<02:38, 13.18s/it]\n",
            "06/16 05:47:15 [\u001b[1;32mNOTICE\u001b[0m] Downloading 1 item(s)\n",
            "\u001b[35m[\u001b[0m#3c8e86 8.2GiB/8.8GiB\u001b[36m(93%)\u001b[0m CN:16 DL:\u001b[32m135MiB\u001b[0m ETA:\u001b[33m4s\u001b[0m\u001b[35m]\u001b[0m\u001b[0mm\n",
            "06/16 05:47:16 [\u001b[1;32mNOTICE\u001b[0m] Download complete: models/tiiuae_falcon-40b/pytorch_model.bin.index.json\n",
            "\n",
            "Download Results:\n",
            "gid   |stat|avg speed  |path/URI\n",
            "======+====+===========+=======================================================\n",
            "2c0757|\u001b[1;32mOK\u001b[0m  |   852KiB/s|models/tiiuae_falcon-40b/pytorch_model.bin.index.json\n",
            "\n",
            "Status Legend:\n",
            "(OK):download completed.\n",
            "Running: aria2c -c -x 16 -s 16 -k 1M https://huggingface.co/tiiuae/falcon-40b/resolve/main/special_tokens_map.json -d models/tiiuae_falcon-40b -o special_tokens_map.json\n",
            "\n",
            "06/16 05:47:16 [\u001b[1;32mNOTICE\u001b[0m] Downloading 1 item(s)\n",
            "\u001b[35m[\u001b[0m#7a585f 7.8GiB/8.8GiB\u001b[36m(88%)\u001b[0m CN:16 DL:\u001b[32m123MiB\u001b[0m ETA:\u001b[33m8s\u001b[0m\u001b[35m]\u001b[0m\u001b[0mm\n",
            "06/16 05:47:16 [\u001b[1;32mNOTICE\u001b[0m] Download complete: models/tiiuae_falcon-40b/special_tokens_map.json\n",
            "\n",
            "Download Results:\n",
            "gid   |stat|avg speed  |path/URI\n",
            "======+====+===========+=======================================================\n",
            "c6d9ef|\u001b[1;32mOK\u001b[0m  |        n/a|models/tiiuae_falcon-40b/special_tokens_map.json\n",
            "\n",
            "Status Legend:\n",
            "(OK):download completed.\n",
            "\u001b[35m[\u001b[0m#e08658 16KiB/7.0GiB\u001b[36m(0%)\u001b[0m CN:16 DL:\u001b[32m186KiB\u001b[0m ETA:\u001b[33m11h2m42s\u001b[0m\u001b[35m]\u001b[0m\u001b[0mRunning: aria2c -c -x 16 -s 16 -k 1M https://huggingface.co/tiiuae/falcon-40b/resolve/main/tokenizer.json -d models/tiiuae_falcon-40b -o tokenizer.json\n",
            "\n",
            "06/16 05:47:16 [\u001b[1;32mNOTICE\u001b[0m] Downloading 1 item(s)\n",
            "\n",
            "06/16 05:47:16 [\u001b[1;32mNOTICE\u001b[0m] CUID#9 - Redirecting to https://cdn-lfs.huggingface.co/repos/a3/72/a37288fd25de45b6a8bbb79801907289f6c12bb870db68f75b0024193da1f047/c5c794d3106945f514b5501904506485377c95ce2cef030373c7cbe7459ef610?response-content-disposition=attachment%3B+filename*%3DUTF-8%27%27pytorch_model-00009-of-00009.bin%3B+filename%3D%22pytorch_model-00009-of-00009.bin%22%3B&response-content-type=application%2Foctet-stream&Expires=1687153637&Policy=eyJTdGF0ZW1lbnQiOlt7IlJlc291cmNlIjoiaHR0cHM6Ly9jZG4tbGZzLmh1Z2dpbmdmYWNlLmNvL3JlcG9zL2EzLzcyL2EzNzI4OGZkMjVkZTQ1YjZhOGJiYjc5ODAxOTA3Mjg5ZjZjMTJiYjg3MGRiNjhmNzViMDAyNDE5M2RhMWYwNDcvYzVjNzk0ZDMxMDY5NDVmNTE0YjU1MDE5MDQ1MDY0ODUzNzdjOTVjZTJjZWYwMzAzNzNjN2NiZTc0NTllZjYxMD9yZXNwb25zZS1jb250ZW50LWRpc3Bvc2l0aW9uPSomcmVzcG9uc2UtY29udGVudC10eXBlPSoiLCJDb25kaXRpb24iOnsiRGF0ZUxlc3NUaGFuIjp7IkFXUzpFcG9jaFRpbWUiOjE2ODcxNTM2Mzd9fX1dfQ__&Signature=BI-eZdz3ZGDa-SIsm5GIu0%7EdcpF1gbKxhAd-GCPoBsDRmbVuuPchNztr5yZo800EXnZkgDnMIg9GFiGXyVvtCkGR474oYDz6dE0qnflc63VLCDFXcdP6FuHWhN7kpVidC6p%7Ecyy5UmzsFVTE3vPW8tnZFriydClllBWxBNz1Cx1H%7ENbsuQMATlG9kQd51CYxlMdXgM87cg955rGqQbw443h6U89zrxvj0hAsXikI7Dga-0iOF8RH7kKP5BLr9bMLNd-ehexgziuqXJK%7EoGoDis61ppeSnwG3de1lLG72%7Eg49QgfL9GYxuyokKyupt7zeEl0taHESw91mbGZb-LNfAw__&Key-Pair-Id=KVTP0A1DKRTAX\n",
            "\n",
            "06/16 05:47:16 [\u001b[1;32mNOTICE\u001b[0m] CUID#10 - Redirecting to https://cdn-lfs.huggingface.co/repos/a3/72/a37288fd25de45b6a8bbb79801907289f6c12bb870db68f75b0024193da1f047/c5c794d3106945f514b5501904506485377c95ce2cef030373c7cbe7459ef610?response-content-disposition=attachment%3B+filename*%3DUTF-8%27%27pytorch_model-00009-of-00009.bin%3B+filename%3D%22pytorch_model-00009-of-00009.bin%22%3B&response-content-type=application%2Foctet-stream&Expires=1687153617&Policy=eyJTdGF0ZW1lbnQiOlt7IlJlc291cmNlIjoiaHR0cHM6Ly9jZG4tbGZzLmh1Z2dpbmdmYWNlLmNvL3JlcG9zL2EzLzcyL2EzNzI4OGZkMjVkZTQ1YjZhOGJiYjc5ODAxOTA3Mjg5ZjZjMTJiYjg3MGRiNjhmNzViMDAyNDE5M2RhMWYwNDcvYzVjNzk0ZDMxMDY5NDVmNTE0YjU1MDE5MDQ1MDY0ODUzNzdjOTVjZTJjZWYwMzAzNzNjN2NiZTc0NTllZjYxMD9yZXNwb25zZS1jb250ZW50LWRpc3Bvc2l0aW9uPSomcmVzcG9uc2UtY29udGVudC10eXBlPSoiLCJDb25kaXRpb24iOnsiRGF0ZUxlc3NUaGFuIjp7IkFXUzpFcG9jaFRpbWUiOjE2ODcxNTM2MTd9fX1dfQ__&Signature=mmctyKdvGckmgCRdX8F5xP1A6nIHAnuVHt%7EO2S7a5lLTBSJ7dULs3P1OGxtYbnOpj0Os%7EAcEPBRlJ1ACQyx7-g9udaR3XtVExc-7zKJOcDpTLUpeopaDUpr53O9eO54ud4rudG8q8JW3Qlp5UYedXeB15aJxVqpb5xhkbwJlQ8kutW3ALJjgPqembJURDrMvzaliLFKeWHGcv3Aqt5TTBW6tV794cITbHtGFw0l%7E3fj%7EAFDkE1%7E-vk-DsXf9NpTEAB-fVhxptQUC9i7S%7EI7X5nkMLFn5KZ31SptZs5QAg5ebfPDP%7EYGmGSKGcm63kozzGhkXPpefRfRuswAUjdyZLg__&Key-Pair-Id=KVTP0A1DKRTAX\n",
            "\n",
            "06/16 05:47:16 [\u001b[1;32mNOTICE\u001b[0m] CUID#16 - Redirecting to https://cdn-lfs.huggingface.co/repos/a3/72/a37288fd25de45b6a8bbb79801907289f6c12bb870db68f75b0024193da1f047/c5c794d3106945f514b5501904506485377c95ce2cef030373c7cbe7459ef610?response-content-disposition=attachment%3B+filename*%3DUTF-8%27%27pytorch_model-00009-of-00009.bin%3B+filename%3D%22pytorch_model-00009-of-00009.bin%22%3B&response-content-type=application%2Foctet-stream&Expires=1687153637&Policy=eyJTdGF0ZW1lbnQiOlt7IlJlc291cmNlIjoiaHR0cHM6Ly9jZG4tbGZzLmh1Z2dpbmdmYWNlLmNvL3JlcG9zL2EzLzcyL2EzNzI4OGZkMjVkZTQ1YjZhOGJiYjc5ODAxOTA3Mjg5ZjZjMTJiYjg3MGRiNjhmNzViMDAyNDE5M2RhMWYwNDcvYzVjNzk0ZDMxMDY5NDVmNTE0YjU1MDE5MDQ1MDY0ODUzNzdjOTVjZTJjZWYwMzAzNzNjN2NiZTc0NTllZjYxMD9yZXNwb25zZS1jb250ZW50LWRpc3Bvc2l0aW9uPSomcmVzcG9uc2UtY29udGVudC10eXBlPSoiLCJDb25kaXRpb24iOnsiRGF0ZUxlc3NUaGFuIjp7IkFXUzpFcG9jaFRpbWUiOjE2ODcxNTM2Mzd9fX1dfQ__&Signature=BI-eZdz3ZGDa-SIsm5GIu0%7EdcpF1gbKxhAd-GCPoBsDRmbVuuPchNztr5yZo800EXnZkgDnMIg9GFiGXyVvtCkGR474oYDz6dE0qnflc63VLCDFXcdP6FuHWhN7kpVidC6p%7Ecyy5UmzsFVTE3vPW8tnZFriydClllBWxBNz1Cx1H%7ENbsuQMATlG9kQd51CYxlMdXgM87cg955rGqQbw443h6U89zrxvj0hAsXikI7Dga-0iOF8RH7kKP5BLr9bMLNd-ehexgziuqXJK%7EoGoDis61ppeSnwG3de1lLG72%7Eg49QgfL9GYxuyokKyupt7zeEl0taHESw91mbGZb-LNfAw__&Key-Pair-Id=KVTP0A1DKRTAX\n",
            "\n",
            "06/16 05:47:16 [\u001b[1;32mNOTICE\u001b[0m] CUID#17 - Redirecting to https://cdn-lfs.huggingface.co/repos/a3/72/a37288fd25de45b6a8bbb79801907289f6c12bb870db68f75b0024193da1f047/c5c794d3106945f514b5501904506485377c95ce2cef030373c7cbe7459ef610?response-content-disposition=attachment%3B+filename*%3DUTF-8%27%27pytorch_model-00009-of-00009.bin%3B+filename%3D%22pytorch_model-00009-of-00009.bin%22%3B&response-content-type=application%2Foctet-stream&Expires=1687151614&Policy=eyJTdGF0ZW1lbnQiOlt7IlJlc291cmNlIjoiaHR0cHM6Ly9jZG4tbGZzLmh1Z2dpbmdmYWNlLmNvL3JlcG9zL2EzLzcyL2EzNzI4OGZkMjVkZTQ1YjZhOGJiYjc5ODAxOTA3Mjg5ZjZjMTJiYjg3MGRiNjhmNzViMDAyNDE5M2RhMWYwNDcvYzVjNzk0ZDMxMDY5NDVmNTE0YjU1MDE5MDQ1MDY0ODUzNzdjOTVjZTJjZWYwMzAzNzNjN2NiZTc0NTllZjYxMD9yZXNwb25zZS1jb250ZW50LWRpc3Bvc2l0aW9uPSomcmVzcG9uc2UtY29udGVudC10eXBlPSoiLCJDb25kaXRpb24iOnsiRGF0ZUxlc3NUaGFuIjp7IkFXUzpFcG9jaFRpbWUiOjE2ODcxNTE2MTR9fX1dfQ__&Signature=x7vGn9YTtqg7viKfvigvPv51xU9XB-rU7YHjIEcBAbSP9rq36Da4OtE8mLtU6xJ5Tw2AZ0aWxlfnvAJC1VsfqvrE0ok8OGcT13O-OTBjQJZAaHtkj%7EAyXz3cBHFVCkd%7Ee4zmt-gJR%7EkDee8HpccYoFZu3hBJjBToBO-u3%7ETdz8dRC1kmi1azUpoV2P9ig4NArt-WsLgDh77WSPugbZeZ1Oypolnazisrhxg2kj93ikUh8f%7EeimKh42Zo5fCG5m6W6zFKT9gJCa9dKuKuOS57F80XpOzURk8tuKtZvd2bYYQES%7ExNKqCpsSroO3JEYeuadyLiZ5G1gyMoi29u1JCzgg__&Key-Pair-Id=KVTP0A1DKRTAX\n",
            "\n",
            "06/16 05:47:16 [\u001b[1;32mNOTICE\u001b[0m] CUID#23 - Redirecting to https://cdn-lfs.huggingface.co/repos/a3/72/a37288fd25de45b6a8bbb79801907289f6c12bb870db68f75b0024193da1f047/c5c794d3106945f514b5501904506485377c95ce2cef030373c7cbe7459ef610?response-content-disposition=attachment%3B+filename*%3DUTF-8%27%27pytorch_model-00009-of-00009.bin%3B+filename%3D%22pytorch_model-00009-of-00009.bin%22%3B&response-content-type=application%2Foctet-stream&Expires=1687153637&Policy=eyJTdGF0ZW1lbnQiOlt7IlJlc291cmNlIjoiaHR0cHM6Ly9jZG4tbGZzLmh1Z2dpbmdmYWNlLmNvL3JlcG9zL2EzLzcyL2EzNzI4OGZkMjVkZTQ1YjZhOGJiYjc5ODAxOTA3Mjg5ZjZjMTJiYjg3MGRiNjhmNzViMDAyNDE5M2RhMWYwNDcvYzVjNzk0ZDMxMDY5NDVmNTE0YjU1MDE5MDQ1MDY0ODUzNzdjOTVjZTJjZWYwMzAzNzNjN2NiZTc0NTllZjYxMD9yZXNwb25zZS1jb250ZW50LWRpc3Bvc2l0aW9uPSomcmVzcG9uc2UtY29udGVudC10eXBlPSoiLCJDb25kaXRpb24iOnsiRGF0ZUxlc3NUaGFuIjp7IkFXUzpFcG9jaFRpbWUiOjE2ODcxNTM2Mzd9fX1dfQ__&Signature=BI-eZdz3ZGDa-SIsm5GIu0%7EdcpF1gbKxhAd-GCPoBsDRmbVuuPchNztr5yZo800EXnZkgDnMIg9GFiGXyVvtCkGR474oYDz6dE0qnflc63VLCDFXcdP6FuHWhN7kpVidC6p%7Ecyy5UmzsFVTE3vPW8tnZFriydClllBWxBNz1Cx1H%7ENbsuQMATlG9kQd51CYxlMdXgM87cg955rGqQbw443h6U89zrxvj0hAsXikI7Dga-0iOF8RH7kKP5BLr9bMLNd-ehexgziuqXJK%7EoGoDis61ppeSnwG3de1lLG72%7Eg49QgfL9GYxuyokKyupt7zeEl0taHESw91mbGZb-LNfAw__&Key-Pair-Id=KVTP0A1DKRTAX\n",
            "\n",
            "06/16 05:47:16 [\u001b[1;32mNOTICE\u001b[0m] CUID#21 - Redirecting to https://cdn-lfs.huggingface.co/repos/a3/72/a37288fd25de45b6a8bbb79801907289f6c12bb870db68f75b0024193da1f047/c5c794d3106945f514b5501904506485377c95ce2cef030373c7cbe7459ef610?response-content-disposition=attachment%3B+filename*%3DUTF-8%27%27pytorch_model-00009-of-00009.bin%3B+filename%3D%22pytorch_model-00009-of-00009.bin%22%3B&response-content-type=application%2Foctet-stream&Expires=1687153637&Policy=eyJTdGF0ZW1lbnQiOlt7IlJlc291cmNlIjoiaHR0cHM6Ly9jZG4tbGZzLmh1Z2dpbmdmYWNlLmNvL3JlcG9zL2EzLzcyL2EzNzI4OGZkMjVkZTQ1YjZhOGJiYjc5ODAxOTA3Mjg5ZjZjMTJiYjg3MGRiNjhmNzViMDAyNDE5M2RhMWYwNDcvYzVjNzk0ZDMxMDY5NDVmNTE0YjU1MDE5MDQ1MDY0ODUzNzdjOTVjZTJjZWYwMzAzNzNjN2NiZTc0NTllZjYxMD9yZXNwb25zZS1jb250ZW50LWRpc3Bvc2l0aW9uPSomcmVzcG9uc2UtY29udGVudC10eXBlPSoiLCJDb25kaXRpb24iOnsiRGF0ZUxlc3NUaGFuIjp7IkFXUzpFcG9jaFRpbWUiOjE2ODcxNTM2Mzd9fX1dfQ__&Signature=BI-eZdz3ZGDa-SIsm5GIu0%7EdcpF1gbKxhAd-GCPoBsDRmbVuuPchNztr5yZo800EXnZkgDnMIg9GFiGXyVvtCkGR474oYDz6dE0qnflc63VLCDFXcdP6FuHWhN7kpVidC6p%7Ecyy5UmzsFVTE3vPW8tnZFriydClllBWxBNz1Cx1H%7ENbsuQMATlG9kQd51CYxlMdXgM87cg955rGqQbw443h6U89zrxvj0hAsXikI7Dga-0iOF8RH7kKP5BLr9bMLNd-ehexgziuqXJK%7EoGoDis61ppeSnwG3de1lLG72%7Eg49QgfL9GYxuyokKyupt7zeEl0taHESw91mbGZb-LNfAw__&Key-Pair-Id=KVTP0A1DKRTAX\n",
            "\n",
            "06/16 05:47:16 [\u001b[1;32mNOTICE\u001b[0m] CUID#13 - Redirecting to https://cdn-lfs.huggingface.co/repos/a3/72/a37288fd25de45b6a8bbb79801907289f6c12bb870db68f75b0024193da1f047/c5c794d3106945f514b5501904506485377c95ce2cef030373c7cbe7459ef610?response-content-disposition=attachment%3B+filename*%3DUTF-8%27%27pytorch_model-00009-of-00009.bin%3B+filename%3D%22pytorch_model-00009-of-00009.bin%22%3B&response-content-type=application%2Foctet-stream&Expires=1687153637&Policy=eyJTdGF0ZW1lbnQiOlt7IlJlc291cmNlIjoiaHR0cHM6Ly9jZG4tbGZzLmh1Z2dpbmdmYWNlLmNvL3JlcG9zL2EzLzcyL2EzNzI4OGZkMjVkZTQ1YjZhOGJiYjc5ODAxOTA3Mjg5ZjZjMTJiYjg3MGRiNjhmNzViMDAyNDE5M2RhMWYwNDcvYzVjNzk0ZDMxMDY5NDVmNTE0YjU1MDE5MDQ1MDY0ODUzNzdjOTVjZTJjZWYwMzAzNzNjN2NiZTc0NTllZjYxMD9yZXNwb25zZS1jb250ZW50LWRpc3Bvc2l0aW9uPSomcmVzcG9uc2UtY29udGVudC10eXBlPSoiLCJDb25kaXRpb24iOnsiRGF0ZUxlc3NUaGFuIjp7IkFXUzpFcG9jaFRpbWUiOjE2ODcxNTM2Mzd9fX1dfQ__&Signature=BI-eZdz3ZGDa-SIsm5GIu0%7EdcpF1gbKxhAd-GCPoBsDRmbVuuPchNztr5yZo800EXnZkgDnMIg9GFiGXyVvtCkGR474oYDz6dE0qnflc63VLCDFXcdP6FuHWhN7kpVidC6p%7Ecyy5UmzsFVTE3vPW8tnZFriydClllBWxBNz1Cx1H%7ENbsuQMATlG9kQd51CYxlMdXgM87cg955rGqQbw443h6U89zrxvj0hAsXikI7Dga-0iOF8RH7kKP5BLr9bMLNd-ehexgziuqXJK%7EoGoDis61ppeSnwG3de1lLG72%7Eg49QgfL9GYxuyokKyupt7zeEl0taHESw91mbGZb-LNfAw__&Key-Pair-Id=KVTP0A1DKRTAX\n",
            "\n",
            "06/16 05:47:16 [\u001b[1;32mNOTICE\u001b[0m] CUID#18 - Redirecting to https://cdn-lfs.huggingface.co/repos/a3/72/a37288fd25de45b6a8bbb79801907289f6c12bb870db68f75b0024193da1f047/c5c794d3106945f514b5501904506485377c95ce2cef030373c7cbe7459ef610?response-content-disposition=attachment%3B+filename*%3DUTF-8%27%27pytorch_model-00009-of-00009.bin%3B+filename%3D%22pytorch_model-00009-of-00009.bin%22%3B&response-content-type=application%2Foctet-stream&Expires=1687153637&Policy=eyJTdGF0ZW1lbnQiOlt7IlJlc291cmNlIjoiaHR0cHM6Ly9jZG4tbGZzLmh1Z2dpbmdmYWNlLmNvL3JlcG9zL2EzLzcyL2EzNzI4OGZkMjVkZTQ1YjZhOGJiYjc5ODAxOTA3Mjg5ZjZjMTJiYjg3MGRiNjhmNzViMDAyNDE5M2RhMWYwNDcvYzVjNzk0ZDMxMDY5NDVmNTE0YjU1MDE5MDQ1MDY0ODUzNzdjOTVjZTJjZWYwMzAzNzNjN2NiZTc0NTllZjYxMD9yZXNwb25zZS1jb250ZW50LWRpc3Bvc2l0aW9uPSomcmVzcG9uc2UtY29udGVudC10eXBlPSoiLCJDb25kaXRpb24iOnsiRGF0ZUxlc3NUaGFuIjp7IkFXUzpFcG9jaFRpbWUiOjE2ODcxNTM2Mzd9fX1dfQ__&Signature=BI-eZdz3ZGDa-SIsm5GIu0%7EdcpF1gbKxhAd-GCPoBsDRmbVuuPchNztr5yZo800EXnZkgDnMIg9GFiGXyVvtCkGR474oYDz6dE0qnflc63VLCDFXcdP6FuHWhN7kpVidC6p%7Ecyy5UmzsFVTE3vPW8tnZFriydClllBWxBNz1Cx1H%7ENbsuQMATlG9kQd51CYxlMdXgM87cg955rGqQbw443h6U89zrxvj0hAsXikI7Dga-0iOF8RH7kKP5BLr9bMLNd-ehexgziuqXJK%7EoGoDis61ppeSnwG3de1lLG72%7Eg49QgfL9GYxuyokKyupt7zeEl0taHESw91mbGZb-LNfAw__&Key-Pair-Id=KVTP0A1DKRTAX\n",
            "\n",
            "06/16 05:47:16 [\u001b[1;32mNOTICE\u001b[0m] CUID#15 - Redirecting to https://cdn-lfs.huggingface.co/repos/a3/72/a37288fd25de45b6a8bbb79801907289f6c12bb870db68f75b0024193da1f047/c5c794d3106945f514b5501904506485377c95ce2cef030373c7cbe7459ef610?response-content-disposition=attachment%3B+filename*%3DUTF-8%27%27pytorch_model-00009-of-00009.bin%3B+filename%3D%22pytorch_model-00009-of-00009.bin%22%3B&response-content-type=application%2Foctet-stream&Expires=1687153636&Policy=eyJTdGF0ZW1lbnQiOlt7IlJlc291cmNlIjoiaHR0cHM6Ly9jZG4tbGZzLmh1Z2dpbmdmYWNlLmNvL3JlcG9zL2EzLzcyL2EzNzI4OGZkMjVkZTQ1YjZhOGJiYjc5ODAxOTA3Mjg5ZjZjMTJiYjg3MGRiNjhmNzViMDAyNDE5M2RhMWYwNDcvYzVjNzk0ZDMxMDY5NDVmNTE0YjU1MDE5MDQ1MDY0ODUzNzdjOTVjZTJjZWYwMzAzNzNjN2NiZTc0NTllZjYxMD9yZXNwb25zZS1jb250ZW50LWRpc3Bvc2l0aW9uPSomcmVzcG9uc2UtY29udGVudC10eXBlPSoiLCJDb25kaXRpb24iOnsiRGF0ZUxlc3NUaGFuIjp7IkFXUzpFcG9jaFRpbWUiOjE2ODcxNTM2MzZ9fX1dfQ__&Signature=u1Z12RfBB3ci3WYCqbT92Ef29HsTI2qxkoYScyumryVecEN2V4UUeXxJAtRTjfEwJdpuKgqME2xRs%7ErdhyMIUOEOZWIn7IFOEJu%7EptpxgBIucv2LbSibxA9eEK0VzoCFJVKqaUkObhLhxeYhnDNrnhkWLv%7EbnYP0C4ZulRniMZQJt8TEx5uwheVgXZlUZPX89gFByEImF9htILXNRIrtKGkrvnqH3Ne4ctvLIVE04pKGVFR4oShqy80a5jRE1cIkGXSSgVp4VFI3mzAvJKD%7Ef%7EVFXUaHDA5Gs3dWfYiC8vBMFQdD4Q9KgSHf7I4%7E9y7vE3MrrT5r89ZmLMCfBETzOA__&Key-Pair-Id=KVTP0A1DKRTAX\n",
            "\n",
            "06/16 05:47:16 [\u001b[1;32mNOTICE\u001b[0m] CUID#22 - Redirecting to https://cdn-lfs.huggingface.co/repos/a3/72/a37288fd25de45b6a8bbb79801907289f6c12bb870db68f75b0024193da1f047/c5c794d3106945f514b5501904506485377c95ce2cef030373c7cbe7459ef610?response-content-disposition=attachment%3B+filename*%3DUTF-8%27%27pytorch_model-00009-of-00009.bin%3B+filename%3D%22pytorch_model-00009-of-00009.bin%22%3B&response-content-type=application%2Foctet-stream&Expires=1687153637&Policy=eyJTdGF0ZW1lbnQiOlt7IlJlc291cmNlIjoiaHR0cHM6Ly9jZG4tbGZzLmh1Z2dpbmdmYWNlLmNvL3JlcG9zL2EzLzcyL2EzNzI4OGZkMjVkZTQ1YjZhOGJiYjc5ODAxOTA3Mjg5ZjZjMTJiYjg3MGRiNjhmNzViMDAyNDE5M2RhMWYwNDcvYzVjNzk0ZDMxMDY5NDVmNTE0YjU1MDE5MDQ1MDY0ODUzNzdjOTVjZTJjZWYwMzAzNzNjN2NiZTc0NTllZjYxMD9yZXNwb25zZS1jb250ZW50LWRpc3Bvc2l0aW9uPSomcmVzcG9uc2UtY29udGVudC10eXBlPSoiLCJDb25kaXRpb24iOnsiRGF0ZUxlc3NUaGFuIjp7IkFXUzpFcG9jaFRpbWUiOjE2ODcxNTM2Mzd9fX1dfQ__&Signature=BI-eZdz3ZGDa-SIsm5GIu0%7EdcpF1gbKxhAd-GCPoBsDRmbVuuPchNztr5yZo800EXnZkgDnMIg9GFiGXyVvtCkGR474oYDz6dE0qnflc63VLCDFXcdP6FuHWhN7kpVidC6p%7Ecyy5UmzsFVTE3vPW8tnZFriydClllBWxBNz1Cx1H%7ENbsuQMATlG9kQd51CYxlMdXgM87cg955rGqQbw443h6U89zrxvj0hAsXikI7Dga-0iOF8RH7kKP5BLr9bMLNd-ehexgziuqXJK%7EoGoDis61ppeSnwG3de1lLG72%7Eg49QgfL9GYxuyokKyupt7zeEl0taHESw91mbGZb-LNfAw__&Key-Pair-Id=KVTP0A1DKRTAX\n",
            "\n",
            "06/16 05:47:16 [\u001b[1;32mNOTICE\u001b[0m] CUID#14 - Redirecting to https://cdn-lfs.huggingface.co/repos/a3/72/a37288fd25de45b6a8bbb79801907289f6c12bb870db68f75b0024193da1f047/c5c794d3106945f514b5501904506485377c95ce2cef030373c7cbe7459ef610?response-content-disposition=attachment%3B+filename*%3DUTF-8%27%27pytorch_model-00009-of-00009.bin%3B+filename%3D%22pytorch_model-00009-of-00009.bin%22%3B&response-content-type=application%2Foctet-stream&Expires=1687153637&Policy=eyJTdGF0ZW1lbnQiOlt7IlJlc291cmNlIjoiaHR0cHM6Ly9jZG4tbGZzLmh1Z2dpbmdmYWNlLmNvL3JlcG9zL2EzLzcyL2EzNzI4OGZkMjVkZTQ1YjZhOGJiYjc5ODAxOTA3Mjg5ZjZjMTJiYjg3MGRiNjhmNzViMDAyNDE5M2RhMWYwNDcvYzVjNzk0ZDMxMDY5NDVmNTE0YjU1MDE5MDQ1MDY0ODUzNzdjOTVjZTJjZWYwMzAzNzNjN2NiZTc0NTllZjYxMD9yZXNwb25zZS1jb250ZW50LWRpc3Bvc2l0aW9uPSomcmVzcG9uc2UtY29udGVudC10eXBlPSoiLCJDb25kaXRpb24iOnsiRGF0ZUxlc3NUaGFuIjp7IkFXUzpFcG9jaFRpbWUiOjE2ODcxNTM2Mzd9fX1dfQ__&Signature=BI-eZdz3ZGDa-SIsm5GIu0%7EdcpF1gbKxhAd-GCPoBsDRmbVuuPchNztr5yZo800EXnZkgDnMIg9GFiGXyVvtCkGR474oYDz6dE0qnflc63VLCDFXcdP6FuHWhN7kpVidC6p%7Ecyy5UmzsFVTE3vPW8tnZFriydClllBWxBNz1Cx1H%7ENbsuQMATlG9kQd51CYxlMdXgM87cg955rGqQbw443h6U89zrxvj0hAsXikI7Dga-0iOF8RH7kKP5BLr9bMLNd-ehexgziuqXJK%7EoGoDis61ppeSnwG3de1lLG72%7Eg49QgfL9GYxuyokKyupt7zeEl0taHESw91mbGZb-LNfAw__&Key-Pair-Id=KVTP0A1DKRTAX\n",
            "\n",
            "06/16 05:47:16 [\u001b[1;32mNOTICE\u001b[0m] CUID#20 - Redirecting to https://cdn-lfs.huggingface.co/repos/a3/72/a37288fd25de45b6a8bbb79801907289f6c12bb870db68f75b0024193da1f047/c5c794d3106945f514b5501904506485377c95ce2cef030373c7cbe7459ef610?response-content-disposition=attachment%3B+filename*%3DUTF-8%27%27pytorch_model-00009-of-00009.bin%3B+filename%3D%22pytorch_model-00009-of-00009.bin%22%3B&response-content-type=application%2Foctet-stream&Expires=1687153637&Policy=eyJTdGF0ZW1lbnQiOlt7IlJlc291cmNlIjoiaHR0cHM6Ly9jZG4tbGZzLmh1Z2dpbmdmYWNlLmNvL3JlcG9zL2EzLzcyL2EzNzI4OGZkMjVkZTQ1YjZhOGJiYjc5ODAxOTA3Mjg5ZjZjMTJiYjg3MGRiNjhmNzViMDAyNDE5M2RhMWYwNDcvYzVjNzk0ZDMxMDY5NDVmNTE0YjU1MDE5MDQ1MDY0ODUzNzdjOTVjZTJjZWYwMzAzNzNjN2NiZTc0NTllZjYxMD9yZXNwb25zZS1jb250ZW50LWRpc3Bvc2l0aW9uPSomcmVzcG9uc2UtY29udGVudC10eXBlPSoiLCJDb25kaXRpb24iOnsiRGF0ZUxlc3NUaGFuIjp7IkFXUzpFcG9jaFRpbWUiOjE2ODcxNTM2Mzd9fX1dfQ__&Signature=BI-eZdz3ZGDa-SIsm5GIu0%7EdcpF1gbKxhAd-GCPoBsDRmbVuuPchNztr5yZo800EXnZkgDnMIg9GFiGXyVvtCkGR474oYDz6dE0qnflc63VLCDFXcdP6FuHWhN7kpVidC6p%7Ecyy5UmzsFVTE3vPW8tnZFriydClllBWxBNz1Cx1H%7ENbsuQMATlG9kQd51CYxlMdXgM87cg955rGqQbw443h6U89zrxvj0hAsXikI7Dga-0iOF8RH7kKP5BLr9bMLNd-ehexgziuqXJK%7EoGoDis61ppeSnwG3de1lLG72%7Eg49QgfL9GYxuyokKyupt7zeEl0taHESw91mbGZb-LNfAw__&Key-Pair-Id=KVTP0A1DKRTAX\n",
            "\n",
            "06/16 05:47:17 [\u001b[1;32mNOTICE\u001b[0m] CUID#19 - Redirecting to https://cdn-lfs.huggingface.co/repos/a3/72/a37288fd25de45b6a8bbb79801907289f6c12bb870db68f75b0024193da1f047/c5c794d3106945f514b5501904506485377c95ce2cef030373c7cbe7459ef610?response-content-disposition=attachment%3B+filename*%3DUTF-8%27%27pytorch_model-00009-of-00009.bin%3B+filename%3D%22pytorch_model-00009-of-00009.bin%22%3B&response-content-type=application%2Foctet-stream&Expires=1687153636&Policy=eyJTdGF0ZW1lbnQiOlt7IlJlc291cmNlIjoiaHR0cHM6Ly9jZG4tbGZzLmh1Z2dpbmdmYWNlLmNvL3JlcG9zL2EzLzcyL2EzNzI4OGZkMjVkZTQ1YjZhOGJiYjc5ODAxOTA3Mjg5ZjZjMTJiYjg3MGRiNjhmNzViMDAyNDE5M2RhMWYwNDcvYzVjNzk0ZDMxMDY5NDVmNTE0YjU1MDE5MDQ1MDY0ODUzNzdjOTVjZTJjZWYwMzAzNzNjN2NiZTc0NTllZjYxMD9yZXNwb25zZS1jb250ZW50LWRpc3Bvc2l0aW9uPSomcmVzcG9uc2UtY29udGVudC10eXBlPSoiLCJDb25kaXRpb24iOnsiRGF0ZUxlc3NUaGFuIjp7IkFXUzpFcG9jaFRpbWUiOjE2ODcxNTM2MzZ9fX1dfQ__&Signature=u1Z12RfBB3ci3WYCqbT92Ef29HsTI2qxkoYScyumryVecEN2V4UUeXxJAtRTjfEwJdpuKgqME2xRs%7ErdhyMIUOEOZWIn7IFOEJu%7EptpxgBIucv2LbSibxA9eEK0VzoCFJVKqaUkObhLhxeYhnDNrnhkWLv%7EbnYP0C4ZulRniMZQJt8TEx5uwheVgXZlUZPX89gFByEImF9htILXNRIrtKGkrvnqH3Ne4ctvLIVE04pKGVFR4oShqy80a5jRE1cIkGXSSgVp4VFI3mzAvJKD%7Ef%7EVFXUaHDA5Gs3dWfYiC8vBMFQdD4Q9KgSHf7I4%7E9y7vE3MrrT5r89ZmLMCfBETzOA__&Key-Pair-Id=KVTP0A1DKRTAX\n",
            "\n",
            "06/16 05:47:17 [\u001b[1;32mNOTICE\u001b[0m] CUID#11 - Redirecting to https://cdn-lfs.huggingface.co/repos/a3/72/a37288fd25de45b6a8bbb79801907289f6c12bb870db68f75b0024193da1f047/c5c794d3106945f514b5501904506485377c95ce2cef030373c7cbe7459ef610?response-content-disposition=attachment%3B+filename*%3DUTF-8%27%27pytorch_model-00009-of-00009.bin%3B+filename%3D%22pytorch_model-00009-of-00009.bin%22%3B&response-content-type=application%2Foctet-stream&Expires=1687153637&Policy=eyJTdGF0ZW1lbnQiOlt7IlJlc291cmNlIjoiaHR0cHM6Ly9jZG4tbGZzLmh1Z2dpbmdmYWNlLmNvL3JlcG9zL2EzLzcyL2EzNzI4OGZkMjVkZTQ1YjZhOGJiYjc5ODAxOTA3Mjg5ZjZjMTJiYjg3MGRiNjhmNzViMDAyNDE5M2RhMWYwNDcvYzVjNzk0ZDMxMDY5NDVmNTE0YjU1MDE5MDQ1MDY0ODUzNzdjOTVjZTJjZWYwMzAzNzNjN2NiZTc0NTllZjYxMD9yZXNwb25zZS1jb250ZW50LWRpc3Bvc2l0aW9uPSomcmVzcG9uc2UtY29udGVudC10eXBlPSoiLCJDb25kaXRpb24iOnsiRGF0ZUxlc3NUaGFuIjp7IkFXUzpFcG9jaFRpbWUiOjE2ODcxNTM2Mzd9fX1dfQ__&Signature=BI-eZdz3ZGDa-SIsm5GIu0%7EdcpF1gbKxhAd-GCPoBsDRmbVuuPchNztr5yZo800EXnZkgDnMIg9GFiGXyVvtCkGR474oYDz6dE0qnflc63VLCDFXcdP6FuHWhN7kpVidC6p%7Ecyy5UmzsFVTE3vPW8tnZFriydClllBWxBNz1Cx1H%7ENbsuQMATlG9kQd51CYxlMdXgM87cg955rGqQbw443h6U89zrxvj0hAsXikI7Dga-0iOF8RH7kKP5BLr9bMLNd-ehexgziuqXJK%7EoGoDis61ppeSnwG3de1lLG72%7Eg49QgfL9GYxuyokKyupt7zeEl0taHESw91mbGZb-LNfAw__&Key-Pair-Id=KVTP0A1DKRTAX\n",
            "\u001b[35m[\u001b[0m#399118 7.8GiB/8.8GiB\u001b[36m(88%)\u001b[0m CN:16 DL:\u001b[32m125MiB\u001b[0m ETA:\u001b[33m8s\u001b[0m\u001b[35m]\u001b[0m\u001b[0mm\n",
            "06/16 05:47:17 [\u001b[1;32mNOTICE\u001b[0m] CUID#12 - Redirecting to https://cdn-lfs.huggingface.co/repos/a3/72/a37288fd25de45b6a8bbb79801907289f6c12bb870db68f75b0024193da1f047/c5c794d3106945f514b5501904506485377c95ce2cef030373c7cbe7459ef610?response-content-disposition=attachment%3B+filename*%3DUTF-8%27%27pytorch_model-00009-of-00009.bin%3B+filename%3D%22pytorch_model-00009-of-00009.bin%22%3B&response-content-type=application%2Foctet-stream&Expires=1687153637&Policy=eyJTdGF0ZW1lbnQiOlt7IlJlc291cmNlIjoiaHR0cHM6Ly9jZG4tbGZzLmh1Z2dpbmdmYWNlLmNvL3JlcG9zL2EzLzcyL2EzNzI4OGZkMjVkZTQ1YjZhOGJiYjc5ODAxOTA3Mjg5ZjZjMTJiYjg3MGRiNjhmNzViMDAyNDE5M2RhMWYwNDcvYzVjNzk0ZDMxMDY5NDVmNTE0YjU1MDE5MDQ1MDY0ODUzNzdjOTVjZTJjZWYwMzAzNzNjN2NiZTc0NTllZjYxMD9yZXNwb25zZS1jb250ZW50LWRpc3Bvc2l0aW9uPSomcmVzcG9uc2UtY29udGVudC10eXBlPSoiLCJDb25kaXRpb24iOnsiRGF0ZUxlc3NUaGFuIjp7IkFXUzpFcG9jaFRpbWUiOjE2ODcxNTM2Mzd9fX1dfQ__&Signature=BI-eZdz3ZGDa-SIsm5GIu0%7EdcpF1gbKxhAd-GCPoBsDRmbVuuPchNztr5yZo800EXnZkgDnMIg9GFiGXyVvtCkGR474oYDz6dE0qnflc63VLCDFXcdP6FuHWhN7kpVidC6p%7Ecyy5UmzsFVTE3vPW8tnZFriydClllBWxBNz1Cx1H%7ENbsuQMATlG9kQd51CYxlMdXgM87cg955rGqQbw443h6U89zrxvj0hAsXikI7Dga-0iOF8RH7kKP5BLr9bMLNd-ehexgziuqXJK%7EoGoDis61ppeSnwG3de1lLG72%7Eg49QgfL9GYxuyokKyupt7zeEl0taHESw91mbGZb-LNfAw__&Key-Pair-Id=KVTP0A1DKRTAX\n",
            "\u001b[35m[\u001b[0m#3c8e86 8.4GiB/8.8GiB\u001b[36m(95%)\u001b[0m CN:16 DL:\u001b[32m132MiB\u001b[0m ETA:\u001b[33m2s\u001b[0m\u001b[35m]\u001b[0m\u001b[0m\n",
            "06/16 05:47:18 [\u001b[1;32mNOTICE\u001b[0m] Download complete: models/tiiuae_falcon-40b/tokenizer.json\n",
            "\n",
            "Download Results:\n",
            "gid   |stat|avg speed  |path/URI\n",
            "======+====+===========+=======================================================\n",
            "237dc4|\u001b[1;32mOK\u001b[0m  |   3.5MiB/s|models/tiiuae_falcon-40b/tokenizer.json\n",
            "\n",
            "Status Legend:\n",
            "(OK):download completed.\n",
            "Running: aria2c -c -x 16 -s 16 -k 1M https://huggingface.co/tiiuae/falcon-40b/resolve/main/tokenizer_config.json -d models/tiiuae_falcon-40b -o tokenizer_config.json\n",
            "\n",
            "06/16 05:47:18 [\u001b[1;32mNOTICE\u001b[0m] Downloading 1 item(s)\n",
            "\u001b[35m[\u001b[0m#41cdd0 0B/175B\u001b[36m(0%)\u001b[0m CN:1 DL:\u001b[32m0B\u001b[0m\u001b[35m]\u001b[0m\u001b[0m       m1s\u001b[0m\u001b[35m]\u001b[0m\u001b[0mm\n",
            "06/16 05:47:19 [\u001b[1;32mNOTICE\u001b[0m] Download complete: models/tiiuae_falcon-40b/tokenizer_config.json\n",
            "\n",
            "Download Results:\n",
            "gid   |stat|avg speed  |path/URI\n",
            "======+====+===========+=======================================================\n",
            "41cdd0|\u001b[1;32mOK\u001b[0m  |     224B/s|models/tiiuae_falcon-40b/tokenizer_config.json\n",
            "\n",
            "Status Legend:\n",
            "(OK):download completed.\n",
            "\n",
            "06/16 05:47:19 [\u001b[1;32mNOTICE\u001b[0m] Download complete: models/tiiuae_falcon-40b/pytorch_model-00005-of-00009.bin\n",
            "\n",
            "Download Results:\n",
            "gid   |stat|avg speed  |path/URI\n",
            "======+====+===========+=======================================================\n",
            "33a6b9|\u001b[1;32mOK\u001b[0m  |   118MiB/s|models/tiiuae_falcon-40b/pytorch_model-00005-of-00009.bin\n",
            "\n",
            "Status Legend:\n",
            "(OK):download completed.\n",
            "\u001b[35m[\u001b[0m#e08658 421MiB/7.0GiB\u001b[36m(5%)\u001b[0m CN:16 DL:\u001b[32m83MiB\u001b[0m ETA:\u001b[33m1m21s\u001b[0m\u001b[35m]\u001b[0m\u001b[0m\n",
            "06/16 05:47:21 [\u001b[1;32mNOTICE\u001b[0m] Download complete: models/tiiuae_falcon-40b/pytorch_model-00008-of-00009.bin\n",
            "\n",
            "Download Results:\n",
            "gid   |stat|avg speed  |path/URI\n",
            "======+====+===========+=======================================================\n",
            "3c8e86|\u001b[1;32mOK\u001b[0m  |   113MiB/s|models/tiiuae_falcon-40b/pytorch_model-00008-of-00009.bin\n",
            "\n",
            "Status Legend:\n",
            "(OK):download completed.\n",
            "\u001b[35m[\u001b[0m#e08658 836MiB/7.0GiB\u001b[36m(11%)\u001b[0m CN:16 DL:\u001b[32m118MiB\u001b[0m ETA:\u001b[33m53s\u001b[0m\u001b[35m]\u001b[0m\u001b[0m\n",
            "06/16 05:47:23 [\u001b[1;32mNOTICE\u001b[0m] Download complete: models/tiiuae_falcon-40b/pytorch_model-00007-of-00009.bin\n",
            "\n",
            "Download Results:\n",
            "gid   |stat|avg speed  |path/URI\n",
            "======+====+===========+=======================================================\n",
            "399118|\u001b[1;32mOK\u001b[0m  |   111MiB/s|models/tiiuae_falcon-40b/pytorch_model-00007-of-00009.bin\n",
            "\n",
            "Status Legend:\n",
            "(OK):download completed.\n",
            "\u001b[35m[\u001b[0m#0605d5 8.8GiB/8.8GiB\u001b[36m(99%)\u001b[0m CN:13 DL:\u001b[32m181MiB\u001b[0m\u001b[35m]\u001b[0m\u001b[0m\n",
            "06/16 05:47:24 [\u001b[1;32mNOTICE\u001b[0m] Download complete: models/tiiuae_falcon-40b/pytorch_model-00006-of-00009.bin\n",
            "\n",
            "Download Results:\n",
            "gid   |stat|avg speed  |path/URI\n",
            "======+====+===========+=======================================================\n",
            "7a585f|\u001b[1;32mOK\u001b[0m  |   110MiB/s|models/tiiuae_falcon-40b/pytorch_model-00006-of-00009.bin\n",
            "\n",
            "Status Legend:\n",
            "(OK):download completed.\n",
            "\u001b[35m[\u001b[0m#e08658 1.1GiB/7.0GiB\u001b[36m(16%)\u001b[0m CN:16 DL:\u001b[32m151MiB\u001b[0m ETA:\u001b[33m39s\u001b[0m\u001b[35m]\u001b[0m\u001b[0m\n",
            "06/16 05:47:25 [\u001b[1;32mNOTICE\u001b[0m] Download complete: models/tiiuae_falcon-40b/pytorch_model-00002-of-00009.bin\n",
            "\n",
            "Download Results:\n",
            "gid   |stat|avg speed  |path/URI\n",
            "======+====+===========+=======================================================\n",
            "6068d0|\u001b[1;32mOK\u001b[0m  |   109MiB/s|models/tiiuae_falcon-40b/pytorch_model-00002-of-00009.bin\n",
            "\n",
            "Status Legend:\n",
            "(OK):download completed.\n",
            "\u001b[35m[\u001b[0m#e08658 1.7GiB/7.0GiB\u001b[36m(24%)\u001b[0m CN:16 DL:\u001b[32m196MiB\u001b[0m ETA:\u001b[33m27s\u001b[0m\u001b[35m]\u001b[0m\u001b[0m\n",
            "06/16 05:47:25 [\u001b[1;32mNOTICE\u001b[0m] Download complete: models/tiiuae_falcon-40b/pytorch_model-00004-of-00009.bin\n",
            "\n",
            "Download Results:\n",
            "gid   |stat|avg speed  |path/URI\n",
            "======+====+===========+=======================================================\n",
            "0605d5|\u001b[1;32mOK\u001b[0m  |   109MiB/s|models/tiiuae_falcon-40b/pytorch_model-00004-of-00009.bin\n",
            "\n",
            "Status Legend:\n",
            "(OK):download completed.\n",
            "\u001b[35m[\u001b[0m#e08658 6.8GiB/7.0GiB\u001b[36m(97%)\u001b[0m CN:16 DL:\u001b[32m531MiB\u001b[0m\u001b[35m]\u001b[0m\u001b[0m0m\u001b[35m]\u001b[0m\u001b[0mm\n",
            "06/16 05:47:38 [\u001b[1;32mNOTICE\u001b[0m] Download complete: models/tiiuae_falcon-40b/pytorch_model-00009-of-00009.bin\n",
            "\n",
            "Download Results:\n",
            "gid   |stat|avg speed  |path/URI\n",
            "======+====+===========+=======================================================\n",
            "e08658|\u001b[1;32mOK\u001b[0m  |   367MiB/s|models/tiiuae_falcon-40b/pytorch_model-00009-of-00009.bin\n",
            "\n",
            "Status Legend:\n",
            "(OK):download completed.\n",
            "100%|███████████████████████████████████████████| 18/18 [01:37<00:00,  5.43s/it]\n",
            "\n"
          ]
        },
        {
          "data": {
            "application/javascript": [
              "$(document).ready(\n",
              "    function() {\n",
              "        function appendUniqueDiv(){\n",
              "            // append a div with our uuid so we can check that it's already\n",
              "            // been sent and avoid duplicates on page reload\n",
              "            var notifiedDiv = document.createElement(\"div\")\n",
              "            notifiedDiv.id = \"8b4d3c1a-1efe-4e06-99db-0a28afaac16a\"\n",
              "            element.append(notifiedDiv)\n",
              "        }\n",
              "\n",
              "        // only send notifications if the pageload is complete; this will\n",
              "        // help stop extra notifications when a saved notebook is loaded,\n",
              "        // which during testing gives us state \"interactive\", not \"complete\"\n",
              "        if (document.readyState === 'complete') {\n",
              "            // check for the div that signifies that the notification\n",
              "            // was already sent\n",
              "            if (document.getElementById(\"8b4d3c1a-1efe-4e06-99db-0a28afaac16a\") === null) {\n",
              "                var notificationPayload = {\"requireInteraction\": false, \"icon\": \"/static/base/images/favicon.ico\", \"body\": \"Cell Execution Has Finished!!\", \"autonotify_after\": \"30\", \"autonotify_output\": true, \"only_in_background\": false};\n",
              "\n",
              "                // We have a notification but the window is active\n",
              "                if (notificationPayload.only_in_background && !window.jupyterNotifyIsInBackground) {\n",
              "                    appendUniqueDiv();\n",
              "                    return;\n",
              "                }\n",
              "                if (Notification.permission !== 'denied') {\n",
              "                    if (Notification.permission !== 'granted') { \n",
              "                        Notification.requestPermission(function (permission) {\n",
              "                            if(!('permission' in Notification)) {\n",
              "                                Notification.permission = permission\n",
              "                            }\n",
              "                        })\n",
              "                    }\n",
              "                    if (Notification.permission === 'granted') {\n",
              "                    var notification = new Notification(\"Jupyter Notebook\", notificationPayload)\n",
              "                    appendUniqueDiv()\n",
              "                    notification.onclick = function () {\n",
              "                        window.focus();\n",
              "                        this.close();\n",
              "                        };\n",
              "                    } \n",
              "                }     \n",
              "            }\n",
              "        }\n",
              "    }\n",
              ")\n"
            ],
            "text/plain": [
              "<IPython.core.display.Javascript object>"
            ]
          },
          "metadata": {},
          "output_type": "display_data"
        }
      ],
      "source": [
        "!python /content/llm-playground/helper/download-model.py tiiuae/falcon-40b\n",
        "# /content/llm-playground/models/tiiuae_falcon-40b"
      ]
    },
    {
      "cell_type": "code",
      "execution_count": null,
      "metadata": {
        "id": "ydCdRNI9gJ78"
      },
      "outputs": [],
      "source": [
        "# Downloading shards: 100%|████████████████████████| 9/9 [19:19<00:00, 128.85s/it]\n",
        "# Loading checkpoint shards: 100%|██████████████████| 9/9 [01:30<00:00, 10.08s/it]\n",
        "# (OK):download completed.\n",
        "# 100%|████████████████████████████████████████████████████████████████████| 18/18 [01:44<00:00,  5.81s/it]"
      ]
    },
    {
      "cell_type": "markdown",
      "metadata": {
        "id": "RFqQyPp5HbAm"
      },
      "source": [
        "### HF Login"
      ]
    },
    {
      "cell_type": "code",
      "execution_count": null,
      "metadata": {
        "id": "s6wC1lP23B-4",
        "outputId": "3326297a-1f36-4f48-8793-7ce777b29cdb"
      },
      "outputs": [
        {
          "name": "stdout",
          "output_type": "stream",
          "text": [
            "Token is valid (permission: write).\n",
            "Your token has been saved in your configured git credential helpers (store).\n",
            "Your token has been saved to /root/.cache/huggingface/token\n",
            "Login successful\n"
          ]
        }
      ],
      "source": [
        "# For axolotl push_dataset_to_hub\n",
        "import os\n",
        "from huggingface_hub import notebook_login, login\n",
        "# Colab:\n",
        "# notebook_login()\n",
        "# RunPod:\n",
        "login(os.environ.get(\"HUGGINGFACE_TOKEN\"), add_to_git_credential=True)"
      ]
    },
    {
      "cell_type": "markdown",
      "metadata": {
        "id": "R2AigYR_DY7X"
      },
      "source": [
        "### Update axolotl"
      ]
    },
    {
      "cell_type": "code",
      "execution_count": null,
      "metadata": {
        "id": "IQYJdcd7DY7X"
      },
      "outputs": [],
      "source": [
        "%cd /workspace/"
      ]
    },
    {
      "cell_type": "code",
      "execution_count": null,
      "metadata": {
        "id": "PLn5aNACDY7X",
        "scrolled": true
      },
      "outputs": [],
      "source": [
        "!git clone https://github.com/OpenAccess-AI-Collective/axolotl axolotl-update"
      ]
    },
    {
      "cell_type": "code",
      "execution_count": null,
      "metadata": {
        "id": "vdY5tXtYDY7X"
      },
      "outputs": [],
      "source": [
        "!cp -r axolotl-update/* axolotl"
      ]
    },
    {
      "cell_type": "code",
      "execution_count": null,
      "metadata": {
        "id": "kHsKmIUmDY7Y"
      },
      "outputs": [],
      "source": [
        "%cd /workspace/axolotl"
      ]
    },
    {
      "cell_type": "code",
      "execution_count": null,
      "metadata": {
        "id": "ljX3Yir2DY7Y",
        "scrolled": true
      },
      "outputs": [],
      "source": [
        "!git status"
      ]
    },
    {
      "cell_type": "code",
      "execution_count": null,
      "metadata": {
        "id": "Adru8lVlzhLi"
      },
      "outputs": [],
      "source": [
        "!ds_report"
      ]
    },
    {
      "cell_type": "code",
      "execution_count": null,
      "metadata": {
        "id": "wbaorAF2DY7Y",
        "scrolled": true
      },
      "outputs": [],
      "source": [
        "!pip install -e ."
      ]
    },
    {
      "cell_type": "code",
      "execution_count": null,
      "metadata": {
        "id": "p_9eIEonzhLi"
      },
      "outputs": [],
      "source": [
        "!pip list|grep torch"
      ]
    },
    {
      "cell_type": "markdown",
      "metadata": {
        "id": "SD1Ahx1QG5xm"
      },
      "source": [
        "### Init Storage"
      ]
    },
    {
      "cell_type": "code",
      "execution_count": null,
      "metadata": {
        "id": "LBBF-lS2HVPG",
        "outputId": "4d389e27-531d-4bcc-c9ab-47cedde3b5eb"
      },
      "outputs": [
        {
          "name": "stdout",
          "output_type": "stream",
          "text": [
            "/content/axolotl-trained is already a clone of https://huggingface.co/utensil/axolotl-trained. Make sure you pull the latest changes with `repo.git_pull()`.\n"
          ]
        }
      ],
      "source": [
        "!python /content/llm-playground/helper/storage.py utensil/axolotl-trained /content/ -m"
      ]
    },
    {
      "cell_type": "code",
      "execution_count": null,
      "metadata": {
        "id": "0_FP2VeXH0Un",
        "outputId": "552f8ca9-1403-47e7-ec5e-098e3bd248c5"
      },
      "outputs": [
        {
          "name": "stdout",
          "output_type": "stream",
          "text": [
            "falcon-qlora-40b-gsm8k\n"
          ]
        }
      ],
      "source": [
        "!ls /content/axolotl-trained"
      ]
    },
    {
      "cell_type": "code",
      "execution_count": null,
      "metadata": {
        "id": "G86XUuQ1gJ8J"
      },
      "outputs": [],
      "source": []
    },
    {
      "cell_type": "code",
      "execution_count": null,
      "metadata": {
        "id": "oOXz9ZCJgJ8J"
      },
      "outputs": [],
      "source": []
    },
    {
      "cell_type": "markdown",
      "metadata": {
        "id": "raYU6HmYduRa"
      },
      "source": [
        "### Reinstall PyTorch with CUDA 11.8 (optional)"
      ]
    },
    {
      "cell_type": "code",
      "execution_count": null,
      "metadata": {
        "id": "Ym6v1nl6duRa",
        "outputId": "7e5078cd-0aba-4d65-8342-56106d536f03"
      },
      "outputs": [
        {
          "name": "stdout",
          "output_type": "stream",
          "text": [
            "Looking in indexes: https://download.pytorch.org/whl/cu118\n",
            "Requirement already satisfied: torch in /root/miniconda3/envs/py3.9/lib/python3.9/site-packages (2.0.1)\n",
            "Collecting torch\n",
            "  Using cached https://download.pytorch.org/whl/cu118/torch-2.0.1%2Bcu118-cp39-cp39-linux_x86_64.whl (2267.3 MB)\n",
            "Requirement already satisfied: filelock in /root/miniconda3/envs/py3.9/lib/python3.9/site-packages (from torch) (3.12.2)\n",
            "Requirement already satisfied: typing-extensions in /root/miniconda3/envs/py3.9/lib/python3.9/site-packages (from torch) (4.6.3)\n",
            "Requirement already satisfied: sympy in /root/miniconda3/envs/py3.9/lib/python3.9/site-packages (from torch) (1.12)\n",
            "Requirement already satisfied: networkx in /root/miniconda3/envs/py3.9/lib/python3.9/site-packages (from torch) (3.1)\n",
            "Requirement already satisfied: jinja2 in /root/miniconda3/envs/py3.9/lib/python3.9/site-packages (from torch) (3.1.2)\n",
            "Requirement already satisfied: triton==2.0.0 in /root/miniconda3/envs/py3.9/lib/python3.9/site-packages (from torch) (2.0.0)\n",
            "Requirement already satisfied: cmake in /root/miniconda3/envs/py3.9/lib/python3.9/site-packages (from triton==2.0.0->torch) (3.26.4)\n",
            "Requirement already satisfied: lit in /root/miniconda3/envs/py3.9/lib/python3.9/site-packages (from triton==2.0.0->torch) (16.0.6)\n",
            "Requirement already satisfied: MarkupSafe>=2.0 in /root/miniconda3/envs/py3.9/lib/python3.9/site-packages (from jinja2->torch) (2.1.3)\n",
            "Requirement already satisfied: mpmath>=0.19 in /root/miniconda3/envs/py3.9/lib/python3.9/site-packages (from sympy->torch) (1.3.0)\n",
            "Installing collected packages: torch\n",
            "  Attempting uninstall: torch\n",
            "    Found existing installation: torch 2.0.1\n",
            "    Uninstalling torch-2.0.1:\n",
            "      Successfully uninstalled torch-2.0.1\n",
            "\u001b[31mERROR: pip's dependency resolver does not currently take into account all the packages that are installed. This behaviour is the source of the following dependency conflicts.\n",
            "torchaudio 2.0.1+cu118 requires torch==2.0.0, but you have torch 2.0.1+cu118 which is incompatible.\u001b[0m\u001b[31m\n",
            "\u001b[0mSuccessfully installed torch-2.0.1+cu118\n",
            "\u001b[33mWARNING: Running pip as the 'root' user can result in broken permissions and conflicting behaviour with the system package manager. It is recommended to use a virtual environment instead: https://pip.pypa.io/warnings/venv\u001b[0m\u001b[33m\n",
            "\u001b[0m"
          ]
        },
        {
          "data": {
            "application/javascript": [
              "$(document).ready(\n",
              "    function() {\n",
              "        function appendUniqueDiv(){\n",
              "            // append a div with our uuid so we can check that it's already\n",
              "            // been sent and avoid duplicates on page reload\n",
              "            var notifiedDiv = document.createElement(\"div\")\n",
              "            notifiedDiv.id = \"2a00f291-38a2-45ab-a95a-bb9362565c8c\"\n",
              "            element.append(notifiedDiv)\n",
              "        }\n",
              "\n",
              "        // only send notifications if the pageload is complete; this will\n",
              "        // help stop extra notifications when a saved notebook is loaded,\n",
              "        // which during testing gives us state \"interactive\", not \"complete\"\n",
              "        if (document.readyState === 'complete') {\n",
              "            // check for the div that signifies that the notification\n",
              "            // was already sent\n",
              "            if (document.getElementById(\"2a00f291-38a2-45ab-a95a-bb9362565c8c\") === null) {\n",
              "                var notificationPayload = {\"requireInteraction\": false, \"icon\": \"/static/base/images/favicon.ico\", \"body\": \"Cell Execution Has Finished!!\", \"autonotify_after\": \"30\", \"autonotify_output\": true, \"only_in_background\": false};\n",
              "\n",
              "                // We have a notification but the window is active\n",
              "                if (notificationPayload.only_in_background && !window.jupyterNotifyIsInBackground) {\n",
              "                    appendUniqueDiv();\n",
              "                    return;\n",
              "                }\n",
              "                if (Notification.permission !== 'denied') {\n",
              "                    if (Notification.permission !== 'granted') { \n",
              "                        Notification.requestPermission(function (permission) {\n",
              "                            if(!('permission' in Notification)) {\n",
              "                                Notification.permission = permission\n",
              "                            }\n",
              "                        })\n",
              "                    }\n",
              "                    if (Notification.permission === 'granted') {\n",
              "                    var notification = new Notification(\"Jupyter Notebook\", notificationPayload)\n",
              "                    appendUniqueDiv()\n",
              "                    notification.onclick = function () {\n",
              "                        window.focus();\n",
              "                        this.close();\n",
              "                        };\n",
              "                    } \n",
              "                }     \n",
              "            }\n",
              "        }\n",
              "    }\n",
              ")\n"
            ],
            "text/plain": [
              "<IPython.core.display.Javascript object>"
            ]
          },
          "metadata": {},
          "output_type": "display_data"
        }
      ],
      "source": [
        "!pip3 install -U torch --index-url https://download.pytorch.org/whl/cu118"
      ]
    },
    {
      "cell_type": "code",
      "execution_count": null,
      "metadata": {
        "id": "W0A0aPWJzhLk",
        "outputId": "06c4e42c-1953-4ff1-9fd0-96429b6fed84"
      },
      "outputs": [
        {
          "name": "stdout",
          "output_type": "stream",
          "text": [
            "torch                    2.0.1+cu118\n",
            "torchaudio               2.0.1+cu118\n",
            "torchvision              0.15.2\n"
          ]
        }
      ],
      "source": [
        "!pip list|grep torch"
      ]
    },
    {
      "cell_type": "markdown",
      "metadata": {
        "id": "4sPSrhKPHIrS"
      },
      "source": [
        "### Reinstall deepspeed (optional)"
      ]
    },
    {
      "cell_type": "code",
      "execution_count": null,
      "metadata": {
        "id": "U_PIACM6duRa",
        "outputId": "3deaeef1-b635-4574-bc6f-2b0fc3649be8"
      },
      "outputs": [
        {
          "name": "stdout",
          "output_type": "stream",
          "text": [
            "Setting ds_accelerator to cuda (auto detect)\n",
            "--------------------------------------------------\n",
            "DeepSpeed C++/CUDA extension op report\n",
            "--------------------------------------------------\n",
            "NOTE: Ops not installed will be just-in-time (JIT) compiled at\n",
            "      runtime if needed. Op compatibility means that your system\n",
            "      meet the required dependencies to JIT install the op.\n",
            "--------------------------------------------------\n",
            "JIT compiled ops requires ninja\n",
            "ninja .................. \u001b[92m[OKAY]\u001b[0m\n",
            "--------------------------------------------------\n",
            "op name ................ installed .. compatible\n",
            "--------------------------------------------------\n",
            "async_io ............... \u001b[92m[YES]\u001b[0m ...... \u001b[92m[OKAY]\u001b[0m\n",
            "cpu_adagrad ............ \u001b[92m[YES]\u001b[0m ...... \u001b[92m[OKAY]\u001b[0m\n",
            "cpu_adam ............... \u001b[92m[YES]\u001b[0m ...... \u001b[92m[OKAY]\u001b[0m\n",
            "fused_adam ............. \u001b[92m[YES]\u001b[0m ...... \u001b[92m[OKAY]\u001b[0m\n",
            "fused_lamb ............. \u001b[92m[YES]\u001b[0m ...... \u001b[92m[OKAY]\u001b[0m\n",
            "quantizer .............. \u001b[92m[YES]\u001b[0m ...... \u001b[92m[OKAY]\u001b[0m\n",
            "random_ltd ............. \u001b[92m[YES]\u001b[0m ...... \u001b[92m[OKAY]\u001b[0m\n",
            "\u001b[93m [WARNING] \u001b[0m sparse_attn requires a torch version >= 1.5 and < 2.0 but detected 2.0\n",
            "\u001b[93m [WARNING] \u001b[0m using untested triton version (2.0.0), only 1.0.0 is known to be compatible\n",
            "sparse_attn ............ \u001b[93m[NO]\u001b[0m ....... \u001b[93m[NO]\u001b[0m\n",
            "spatial_inference ...... \u001b[92m[YES]\u001b[0m ...... \u001b[92m[OKAY]\u001b[0m\n",
            "transformer ............ \u001b[92m[YES]\u001b[0m ...... \u001b[92m[OKAY]\u001b[0m\n",
            "stochastic_transformer . \u001b[92m[YES]\u001b[0m ...... \u001b[92m[OKAY]\u001b[0m\n",
            "transformer_inference .. \u001b[92m[YES]\u001b[0m ...... \u001b[92m[OKAY]\u001b[0m\n",
            "utils .................. \u001b[92m[YES]\u001b[0m ...... \u001b[92m[OKAY]\u001b[0m\n",
            "--------------------------------------------------\n",
            "DeepSpeed general environment info:\n",
            "torch install path ............... ['/root/miniconda3/envs/py3.9/lib/python3.9/site-packages/torch']\n",
            "torch version .................... 2.0.1+cu118\n",
            "deepspeed install path ........... ['/root/miniconda3/envs/py3.9/lib/python3.9/site-packages/deepspeed']\n",
            "deepspeed info ................... 0.9.3+52907a66, 52907a66, master\n",
            "torch cuda version ............... 11.8\n",
            "torch hip version ................ None\n",
            "nvcc version ..................... 11.8\n",
            "deepspeed wheel compiled w. ...... torch 2.0, cuda 11.8\n"
          ]
        }
      ],
      "source": [
        "!ds_report"
      ]
    },
    {
      "cell_type": "code",
      "execution_count": null,
      "metadata": {
        "id": "i1-u6vhWHvt6"
      },
      "outputs": [],
      "source": [
        "# !yes|pip uninstall deepspeed"
      ]
    },
    {
      "cell_type": "code",
      "execution_count": null,
      "metadata": {
        "id": "xIpqugJOHuhh",
        "scrolled": true
      },
      "outputs": [],
      "source": [
        "# !TORCH_CUDA_ARCH_LIST=\"3.5;5.0;6.0;6.1;7.0;7.5;8.0;8.6+PTX\" DS_BUILD_OPS=1 DS_BUILD_SPARSE_ATTN=0 pip install deepspeed --global-option=\"build_ext\" --global-option=\"-j8\" # --global-option=\"bdist_wheel\""
      ]
    },
    {
      "cell_type": "code",
      "execution_count": null,
      "metadata": {
        "id": "o8JzOr94dDm1"
      },
      "outputs": [],
      "source": [
        "# !pip install deepspeed"
      ]
    },
    {
      "cell_type": "code",
      "execution_count": null,
      "metadata": {
        "id": "xcKtKd_MdDm1"
      },
      "outputs": [],
      "source": [
        "# !ds_report"
      ]
    },
    {
      "cell_type": "markdown",
      "metadata": {
        "id": "m_tw4OcVHQdK"
      },
      "source": [
        "### Init Configs"
      ]
    },
    {
      "cell_type": "code",
      "execution_count": null,
      "metadata": {
        "id": "zJvyUmZdktu0",
        "outputId": "14f03ce3-4cc1-4c5f-be1f-684bf1a4ec49"
      },
      "outputs": [
        {
          "name": "stdout",
          "output_type": "stream",
          "text": [
            "/workspace/axolotl\n"
          ]
        }
      ],
      "source": [
        "%cd /workspace/axolotl"
      ]
    },
    {
      "cell_type": "code",
      "execution_count": null,
      "metadata": {
        "id": "mC48y25Lkqa5"
      },
      "outputs": [],
      "source": [
        "# Try no config\n",
        "# !accelerate config default"
      ]
    },
    {
      "cell_type": "code",
      "execution_count": null,
      "metadata": {
        "id": "cL5E8urQEXiL",
        "outputId": "a5000955-4357-454b-fcf9-32b29e437ff6"
      },
      "outputs": [
        {
          "name": "stdout",
          "output_type": "stream",
          "text": [
            "Overwriting ds_config.json\n"
          ]
        }
      ],
      "source": [
        "%%writefile ds_config.json\n",
        "{\n",
        "    \"zero_optimization\": {\n",
        "        \"stage\": 3,\n",
        "        \"offload_optimizer\": {\n",
        "            \"device\": \"cpu\",\n",
        "            \"pin_memory\": true\n",
        "        },\n",
        "        \"offload_param\": {\n",
        "            \"device\": \"cpu\",\n",
        "            \"pin_memory\": true\n",
        "        },\n",
        "        \"overlap_comm\": true,\n",
        "        \"contiguous_gradients\": true,\n",
        "        \"sub_group_size\": 0,\n",
        "        \"reduce_bucket_size\": \"auto\",\n",
        "        \"stage3_prefetch_bucket_size\": \"auto\",\n",
        "        \"stage3_param_persistence_threshold\": \"auto\",\n",
        "        \"stage3_max_live_parameters\": 0,\n",
        "        \"stage3_max_reuse_distance\": 0,\n",
        "        \"stage3_gather_16bit_weights_on_model_save\": true\n",
        "    },\n",
        "   \"bf16\": {\n",
        "        \"enabled\": \"auto\"\n",
        "    },\n",
        "    \"fp16\": {\n",
        "        \"enabled\": \"auto\",\n",
        "        \"auto_cast\": false,\n",
        "        \"loss_scale\": 0,\n",
        "        \"initial_scale_power\": 32,\n",
        "        \"loss_scale_window\": 1000,\n",
        "        \"hysteresis\": 2,\n",
        "        \"min_loss_scale\": 1\n",
        "    },\n",
        "    \"optimizer\": {\n",
        "        \"type\": \"AdamW\",\n",
        "        \"params\": {\n",
        "          \"lr\": \"auto\",\n",
        "          \"betas\": \"auto\",\n",
        "          \"eps\": \"auto\",\n",
        "          \"weight_decay\": \"auto\"\n",
        "        }\n",
        "    },\n",
        "    \"scheduler\": {\n",
        "      \"type\": \"WarmupDecayLR\",\n",
        "      \"params\": {\n",
        "        \"total_num_steps\": \"auto\",\n",
        "        \"warmup_min_lr\": \"auto\",\n",
        "        \"warmup_max_lr\": \"auto\",\n",
        "        \"warmup_num_steps\": \"auto\"\n",
        "       }\n",
        "    },\n",
        "    \"gradient_accumulation_steps\": \"auto\",\n",
        "    \"train_batch_size\": \"auto\",\n",
        "    \"train_micro_batch_size_per_gpu\": \"auto\",\n",
        "    \"wall_clock_breakdown\": false\n",
        "}"
      ]
    },
    {
      "cell_type": "code",
      "execution_count": null,
      "metadata": {
        "id": "efZJw_gCDY7J",
        "scrolled": true,
        "outputId": "e8106247-b926-4f3d-bd02-0781af7830b8"
      },
      "outputs": [
        {
          "name": "stdout",
          "output_type": "stream",
          "text": [
            "Writing examples/falcon/config-40b-qlora.yml\n"
          ]
        }
      ],
      "source": [
        "%%writefile examples/falcon/config-40b-qlora.yml\n",
        "# 1b: tiiuae/falcon-rw-1b\n",
        "# 7b: tiiuae/falcon-7b\n",
        "# 40b: tiiuae/falcon-40b\n",
        "base_model: /content/llm-playground/models/tiiuae_falcon-40b\n",
        "base_model_config: /content/llm-playground/models/tiiuae_falcon-40b\n",
        "# required by falcon custom model code: https://huggingface.co/tiiuae/falcon-7b/tree/main\n",
        "trust_remote_code: true\n",
        "model_type: AutoModelForCausalLM\n",
        "tokenizer_type: AutoTokenizer\n",
        "load_in_8bit: false\n",
        "# enable 4bit for QLoRA\n",
        "load_in_4bit: true\n",
        "gptq: false\n",
        "strict: false\n",
        "\n",
        "push_dataset_to_hub: utensil\n",
        "hf_use_auth_token: true\n",
        "\n",
        "datasets:\n",
        "  - path: winglian/evals\n",
        "    data_files:\n",
        "      - hf/ARC-Challenge.jsonl\n",
        "      - hf/ARC-Easy.jsonl\n",
        "      - hf/riddle_sense.jsonl\n",
        "    type: explainchoice:chat\n",
        "  - path: winglian/evals\n",
        "    data_files:\n",
        "      - hf/gsm8k.jsonl\n",
        "      - hf/winogrande.jsonl\n",
        "    type: alpaca_chat.load_qa\n",
        "  - path: winglian/evals\n",
        "    data_files:\n",
        "      - custom/n_task.jsonl\n",
        "      - custom/misconceptions.jsonl\n",
        "      - custom/context_insensitivity.jsonl\n",
        "    type: alpaca_chat\n",
        "  - path: camel-ai/math\n",
        "    type: alpaca_chat.load_camel_ai\n",
        "  - path: camel-ai/biology\n",
        "    type: alpaca_chat.load_camel_ai\n",
        "  - path: camel-ai/physics\n",
        "    type: alpaca_chat.load_camel_ai\n",
        "  - path: camel-ai/chemistry\n",
        "    type: alpaca_chat.load_camel_ai\n",
        "  - path: winglian/evals\n",
        "    data_files:\n",
        "      - custom/in_context_qa.jsonl\n",
        "    type: context_qa\n",
        "  - path: winglian/evals\n",
        "    data_files:\n",
        "      - custom/in_context_qa.jsonl\n",
        "    type: context_qa.load_404\n",
        "  - path: winglian/evals\n",
        "    data_files:\n",
        "      - custom/jokes_explained_500up.jsonl\n",
        "    type: sharegpt_jokes\n",
        "  - path: winglian/evals\n",
        "    data_files:\n",
        "      - custom/classify-self-chat.sharegpt.jsonl\n",
        "      - custom/coding-self-chat.sharegpt.jsonl\n",
        "      - custom/prose-gpt4.sharegpt.jsonl\n",
        "      - custom/prose-rewrite-gpt4.sharegpt.jsonl\n",
        "    type: sharegpt_simple.load_role\n",
        "  - path: winglian/evals\n",
        "    data_files:\n",
        "      - openai/tldr.jsonl\n",
        "    type: summarizetldr:chat\n",
        "  - path: winglian/evals\n",
        "    data_files:\n",
        "      - hellaswag/hellaswag.jsonl\n",
        "    type: explainchoice:chat\n",
        "  - path: metaeval/ScienceQA_text_only\n",
        "    type: concisechoice:chat\n",
        "  - path: teknium/GPT4-LLM-Cleaned\n",
        "    type: alpaca_chat\n",
        "  - path: teknium/GPTeacher-General-Instruct\n",
        "    data_files: gpt4-instruct-similarity-0.6-dataset.json\n",
        "    type: gpteacher:chat\n",
        "  - path: QingyiSi/Alpaca-CoT\n",
        "    data_files:\n",
        "      - Chain-of-Thought/formatted_cot_data/aqua_train.json\n",
        "      - Chain-of-Thought/formatted_cot_data/creak_train.json\n",
        "      - Chain-of-Thought/formatted_cot_data/ecqa_train.json\n",
        "      - Chain-of-Thought/formatted_cot_data/esnli_train.json\n",
        "      - Chain-of-Thought/formatted_cot_data/qasc_train.json\n",
        "      - Chain-of-Thought/formatted_cot_data/qed_train.json\n",
        "      - Chain-of-Thought/formatted_cot_data/sensemaking_train.json\n",
        "      - Chain-of-Thought/formatted_cot_data/strategyqa_train.json\n",
        "      - GPTeacher/Roleplay/formatted_roleplay-similarity_0.6-instruct-dataset.json\n",
        "    type: alpaca_chat\n",
        "  - path: ehartford/WizardLM_alpaca_evol_instruct_70k_unfiltered\n",
        "    type: alpaca_chat\n",
        "  - path: ehartford/wizard_vicuna_70k_unfiltered\n",
        "    type: sharegpt:chat\n",
        "\n",
        "dataset_prepared_path: last_run_prepared\n",
        "val_set_size: 0.01\n",
        "# enable QLoRA\n",
        "adapter: qlora\n",
        "lora_model_dir:\n",
        "sequence_len: 2048\n",
        "max_packed_sequence_len: 2048\n",
        "\n",
        "# hyperparameters from QLoRA paper Appendix B.2\n",
        "# \"We find hyperparameters to be largely robust across datasets\"\n",
        "lora_r: 64\n",
        "lora_alpha: 16\n",
        "# 0.1 for models up to 13B\n",
        "# 0.05 for 33B and 65B models\n",
        "lora_dropout: 0.05\n",
        "# add LoRA modules on all linear layers of the base model\n",
        "lora_target_modules:\n",
        "lora_target_linear: true\n",
        "lora_fan_in_fan_out:\n",
        "\n",
        "wandb_project: falcon-qlora\n",
        "wandb_watch:\n",
        "wandb_run_id:\n",
        "wandb_log_model:\n",
        "output_dir: /content/axolotl-trained/falcon-qlora-40b-minotaur/\n",
        "\n",
        "# QLoRA paper Table 9\n",
        "# - 16 for 7b & 13b\n",
        "# - 32 for 33b, 64 for 64b\n",
        "# Max size tested on A6000\n",
        "# - 7b: 40\n",
        "# - 40b: 4\n",
        "# decrease if OOM, increase for max VRAM utilization\n",
        "micro_batch_size: 4\n",
        "gradient_accumulation_steps: 1\n",
        "num_epochs: 3\n",
        "# Optimizer for QLoRA\n",
        "optimizer: paged_adamw_32bit\n",
        "torchdistx_path:\n",
        "lr_scheduler: cosine\n",
        "# QLoRA paper Table 9\n",
        "# - 2e-4 for 7b & 13b\n",
        "# - 1e-4 for 33b & 64b\n",
        "learning_rate: 0.0002\n",
        "train_on_inputs: false\n",
        "group_by_length: false\n",
        "bf16: true\n",
        "fp16: false\n",
        "tf32: true\n",
        "gradient_checkpointing: true\n",
        "# stop training after this many evaluation losses have increased in a row\n",
        "# https://huggingface.co/transformers/v4.2.2/_modules/transformers/trainer_callback.html#EarlyStoppingCallback\n",
        "# early_stopping_patience: 3\n",
        "resume_from_checkpoint:\n",
        "auto_resume_from_checkpoints: true\n",
        "local_rank:\n",
        "logging_steps: 1\n",
        "xformers_attention: true\n",
        "flash_attention:\n",
        "gptq_groupsize:\n",
        "gptq_model_v1:\n",
        "warmup_steps: 10\n",
        "eval_steps: 5\n",
        "save_steps: 10\n",
        "debug:\n",
        "deepspeed:\n",
        "weight_decay: 0.01\n",
        "adam_beta1:\n",
        "adam_beta2: 0.999\n",
        "adam_epsilon:\n",
        "# Gradient clipping max norm\n",
        "max_grad_norm: 0.3\n",
        "\n",
        "fsdp:\n",
        "fsdp_config:\n",
        "special_tokens:\n",
        "  pad_token: \"<|endoftext|>\"\n",
        "  bos_token: \">>ABSTRACT<<\"\n",
        "  eos_token: \"<|endoftext|>\""
      ]
    },
    {
      "cell_type": "code",
      "execution_count": null,
      "metadata": {
        "id": "uTWOnrpzEr-1"
      },
      "outputs": [],
      "source": [
        "%env ACCELERATE_USE_DEEPSPEED=true"
      ]
    },
    {
      "cell_type": "code",
      "execution_count": null,
      "metadata": {
        "id": "iz9sbxRAElkU",
        "outputId": "8d4a834e-f6a9-4fa3-91ce-ee5e3e87936b"
      },
      "outputs": [
        {
          "name": "stdout",
          "output_type": "stream",
          "text": [
            "Writing scripts/ft.py\n"
          ]
        }
      ],
      "source": [
        "%%writefile scripts/ft.py\n",
        "import os\n",
        "from pathlib import Path\n",
        "import fire\n",
        "import logging\n",
        "import finetune\n",
        "from axolotl.utils.trainer import setup_trainer as setup_trainer_orig\n",
        "\n",
        "logging.basicConfig(level=os.getenv(\"LOG_LEVEL\", \"INFO\"))\n",
        "\n",
        "def train_ex(\n",
        "    config: Path = Path(\"configs/\"),\n",
        "    prepare_ds_only: bool = False,\n",
        "    **kwargs,\n",
        "):\n",
        "  logging.info('train_ex before')\n",
        "  finetune.train(config, prepare_ds_only, **kwargs)\n",
        "  logging.info('train_ex after')\n",
        "\n",
        "def setup_trainer_ex(cfg, train_dataset, eval_dataset, model, tokenizer):\n",
        "  logging.info('setup_trainer_ex before')\n",
        "  logging.info(f'cfg.some_config = {cfg.some_config}')\n",
        "  trainer = setup_trainer_orig(cfg, train_dataset, eval_dataset, model, tokenizer)\n",
        "  logging.info('setup_trainer_ex after')\n",
        "  return trainer\n",
        "\n",
        "finetune.setup_trainer = setup_trainer_ex\n",
        "\n",
        "if __name__ == \"__main__\":\n",
        "    fire.Fire(train_ex)"
      ]
    },
    {
      "cell_type": "markdown",
      "metadata": {
        "id": "vj6CD_zZHUpG"
      },
      "source": [
        "# Training"
      ]
    },
    {
      "cell_type": "markdown",
      "metadata": {
        "id": "2CqrhYq-DY7J"
      },
      "source": [
        "## #1 ACC mbs 4 2xA100 minotaur"
      ]
    },
    {
      "cell_type": "code",
      "execution_count": null,
      "metadata": {
        "id": "GsRPtribgJ8O",
        "outputId": "a3452f74-6422-4bcc-b57c-c15a3a9f264a"
      },
      "outputs": [
        {
          "name": "stdout",
          "output_type": "stream",
          "text": [
            "env: HF_HUB_DISABLE_PROGRESS_BARS=1\n"
          ]
        }
      ],
      "source": [
        "%env HF_HUB_DISABLE_PROGRESS_BARS=1"
      ]
    },
    {
      "cell_type": "code",
      "execution_count": null,
      "metadata": {
        "id": "I_oAE22wgJ8Q",
        "outputId": "e3b97be5-81aa-427a-911c-fcebf1b97b30"
      },
      "outputs": [
        {
          "name": "stdout",
          "output_type": "stream",
          "text": [
            "env: ACCELERATE_USE_DEEPSPEED=false\n"
          ]
        }
      ],
      "source": [
        "%env ACCELERATE_USE_DEEPSPEED=false"
      ]
    },
    {
      "cell_type": "code",
      "execution_count": null,
      "metadata": {
        "id": "m66yoSyzK7uC",
        "outputId": "e1a64fea-1591-4205-b3ae-74d050ceae7b"
      },
      "outputs": [
        {
          "name": "stdout",
          "output_type": "stream",
          "text": [
            "/workspace/axolotl\n"
          ]
        }
      ],
      "source": [
        "%cd /workspace/axolotl"
      ]
    },
    {
      "cell_type": "code",
      "execution_count": null,
      "metadata": {
        "id": "joQh6mGBm3_J",
        "outputId": "bfd4a19e-dc7e-4af9-8f85-081909bce3cb"
      },
      "outputs": [
        {
          "name": "stdout",
          "output_type": "stream",
          "text": [
            "# 1b: tiiuae/falcon-rw-1b\n",
            "# 7b: tiiuae/falcon-7b\n",
            "# 40b: tiiuae/falcon-40b\n",
            "base_model: /content/llm-playground/models/tiiuae_falcon-40b\n",
            "base_model_config: /content/llm-playground/models/tiiuae_falcon-40b\n",
            "# required by falcon custom model code: https://huggingface.co/tiiuae/falcon-7b/tree/main\n",
            "trust_remote_code: true\n",
            "model_type: AutoModelForCausalLM\n",
            "tokenizer_type: AutoTokenizer\n",
            "load_in_8bit: false\n",
            "# enable 4bit for QLoRA\n",
            "load_in_4bit: true\n",
            "gptq: false\n",
            "strict: false\n",
            "\n",
            "push_dataset_to_hub: utensil\n",
            "hf_use_auth_token: true\n",
            "\n",
            "datasets:\n",
            "  - path: winglian/evals\n",
            "    data_files:\n",
            "      - hf/ARC-Challenge.jsonl\n",
            "      - hf/ARC-Easy.jsonl\n",
            "      - hf/riddle_sense.jsonl\n",
            "    type: explainchoice:chat\n",
            "  - path: winglian/evals\n",
            "    data_files:\n",
            "      - hf/gsm8k.jsonl\n",
            "      - hf/winogrande.jsonl\n",
            "    type: alpaca_chat.load_qa\n",
            "  - path: winglian/evals\n",
            "    data_files:\n",
            "      - custom/n_task.jsonl\n",
            "      - custom/misconceptions.jsonl\n",
            "      - custom/context_insensitivity.jsonl\n",
            "    type: alpaca_chat\n",
            "  - path: camel-ai/math\n",
            "    type: alpaca_chat.load_camel_ai\n",
            "  - path: camel-ai/biology\n",
            "    type: alpaca_chat.load_camel_ai\n",
            "  - path: camel-ai/physics\n",
            "    type: alpaca_chat.load_camel_ai\n",
            "  - path: camel-ai/chemistry\n",
            "    type: alpaca_chat.load_camel_ai\n",
            "  - path: winglian/evals\n",
            "    data_files:\n",
            "      - custom/in_context_qa.jsonl\n",
            "    type: context_qa\n",
            "  - path: winglian/evals\n",
            "    data_files:\n",
            "      - custom/in_context_qa.jsonl\n",
            "    type: context_qa.load_404\n",
            "  - path: winglian/evals\n",
            "    data_files:\n",
            "      - custom/jokes_explained_500up.jsonl\n",
            "    type: sharegpt_jokes\n",
            "  - path: winglian/evals\n",
            "    data_files:\n",
            "      - custom/classify-self-chat.sharegpt.jsonl\n",
            "      - custom/coding-self-chat.sharegpt.jsonl\n",
            "      - custom/prose-gpt4.sharegpt.jsonl\n",
            "      - custom/prose-rewrite-gpt4.sharegpt.jsonl\n",
            "    type: sharegpt_simple.load_role\n",
            "  - path: winglian/evals\n",
            "    data_files:\n",
            "      - openai/tldr.jsonl\n",
            "    type: summarizetldr:chat\n",
            "  - path: winglian/evals\n",
            "    data_files:\n",
            "      - hellaswag/hellaswag.jsonl\n",
            "    type: explainchoice:chat\n",
            "  - path: metaeval/ScienceQA_text_only\n",
            "    type: concisechoice:chat\n",
            "  - path: teknium/GPT4-LLM-Cleaned\n",
            "    type: alpaca_chat\n",
            "  - path: teknium/GPTeacher-General-Instruct\n",
            "    data_files: gpt4-instruct-similarity-0.6-dataset.json\n",
            "    type: gpteacher:chat\n",
            "  - path: QingyiSi/Alpaca-CoT\n",
            "    data_files:\n",
            "      - Chain-of-Thought/formatted_cot_data/aqua_train.json\n",
            "      - Chain-of-Thought/formatted_cot_data/creak_train.json\n",
            "      - Chain-of-Thought/formatted_cot_data/ecqa_train.json\n",
            "      - Chain-of-Thought/formatted_cot_data/esnli_train.json\n",
            "      - Chain-of-Thought/formatted_cot_data/qasc_train.json\n",
            "      - Chain-of-Thought/formatted_cot_data/qed_train.json\n",
            "      - Chain-of-Thought/formatted_cot_data/sensemaking_train.json\n",
            "      - Chain-of-Thought/formatted_cot_data/strategyqa_train.json\n",
            "      - GPTeacher/Roleplay/formatted_roleplay-similarity_0.6-instruct-dataset.json\n",
            "    type: alpaca_chat\n",
            "  - path: ehartford/WizardLM_alpaca_evol_instruct_70k_unfiltered\n",
            "    type: alpaca_chat\n",
            "  - path: ehartford/wizard_vicuna_70k_unfiltered\n",
            "    type: sharegpt:chat\n",
            "\n",
            "dataset_prepared_path: last_run_prepared\n",
            "val_set_size: 0.01\n",
            "# enable QLoRA\n",
            "adapter: qlora\n",
            "lora_model_dir:\n",
            "sequence_len: 2048\n",
            "max_packed_sequence_len: 2048\n",
            "\n",
            "# hyperparameters from QLoRA paper Appendix B.2\n",
            "# \"We find hyperparameters to be largely robust across datasets\"\n",
            "lora_r: 64\n",
            "lora_alpha: 16\n",
            "# 0.1 for models up to 13B\n",
            "# 0.05 for 33B and 65B models\n",
            "lora_dropout: 0.05\n",
            "# add LoRA modules on all linear layers of the base model\n",
            "lora_target_modules:\n",
            "lora_target_linear: true\n",
            "lora_fan_in_fan_out:\n",
            "\n",
            "wandb_project: falcon-qlora\n",
            "wandb_watch:\n",
            "wandb_run_id:\n",
            "wandb_log_model:\n",
            "output_dir: /content/axolotl-trained/falcon-qlora-40b-minotaur/\n",
            "\n",
            "# QLoRA paper Table 9\n",
            "# - 16 for 7b & 13b\n",
            "# - 32 for 33b, 64 for 64b\n",
            "# Max size tested on A6000\n",
            "# - 7b: 40\n",
            "# - 40b: 4\n",
            "# decrease if OOM, increase for max VRAM utilization\n",
            "micro_batch_size: 4\n",
            "gradient_accumulation_steps: 1\n",
            "num_epochs: 3\n",
            "# Optimizer for QLoRA\n",
            "optimizer: paged_adamw_32bit\n",
            "torchdistx_path:\n",
            "lr_scheduler: cosine\n",
            "# QLoRA paper Table 9\n",
            "# - 2e-4 for 7b & 13b\n",
            "# - 1e-4 for 33b & 64b\n",
            "learning_rate: 0.0002\n",
            "train_on_inputs: false\n",
            "group_by_length: false\n",
            "bf16: true\n",
            "fp16: false\n",
            "tf32: true\n",
            "gradient_checkpointing: true\n",
            "# stop training after this many evaluation losses have increased in a row\n",
            "# https://huggingface.co/transformers/v4.2.2/_modules/transformers/trainer_callback.html#EarlyStoppingCallback\n",
            "# early_stopping_patience: 3\n",
            "resume_from_checkpoint:\n",
            "auto_resume_from_checkpoints: true\n",
            "local_rank:\n",
            "logging_steps: 1\n",
            "xformers_attention: true\n",
            "flash_attention:\n",
            "gptq_groupsize:\n",
            "gptq_model_v1:\n",
            "warmup_steps: 10\n",
            "eval_steps: 5\n",
            "save_steps: 10\n",
            "debug:\n",
            "deepspeed:\n",
            "weight_decay: 0.01\n",
            "adam_beta1:\n",
            "adam_beta2: 0.999\n",
            "adam_epsilon:\n",
            "# Gradient clipping max norm\n",
            "max_grad_norm: 0.3\n",
            "\n",
            "fsdp:\n",
            "fsdp_config:\n",
            "special_tokens:\n",
            "  pad_token: \"<|endoftext|>\"\n",
            "  bos_token: \">>ABSTRACT<<\"\n",
            "  eos_token: \"<|endoftext|>\"\n"
          ]
        }
      ],
      "source": [
        "!cat examples/falcon/config-40b-qlora.yml"
      ]
    },
    {
      "cell_type": "code",
      "execution_count": null,
      "metadata": {
        "id": "ULwPlElbm73f"
      },
      "outputs": [],
      "source": [
        "#%%writefile examples/falcon/config-40b-qlora.yml"
      ]
    },
    {
      "cell_type": "code",
      "execution_count": null,
      "metadata": {
        "id": "jICMPJuomFsx",
        "scrolled": true,
        "outputId": "84276356-abdd-40a7-e9a1-916e276d47f2"
      },
      "outputs": [
        {
          "name": "stdout",
          "output_type": "stream",
          "text": [
            "Setting ds_accelerator to cuda (auto detect)\n",
            "The following values were not passed to `accelerate launch` and had defaults used instead:\n",
            "\t`--num_processes` was set to a value of `2`\n",
            "\t\tMore than one GPU was found, enabling multi-GPU training.\n",
            "\t\tIf this was unintended please pass in `--num_processes=1`.\n",
            "\t`--num_machines` was set to a value of `1`\n",
            "\t`--mixed_precision` was set to a value of `'no'`\n",
            "\t`--dynamo_backend` was set to a value of `'no'`\n",
            "To avoid this warning pass in values for each of the problematic parameters or run `accelerate config`.\n",
            "Setting ds_accelerator to cuda (auto detect)\n",
            "Setting ds_accelerator to cuda (auto detect)\n",
            "\n",
            "===================================BUG REPORT===================================\n",
            "Welcome to bitsandbytes. For bug reports, please run\n",
            "\n",
            "python -m bitsandbytes\n",
            "\n",
            " and submit this information together with your error trace to: https://github.com/TimDettmers/bitsandbytes/issues\n",
            "================================================================================\n",
            "\n",
            "===================================BUG REPORT===================================\n",
            "Welcome to bitsandbytes. For bug reports, please run\n",
            "\n",
            "python -m bitsandbytes\n",
            "\n",
            " and submit this information together with your error trace to: https://github.com/TimDettmers/bitsandbytes/issues\n",
            "================================================================================\n",
            "bin /root/miniconda3/envs/py3.9/lib/python3.9/site-packages/bitsandbytes-0.39.0-py3.9.egg/bitsandbytes/libbitsandbytes_cuda118.so\n",
            "/root/miniconda3/envs/py3.9/lib/python3.9/site-packages/bitsandbytes-0.39.0-py3.9.egg/bitsandbytes/cuda_setup/main.py:149: UserWarning: WARNING: The following directories listed in your path were found to be non-existent: {PosixPath('/usr/local/nvidia/lib'), PosixPath('/usr/local/nvidia/lib64')}\n",
            "  warn(msg)\n",
            "/root/miniconda3/envs/py3.9/lib/python3.9/site-packages/bitsandbytes-0.39.0-py3.9.egg/bitsandbytes/cuda_setup/main.py:149: UserWarning: /usr/local/nvidia/lib:/usr/local/nvidia/lib64 did not contain ['libcudart.so', 'libcudart.so.11.0', 'libcudart.so.12.0'] as expected! Searching further paths...\n",
            "  warn(msg)\n",
            "/root/miniconda3/envs/py3.9/lib/python3.9/site-packages/bitsandbytes-0.39.0-py3.9.egg/bitsandbytes/cuda_setup/main.py:149: UserWarning: WARNING: The following directories listed in your path were found to be non-existent: {PosixPath('//matplotlib_inline.backend_inline'), PosixPath('module')}\n",
            "  warn(msg)\n",
            "/root/miniconda3/envs/py3.9/lib/python3.9/site-packages/bitsandbytes-0.39.0-py3.9.egg/bitsandbytes/cuda_setup/main.py:149: UserWarning: WARNING: The following directories listed in your path were found to be non-existent: {PosixPath('ssh-rsa AAAAB3NzaC1yc2EAAAADAQABAAABgQDvnE4umHheXhWsDJbbukYvvyc47/mC4z8syS93btA72T90WDrQagOy5O+DrhdXOvr5i/JwsTlAImy57eLRrtRFOrQq73jyi7Dzo0tvrAiNLVgX2q2dFLoplRyXDXiVYLPmPieMWQOeUCLeSb8FC5zzllcocZwjMXpxScDerZqnlAR0ccpSkGyKIod4ZMkn/29A/C5kHEb/wT8cOAq+MWJ/2okZZgbiR0AMV4DynAkrtcx9JnJnTs9chiMyH+dyCS42Ai24sHWJBkQo6TfxXkyKo9GOpu3Y2WLgrHyaot9Lk5mA1mujyIWdlReD2nvjeCQKjl3KW3xZ73m4nD97MydWSWoJfEWlr+VZvk8EWsZk3CYLZCIBLdod6xXJJ0DD0pvTIq11c8VB7XkgVjapuU/sC8M6HFzHW/NBeE+xX/txPkZkIGqrnxeQ0AtBXdN9ukyNGhGzTkPYJNliiYpY0dCvVuz/BJ2FawFTQGnD1EHOenUCRajREFGCbKoYZqi40j8= utensil@Utensils-MacBook-Pro.local')}\n",
            "  warn(msg)\n",
            "/root/miniconda3/envs/py3.9/lib/python3.9/site-packages/bitsandbytes-0.39.0-py3.9.egg/bitsandbytes/cuda_setup/main.py:149: UserWarning: WARNING: The following directories listed in your path were found to be non-existent: {PosixPath('/tmp/torchelastic_dvz1krnf/none_vrp7sfn2/attempt_0/1/error.json')}\n",
            "  warn(msg)\n",
            "CUDA_SETUP: WARNING! libcudart.so not found in any environmental path. Searching in backup paths...\n",
            "/root/miniconda3/envs/py3.9/lib/python3.9/site-packages/bitsandbytes-0.39.0-py3.9.egg/bitsandbytes/cuda_setup/main.py:149: UserWarning: Found duplicate ['libcudart.so', 'libcudart.so.11.0', 'libcudart.so.12.0'] files: {PosixPath('/usr/local/cuda/lib64/libcudart.so'), PosixPath('/usr/local/cuda/lib64/libcudart.so.11.0')}.. We'll flip a coin and try one of these, in order to fail forward.\n",
            "Either way, this might cause trouble in the future:\n",
            "If you get `CUDA error: invalid device function` errors, the above might be the cause and the solution is to make sure only one ['libcudart.so', 'libcudart.so.11.0', 'libcudart.so.12.0'] in the paths that we search based on your env.\n",
            "  warn(msg)\n",
            "CUDA SETUP: CUDA runtime path found: /usr/local/cuda/lib64/libcudart.so\n",
            "CUDA SETUP: Highest compute capability among GPUs detected: 8.0\n",
            "CUDA SETUP: Detected CUDA version 118\n",
            "CUDA SETUP: Loading binary /root/miniconda3/envs/py3.9/lib/python3.9/site-packages/bitsandbytes-0.39.0-py3.9.egg/bitsandbytes/libbitsandbytes_cuda118.so...\n",
            "bin /root/miniconda3/envs/py3.9/lib/python3.9/site-packages/bitsandbytes-0.39.0-py3.9.egg/bitsandbytes/libbitsandbytes_cuda118.so\n",
            "/root/miniconda3/envs/py3.9/lib/python3.9/site-packages/bitsandbytes-0.39.0-py3.9.egg/bitsandbytes/cuda_setup/main.py:149: UserWarning: WARNING: The following directories listed in your path were found to be non-existent: {PosixPath('/usr/local/nvidia/lib'), PosixPath('/usr/local/nvidia/lib64')}\n",
            "  warn(msg)\n",
            "/root/miniconda3/envs/py3.9/lib/python3.9/site-packages/bitsandbytes-0.39.0-py3.9.egg/bitsandbytes/cuda_setup/main.py:149: UserWarning: /usr/local/nvidia/lib:/usr/local/nvidia/lib64 did not contain ['libcudart.so', 'libcudart.so.11.0', 'libcudart.so.12.0'] as expected! Searching further paths...\n",
            "  warn(msg)\n",
            "/root/miniconda3/envs/py3.9/lib/python3.9/site-packages/bitsandbytes-0.39.0-py3.9.egg/bitsandbytes/cuda_setup/main.py:149: UserWarning: WARNING: The following directories listed in your path were found to be non-existent: {PosixPath('module'), PosixPath('//matplotlib_inline.backend_inline')}\n",
            "  warn(msg)\n",
            "/root/miniconda3/envs/py3.9/lib/python3.9/site-packages/bitsandbytes-0.39.0-py3.9.egg/bitsandbytes/cuda_setup/main.py:149: UserWarning: WARNING: The following directories listed in your path were found to be non-existent: {PosixPath('ssh-rsa AAAAB3NzaC1yc2EAAAADAQABAAABgQDvnE4umHheXhWsDJbbukYvvyc47/mC4z8syS93btA72T90WDrQagOy5O+DrhdXOvr5i/JwsTlAImy57eLRrtRFOrQq73jyi7Dzo0tvrAiNLVgX2q2dFLoplRyXDXiVYLPmPieMWQOeUCLeSb8FC5zzllcocZwjMXpxScDerZqnlAR0ccpSkGyKIod4ZMkn/29A/C5kHEb/wT8cOAq+MWJ/2okZZgbiR0AMV4DynAkrtcx9JnJnTs9chiMyH+dyCS42Ai24sHWJBkQo6TfxXkyKo9GOpu3Y2WLgrHyaot9Lk5mA1mujyIWdlReD2nvjeCQKjl3KW3xZ73m4nD97MydWSWoJfEWlr+VZvk8EWsZk3CYLZCIBLdod6xXJJ0DD0pvTIq11c8VB7XkgVjapuU/sC8M6HFzHW/NBeE+xX/txPkZkIGqrnxeQ0AtBXdN9ukyNGhGzTkPYJNliiYpY0dCvVuz/BJ2FawFTQGnD1EHOenUCRajREFGCbKoYZqi40j8= utensil@Utensils-MacBook-Pro.local')}\n",
            "  warn(msg)\n",
            "/root/miniconda3/envs/py3.9/lib/python3.9/site-packages/bitsandbytes-0.39.0-py3.9.egg/bitsandbytes/cuda_setup/main.py:149: UserWarning: WARNING: The following directories listed in your path were found to be non-existent: {PosixPath('/tmp/torchelastic_dvz1krnf/none_vrp7sfn2/attempt_0/0/error.json')}\n",
            "  warn(msg)\n",
            "CUDA_SETUP: WARNING! libcudart.so not found in any environmental path. Searching in backup paths...\n",
            "/root/miniconda3/envs/py3.9/lib/python3.9/site-packages/bitsandbytes-0.39.0-py3.9.egg/bitsandbytes/cuda_setup/main.py:149: UserWarning: Found duplicate ['libcudart.so', 'libcudart.so.11.0', 'libcudart.so.12.0'] files: {PosixPath('/usr/local/cuda/lib64/libcudart.so.11.0'), PosixPath('/usr/local/cuda/lib64/libcudart.so')}.. We'll flip a coin and try one of these, in order to fail forward.\n",
            "Either way, this might cause trouble in the future:\n",
            "If you get `CUDA error: invalid device function` errors, the above might be the cause and the solution is to make sure only one ['libcudart.so', 'libcudart.so.11.0', 'libcudart.so.12.0'] in the paths that we search based on your env.\n",
            "  warn(msg)\n",
            "CUDA SETUP: CUDA runtime path found: /usr/local/cuda/lib64/libcudart.so.11.0\n",
            "CUDA SETUP: Highest compute capability among GPUs detected: 8.0\n",
            "CUDA SETUP: Detected CUDA version 118\n",
            "CUDA SETUP: Loading binary /root/miniconda3/envs/py3.9/lib/python3.9/site-packages/bitsandbytes-0.39.0-py3.9.egg/bitsandbytes/libbitsandbytes_cuda118.so...\n",
            "WARNING:root:`trust_remote_code` is set to true. Please make sure that you reviewed the remote code/model.\n",
            "INFO:root:loading tokenizer... /content/llm-playground/models/tiiuae_falcon-40b\n",
            "WARNING:root:`trust_remote_code` is set to true. Please make sure that you reviewed the remote code/model.\n",
            "INFO:root:loading tokenizer... /content/llm-playground/models/tiiuae_falcon-40b\n",
            "Using bos_token, but it is not set yet.\n",
            "Using pad_token, but it is not set yet.\n",
            "Using unk_token, but it is not set yet.\n",
            "INFO:root:Checking for packed prepared dataset from hub... utensil/216aa4e2be3974d0a1d25d8c19db01a4\n",
            "Using bos_token, but it is not set yet.\n",
            "Using pad_token, but it is not set yet.\n",
            "Using unk_token, but it is not set yet.\n",
            "INFO:root:Checking for packed prepared dataset from hub... utensil/216aa4e2be3974d0a1d25d8c19db01a4\n",
            "WARNING:datasets.builder:Found cached dataset parquet (/root/.cache/huggingface/datasets/utensil___parquet/utensil--9a63aa2c07ace8350a0e8b32ab913f2a-9cb79670bc460bd7/0.0.0/14a00e99c0d15a23649d0db8944380ac81082d4b021f398733dd84f3a6c569a7)\n",
            "100%|████████████████████████████████████████████| 1/1 [00:00<00:00, 127.56it/s]\n",
            "INFO:root:packing master dataset to len: 2048\n",
            "WARNING:datasets.builder:Found cached dataset parquet (/root/.cache/huggingface/datasets/utensil___parquet/utensil--9a63aa2c07ace8350a0e8b32ab913f2a-9cb79670bc460bd7/0.0.0/14a00e99c0d15a23649d0db8944380ac81082d4b021f398733dd84f3a6c569a7)\n",
            "100%|████████████████████████████████████████████| 1/1 [00:00<00:00, 129.49it/s]\n",
            "INFO:root:packing master dataset to len: 2048\n",
            "INFO:root:loading model and peft_config...\n",
            "Loading checkpoint shards:   0%|                          | 0/9 [00:00<?, ?it/s]INFO:root:Saving packed prepared dataset to disk... last_run_prepared/216aa4e2be3974d0a1d25d8c19db01a4\n",
            "INFO:root:Saving packed prepared dataset with push_to_hub... utensil/216aa4e2be3974d0a1d25d8c19db01a4\n",
            "Pushing dataset shards to the dataset hub:   0%|          | 0/5 [00:00<?, ?it/s]\n",
            "Creating parquet from Arrow format:   0%|                | 0/20 [00:00<?, ?ba/s]\u001b[A\n",
            "Creating parquet from Arrow format:   5%|▍       | 1/20 [00:00<00:01,  9.71ba/s]\u001b[A\n",
            "Creating parquet from Arrow format:  15%|█▏      | 3/20 [00:00<00:01, 10.31ba/s]\u001b[A\n",
            "Creating parquet from Arrow format:  25%|██      | 5/20 [00:00<00:01, 10.23ba/s]\u001b[A\n",
            "Creating parquet from Arrow format:  35%|██▊     | 7/20 [00:00<00:01, 10.41ba/s]\u001b[A\n",
            "Creating parquet from Arrow format:  45%|███▌    | 9/20 [00:00<00:01, 10.54ba/s]\u001b[A\n",
            "Creating parquet from Arrow format:  55%|███▊   | 11/20 [00:01<00:00, 10.53ba/s]\u001b[A\n",
            "Creating parquet from Arrow format:  65%|████▌  | 13/20 [00:01<00:00, 10.54ba/s]\u001b[A\n",
            "Creating parquet from Arrow format:  75%|█████▎ | 15/20 [00:01<00:00, 10.17ba/s]\u001b[A\n",
            "Creating parquet from Arrow format:  85%|█████▉ | 17/20 [00:01<00:00, 10.28ba/s]\u001b[A\n",
            "Creating parquet from Arrow format: 100%|███████| 20/20 [00:01<00:00, 10.87ba/s]\u001b[A\n",
            "Pushing dataset shards to the dataset hub:  20%|▍ | 1/5 [00:20<01:21, 20.29s/it]\n",
            "Creating parquet from Arrow format:   0%|                | 0/20 [00:00<?, ?ba/s]\u001b[A\n",
            "Creating parquet from Arrow format:   5%|▍       | 1/20 [00:00<00:01,  9.79ba/s]\u001b[A\n",
            "Creating parquet from Arrow format:  15%|█▏      | 3/20 [00:00<00:01, 10.05ba/s]\u001b[A\n",
            "Creating parquet from Arrow format:  25%|██      | 5/20 [00:00<00:01, 10.05ba/s]\u001b[A\n",
            "Creating parquet from Arrow format:  35%|██▊     | 7/20 [00:00<00:01, 10.05ba/s]\u001b[A\n",
            "Creating parquet from Arrow format:  45%|███▌    | 9/20 [00:00<00:01, 10.17ba/s]\u001b[A\n",
            "Loading checkpoint shards:  33%|██████            | 3/9 [00:27<00:55,  9.17s/it]\u001b[A\n",
            "Creating parquet from Arrow format:  65%|████▌  | 13/20 [00:01<00:00, 10.25ba/s]\u001b[A\n",
            "Creating parquet from Arrow format:  75%|█████▎ | 15/20 [00:01<00:00,  9.92ba/s]\u001b[A\n",
            "Creating parquet from Arrow format:  85%|█████▉ | 17/20 [00:01<00:00, 10.02ba/s]\u001b[A\n",
            "Creating parquet from Arrow format: 100%|███████| 20/20 [00:01<00:00, 10.58ba/s]\u001b[A\n",
            "Pushing dataset shards to the dataset hub:  40%|▊ | 2/5 [00:42<01:04, 21.52s/it]\n",
            "Creating parquet from Arrow format:   0%|                | 0/20 [00:00<?, ?ba/s]\u001b[A\n",
            "Creating parquet from Arrow format:   5%|▍       | 1/20 [00:00<00:02,  9.27ba/s]\u001b[A\n",
            "Creating parquet from Arrow format:  15%|█▏      | 3/20 [00:00<00:01,  9.91ba/s]\u001b[A\n",
            "Creating parquet from Arrow format:  25%|██      | 5/20 [00:00<00:01,  9.96ba/s]\u001b[A\n",
            "Creating parquet from Arrow format:  35%|██▊     | 7/20 [00:00<00:01, 10.10ba/s]\u001b[A\n",
            "Creating parquet from Arrow format:  45%|███▌    | 9/20 [00:00<00:01, 10.22ba/s]\u001b[A\n",
            "Creating parquet from Arrow format:  55%|███▊   | 11/20 [00:01<00:00, 10.22ba/s]\u001b[A\n",
            "Creating parquet from Arrow format:  65%|████▌  | 13/20 [00:01<00:00, 10.24ba/s]\u001b[A\n",
            "Creating parquet from Arrow format:  75%|█████▎ | 15/20 [00:01<00:00,  9.83ba/s]\u001b[A\n",
            "Creating parquet from Arrow format:  85%|█████▉ | 17/20 [00:01<00:00, 10.03ba/s]\u001b[A\n",
            "Creating parquet from Arrow format: 100%|███████| 20/20 [00:01<00:00, 10.63ba/s]\u001b[A\n",
            "Pushing dataset shards to the dataset hub:  60%|█▏| 3/5 [01:05<00:43, 21.92s/it]\n",
            "Creating parquet from Arrow format:   0%|                | 0/20 [00:00<?, ?ba/s]\u001b[A\n",
            "Creating parquet from Arrow format:   5%|▍       | 1/20 [00:00<00:01,  9.53ba/s]\u001b[A\n",
            "Creating parquet from Arrow format:  15%|█▏      | 3/20 [00:00<00:01,  9.84ba/s]\u001b[A\n",
            "Creating parquet from Arrow format:  25%|██      | 5/20 [00:00<00:01,  9.91ba/s]\u001b[A\n",
            "Creating parquet from Arrow format:  35%|██▊     | 7/20 [00:00<00:01, 10.14ba/s]\u001b[A\n",
            "Creating parquet from Arrow format:  45%|███▌    | 9/20 [00:00<00:01, 10.27ba/s]\u001b[A\n",
            "Creating parquet from Arrow format:  55%|███▊   | 11/20 [00:01<00:00, 10.16ba/s]\u001b[A\n",
            "Creating parquet from Arrow format:  65%|████▌  | 13/20 [00:01<00:00, 10.09ba/s]\u001b[A\n",
            "Creating parquet from Arrow format:  75%|█████▎ | 15/20 [00:01<00:00,  9.82ba/s]\u001b[A\n",
            "Creating parquet from Arrow format:  85%|█████▉ | 17/20 [00:01<00:00, 10.00ba/s]\u001b[A\n",
            "Creating parquet from Arrow format: 100%|███████| 20/20 [00:01<00:00, 10.58ba/s]\u001b[A\n",
            "Loading checkpoint shards: 100%|██████████████████| 9/9 [01:17<00:00,  8.58s/it]\n",
            "INFO:root:converting PEFT model w/ prepare_model_for_kbit_training\n",
            "INFO:root:found linear modules: ['dense_4h_to_h', 'dense_h_to_4h', 'query_key_value', 'dense']\n",
            "Pushing dataset shards to the dataset hub:  80%|█▌| 4/5 [01:30<00:23, 23.12s/it]\n",
            "Creating parquet from Arrow format:   0%|                | 0/20 [00:00<?, ?ba/s]\u001b[A\n",
            "Creating parquet from Arrow format:   5%|▍       | 1/20 [00:00<00:02,  9.50ba/s]\u001b[A\n",
            "Creating parquet from Arrow format:  15%|█▏      | 3/20 [00:00<00:01,  9.88ba/s]\u001b[A\n",
            "Creating parquet from Arrow format:  25%|██      | 5/20 [00:00<00:01,  9.98ba/s]\u001b[A\n",
            "Creating parquet from Arrow format:  35%|██▊     | 7/20 [00:00<00:01, 10.03ba/s]\u001b[A\n",
            "Creating parquet from Arrow format:  45%|███▌    | 9/20 [00:00<00:01, 10.13ba/s]\u001b[A\n",
            "Creating parquet from Arrow format:  55%|███▊   | 11/20 [00:01<00:00, 10.20ba/s]\u001b[A\n",
            "Creating parquet from Arrow format:  65%|████▌  | 13/20 [00:01<00:00,  9.80ba/s]\u001b[A\n",
            "Creating parquet from Arrow format:  75%|█████▎ | 15/20 [00:01<00:00,  9.93ba/s]\u001b[A\n",
            "Creating parquet from Arrow format:  85%|█████▉ | 17/20 [00:01<00:00, 10.13ba/s]\u001b[A\n",
            "Creating parquet from Arrow format: 100%|███████| 20/20 [00:01<00:00, 10.61ba/s]\u001b[A\n",
            "Pushing dataset shards to the dataset hub: 100%|██| 5/5 [01:54<00:00, 22.84s/it]\n",
            "INFO:root:loading model and peft_config...\n",
            "Loading checkpoint shards: 100%|██████████████████| 9/9 [01:19<00:00,  8.86s/it]\n",
            "INFO:root:converting PEFT model w/ prepare_model_for_kbit_training\n",
            "INFO:root:found linear modules: ['dense_h_to_4h', 'dense_4h_to_h', 'dense', 'query_key_value']\n",
            "trainable params: 444,334,080 || all params: 21,363,310,592 || trainable%: 2.0798933671188187\n",
            "INFO:torch.distributed.distributed_c10d:Added key: store_based_barrier_key:1 to store for rank: 1\n",
            "INFO:torch.distributed.distributed_c10d:Waiting in store based barrier to initialize process group for rank: 1, key: store_based_barrier_key:1 (world_size=2, worker_count=1, timeout=0:30:00)\n",
            "INFO:torch.distributed.distributed_c10d:Waiting in store based barrier to initialize process group for rank: 1, key: store_based_barrier_key:1 (world_size=2, worker_count=1, timeout=0:30:00)\n",
            "INFO:torch.distributed.distributed_c10d:Waiting in store based barrier to initialize process group for rank: 1, key: store_based_barrier_key:1 (world_size=2, worker_count=1, timeout=0:30:00)\n",
            "INFO:torch.distributed.distributed_c10d:Waiting in store based barrier to initialize process group for rank: 1, key: store_based_barrier_key:1 (world_size=2, worker_count=1, timeout=0:30:00)\n",
            "INFO:torch.distributed.distributed_c10d:Waiting in store based barrier to initialize process group for rank: 1, key: store_based_barrier_key:1 (world_size=2, worker_count=1, timeout=0:30:00)\n",
            "INFO:torch.distributed.distributed_c10d:Waiting in store based barrier to initialize process group for rank: 1, key: store_based_barrier_key:1 (world_size=2, worker_count=1, timeout=0:30:00)\n",
            "INFO:torch.distributed.distributed_c10d:Waiting in store based barrier to initialize process group for rank: 1, key: store_based_barrier_key:1 (world_size=2, worker_count=1, timeout=0:30:00)\n",
            "INFO:torch.distributed.distributed_c10d:Waiting in store based barrier to initialize process group for rank: 1, key: store_based_barrier_key:1 (world_size=2, worker_count=1, timeout=0:30:00)\n",
            "INFO:torch.distributed.distributed_c10d:Waiting in store based barrier to initialize process group for rank: 1, key: store_based_barrier_key:1 (world_size=2, worker_count=1, timeout=0:30:00)\n",
            "INFO:torch.distributed.distributed_c10d:Waiting in store based barrier to initialize process group for rank: 1, key: store_based_barrier_key:1 (world_size=2, worker_count=1, timeout=0:30:00)\n",
            "INFO:torch.distributed.distributed_c10d:Waiting in store based barrier to initialize process group for rank: 1, key: store_based_barrier_key:1 (world_size=2, worker_count=1, timeout=0:30:00)\n",
            "INFO:torch.distributed.distributed_c10d:Waiting in store based barrier to initialize process group for rank: 1, key: store_based_barrier_key:1 (world_size=2, worker_count=1, timeout=0:30:00)\n",
            "trainable params: 444,334,080 || all params: 21,363,310,592 || trainable%: 2.0798933671188187\n",
            "INFO:torch.distributed.distributed_c10d:Added key: store_based_barrier_key:1 to store for rank: 0\n",
            "INFO:torch.distributed.distributed_c10d:Rank 0: Completed store-based barrier for key:store_based_barrier_key:1 with 2 nodes.\n",
            "INFO:torch.distributed.distributed_c10d:Rank 1: Completed store-based barrier for key:store_based_barrier_key:1 with 2 nodes.\n",
            "INFO:root:Compiling torch model\n",
            "INFO:root:Compiling torch model\n",
            "INFO:root:Pre-saving adapter config to /content/axolotl-trained/falcon-qlora-40b-minotaur/\n",
            "INFO:root:Starting trainer...\n",
            "INFO:root:Pre-saving adapter config to /content/axolotl-trained/falcon-qlora-40b-minotaur/\n",
            "INFO:root:Starting trainer...\n",
            "\u001b[34m\u001b[1mwandb\u001b[0m: Currently logged in as: \u001b[33mutensil\u001b[0m. Use \u001b[1m`wandb login --relogin`\u001b[0m to force relogin\n",
            "\u001b[34m\u001b[1mwandb\u001b[0m: Tracking run with wandb version 0.15.4\n",
            "\u001b[34m\u001b[1mwandb\u001b[0m: Run data is saved locally in \u001b[35m\u001b[1m/workspace/axolotl/wandb/run-20230616_065554-6gav9vad\u001b[0m\n",
            "\u001b[34m\u001b[1mwandb\u001b[0m: Run \u001b[1m`wandb offline`\u001b[0m to turn off syncing.\n",
            "\u001b[34m\u001b[1mwandb\u001b[0m: Syncing run \u001b[33msolar-violet-45\u001b[0m\n",
            "\u001b[34m\u001b[1mwandb\u001b[0m: ⭐️ View project at \u001b[34m\u001b[4mhttps://wandb.ai/utensil/falcon-qlora\u001b[0m\n",
            "\u001b[34m\u001b[1mwandb\u001b[0m: 🚀 View run at \u001b[34m\u001b[4mhttps://wandb.ai/utensil/falcon-qlora/runs/6gav9vad\u001b[0m\n",
            "  0%|                                                 | 0/35325 [00:00<?, ?it/s]You're using a PreTrainedTokenizerFast tokenizer. Please note that with a fast tokenizer, using the `__call__` method is faster than using a method to encode the text followed by a call to the `pad` method to get a padded encoding.\n",
            "You're using a PreTrainedTokenizerFast tokenizer. Please note that with a fast tokenizer, using the `__call__` method is faster than using a method to encode the text followed by a call to the `pad` method to get a padded encoding.\n",
            "{'loss': 1.4081, 'learning_rate': 2e-05, 'epoch': 0.0}                          \n",
            "  0%|                                     | 1/35325 [00:16<161:17:41, 16.44s/it]INFO:torch.nn.parallel.distributed:Reducer buckets have been rebuilt in this iteration.\n",
            "INFO:torch.nn.parallel.distributed:Reducer buckets have been rebuilt in this iteration.\n",
            "{'loss': 1.4267, 'learning_rate': 4e-05, 'epoch': 0.0}                          \n",
            "{'loss': 1.4225, 'learning_rate': 6e-05, 'epoch': 0.0}                          \n",
            "{'loss': 1.57, 'learning_rate': 8e-05, 'epoch': 0.0}                            \n",
            "{'loss': 1.4575, 'learning_rate': 0.0001, 'epoch': 0.0}                         \n",
            "  0%|                                     | 5/35325 [01:15<147:43:37, 15.06s/it]\n",
            "  0%|                                                   | 0/119 [00:00<?, ?it/s]\u001b[A\n",
            "  2%|▋                                          | 2/119 [00:04<04:44,  2.43s/it]\u001b[A\n",
            "  3%|█                                          | 3/119 [00:09<06:51,  3.55s/it]\u001b[A\n",
            "  3%|█▍                                         | 4/119 [00:14<07:44,  4.04s/it]\u001b[A\n",
            "  4%|█▊                                         | 5/119 [00:19<08:20,  4.39s/it]\u001b[A\n",
            "  5%|██▏                                        | 6/119 [00:24<08:39,  4.60s/it]\u001b[A\n",
            "  6%|██▌                                        | 7/119 [00:29<08:50,  4.74s/it]\u001b[A\n",
            "  7%|██▉                                        | 8/119 [00:34<08:54,  4.81s/it]\u001b[A\n",
            "  8%|███▎                                       | 9/119 [00:39<08:29,  4.63s/it]\u001b[A\n",
            "  8%|███▌                                      | 10/119 [00:43<08:11,  4.51s/it]\u001b[A\n",
            "  9%|███▉                                      | 11/119 [00:49<08:48,  4.89s/it]\u001b[A\n",
            " 10%|████▏                                     | 12/119 [00:53<08:37,  4.83s/it]\u001b[A\n",
            " 11%|████▌                                     | 13/119 [00:59<08:43,  4.94s/it]\u001b[A\n",
            " 12%|████▉                                     | 14/119 [01:03<08:31,  4.87s/it]\u001b[A\n",
            " 13%|█████▎                                    | 15/119 [01:08<08:33,  4.94s/it]\u001b[A\n",
            " 13%|█████▋                                    | 16/119 [01:13<08:32,  4.98s/it]\u001b[A\n",
            " 14%|██████                                    | 17/119 [01:18<08:12,  4.83s/it]\u001b[A\n",
            " 15%|██████▎                                   | 18/119 [01:23<08:25,  5.01s/it]\u001b[A\n",
            " 16%|██████▋                                   | 19/119 [01:28<08:11,  4.91s/it]\u001b[A\n",
            " 17%|███████                                   | 20/119 [01:34<08:32,  5.18s/it]\u001b[A\n",
            " 18%|███████▍                                  | 21/119 [01:39<08:16,  5.07s/it]\u001b[A\n",
            " 18%|███████▊                                  | 22/119 [01:43<08:04,  5.00s/it]\u001b[A\n",
            " 19%|████████                                  | 23/119 [01:49<08:02,  5.02s/it]\u001b[A\n",
            " 20%|████████▍                                 | 24/119 [01:53<07:34,  4.78s/it]\u001b[A\n",
            " 21%|████████▊                                 | 25/119 [01:58<07:53,  5.04s/it]\u001b[A\n",
            " 22%|█████████▏                                | 26/119 [02:03<07:44,  4.99s/it]\u001b[A\n",
            " 23%|█████████▌                                | 27/119 [02:08<07:36,  4.96s/it]\u001b[A\n",
            " 24%|█████████▉                                | 28/119 [02:13<07:38,  5.04s/it]\u001b[A\n",
            " 24%|██████████▏                               | 29/119 [02:18<07:33,  5.04s/it]\u001b[A\n",
            " 25%|██████████▌                               | 30/119 [02:23<07:27,  5.02s/it]\u001b[A\n",
            " 26%|██████████▉                               | 31/119 [02:28<07:15,  4.95s/it]\u001b[A\n",
            " 27%|███████████▎                              | 32/119 [02:33<07:10,  4.95s/it]\u001b[A\n",
            " 28%|███████████▋                              | 33/119 [02:38<07:08,  4.99s/it]\u001b[A\n",
            " 29%|████████████                              | 34/119 [02:43<06:52,  4.85s/it]\u001b[A\n",
            " 29%|████████████▎                             | 35/119 [02:48<06:52,  4.91s/it]\u001b[A\n",
            " 30%|████████████▋                             | 36/119 [02:53<06:51,  4.95s/it]\u001b[A\n",
            " 31%|█████████████                             | 37/119 [02:58<06:46,  4.96s/it]\u001b[A\n",
            " 32%|█████████████▍                            | 38/119 [03:03<06:51,  5.08s/it]\u001b[A\n",
            " 33%|█████████████▊                            | 39/119 [03:08<06:41,  5.01s/it]\u001b[A\n",
            " 34%|██████████████                            | 40/119 [03:13<06:32,  4.97s/it]\u001b[A\n",
            " 34%|██████████████▍                           | 41/119 [03:17<06:10,  4.75s/it]\u001b[A\n",
            " 35%|██████████████▊                           | 42/119 [03:23<06:31,  5.08s/it]\u001b[A\n",
            " 36%|███████████████▏                          | 43/119 [03:28<06:25,  5.07s/it]\u001b[A\n",
            " 37%|███████████████▌                          | 44/119 [03:33<06:14,  4.99s/it]\u001b[A\n",
            " 38%|███████████████▉                          | 45/119 [03:38<06:02,  4.90s/it]\u001b[A\n",
            " 39%|████████████████▏                         | 46/119 [03:43<06:06,  5.02s/it]\u001b[A\n",
            " 39%|████████████████▌                         | 47/119 [03:48<06:02,  5.03s/it]\u001b[A\n",
            " 40%|████████████████▉                         | 48/119 [03:53<05:54,  5.00s/it]\u001b[A\n",
            " 41%|█████████████████▎                        | 49/119 [03:57<05:38,  4.84s/it]\u001b[A\n",
            " 42%|█████████████████▋                        | 50/119 [04:03<05:42,  4.97s/it]\u001b[A\n",
            " 43%|██████████████████                        | 51/119 [04:08<05:41,  5.02s/it]\u001b[A\n",
            " 44%|██████████████████▎                       | 52/119 [04:13<05:40,  5.08s/it]\u001b[A\n",
            " 45%|██████████████████▋                       | 53/119 [04:18<05:33,  5.06s/it]\u001b[A\n",
            " 45%|███████████████████                       | 54/119 [04:23<05:24,  4.99s/it]\u001b[A\n",
            " 46%|███████████████████▍                      | 55/119 [04:28<05:23,  5.06s/it]\u001b[A\n",
            " 47%|███████████████████▊                      | 56/119 [04:33<05:12,  4.96s/it]\u001b[A\n",
            " 48%|████████████████████                      | 57/119 [04:38<05:13,  5.05s/it]\u001b[A\n",
            " 49%|████████████████████▍                     | 58/119 [04:43<05:06,  5.02s/it]\u001b[A\n",
            " 50%|████████████████████▊                     | 59/119 [04:48<05:01,  5.03s/it]\u001b[A\n",
            " 50%|█████████████████████▏                    | 60/119 [04:53<04:53,  4.97s/it]\u001b[A\n",
            " 51%|█████████████████████▌                    | 61/119 [04:58<04:48,  4.97s/it]\u001b[A\n",
            " 52%|█████████████████████▉                    | 62/119 [05:03<04:42,  4.96s/it]\u001b[A\n",
            " 53%|██████████████████████▏                   | 63/119 [05:07<04:32,  4.87s/it]\u001b[A\n",
            " 54%|██████████████████████▌                   | 64/119 [05:12<04:30,  4.92s/it]\u001b[A\n",
            " 55%|██████████████████████▉                   | 65/119 [05:17<04:27,  4.95s/it]\u001b[A\n",
            " 55%|███████████████████████▎                  | 66/119 [05:22<04:22,  4.94s/it]\u001b[A\n",
            " 56%|███████████████████████▋                  | 67/119 [05:27<04:18,  4.97s/it]\u001b[A\n",
            " 57%|████████████████████████                  | 68/119 [05:32<04:11,  4.94s/it]\u001b[A\n",
            " 58%|████████████████████████▎                 | 69/119 [05:37<04:07,  4.94s/it]\u001b[A\n",
            " 59%|████████████████████████▋                 | 70/119 [05:41<03:49,  4.67s/it]\u001b[A\n",
            " 60%|█████████████████████████                 | 71/119 [05:47<04:00,  5.02s/it]\u001b[A\n",
            " 61%|█████████████████████████▍                | 72/119 [05:52<03:56,  5.02s/it]\u001b[A\n",
            " 61%|█████████████████████████▊                | 73/119 [05:57<03:51,  5.02s/it]\u001b[A\n",
            " 62%|██████████████████████████                | 74/119 [06:02<03:45,  5.02s/it]\u001b[A\n",
            " 63%|██████████████████████████▍               | 75/119 [06:07<03:36,  4.91s/it]\u001b[A\n",
            " 64%|██████████████████████████▊               | 76/119 [06:12<03:32,  4.95s/it]\u001b[A\n",
            " 65%|███████████████████████████▏              | 77/119 [06:17<03:24,  4.87s/it]\u001b[A\n",
            " 66%|███████████████████████████▌              | 78/119 [06:22<03:21,  4.91s/it]\u001b[A\n",
            " 66%|███████████████████████████▉              | 79/119 [06:26<03:16,  4.92s/it]\u001b[A\n",
            " 67%|████████████████████████████▏             | 80/119 [06:31<03:12,  4.93s/it]\u001b[A\n",
            " 68%|████████████████████████████▌             | 81/119 [06:36<03:04,  4.85s/it]\u001b[A\n",
            " 69%|████████████████████████████▉             | 82/119 [06:41<02:59,  4.86s/it]\u001b[A\n",
            " 70%|█████████████████████████████▎            | 83/119 [06:46<02:54,  4.86s/it]\u001b[A\n",
            " 71%|█████████████████████████████▋            | 84/119 [06:51<02:52,  4.93s/it]\u001b[A\n",
            " 71%|██████████████████████████████            | 85/119 [06:56<02:48,  4.95s/it]\u001b[A\n",
            " 72%|██████████████████████████████▎           | 86/119 [07:01<02:42,  4.93s/it]\u001b[A\n",
            " 73%|██████████████████████████████▋           | 87/119 [07:06<02:38,  4.94s/it]\u001b[A\n",
            " 74%|███████████████████████████████           | 88/119 [07:10<02:30,  4.87s/it]\u001b[A\n",
            " 75%|███████████████████████████████▍          | 89/119 [07:15<02:26,  4.90s/it]\u001b[A\n",
            " 76%|███████████████████████████████▊          | 90/119 [07:20<02:21,  4.89s/it]\u001b[A\n",
            " 76%|████████████████████████████████          | 91/119 [07:25<02:17,  4.92s/it]\u001b[A\n",
            " 77%|████████████████████████████████▍         | 92/119 [07:30<02:13,  4.96s/it]\u001b[A\n",
            " 78%|████████████████████████████████▊         | 93/119 [07:35<02:07,  4.89s/it]\u001b[A\n",
            " 79%|█████████████████████████████████▏        | 94/119 [07:40<02:01,  4.87s/it]\u001b[A\n",
            " 80%|█████████████████████████████████▌        | 95/119 [07:45<02:00,  5.01s/it]\u001b[A\n",
            " 81%|█████████████████████████████████▉        | 96/119 [07:50<01:53,  4.96s/it]\u001b[A\n",
            " 82%|██████████████████████████████████▏       | 97/119 [07:55<01:49,  4.96s/it]\u001b[A\n",
            " 82%|██████████████████████████████████▌       | 98/119 [08:00<01:43,  4.94s/it]\u001b[A\n",
            " 83%|██████████████████████████████████▉       | 99/119 [08:05<01:38,  4.90s/it]\u001b[A\n",
            " 84%|██████████████████████████████████▍      | 100/119 [08:10<01:35,  5.02s/it]\u001b[A\n",
            " 85%|██████████████████████████████████▊      | 101/119 [08:15<01:30,  5.00s/it]\u001b[A\n",
            " 86%|███████████████████████████████████▏     | 102/119 [08:20<01:25,  5.00s/it]\u001b[A\n",
            " 87%|███████████████████████████████████▍     | 103/119 [08:25<01:19,  4.99s/it]\u001b[A\n",
            " 87%|███████████████████████████████████▊     | 104/119 [08:30<01:14,  4.97s/it]\u001b[A\n",
            " 88%|████████████████████████████████████▏    | 105/119 [08:35<01:09,  5.00s/it]\u001b[A\n",
            " 89%|████████████████████████████████████▌    | 106/119 [08:39<01:01,  4.70s/it]\u001b[A\n",
            " 90%|████████████████████████████████████▊    | 107/119 [08:45<01:01,  5.11s/it]\u001b[A\n",
            " 91%|█████████████████████████████████████▏   | 108/119 [08:50<00:55,  5.07s/it]\u001b[A\n",
            " 92%|█████████████████████████████████████▌   | 109/119 [08:55<00:50,  5.05s/it]\u001b[A\n",
            " 92%|█████████████████████████████████████▉   | 110/119 [09:00<00:44,  4.95s/it]\u001b[A\n",
            " 93%|██████████████████████████████████████▏  | 111/119 [09:05<00:39,  4.94s/it]\u001b[A\n",
            " 94%|██████████████████████████████████████▌  | 112/119 [09:09<00:34,  4.91s/it]\u001b[A\n",
            " 95%|██████████████████████████████████████▉  | 113/119 [09:14<00:29,  4.92s/it]\u001b[A\n",
            " 96%|███████████████████████████████████████▎ | 114/119 [09:19<00:24,  4.91s/it]\u001b[A\n",
            " 97%|███████████████████████████████████████▌ | 115/119 [09:24<00:19,  4.97s/it]\u001b[A\n",
            " 97%|███████████████████████████████████████▉ | 116/119 [09:29<00:14,  4.93s/it]\u001b[A\n",
            " 98%|████████████████████████████████████████▎| 117/119 [09:34<00:09,  4.98s/it]\u001b[A\n",
            " 99%|████████████████████████████████████████▋| 118/119 [09:39<00:04,  4.92s/it]\u001b[A\n",
            "                                                                                \u001b[A\n",
            "\u001b[A{'eval_loss': 0.8062254786491394, 'eval_runtime': 589.5168, 'eval_samples_per_second': 1.615, 'eval_steps_per_second': 0.202, 'epoch': 0.0}\n",
            "  0%|                                     | 5/35325 [11:05<147:43:37, 15.06s/it]\n",
            "100%|█████████████████████████████████████████| 119/119 [09:44<00:00,  4.91s/it]\u001b[A\n",
            "{'loss': 1.3887, 'learning_rate': 0.00012, 'epoch': 0.0}                        \u001b[A\n",
            "{'loss': 1.3233, 'learning_rate': 0.00014, 'epoch': 0.0}                        \n",
            "{'loss': 1.2572, 'learning_rate': 0.00016, 'epoch': 0.0}                        \n",
            "{'loss': 1.0503, 'learning_rate': 0.00018, 'epoch': 0.0}                        \n",
            "{'loss': 1.0278, 'learning_rate': 0.0002, 'epoch': 0.0}                         \n",
            "  0%|                                    | 10/35325 [12:22<579:03:14, 59.03s/it]\n",
            "  0%|                                                   | 0/119 [00:00<?, ?it/s]\u001b[A\n",
            "  2%|▋                                          | 2/119 [00:04<04:45,  2.44s/it]\u001b[A\n",
            "  3%|█                                          | 3/119 [00:09<06:52,  3.55s/it]\u001b[A\n",
            "  3%|█▍                                         | 4/119 [00:14<07:45,  4.05s/it]\u001b[A\n",
            "  4%|█▊                                         | 5/119 [00:19<08:20,  4.39s/it]\u001b[A\n",
            "  5%|██▏                                        | 6/119 [00:24<08:40,  4.61s/it]\u001b[A\n",
            "  6%|██▌                                        | 7/119 [00:29<08:50,  4.74s/it]\u001b[A\n",
            "  7%|██▉                                        | 8/119 [00:34<08:54,  4.82s/it]\u001b[A\n",
            "  8%|███▎                                       | 9/119 [00:39<08:29,  4.63s/it]\u001b[A\n",
            "  8%|███▌                                      | 10/119 [00:43<08:12,  4.52s/it]\u001b[A\n",
            "  9%|███▉                                      | 11/119 [00:49<08:49,  4.90s/it]\u001b[A\n",
            " 10%|████▏                                     | 12/119 [00:53<08:38,  4.84s/it]\u001b[A\n",
            " 11%|████▌                                     | 13/119 [00:59<08:43,  4.94s/it]\u001b[A\n",
            " 12%|████▉                                     | 14/119 [01:03<08:31,  4.87s/it]\u001b[A\n",
            " 13%|█████▎                                    | 15/119 [01:08<08:34,  4.94s/it]\u001b[A\n",
            " 13%|█████▋                                    | 16/119 [01:13<08:33,  4.98s/it]\u001b[A\n",
            " 14%|██████                                    | 17/119 [01:18<08:12,  4.83s/it]\u001b[A\n",
            " 15%|██████▎                                   | 18/119 [01:23<08:26,  5.01s/it]\u001b[A\n",
            " 16%|██████▋                                   | 19/119 [01:28<08:11,  4.92s/it]\u001b[A\n",
            " 17%|███████                                   | 20/119 [01:33<08:18,  5.03s/it]\u001b[A\n",
            " 18%|███████▍                                  | 21/119 [01:38<08:07,  4.97s/it]\u001b[A\n",
            " 18%|███████▊                                  | 22/119 [01:43<07:58,  4.93s/it]\u001b[A\n",
            " 19%|████████                                  | 23/119 [01:48<07:57,  4.97s/it]\u001b[A\n",
            " 20%|████████▍                                 | 24/119 [01:52<07:31,  4.75s/it]\u001b[A\n",
            " 21%|████████▊                                 | 25/119 [01:58<07:51,  5.01s/it]\u001b[A\n",
            " 22%|█████████▏                                | 26/119 [02:03<07:42,  4.97s/it]\u001b[A\n",
            " 23%|█████████▌                                | 27/119 [02:08<07:35,  4.95s/it]\u001b[A\n",
            " 24%|█████████▉                                | 28/119 [02:13<07:38,  5.04s/it]\u001b[A\n",
            " 24%|██████████▏                               | 29/119 [02:18<07:33,  5.04s/it]\u001b[A\n",
            " 25%|██████████▌                               | 30/119 [02:23<07:27,  5.02s/it]\u001b[A\n",
            " 26%|██████████▉                               | 31/119 [02:28<07:15,  4.95s/it]\u001b[A\n",
            " 27%|███████████▎                              | 32/119 [02:33<07:11,  4.96s/it]\u001b[A^C\n",
            "WARNING:torch.distributed.elastic.agent.server.api:Received 2 death signal, shutting down workers\n",
            "WARNING:torch.distributed.elastic.multiprocessing.api:Sending process 2528 closing signal SIGINT\n",
            "WARNING:torch.distributed.elastic.multiprocessing.api:Sending process 2529 closing signal SIGINT\n",
            "Traceback (most recent call last):\n",
            "  File \"/workspace/axolotl/scripts/finetune.py\", line 352, in <module>\n",
            "    fire.Fire(train)\n",
            "  File \"/root/miniconda3/envs/py3.9/lib/python3.9/site-packages/fire/core.py\", line 141, in Fire\n",
            "    component_trace = _Fire(component, args, parsed_flag_args, context, name)\n",
            "  File \"/root/miniconda3/envs/py3.9/lib/python3.9/site-packages/fire/core.py\", line 475, in _Fire\n",
            "    component, remaining_args = _CallAndUpdateTrace(\n",
            "  File \"/root/miniconda3/envs/py3.9/lib/python3.9/site-packages/fire/core.py\", line 691, in _CallAndUpdateTrace\n",
            "    component = fn(*varargs, **kwargs)\n",
            "  File \"/workspace/axolotl/scripts/finetune.py\", line 337, in train\n",
            "    trainer.train(resume_from_checkpoint=resume_from_checkpoint)\n",
            "  File \"/root/miniconda3/envs/py3.9/lib/python3.9/site-packages/transformers/trainer.py\", line 1540, in train\n",
            "    return inner_training_loop(\n",
            "  File \"/root/miniconda3/envs/py3.9/lib/python3.9/site-packages/transformers/trainer.py\", line 1884, in _inner_training_loop\n",
            "    self._maybe_log_save_evaluate(tr_loss, model, trial, epoch, ignore_keys_for_eval)\n",
            "  File \"/root/miniconda3/envs/py3.9/lib/python3.9/site-packages/transformers/trainer.py\", line 2185, in _maybe_log_save_evaluate\n",
            "    metrics = self.evaluate(ignore_keys=ignore_keys_for_eval)\n",
            "  File \"/root/miniconda3/envs/py3.9/lib/python3.9/site-packages/transformers/trainer.py\", line 2931, in evaluate\n",
            "    output = eval_loop(\n",
            "  File \"/root/miniconda3/envs/py3.9/lib/python3.9/site-packages/transformers/trainer.py\", line 3120, in evaluation_loop\n",
            "    loss, logits, labels = self.prediction_step(model, inputs, prediction_loss_only, ignore_keys=ignore_keys)\n",
            "  File \"/root/miniconda3/envs/py3.9/lib/python3.9/site-packages/transformers/trainer.py\", line 3363, in prediction_step\n",
            "    loss, outputs = self.compute_loss(model, inputs, return_outputs=True)\n",
            "  File \"/root/miniconda3/envs/py3.9/lib/python3.9/site-packages/transformers/trainer.py\", line 2662, in compute_loss\n",
            "    outputs = model(**inputs)\n",
            "  File \"/root/miniconda3/envs/py3.9/lib/python3.9/site-packages/torch/nn/modules/module.py\", line 1501, in _call_impl\n",
            "    return forward_call(*args, **kwargs)\n",
            "  File \"/root/miniconda3/envs/py3.9/lib/python3.9/site-packages/peft/peft_model.py\", line 785, in forward\n",
            "    return self.base_model(\n",
            "  File \"/root/miniconda3/envs/py3.9/lib/python3.9/site-packages/torch/nn/modules/module.py\", line 1501, in _call_impl\n",
            "    return forward_call(*args, **kwargs)\n",
            "  File \"/root/miniconda3/envs/py3.9/lib/python3.9/site-packages/accelerate/hooks.py\", line 165, in new_forward\n",
            "    output = old_forward(*args, **kwargs)\n",
            "  File \"/root/.cache/huggingface/modules/transformers_modules/tiiuae_falcon-40b/modelling_RW.py\", line 759, in forward\n",
            "    transformer_outputs = self.transformer(\n",
            "  File \"/root/miniconda3/envs/py3.9/lib/python3.9/site-packages/torch/nn/modules/module.py\", line 1501, in _call_impl\n",
            "    return forward_call(*args, **kwargs)\n",
            "  File \"/root/miniconda3/envs/py3.9/lib/python3.9/site-packages/accelerate/hooks.py\", line 165, in new_forward\n",
            "    output = old_forward(*args, **kwargs)\n",
            "  File \"/root/.cache/huggingface/modules/transformers_modules/tiiuae_falcon-40b/modelling_RW.py\", line 654, in forward\n",
            "    outputs = block(\n",
            "  File \"/root/miniconda3/envs/py3.9/lib/python3.9/site-packages/torch/nn/modules/module.py\", line 1501, in _call_impl\n",
            "    return forward_call(*args, **kwargs)\n",
            "  File \"/root/miniconda3/envs/py3.9/lib/python3.9/site-packages/accelerate/hooks.py\", line 165, in new_forward\n",
            "    output = old_forward(*args, **kwargs)\n",
            "  File \"/root/.cache/huggingface/modules/transformers_modules/tiiuae_falcon-40b/modelling_RW.py\", line 396, in forward\n",
            "    attn_outputs = self.self_attention(\n",
            "  File \"/root/miniconda3/envs/py3.9/lib/python3.9/site-packages/torch/nn/modules/module.py\", line 1501, in _call_impl\n",
            "    return forward_call(*args, **kwargs)\n",
            "  File \"/root/miniconda3/envs/py3.9/lib/python3.9/site-packages/accelerate/hooks.py\", line 165, in new_forward\n",
            "    output = old_forward(*args, **kwargs)\n",
            "  File \"/root/.cache/huggingface/modules/transformers_modules/tiiuae_falcon-40b/modelling_RW.py\", line 255, in forward\n",
            "    (query_layer, key_layer, value_layer) = self._split_heads(fused_qkv)\n",
            "  File \"/root/.cache/huggingface/modules/transformers_modules/tiiuae_falcon-40b/modelling_RW.py\", line 201, in _split_heads\n",
            "    k = qkv[:, :, :, [-2]]\n",
            "KeyboardInterrupt\n"
          ]
        },
        {
          "data": {
            "application/javascript": [
              "$(document).ready(\n",
              "    function() {\n",
              "        function appendUniqueDiv(){\n",
              "            // append a div with our uuid so we can check that it's already\n",
              "            // been sent and avoid duplicates on page reload\n",
              "            var notifiedDiv = document.createElement(\"div\")\n",
              "            notifiedDiv.id = \"8a07ca3b-7744-4187-87f4-9deef5baf20d\"\n",
              "            element.append(notifiedDiv)\n",
              "        }\n",
              "\n",
              "        // only send notifications if the pageload is complete; this will\n",
              "        // help stop extra notifications when a saved notebook is loaded,\n",
              "        // which during testing gives us state \"interactive\", not \"complete\"\n",
              "        if (document.readyState === 'complete') {\n",
              "            // check for the div that signifies that the notification\n",
              "            // was already sent\n",
              "            if (document.getElementById(\"8a07ca3b-7744-4187-87f4-9deef5baf20d\") === null) {\n",
              "                var notificationPayload = {\"requireInteraction\": false, \"icon\": \"/static/base/images/favicon.ico\", \"body\": \"Cell Execution Has Finished!!\", \"autonotify_after\": \"30\", \"autonotify_output\": true, \"only_in_background\": false};\n",
              "\n",
              "                // We have a notification but the window is active\n",
              "                if (notificationPayload.only_in_background && !window.jupyterNotifyIsInBackground) {\n",
              "                    appendUniqueDiv();\n",
              "                    return;\n",
              "                }\n",
              "                if (Notification.permission !== 'denied') {\n",
              "                    if (Notification.permission !== 'granted') { \n",
              "                        Notification.requestPermission(function (permission) {\n",
              "                            if(!('permission' in Notification)) {\n",
              "                                Notification.permission = permission\n",
              "                            }\n",
              "                        })\n",
              "                    }\n",
              "                    if (Notification.permission === 'granted') {\n",
              "                    var notification = new Notification(\"Jupyter Notebook\", notificationPayload)\n",
              "                    appendUniqueDiv()\n",
              "                    notification.onclick = function () {\n",
              "                        window.focus();\n",
              "                        this.close();\n",
              "                        };\n",
              "                    } \n",
              "                }     \n",
              "            }\n",
              "        }\n",
              "    }\n",
              ")\n"
            ],
            "text/plain": [
              "<IPython.core.display.Javascript object>"
            ]
          },
          "metadata": {},
          "output_type": "display_data"
        }
      ],
      "source": [
        "!accelerate launch scripts/finetune.py examples/falcon/config-40b-qlora.yml"
      ]
    },
    {
      "cell_type": "markdown",
      "metadata": {
        "id": "yIfs-AbKDY7K"
      },
      "source": [
        "## #2 optimizer: adamw_bnb_8bit"
      ]
    },
    {
      "cell_type": "code",
      "execution_count": null,
      "metadata": {
        "id": "3gNWb1VKgJ8S",
        "outputId": "3892191c-932f-4966-ab0a-6b8d37b66604"
      },
      "outputs": [
        {
          "name": "stdout",
          "output_type": "stream",
          "text": [
            "env: ACCELERATE_USE_DEEPSPEED=false\n"
          ]
        }
      ],
      "source": [
        "%env ACCELERATE_USE_DEEPSPEED=false"
      ]
    },
    {
      "cell_type": "code",
      "execution_count": null,
      "metadata": {
        "id": "6U1u8RtbDY7K",
        "scrolled": true,
        "outputId": "6088cd8e-9579-4a5f-c9d3-44284bd577eb"
      },
      "outputs": [
        {
          "name": "stdout",
          "output_type": "stream",
          "text": [
            "# 1b: tiiuae/falcon-rw-1b\n",
            "# 7b: tiiuae/falcon-7b\n",
            "# 40b: tiiuae/falcon-40b\n",
            "base_model: /content/llm-playground/models/tiiuae_falcon-40b\n",
            "base_model_config: /content/llm-playground/models/tiiuae_falcon-40b\n",
            "# required by falcon custom model code: https://huggingface.co/tiiuae/falcon-7b/tree/main\n",
            "trust_remote_code: true\n",
            "model_type: AutoModelForCausalLM\n",
            "tokenizer_type: AutoTokenizer\n",
            "load_in_8bit: false\n",
            "# enable 4bit for QLoRA\n",
            "load_in_4bit: true\n",
            "gptq: false\n",
            "strict: false\n",
            "\n",
            "push_dataset_to_hub: utensil\n",
            "hf_use_auth_token: true\n",
            "\n",
            "datasets:\n",
            "  - path: winglian/evals\n",
            "    data_files:\n",
            "      - hf/ARC-Challenge.jsonl\n",
            "      - hf/ARC-Easy.jsonl\n",
            "      - hf/riddle_sense.jsonl\n",
            "    type: explainchoice:chat\n",
            "  - path: winglian/evals\n",
            "    data_files:\n",
            "      - hf/gsm8k.jsonl\n",
            "      - hf/winogrande.jsonl\n",
            "    type: alpaca_chat.load_qa\n",
            "  - path: winglian/evals\n",
            "    data_files:\n",
            "      - custom/n_task.jsonl\n",
            "      - custom/misconceptions.jsonl\n",
            "      - custom/context_insensitivity.jsonl\n",
            "    type: alpaca_chat\n",
            "  - path: camel-ai/math\n",
            "    type: alpaca_chat.load_camel_ai\n",
            "  - path: camel-ai/biology\n",
            "    type: alpaca_chat.load_camel_ai\n",
            "  - path: camel-ai/physics\n",
            "    type: alpaca_chat.load_camel_ai\n",
            "  - path: camel-ai/chemistry\n",
            "    type: alpaca_chat.load_camel_ai\n",
            "  - path: winglian/evals\n",
            "    data_files:\n",
            "      - custom/in_context_qa.jsonl\n",
            "    type: context_qa\n",
            "  - path: winglian/evals\n",
            "    data_files:\n",
            "      - custom/in_context_qa.jsonl\n",
            "    type: context_qa.load_404\n",
            "  - path: winglian/evals\n",
            "    data_files:\n",
            "      - custom/jokes_explained_500up.jsonl\n",
            "    type: sharegpt_jokes\n",
            "  - path: winglian/evals\n",
            "    data_files:\n",
            "      - custom/classify-self-chat.sharegpt.jsonl\n",
            "      - custom/coding-self-chat.sharegpt.jsonl\n",
            "      - custom/prose-gpt4.sharegpt.jsonl\n",
            "      - custom/prose-rewrite-gpt4.sharegpt.jsonl\n",
            "    type: sharegpt_simple.load_role\n",
            "  - path: winglian/evals\n",
            "    data_files:\n",
            "      - openai/tldr.jsonl\n",
            "    type: summarizetldr:chat\n",
            "  - path: winglian/evals\n",
            "    data_files:\n",
            "      - hellaswag/hellaswag.jsonl\n",
            "    type: explainchoice:chat\n",
            "  - path: metaeval/ScienceQA_text_only\n",
            "    type: concisechoice:chat\n",
            "  - path: teknium/GPT4-LLM-Cleaned\n",
            "    type: alpaca_chat\n",
            "  - path: teknium/GPTeacher-General-Instruct\n",
            "    data_files: gpt4-instruct-similarity-0.6-dataset.json\n",
            "    type: gpteacher:chat\n",
            "  - path: QingyiSi/Alpaca-CoT\n",
            "    data_files:\n",
            "      - Chain-of-Thought/formatted_cot_data/aqua_train.json\n",
            "      - Chain-of-Thought/formatted_cot_data/creak_train.json\n",
            "      - Chain-of-Thought/formatted_cot_data/ecqa_train.json\n",
            "      - Chain-of-Thought/formatted_cot_data/esnli_train.json\n",
            "      - Chain-of-Thought/formatted_cot_data/qasc_train.json\n",
            "      - Chain-of-Thought/formatted_cot_data/qed_train.json\n",
            "      - Chain-of-Thought/formatted_cot_data/sensemaking_train.json\n",
            "      - Chain-of-Thought/formatted_cot_data/strategyqa_train.json\n",
            "      - GPTeacher/Roleplay/formatted_roleplay-similarity_0.6-instruct-dataset.json\n",
            "    type: alpaca_chat\n",
            "  - path: ehartford/WizardLM_alpaca_evol_instruct_70k_unfiltered\n",
            "    type: alpaca_chat\n",
            "  - path: ehartford/wizard_vicuna_70k_unfiltered\n",
            "    type: sharegpt:chat\n",
            "\n",
            "dataset_prepared_path: last_run_prepared\n",
            "val_set_size: 0.01\n",
            "# enable QLoRA\n",
            "adapter: qlora\n",
            "lora_model_dir:\n",
            "sequence_len: 2048\n",
            "max_packed_sequence_len: 2048\n",
            "\n",
            "# hyperparameters from QLoRA paper Appendix B.2\n",
            "# \"We find hyperparameters to be largely robust across datasets\"\n",
            "lora_r: 64\n",
            "lora_alpha: 16\n",
            "# 0.1 for models up to 13B\n",
            "# 0.05 for 33B and 65B models\n",
            "lora_dropout: 0.05\n",
            "# add LoRA modules on all linear layers of the base model\n",
            "lora_target_modules:\n",
            "lora_target_linear: true\n",
            "lora_fan_in_fan_out:\n",
            "\n",
            "wandb_project: falcon-qlora\n",
            "wandb_watch:\n",
            "wandb_run_id:\n",
            "wandb_log_model:\n",
            "output_dir: /content/axolotl-trained/falcon-qlora-40b-minotaur/\n",
            "\n",
            "# QLoRA paper Table 9\n",
            "# - 16 for 7b & 13b\n",
            "# - 32 for 33b, 64 for 64b\n",
            "# Max size tested on A6000\n",
            "# - 7b: 40\n",
            "# - 40b: 4\n",
            "# decrease if OOM, increase for max VRAM utilization\n",
            "micro_batch_size: 4\n",
            "gradient_accumulation_steps: 1\n",
            "num_epochs: 3\n",
            "# Optimizer for QLoRA\n",
            "optimizer: adamw_bnb_8bit\n",
            "torchdistx_path:\n",
            "lr_scheduler: cosine\n",
            "# QLoRA paper Table 9\n",
            "# - 2e-4 for 7b & 13b\n",
            "# - 1e-4 for 33b & 64b\n",
            "learning_rate: 0.0002\n",
            "train_on_inputs: false\n",
            "group_by_length: false\n",
            "bf16: true\n",
            "fp16: false\n",
            "tf32: true\n",
            "gradient_checkpointing: true\n",
            "# stop training after this many evaluation losses have increased in a row\n",
            "# https://huggingface.co/transformers/v4.2.2/_modules/transformers/trainer_callback.html#EarlyStoppingCallback\n",
            "# early_stopping_patience: 3\n",
            "resume_from_checkpoint:\n",
            "auto_resume_from_checkpoints: true\n",
            "local_rank:\n",
            "logging_steps: 1\n",
            "xformers_attention: true\n",
            "flash_attention:\n",
            "gptq_groupsize:\n",
            "gptq_model_v1:\n",
            "warmup_steps: 10\n",
            "eval_steps: 5\n",
            "save_steps: 10\n",
            "debug:\n",
            "deepspeed:\n",
            "weight_decay: 0.01\n",
            "adam_beta1:\n",
            "adam_beta2: 0.999\n",
            "adam_epsilon:\n",
            "# Gradient clipping max norm\n",
            "max_grad_norm: 0.3\n",
            "\n",
            "fsdp:\n",
            "fsdp_config:\n",
            "special_tokens:\n",
            "  pad_token: \"<|endoftext|>\"\n",
            "  bos_token: \">>ABSTRACT<<\"\n",
            "  eos_token: \"<|endoftext|>\"\n"
          ]
        }
      ],
      "source": [
        "!cat examples/falcon/config-40b-qlora.yml"
      ]
    },
    {
      "cell_type": "code",
      "execution_count": null,
      "metadata": {
        "id": "3EeOND66dDnF"
      },
      "outputs": [],
      "source": [
        "!ds_report"
      ]
    },
    {
      "cell_type": "code",
      "execution_count": null,
      "metadata": {
        "id": "jnz7AF94LJTa"
      },
      "outputs": [],
      "source": [
        "#%%writefile examples/falcon/config-40b-qlora.yml"
      ]
    },
    {
      "cell_type": "code",
      "execution_count": null,
      "metadata": {
        "id": "xR8QPcw3DY7K",
        "scrolled": true,
        "outputId": "89641200-ca18-4720-c942-4836c079f203"
      },
      "outputs": [
        {
          "name": "stdout",
          "output_type": "stream",
          "text": [
            "Setting ds_accelerator to cuda (auto detect)\n",
            "The following values were not passed to `accelerate launch` and had defaults used instead:\n",
            "\t`--num_processes` was set to a value of `2`\n",
            "\t\tMore than one GPU was found, enabling multi-GPU training.\n",
            "\t\tIf this was unintended please pass in `--num_processes=1`.\n",
            "\t`--num_machines` was set to a value of `1`\n",
            "\t`--mixed_precision` was set to a value of `'no'`\n",
            "\t`--dynamo_backend` was set to a value of `'no'`\n",
            "To avoid this warning pass in values for each of the problematic parameters or run `accelerate config`.\n",
            "Setting ds_accelerator to cuda (auto detect)\n",
            "Setting ds_accelerator to cuda (auto detect)\n",
            "\n",
            "===================================BUG REPORT===================================\n",
            "Welcome to bitsandbytes. For bug reports, please run\n",
            "\n",
            "python -m bitsandbytes\n",
            "\n",
            " and submit this information together with your error trace to: https://github.com/TimDettmers/bitsandbytes/issues\n",
            "================================================================================\n",
            "\n",
            "===================================BUG REPORT===================================\n",
            "Welcome to bitsandbytes. For bug reports, please run\n",
            "\n",
            "python -m bitsandbytes\n",
            "\n",
            " and submit this information together with your error trace to: https://github.com/TimDettmers/bitsandbytes/issues\n",
            "================================================================================\n",
            "bin /root/miniconda3/envs/py3.9/lib/python3.9/site-packages/bitsandbytes-0.39.0-py3.9.egg/bitsandbytes/libbitsandbytes_cuda118.so\n",
            "/root/miniconda3/envs/py3.9/lib/python3.9/site-packages/bitsandbytes-0.39.0-py3.9.egg/bitsandbytes/cuda_setup/main.py:149: UserWarning: WARNING: The following directories listed in your path were found to be non-existent: {PosixPath('/usr/local/nvidia/lib64'), PosixPath('/usr/local/nvidia/lib')}\n",
            "  warn(msg)\n",
            "/root/miniconda3/envs/py3.9/lib/python3.9/site-packages/bitsandbytes-0.39.0-py3.9.egg/bitsandbytes/cuda_setup/main.py:149: UserWarning: /usr/local/nvidia/lib:/usr/local/nvidia/lib64 did not contain ['libcudart.so', 'libcudart.so.11.0', 'libcudart.so.12.0'] as expected! Searching further paths...\n",
            "  warn(msg)\n",
            "/root/miniconda3/envs/py3.9/lib/python3.9/site-packages/bitsandbytes-0.39.0-py3.9.egg/bitsandbytes/cuda_setup/main.py:149: UserWarning: WARNING: The following directories listed in your path were found to be non-existent: {PosixPath('//matplotlib_inline.backend_inline'), PosixPath('module')}\n",
            "  warn(msg)\n",
            "/root/miniconda3/envs/py3.9/lib/python3.9/site-packages/bitsandbytes-0.39.0-py3.9.egg/bitsandbytes/cuda_setup/main.py:149: UserWarning: WARNING: The following directories listed in your path were found to be non-existent: {PosixPath('ssh-rsa AAAAB3NzaC1yc2EAAAADAQABAAABgQDvnE4umHheXhWsDJbbukYvvyc47/mC4z8syS93btA72T90WDrQagOy5O+DrhdXOvr5i/JwsTlAImy57eLRrtRFOrQq73jyi7Dzo0tvrAiNLVgX2q2dFLoplRyXDXiVYLPmPieMWQOeUCLeSb8FC5zzllcocZwjMXpxScDerZqnlAR0ccpSkGyKIod4ZMkn/29A/C5kHEb/wT8cOAq+MWJ/2okZZgbiR0AMV4DynAkrtcx9JnJnTs9chiMyH+dyCS42Ai24sHWJBkQo6TfxXkyKo9GOpu3Y2WLgrHyaot9Lk5mA1mujyIWdlReD2nvjeCQKjl3KW3xZ73m4nD97MydWSWoJfEWlr+VZvk8EWsZk3CYLZCIBLdod6xXJJ0DD0pvTIq11c8VB7XkgVjapuU/sC8M6HFzHW/NBeE+xX/txPkZkIGqrnxeQ0AtBXdN9ukyNGhGzTkPYJNliiYpY0dCvVuz/BJ2FawFTQGnD1EHOenUCRajREFGCbKoYZqi40j8= utensil@Utensils-MacBook-Pro.local')}\n",
            "  warn(msg)\n",
            "/root/miniconda3/envs/py3.9/lib/python3.9/site-packages/bitsandbytes-0.39.0-py3.9.egg/bitsandbytes/cuda_setup/main.py:149: UserWarning: WARNING: The following directories listed in your path were found to be non-existent: {PosixPath('/tmp/torchelastic_av2jw5za/none_skuvdgy8/attempt_0/0/error.json')}\n",
            "  warn(msg)\n",
            "CUDA_SETUP: WARNING! libcudart.so not found in any environmental path. Searching in backup paths...\n",
            "/root/miniconda3/envs/py3.9/lib/python3.9/site-packages/bitsandbytes-0.39.0-py3.9.egg/bitsandbytes/cuda_setup/main.py:149: UserWarning: Found duplicate ['libcudart.so', 'libcudart.so.11.0', 'libcudart.so.12.0'] files: {PosixPath('/usr/local/cuda/lib64/libcudart.so.11.0'), PosixPath('/usr/local/cuda/lib64/libcudart.so')}.. We'll flip a coin and try one of these, in order to fail forward.\n",
            "Either way, this might cause trouble in the future:\n",
            "If you get `CUDA error: invalid device function` errors, the above might be the cause and the solution is to make sure only one ['libcudart.so', 'libcudart.so.11.0', 'libcudart.so.12.0'] in the paths that we search based on your env.\n",
            "  warn(msg)\n",
            "CUDA SETUP: CUDA runtime path found: /usr/local/cuda/lib64/libcudart.so.11.0\n",
            "CUDA SETUP: Highest compute capability among GPUs detected: 8.0\n",
            "CUDA SETUP: Detected CUDA version 118\n",
            "CUDA SETUP: Loading binary /root/miniconda3/envs/py3.9/lib/python3.9/site-packages/bitsandbytes-0.39.0-py3.9.egg/bitsandbytes/libbitsandbytes_cuda118.so...\n",
            "bin /root/miniconda3/envs/py3.9/lib/python3.9/site-packages/bitsandbytes-0.39.0-py3.9.egg/bitsandbytes/libbitsandbytes_cuda118.so\n",
            "/root/miniconda3/envs/py3.9/lib/python3.9/site-packages/bitsandbytes-0.39.0-py3.9.egg/bitsandbytes/cuda_setup/main.py:149: UserWarning: WARNING: The following directories listed in your path were found to be non-existent: {PosixPath('/usr/local/nvidia/lib'), PosixPath('/usr/local/nvidia/lib64')}\n",
            "  warn(msg)\n",
            "/root/miniconda3/envs/py3.9/lib/python3.9/site-packages/bitsandbytes-0.39.0-py3.9.egg/bitsandbytes/cuda_setup/main.py:149: UserWarning: /usr/local/nvidia/lib:/usr/local/nvidia/lib64 did not contain ['libcudart.so', 'libcudart.so.11.0', 'libcudart.so.12.0'] as expected! Searching further paths...\n",
            "  warn(msg)\n",
            "/root/miniconda3/envs/py3.9/lib/python3.9/site-packages/bitsandbytes-0.39.0-py3.9.egg/bitsandbytes/cuda_setup/main.py:149: UserWarning: WARNING: The following directories listed in your path were found to be non-existent: {PosixPath('//matplotlib_inline.backend_inline'), PosixPath('module')}\n",
            "  warn(msg)\n",
            "/root/miniconda3/envs/py3.9/lib/python3.9/site-packages/bitsandbytes-0.39.0-py3.9.egg/bitsandbytes/cuda_setup/main.py:149: UserWarning: WARNING: The following directories listed in your path were found to be non-existent: {PosixPath('ssh-rsa AAAAB3NzaC1yc2EAAAADAQABAAABgQDvnE4umHheXhWsDJbbukYvvyc47/mC4z8syS93btA72T90WDrQagOy5O+DrhdXOvr5i/JwsTlAImy57eLRrtRFOrQq73jyi7Dzo0tvrAiNLVgX2q2dFLoplRyXDXiVYLPmPieMWQOeUCLeSb8FC5zzllcocZwjMXpxScDerZqnlAR0ccpSkGyKIod4ZMkn/29A/C5kHEb/wT8cOAq+MWJ/2okZZgbiR0AMV4DynAkrtcx9JnJnTs9chiMyH+dyCS42Ai24sHWJBkQo6TfxXkyKo9GOpu3Y2WLgrHyaot9Lk5mA1mujyIWdlReD2nvjeCQKjl3KW3xZ73m4nD97MydWSWoJfEWlr+VZvk8EWsZk3CYLZCIBLdod6xXJJ0DD0pvTIq11c8VB7XkgVjapuU/sC8M6HFzHW/NBeE+xX/txPkZkIGqrnxeQ0AtBXdN9ukyNGhGzTkPYJNliiYpY0dCvVuz/BJ2FawFTQGnD1EHOenUCRajREFGCbKoYZqi40j8= utensil@Utensils-MacBook-Pro.local')}\n",
            "  warn(msg)\n",
            "/root/miniconda3/envs/py3.9/lib/python3.9/site-packages/bitsandbytes-0.39.0-py3.9.egg/bitsandbytes/cuda_setup/main.py:149: UserWarning: WARNING: The following directories listed in your path were found to be non-existent: {PosixPath('/tmp/torchelastic_av2jw5za/none_skuvdgy8/attempt_0/1/error.json')}\n",
            "  warn(msg)\n",
            "CUDA_SETUP: WARNING! libcudart.so not found in any environmental path. Searching in backup paths...\n",
            "/root/miniconda3/envs/py3.9/lib/python3.9/site-packages/bitsandbytes-0.39.0-py3.9.egg/bitsandbytes/cuda_setup/main.py:149: UserWarning: Found duplicate ['libcudart.so', 'libcudart.so.11.0', 'libcudart.so.12.0'] files: {PosixPath('/usr/local/cuda/lib64/libcudart.so'), PosixPath('/usr/local/cuda/lib64/libcudart.so.11.0')}.. We'll flip a coin and try one of these, in order to fail forward.\n",
            "Either way, this might cause trouble in the future:\n",
            "If you get `CUDA error: invalid device function` errors, the above might be the cause and the solution is to make sure only one ['libcudart.so', 'libcudart.so.11.0', 'libcudart.so.12.0'] in the paths that we search based on your env.\n",
            "  warn(msg)\n",
            "CUDA SETUP: CUDA runtime path found: /usr/local/cuda/lib64/libcudart.so\n",
            "CUDA SETUP: Highest compute capability among GPUs detected: 8.0\n",
            "CUDA SETUP: Detected CUDA version 118\n",
            "CUDA SETUP: Loading binary /root/miniconda3/envs/py3.9/lib/python3.9/site-packages/bitsandbytes-0.39.0-py3.9.egg/bitsandbytes/libbitsandbytes_cuda118.so...\n",
            "WARNING:root:`trust_remote_code` is set to true. Please make sure that you reviewed the remote code/model.\n",
            "INFO:root:loading tokenizer... /content/llm-playground/models/tiiuae_falcon-40b\n",
            "WARNING:root:`trust_remote_code` is set to true. Please make sure that you reviewed the remote code/model.\n",
            "INFO:root:loading tokenizer... /content/llm-playground/models/tiiuae_falcon-40b\n",
            "Using bos_token, but it is not set yet.\n",
            "Using pad_token, but it is not set yet.\n",
            "Using unk_token, but it is not set yet.\n",
            "INFO:root:Checking for packed prepared dataset from hub... utensil/216aa4e2be3974d0a1d25d8c19db01a4\n",
            "Using bos_token, but it is not set yet.\n",
            "Using pad_token, but it is not set yet.\n",
            "Using unk_token, but it is not set yet.\n",
            "INFO:root:Checking for packed prepared dataset from hub... utensil/216aa4e2be3974d0a1d25d8c19db01a4\n",
            "Downloading readme: 100%|██████████████████████| 471/471 [00:00<00:00, 2.06MB/s]\n",
            "Downloading and preparing dataset None/None to /root/.cache/huggingface/datasets/utensil___parquet/utensil--216aa4e2be3974d0a1d25d8c19db01a4-be603db1612da2a9/0.0.0/14a00e99c0d15a23649d0db8944380ac81082d4b021f398733dd84f3a6c569a7...\n",
            "Downloading data files:   0%|                             | 0/1 [00:00<?, ?it/s]\n",
            "Downloading data:   0%|                              | 0.00/108M [00:00<?, ?B/s]\u001b[A\n",
            "Downloading data:   0%|                      | 50.2k/108M [00:00<03:34, 501kB/s]\u001b[A\n",
            "Downloading data:   0%|                       | 102k/108M [00:00<03:31, 507kB/s]\u001b[A\n",
            "Downloading data:   0%|                       | 224k/108M [00:00<02:10, 823kB/s]\u001b[A\n",
            "Downloading data:   1%|                      | 592k/108M [00:00<00:55, 1.93MB/s]\u001b[A\n",
            "Downloading data:   1%|▏                    | 1.25M/108M [00:00<00:33, 3.18MB/s]\u001b[A\n",
            "Downloading data:   3%|▌                    | 3.20M/108M [00:00<00:12, 8.22MB/s]\u001b[A\n",
            "Downloading data:   6%|█▏                   | 6.03M/108M [00:00<00:07, 14.4MB/s]\u001b[A\n",
            "Downloading data:  10%|██▏                  | 11.0M/108M [00:00<00:03, 25.1MB/s]\u001b[A\n",
            "Downloading data:  14%|███                  | 15.6M/108M [00:00<00:02, 31.4MB/s]\u001b[A\n",
            "Downloading data:  19%|███▉                 | 19.9M/108M [00:01<00:02, 35.0MB/s]\u001b[A\n",
            "Downloading data:  23%|████▋                | 24.2M/108M [00:01<00:02, 37.4MB/s]\u001b[A\n",
            "Downloading data:  27%|█████▌               | 28.6M/108M [00:01<00:02, 39.4MB/s]\u001b[A\n",
            "Downloading data:  30%|██████▎              | 32.6M/108M [00:01<00:01, 39.0MB/s]\u001b[A\n",
            "Downloading data:  34%|███████▏             | 36.5M/108M [00:01<00:01, 39.0MB/s]\u001b[A\n",
            "Downloading data:  38%|███████▉             | 40.9M/108M [00:01<00:01, 40.5MB/s]\u001b[A\n",
            "Downloading data:  42%|████████▊            | 45.0M/108M [00:01<00:01, 40.7MB/s]\u001b[A\n",
            "Downloading data:  46%|█████████▌           | 49.2M/108M [00:01<00:01, 40.9MB/s]\u001b[A\n",
            "Downloading data:  50%|██████████▍          | 53.5M/108M [00:01<00:01, 39.1MB/s]\u001b[A\n",
            "Downloading data:  54%|███████████▎         | 57.8M/108M [00:01<00:01, 40.2MB/s]\u001b[A\n",
            "Downloading data:  58%|████████████▏        | 62.4M/108M [00:02<00:01, 41.9MB/s]\u001b[A\n",
            "Downloading data:  62%|█████████████        | 67.1M/108M [00:02<00:00, 43.3MB/s]\u001b[A\n",
            "Downloading data:  66%|█████████████▉       | 71.4M/108M [00:02<00:00, 43.3MB/s]\u001b[A\n",
            "Downloading data:  70%|██████████████▊      | 75.8M/108M [00:02<00:00, 42.6MB/s]\u001b[A\n",
            "Downloading data:  74%|███████████████▋     | 80.1M/108M [00:02<00:00, 42.7MB/s]\u001b[A\n",
            "Downloading data:  78%|████████████████▍    | 84.4M/108M [00:02<00:00, 42.4MB/s]\u001b[A\n",
            "Downloading data:  83%|█████████████████▎   | 88.7M/108M [00:02<00:00, 42.8MB/s]\u001b[A\n",
            "Downloading data:  87%|██████████████████▏  | 93.0M/108M [00:02<00:00, 38.7MB/s]\u001b[A\n",
            "Downloading data:  90%|██████████████████▉  | 97.3M/108M [00:02<00:00, 39.7MB/s]\u001b[A\n",
            "Downloading data:  95%|████████████████████▉ | 102M/108M [00:03<00:00, 42.2MB/s]\u001b[A\n",
            "Downloading data: 100%|██████████████████████| 108M/108M [00:03<00:00, 34.2MB/s]\u001b[A\n",
            "\n",
            "Downloading data:   0%|                              | 0.00/107M [00:00<?, ?B/s]\u001b[A\n",
            "Downloading data:   0%|                      | 52.2k/107M [00:00<06:13, 288kB/s]\u001b[A\n",
            "Downloading data:   0%|                       | 209k/107M [00:00<02:06, 846kB/s]\u001b[A\n",
            "Downloading data:   1%|                      | 557k/107M [00:00<00:57, 1.85MB/s]\u001b[A\n",
            "Downloading data:   1%|▏                    | 1.22M/107M [00:00<00:30, 3.46MB/s]\u001b[A\n",
            "Downloading data:   3%|▌                    | 2.70M/107M [00:00<00:16, 6.28MB/s]\u001b[A\n",
            "Downloading data:   6%|█▏                   | 6.01M/107M [00:00<00:07, 14.1MB/s]\u001b[A\n",
            "Downloading data:   9%|█▉                   | 9.98M/107M [00:00<00:04, 21.6MB/s]\u001b[A\n",
            "Downloading data:  14%|██▉                  | 15.0M/107M [00:00<00:03, 30.0MB/s]\u001b[A\n",
            "Downloading data:  18%|███▋                 | 19.1M/107M [00:01<00:02, 33.4MB/s]\u001b[A\n",
            "Downloading data:  22%|████▌                | 23.2M/107M [00:01<00:02, 35.6MB/s]\u001b[A\n",
            "Downloading data:  26%|█████▍               | 28.0M/107M [00:01<00:02, 39.2MB/s]\u001b[A\n",
            "Downloading data:  30%|██████▎              | 32.1M/107M [00:01<00:01, 39.5MB/s]\u001b[A\n",
            "Downloading data:  34%|███████              | 36.1M/107M [00:01<00:01, 39.7MB/s]\u001b[A\n",
            "Downloading data:  37%|███████▊             | 40.2M/107M [00:01<00:01, 40.0MB/s]\u001b[A\n",
            "Downloading data:  42%|████████▋            | 44.6M/107M [00:01<00:01, 41.3MB/s]\u001b[A\n",
            "Downloading data:  46%|█████████▌           | 49.0M/107M [00:01<00:01, 42.0MB/s]\u001b[A\n",
            "Downloading data:  50%|██████████▍          | 53.2M/107M [00:01<00:01, 42.2MB/s]\u001b[A\n",
            "Downloading data:  53%|███████████▏         | 57.4M/107M [00:01<00:01, 39.3MB/s]\u001b[A\n",
            "Downloading data:  58%|████████████         | 61.8M/107M [00:02<00:01, 40.6MB/s]\u001b[A\n",
            "Downloading data:  62%|████████████▉        | 66.2M/107M [00:02<00:00, 41.7MB/s]\u001b[A\n",
            "Downloading data:  66%|█████████████▊       | 70.8M/107M [00:02<00:00, 42.7MB/s]\u001b[A\n",
            "Downloading data:  70%|██████████████▋      | 75.1M/107M [00:02<00:00, 42.9MB/s]\u001b[A\n",
            "Downloading data:  74%|███████████████▌     | 79.6M/107M [00:02<00:00, 43.4MB/s]\u001b[A\n",
            "Downloading data:  78%|████████████████▍    | 84.0M/107M [00:02<00:00, 43.3MB/s]\u001b[A\n",
            "Downloading data:  82%|█████████████████▎   | 88.3M/107M [00:02<00:00, 42.7MB/s]\u001b[A\n",
            "Downloading data:  86%|██████████████████   | 92.6M/107M [00:02<00:00, 42.4MB/s]\u001b[A\n",
            "Downloading data:  90%|██████████████████▉  | 96.8M/107M [00:02<00:00, 38.2MB/s]\u001b[A\n",
            "Downloading data:  94%|████████████████████▋ | 101M/107M [00:03<00:00, 39.2MB/s]\u001b[A\n",
            "Downloading data: 100%|██████████████████████| 107M/107M [00:03<00:00, 34.1MB/s]\u001b[A\n",
            "\n",
            "Downloading data:   0%|                              | 0.00/108M [00:00<?, ?B/s]\u001b[A\n",
            "Downloading data:   0%|                      | 51.2k/108M [00:00<06:21, 282kB/s]\u001b[A\n",
            "Downloading data:   0%|                       | 204k/108M [00:00<02:10, 824kB/s]\u001b[A\n",
            "Downloading data:   1%|                      | 550k/108M [00:00<00:58, 1.84MB/s]\u001b[A\n",
            "Downloading data:   1%|▏                    | 1.15M/108M [00:00<00:32, 3.26MB/s]\u001b[A\n",
            "Downloading data:   2%|▍                    | 2.51M/108M [00:00<00:18, 5.83MB/s]\u001b[A\n",
            "Downloading data:   5%|█                    | 5.40M/108M [00:00<00:08, 12.6MB/s]\u001b[A\n",
            "Downloading data:  10%|██                   | 10.3M/108M [00:00<00:04, 23.2MB/s]\u001b[A\n",
            "Downloading data:  14%|██▉                  | 14.8M/108M [00:00<00:03, 29.7MB/s]\u001b[A\n",
            "Downloading data:  18%|███▋                 | 19.2M/108M [00:01<00:02, 34.0MB/s]\u001b[A\n",
            "Downloading data:  22%|████▌                | 23.5M/108M [00:01<00:02, 36.4MB/s]\u001b[A\n",
            "Downloading data:  26%|█████▍               | 27.6M/108M [00:01<00:02, 37.8MB/s]\u001b[A\n",
            "Downloading data:  29%|██████▏              | 31.6M/108M [00:01<00:01, 38.3MB/s]\u001b[A\n",
            "Downloading data:  34%|███████              | 36.2M/108M [00:01<00:01, 40.8MB/s]\u001b[A\n",
            "Downloading data:  38%|███████▉             | 40.4M/108M [00:01<00:01, 41.0MB/s]\u001b[A\n",
            "Downloading data:  42%|████████▊            | 44.9M/108M [00:01<00:01, 42.3MB/s]\u001b[A\n",
            "Downloading data:  46%|█████████▌           | 49.2M/108M [00:01<00:01, 42.0MB/s]\u001b[A\n",
            "Downloading data:  50%|██████████▍          | 53.4M/108M [00:01<00:01, 40.1MB/s]\u001b[A\n",
            "Downloading data:  54%|███████████▎         | 57.8M/108M [00:01<00:01, 41.0MB/s]\u001b[A\n",
            "Downloading data:  58%|████████████▏        | 62.3M/108M [00:02<00:01, 42.3MB/s]\u001b[A\n",
            "Downloading data:  62%|█████████████        | 66.8M/108M [00:02<00:00, 43.0MB/s]\u001b[A\n",
            "Downloading data:  66%|█████████████▉       | 71.1M/108M [00:02<00:00, 43.2MB/s]\u001b[A\n",
            "Downloading data:  70%|██████████████▋      | 75.5M/108M [00:02<00:00, 41.5MB/s]\u001b[A\n",
            "Downloading data:  74%|███████████████▌     | 79.6M/108M [00:02<00:00, 41.4MB/s]\u001b[A\n",
            "Downloading data:  78%|████████████████▍    | 84.2M/108M [00:02<00:00, 42.5MB/s]\u001b[A\n",
            "Downloading data:  82%|█████████████████▎   | 88.5M/108M [00:02<00:00, 42.8MB/s]\u001b[A\n",
            "Downloading data:  86%|██████████████████▏  | 93.0M/108M [00:02<00:00, 43.5MB/s]\u001b[A\n",
            "Downloading data:  90%|██████████████████▉  | 97.4M/108M [00:02<00:00, 40.0MB/s]\u001b[A\n",
            "Downloading data:  95%|████████████████████▉ | 102M/108M [00:03<00:00, 42.6MB/s]\u001b[A\n",
            "Downloading data: 100%|██████████████████████| 108M/108M [00:03<00:00, 34.6MB/s]\u001b[A\n",
            "\n",
            "Downloading data:   0%|                              | 0.00/108M [00:00<?, ?B/s]\u001b[A\n",
            "Downloading data:   0%|                      | 52.2k/108M [00:00<06:11, 290kB/s]\u001b[A\n",
            "Downloading data:   0%|                       | 207k/108M [00:00<02:07, 842kB/s]\u001b[A\n",
            "Downloading data:   1%|                      | 562k/108M [00:00<00:56, 1.89MB/s]\u001b[A\n",
            "Downloading data:   1%|▏                    | 1.22M/108M [00:00<00:30, 3.48MB/s]\u001b[A\n",
            "Downloading data:   3%|▌                    | 2.71M/108M [00:00<00:16, 6.33MB/s]\u001b[A\n",
            "Downloading data:   6%|█▏                   | 6.32M/108M [00:00<00:06, 15.0MB/s]\u001b[A\n",
            "Downloading data:  10%|██                   | 10.8M/108M [00:00<00:04, 23.7MB/s]\u001b[A\n",
            "Downloading data:  14%|██▉                  | 15.1M/108M [00:00<00:03, 29.6MB/s]\u001b[A\n",
            "Downloading data:  18%|███▋                 | 19.2M/108M [00:01<00:02, 32.9MB/s]\u001b[A\n",
            "Downloading data:  22%|████▋                | 23.8M/108M [00:01<00:02, 36.8MB/s]\u001b[A\n",
            "Downloading data:  26%|█████▌               | 28.3M/108M [00:01<00:02, 39.1MB/s]\u001b[A\n",
            "Downloading data:  30%|██████▎              | 32.3M/108M [00:01<00:01, 39.0MB/s]\u001b[A\n",
            "Downloading data:  34%|███████              | 36.6M/108M [00:01<00:01, 40.2MB/s]\u001b[A\n",
            "Downloading data:  38%|███████▉             | 41.0M/108M [00:01<00:01, 41.4MB/s]\u001b[A\n",
            "Downloading data:  42%|████████▊            | 45.2M/108M [00:01<00:01, 41.7MB/s]\u001b[A\n",
            "Downloading data:  46%|█████████▋           | 49.5M/108M [00:01<00:01, 39.5MB/s]\u001b[A\n",
            "Downloading data:  50%|██████████▍          | 53.8M/108M [00:01<00:01, 40.6MB/s]\u001b[A\n",
            "Downloading data:  54%|███████████▎         | 58.3M/108M [00:01<00:01, 41.7MB/s]\u001b[A\n",
            "Downloading data:  58%|████████████▏        | 62.7M/108M [00:02<00:01, 42.6MB/s]\u001b[A\n",
            "Downloading data:  62%|█████████████        | 67.2M/108M [00:02<00:00, 43.2MB/s]\u001b[A\n",
            "Downloading data:  66%|█████████████▉       | 71.6M/108M [00:02<00:00, 41.9MB/s]\u001b[A\n",
            "Downloading data:  70%|██████████████▊      | 75.8M/108M [00:02<00:00, 41.6MB/s]\u001b[A\n",
            "Downloading data:  74%|███████████████▌     | 80.2M/108M [00:02<00:00, 42.3MB/s]\u001b[A\n",
            "Downloading data:  79%|████████████████▌    | 84.7M/108M [00:02<00:00, 43.2MB/s]\u001b[A\n",
            "Downloading data:  83%|█████████████████▎   | 89.2M/108M [00:02<00:00, 42.9MB/s]\u001b[A\n",
            "Downloading data:  87%|██████████████████▏  | 93.5M/108M [00:02<00:00, 40.5MB/s]\u001b[A\n",
            "Downloading data:  91%|███████████████████  | 97.5M/108M [00:02<00:00, 40.3MB/s]\u001b[A\n",
            "Downloading data:  95%|████████████████████▉ | 103M/108M [00:02<00:00, 43.0MB/s]\u001b[A\n",
            "Downloading data: 100%|██████████████████████| 108M/108M [00:03<00:00, 34.7MB/s]\u001b[A\n",
            "\n",
            "Downloading data:   0%|                              | 0.00/108M [00:00<?, ?B/s]\u001b[A\n",
            "Downloading data:   0%|                      | 52.2k/108M [00:00<06:12, 289kB/s]\u001b[A\n",
            "Downloading data:   0%|                       | 216k/108M [00:00<02:01, 882kB/s]\u001b[A\n",
            "Downloading data:   1%|                      | 574k/108M [00:00<00:55, 1.92MB/s]\u001b[A\n",
            "Downloading data:   1%|▏                    | 1.22M/108M [00:00<00:30, 3.48MB/s]\u001b[A\n",
            "Downloading data:   2%|▌                    | 2.65M/108M [00:00<00:14, 7.10MB/s]\u001b[A\n",
            "Downloading data:   5%|▉                    | 4.87M/108M [00:00<00:09, 10.8MB/s]\u001b[A\n",
            "Downloading data:   9%|█▊                   | 9.32M/108M [00:00<00:04, 20.7MB/s]\u001b[A\n",
            "Downloading data:  13%|██▋                  | 13.9M/108M [00:00<00:03, 28.2MB/s]\u001b[A\n",
            "Downloading data:  17%|███▌                 | 18.1M/108M [00:01<00:02, 32.3MB/s]\u001b[A\n",
            "Downloading data:  21%|████▎                | 22.4M/108M [00:01<00:02, 35.3MB/s]\u001b[A\n",
            "Downloading data:  25%|█████▎               | 27.1M/108M [00:01<00:02, 39.0MB/s]\u001b[A\n",
            "Downloading data:  29%|██████▏              | 31.5M/108M [00:01<00:01, 39.7MB/s]\u001b[A\n",
            "Downloading data:  33%|██████▉              | 35.5M/108M [00:01<00:01, 39.3MB/s]\u001b[A\n",
            "Downloading data:  37%|███████▊             | 40.0M/108M [00:01<00:01, 41.0MB/s]\u001b[A\n",
            "Downloading data:  42%|████████▋            | 44.7M/108M [00:01<00:01, 42.6MB/s]\u001b[A\n",
            "Downloading data:  46%|█████████▌           | 49.0M/108M [00:01<00:01, 42.9MB/s]\u001b[A\n",
            "Downloading data:  50%|██████████▍          | 53.4M/108M [00:01<00:01, 38.9MB/s]\u001b[A\n",
            "Downloading data:  53%|███████████▏         | 57.5M/108M [00:01<00:01, 39.6MB/s]\u001b[A\n",
            "Downloading data:  57%|████████████         | 61.7M/108M [00:02<00:01, 40.3MB/s]\u001b[A\n",
            "Downloading data:  62%|████████████▉        | 66.5M/108M [00:02<00:00, 42.4MB/s]\u001b[A\n",
            "Downloading data:  66%|█████████████▊       | 71.0M/108M [00:02<00:00, 43.1MB/s]\u001b[A\n",
            "Downloading data:  70%|██████████████▋      | 75.3M/108M [00:02<00:00, 43.1MB/s]\u001b[A\n",
            "Downloading data:  75%|███████████████▋     | 80.2M/108M [00:02<00:00, 44.8MB/s]\u001b[A\n",
            "Downloading data:  79%|████████████████▌    | 84.7M/108M [00:02<00:00, 44.5MB/s]\u001b[A\n",
            "Downloading data:  83%|█████████████████▍   | 89.2M/108M [00:02<00:00, 38.9MB/s]\u001b[A\n",
            "Downloading data:  87%|██████████████████▎  | 93.9M/108M [00:02<00:00, 41.2MB/s]\u001b[A\n",
            "Downloading data:  91%|███████████████████▏ | 98.1M/108M [00:02<00:00, 41.5MB/s]\u001b[A\n",
            "Downloading data:  95%|████████████████████▉ | 102M/108M [00:03<00:00, 42.0MB/s]\u001b[A\n",
            "Downloading data: 100%|██████████████████████| 108M/108M [00:03<00:00, 34.4MB/s]\u001b[A\n",
            "Downloading data files: 100%|█████████████████████| 1/1 [00:23<00:00, 23.61s/it]\n",
            "Extracting data files: 100%|█████████████████████| 1/1 [00:00<00:00, 491.48it/s]\n",
            "Dataset parquet downloaded and prepared to /root/.cache/huggingface/datasets/utensil___parquet/utensil--216aa4e2be3974d0a1d25d8c19db01a4-be603db1612da2a9/0.0.0/14a00e99c0d15a23649d0db8944380ac81082d4b021f398733dd84f3a6c569a7. Subsequent calls will reuse this data.\n",
            "100%|████████████████████████████████████████████| 1/1 [00:00<00:00, 234.96it/s]\n",
            "WARNING:datasets.builder:Found cached dataset parquet (/root/.cache/huggingface/datasets/utensil___parquet/utensil--216aa4e2be3974d0a1d25d8c19db01a4-be603db1612da2a9/0.0.0/14a00e99c0d15a23649d0db8944380ac81082d4b021f398733dd84f3a6c569a7)\n",
            "INFO:root:loading model and peft_config...\n",
            "100%|████████████████████████████████████████████| 1/1 [00:00<00:00, 135.03it/s]\n",
            "INFO:root:loading model and peft_config...\n",
            "Loading checkpoint shards: 100%|██████████████████| 9/9 [01:20<00:00,  9.00s/it]\n",
            "INFO:root:converting PEFT model w/ prepare_model_for_kbit_training\n",
            "INFO:root:found linear modules: ['dense_4h_to_h', 'dense', 'query_key_value', 'dense_h_to_4h']\n",
            "Loading checkpoint shards: 100%|██████████████████| 9/9 [01:21<00:00,  9.09s/it]\n",
            "INFO:root:converting PEFT model w/ prepare_model_for_kbit_training\n",
            "INFO:root:found linear modules: ['dense_4h_to_h', 'dense_h_to_4h', 'query_key_value', 'dense']\n",
            "trainable params: 444,334,080 || all params: 21,363,310,592 || trainable%: 2.0798933671188187\n",
            "INFO:torch.distributed.distributed_c10d:Added key: store_based_barrier_key:1 to store for rank: 1\n",
            "trainable params: 444,334,080 || all params: 21,363,310,592 || trainable%: 2.0798933671188187\n",
            "INFO:torch.distributed.distributed_c10d:Added key: store_based_barrier_key:1 to store for rank: 0\n",
            "INFO:torch.distributed.distributed_c10d:Rank 0: Completed store-based barrier for key:store_based_barrier_key:1 with 2 nodes.\n",
            "INFO:torch.distributed.distributed_c10d:Rank 1: Completed store-based barrier for key:store_based_barrier_key:1 with 2 nodes.\n",
            "INFO:root:Compiling torch model\n",
            "INFO:root:Compiling torch model\n",
            "INFO:root:Pre-saving adapter config to /content/axolotl-trained/falcon-qlora-40b-minotaur/\n",
            "INFO:root:Starting trainer...\n",
            "INFO:root:Pre-saving adapter config to /content/axolotl-trained/falcon-qlora-40b-minotaur/\n",
            "INFO:root:Starting trainer...\n",
            "\u001b[34m\u001b[1mwandb\u001b[0m: Currently logged in as: \u001b[33mutensil\u001b[0m. Use \u001b[1m`wandb login --relogin`\u001b[0m to force relogin\n",
            "\u001b[34m\u001b[1mwandb\u001b[0m: Tracking run with wandb version 0.15.4\n",
            "\u001b[34m\u001b[1mwandb\u001b[0m: Run data is saved locally in \u001b[35m\u001b[1m/workspace/axolotl/wandb/run-20230616_071848-o4myz1ep\u001b[0m\n",
            "\u001b[34m\u001b[1mwandb\u001b[0m: Run \u001b[1m`wandb offline`\u001b[0m to turn off syncing.\n",
            "\u001b[34m\u001b[1mwandb\u001b[0m: Syncing run \u001b[33mtwilight-wildflower-46\u001b[0m\n",
            "\u001b[34m\u001b[1mwandb\u001b[0m: ⭐️ View project at \u001b[34m\u001b[4mhttps://wandb.ai/utensil/falcon-qlora\u001b[0m\n",
            "\u001b[34m\u001b[1mwandb\u001b[0m: 🚀 View run at \u001b[34m\u001b[4mhttps://wandb.ai/utensil/falcon-qlora/runs/o4myz1ep\u001b[0m\n",
            "  0%|                                                 | 0/35325 [00:00<?, ?it/s]You're using a PreTrainedTokenizerFast tokenizer. Please note that with a fast tokenizer, using the `__call__` method is faster than using a method to encode the text followed by a call to the `pad` method to get a padded encoding.\n",
            "You're using a PreTrainedTokenizerFast tokenizer. Please note that with a fast tokenizer, using the `__call__` method is faster than using a method to encode the text followed by a call to the `pad` method to get a padded encoding.\n",
            "{'loss': 1.4081, 'learning_rate': 2e-05, 'epoch': 0.0}                          \n",
            "  0%|                                     | 1/35325 [00:16<157:05:47, 16.01s/it]INFO:torch.nn.parallel.distributed:Reducer buckets have been rebuilt in this iteration.\n",
            "INFO:torch.nn.parallel.distributed:Reducer buckets have been rebuilt in this iteration.\n",
            "{'loss': 1.4267, 'learning_rate': 4e-05, 'epoch': 0.0}                          \n",
            "{'loss': 1.4222, 'learning_rate': 6e-05, 'epoch': 0.0}                          \n",
            "{'loss': 1.5681, 'learning_rate': 8e-05, 'epoch': 0.0}                          \n",
            "{'loss': 1.4507, 'learning_rate': 0.0001, 'epoch': 0.0}                         \n",
            "  0%|                                     | 5/35325 [01:15<147:29:56, 15.03s/it]\n",
            "  0%|                                                   | 0/119 [00:00<?, ?it/s]\u001b[A\n",
            "  2%|▋                                          | 2/119 [00:04<04:45,  2.44s/it]\u001b[A\n",
            "  3%|█                                          | 3/119 [00:09<06:51,  3.55s/it]\u001b[A\n",
            "  3%|█▍                                         | 4/119 [00:14<07:44,  4.04s/it]\u001b[A\n",
            "  4%|█▊                                         | 5/119 [00:19<08:20,  4.39s/it]\u001b[A\n",
            "  5%|██▏                                        | 6/119 [00:24<08:39,  4.60s/it]\u001b[A\n",
            "  6%|██▌                                        | 7/119 [00:29<08:50,  4.74s/it]\u001b[A\n",
            "  7%|██▉                                        | 8/119 [00:34<08:54,  4.81s/it]\u001b[A\n",
            "  8%|███▎                                       | 9/119 [00:39<08:29,  4.63s/it]\u001b[A\n",
            "  8%|███▌                                      | 10/119 [00:43<08:12,  4.51s/it]\u001b[A\n",
            "  9%|███▉                                      | 11/119 [00:49<08:48,  4.90s/it]\u001b[A\n",
            " 10%|████▏                                     | 12/119 [00:53<08:37,  4.84s/it]\u001b[A\n",
            " 11%|████▌                                     | 13/119 [00:59<08:43,  4.94s/it]\u001b[A\n",
            " 12%|████▉                                     | 14/119 [01:03<08:31,  4.87s/it]\u001b[A\n",
            " 13%|█████▎                                    | 15/119 [01:08<08:33,  4.94s/it]\u001b[A\n",
            " 13%|█████▋                                    | 16/119 [01:13<08:32,  4.98s/it]\u001b[A\n",
            " 14%|██████                                    | 17/119 [01:18<08:12,  4.83s/it]\u001b[A\n",
            " 15%|██████▎                                   | 18/119 [01:23<08:26,  5.01s/it]\u001b[A\n",
            " 16%|██████▋                                   | 19/119 [01:28<08:11,  4.92s/it]\u001b[A\n",
            " 17%|███████                                   | 20/119 [01:33<08:21,  5.07s/it]\u001b[A\n",
            " 18%|███████▍                                  | 21/119 [01:38<08:09,  5.00s/it]\u001b[A\n",
            " 18%|███████▊                                  | 22/119 [01:43<08:00,  4.96s/it]\u001b[A\n",
            " 19%|████████                                  | 23/119 [01:48<07:59,  4.99s/it]\u001b[A\n",
            " 20%|████████▍                                 | 24/119 [01:52<07:32,  4.76s/it]\u001b[A\n",
            " 21%|████████▊                                 | 25/119 [01:58<07:52,  5.02s/it]\u001b[A\n",
            " 22%|█████████▏                                | 26/119 [02:03<07:42,  4.98s/it]\u001b[A\n",
            " 23%|█████████▌                                | 27/119 [02:08<07:35,  4.95s/it]\u001b[A\n",
            " 24%|█████████▉                                | 28/119 [02:13<07:38,  5.04s/it]\u001b[A\n",
            " 24%|██████████▏                               | 29/119 [02:18<07:33,  5.04s/it]\u001b[A\n",
            " 25%|██████████▌                               | 30/119 [02:23<07:26,  5.02s/it]\u001b[A\n",
            " 26%|██████████▉                               | 31/119 [02:28<07:15,  4.95s/it]\u001b[A\n",
            " 27%|███████████▎                              | 32/119 [02:33<07:11,  4.96s/it]\u001b[A\n",
            " 28%|███████████▋                              | 33/119 [02:38<07:09,  4.99s/it]\u001b[A\n",
            " 29%|████████████                              | 34/119 [02:43<06:52,  4.86s/it]\u001b[A\n",
            " 29%|████████████▎                             | 35/119 [02:48<06:53,  4.92s/it]\u001b[A\n",
            " 30%|████████████▋                             | 36/119 [02:53<06:51,  4.96s/it]\u001b[A\n",
            " 31%|█████████████                             | 37/119 [02:58<06:47,  4.97s/it]\u001b[A\n",
            " 32%|█████████████▍                            | 38/119 [03:03<06:52,  5.09s/it]\u001b[A\n",
            " 33%|█████████████▊                            | 39/119 [03:08<06:41,  5.02s/it]\u001b[A\n",
            " 34%|██████████████                            | 40/119 [03:13<06:33,  4.98s/it]\u001b[A\n",
            " 34%|██████████████▍                           | 41/119 [03:17<06:11,  4.77s/it]\u001b[A\n",
            " 35%|██████████████▊                           | 42/119 [03:23<06:31,  5.08s/it]\u001b[A\n",
            " 36%|███████████████▏                          | 43/119 [03:28<06:25,  5.08s/it]\u001b[A\n",
            " 37%|███████████████▌                          | 44/119 [03:33<06:15,  5.00s/it]\u001b[A\n",
            " 38%|███████████████▉                          | 45/119 [03:37<06:02,  4.90s/it]\u001b[A\n",
            " 39%|████████████████▏                         | 46/119 [03:43<06:07,  5.03s/it]\u001b[A\n",
            " 39%|████████████████▌                         | 47/119 [03:48<06:02,  5.03s/it]\u001b[A\n",
            " 40%|████████████████▉                         | 48/119 [03:53<05:54,  4.99s/it]\u001b[A\n",
            " 41%|█████████████████▎                        | 49/119 [03:57<05:38,  4.84s/it]\u001b[A\n",
            " 42%|█████████████████▋                        | 50/119 [04:02<05:42,  4.97s/it]\u001b[A\n",
            " 43%|██████████████████                        | 51/119 [04:08<05:41,  5.02s/it]\u001b[A\n",
            " 44%|██████████████████▎                       | 52/119 [04:13<05:40,  5.08s/it]\u001b[A\n",
            " 45%|██████████████████▋                       | 53/119 [04:18<05:33,  5.06s/it]\u001b[A\n",
            " 45%|███████████████████                       | 54/119 [04:23<05:24,  4.98s/it]\u001b[A\n",
            " 46%|███████████████████▍                      | 55/119 [04:28<05:23,  5.06s/it]\u001b[A\n",
            " 47%|███████████████████▊                      | 56/119 [04:33<05:12,  4.96s/it]\u001b[A\n",
            " 48%|████████████████████                      | 57/119 [04:38<05:13,  5.05s/it]\u001b[A\n",
            " 50%|████████████████████▊                     | 59/119 [04:48<05:01,  5.03s/it]\u001b[A\n",
            " 50%|█████████████████████▏                    | 60/119 [04:53<04:53,  4.97s/it]\u001b[A\n",
            " 51%|█████████████████████▌                    | 61/119 [04:58<04:47,  4.96s/it]\u001b[A\n",
            " 52%|█████████████████████▉                    | 62/119 [05:03<04:42,  4.96s/it]\u001b[A\n",
            " 53%|██████████████████████▏                   | 63/119 [05:07<04:33,  4.88s/it]\u001b[A\n",
            " 54%|██████████████████████▌                   | 64/119 [05:12<04:30,  4.92s/it]\u001b[A\n",
            " 55%|██████████████████████▉                   | 65/119 [05:17<04:27,  4.95s/it]\u001b[A\n",
            " 55%|███████████████████████▎                  | 66/119 [05:22<04:22,  4.95s/it]\u001b[A\n",
            " 56%|███████████████████████▋                  | 67/119 [05:27<04:17,  4.96s/it]\u001b[A\n",
            " 57%|████████████████████████                  | 68/119 [05:32<04:11,  4.94s/it]\u001b[A\n",
            " 58%|████████████████████████▎                 | 69/119 [05:37<04:06,  4.94s/it]\u001b[A\n",
            " 59%|████████████████████████▋                 | 70/119 [05:41<03:48,  4.67s/it]\u001b[A\n",
            " 60%|█████████████████████████                 | 71/119 [05:47<04:00,  5.02s/it]\u001b[A\n",
            " 61%|█████████████████████████▍                | 72/119 [05:52<03:56,  5.03s/it]\u001b[A\n",
            " 61%|█████████████████████████▊                | 73/119 [05:57<03:51,  5.03s/it]\u001b[A\n",
            " 62%|██████████████████████████                | 74/119 [06:02<03:46,  5.03s/it]\u001b[A\n",
            " 63%|██████████████████████████▍               | 75/119 [06:07<03:36,  4.92s/it]\u001b[A\n",
            " 64%|██████████████████████████▊               | 76/119 [06:12<03:32,  4.95s/it]\u001b[A\n",
            " 65%|███████████████████████████▏              | 77/119 [06:16<03:24,  4.88s/it]\u001b[A\n",
            " 66%|███████████████████████████▌              | 78/119 [06:21<03:21,  4.91s/it]\u001b[A\n",
            " 66%|███████████████████████████▉              | 79/119 [06:26<03:16,  4.92s/it]\u001b[A\n",
            " 67%|████████████████████████████▏             | 80/119 [06:31<03:12,  4.93s/it]\u001b[A\n",
            " 68%|████████████████████████████▌             | 81/119 [06:36<03:04,  4.85s/it]\u001b[A\n",
            " 69%|████████████████████████████▉             | 82/119 [06:41<02:59,  4.86s/it]\u001b[A\n",
            " 70%|█████████████████████████████▎            | 83/119 [06:46<02:55,  4.86s/it]\u001b[A\n",
            " 71%|█████████████████████████████▋            | 84/119 [06:51<02:52,  4.93s/it]\u001b[A\n",
            " 71%|██████████████████████████████            | 85/119 [06:56<02:48,  4.95s/it]\u001b[A\n",
            " 72%|██████████████████████████████▎           | 86/119 [07:01<02:42,  4.93s/it]\u001b[A\n",
            " 73%|██████████████████████████████▋           | 87/119 [07:06<02:37,  4.93s/it]\u001b[A\n",
            " 74%|███████████████████████████████           | 88/119 [07:10<02:31,  4.88s/it]\u001b[A\n",
            " 75%|███████████████████████████████▍          | 89/119 [07:15<02:27,  4.90s/it]\u001b[A\n",
            " 76%|███████████████████████████████▊          | 90/119 [07:20<02:21,  4.89s/it]\u001b[A\n",
            " 76%|████████████████████████████████          | 91/119 [07:25<02:17,  4.93s/it]\u001b[A\n",
            " 77%|████████████████████████████████▍         | 92/119 [07:30<02:14,  4.96s/it]\u001b[A\n",
            " 78%|████████████████████████████████▊         | 93/119 [07:35<02:07,  4.89s/it]\u001b[A\n",
            " 79%|█████████████████████████████████▏        | 94/119 [07:40<02:01,  4.87s/it]\u001b[A\n",
            " 80%|█████████████████████████████████▌        | 95/119 [07:45<02:00,  5.01s/it]\u001b[A\n",
            " 81%|█████████████████████████████████▉        | 96/119 [07:50<01:53,  4.95s/it]\u001b[A\n",
            " 82%|██████████████████████████████████▏       | 97/119 [07:55<01:49,  4.96s/it]\u001b[A\n",
            " 82%|██████████████████████████████████▌       | 98/119 [08:00<01:43,  4.94s/it]\u001b[A\n",
            " 83%|██████████████████████████████████▉       | 99/119 [08:05<01:38,  4.90s/it]\u001b[A\n",
            " 84%|██████████████████████████████████▍      | 100/119 [08:10<01:35,  5.02s/it]\u001b[A\n",
            " 85%|██████████████████████████████████▊      | 101/119 [08:15<01:29,  5.00s/it]\u001b[A\n",
            " 86%|███████████████████████████████████▏     | 102/119 [08:20<01:24,  5.00s/it]\u001b[A\n",
            " 87%|███████████████████████████████████▍     | 103/119 [08:25<01:19,  4.98s/it]\u001b[A\n",
            " 87%|███████████████████████████████████▊     | 104/119 [08:30<01:14,  4.97s/it]\u001b[A\n",
            " 88%|████████████████████████████████████▏    | 105/119 [08:35<01:09,  4.99s/it]\u001b[A\n",
            " 89%|████████████████████████████████████▌    | 106/119 [08:39<01:01,  4.70s/it]\u001b[A\n",
            " 90%|████████████████████████████████████▊    | 107/119 [08:45<01:01,  5.11s/it]\u001b[A\n",
            " 91%|█████████████████████████████████████▏   | 108/119 [08:50<00:55,  5.07s/it]\u001b[A\n",
            " 92%|█████████████████████████████████████▌   | 109/119 [08:55<00:50,  5.05s/it]\u001b[A\n",
            " 92%|█████████████████████████████████████▉   | 110/119 [09:00<00:44,  4.95s/it]\u001b[A\n",
            " 93%|██████████████████████████████████████▏  | 111/119 [09:04<00:39,  4.95s/it]\u001b[A\n",
            " 94%|██████████████████████████████████████▌  | 112/119 [09:09<00:34,  4.91s/it]\u001b[A\n",
            " 95%|██████████████████████████████████████▉  | 113/119 [09:14<00:29,  4.92s/it]\u001b[A\n",
            " 96%|███████████████████████████████████████▎ | 114/119 [09:19<00:24,  4.91s/it]\u001b[A\n",
            " 97%|███████████████████████████████████████▌ | 115/119 [09:24<00:19,  4.97s/it]\u001b[A\n",
            " 97%|███████████████████████████████████████▉ | 116/119 [09:29<00:14,  4.93s/it]\u001b[A\n",
            " 98%|████████████████████████████████████████▎| 117/119 [09:34<00:09,  4.98s/it]\u001b[A\n",
            " 99%|████████████████████████████████████████▋| 118/119 [09:39<00:04,  4.91s/it]\u001b[A\n",
            "100%|█████████████████████████████████████████| 119/119 [09:44<00:00,  4.90s/it]\u001b[A\n",
            "{'eval_loss': 0.8054853081703186, 'eval_runtime': 589.3545, 'eval_samples_per_second': 1.615, 'eval_steps_per_second': 0.202, 'epoch': 0.0}\n",
            "\n",
            "  0%|                                     | 5/35325 [11:05<147:29:56, 15.03s/it]\u001b[A\n",
            "{'loss': 1.3742, 'learning_rate': 0.00012, 'epoch': 0.0}                        \u001b[A\n",
            "{'loss': 1.2896, 'learning_rate': 0.00014, 'epoch': 0.0}                        \n",
            "{'loss': 1.2189, 'learning_rate': 0.00016, 'epoch': 0.0}                        \n",
            "{'loss': 1.0086, 'learning_rate': 0.00018, 'epoch': 0.0}                        \n",
            "{'loss': 1.0008, 'learning_rate': 0.0002, 'epoch': 0.0}                         \n",
            "  0%|                                    | 10/35325 [12:19<575:13:13, 58.64s/it]\n",
            "  0%|                                                   | 0/119 [00:00<?, ?it/s]\u001b[A\n",
            "  2%|▋                                          | 2/119 [00:04<04:46,  2.45s/it]\u001b[A\n",
            "  3%|█                                          | 3/119 [00:10<06:52,  3.56s/it]\u001b[A\n",
            "  3%|█▍                                         | 4/119 [00:14<07:45,  4.05s/it]\u001b[A\n",
            "  4%|█▊                                         | 5/119 [00:19<08:21,  4.40s/it]\u001b[A\n",
            "  5%|██▏                                        | 6/119 [00:24<08:39,  4.60s/it]\u001b[A\n",
            "  6%|██▌                                        | 7/119 [00:29<08:50,  4.74s/it]\u001b[A\n",
            "  7%|██▉                                        | 8/119 [00:34<08:54,  4.82s/it]\u001b[A\n",
            "  8%|███▎                                       | 9/119 [00:39<08:29,  4.63s/it]\u001b[A\n",
            "  8%|███▌                                      | 10/119 [00:43<08:12,  4.51s/it]\u001b[A\n",
            "  9%|███▉                                      | 11/119 [00:49<08:49,  4.90s/it]\u001b[A\n",
            " 10%|████▏                                     | 12/119 [00:53<08:37,  4.84s/it]\u001b[A\n",
            " 11%|████▌                                     | 13/119 [00:59<08:44,  4.95s/it]\u001b[A\n",
            " 12%|████▉                                     | 14/119 [01:03<08:32,  4.88s/it]\u001b[A\n",
            " 13%|█████▎                                    | 15/119 [01:08<08:34,  4.94s/it]\u001b[A\n",
            " 13%|█████▋                                    | 16/119 [01:14<08:33,  4.98s/it]\u001b[A\n",
            " 14%|██████                                    | 17/119 [01:18<08:12,  4.83s/it]\u001b[A\n",
            " 15%|██████▎                                   | 18/119 [01:23<08:26,  5.02s/it]\u001b[A\n",
            " 16%|██████▋                                   | 19/119 [01:28<08:12,  4.92s/it]\u001b[A\n",
            " 17%|███████                                   | 20/119 [01:33<08:18,  5.03s/it]\u001b[A\n",
            " 18%|███████▍                                  | 21/119 [01:38<08:07,  4.97s/it]\u001b[A\n",
            " 18%|███████▊                                  | 22/119 [01:43<07:58,  4.93s/it]\u001b[A\n",
            " 19%|████████                                  | 23/119 [01:48<07:57,  4.98s/it]\u001b[A\n",
            " 20%|████████▍                                 | 24/119 [01:52<07:31,  4.75s/it]\u001b[A\n",
            " 21%|████████▊                                 | 25/119 [01:58<07:51,  5.01s/it]\u001b[A\n",
            " 22%|█████████▏                                | 26/119 [02:03<07:42,  4.97s/it]\u001b[A\n",
            " 23%|█████████▌                                | 27/119 [02:08<07:35,  4.95s/it]\u001b[A\n",
            " 24%|█████████▉                                | 28/119 [02:13<07:38,  5.04s/it]\u001b[A\n",
            " 24%|██████████▏                               | 29/119 [02:18<07:33,  5.04s/it]\u001b[A\n",
            " 25%|██████████▌                               | 30/119 [02:23<07:26,  5.02s/it]\u001b[A\n",
            " 26%|██████████▉                               | 31/119 [02:28<07:15,  4.95s/it]\u001b[A\n",
            " 27%|███████████▎                              | 32/119 [02:33<07:11,  4.96s/it]\u001b[A\n",
            " 28%|███████████▋                              | 33/119 [02:38<07:09,  4.99s/it]\u001b[A\n",
            " 29%|████████████                              | 34/119 [02:42<06:52,  4.86s/it]\u001b[A\n",
            " 29%|████████████▎                             | 35/119 [02:47<06:53,  4.92s/it]\u001b[A\n",
            " 30%|████████████▋                             | 36/119 [02:53<06:51,  4.96s/it]\u001b[A\n",
            " 31%|█████████████                             | 37/119 [02:58<06:47,  4.97s/it]\u001b[A\n",
            " 32%|█████████████▍                            | 38/119 [03:03<06:52,  5.09s/it]\u001b[A\n",
            " 33%|█████████████▊                            | 39/119 [03:08<06:41,  5.02s/it]\u001b[A\n",
            " 34%|██████████████                            | 40/119 [03:13<06:33,  4.98s/it]\u001b[A\n",
            " 34%|██████████████▍                           | 41/119 [03:17<06:12,  4.77s/it]\u001b[A\n",
            " 35%|██████████████▊                           | 42/119 [03:23<06:32,  5.09s/it]\u001b[A\n",
            " 36%|███████████████▏                          | 43/119 [03:28<06:25,  5.07s/it]\u001b[A\n",
            " 37%|███████████████▌                          | 44/119 [03:33<06:15,  5.00s/it]\u001b[A\n",
            " 38%|███████████████▉                          | 45/119 [03:37<06:02,  4.90s/it]\u001b[A\n",
            " 39%|████████████████▏                         | 46/119 [03:43<06:07,  5.03s/it]\u001b[A\n",
            " 39%|████████████████▌                         | 47/119 [03:48<06:02,  5.04s/it]\u001b[A\n",
            " 40%|████████████████▉                         | 48/119 [03:53<05:54,  5.00s/it]\u001b[A\n",
            " 41%|█████████████████▎                        | 49/119 [03:57<05:38,  4.84s/it]\u001b[A\n",
            " 42%|█████████████████▋                        | 50/119 [04:02<05:43,  4.97s/it]\u001b[A\n",
            " 43%|██████████████████                        | 51/119 [04:08<05:41,  5.03s/it]\u001b[A\n",
            " 44%|██████████████████▎                       | 52/119 [04:13<05:40,  5.09s/it]\u001b[A\n",
            " 45%|██████████████████▋                       | 53/119 [04:18<05:33,  5.06s/it]\u001b[A\n",
            " 45%|███████████████████                       | 54/119 [04:23<05:24,  4.99s/it]\u001b[A\n",
            " 46%|███████████████████▍                      | 55/119 [04:28<05:24,  5.07s/it]\u001b[A\n",
            " 47%|███████████████████▊                      | 56/119 [04:33<05:12,  4.96s/it]\u001b[A\n",
            " 48%|████████████████████                      | 57/119 [04:38<05:13,  5.06s/it]\u001b[A\n",
            " 49%|████████████████████▍                     | 58/119 [04:43<05:06,  5.02s/it]\u001b[A\n",
            " 50%|████████████████████▊                     | 59/119 [04:48<05:01,  5.03s/it]\u001b[A\n",
            " 50%|█████████████████████▏                    | 60/119 [04:53<04:53,  4.97s/it]\u001b[A\n",
            " 51%|█████████████████████▌                    | 61/119 [04:58<04:47,  4.96s/it]\u001b[A\n",
            " 52%|█████████████████████▉                    | 62/119 [05:03<04:43,  4.97s/it]\u001b[A\n",
            " 53%|██████████████████████▏                   | 63/119 [05:07<04:33,  4.88s/it]\u001b[A\n",
            " 54%|██████████████████████▌                   | 64/119 [05:12<04:30,  4.92s/it]\u001b[A\n",
            " 55%|██████████████████████▉                   | 65/119 [05:17<04:27,  4.95s/it]\u001b[A\n",
            " 55%|███████████████████████▎                  | 66/119 [05:22<04:22,  4.95s/it]\u001b[A\n",
            " 56%|███████████████████████▋                  | 67/119 [05:27<04:18,  4.96s/it]\u001b[A\n",
            " 57%|████████████████████████                  | 68/119 [05:32<04:11,  4.94s/it]\u001b[A\n",
            " 58%|████████████████████████▎                 | 69/119 [05:37<04:07,  4.94s/it]\u001b[A\n",
            " 59%|████████████████████████▋                 | 70/119 [05:41<03:48,  4.67s/it]\u001b[A\n",
            " 60%|█████████████████████████                 | 71/119 [05:47<04:00,  5.02s/it]\u001b[A\n",
            " 61%|█████████████████████████▍                | 72/119 [05:52<03:56,  5.02s/it]\u001b[A\n",
            " 61%|█████████████████████████▊                | 73/119 [05:57<03:51,  5.03s/it]\u001b[A\n",
            " 62%|██████████████████████████                | 74/119 [06:02<03:46,  5.02s/it]\u001b[A\n",
            " 63%|██████████████████████████▍               | 75/119 [06:07<03:36,  4.91s/it]\u001b[A\n",
            " 64%|██████████████████████████▊               | 76/119 [06:12<03:32,  4.95s/it]\u001b[A\n",
            " 65%|███████████████████████████▏              | 77/119 [06:16<03:24,  4.87s/it]\u001b[A\n",
            " 66%|███████████████████████████▌              | 78/119 [06:21<03:21,  4.91s/it]\u001b[A\n",
            " 66%|███████████████████████████▉              | 79/119 [06:26<03:16,  4.92s/it]\u001b[A\n",
            " 67%|████████████████████████████▏             | 80/119 [06:31<03:12,  4.93s/it]\u001b[A\n",
            " 68%|████████████████████████████▌             | 81/119 [06:36<03:04,  4.85s/it]\u001b[A\n",
            " 69%|████████████████████████████▉             | 82/119 [06:41<02:59,  4.86s/it]\u001b[A\n",
            " 70%|█████████████████████████████▎            | 83/119 [06:46<02:55,  4.86s/it]\u001b[A\n",
            " 71%|█████████████████████████████▋            | 84/119 [06:51<02:52,  4.93s/it]\u001b[A\n",
            " 71%|██████████████████████████████            | 85/119 [06:56<02:48,  4.95s/it]\u001b[A\n",
            " 72%|██████████████████████████████▎           | 86/119 [07:01<02:42,  4.93s/it]\u001b[A\n",
            " 73%|██████████████████████████████▋           | 87/119 [07:06<02:37,  4.94s/it]\u001b[A\n",
            " 74%|███████████████████████████████           | 88/119 [07:10<02:31,  4.88s/it]\u001b[A\n",
            " 75%|███████████████████████████████▍          | 89/119 [07:15<02:27,  4.90s/it]\u001b[A\n",
            " 76%|███████████████████████████████▊          | 90/119 [07:20<02:21,  4.90s/it]\u001b[A\n",
            " 76%|████████████████████████████████          | 91/119 [07:25<02:18,  4.93s/it]\u001b[A\n",
            " 77%|████████████████████████████████▍         | 92/119 [07:30<02:14,  4.97s/it]\u001b[A\n",
            " 78%|████████████████████████████████▊         | 93/119 [07:35<02:07,  4.89s/it]\u001b[A\n",
            " 79%|█████████████████████████████████▏        | 94/119 [07:40<02:02,  4.88s/it]\u001b[A\n",
            " 80%|█████████████████████████████████▌        | 95/119 [07:45<02:00,  5.01s/it]\u001b[A\n",
            " 81%|█████████████████████████████████▉        | 96/119 [07:50<01:54,  4.96s/it]\u001b[A\n",
            " 82%|██████████████████████████████████▏       | 97/119 [07:55<01:49,  4.96s/it]\u001b[A\n",
            " 82%|██████████████████████████████████▌       | 98/119 [08:00<01:43,  4.94s/it]\u001b[A\n",
            " 83%|██████████████████████████████████▉       | 99/119 [08:05<01:38,  4.90s/it]\u001b[A\n",
            " 84%|██████████████████████████████████▍      | 100/119 [08:10<01:35,  5.02s/it]\u001b[A\n",
            " 85%|██████████████████████████████████▊      | 101/119 [08:15<01:29,  5.00s/it]\u001b[A\n",
            " 86%|███████████████████████████████████▏     | 102/119 [08:20<01:25,  5.01s/it]\u001b[A\n",
            " 87%|███████████████████████████████████▍     | 103/119 [08:25<01:19,  4.99s/it]\u001b[A\n",
            " 87%|███████████████████████████████████▊     | 104/119 [08:30<01:14,  4.98s/it]\u001b[A\n",
            " 88%|████████████████████████████████████▏    | 105/119 [08:35<01:09,  5.00s/it]\u001b[A\n",
            " 89%|████████████████████████████████████▌    | 106/119 [08:39<01:01,  4.71s/it]\u001b[A\n",
            " 90%|████████████████████████████████████▊    | 107/119 [08:45<01:01,  5.11s/it]\u001b[A\n",
            " 91%|█████████████████████████████████████▏   | 108/119 [08:50<00:55,  5.08s/it]\u001b[A\n",
            " 92%|█████████████████████████████████████▌   | 109/119 [08:55<00:50,  5.05s/it]\u001b[A\n",
            " 92%|█████████████████████████████████████▉   | 110/119 [09:00<00:44,  4.95s/it]\u001b[A\n",
            " 93%|██████████████████████████████████████▏  | 111/119 [09:05<00:39,  4.95s/it]\u001b[A\n",
            " 94%|██████████████████████████████████████▌  | 112/119 [09:09<00:34,  4.91s/it]\u001b[A\n",
            " 95%|██████████████████████████████████████▉  | 113/119 [09:14<00:29,  4.92s/it]\u001b[A\n",
            " 96%|███████████████████████████████████████▎ | 114/119 [09:19<00:24,  4.91s/it]\u001b[A\n",
            " 97%|███████████████████████████████████████▌ | 115/119 [09:24<00:19,  4.97s/it]\u001b[A\n",
            " 97%|███████████████████████████████████████▉ | 116/119 [09:29<00:14,  4.93s/it]\u001b[A\n",
            " 98%|████████████████████████████████████████▎| 117/119 [09:34<00:09,  4.98s/it]\u001b[A\n",
            " 99%|████████████████████████████████████████▋| 118/119 [09:39<00:04,  4.91s/it]\u001b[A\n",
            "100%|█████████████████████████████████████████| 119/119 [09:44<00:00,  4.90s/it]\u001b[A\n",
            "{'eval_loss': 0.8626449704170227, 'eval_runtime': 589.4539, 'eval_samples_per_second': 1.615, 'eval_steps_per_second': 0.202, 'epoch': 0.0}\n",
            "\n",
            "  0%|                                    | 10/35325 [22:09<575:13:13, 58.64s/it]\u001b[A\n",
            "{'loss': 1.2255, 'learning_rate': 0.0001999999996042686, 'epoch': 0.0}          \u001b[A\n",
            "{'loss': 1.021, 'learning_rate': 0.00019999999841707438, 'epoch': 0.0}          \n",
            "{'loss': 0.9589, 'learning_rate': 0.00019999999643841737, 'epoch': 0.0}         \n",
            "{'loss': 1.022, 'learning_rate': 0.00019999999366829754, 'epoch': 0.0}          \n",
            "{'loss': 1.054, 'learning_rate': 0.00019999999010671498, 'epoch': 0.0}          \n",
            "  0%|                                    | 15/35325 [23:25<635:31:38, 64.79s/it]\n",
            "  0%|                                                   | 0/119 [00:00<?, ?it/s]\u001b[A\n",
            "  2%|▋                                          | 2/119 [00:04<04:46,  2.45s/it]\u001b[A"
          ]
        }
      ],
      "source": [
        "!accelerate launch scripts/finetune.py examples/falcon/config-40b-qlora.yml"
      ]
    },
    {
      "cell_type": "markdown",
      "metadata": {
        "id": "AcbjGJ2GDY7L"
      },
      "source": [
        "## #3 2xA100 mbs 16 OOM"
      ]
    },
    {
      "cell_type": "code",
      "execution_count": null,
      "metadata": {
        "id": "00vedG_seEDL"
      },
      "outputs": [],
      "source": [
        "%env HF_HUB_DISABLE_PROGRESS_BARS=1"
      ]
    },
    {
      "cell_type": "code",
      "execution_count": null,
      "metadata": {
        "id": "y0ltGgTqeEDM"
      },
      "outputs": [],
      "source": [
        "%env ACCELERATE_USE_DEEPSPEED=false"
      ]
    },
    {
      "cell_type": "code",
      "execution_count": null,
      "metadata": {
        "id": "_6hvCkF0DY7L",
        "scrolled": true
      },
      "outputs": [],
      "source": [
        "!cat examples/falcon/config-40b-qlora.yml"
      ]
    },
    {
      "cell_type": "code",
      "execution_count": null,
      "metadata": {
        "id": "OwPMxEdeLLDu"
      },
      "outputs": [],
      "source": [
        "#%%writefile examples/falcon/config-40b-qlora.yml"
      ]
    },
    {
      "cell_type": "code",
      "execution_count": null,
      "metadata": {
        "id": "9XsSrgMvDY7L",
        "scrolled": true
      },
      "outputs": [],
      "source": [
        "!accelerate launch scripts/finetune.py examples/falcon/config-40b-qlora.yml"
      ]
    },
    {
      "cell_type": "markdown",
      "metadata": {
        "id": "VVwP73VWDY7L"
      },
      "source": [
        "## #4 4xA100 mbs 16 OOM"
      ]
    },
    {
      "cell_type": "code",
      "execution_count": null,
      "metadata": {
        "id": "wMk0VCrho7ZB"
      },
      "outputs": [],
      "source": [
        "%cd /workspace/axolotl"
      ]
    },
    {
      "cell_type": "code",
      "execution_count": null,
      "metadata": {
        "id": "r-azUQO0dDnH"
      },
      "outputs": [],
      "source": [
        "%env ACCELERATE_USE_DEEPSPEED=false"
      ]
    },
    {
      "cell_type": "code",
      "execution_count": null,
      "metadata": {
        "id": "QGjKHqolo7ZB"
      },
      "outputs": [],
      "source": [
        "%env HF_HUB_DISABLE_PROGRESS_BARS=1"
      ]
    },
    {
      "cell_type": "code",
      "execution_count": null,
      "metadata": {
        "id": "J3_tDMBqDY7L",
        "scrolled": true
      },
      "outputs": [],
      "source": [
        "!cat examples/falcon/config-40b-qlora.yml"
      ]
    },
    {
      "cell_type": "code",
      "execution_count": null,
      "metadata": {
        "id": "rzFuqSRNLL5_"
      },
      "outputs": [],
      "source": [
        "#%%writefile examples/falcon/config-40b-qlora.yml"
      ]
    },
    {
      "cell_type": "code",
      "execution_count": null,
      "metadata": {
        "id": "2VIorWx3DY7M",
        "scrolled": true
      },
      "outputs": [],
      "source": [
        "!accelerate launch scripts/finetune.py examples/falcon/config-40b-qlora.yml"
      ]
    },
    {
      "cell_type": "markdown",
      "metadata": {
        "id": "_TrgHEoizhLx"
      },
      "source": [
        "## #5 mbs 12"
      ]
    },
    {
      "cell_type": "code",
      "execution_count": null,
      "metadata": {
        "id": "0NdJGjFTdDnI"
      },
      "outputs": [],
      "source": [
        "%env HF_HUB_DISABLE_PROGRESS_BARS=1"
      ]
    },
    {
      "cell_type": "code",
      "execution_count": null,
      "metadata": {
        "id": "GcOtbqlCdDnI"
      },
      "outputs": [],
      "source": [
        "!cat examples/falcon/config-40b-qlora.yml"
      ]
    },
    {
      "cell_type": "code",
      "execution_count": null,
      "metadata": {
        "id": "WpJG6JK2zhLx",
        "scrolled": true
      },
      "outputs": [],
      "source": [
        "!accelerate launch scripts/finetune.py examples/falcon/config-40b-qlora.yml"
      ]
    },
    {
      "cell_type": "markdown",
      "metadata": {
        "id": "hrnqGCBezhLy"
      },
      "source": [
        "## #6 mbs 10"
      ]
    },
    {
      "cell_type": "code",
      "execution_count": null,
      "metadata": {
        "id": "YHaDkOkvdDnI"
      },
      "outputs": [],
      "source": [
        "!cat examples/falcon/config-40b-qlora.yml"
      ]
    },
    {
      "cell_type": "code",
      "execution_count": null,
      "metadata": {
        "id": "7aEj2fAgzhLz"
      },
      "outputs": [],
      "source": [
        "!accelerate launch scripts/finetune.py examples/falcon/config-40b-qlora.yml"
      ]
    },
    {
      "cell_type": "markdown",
      "metadata": {
        "id": "UivJrMd8zhLz"
      },
      "source": [
        "## #7 mbs 8"
      ]
    },
    {
      "cell_type": "code",
      "execution_count": null,
      "metadata": {
        "id": "99raQX83zhLz"
      },
      "outputs": [],
      "source": [
        "!cat examples/falcon/config-40b-qlora.yml"
      ]
    },
    {
      "cell_type": "code",
      "execution_count": null,
      "metadata": {
        "id": "ubZ7fVBVzhLz"
      },
      "outputs": [],
      "source": [
        "!accelerate launch scripts/finetune.py examples/falcon/config-40b-qlora.yml --deepspeed ds_config.json"
      ]
    },
    {
      "cell_type": "markdown",
      "metadata": {
        "id": "UuaiP0pUzhL0"
      },
      "source": [
        "## #8 No early_stopping_patience"
      ]
    },
    {
      "cell_type": "code",
      "execution_count": null,
      "metadata": {
        "id": "Wzy_ZDY4zhL0"
      },
      "outputs": [],
      "source": [
        "!cat examples/falcon/config-40b-qlora.yml"
      ]
    },
    {
      "cell_type": "code",
      "execution_count": null,
      "metadata": {
        "id": "1mV9bkd2o7ZH"
      },
      "outputs": [],
      "source": [
        "!accelerate launch scripts/finetune.py examples/falcon/config-40b-qlora.yml"
      ]
    },
    {
      "cell_type": "markdown",
      "metadata": {
        "id": "noYMg25xo7ZH"
      },
      "source": [
        "## #9"
      ]
    },
    {
      "cell_type": "code",
      "execution_count": null,
      "metadata": {
        "id": "mgIm_x1po7ZH"
      },
      "outputs": [],
      "source": [
        "!cat examples/falcon/config-40b-qlora.yml"
      ]
    },
    {
      "cell_type": "code",
      "execution_count": null,
      "metadata": {
        "id": "k9gVy7Gvo7ZH"
      },
      "outputs": [],
      "source": [
        "!accelerate launch scripts/finetune.py examples/falcon/config-40b-qlora.yml --deepspeed ds_config.json"
      ]
    },
    {
      "cell_type": "markdown",
      "metadata": {
        "id": "OFWDQTL_vGSL"
      },
      "source": [
        "# Upload"
      ]
    },
    {
      "cell_type": "markdown",
      "metadata": {
        "id": "spqeHYEGDY7Q"
      },
      "source": [
        "### Upload checkpoints to HF"
      ]
    },
    {
      "cell_type": "code",
      "execution_count": null,
      "metadata": {
        "id": "zkekyF8DKerI"
      },
      "outputs": [],
      "source": [
        "%cd /content/axolotl-trained/falcon-qlora-40b-gsm8k/"
      ]
    },
    {
      "cell_type": "code",
      "execution_count": null,
      "metadata": {
        "id": "eL8SpVYpNY1y"
      },
      "outputs": [],
      "source": [
        "!ls -lhta |grep checkpoint-"
      ]
    },
    {
      "cell_type": "code",
      "execution_count": null,
      "metadata": {
        "id": "Pj_79rGoKkA_"
      },
      "outputs": [],
      "source": [
        "!ls -lhta |grep checkpoint- | awk 'NR > 1 {print $9}'"
      ]
    },
    {
      "cell_type": "code",
      "execution_count": null,
      "metadata": {
        "id": "XK8IWmrtKvlJ"
      },
      "outputs": [],
      "source": [
        "# ls -lhta |grep checkpoint- | awk 'NR > 1 {print $9}' | xargs rm -rf"
      ]
    },
    {
      "cell_type": "code",
      "execution_count": null,
      "metadata": {
        "id": "DgyQDH-YDY7R"
      },
      "outputs": [],
      "source": [
        "!python /workspace/llm-playground/helper/storage.py utensil/axolotl-trained /content/ -u"
      ]
    },
    {
      "cell_type": "markdown",
      "metadata": {
        "id": "H5TnMCeLDY7M"
      },
      "source": [
        "## Below are ad hoc cells handling issues during training\n",
        "\n",
        "current out dir:\n",
        "\n",
        "```\n",
        "/content/axolotl-trained/falcon-qlora-40b-gsm8k/\n",
        "```"
      ]
    },
    {
      "cell_type": "markdown",
      "metadata": {
        "id": "UdCBx0UZDY7M"
      },
      "source": [
        "### Force release VRAM"
      ]
    },
    {
      "cell_type": "code",
      "execution_count": null,
      "metadata": {
        "id": "_0VdzsqSDY7M"
      },
      "outputs": [],
      "source": [
        "# First interupt the kernel, wait a few seconds then run this to kill finetune to release VRAM\n",
        "!ps aux|grep python|grep finetune|awk '{print $2}'|xargs kill"
      ]
    },
    {
      "cell_type": "markdown",
      "metadata": {
        "id": "bT7StF_PDY7N"
      },
      "source": [
        "### Clean the finetuned model and all checkpoints"
      ]
    },
    {
      "cell_type": "code",
      "execution_count": null,
      "metadata": {
        "id": "FT4c-7KHDY7N"
      },
      "outputs": [],
      "source": [
        "# Only run this to start over\n",
        "!rm -rf /content/axolotl-trained/falcon-qlora-40b-gsm8k/"
      ]
    },
    {
      "cell_type": "markdown",
      "metadata": {
        "id": "p6s4xi9jDY7N"
      },
      "source": [
        "### Zip the prepared dataset"
      ]
    },
    {
      "cell_type": "code",
      "execution_count": null,
      "metadata": {
        "id": "MZ-aBbwEDY7N"
      },
      "outputs": [],
      "source": [
        "!apt install zip\n",
        "!zip -r last_run_prepared.zip -xi last_run_prepared"
      ]
    },
    {
      "cell_type": "markdown",
      "metadata": {
        "id": "8BFC20jMDY7N"
      },
      "source": [
        "### Monitoring GPU"
      ]
    },
    {
      "cell_type": "code",
      "execution_count": null,
      "metadata": {
        "id": "MgPaXew2DY7O"
      },
      "outputs": [],
      "source": [
        "# Run this in a seperate terminal\n",
        "!nvitop -m full"
      ]
    },
    {
      "cell_type": "markdown",
      "metadata": {
        "id": "pYFlPnbXDY7O"
      },
      "source": [
        "### Fix DISK FULL"
      ]
    },
    {
      "cell_type": "code",
      "execution_count": null,
      "metadata": {
        "id": "yv5CWZu7DY7O"
      },
      "outputs": [],
      "source": [
        "%cd /"
      ]
    },
    {
      "cell_type": "code",
      "execution_count": null,
      "metadata": {
        "id": "wvqYxcpZDY7P"
      },
      "outputs": [],
      "source": [
        "!du -d 2 -h|grep G"
      ]
    },
    {
      "cell_type": "code",
      "execution_count": null,
      "metadata": {
        "id": "tIIJxrv1DY7P"
      },
      "outputs": [],
      "source": [
        "!du -d 2 -h /root/.local"
      ]
    },
    {
      "cell_type": "code",
      "execution_count": null,
      "metadata": {
        "id": "25FTebpHDY7P"
      },
      "outputs": [],
      "source": [
        "!rm -rf /root/.local/share/Trash/"
      ]
    },
    {
      "cell_type": "code",
      "execution_count": null,
      "metadata": {
        "id": "8K4d-2ocDY7P"
      },
      "outputs": [],
      "source": [
        "!rm -rf /root/.local/share/wandb/"
      ]
    },
    {
      "cell_type": "code",
      "execution_count": null,
      "metadata": {
        "id": "UtOoZLugDY7P"
      },
      "outputs": [],
      "source": [
        "!rm -rf /root/.cache/wandb/"
      ]
    },
    {
      "cell_type": "markdown",
      "metadata": {
        "id": "17SexQnqDY7P"
      },
      "source": [
        "### Check who is using GPU"
      ]
    },
    {
      "cell_type": "code",
      "execution_count": null,
      "metadata": {
        "id": "kE8A5crNDY7P",
        "scrolled": true
      },
      "outputs": [],
      "source": [
        "!apt install lsof"
      ]
    },
    {
      "cell_type": "code",
      "execution_count": null,
      "metadata": {
        "id": "dwNCASirDY7Q",
        "scrolled": true
      },
      "outputs": [],
      "source": [
        "!lsof /dev/nvidia*"
      ]
    },
    {
      "cell_type": "markdown",
      "metadata": {
        "id": "gxZv_qjgDY7Y"
      },
      "source": [
        "### A new bash without tmux etc."
      ]
    },
    {
      "cell_type": "code",
      "execution_count": null,
      "metadata": {
        "id": "NDkJAXwTDY7Z"
      },
      "outputs": [],
      "source": [
        "!bash --norc --noprofile"
      ]
    },
    {
      "cell_type": "markdown",
      "metadata": {
        "id": "pR3s54THDY7Z"
      },
      "source": [
        "### Clean up all checkpoints but last one"
      ]
    },
    {
      "cell_type": "code",
      "execution_count": null,
      "metadata": {
        "id": "4fSoQ8hteEDX"
      },
      "outputs": [],
      "source": []
    },
    {
      "cell_type": "code",
      "execution_count": null,
      "metadata": {
        "id": "SJtsGJ0oeEDX",
        "outputId": "315d5568-a7d3-4e26-9a7c-a6b2fec2c7dc"
      },
      "outputs": [
        {
          "name": "stdout",
          "output_type": "stream",
          "text": [
            "checkpoint-10\n"
          ]
        }
      ],
      "source": [
        "!cd /content/axolotl-trained/falcon-qlora-40b-gsm8k/ && ls -lhta |grep checkpoint- | awk '{print $9}'"
      ]
    },
    {
      "cell_type": "code",
      "execution_count": null,
      "metadata": {
        "id": "LdO1EybEDY7Z"
      },
      "outputs": [],
      "source": [
        "!cd /content/axolotl-trained/falcon-qlora-40b-gsm8k/ && ls -lhta |grep checkpoint- | awk 'NR > 1 {print $9}' | xargs rm -rf"
      ]
    },
    {
      "cell_type": "code",
      "execution_count": null,
      "metadata": {
        "id": "yyk_zXK5eEDX"
      },
      "outputs": [],
      "source": [
        "#@title Keep this tab alive to prevent Colab from disconnecting you { display-mode: \"form\" }\n",
        "\n",
        "#@markdown Press play on the music player that will appear below:\n",
        "%%html\n",
        "<audio src=\"https://oobabooga.github.io/silence.m4a\" controls>"
      ]
    }
  ],
  "metadata": {
    "accelerator": "GPU",
    "colab": {
      "gpuType": "T4",
      "provenance": [],
      "include_colab_link": true
    },
    "kernelspec": {
      "display_name": "Python 3 (ipykernel)",
      "language": "python",
      "name": "python3"
    },
    "language_info": {
      "codemirror_mode": {
        "name": "ipython",
        "version": 3
      },
      "file_extension": ".py",
      "mimetype": "text/x-python",
      "name": "python",
      "nbconvert_exporter": "python",
      "pygments_lexer": "ipython3",
      "version": "3.9.16"
    }
  },
  "nbformat": 4,
  "nbformat_minor": 0
}