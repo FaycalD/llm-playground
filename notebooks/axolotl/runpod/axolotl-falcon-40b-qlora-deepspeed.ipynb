{
  "cells": [
    {
      "cell_type": "markdown",
      "metadata": {
        "id": "view-in-github",
        "colab_type": "text"
      },
      "source": [
        "<a href=\"https://colab.research.google.com/github/utensil/llm-playground/blob/main/notebooks/axolotl/runpod/axolotl-falcon-40b-qlora-deepspeed.ipynb\" target=\"_parent\"><img src=\"https://colab.research.google.com/assets/colab-badge.svg\" alt=\"Open In Colab\"/></a>"
      ]
    },
    {
      "cell_type": "markdown",
      "metadata": {
        "id": "pCpbQuaxDY7H"
      },
      "source": [
        "<!-- https://jupyterlab.readthedocs.io/en/stable/user/commands.html#commands-list -->\n",
        "<button data-commandLinker-command=\"apputils:change-theme\" data-commandlinker-args='{\"theme\": \"JupyterLab Dark\"}' href=\"#\">Dark theme</button>\n",
        "<button data-commandLinker-command=\"filebrowser:go-to-path\" data-commandlinker-args='{\"path\": \"/content/llm-playground/\"}' href=\"#\">llm-playground</button>\n",
        "<button data-commandLinker-command=\"filebrowser:go-to-path\" data-commandlinker-args='{\"path\": \"/workspace/axolotl/\"}' href=\"#\">axolotl</button>\n",
        "<button data-commandLinker-command=\"filebrowser:go-to-path\" data-commandlinker-args='{\"path\": \"/content/llm-playground/notebooks/axolotl/runpod\"}' href=\"#\">Runpod notebooks</button>\n",
        "<button data-commandLinker-command=\"filebrowser:go-to-path\" data-commandlinker-args='{\"path\": \"/workspace/axolotl/examples\"}' href=\"#\">axolotl configs</button>\n",
        "<button data-commandLinker-command=\"filebrowser:go-to-path\" data-commandlinker-args='{\"path\": \"/content/llm-playground/storage\"}' href=\"#\">Storage</button>\n",
        "<button data-commandLinker-command=\"filebrowser:go-to-path\" data-commandlinker-args='{\"path\": \"/content/axolotl-trained\"}' href=\"#\">axolotl-trained</button>\n",
        "<button data-commandLinker-command=\"docmanager:open\" data-commandlinker-args='{\"path\": \"/workspace/axolotl/examples/falcon/config-40b-qlora.yml\"}' href=\"#\">Edit qlora config</button>\n",
        "<button data-commandLinker-command=\"docmanager:open\" data-commandlinker-args='{\"path\": \"/workspace/axolotl/ds_config.json\"}' href=\"#\">Edit ds config</button>"
      ]
    },
    {
      "cell_type": "markdown",
      "metadata": {
        "id": "97yoSiRvDY7G"
      },
      "source": [
        "# Finetuning falcon-40b\n",
        "\n",
        "- Axolotl+QLoRA\n",
        "- minotaur datasets\n",
        "- deepspeed ZeRO 3 8xGPU\n",
        "\n",
        "Entry script:\n",
        "\n",
        "https://github.com/utensil/llm-playground/blob/main/scripts/entry/ax_lite.sh\n",
        "\n",
        "Mount volume disk to `/content`\n",
        "\n",
        "Save to:\n",
        "\n",
        "- repo: `utensil/llm-playground`\n",
        "- path: `notebooks/axolotl/runpod/axolotl-falcon-40b-qlora-deepspeed.ipynb`\n"
      ]
    },
    {
      "cell_type": "markdown",
      "metadata": {
        "id": "uZd-cf70HM2n"
      },
      "source": [
        "## Prepare"
      ]
    },
    {
      "cell_type": "markdown",
      "metadata": {
        "id": "DkrtaRkauKLL"
      },
      "source": [
        "### Set HF Cache"
      ]
    },
    {
      "cell_type": "code",
      "execution_count": null,
      "metadata": {
        "id": "hpIyW4yWuHvd"
      },
      "outputs": [],
      "source": [
        "# %env HF_DATASETS_CACHE"
      ]
    },
    {
      "cell_type": "code",
      "execution_count": null,
      "metadata": {
        "id": "hHOfHUYQduRX"
      },
      "outputs": [],
      "source": [
        "#%env TRANSFORMERS_CACHE"
      ]
    },
    {
      "cell_type": "code",
      "execution_count": null,
      "metadata": {
        "id": "oR9oblHTduRY"
      },
      "outputs": [],
      "source": [
        "!rm -rf /root/.cache"
      ]
    },
    {
      "cell_type": "code",
      "execution_count": null,
      "metadata": {
        "id": "KkaKgWKnduRY"
      },
      "outputs": [],
      "source": [
        "!mkdir -p /content/cache"
      ]
    },
    {
      "cell_type": "code",
      "execution_count": null,
      "metadata": {
        "id": "aJMsnPnOduRY"
      },
      "outputs": [],
      "source": [
        "!ln -s /content/cache /root/.cache"
      ]
    },
    {
      "cell_type": "markdown",
      "metadata": {
        "id": "FkZ6RzFyiAue"
      },
      "source": [
        "### Speed up model download"
      ]
    },
    {
      "cell_type": "code",
      "execution_count": null,
      "metadata": {
        "id": "huZ5eZUUgJ76",
        "outputId": "5b897f90-8359-4574-fa28-5e3f672e8054"
      },
      "outputs": [
        {
          "name": "stdout",
          "output_type": "stream",
          "text": [
            "Get:1 http://security.ubuntu.com/ubuntu jammy-security InRelease [110 kB]\n",
            "Hit:2 http://archive.ubuntu.com/ubuntu jammy InRelease                         \n",
            "Hit:3 https://developer.download.nvidia.com/compute/cuda/repos/ubuntu2204/x86_64  InRelease\n",
            "Get:4 http://archive.ubuntu.com/ubuntu jammy-updates InRelease [119 kB]\n",
            "Get:5 http://security.ubuntu.com/ubuntu jammy-security/restricted amd64 Packages [458 kB]\n",
            "Get:6 http://archive.ubuntu.com/ubuntu jammy-backports InRelease [108 kB]\n",
            "Get:7 http://archive.ubuntu.com/ubuntu jammy-updates/universe amd64 Packages [1181 kB]\n",
            "Get:8 http://archive.ubuntu.com/ubuntu jammy-updates/restricted amd64 Packages [459 kB]\n",
            "Get:9 http://archive.ubuntu.com/ubuntu jammy-updates/main amd64 Packages [866 kB]\n",
            "Fetched 3301 kB in 2s (2129 kB/s)                       \n",
            "Reading package lists... Done\n",
            "Reading package lists... Done\n",
            "Building dependency tree... Done\n",
            "Reading state information... Done\n",
            "The following additional packages will be installed:\n",
            "  libaria2-0 libc-ares2 libicu70 libssh2-1 libxml2\n",
            "The following NEW packages will be installed:\n",
            "  aria2 libaria2-0 libc-ares2 libicu70 libssh2-1 libxml2\n",
            "0 upgraded, 6 newly installed, 0 to remove and 56 not upgraded.\n",
            "Need to get 13.0 MB of archives.\n",
            "After this operation, 43.2 MB of additional disk space will be used.\n",
            "Get:1 http://archive.ubuntu.com/ubuntu jammy/main amd64 libicu70 amd64 70.1-2 [10.6 MB]\n",
            "Get:2 http://archive.ubuntu.com/ubuntu jammy-updates/main amd64 libxml2 amd64 2.9.13+dfsg-1ubuntu0.3 [763 kB]\n",
            "Get:3 http://archive.ubuntu.com/ubuntu jammy-updates/main amd64 libc-ares2 amd64 1.18.1-1ubuntu0.22.04.2 [45.0 kB]\n",
            "Get:4 http://archive.ubuntu.com/ubuntu jammy/universe amd64 libssh2-1 amd64 1.10.0-3 [109 kB]\n",
            "Get:5 http://archive.ubuntu.com/ubuntu jammy/universe amd64 libaria2-0 amd64 1.36.0-1 [1086 kB]\n",
            "Get:6 http://archive.ubuntu.com/ubuntu jammy/universe amd64 aria2 amd64 1.36.0-1 [381 kB]\n",
            "Fetched 13.0 MB in 2s (8464 kB/s)\n",
            "debconf: delaying package configuration, since apt-utils is not installed\n",
            "Selecting previously unselected package libicu70:amd64.\n",
            "(Reading database ... 17816 files and directories currently installed.)\n",
            "Preparing to unpack .../0-libicu70_70.1-2_amd64.deb ...\n",
            "Unpacking libicu70:amd64 (70.1-2) ...\n",
            "Selecting previously unselected package libxml2:amd64.\n",
            "Preparing to unpack .../1-libxml2_2.9.13+dfsg-1ubuntu0.3_amd64.deb ...\n",
            "Unpacking libxml2:amd64 (2.9.13+dfsg-1ubuntu0.3) ...\n",
            "Selecting previously unselected package libc-ares2:amd64.\n",
            "Preparing to unpack .../2-libc-ares2_1.18.1-1ubuntu0.22.04.2_amd64.deb ...\n",
            "Unpacking libc-ares2:amd64 (1.18.1-1ubuntu0.22.04.2) ...\n",
            "Selecting previously unselected package libssh2-1:amd64.\n",
            "Preparing to unpack .../3-libssh2-1_1.10.0-3_amd64.deb ...\n",
            "Unpacking libssh2-1:amd64 (1.10.0-3) ...\n",
            "Selecting previously unselected package libaria2-0:amd64.\n",
            "Preparing to unpack .../4-libaria2-0_1.36.0-1_amd64.deb ...\n",
            "Unpacking libaria2-0:amd64 (1.36.0-1) ...\n",
            "Selecting previously unselected package aria2.\n",
            "Preparing to unpack .../5-aria2_1.36.0-1_amd64.deb ...\n",
            "Unpacking aria2 (1.36.0-1) ...\n",
            "Setting up libc-ares2:amd64 (1.18.1-1ubuntu0.22.04.2) ...\n",
            "Setting up libssh2-1:amd64 (1.10.0-3) ...\n",
            "Setting up libicu70:amd64 (70.1-2) ...\n",
            "Setting up libxml2:amd64 (2.9.13+dfsg-1ubuntu0.3) ...\n",
            "Setting up libaria2-0:amd64 (1.36.0-1) ...\n",
            "Setting up aria2 (1.36.0-1) ...\n",
            "Processing triggers for libc-bin (2.35-0ubuntu3.1) ...\n",
            "Updated git hooks.\n",
            "Git LFS initialized.\n",
            "Requirement already satisfied: requests in /root/miniconda3/envs/py3.9/lib/python3.9/site-packages (2.31.0)\n",
            "Requirement already satisfied: huggingface_hub in /root/miniconda3/envs/py3.9/lib/python3.9/site-packages (0.15.1)\n",
            "Requirement already satisfied: charset-normalizer<4,>=2 in /root/miniconda3/envs/py3.9/lib/python3.9/site-packages (from requests) (3.1.0)\n",
            "Requirement already satisfied: idna<4,>=2.5 in /root/miniconda3/envs/py3.9/lib/python3.9/site-packages (from requests) (3.4)\n",
            "Requirement already satisfied: urllib3<3,>=1.21.1 in /root/miniconda3/envs/py3.9/lib/python3.9/site-packages (from requests) (2.0.3)\n",
            "Requirement already satisfied: certifi>=2017.4.17 in /root/miniconda3/envs/py3.9/lib/python3.9/site-packages (from requests) (2023.5.7)\n",
            "Requirement already satisfied: filelock in /root/miniconda3/envs/py3.9/lib/python3.9/site-packages (from huggingface_hub) (3.12.2)\n",
            "Requirement already satisfied: fsspec in /root/miniconda3/envs/py3.9/lib/python3.9/site-packages (from huggingface_hub) (2023.6.0)\n",
            "Requirement already satisfied: tqdm>=4.42.1 in /root/miniconda3/envs/py3.9/lib/python3.9/site-packages (from huggingface_hub) (4.65.0)\n",
            "Requirement already satisfied: pyyaml>=5.1 in /root/miniconda3/envs/py3.9/lib/python3.9/site-packages (from huggingface_hub) (6.0)\n",
            "Requirement already satisfied: typing-extensions>=3.7.4.3 in /root/miniconda3/envs/py3.9/lib/python3.9/site-packages (from huggingface_hub) (4.6.3)\n",
            "Requirement already satisfied: packaging>=20.9 in /root/miniconda3/envs/py3.9/lib/python3.9/site-packages (from huggingface_hub) (23.1)\n",
            "\u001b[33mWARNING: Running pip as the 'root' user can result in broken permissions and conflicting behaviour with the system package manager. It is recommended to use a virtual environment instead: https://pip.pypa.io/warnings/venv\u001b[0m\u001b[33m\n",
            "\u001b[0m"
          ]
        }
      ],
      "source": [
        "!apt-get update\n",
        "!apt-get install -y aria2\n",
        "!git lfs install\n",
        "!pip install requests huggingface_hub"
      ]
    },
    {
      "cell_type": "code",
      "execution_count": null,
      "metadata": {
        "id": "dqzd-Ul4iMPf",
        "outputId": "78ebb298-3c8b-47f2-b7db-c866d62e165c"
      },
      "outputs": [
        {
          "name": "stdout",
          "output_type": "stream",
          "text": [
            "/content\n"
          ]
        }
      ],
      "source": [
        "%cd /content/"
      ]
    },
    {
      "cell_type": "code",
      "execution_count": null,
      "metadata": {
        "id": "mmJ7tmaIifTR"
      },
      "outputs": [],
      "source": [
        "!git clone https://github.com/utensil/llm-playground"
      ]
    },
    {
      "cell_type": "code",
      "execution_count": null,
      "metadata": {
        "id": "29dpWyRujiSZ",
        "outputId": "2d99e6e6-4071-47b0-b338-fe5e1821118b"
      },
      "outputs": [
        {
          "name": "stdout",
          "output_type": "stream",
          "text": [
            "/content/llm-playground\n"
          ]
        }
      ],
      "source": [
        "%cd /content/llm-playground"
      ]
    },
    {
      "cell_type": "code",
      "execution_count": null,
      "metadata": {
        "id": "c8nAsJ4ggJ77",
        "scrolled": true,
        "outputId": "056169e5-3d85-4c2b-cd8c-82173595931d"
      },
      "outputs": [
        {
          "name": "stdout",
          "output_type": "stream",
          "text": [
            "Working directory changed to: /content/llm-playground/helper/..\n",
            "Skipping: .gitattributes\n",
            "Downloading the model to models/tiiuae_falcon-40b\n",
            "Running: aria2c -c -x 16 -s 16 -k 1M https://huggingface.co/tiiuae/falcon-40b/resolve/main/README.md -d models/tiiuae_falcon-40b -o README.md\n",
            "Running: aria2c -c -x 16 -s 16 -k 1M https://huggingface.co/tiiuae/falcon-40b/resolve/main/config.json -d models/tiiuae_falcon-40b -o config.json\n",
            "Running: aria2c -c -x 16 -s 16 -k 1M https://huggingface.co/tiiuae/falcon-40b/resolve/main/configuration_RW.py -d models/tiiuae_falcon-40b -o configuration_RW.py\n",
            "Running: aria2c -c -x 16 -s 16 -k 1M https://huggingface.co/tiiuae/falcon-40b/resolve/main/generation_config.json -d models/tiiuae_falcon-40b -o generation_config.json\n",
            "Running: aria2c -c -x 16 -s 16 -k 1M https://huggingface.co/tiiuae/falcon-40b/resolve/main/modelling_RW.py -d models/tiiuae_falcon-40b -o modelling_RW.py\n",
            "Running: aria2c -c -x 16 -s 16 -k 1M https://huggingface.co/tiiuae/falcon-40b/resolve/main/pytorch_model-00001-of-00009.bin -d models/tiiuae_falcon-40b -o pytorch_model-00001-of-00009.bin\n",
            "\n",
            "\n",
            "06/15 05:45:08 [\u001b[1;32mNOTICE\u001b[0m] Downloading 1 item(s)\n",
            "06/15 05:45:08 [\u001b[1;32mNOTICE\u001b[0m] Downloading 1 item(s)\n",
            "Running: aria2c -c -x 16 -s 16 -k 1M https://huggingface.co/tiiuae/falcon-40b/resolve/main/pytorch_model-00002-of-00009.bin -d models/tiiuae_falcon-40b -o pytorch_model-00002-of-00009.bin\n",
            "\n",
            "06/15 05:45:08 [\u001b[1;32mNOTICE\u001b[0m] Downloading 1 item(s)\n",
            "Running: aria2c -c -x 16 -s 16 -k 1M https://huggingface.co/tiiuae/falcon-40b/resolve/main/pytorch_model-00003-of-00009.bin -d models/tiiuae_falcon-40b -o pytorch_model-00003-of-00009.bin\n",
            "  0%|                                                    | 0/18 [00:00<?, ?it/s]\n",
            "\n",
            "06/15 05:45:08 [\u001b[1;32mNOTICE\u001b[0m] Downloading 1 item(s)\n",
            "06/15 05:45:08 [\u001b[1;32mNOTICE\u001b[0m] Downloading 1 item(s)\n",
            "\n",
            "06/15 05:45:08 [\u001b[1;32mNOTICE\u001b[0m] Downloading 1 item(s)\n",
            "\n",
            "06/15 05:45:08 [\u001b[1;32mNOTICE\u001b[0m] Downloading 1 item(s)\n",
            "\n",
            "06/15 05:45:08 [\u001b[1;32mNOTICE\u001b[0m] Downloading 1 item(s)\n",
            "\n",
            "06/15 05:45:09 [\u001b[1;32mNOTICE\u001b[0m] Download complete: models/tiiuae_falcon-40b/config.json\n",
            "\n",
            "Download Results:\n",
            "gid   |stat|avg speed  |path/URI\n",
            "======+====+===========+=======================================================\n",
            "2dbe53|\u001b[1;32mOK\u001b[0m  |        n/a|models/tiiuae_falcon-40b/config.json\n",
            "\n",
            "Status Legend:\n",
            "(OK):download completed.\n",
            "\n",
            "06/15 05:45:09 [\u001b[1;32mNOTICE\u001b[0m] Download complete: models/tiiuae_falcon-40b/generation_config.json\n",
            "\n",
            "Download Results:\n",
            "gid   |stat|avg speed  |path/URI\n",
            "======+====+===========+=======================================================\n",
            "a7d9d1|\u001b[1;32mOK\u001b[0m  |        n/a|models/tiiuae_falcon-40b/generation_config.json\n",
            "\n",
            "Status Legend:\n",
            "(OK):download completed.\n",
            "Running: aria2c -c -x 16 -s 16 -k 1M https://huggingface.co/tiiuae/falcon-40b/resolve/main/pytorch_model-00004-of-00009.bin -d models/tiiuae_falcon-40b -o pytorch_model-00004-of-00009.bin\n",
            "\n",
            "06/15 05:45:09 [\u001b[1;32mNOTICE\u001b[0m] CUID#7 - Redirecting to https://cdn-lfs.huggingface.co/repos/a3/72/a37288fd25de45b6a8bbb79801907289f6c12bb870db68f75b0024193da1f047/638cb048ee6ad66f85a176e980332b0d61cbddb2d5dc9b5ad1863d87e020350c?response-content-disposition=attachment%3B+filename*%3DUTF-8%27%27pytorch_model-00002-of-00009.bin%3B+filename%3D%22pytorch_model-00002-of-00009.bin%22%3B&response-content-type=application%2Foctet-stream&Expires=1687067109&Policy=eyJTdGF0ZW1lbnQiOlt7IlJlc291cmNlIjoiaHR0cHM6Ly9jZG4tbGZzLmh1Z2dpbmdmYWNlLmNvL3JlcG9zL2EzLzcyL2EzNzI4OGZkMjVkZTQ1YjZhOGJiYjc5ODAxOTA3Mjg5ZjZjMTJiYjg3MGRiNjhmNzViMDAyNDE5M2RhMWYwNDcvNjM4Y2IwNDhlZTZhZDY2Zjg1YTE3NmU5ODAzMzJiMGQ2MWNiZGRiMmQ1ZGM5YjVhZDE4NjNkODdlMDIwMzUwYz9yZXNwb25zZS1jb250ZW50LWRpc3Bvc2l0aW9uPSomcmVzcG9uc2UtY29udGVudC10eXBlPSoiLCJDb25kaXRpb24iOnsiRGF0ZUxlc3NUaGFuIjp7IkFXUzpFcG9jaFRpbWUiOjE2ODcwNjcxMDl9fX1dfQ__&Signature=qcaiIKTprIbKlMPbQ-JNEscTF14N-Hyz6rDa-VFqrQSkzP1uhqMK4UyqLl6QIJKjNY9feayUhz7BWL-f8rAWlphJxUm5X6ElRqKo9bBVxPFkLLyKQ6rA9qLTQF6YNOmPReGyc6RByz69v1YYXnVJWW-fj522no4vBDxLFcKP8lopJjRwLt9v6jLwvXHUQjmsTVRBjvPIunQdD6JOvlqJIH9DAGeMuNIn%7EeWOQwSDDie7PvbNyZDnnv57%7EnszSSnfLRDgRt4djJBt2%7EGHbgrKdF-jfkjn1TCGoy3UlSQjc04d-eCq0OnSs1uVjBYc6cxCoKa46yEEzTDwGF29ov1lkw__&Key-Pair-Id=KVTP0A1DKRTAX\n",
            "Running: aria2c -c -x 16 -s 16 -k 1M https://huggingface.co/tiiuae/falcon-40b/resolve/main/pytorch_model-00005-of-00009.bin -d models/tiiuae_falcon-40b -o pytorch_model-00005-of-00009.bin\n",
            "\n",
            "06/15 05:45:09 [\u001b[1;32mNOTICE\u001b[0m] Downloading 1 item(s)\n",
            "\n",
            "06/15 05:45:09 [\u001b[1;32mNOTICE\u001b[0m] Downloading 1 item(s)\n",
            "\n",
            "06/15 05:45:09 [\u001b[1;32mNOTICE\u001b[0m] Download complete: models/tiiuae_falcon-40b/configuration_RW.py\n",
            "\n",
            "Download Results:\n",
            "gid   |stat|avg speed  |path/URI\n",
            "======+====+===========+=======================================================\n",
            "e733af|\u001b[1;32mOK\u001b[0m  |        n/a|models/tiiuae_falcon-40b/configuration_RW.py\n",
            "\n",
            "Status Legend:\n",
            "(OK):download completed.\n",
            "Running: aria2c -c -x 16 -s 16 -k 1M https://huggingface.co/tiiuae/falcon-40b/resolve/main/pytorch_model-00006-of-00009.bin -d models/tiiuae_falcon-40b -o pytorch_model-00006-of-00009.bin\n",
            "\n",
            "06/15 05:45:09 [\u001b[1;32mNOTICE\u001b[0m] CUID#7 - Redirecting to https://cdn-lfs.huggingface.co/repos/a3/72/a37288fd25de45b6a8bbb79801907289f6c12bb870db68f75b0024193da1f047/b2125ceee3992a093f9808efc9a720643a44e59b17baa77eddb0fbec6965ce5a?response-content-disposition=attachment%3B+filename*%3DUTF-8%27%27pytorch_model-00003-of-00009.bin%3B+filename%3D%22pytorch_model-00003-of-00009.bin%22%3B&response-content-type=application%2Foctet-stream&Expires=1687066133&Policy=eyJTdGF0ZW1lbnQiOlt7IlJlc291cmNlIjoiaHR0cHM6Ly9jZG4tbGZzLmh1Z2dpbmdmYWNlLmNvL3JlcG9zL2EzLzcyL2EzNzI4OGZkMjVkZTQ1YjZhOGJiYjc5ODAxOTA3Mjg5ZjZjMTJiYjg3MGRiNjhmNzViMDAyNDE5M2RhMWYwNDcvYjIxMjVjZWVlMzk5MmEwOTNmOTgwOGVmYzlhNzIwNjQzYTQ0ZTU5YjE3YmFhNzdlZGRiMGZiZWM2OTY1Y2U1YT9yZXNwb25zZS1jb250ZW50LWRpc3Bvc2l0aW9uPSomcmVzcG9uc2UtY29udGVudC10eXBlPSoiLCJDb25kaXRpb24iOnsiRGF0ZUxlc3NUaGFuIjp7IkFXUzpFcG9jaFRpbWUiOjE2ODcwNjYxMzN9fX1dfQ__&Signature=cM5ZY1tGizGOPCekqbqXNG5R9hOG9fEGSIiHddzvlbEuUpPCpGYQXHJbnFEp3%7EhV2o7643PCiw6hhwLdqyXuyi7D9z7qdV3oPuWxRHkQWWytXHpsMn7USxjDTon%7ETSmhNAHN8YNjgAFQFLS-uvqerOJFEwcV5jkA7wbHEEjj%7Ed4I0RgIsK4TvlxAqrQUPEH9JMi%7EQ8e552WFjDZRwCCAdLHGG0qOuTlRjFq2XjcrFbXeN4eSh9BlovygdBsfz1osYQPd3w0entqVpXyE3r89krBZiP%7EH5fEni2KMF0WL-dmK0S6yybW3VSgXCp5raB48WHaqju7WzP%7EK6aSb6A6JoA__&Key-Pair-Id=KVTP0A1DKRTAX\n",
            "\n",
            "06/15 05:45:09 [\u001b[1;32mNOTICE\u001b[0m] Downloading 1 item(s)\n",
            "\n",
            "06/15 05:45:09 [\u001b[1;32mNOTICE\u001b[0m] Download complete: models/tiiuae_falcon-40b/modelling_RW.py\n",
            "\n",
            "Download Results:\n",
            "gid   |stat|avg speed  |path/URI\n",
            "======+====+===========+=======================================================\n",
            "d1f3e7|\u001b[1;32mOK\u001b[0m  |   1.3MiB/s|models/tiiuae_falcon-40b/modelling_RW.py\n",
            "\n",
            "Status Legend:\n",
            "(OK):download completed.\n",
            "Running: aria2c -c -x 16 -s 16 -k 1M https://huggingface.co/tiiuae/falcon-40b/resolve/main/pytorch_model-00007-of-00009.bin -d models/tiiuae_falcon-40b -o pytorch_model-00007-of-00009.bin\n",
            "\n",
            "06/15 05:45:09 [\u001b[1;32mNOTICE\u001b[0m] Downloading 1 item(s)\n",
            "\n",
            "06/15 05:45:09 [\u001b[1;32mNOTICE\u001b[0m] CUID#7 - Redirecting to https://cdn-lfs.huggingface.co/repos/a3/72/a37288fd25de45b6a8bbb79801907289f6c12bb870db68f75b0024193da1f047/384bd92e6d1d0b6a133b1d81bad915a10d954d1bfcdf4fdc8b6d0d81b4f5e9e8?response-content-disposition=attachment%3B+filename*%3DUTF-8%27%27pytorch_model-00001-of-00009.bin%3B+filename%3D%22pytorch_model-00001-of-00009.bin%22%3B&response-content-type=application%2Foctet-stream&Expires=1687067109&Policy=eyJTdGF0ZW1lbnQiOlt7IlJlc291cmNlIjoiaHR0cHM6Ly9jZG4tbGZzLmh1Z2dpbmdmYWNlLmNvL3JlcG9zL2EzLzcyL2EzNzI4OGZkMjVkZTQ1YjZhOGJiYjc5ODAxOTA3Mjg5ZjZjMTJiYjg3MGRiNjhmNzViMDAyNDE5M2RhMWYwNDcvMzg0YmQ5MmU2ZDFkMGI2YTEzM2IxZDgxYmFkOTE1YTEwZDk1NGQxYmZjZGY0ZmRjOGI2ZDBkODFiNGY1ZTllOD9yZXNwb25zZS1jb250ZW50LWRpc3Bvc2l0aW9uPSomcmVzcG9uc2UtY29udGVudC10eXBlPSoiLCJDb25kaXRpb24iOnsiRGF0ZUxlc3NUaGFuIjp7IkFXUzpFcG9jaFRpbWUiOjE2ODcwNjcxMDl9fX1dfQ__&Signature=zIwFD9KbYiBsFzQwNYmB9ZcaNTFW7W2I28W4bWipYXrLd7h91vUt%7Et0dw3D0rv8XElaeRwG54KqyMYFkJq6ME6PVHzDRJHbS-h5gf9X2hx-wYne4oAdGS33uQPRgL4QODw9u8gEyIccArtg6AroRPe87cfyrWmMy-uA0AGxs8UmzEukRhADx3wzvAHuOG1XqnsXw76lQCyW8qqokeqt%7Ef3ExacluCHjwhpaRtBZYjy%7EJDmOqerX163nj%7EqSfmnamJAv5X6JCxxLIVLf5dF1SiZmaWBysb7vaqduC2Q6nHYsm7C9HkfWdOFpRCR9Uk90pb%7EFzqEJcp6iFryahNbDn8g__&Key-Pair-Id=KVTP0A1DKRTAX\n",
            "\n",
            "06/15 05:45:09 [\u001b[1;32mNOTICE\u001b[0m] Download complete: models/tiiuae_falcon-40b/README.md\n",
            "\n",
            "Download Results:\n",
            "gid   |stat|avg speed  |path/URI\n",
            "======+====+===========+=======================================================\n",
            "2d7327|\u001b[1;32mOK\u001b[0m  |        n/a|models/tiiuae_falcon-40b/README.md\n",
            "\n",
            "Status Legend:\n",
            "(OK):download completed.\n",
            "  6%|██▍                                         | 1/18 [00:00<00:05,  3.01it/s]Running: aria2c -c -x 16 -s 16 -k 1M https://huggingface.co/tiiuae/falcon-40b/resolve/main/pytorch_model-00008-of-00009.bin -d models/tiiuae_falcon-40b -o pytorch_model-00008-of-00009.bin\n",
            "\n",
            "06/15 05:45:09 [\u001b[1;32mNOTICE\u001b[0m] Downloading 1 item(s)\n",
            "\n",
            "06/15 05:45:09 [\u001b[1;32mNOTICE\u001b[0m] CUID#7 - Redirecting to https://cdn-lfs.huggingface.co/repos/a3/72/a37288fd25de45b6a8bbb79801907289f6c12bb870db68f75b0024193da1f047/ae277c7c5aef0d0fea9e9e6b13113dfef0078a36c78805bebe14d32e9ab887d1?response-content-disposition=attachment%3B+filename*%3DUTF-8%27%27pytorch_model-00005-of-00009.bin%3B+filename%3D%22pytorch_model-00005-of-00009.bin%22%3B&response-content-type=application%2Foctet-stream&Expires=1687067109&Policy=eyJTdGF0ZW1lbnQiOlt7IlJlc291cmNlIjoiaHR0cHM6Ly9jZG4tbGZzLmh1Z2dpbmdmYWNlLmNvL3JlcG9zL2EzLzcyL2EzNzI4OGZkMjVkZTQ1YjZhOGJiYjc5ODAxOTA3Mjg5ZjZjMTJiYjg3MGRiNjhmNzViMDAyNDE5M2RhMWYwNDcvYWUyNzdjN2M1YWVmMGQwZmVhOWU5ZTZiMTMxMTNkZmVmMDA3OGEzNmM3ODgwNWJlYmUxNGQzMmU5YWI4ODdkMT9yZXNwb25zZS1jb250ZW50LWRpc3Bvc2l0aW9uPSomcmVzcG9uc2UtY29udGVudC10eXBlPSoiLCJDb25kaXRpb24iOnsiRGF0ZUxlc3NUaGFuIjp7IkFXUzpFcG9jaFRpbWUiOjE2ODcwNjcxMDl9fX1dfQ__&Signature=eLxmekLzYElRaknbIj7jxxJcmBu%7ElzOsFZo4aRZm9Y89lSJX6wbr%7Eu0TN%7EDWMk5Sgvmb%7EGAn6MgZdVbGggpLt%7EakU5J0lWcAehRpKnmDTqe0WMBGYTUXm6tiKguE9wEkrV0Qd6Q2xIs1sBMB0CHaYtUr%7E8IrjonjBqMNN6%7EinUqOhPRz4HZ0XkGpZw3YrOpc3H4ATO7JJQq8RqwncMERLx%7EDN9Wprm2P5tHf-HuhlnXbFKS%7E-vu2ciIIxMHHeNckETZ1QQKTwCyZCNCSe5HLmnFGpE8I0KYA79d%7EniWNtAuyON5LySAoGQsp4ql0W8-CrYuEZzufE6nC3L-C2CIH4A__&Key-Pair-Id=KVTP0A1DKRTAX\n",
            "\n",
            "06/15 05:45:09 [\u001b[1;32mNOTICE\u001b[0m] CUID#7 - Redirecting to https://cdn-lfs.huggingface.co/repos/a3/72/a37288fd25de45b6a8bbb79801907289f6c12bb870db68f75b0024193da1f047/d6376a884bc80a6ea95da83f963508e57d8508333c424bed7beda565e4aaa0f3?response-content-disposition=attachment%3B+filename*%3DUTF-8%27%27pytorch_model-00006-of-00009.bin%3B+filename%3D%22pytorch_model-00006-of-00009.bin%22%3B&response-content-type=application%2Foctet-stream&Expires=1687066028&Policy=eyJTdGF0ZW1lbnQiOlt7IlJlc291cmNlIjoiaHR0cHM6Ly9jZG4tbGZzLmh1Z2dpbmdmYWNlLmNvL3JlcG9zL2EzLzcyL2EzNzI4OGZkMjVkZTQ1YjZhOGJiYjc5ODAxOTA3Mjg5ZjZjMTJiYjg3MGRiNjhmNzViMDAyNDE5M2RhMWYwNDcvZDYzNzZhODg0YmM4MGE2ZWE5NWRhODNmOTYzNTA4ZTU3ZDg1MDgzMzNjNDI0YmVkN2JlZGE1NjVlNGFhYTBmMz9yZXNwb25zZS1jb250ZW50LWRpc3Bvc2l0aW9uPSomcmVzcG9uc2UtY29udGVudC10eXBlPSoiLCJDb25kaXRpb24iOnsiRGF0ZUxlc3NUaGFuIjp7IkFXUzpFcG9jaFRpbWUiOjE2ODcwNjYwMjh9fX1dfQ__&Signature=uw4t-E-EChUWEOw-rdrsG4TSNXKYoVuami53GS5PeNIi6EuWoZHqKn3SVyh7Q8eMTL%7EzrCFpWegSDky1usa2Jhj%7E7Xr5I2SR8gbJZdZ4nYaJhpgR2gtzDA0YkWXJm542jhlExxe7h6DuhTh4n7QLjq3eypA5bO4zEFzji-bI0tgfYJyXVVAlYuYP3Wfvx9a7masy7Z1RUGiIgWc1UxAKSuG5PYjWlLnwo9ZqxNfBW7NIVZuMG%7E7s4Dx9RSGNz2rMTZMxllwNnjqcHLIyP74fieeTdpYmj6NxMWjvQ11lBwCqfKK5LGPGI97LVJ3yuS4n4B4jPoIzS-hWvY7Qflp0Ow__&Key-Pair-Id=KVTP0A1DKRTAX\n",
            "\n",
            "06/15 05:45:09 [\u001b[1;32mNOTICE\u001b[0m] CUID#7 - Redirecting to https://cdn-lfs.huggingface.co/repos/a3/72/a37288fd25de45b6a8bbb79801907289f6c12bb870db68f75b0024193da1f047/2fc011e39d4a9c5958630b1bb946dec9ca54adbccc52804fed545490f995b20b?response-content-disposition=attachment%3B+filename*%3DUTF-8%27%27pytorch_model-00004-of-00009.bin%3B+filename%3D%22pytorch_model-00004-of-00009.bin%22%3B&response-content-type=application%2Foctet-stream&Expires=1687067109&Policy=eyJTdGF0ZW1lbnQiOlt7IlJlc291cmNlIjoiaHR0cHM6Ly9jZG4tbGZzLmh1Z2dpbmdmYWNlLmNvL3JlcG9zL2EzLzcyL2EzNzI4OGZkMjVkZTQ1YjZhOGJiYjc5ODAxOTA3Mjg5ZjZjMTJiYjg3MGRiNjhmNzViMDAyNDE5M2RhMWYwNDcvMmZjMDExZTM5ZDRhOWM1OTU4NjMwYjFiYjk0NmRlYzljYTU0YWRiY2NjNTI4MDRmZWQ1NDU0OTBmOTk1YjIwYj9yZXNwb25zZS1jb250ZW50LWRpc3Bvc2l0aW9uPSomcmVzcG9uc2UtY29udGVudC10eXBlPSoiLCJDb25kaXRpb24iOnsiRGF0ZUxlc3NUaGFuIjp7IkFXUzpFcG9jaFRpbWUiOjE2ODcwNjcxMDl9fX1dfQ__&Signature=KtzoxQ7vQU4YaLXkR4-bvgUXbNysfSEhY3XyJghRGnduJ-iG9tPmqZv8H73KbLTYtn%7EASbX5R9Y%7ETiVYoDuf9JRugtx22A7WTBDf-8x48o0sXheDg%7E8gl%7ERxA1oXt-a-C9LnbxcnM83388SoAKUeNpQRX6kOup7uReaO6QoXaBg0rvcwMEV7-bT4xuy9W9lUiUKF-0EbGL5G5IdQLR6NIYYQfSILoASmFM8iWOS%7E8gZZ7ejz5alGn2S%7EgWfd0fbsNTiIjTT7cayoYTLROxnO51tbXjca7pBb4dlGbOx1XERPUAEj7eEGucwxLvJp9%7EKhYsSDsQ01k48YJOuC0m37uQ__&Key-Pair-Id=KVTP0A1DKRTAX\n",
            "\n",
            "06/15 05:45:09 [\u001b[1;32mNOTICE\u001b[0m] CUID#9 - Redirecting to https://cdn-lfs.huggingface.co/repos/a3/72/a37288fd25de45b6a8bbb79801907289f6c12bb870db68f75b0024193da1f047/638cb048ee6ad66f85a176e980332b0d61cbddb2d5dc9b5ad1863d87e020350c?response-content-disposition=attachment%3B+filename*%3DUTF-8%27%27pytorch_model-00002-of-00009.bin%3B+filename%3D%22pytorch_model-00002-of-00009.bin%22%3B&response-content-type=application%2Foctet-stream&Expires=1687067109&Policy=eyJTdGF0ZW1lbnQiOlt7IlJlc291cmNlIjoiaHR0cHM6Ly9jZG4tbGZzLmh1Z2dpbmdmYWNlLmNvL3JlcG9zL2EzLzcyL2EzNzI4OGZkMjVkZTQ1YjZhOGJiYjc5ODAxOTA3Mjg5ZjZjMTJiYjg3MGRiNjhmNzViMDAyNDE5M2RhMWYwNDcvNjM4Y2IwNDhlZTZhZDY2Zjg1YTE3NmU5ODAzMzJiMGQ2MWNiZGRiMmQ1ZGM5YjVhZDE4NjNkODdlMDIwMzUwYz9yZXNwb25zZS1jb250ZW50LWRpc3Bvc2l0aW9uPSomcmVzcG9uc2UtY29udGVudC10eXBlPSoiLCJDb25kaXRpb24iOnsiRGF0ZUxlc3NUaGFuIjp7IkFXUzpFcG9jaFRpbWUiOjE2ODcwNjcxMDl9fX1dfQ__&Signature=qcaiIKTprIbKlMPbQ-JNEscTF14N-Hyz6rDa-VFqrQSkzP1uhqMK4UyqLl6QIJKjNY9feayUhz7BWL-f8rAWlphJxUm5X6ElRqKo9bBVxPFkLLyKQ6rA9qLTQF6YNOmPReGyc6RByz69v1YYXnVJWW-fj522no4vBDxLFcKP8lopJjRwLt9v6jLwvXHUQjmsTVRBjvPIunQdD6JOvlqJIH9DAGeMuNIn%7EeWOQwSDDie7PvbNyZDnnv57%7EnszSSnfLRDgRt4djJBt2%7EGHbgrKdF-jfkjn1TCGoy3UlSQjc04d-eCq0OnSs1uVjBYc6cxCoKa46yEEzTDwGF29ov1lkw__&Key-Pair-Id=KVTP0A1DKRTAX\n",
            "\n",
            "06/15 05:45:09 [\u001b[1;32mNOTICE\u001b[0m] CUID#9 - Redirecting to https://cdn-lfs.huggingface.co/repos/a3/72/a37288fd25de45b6a8bbb79801907289f6c12bb870db68f75b0024193da1f047/384bd92e6d1d0b6a133b1d81bad915a10d954d1bfcdf4fdc8b6d0d81b4f5e9e8?response-content-disposition=attachment%3B+filename*%3DUTF-8%27%27pytorch_model-00001-of-00009.bin%3B+filename%3D%22pytorch_model-00001-of-00009.bin%22%3B&response-content-type=application%2Foctet-stream&Expires=1687065322&Policy=eyJTdGF0ZW1lbnQiOlt7IlJlc291cmNlIjoiaHR0cHM6Ly9jZG4tbGZzLmh1Z2dpbmdmYWNlLmNvL3JlcG9zL2EzLzcyL2EzNzI4OGZkMjVkZTQ1YjZhOGJiYjc5ODAxOTA3Mjg5ZjZjMTJiYjg3MGRiNjhmNzViMDAyNDE5M2RhMWYwNDcvMzg0YmQ5MmU2ZDFkMGI2YTEzM2IxZDgxYmFkOTE1YTEwZDk1NGQxYmZjZGY0ZmRjOGI2ZDBkODFiNGY1ZTllOD9yZXNwb25zZS1jb250ZW50LWRpc3Bvc2l0aW9uPSomcmVzcG9uc2UtY29udGVudC10eXBlPSoiLCJDb25kaXRpb24iOnsiRGF0ZUxlc3NUaGFuIjp7IkFXUzpFcG9jaFRpbWUiOjE2ODcwNjUzMjJ9fX1dfQ__&Signature=csVA2SD8O-2cWFIH-253CTiiWhJS6XzRDiYDE1ZZibj4rBBm-DtG%7EbJUszAi20eIgmD9yNkICD5vdSajkJ8SyxghFQBK3cSLiMiWWlR0PbseIgV0IeAw4mKt4bHs%7EHZiMUv7JDQ5yB0GffavCb-5qm5Ad8psgnpQ7oILtUBnuGCPb0xSLFTC3-294Zw-KG8mvGtF0PekGzumxuV6Hq-9yJlkZSwn1JoX4NG-jfKBo5T8OHjrdqt9mO-mGCtZtjjnY1jO9wVH6RCT1nt47B68s5sthkt0CyeQ24kXx8uQGb2QtE2i92FTLSAhyLvMX0n7bFMLT4Rnd4AOJZdoB6hzrQ__&Key-Pair-Id=KVTP0A1DKRTAX\n",
            "\n",
            "06/15 05:45:09 [\u001b[1;32mNOTICE\u001b[0m] CUID#12 - Redirecting to https://cdn-lfs.huggingface.co/repos/a3/72/a37288fd25de45b6a8bbb79801907289f6c12bb870db68f75b0024193da1f047/638cb048ee6ad66f85a176e980332b0d61cbddb2d5dc9b5ad1863d87e020350c?response-content-disposition=attachment%3B+filename*%3DUTF-8%27%27pytorch_model-00002-of-00009.bin%3B+filename%3D%22pytorch_model-00002-of-00009.bin%22%3B&response-content-type=application%2Foctet-stream&Expires=1687067109&Policy=eyJTdGF0ZW1lbnQiOlt7IlJlc291cmNlIjoiaHR0cHM6Ly9jZG4tbGZzLmh1Z2dpbmdmYWNlLmNvL3JlcG9zL2EzLzcyL2EzNzI4OGZkMjVkZTQ1YjZhOGJiYjc5ODAxOTA3Mjg5ZjZjMTJiYjg3MGRiNjhmNzViMDAyNDE5M2RhMWYwNDcvNjM4Y2IwNDhlZTZhZDY2Zjg1YTE3NmU5ODAzMzJiMGQ2MWNiZGRiMmQ1ZGM5YjVhZDE4NjNkODdlMDIwMzUwYz9yZXNwb25zZS1jb250ZW50LWRpc3Bvc2l0aW9uPSomcmVzcG9uc2UtY29udGVudC10eXBlPSoiLCJDb25kaXRpb24iOnsiRGF0ZUxlc3NUaGFuIjp7IkFXUzpFcG9jaFRpbWUiOjE2ODcwNjcxMDl9fX1dfQ__&Signature=qcaiIKTprIbKlMPbQ-JNEscTF14N-Hyz6rDa-VFqrQSkzP1uhqMK4UyqLl6QIJKjNY9feayUhz7BWL-f8rAWlphJxUm5X6ElRqKo9bBVxPFkLLyKQ6rA9qLTQF6YNOmPReGyc6RByz69v1YYXnVJWW-fj522no4vBDxLFcKP8lopJjRwLt9v6jLwvXHUQjmsTVRBjvPIunQdD6JOvlqJIH9DAGeMuNIn%7EeWOQwSDDie7PvbNyZDnnv57%7EnszSSnfLRDgRt4djJBt2%7EGHbgrKdF-jfkjn1TCGoy3UlSQjc04d-eCq0OnSs1uVjBYc6cxCoKa46yEEzTDwGF29ov1lkw__&Key-Pair-Id=KVTP0A1DKRTAX\n",
            "\n",
            "06/15 05:45:09 [\u001b[1;32mNOTICE\u001b[0m] CUID#15 - Redirecting to https://cdn-lfs.huggingface.co/repos/a3/72/a37288fd25de45b6a8bbb79801907289f6c12bb870db68f75b0024193da1f047/638cb048ee6ad66f85a176e980332b0d61cbddb2d5dc9b5ad1863d87e020350c?response-content-disposition=attachment%3B+filename*%3DUTF-8%27%27pytorch_model-00002-of-00009.bin%3B+filename%3D%22pytorch_model-00002-of-00009.bin%22%3B&response-content-type=application%2Foctet-stream&Expires=1687067109&Policy=eyJTdGF0ZW1lbnQiOlt7IlJlc291cmNlIjoiaHR0cHM6Ly9jZG4tbGZzLmh1Z2dpbmdmYWNlLmNvL3JlcG9zL2EzLzcyL2EzNzI4OGZkMjVkZTQ1YjZhOGJiYjc5ODAxOTA3Mjg5ZjZjMTJiYjg3MGRiNjhmNzViMDAyNDE5M2RhMWYwNDcvNjM4Y2IwNDhlZTZhZDY2Zjg1YTE3NmU5ODAzMzJiMGQ2MWNiZGRiMmQ1ZGM5YjVhZDE4NjNkODdlMDIwMzUwYz9yZXNwb25zZS1jb250ZW50LWRpc3Bvc2l0aW9uPSomcmVzcG9uc2UtY29udGVudC10eXBlPSoiLCJDb25kaXRpb24iOnsiRGF0ZUxlc3NUaGFuIjp7IkFXUzpFcG9jaFRpbWUiOjE2ODcwNjcxMDl9fX1dfQ__&Signature=qcaiIKTprIbKlMPbQ-JNEscTF14N-Hyz6rDa-VFqrQSkzP1uhqMK4UyqLl6QIJKjNY9feayUhz7BWL-f8rAWlphJxUm5X6ElRqKo9bBVxPFkLLyKQ6rA9qLTQF6YNOmPReGyc6RByz69v1YYXnVJWW-fj522no4vBDxLFcKP8lopJjRwLt9v6jLwvXHUQjmsTVRBjvPIunQdD6JOvlqJIH9DAGeMuNIn%7EeWOQwSDDie7PvbNyZDnnv57%7EnszSSnfLRDgRt4djJBt2%7EGHbgrKdF-jfkjn1TCGoy3UlSQjc04d-eCq0OnSs1uVjBYc6cxCoKa46yEEzTDwGF29ov1lkw__&Key-Pair-Id=KVTP0A1DKRTAX\n",
            "\n",
            "06/15 05:45:09 [\u001b[1;32mNOTICE\u001b[0m] CUID#21 - Redirecting to https://cdn-lfs.huggingface.co/repos/a3/72/a37288fd25de45b6a8bbb79801907289f6c12bb870db68f75b0024193da1f047/638cb048ee6ad66f85a176e980332b0d61cbddb2d5dc9b5ad1863d87e020350c?response-content-disposition=attachment%3B+filename*%3DUTF-8%27%27pytorch_model-00002-of-00009.bin%3B+filename%3D%22pytorch_model-00002-of-00009.bin%22%3B&response-content-type=application%2Foctet-stream&Expires=1687067109&Policy=eyJTdGF0ZW1lbnQiOlt7IlJlc291cmNlIjoiaHR0cHM6Ly9jZG4tbGZzLmh1Z2dpbmdmYWNlLmNvL3JlcG9zL2EzLzcyL2EzNzI4OGZkMjVkZTQ1YjZhOGJiYjc5ODAxOTA3Mjg5ZjZjMTJiYjg3MGRiNjhmNzViMDAyNDE5M2RhMWYwNDcvNjM4Y2IwNDhlZTZhZDY2Zjg1YTE3NmU5ODAzMzJiMGQ2MWNiZGRiMmQ1ZGM5YjVhZDE4NjNkODdlMDIwMzUwYz9yZXNwb25zZS1jb250ZW50LWRpc3Bvc2l0aW9uPSomcmVzcG9uc2UtY29udGVudC10eXBlPSoiLCJDb25kaXRpb24iOnsiRGF0ZUxlc3NUaGFuIjp7IkFXUzpFcG9jaFRpbWUiOjE2ODcwNjcxMDl9fX1dfQ__&Signature=qcaiIKTprIbKlMPbQ-JNEscTF14N-Hyz6rDa-VFqrQSkzP1uhqMK4UyqLl6QIJKjNY9feayUhz7BWL-f8rAWlphJxUm5X6ElRqKo9bBVxPFkLLyKQ6rA9qLTQF6YNOmPReGyc6RByz69v1YYXnVJWW-fj522no4vBDxLFcKP8lopJjRwLt9v6jLwvXHUQjmsTVRBjvPIunQdD6JOvlqJIH9DAGeMuNIn%7EeWOQwSDDie7PvbNyZDnnv57%7EnszSSnfLRDgRt4djJBt2%7EGHbgrKdF-jfkjn1TCGoy3UlSQjc04d-eCq0OnSs1uVjBYc6cxCoKa46yEEzTDwGF29ov1lkw__&Key-Pair-Id=KVTP0A1DKRTAX\n",
            "\n",
            "06/15 05:45:09 [\u001b[1;32mNOTICE\u001b[0m] CUID#18 - Redirecting to https://cdn-lfs.huggingface.co/repos/a3/72/a37288fd25de45b6a8bbb79801907289f6c12bb870db68f75b0024193da1f047/638cb048ee6ad66f85a176e980332b0d61cbddb2d5dc9b5ad1863d87e020350c?response-content-disposition=attachment%3B+filename*%3DUTF-8%27%27pytorch_model-00002-of-00009.bin%3B+filename%3D%22pytorch_model-00002-of-00009.bin%22%3B&response-content-type=application%2Foctet-stream&Expires=1687067109&Policy=eyJTdGF0ZW1lbnQiOlt7IlJlc291cmNlIjoiaHR0cHM6Ly9jZG4tbGZzLmh1Z2dpbmdmYWNlLmNvL3JlcG9zL2EzLzcyL2EzNzI4OGZkMjVkZTQ1YjZhOGJiYjc5ODAxOTA3Mjg5ZjZjMTJiYjg3MGRiNjhmNzViMDAyNDE5M2RhMWYwNDcvNjM4Y2IwNDhlZTZhZDY2Zjg1YTE3NmU5ODAzMzJiMGQ2MWNiZGRiMmQ1ZGM5YjVhZDE4NjNkODdlMDIwMzUwYz9yZXNwb25zZS1jb250ZW50LWRpc3Bvc2l0aW9uPSomcmVzcG9uc2UtY29udGVudC10eXBlPSoiLCJDb25kaXRpb24iOnsiRGF0ZUxlc3NUaGFuIjp7IkFXUzpFcG9jaFRpbWUiOjE2ODcwNjcxMDl9fX1dfQ__&Signature=qcaiIKTprIbKlMPbQ-JNEscTF14N-Hyz6rDa-VFqrQSkzP1uhqMK4UyqLl6QIJKjNY9feayUhz7BWL-f8rAWlphJxUm5X6ElRqKo9bBVxPFkLLyKQ6rA9qLTQF6YNOmPReGyc6RByz69v1YYXnVJWW-fj522no4vBDxLFcKP8lopJjRwLt9v6jLwvXHUQjmsTVRBjvPIunQdD6JOvlqJIH9DAGeMuNIn%7EeWOQwSDDie7PvbNyZDnnv57%7EnszSSnfLRDgRt4djJBt2%7EGHbgrKdF-jfkjn1TCGoy3UlSQjc04d-eCq0OnSs1uVjBYc6cxCoKa46yEEzTDwGF29ov1lkw__&Key-Pair-Id=KVTP0A1DKRTAX\n",
            "\n",
            "06/15 05:45:09 [\u001b[1;32mNOTICE\u001b[0m] CUID#17 - Redirecting to https://cdn-lfs.huggingface.co/repos/a3/72/a37288fd25de45b6a8bbb79801907289f6c12bb870db68f75b0024193da1f047/638cb048ee6ad66f85a176e980332b0d61cbddb2d5dc9b5ad1863d87e020350c?response-content-disposition=attachment%3B+filename*%3DUTF-8%27%27pytorch_model-00002-of-00009.bin%3B+filename%3D%22pytorch_model-00002-of-00009.bin%22%3B&response-content-type=application%2Foctet-stream&Expires=1687067109&Policy=eyJTdGF0ZW1lbnQiOlt7IlJlc291cmNlIjoiaHR0cHM6Ly9jZG4tbGZzLmh1Z2dpbmdmYWNlLmNvL3JlcG9zL2EzLzcyL2EzNzI4OGZkMjVkZTQ1YjZhOGJiYjc5ODAxOTA3Mjg5ZjZjMTJiYjg3MGRiNjhmNzViMDAyNDE5M2RhMWYwNDcvNjM4Y2IwNDhlZTZhZDY2Zjg1YTE3NmU5ODAzMzJiMGQ2MWNiZGRiMmQ1ZGM5YjVhZDE4NjNkODdlMDIwMzUwYz9yZXNwb25zZS1jb250ZW50LWRpc3Bvc2l0aW9uPSomcmVzcG9uc2UtY29udGVudC10eXBlPSoiLCJDb25kaXRpb24iOnsiRGF0ZUxlc3NUaGFuIjp7IkFXUzpFcG9jaFRpbWUiOjE2ODcwNjcxMDl9fX1dfQ__&Signature=qcaiIKTprIbKlMPbQ-JNEscTF14N-Hyz6rDa-VFqrQSkzP1uhqMK4UyqLl6QIJKjNY9feayUhz7BWL-f8rAWlphJxUm5X6ElRqKo9bBVxPFkLLyKQ6rA9qLTQF6YNOmPReGyc6RByz69v1YYXnVJWW-fj522no4vBDxLFcKP8lopJjRwLt9v6jLwvXHUQjmsTVRBjvPIunQdD6JOvlqJIH9DAGeMuNIn%7EeWOQwSDDie7PvbNyZDnnv57%7EnszSSnfLRDgRt4djJBt2%7EGHbgrKdF-jfkjn1TCGoy3UlSQjc04d-eCq0OnSs1uVjBYc6cxCoKa46yEEzTDwGF29ov1lkw__&Key-Pair-Id=KVTP0A1DKRTAX\n",
            "\n",
            "06/15 05:45:09 [\u001b[1;32mNOTICE\u001b[0m] CUID#22 - Redirecting to https://cdn-lfs.huggingface.co/repos/a3/72/a37288fd25de45b6a8bbb79801907289f6c12bb870db68f75b0024193da1f047/638cb048ee6ad66f85a176e980332b0d61cbddb2d5dc9b5ad1863d87e020350c?response-content-disposition=attachment%3B+filename*%3DUTF-8%27%27pytorch_model-00002-of-00009.bin%3B+filename%3D%22pytorch_model-00002-of-00009.bin%22%3B&response-content-type=application%2Foctet-stream&Expires=1687067109&Policy=eyJTdGF0ZW1lbnQiOlt7IlJlc291cmNlIjoiaHR0cHM6Ly9jZG4tbGZzLmh1Z2dpbmdmYWNlLmNvL3JlcG9zL2EzLzcyL2EzNzI4OGZkMjVkZTQ1YjZhOGJiYjc5ODAxOTA3Mjg5ZjZjMTJiYjg3MGRiNjhmNzViMDAyNDE5M2RhMWYwNDcvNjM4Y2IwNDhlZTZhZDY2Zjg1YTE3NmU5ODAzMzJiMGQ2MWNiZGRiMmQ1ZGM5YjVhZDE4NjNkODdlMDIwMzUwYz9yZXNwb25zZS1jb250ZW50LWRpc3Bvc2l0aW9uPSomcmVzcG9uc2UtY29udGVudC10eXBlPSoiLCJDb25kaXRpb24iOnsiRGF0ZUxlc3NUaGFuIjp7IkFXUzpFcG9jaFRpbWUiOjE2ODcwNjcxMDl9fX1dfQ__&Signature=qcaiIKTprIbKlMPbQ-JNEscTF14N-Hyz6rDa-VFqrQSkzP1uhqMK4UyqLl6QIJKjNY9feayUhz7BWL-f8rAWlphJxUm5X6ElRqKo9bBVxPFkLLyKQ6rA9qLTQF6YNOmPReGyc6RByz69v1YYXnVJWW-fj522no4vBDxLFcKP8lopJjRwLt9v6jLwvXHUQjmsTVRBjvPIunQdD6JOvlqJIH9DAGeMuNIn%7EeWOQwSDDie7PvbNyZDnnv57%7EnszSSnfLRDgRt4djJBt2%7EGHbgrKdF-jfkjn1TCGoy3UlSQjc04d-eCq0OnSs1uVjBYc6cxCoKa46yEEzTDwGF29ov1lkw__&Key-Pair-Id=KVTP0A1DKRTAX\n",
            "\n",
            "06/15 05:45:09 [\u001b[1;32mNOTICE\u001b[0m] CUID#10 - Redirecting to https://cdn-lfs.huggingface.co/repos/a3/72/a37288fd25de45b6a8bbb79801907289f6c12bb870db68f75b0024193da1f047/638cb048ee6ad66f85a176e980332b0d61cbddb2d5dc9b5ad1863d87e020350c?response-content-disposition=attachment%3B+filename*%3DUTF-8%27%27pytorch_model-00002-of-00009.bin%3B+filename%3D%22pytorch_model-00002-of-00009.bin%22%3B&response-content-type=application%2Foctet-stream&Expires=1687067109&Policy=eyJTdGF0ZW1lbnQiOlt7IlJlc291cmNlIjoiaHR0cHM6Ly9jZG4tbGZzLmh1Z2dpbmdmYWNlLmNvL3JlcG9zL2EzLzcyL2EzNzI4OGZkMjVkZTQ1YjZhOGJiYjc5ODAxOTA3Mjg5ZjZjMTJiYjg3MGRiNjhmNzViMDAyNDE5M2RhMWYwNDcvNjM4Y2IwNDhlZTZhZDY2Zjg1YTE3NmU5ODAzMzJiMGQ2MWNiZGRiMmQ1ZGM5YjVhZDE4NjNkODdlMDIwMzUwYz9yZXNwb25zZS1jb250ZW50LWRpc3Bvc2l0aW9uPSomcmVzcG9uc2UtY29udGVudC10eXBlPSoiLCJDb25kaXRpb24iOnsiRGF0ZUxlc3NUaGFuIjp7IkFXUzpFcG9jaFRpbWUiOjE2ODcwNjcxMDl9fX1dfQ__&Signature=qcaiIKTprIbKlMPbQ-JNEscTF14N-Hyz6rDa-VFqrQSkzP1uhqMK4UyqLl6QIJKjNY9feayUhz7BWL-f8rAWlphJxUm5X6ElRqKo9bBVxPFkLLyKQ6rA9qLTQF6YNOmPReGyc6RByz69v1YYXnVJWW-fj522no4vBDxLFcKP8lopJjRwLt9v6jLwvXHUQjmsTVRBjvPIunQdD6JOvlqJIH9DAGeMuNIn%7EeWOQwSDDie7PvbNyZDnnv57%7EnszSSnfLRDgRt4djJBt2%7EGHbgrKdF-jfkjn1TCGoy3UlSQjc04d-eCq0OnSs1uVjBYc6cxCoKa46yEEzTDwGF29ov1lkw__&Key-Pair-Id=KVTP0A1DKRTAX\n",
            "\n",
            "06/15 05:45:09 [\u001b[1;32mNOTICE\u001b[0m] CUID#13 - Redirecting to https://cdn-lfs.huggingface.co/repos/a3/72/a37288fd25de45b6a8bbb79801907289f6c12bb870db68f75b0024193da1f047/638cb048ee6ad66f85a176e980332b0d61cbddb2d5dc9b5ad1863d87e020350c?response-content-disposition=attachment%3B+filename*%3DUTF-8%27%27pytorch_model-00002-of-00009.bin%3B+filename%3D%22pytorch_model-00002-of-00009.bin%22%3B&response-content-type=application%2Foctet-stream&Expires=1687067109&Policy=eyJTdGF0ZW1lbnQiOlt7IlJlc291cmNlIjoiaHR0cHM6Ly9jZG4tbGZzLmh1Z2dpbmdmYWNlLmNvL3JlcG9zL2EzLzcyL2EzNzI4OGZkMjVkZTQ1YjZhOGJiYjc5ODAxOTA3Mjg5ZjZjMTJiYjg3MGRiNjhmNzViMDAyNDE5M2RhMWYwNDcvNjM4Y2IwNDhlZTZhZDY2Zjg1YTE3NmU5ODAzMzJiMGQ2MWNiZGRiMmQ1ZGM5YjVhZDE4NjNkODdlMDIwMzUwYz9yZXNwb25zZS1jb250ZW50LWRpc3Bvc2l0aW9uPSomcmVzcG9uc2UtY29udGVudC10eXBlPSoiLCJDb25kaXRpb24iOnsiRGF0ZUxlc3NUaGFuIjp7IkFXUzpFcG9jaFRpbWUiOjE2ODcwNjcxMDl9fX1dfQ__&Signature=qcaiIKTprIbKlMPbQ-JNEscTF14N-Hyz6rDa-VFqrQSkzP1uhqMK4UyqLl6QIJKjNY9feayUhz7BWL-f8rAWlphJxUm5X6ElRqKo9bBVxPFkLLyKQ6rA9qLTQF6YNOmPReGyc6RByz69v1YYXnVJWW-fj522no4vBDxLFcKP8lopJjRwLt9v6jLwvXHUQjmsTVRBjvPIunQdD6JOvlqJIH9DAGeMuNIn%7EeWOQwSDDie7PvbNyZDnnv57%7EnszSSnfLRDgRt4djJBt2%7EGHbgrKdF-jfkjn1TCGoy3UlSQjc04d-eCq0OnSs1uVjBYc6cxCoKa46yEEzTDwGF29ov1lkw__&Key-Pair-Id=KVTP0A1DKRTAX\n",
            "\n",
            "06/15 05:45:09 [\u001b[1;32mNOTICE\u001b[0m] CUID#10 - Redirecting to https://cdn-lfs.huggingface.co/repos/a3/72/a37288fd25de45b6a8bbb79801907289f6c12bb870db68f75b0024193da1f047/384bd92e6d1d0b6a133b1d81bad915a10d954d1bfcdf4fdc8b6d0d81b4f5e9e8?response-content-disposition=attachment%3B+filename*%3DUTF-8%27%27pytorch_model-00001-of-00009.bin%3B+filename%3D%22pytorch_model-00001-of-00009.bin%22%3B&response-content-type=application%2Foctet-stream&Expires=1687067109&Policy=eyJTdGF0ZW1lbnQiOlt7IlJlc291cmNlIjoiaHR0cHM6Ly9jZG4tbGZzLmh1Z2dpbmdmYWNlLmNvL3JlcG9zL2EzLzcyL2EzNzI4OGZkMjVkZTQ1YjZhOGJiYjc5ODAxOTA3Mjg5ZjZjMTJiYjg3MGRiNjhmNzViMDAyNDE5M2RhMWYwNDcvMzg0YmQ5MmU2ZDFkMGI2YTEzM2IxZDgxYmFkOTE1YTEwZDk1NGQxYmZjZGY0ZmRjOGI2ZDBkODFiNGY1ZTllOD9yZXNwb25zZS1jb250ZW50LWRpc3Bvc2l0aW9uPSomcmVzcG9uc2UtY29udGVudC10eXBlPSoiLCJDb25kaXRpb24iOnsiRGF0ZUxlc3NUaGFuIjp7IkFXUzpFcG9jaFRpbWUiOjE2ODcwNjcxMDl9fX1dfQ__&Signature=zIwFD9KbYiBsFzQwNYmB9ZcaNTFW7W2I28W4bWipYXrLd7h91vUt%7Et0dw3D0rv8XElaeRwG54KqyMYFkJq6ME6PVHzDRJHbS-h5gf9X2hx-wYne4oAdGS33uQPRgL4QODw9u8gEyIccArtg6AroRPe87cfyrWmMy-uA0AGxs8UmzEukRhADx3wzvAHuOG1XqnsXw76lQCyW8qqokeqt%7Ef3ExacluCHjwhpaRtBZYjy%7EJDmOqerX163nj%7EqSfmnamJAv5X6JCxxLIVLf5dF1SiZmaWBysb7vaqduC2Q6nHYsm7C9HkfWdOFpRCR9Uk90pb%7EFzqEJcp6iFryahNbDn8g__&Key-Pair-Id=KVTP0A1DKRTAX\n",
            "\n",
            "06/15 05:45:09 [\u001b[1;32mNOTICE\u001b[0m] CUID#12 - Redirecting to https://cdn-lfs.huggingface.co/repos/a3/72/a37288fd25de45b6a8bbb79801907289f6c12bb870db68f75b0024193da1f047/384bd92e6d1d0b6a133b1d81bad915a10d954d1bfcdf4fdc8b6d0d81b4f5e9e8?response-content-disposition=attachment%3B+filename*%3DUTF-8%27%27pytorch_model-00001-of-00009.bin%3B+filename%3D%22pytorch_model-00001-of-00009.bin%22%3B&response-content-type=application%2Foctet-stream&Expires=1687067109&Policy=eyJTdGF0ZW1lbnQiOlt7IlJlc291cmNlIjoiaHR0cHM6Ly9jZG4tbGZzLmh1Z2dpbmdmYWNlLmNvL3JlcG9zL2EzLzcyL2EzNzI4OGZkMjVkZTQ1YjZhOGJiYjc5ODAxOTA3Mjg5ZjZjMTJiYjg3MGRiNjhmNzViMDAyNDE5M2RhMWYwNDcvMzg0YmQ5MmU2ZDFkMGI2YTEzM2IxZDgxYmFkOTE1YTEwZDk1NGQxYmZjZGY0ZmRjOGI2ZDBkODFiNGY1ZTllOD9yZXNwb25zZS1jb250ZW50LWRpc3Bvc2l0aW9uPSomcmVzcG9uc2UtY29udGVudC10eXBlPSoiLCJDb25kaXRpb24iOnsiRGF0ZUxlc3NUaGFuIjp7IkFXUzpFcG9jaFRpbWUiOjE2ODcwNjcxMDl9fX1dfQ__&Signature=zIwFD9KbYiBsFzQwNYmB9ZcaNTFW7W2I28W4bWipYXrLd7h91vUt%7Et0dw3D0rv8XElaeRwG54KqyMYFkJq6ME6PVHzDRJHbS-h5gf9X2hx-wYne4oAdGS33uQPRgL4QODw9u8gEyIccArtg6AroRPe87cfyrWmMy-uA0AGxs8UmzEukRhADx3wzvAHuOG1XqnsXw76lQCyW8qqokeqt%7Ef3ExacluCHjwhpaRtBZYjy%7EJDmOqerX163nj%7EqSfmnamJAv5X6JCxxLIVLf5dF1SiZmaWBysb7vaqduC2Q6nHYsm7C9HkfWdOFpRCR9Uk90pb%7EFzqEJcp6iFryahNbDn8g__&Key-Pair-Id=KVTP0A1DKRTAX\n",
            "\n",
            "06/15 05:45:09 [\u001b[1;32mNOTICE\u001b[0m] CUID#20 - Redirecting to https://cdn-lfs.huggingface.co/repos/a3/72/a37288fd25de45b6a8bbb79801907289f6c12bb870db68f75b0024193da1f047/638cb048ee6ad66f85a176e980332b0d61cbddb2d5dc9b5ad1863d87e020350c?response-content-disposition=attachment%3B+filename*%3DUTF-8%27%27pytorch_model-00002-of-00009.bin%3B+filename%3D%22pytorch_model-00002-of-00009.bin%22%3B&response-content-type=application%2Foctet-stream&Expires=1687067109&Policy=eyJTdGF0ZW1lbnQiOlt7IlJlc291cmNlIjoiaHR0cHM6Ly9jZG4tbGZzLmh1Z2dpbmdmYWNlLmNvL3JlcG9zL2EzLzcyL2EzNzI4OGZkMjVkZTQ1YjZhOGJiYjc5ODAxOTA3Mjg5ZjZjMTJiYjg3MGRiNjhmNzViMDAyNDE5M2RhMWYwNDcvNjM4Y2IwNDhlZTZhZDY2Zjg1YTE3NmU5ODAzMzJiMGQ2MWNiZGRiMmQ1ZGM5YjVhZDE4NjNkODdlMDIwMzUwYz9yZXNwb25zZS1jb250ZW50LWRpc3Bvc2l0aW9uPSomcmVzcG9uc2UtY29udGVudC10eXBlPSoiLCJDb25kaXRpb24iOnsiRGF0ZUxlc3NUaGFuIjp7IkFXUzpFcG9jaFRpbWUiOjE2ODcwNjcxMDl9fX1dfQ__&Signature=qcaiIKTprIbKlMPbQ-JNEscTF14N-Hyz6rDa-VFqrQSkzP1uhqMK4UyqLl6QIJKjNY9feayUhz7BWL-f8rAWlphJxUm5X6ElRqKo9bBVxPFkLLyKQ6rA9qLTQF6YNOmPReGyc6RByz69v1YYXnVJWW-fj522no4vBDxLFcKP8lopJjRwLt9v6jLwvXHUQjmsTVRBjvPIunQdD6JOvlqJIH9DAGeMuNIn%7EeWOQwSDDie7PvbNyZDnnv57%7EnszSSnfLRDgRt4djJBt2%7EGHbgrKdF-jfkjn1TCGoy3UlSQjc04d-eCq0OnSs1uVjBYc6cxCoKa46yEEzTDwGF29ov1lkw__&Key-Pair-Id=KVTP0A1DKRTAX\n",
            "\n",
            "06/15 05:45:09 [\u001b[1;32mNOTICE\u001b[0m] CUID#17 - Redirecting to https://cdn-lfs.huggingface.co/repos/a3/72/a37288fd25de45b6a8bbb79801907289f6c12bb870db68f75b0024193da1f047/384bd92e6d1d0b6a133b1d81bad915a10d954d1bfcdf4fdc8b6d0d81b4f5e9e8?response-content-disposition=attachment%3B+filename*%3DUTF-8%27%27pytorch_model-00001-of-00009.bin%3B+filename%3D%22pytorch_model-00001-of-00009.bin%22%3B&response-content-type=application%2Foctet-stream&Expires=1687067109&Policy=eyJTdGF0ZW1lbnQiOlt7IlJlc291cmNlIjoiaHR0cHM6Ly9jZG4tbGZzLmh1Z2dpbmdmYWNlLmNvL3JlcG9zL2EzLzcyL2EzNzI4OGZkMjVkZTQ1YjZhOGJiYjc5ODAxOTA3Mjg5ZjZjMTJiYjg3MGRiNjhmNzViMDAyNDE5M2RhMWYwNDcvMzg0YmQ5MmU2ZDFkMGI2YTEzM2IxZDgxYmFkOTE1YTEwZDk1NGQxYmZjZGY0ZmRjOGI2ZDBkODFiNGY1ZTllOD9yZXNwb25zZS1jb250ZW50LWRpc3Bvc2l0aW9uPSomcmVzcG9uc2UtY29udGVudC10eXBlPSoiLCJDb25kaXRpb24iOnsiRGF0ZUxlc3NUaGFuIjp7IkFXUzpFcG9jaFRpbWUiOjE2ODcwNjcxMDl9fX1dfQ__&Signature=zIwFD9KbYiBsFzQwNYmB9ZcaNTFW7W2I28W4bWipYXrLd7h91vUt%7Et0dw3D0rv8XElaeRwG54KqyMYFkJq6ME6PVHzDRJHbS-h5gf9X2hx-wYne4oAdGS33uQPRgL4QODw9u8gEyIccArtg6AroRPe87cfyrWmMy-uA0AGxs8UmzEukRhADx3wzvAHuOG1XqnsXw76lQCyW8qqokeqt%7Ef3ExacluCHjwhpaRtBZYjy%7EJDmOqerX163nj%7EqSfmnamJAv5X6JCxxLIVLf5dF1SiZmaWBysb7vaqduC2Q6nHYsm7C9HkfWdOFpRCR9Uk90pb%7EFzqEJcp6iFryahNbDn8g__&Key-Pair-Id=KVTP0A1DKRTAX\n",
            "\n",
            "06/15 05:45:09 [\u001b[1;32mNOTICE\u001b[0m] CUID#13 - Redirecting to https://cdn-lfs.huggingface.co/repos/a3/72/a37288fd25de45b6a8bbb79801907289f6c12bb870db68f75b0024193da1f047/384bd92e6d1d0b6a133b1d81bad915a10d954d1bfcdf4fdc8b6d0d81b4f5e9e8?response-content-disposition=attachment%3B+filename*%3DUTF-8%27%27pytorch_model-00001-of-00009.bin%3B+filename%3D%22pytorch_model-00001-of-00009.bin%22%3B&response-content-type=application%2Foctet-stream&Expires=1687067109&Policy=eyJTdGF0ZW1lbnQiOlt7IlJlc291cmNlIjoiaHR0cHM6Ly9jZG4tbGZzLmh1Z2dpbmdmYWNlLmNvL3JlcG9zL2EzLzcyL2EzNzI4OGZkMjVkZTQ1YjZhOGJiYjc5ODAxOTA3Mjg5ZjZjMTJiYjg3MGRiNjhmNzViMDAyNDE5M2RhMWYwNDcvMzg0YmQ5MmU2ZDFkMGI2YTEzM2IxZDgxYmFkOTE1YTEwZDk1NGQxYmZjZGY0ZmRjOGI2ZDBkODFiNGY1ZTllOD9yZXNwb25zZS1jb250ZW50LWRpc3Bvc2l0aW9uPSomcmVzcG9uc2UtY29udGVudC10eXBlPSoiLCJDb25kaXRpb24iOnsiRGF0ZUxlc3NUaGFuIjp7IkFXUzpFcG9jaFRpbWUiOjE2ODcwNjcxMDl9fX1dfQ__&Signature=zIwFD9KbYiBsFzQwNYmB9ZcaNTFW7W2I28W4bWipYXrLd7h91vUt%7Et0dw3D0rv8XElaeRwG54KqyMYFkJq6ME6PVHzDRJHbS-h5gf9X2hx-wYne4oAdGS33uQPRgL4QODw9u8gEyIccArtg6AroRPe87cfyrWmMy-uA0AGxs8UmzEukRhADx3wzvAHuOG1XqnsXw76lQCyW8qqokeqt%7Ef3ExacluCHjwhpaRtBZYjy%7EJDmOqerX163nj%7EqSfmnamJAv5X6JCxxLIVLf5dF1SiZmaWBysb7vaqduC2Q6nHYsm7C9HkfWdOFpRCR9Uk90pb%7EFzqEJcp6iFryahNbDn8g__&Key-Pair-Id=KVTP0A1DKRTAX\n",
            "\n",
            "06/15 05:45:09 [\u001b[1;32mNOTICE\u001b[0m] CUID#20 - Redirecting to https://cdn-lfs.huggingface.co/repos/a3/72/a37288fd25de45b6a8bbb79801907289f6c12bb870db68f75b0024193da1f047/384bd92e6d1d0b6a133b1d81bad915a10d954d1bfcdf4fdc8b6d0d81b4f5e9e8?response-content-disposition=attachment%3B+filename*%3DUTF-8%27%27pytorch_model-00001-of-00009.bin%3B+filename%3D%22pytorch_model-00001-of-00009.bin%22%3B&response-content-type=application%2Foctet-stream&Expires=1687065322&Policy=eyJTdGF0ZW1lbnQiOlt7IlJlc291cmNlIjoiaHR0cHM6Ly9jZG4tbGZzLmh1Z2dpbmdmYWNlLmNvL3JlcG9zL2EzLzcyL2EzNzI4OGZkMjVkZTQ1YjZhOGJiYjc5ODAxOTA3Mjg5ZjZjMTJiYjg3MGRiNjhmNzViMDAyNDE5M2RhMWYwNDcvMzg0YmQ5MmU2ZDFkMGI2YTEzM2IxZDgxYmFkOTE1YTEwZDk1NGQxYmZjZGY0ZmRjOGI2ZDBkODFiNGY1ZTllOD9yZXNwb25zZS1jb250ZW50LWRpc3Bvc2l0aW9uPSomcmVzcG9uc2UtY29udGVudC10eXBlPSoiLCJDb25kaXRpb24iOnsiRGF0ZUxlc3NUaGFuIjp7IkFXUzpFcG9jaFRpbWUiOjE2ODcwNjUzMjJ9fX1dfQ__&Signature=csVA2SD8O-2cWFIH-253CTiiWhJS6XzRDiYDE1ZZibj4rBBm-DtG%7EbJUszAi20eIgmD9yNkICD5vdSajkJ8SyxghFQBK3cSLiMiWWlR0PbseIgV0IeAw4mKt4bHs%7EHZiMUv7JDQ5yB0GffavCb-5qm5Ad8psgnpQ7oILtUBnuGCPb0xSLFTC3-294Zw-KG8mvGtF0PekGzumxuV6Hq-9yJlkZSwn1JoX4NG-jfKBo5T8OHjrdqt9mO-mGCtZtjjnY1jO9wVH6RCT1nt47B68s5sthkt0CyeQ24kXx8uQGb2QtE2i92FTLSAhyLvMX0n7bFMLT4Rnd4AOJZdoB6hzrQ__&Key-Pair-Id=KVTP0A1DKRTAX\n",
            "\n",
            "06/15 05:45:09 [\u001b[1;32mNOTICE\u001b[0m] CUID#16 - Redirecting to https://cdn-lfs.huggingface.co/repos/a3/72/a37288fd25de45b6a8bbb79801907289f6c12bb870db68f75b0024193da1f047/384bd92e6d1d0b6a133b1d81bad915a10d954d1bfcdf4fdc8b6d0d81b4f5e9e8?response-content-disposition=attachment%3B+filename*%3DUTF-8%27%27pytorch_model-00001-of-00009.bin%3B+filename%3D%22pytorch_model-00001-of-00009.bin%22%3B&response-content-type=application%2Foctet-stream&Expires=1687067109&Policy=eyJTdGF0ZW1lbnQiOlt7IlJlc291cmNlIjoiaHR0cHM6Ly9jZG4tbGZzLmh1Z2dpbmdmYWNlLmNvL3JlcG9zL2EzLzcyL2EzNzI4OGZkMjVkZTQ1YjZhOGJiYjc5ODAxOTA3Mjg5ZjZjMTJiYjg3MGRiNjhmNzViMDAyNDE5M2RhMWYwNDcvMzg0YmQ5MmU2ZDFkMGI2YTEzM2IxZDgxYmFkOTE1YTEwZDk1NGQxYmZjZGY0ZmRjOGI2ZDBkODFiNGY1ZTllOD9yZXNwb25zZS1jb250ZW50LWRpc3Bvc2l0aW9uPSomcmVzcG9uc2UtY29udGVudC10eXBlPSoiLCJDb25kaXRpb24iOnsiRGF0ZUxlc3NUaGFuIjp7IkFXUzpFcG9jaFRpbWUiOjE2ODcwNjcxMDl9fX1dfQ__&Signature=zIwFD9KbYiBsFzQwNYmB9ZcaNTFW7W2I28W4bWipYXrLd7h91vUt%7Et0dw3D0rv8XElaeRwG54KqyMYFkJq6ME6PVHzDRJHbS-h5gf9X2hx-wYne4oAdGS33uQPRgL4QODw9u8gEyIccArtg6AroRPe87cfyrWmMy-uA0AGxs8UmzEukRhADx3wzvAHuOG1XqnsXw76lQCyW8qqokeqt%7Ef3ExacluCHjwhpaRtBZYjy%7EJDmOqerX163nj%7EqSfmnamJAv5X6JCxxLIVLf5dF1SiZmaWBysb7vaqduC2Q6nHYsm7C9HkfWdOFpRCR9Uk90pb%7EFzqEJcp6iFryahNbDn8g__&Key-Pair-Id=KVTP0A1DKRTAX\n",
            "\n",
            "06/15 05:45:09 [\u001b[1;32mNOTICE\u001b[0m] CUID#15 - Redirecting to https://cdn-lfs.huggingface.co/repos/a3/72/a37288fd25de45b6a8bbb79801907289f6c12bb870db68f75b0024193da1f047/384bd92e6d1d0b6a133b1d81bad915a10d954d1bfcdf4fdc8b6d0d81b4f5e9e8?response-content-disposition=attachment%3B+filename*%3DUTF-8%27%27pytorch_model-00001-of-00009.bin%3B+filename%3D%22pytorch_model-00001-of-00009.bin%22%3B&response-content-type=application%2Foctet-stream&Expires=1687067109&Policy=eyJTdGF0ZW1lbnQiOlt7IlJlc291cmNlIjoiaHR0cHM6Ly9jZG4tbGZzLmh1Z2dpbmdmYWNlLmNvL3JlcG9zL2EzLzcyL2EzNzI4OGZkMjVkZTQ1YjZhOGJiYjc5ODAxOTA3Mjg5ZjZjMTJiYjg3MGRiNjhmNzViMDAyNDE5M2RhMWYwNDcvMzg0YmQ5MmU2ZDFkMGI2YTEzM2IxZDgxYmFkOTE1YTEwZDk1NGQxYmZjZGY0ZmRjOGI2ZDBkODFiNGY1ZTllOD9yZXNwb25zZS1jb250ZW50LWRpc3Bvc2l0aW9uPSomcmVzcG9uc2UtY29udGVudC10eXBlPSoiLCJDb25kaXRpb24iOnsiRGF0ZUxlc3NUaGFuIjp7IkFXUzpFcG9jaFRpbWUiOjE2ODcwNjcxMDl9fX1dfQ__&Signature=zIwFD9KbYiBsFzQwNYmB9ZcaNTFW7W2I28W4bWipYXrLd7h91vUt%7Et0dw3D0rv8XElaeRwG54KqyMYFkJq6ME6PVHzDRJHbS-h5gf9X2hx-wYne4oAdGS33uQPRgL4QODw9u8gEyIccArtg6AroRPe87cfyrWmMy-uA0AGxs8UmzEukRhADx3wzvAHuOG1XqnsXw76lQCyW8qqokeqt%7Ef3ExacluCHjwhpaRtBZYjy%7EJDmOqerX163nj%7EqSfmnamJAv5X6JCxxLIVLf5dF1SiZmaWBysb7vaqduC2Q6nHYsm7C9HkfWdOFpRCR9Uk90pb%7EFzqEJcp6iFryahNbDn8g__&Key-Pair-Id=KVTP0A1DKRTAX\n",
            "\n",
            "06/15 05:45:09 [\u001b[1;32mNOTICE\u001b[0m] CUID#21 - Redirecting to https://cdn-lfs.huggingface.co/repos/a3/72/a37288fd25de45b6a8bbb79801907289f6c12bb870db68f75b0024193da1f047/384bd92e6d1d0b6a133b1d81bad915a10d954d1bfcdf4fdc8b6d0d81b4f5e9e8?response-content-disposition=attachment%3B+filename*%3DUTF-8%27%27pytorch_model-00001-of-00009.bin%3B+filename%3D%22pytorch_model-00001-of-00009.bin%22%3B&response-content-type=application%2Foctet-stream&Expires=1687067109&Policy=eyJTdGF0ZW1lbnQiOlt7IlJlc291cmNlIjoiaHR0cHM6Ly9jZG4tbGZzLmh1Z2dpbmdmYWNlLmNvL3JlcG9zL2EzLzcyL2EzNzI4OGZkMjVkZTQ1YjZhOGJiYjc5ODAxOTA3Mjg5ZjZjMTJiYjg3MGRiNjhmNzViMDAyNDE5M2RhMWYwNDcvMzg0YmQ5MmU2ZDFkMGI2YTEzM2IxZDgxYmFkOTE1YTEwZDk1NGQxYmZjZGY0ZmRjOGI2ZDBkODFiNGY1ZTllOD9yZXNwb25zZS1jb250ZW50LWRpc3Bvc2l0aW9uPSomcmVzcG9uc2UtY29udGVudC10eXBlPSoiLCJDb25kaXRpb24iOnsiRGF0ZUxlc3NUaGFuIjp7IkFXUzpFcG9jaFRpbWUiOjE2ODcwNjcxMDl9fX1dfQ__&Signature=zIwFD9KbYiBsFzQwNYmB9ZcaNTFW7W2I28W4bWipYXrLd7h91vUt%7Et0dw3D0rv8XElaeRwG54KqyMYFkJq6ME6PVHzDRJHbS-h5gf9X2hx-wYne4oAdGS33uQPRgL4QODw9u8gEyIccArtg6AroRPe87cfyrWmMy-uA0AGxs8UmzEukRhADx3wzvAHuOG1XqnsXw76lQCyW8qqokeqt%7Ef3ExacluCHjwhpaRtBZYjy%7EJDmOqerX163nj%7EqSfmnamJAv5X6JCxxLIVLf5dF1SiZmaWBysb7vaqduC2Q6nHYsm7C9HkfWdOFpRCR9Uk90pb%7EFzqEJcp6iFryahNbDn8g__&Key-Pair-Id=KVTP0A1DKRTAX\n",
            "\n",
            "06/15 05:45:09 [\u001b[1;32mNOTICE\u001b[0m] CUID#19 - Redirecting to https://cdn-lfs.huggingface.co/repos/a3/72/a37288fd25de45b6a8bbb79801907289f6c12bb870db68f75b0024193da1f047/638cb048ee6ad66f85a176e980332b0d61cbddb2d5dc9b5ad1863d87e020350c?response-content-disposition=attachment%3B+filename*%3DUTF-8%27%27pytorch_model-00002-of-00009.bin%3B+filename%3D%22pytorch_model-00002-of-00009.bin%22%3B&response-content-type=application%2Foctet-stream&Expires=1687067109&Policy=eyJTdGF0ZW1lbnQiOlt7IlJlc291cmNlIjoiaHR0cHM6Ly9jZG4tbGZzLmh1Z2dpbmdmYWNlLmNvL3JlcG9zL2EzLzcyL2EzNzI4OGZkMjVkZTQ1YjZhOGJiYjc5ODAxOTA3Mjg5ZjZjMTJiYjg3MGRiNjhmNzViMDAyNDE5M2RhMWYwNDcvNjM4Y2IwNDhlZTZhZDY2Zjg1YTE3NmU5ODAzMzJiMGQ2MWNiZGRiMmQ1ZGM5YjVhZDE4NjNkODdlMDIwMzUwYz9yZXNwb25zZS1jb250ZW50LWRpc3Bvc2l0aW9uPSomcmVzcG9uc2UtY29udGVudC10eXBlPSoiLCJDb25kaXRpb24iOnsiRGF0ZUxlc3NUaGFuIjp7IkFXUzpFcG9jaFRpbWUiOjE2ODcwNjcxMDl9fX1dfQ__&Signature=qcaiIKTprIbKlMPbQ-JNEscTF14N-Hyz6rDa-VFqrQSkzP1uhqMK4UyqLl6QIJKjNY9feayUhz7BWL-f8rAWlphJxUm5X6ElRqKo9bBVxPFkLLyKQ6rA9qLTQF6YNOmPReGyc6RByz69v1YYXnVJWW-fj522no4vBDxLFcKP8lopJjRwLt9v6jLwvXHUQjmsTVRBjvPIunQdD6JOvlqJIH9DAGeMuNIn%7EeWOQwSDDie7PvbNyZDnnv57%7EnszSSnfLRDgRt4djJBt2%7EGHbgrKdF-jfkjn1TCGoy3UlSQjc04d-eCq0OnSs1uVjBYc6cxCoKa46yEEzTDwGF29ov1lkw__&Key-Pair-Id=KVTP0A1DKRTAX\n",
            "\n",
            "06/15 05:45:09 [\u001b[1;32mNOTICE\u001b[0m] CUID#18 - Redirecting to https://cdn-lfs.huggingface.co/repos/a3/72/a37288fd25de45b6a8bbb79801907289f6c12bb870db68f75b0024193da1f047/384bd92e6d1d0b6a133b1d81bad915a10d954d1bfcdf4fdc8b6d0d81b4f5e9e8?response-content-disposition=attachment%3B+filename*%3DUTF-8%27%27pytorch_model-00001-of-00009.bin%3B+filename%3D%22pytorch_model-00001-of-00009.bin%22%3B&response-content-type=application%2Foctet-stream&Expires=1687067109&Policy=eyJTdGF0ZW1lbnQiOlt7IlJlc291cmNlIjoiaHR0cHM6Ly9jZG4tbGZzLmh1Z2dpbmdmYWNlLmNvL3JlcG9zL2EzLzcyL2EzNzI4OGZkMjVkZTQ1YjZhOGJiYjc5ODAxOTA3Mjg5ZjZjMTJiYjg3MGRiNjhmNzViMDAyNDE5M2RhMWYwNDcvMzg0YmQ5MmU2ZDFkMGI2YTEzM2IxZDgxYmFkOTE1YTEwZDk1NGQxYmZjZGY0ZmRjOGI2ZDBkODFiNGY1ZTllOD9yZXNwb25zZS1jb250ZW50LWRpc3Bvc2l0aW9uPSomcmVzcG9uc2UtY29udGVudC10eXBlPSoiLCJDb25kaXRpb24iOnsiRGF0ZUxlc3NUaGFuIjp7IkFXUzpFcG9jaFRpbWUiOjE2ODcwNjcxMDl9fX1dfQ__&Signature=zIwFD9KbYiBsFzQwNYmB9ZcaNTFW7W2I28W4bWipYXrLd7h91vUt%7Et0dw3D0rv8XElaeRwG54KqyMYFkJq6ME6PVHzDRJHbS-h5gf9X2hx-wYne4oAdGS33uQPRgL4QODw9u8gEyIccArtg6AroRPe87cfyrWmMy-uA0AGxs8UmzEukRhADx3wzvAHuOG1XqnsXw76lQCyW8qqokeqt%7Ef3ExacluCHjwhpaRtBZYjy%7EJDmOqerX163nj%7EqSfmnamJAv5X6JCxxLIVLf5dF1SiZmaWBysb7vaqduC2Q6nHYsm7C9HkfWdOFpRCR9Uk90pb%7EFzqEJcp6iFryahNbDn8g__&Key-Pair-Id=KVTP0A1DKRTAX\n",
            "\n",
            "06/15 05:45:09 [\u001b[1;32mNOTICE\u001b[0m] CUID#23 - Redirecting to https://cdn-lfs.huggingface.co/repos/a3/72/a37288fd25de45b6a8bbb79801907289f6c12bb870db68f75b0024193da1f047/384bd92e6d1d0b6a133b1d81bad915a10d954d1bfcdf4fdc8b6d0d81b4f5e9e8?response-content-disposition=attachment%3B+filename*%3DUTF-8%27%27pytorch_model-00001-of-00009.bin%3B+filename%3D%22pytorch_model-00001-of-00009.bin%22%3B&response-content-type=application%2Foctet-stream&Expires=1687067109&Policy=eyJTdGF0ZW1lbnQiOlt7IlJlc291cmNlIjoiaHR0cHM6Ly9jZG4tbGZzLmh1Z2dpbmdmYWNlLmNvL3JlcG9zL2EzLzcyL2EzNzI4OGZkMjVkZTQ1YjZhOGJiYjc5ODAxOTA3Mjg5ZjZjMTJiYjg3MGRiNjhmNzViMDAyNDE5M2RhMWYwNDcvMzg0YmQ5MmU2ZDFkMGI2YTEzM2IxZDgxYmFkOTE1YTEwZDk1NGQxYmZjZGY0ZmRjOGI2ZDBkODFiNGY1ZTllOD9yZXNwb25zZS1jb250ZW50LWRpc3Bvc2l0aW9uPSomcmVzcG9uc2UtY29udGVudC10eXBlPSoiLCJDb25kaXRpb24iOnsiRGF0ZUxlc3NUaGFuIjp7IkFXUzpFcG9jaFRpbWUiOjE2ODcwNjcxMDl9fX1dfQ__&Signature=zIwFD9KbYiBsFzQwNYmB9ZcaNTFW7W2I28W4bWipYXrLd7h91vUt%7Et0dw3D0rv8XElaeRwG54KqyMYFkJq6ME6PVHzDRJHbS-h5gf9X2hx-wYne4oAdGS33uQPRgL4QODw9u8gEyIccArtg6AroRPe87cfyrWmMy-uA0AGxs8UmzEukRhADx3wzvAHuOG1XqnsXw76lQCyW8qqokeqt%7Ef3ExacluCHjwhpaRtBZYjy%7EJDmOqerX163nj%7EqSfmnamJAv5X6JCxxLIVLf5dF1SiZmaWBysb7vaqduC2Q6nHYsm7C9HkfWdOFpRCR9Uk90pb%7EFzqEJcp6iFryahNbDn8g__&Key-Pair-Id=KVTP0A1DKRTAX\n",
            "\n",
            "06/15 05:45:09 [\u001b[1;32mNOTICE\u001b[0m] CUID#14 - Redirecting to https://cdn-lfs.huggingface.co/repos/a3/72/a37288fd25de45b6a8bbb79801907289f6c12bb870db68f75b0024193da1f047/384bd92e6d1d0b6a133b1d81bad915a10d954d1bfcdf4fdc8b6d0d81b4f5e9e8?response-content-disposition=attachment%3B+filename*%3DUTF-8%27%27pytorch_model-00001-of-00009.bin%3B+filename%3D%22pytorch_model-00001-of-00009.bin%22%3B&response-content-type=application%2Foctet-stream&Expires=1687067109&Policy=eyJTdGF0ZW1lbnQiOlt7IlJlc291cmNlIjoiaHR0cHM6Ly9jZG4tbGZzLmh1Z2dpbmdmYWNlLmNvL3JlcG9zL2EzLzcyL2EzNzI4OGZkMjVkZTQ1YjZhOGJiYjc5ODAxOTA3Mjg5ZjZjMTJiYjg3MGRiNjhmNzViMDAyNDE5M2RhMWYwNDcvMzg0YmQ5MmU2ZDFkMGI2YTEzM2IxZDgxYmFkOTE1YTEwZDk1NGQxYmZjZGY0ZmRjOGI2ZDBkODFiNGY1ZTllOD9yZXNwb25zZS1jb250ZW50LWRpc3Bvc2l0aW9uPSomcmVzcG9uc2UtY29udGVudC10eXBlPSoiLCJDb25kaXRpb24iOnsiRGF0ZUxlc3NUaGFuIjp7IkFXUzpFcG9jaFRpbWUiOjE2ODcwNjcxMDl9fX1dfQ__&Signature=zIwFD9KbYiBsFzQwNYmB9ZcaNTFW7W2I28W4bWipYXrLd7h91vUt%7Et0dw3D0rv8XElaeRwG54KqyMYFkJq6ME6PVHzDRJHbS-h5gf9X2hx-wYne4oAdGS33uQPRgL4QODw9u8gEyIccArtg6AroRPe87cfyrWmMy-uA0AGxs8UmzEukRhADx3wzvAHuOG1XqnsXw76lQCyW8qqokeqt%7Ef3ExacluCHjwhpaRtBZYjy%7EJDmOqerX163nj%7EqSfmnamJAv5X6JCxxLIVLf5dF1SiZmaWBysb7vaqduC2Q6nHYsm7C9HkfWdOFpRCR9Uk90pb%7EFzqEJcp6iFryahNbDn8g__&Key-Pair-Id=KVTP0A1DKRTAX\n",
            "\n",
            "06/15 05:45:09 [\u001b[1;32mNOTICE\u001b[0m] CUID#11 - Redirecting to https://cdn-lfs.huggingface.co/repos/a3/72/a37288fd25de45b6a8bbb79801907289f6c12bb870db68f75b0024193da1f047/384bd92e6d1d0b6a133b1d81bad915a10d954d1bfcdf4fdc8b6d0d81b4f5e9e8?response-content-disposition=attachment%3B+filename*%3DUTF-8%27%27pytorch_model-00001-of-00009.bin%3B+filename%3D%22pytorch_model-00001-of-00009.bin%22%3B&response-content-type=application%2Foctet-stream&Expires=1687067109&Policy=eyJTdGF0ZW1lbnQiOlt7IlJlc291cmNlIjoiaHR0cHM6Ly9jZG4tbGZzLmh1Z2dpbmdmYWNlLmNvL3JlcG9zL2EzLzcyL2EzNzI4OGZkMjVkZTQ1YjZhOGJiYjc5ODAxOTA3Mjg5ZjZjMTJiYjg3MGRiNjhmNzViMDAyNDE5M2RhMWYwNDcvMzg0YmQ5MmU2ZDFkMGI2YTEzM2IxZDgxYmFkOTE1YTEwZDk1NGQxYmZjZGY0ZmRjOGI2ZDBkODFiNGY1ZTllOD9yZXNwb25zZS1jb250ZW50LWRpc3Bvc2l0aW9uPSomcmVzcG9uc2UtY29udGVudC10eXBlPSoiLCJDb25kaXRpb24iOnsiRGF0ZUxlc3NUaGFuIjp7IkFXUzpFcG9jaFRpbWUiOjE2ODcwNjcxMDl9fX1dfQ__&Signature=zIwFD9KbYiBsFzQwNYmB9ZcaNTFW7W2I28W4bWipYXrLd7h91vUt%7Et0dw3D0rv8XElaeRwG54KqyMYFkJq6ME6PVHzDRJHbS-h5gf9X2hx-wYne4oAdGS33uQPRgL4QODw9u8gEyIccArtg6AroRPe87cfyrWmMy-uA0AGxs8UmzEukRhADx3wzvAHuOG1XqnsXw76lQCyW8qqokeqt%7Ef3ExacluCHjwhpaRtBZYjy%7EJDmOqerX163nj%7EqSfmnamJAv5X6JCxxLIVLf5dF1SiZmaWBysb7vaqduC2Q6nHYsm7C9HkfWdOFpRCR9Uk90pb%7EFzqEJcp6iFryahNbDn8g__&Key-Pair-Id=KVTP0A1DKRTAX\n",
            "\n",
            "06/15 05:45:09 [\u001b[1;32mNOTICE\u001b[0m] CUID#22 - Redirecting to https://cdn-lfs.huggingface.co/repos/a3/72/a37288fd25de45b6a8bbb79801907289f6c12bb870db68f75b0024193da1f047/384bd92e6d1d0b6a133b1d81bad915a10d954d1bfcdf4fdc8b6d0d81b4f5e9e8?response-content-disposition=attachment%3B+filename*%3DUTF-8%27%27pytorch_model-00001-of-00009.bin%3B+filename%3D%22pytorch_model-00001-of-00009.bin%22%3B&response-content-type=application%2Foctet-stream&Expires=1687067109&Policy=eyJTdGF0ZW1lbnQiOlt7IlJlc291cmNlIjoiaHR0cHM6Ly9jZG4tbGZzLmh1Z2dpbmdmYWNlLmNvL3JlcG9zL2EzLzcyL2EzNzI4OGZkMjVkZTQ1YjZhOGJiYjc5ODAxOTA3Mjg5ZjZjMTJiYjg3MGRiNjhmNzViMDAyNDE5M2RhMWYwNDcvMzg0YmQ5MmU2ZDFkMGI2YTEzM2IxZDgxYmFkOTE1YTEwZDk1NGQxYmZjZGY0ZmRjOGI2ZDBkODFiNGY1ZTllOD9yZXNwb25zZS1jb250ZW50LWRpc3Bvc2l0aW9uPSomcmVzcG9uc2UtY29udGVudC10eXBlPSoiLCJDb25kaXRpb24iOnsiRGF0ZUxlc3NUaGFuIjp7IkFXUzpFcG9jaFRpbWUiOjE2ODcwNjcxMDl9fX1dfQ__&Signature=zIwFD9KbYiBsFzQwNYmB9ZcaNTFW7W2I28W4bWipYXrLd7h91vUt%7Et0dw3D0rv8XElaeRwG54KqyMYFkJq6ME6PVHzDRJHbS-h5gf9X2hx-wYne4oAdGS33uQPRgL4QODw9u8gEyIccArtg6AroRPe87cfyrWmMy-uA0AGxs8UmzEukRhADx3wzvAHuOG1XqnsXw76lQCyW8qqokeqt%7Ef3ExacluCHjwhpaRtBZYjy%7EJDmOqerX163nj%7EqSfmnamJAv5X6JCxxLIVLf5dF1SiZmaWBysb7vaqduC2Q6nHYsm7C9HkfWdOFpRCR9Uk90pb%7EFzqEJcp6iFryahNbDn8g__&Key-Pair-Id=KVTP0A1DKRTAX\n",
            "\n",
            "06/15 05:45:09 [\u001b[1;32mNOTICE\u001b[0m] CUID#14 - Redirecting to https://cdn-lfs.huggingface.co/repos/a3/72/a37288fd25de45b6a8bbb79801907289f6c12bb870db68f75b0024193da1f047/638cb048ee6ad66f85a176e980332b0d61cbddb2d5dc9b5ad1863d87e020350c?response-content-disposition=attachment%3B+filename*%3DUTF-8%27%27pytorch_model-00002-of-00009.bin%3B+filename%3D%22pytorch_model-00002-of-00009.bin%22%3B&response-content-type=application%2Foctet-stream&Expires=1687067109&Policy=eyJTdGF0ZW1lbnQiOlt7IlJlc291cmNlIjoiaHR0cHM6Ly9jZG4tbGZzLmh1Z2dpbmdmYWNlLmNvL3JlcG9zL2EzLzcyL2EzNzI4OGZkMjVkZTQ1YjZhOGJiYjc5ODAxOTA3Mjg5ZjZjMTJiYjg3MGRiNjhmNzViMDAyNDE5M2RhMWYwNDcvNjM4Y2IwNDhlZTZhZDY2Zjg1YTE3NmU5ODAzMzJiMGQ2MWNiZGRiMmQ1ZGM5YjVhZDE4NjNkODdlMDIwMzUwYz9yZXNwb25zZS1jb250ZW50LWRpc3Bvc2l0aW9uPSomcmVzcG9uc2UtY29udGVudC10eXBlPSoiLCJDb25kaXRpb24iOnsiRGF0ZUxlc3NUaGFuIjp7IkFXUzpFcG9jaFRpbWUiOjE2ODcwNjcxMDl9fX1dfQ__&Signature=qcaiIKTprIbKlMPbQ-JNEscTF14N-Hyz6rDa-VFqrQSkzP1uhqMK4UyqLl6QIJKjNY9feayUhz7BWL-f8rAWlphJxUm5X6ElRqKo9bBVxPFkLLyKQ6rA9qLTQF6YNOmPReGyc6RByz69v1YYXnVJWW-fj522no4vBDxLFcKP8lopJjRwLt9v6jLwvXHUQjmsTVRBjvPIunQdD6JOvlqJIH9DAGeMuNIn%7EeWOQwSDDie7PvbNyZDnnv57%7EnszSSnfLRDgRt4djJBt2%7EGHbgrKdF-jfkjn1TCGoy3UlSQjc04d-eCq0OnSs1uVjBYc6cxCoKa46yEEzTDwGF29ov1lkw__&Key-Pair-Id=KVTP0A1DKRTAX\n",
            "\n",
            "06/15 05:45:09 [\u001b[1;32mNOTICE\u001b[0m] CUID#19 - Redirecting to https://cdn-lfs.huggingface.co/repos/a3/72/a37288fd25de45b6a8bbb79801907289f6c12bb870db68f75b0024193da1f047/384bd92e6d1d0b6a133b1d81bad915a10d954d1bfcdf4fdc8b6d0d81b4f5e9e8?response-content-disposition=attachment%3B+filename*%3DUTF-8%27%27pytorch_model-00001-of-00009.bin%3B+filename%3D%22pytorch_model-00001-of-00009.bin%22%3B&response-content-type=application%2Foctet-stream&Expires=1687067109&Policy=eyJTdGF0ZW1lbnQiOlt7IlJlc291cmNlIjoiaHR0cHM6Ly9jZG4tbGZzLmh1Z2dpbmdmYWNlLmNvL3JlcG9zL2EzLzcyL2EzNzI4OGZkMjVkZTQ1YjZhOGJiYjc5ODAxOTA3Mjg5ZjZjMTJiYjg3MGRiNjhmNzViMDAyNDE5M2RhMWYwNDcvMzg0YmQ5MmU2ZDFkMGI2YTEzM2IxZDgxYmFkOTE1YTEwZDk1NGQxYmZjZGY0ZmRjOGI2ZDBkODFiNGY1ZTllOD9yZXNwb25zZS1jb250ZW50LWRpc3Bvc2l0aW9uPSomcmVzcG9uc2UtY29udGVudC10eXBlPSoiLCJDb25kaXRpb24iOnsiRGF0ZUxlc3NUaGFuIjp7IkFXUzpFcG9jaFRpbWUiOjE2ODcwNjcxMDl9fX1dfQ__&Signature=zIwFD9KbYiBsFzQwNYmB9ZcaNTFW7W2I28W4bWipYXrLd7h91vUt%7Et0dw3D0rv8XElaeRwG54KqyMYFkJq6ME6PVHzDRJHbS-h5gf9X2hx-wYne4oAdGS33uQPRgL4QODw9u8gEyIccArtg6AroRPe87cfyrWmMy-uA0AGxs8UmzEukRhADx3wzvAHuOG1XqnsXw76lQCyW8qqokeqt%7Ef3ExacluCHjwhpaRtBZYjy%7EJDmOqerX163nj%7EqSfmnamJAv5X6JCxxLIVLf5dF1SiZmaWBysb7vaqduC2Q6nHYsm7C9HkfWdOFpRCR9Uk90pb%7EFzqEJcp6iFryahNbDn8g__&Key-Pair-Id=KVTP0A1DKRTAX\n",
            "\n",
            "06/15 05:45:09 [\u001b[1;32mNOTICE\u001b[0m] CUID#11 - Redirecting to https://cdn-lfs.huggingface.co/repos/a3/72/a37288fd25de45b6a8bbb79801907289f6c12bb870db68f75b0024193da1f047/638cb048ee6ad66f85a176e980332b0d61cbddb2d5dc9b5ad1863d87e020350c?response-content-disposition=attachment%3B+filename*%3DUTF-8%27%27pytorch_model-00002-of-00009.bin%3B+filename%3D%22pytorch_model-00002-of-00009.bin%22%3B&response-content-type=application%2Foctet-stream&Expires=1687067109&Policy=eyJTdGF0ZW1lbnQiOlt7IlJlc291cmNlIjoiaHR0cHM6Ly9jZG4tbGZzLmh1Z2dpbmdmYWNlLmNvL3JlcG9zL2EzLzcyL2EzNzI4OGZkMjVkZTQ1YjZhOGJiYjc5ODAxOTA3Mjg5ZjZjMTJiYjg3MGRiNjhmNzViMDAyNDE5M2RhMWYwNDcvNjM4Y2IwNDhlZTZhZDY2Zjg1YTE3NmU5ODAzMzJiMGQ2MWNiZGRiMmQ1ZGM5YjVhZDE4NjNkODdlMDIwMzUwYz9yZXNwb25zZS1jb250ZW50LWRpc3Bvc2l0aW9uPSomcmVzcG9uc2UtY29udGVudC10eXBlPSoiLCJDb25kaXRpb24iOnsiRGF0ZUxlc3NUaGFuIjp7IkFXUzpFcG9jaFRpbWUiOjE2ODcwNjcxMDl9fX1dfQ__&Signature=qcaiIKTprIbKlMPbQ-JNEscTF14N-Hyz6rDa-VFqrQSkzP1uhqMK4UyqLl6QIJKjNY9feayUhz7BWL-f8rAWlphJxUm5X6ElRqKo9bBVxPFkLLyKQ6rA9qLTQF6YNOmPReGyc6RByz69v1YYXnVJWW-fj522no4vBDxLFcKP8lopJjRwLt9v6jLwvXHUQjmsTVRBjvPIunQdD6JOvlqJIH9DAGeMuNIn%7EeWOQwSDDie7PvbNyZDnnv57%7EnszSSnfLRDgRt4djJBt2%7EGHbgrKdF-jfkjn1TCGoy3UlSQjc04d-eCq0OnSs1uVjBYc6cxCoKa46yEEzTDwGF29ov1lkw__&Key-Pair-Id=KVTP0A1DKRTAX\n",
            "\n",
            "06/15 05:45:09 [\u001b[1;32mNOTICE\u001b[0m] CUID#7 - Redirecting to https://cdn-lfs.huggingface.co/repos/a3/72/a37288fd25de45b6a8bbb79801907289f6c12bb870db68f75b0024193da1f047/7af5021fe9afb9b4186a59a91e75aa60570c66fba43390b634387ee54bd73223?response-content-disposition=attachment%3B+filename*%3DUTF-8%27%27pytorch_model-00008-of-00009.bin%3B+filename%3D%22pytorch_model-00008-of-00009.bin%22%3B&response-content-type=application%2Foctet-stream&Expires=1687067109&Policy=eyJTdGF0ZW1lbnQiOlt7IlJlc291cmNlIjoiaHR0cHM6Ly9jZG4tbGZzLmh1Z2dpbmdmYWNlLmNvL3JlcG9zL2EzLzcyL2EzNzI4OGZkMjVkZTQ1YjZhOGJiYjc5ODAxOTA3Mjg5ZjZjMTJiYjg3MGRiNjhmNzViMDAyNDE5M2RhMWYwNDcvN2FmNTAyMWZlOWFmYjliNDE4NmE1OWE5MWU3NWFhNjA1NzBjNjZmYmE0MzM5MGI2MzQzODdlZTU0YmQ3MzIyMz9yZXNwb25zZS1jb250ZW50LWRpc3Bvc2l0aW9uPSomcmVzcG9uc2UtY29udGVudC10eXBlPSoiLCJDb25kaXRpb24iOnsiRGF0ZUxlc3NUaGFuIjp7IkFXUzpFcG9jaFRpbWUiOjE2ODcwNjcxMDl9fX1dfQ__&Signature=DFsOOKy%7Ej4RIL8T0775xrC9-y2veBGNaUzxtOqY5ILNjd5ywNAg-NJV-JCfj6Ciq-qnywvTGNi-FjjNFPYCwzTUIITlfdpWNAjiJRvSvcYYzmv18HSmPhQP2ZUBHpx2uW0jPIaLpMag2uk2pO%7EOnFlGSraAi-UhYTtfD%7E-sLZXbfm%7En7wOFOQBnPGhjGZbo57vsfrxXMqvez6PBfjM8Wq-6uALuTwX2egs1hLVX5%7EzcIrShtCz19vRlS4T-Enw%7EM3%7E97nvo00irgHBdTsfQ7lXiXfiTpNfvMcuAE4eiu1iSwAXLahaMVM5paDVX13IXl3gR0jju4jzBMu8Yqt4Q1FQ__&Key-Pair-Id=KVTP0A1DKRTAX\n",
            "\n",
            "06/15 05:45:09 [\u001b[1;32mNOTICE\u001b[0m] CUID#23 - Redirecting to https://cdn-lfs.huggingface.co/repos/a3/72/a37288fd25de45b6a8bbb79801907289f6c12bb870db68f75b0024193da1f047/638cb048ee6ad66f85a176e980332b0d61cbddb2d5dc9b5ad1863d87e020350c?response-content-disposition=attachment%3B+filename*%3DUTF-8%27%27pytorch_model-00002-of-00009.bin%3B+filename%3D%22pytorch_model-00002-of-00009.bin%22%3B&response-content-type=application%2Foctet-stream&Expires=1687067109&Policy=eyJTdGF0ZW1lbnQiOlt7IlJlc291cmNlIjoiaHR0cHM6Ly9jZG4tbGZzLmh1Z2dpbmdmYWNlLmNvL3JlcG9zL2EzLzcyL2EzNzI4OGZkMjVkZTQ1YjZhOGJiYjc5ODAxOTA3Mjg5ZjZjMTJiYjg3MGRiNjhmNzViMDAyNDE5M2RhMWYwNDcvNjM4Y2IwNDhlZTZhZDY2Zjg1YTE3NmU5ODAzMzJiMGQ2MWNiZGRiMmQ1ZGM5YjVhZDE4NjNkODdlMDIwMzUwYz9yZXNwb25zZS1jb250ZW50LWRpc3Bvc2l0aW9uPSomcmVzcG9uc2UtY29udGVudC10eXBlPSoiLCJDb25kaXRpb24iOnsiRGF0ZUxlc3NUaGFuIjp7IkFXUzpFcG9jaFRpbWUiOjE2ODcwNjcxMDl9fX1dfQ__&Signature=qcaiIKTprIbKlMPbQ-JNEscTF14N-Hyz6rDa-VFqrQSkzP1uhqMK4UyqLl6QIJKjNY9feayUhz7BWL-f8rAWlphJxUm5X6ElRqKo9bBVxPFkLLyKQ6rA9qLTQF6YNOmPReGyc6RByz69v1YYXnVJWW-fj522no4vBDxLFcKP8lopJjRwLt9v6jLwvXHUQjmsTVRBjvPIunQdD6JOvlqJIH9DAGeMuNIn%7EeWOQwSDDie7PvbNyZDnnv57%7EnszSSnfLRDgRt4djJBt2%7EGHbgrKdF-jfkjn1TCGoy3UlSQjc04d-eCq0OnSs1uVjBYc6cxCoKa46yEEzTDwGF29ov1lkw__&Key-Pair-Id=KVTP0A1DKRTAX\n",
            "\n",
            "06/15 05:45:09 [\u001b[1;32mNOTICE\u001b[0m] CUID#7 - Redirecting to https://cdn-lfs.huggingface.co/repos/a3/72/a37288fd25de45b6a8bbb79801907289f6c12bb870db68f75b0024193da1f047/c3f07c8ec31edebe5ff80ed32d175475a044a0517d84c5eff6f6247ad0a4432d?response-content-disposition=attachment%3B+filename*%3DUTF-8%27%27pytorch_model-00007-of-00009.bin%3B+filename%3D%22pytorch_model-00007-of-00009.bin%22%3B&response-content-type=application%2Foctet-stream&Expires=1687067109&Policy=eyJTdGF0ZW1lbnQiOlt7IlJlc291cmNlIjoiaHR0cHM6Ly9jZG4tbGZzLmh1Z2dpbmdmYWNlLmNvL3JlcG9zL2EzLzcyL2EzNzI4OGZkMjVkZTQ1YjZhOGJiYjc5ODAxOTA3Mjg5ZjZjMTJiYjg3MGRiNjhmNzViMDAyNDE5M2RhMWYwNDcvYzNmMDdjOGVjMzFlZGViZTVmZjgwZWQzMmQxNzU0NzVhMDQ0YTA1MTdkODRjNWVmZjZmNjI0N2FkMGE0NDMyZD9yZXNwb25zZS1jb250ZW50LWRpc3Bvc2l0aW9uPSomcmVzcG9uc2UtY29udGVudC10eXBlPSoiLCJDb25kaXRpb24iOnsiRGF0ZUxlc3NUaGFuIjp7IkFXUzpFcG9jaFRpbWUiOjE2ODcwNjcxMDl9fX1dfQ__&Signature=YrPZRNVYgI9vHsmU0amLbDKow4RcPoGQVU-dLrtmvvnxDzOKgb9gBfuT0HFDyQqRcwD7hV2mC7IwssELOill4ie8qEc2cayKNJkAXebsu5YUibU3KGtbYn0A2UHCkcjF%7EjCVX1SDLUbqp1BmEEff0IHg0q7QO2Rez9iQ9xOLBY7Vy7jITjp3kl94j7puBvsmeqlJlJbGGUuHCdKPdFof44cUXN3detVFYyGmv5pkLZka7ykgjOiaiLnKbEUi4724bv3kvn7B9gAp6nECeAVg26OclRJb-%7Ej-SLStgb1ewIMNansvizNE0PUlziz2A1oomInIAdpiMYVqiEMpvzyOvg__&Key-Pair-Id=KVTP0A1DKRTAX\n",
            "\n",
            "06/15 05:45:09 [\u001b[1;32mNOTICE\u001b[0m] CUID#9 - Redirecting to https://cdn-lfs.huggingface.co/repos/a3/72/a37288fd25de45b6a8bbb79801907289f6c12bb870db68f75b0024193da1f047/d6376a884bc80a6ea95da83f963508e57d8508333c424bed7beda565e4aaa0f3?response-content-disposition=attachment%3B+filename*%3DUTF-8%27%27pytorch_model-00006-of-00009.bin%3B+filename%3D%22pytorch_model-00006-of-00009.bin%22%3B&response-content-type=application%2Foctet-stream&Expires=1687067110&Policy=eyJTdGF0ZW1lbnQiOlt7IlJlc291cmNlIjoiaHR0cHM6Ly9jZG4tbGZzLmh1Z2dpbmdmYWNlLmNvL3JlcG9zL2EzLzcyL2EzNzI4OGZkMjVkZTQ1YjZhOGJiYjc5ODAxOTA3Mjg5ZjZjMTJiYjg3MGRiNjhmNzViMDAyNDE5M2RhMWYwNDcvZDYzNzZhODg0YmM4MGE2ZWE5NWRhODNmOTYzNTA4ZTU3ZDg1MDgzMzNjNDI0YmVkN2JlZGE1NjVlNGFhYTBmMz9yZXNwb25zZS1jb250ZW50LWRpc3Bvc2l0aW9uPSomcmVzcG9uc2UtY29udGVudC10eXBlPSoiLCJDb25kaXRpb24iOnsiRGF0ZUxlc3NUaGFuIjp7IkFXUzpFcG9jaFRpbWUiOjE2ODcwNjcxMTB9fX1dfQ__&Signature=HNrTQFuryG4jQcxepnanLroiuXTrrNZrS8R-teEtAqzsoyZqgb2CWI8BbQeKD6%7Ec9NB0XgS-r4nB5HLo72%7E17xcHOo9YPpp3mRMaIj9PMWr-4oJWvWf4LTYO7Un61vgL34fPZ4gQV8ETSMkIvtc2YLSbiNMMTTIjic3WLwjVzPvjvaGfsQnwwrm1IiltWmFzyKyOa5tfwuapcGh2LLDpc5UpcHAgq%7EQ2MVjPEChwtgerXlrW%7ErEuD-yBgqRltWJqZCUfxGDAltYruEaF3DojHSCRhKBv9j-DGJWVwH4KlII9uMGjXlo2IlnNoOuTPs4zagH4O-h8ipgOo0YO%7Ebq9lA__&Key-Pair-Id=KVTP0A1DKRTAX\n",
            "\n",
            "06/15 05:45:09 [\u001b[1;32mNOTICE\u001b[0m] CUID#16 - Redirecting to https://cdn-lfs.huggingface.co/repos/a3/72/a37288fd25de45b6a8bbb79801907289f6c12bb870db68f75b0024193da1f047/638cb048ee6ad66f85a176e980332b0d61cbddb2d5dc9b5ad1863d87e020350c?response-content-disposition=attachment%3B+filename*%3DUTF-8%27%27pytorch_model-00002-of-00009.bin%3B+filename%3D%22pytorch_model-00002-of-00009.bin%22%3B&response-content-type=application%2Foctet-stream&Expires=1687067110&Policy=eyJTdGF0ZW1lbnQiOlt7IlJlc291cmNlIjoiaHR0cHM6Ly9jZG4tbGZzLmh1Z2dpbmdmYWNlLmNvL3JlcG9zL2EzLzcyL2EzNzI4OGZkMjVkZTQ1YjZhOGJiYjc5ODAxOTA3Mjg5ZjZjMTJiYjg3MGRiNjhmNzViMDAyNDE5M2RhMWYwNDcvNjM4Y2IwNDhlZTZhZDY2Zjg1YTE3NmU5ODAzMzJiMGQ2MWNiZGRiMmQ1ZGM5YjVhZDE4NjNkODdlMDIwMzUwYz9yZXNwb25zZS1jb250ZW50LWRpc3Bvc2l0aW9uPSomcmVzcG9uc2UtY29udGVudC10eXBlPSoiLCJDb25kaXRpb24iOnsiRGF0ZUxlc3NUaGFuIjp7IkFXUzpFcG9jaFRpbWUiOjE2ODcwNjcxMTB9fX1dfQ__&Signature=mkUspVwJPvlG7kEIfY6kFREOsHt7cJ-wwmMguhc1hEVCrZxm1-1bPJ5Pxrb3pXG9cGEHmDpi95WgiFXBQVd677kovB%7EWz6OwEMbltvNU4hiKjPu5dfSeBDRv%7EPoSxLq20KlB%7EDF4dph8TULAHfkhq1ZKefSxAXu3fgRRGAOYYshFRqx-DGNbtc6DlcwvxecamsVp2jXIrFogo6OPdcyMnjhpgt82LRc-696ybLCcMO6RAhrfwclph6fpAtWqFqgG80SKCwvuIqeABhu8yWUad06t1t6yDlKrFhVHw7UAUdK1VkNqd7V5JX4ISisuQlrX2NflsO5ZeZM6iD%7ETYmJ0Zw__&Key-Pair-Id=KVTP0A1DKRTAX\n",
            "\n",
            "06/15 05:45:09 [\u001b[1;32mNOTICE\u001b[0m] CUID#23 - Redirecting to https://cdn-lfs.huggingface.co/repos/a3/72/a37288fd25de45b6a8bbb79801907289f6c12bb870db68f75b0024193da1f047/384bd92e6d1d0b6a133b1d81bad915a10d954d1bfcdf4fdc8b6d0d81b4f5e9e8?response-content-disposition=attachment%3B+filename*%3DUTF-8%27%27pytorch_model-00001-of-00009.bin%3B+filename%3D%22pytorch_model-00001-of-00009.bin%22%3B&response-content-type=application%2Foctet-stream&Expires=1687065322&Policy=eyJTdGF0ZW1lbnQiOlt7IlJlc291cmNlIjoiaHR0cHM6Ly9jZG4tbGZzLmh1Z2dpbmdmYWNlLmNvL3JlcG9zL2EzLzcyL2EzNzI4OGZkMjVkZTQ1YjZhOGJiYjc5ODAxOTA3Mjg5ZjZjMTJiYjg3MGRiNjhmNzViMDAyNDE5M2RhMWYwNDcvMzg0YmQ5MmU2ZDFkMGI2YTEzM2IxZDgxYmFkOTE1YTEwZDk1NGQxYmZjZGY0ZmRjOGI2ZDBkODFiNGY1ZTllOD9yZXNwb25zZS1jb250ZW50LWRpc3Bvc2l0aW9uPSomcmVzcG9uc2UtY29udGVudC10eXBlPSoiLCJDb25kaXRpb24iOnsiRGF0ZUxlc3NUaGFuIjp7IkFXUzpFcG9jaFRpbWUiOjE2ODcwNjUzMjJ9fX1dfQ__&Signature=csVA2SD8O-2cWFIH-253CTiiWhJS6XzRDiYDE1ZZibj4rBBm-DtG%7EbJUszAi20eIgmD9yNkICD5vdSajkJ8SyxghFQBK3cSLiMiWWlR0PbseIgV0IeAw4mKt4bHs%7EHZiMUv7JDQ5yB0GffavCb-5qm5Ad8psgnpQ7oILtUBnuGCPb0xSLFTC3-294Zw-KG8mvGtF0PekGzumxuV6Hq-9yJlkZSwn1JoX4NG-jfKBo5T8OHjrdqt9mO-mGCtZtjjnY1jO9wVH6RCT1nt47B68s5sthkt0CyeQ24kXx8uQGb2QtE2i92FTLSAhyLvMX0n7bFMLT4Rnd4AOJZdoB6hzrQ__&Key-Pair-Id=KVTP0A1DKRTAX\n",
            "\n",
            "06/15 05:45:09 [\u001b[1;32mNOTICE\u001b[0m] CUID#11 - Redirecting to https://cdn-lfs.huggingface.co/repos/a3/72/a37288fd25de45b6a8bbb79801907289f6c12bb870db68f75b0024193da1f047/d6376a884bc80a6ea95da83f963508e57d8508333c424bed7beda565e4aaa0f3?response-content-disposition=attachment%3B+filename*%3DUTF-8%27%27pytorch_model-00006-of-00009.bin%3B+filename%3D%22pytorch_model-00006-of-00009.bin%22%3B&response-content-type=application%2Foctet-stream&Expires=1687067110&Policy=eyJTdGF0ZW1lbnQiOlt7IlJlc291cmNlIjoiaHR0cHM6Ly9jZG4tbGZzLmh1Z2dpbmdmYWNlLmNvL3JlcG9zL2EzLzcyL2EzNzI4OGZkMjVkZTQ1YjZhOGJiYjc5ODAxOTA3Mjg5ZjZjMTJiYjg3MGRiNjhmNzViMDAyNDE5M2RhMWYwNDcvZDYzNzZhODg0YmM4MGE2ZWE5NWRhODNmOTYzNTA4ZTU3ZDg1MDgzMzNjNDI0YmVkN2JlZGE1NjVlNGFhYTBmMz9yZXNwb25zZS1jb250ZW50LWRpc3Bvc2l0aW9uPSomcmVzcG9uc2UtY29udGVudC10eXBlPSoiLCJDb25kaXRpb24iOnsiRGF0ZUxlc3NUaGFuIjp7IkFXUzpFcG9jaFRpbWUiOjE2ODcwNjcxMTB9fX1dfQ__&Signature=HNrTQFuryG4jQcxepnanLroiuXTrrNZrS8R-teEtAqzsoyZqgb2CWI8BbQeKD6%7Ec9NB0XgS-r4nB5HLo72%7E17xcHOo9YPpp3mRMaIj9PMWr-4oJWvWf4LTYO7Un61vgL34fPZ4gQV8ETSMkIvtc2YLSbiNMMTTIjic3WLwjVzPvjvaGfsQnwwrm1IiltWmFzyKyOa5tfwuapcGh2LLDpc5UpcHAgq%7EQ2MVjPEChwtgerXlrW%7ErEuD-yBgqRltWJqZCUfxGDAltYruEaF3DojHSCRhKBv9j-DGJWVwH4KlII9uMGjXlo2IlnNoOuTPs4zagH4O-h8ipgOo0YO%7Ebq9lA__&Key-Pair-Id=KVTP0A1DKRTAX\n",
            "\n",
            "06/15 05:45:09 [\u001b[1;32mNOTICE\u001b[0m] CUID#19 - Redirecting to https://cdn-lfs.huggingface.co/repos/a3/72/a37288fd25de45b6a8bbb79801907289f6c12bb870db68f75b0024193da1f047/d6376a884bc80a6ea95da83f963508e57d8508333c424bed7beda565e4aaa0f3?response-content-disposition=attachment%3B+filename*%3DUTF-8%27%27pytorch_model-00006-of-00009.bin%3B+filename%3D%22pytorch_model-00006-of-00009.bin%22%3B&response-content-type=application%2Foctet-stream&Expires=1687067110&Policy=eyJTdGF0ZW1lbnQiOlt7IlJlc291cmNlIjoiaHR0cHM6Ly9jZG4tbGZzLmh1Z2dpbmdmYWNlLmNvL3JlcG9zL2EzLzcyL2EzNzI4OGZkMjVkZTQ1YjZhOGJiYjc5ODAxOTA3Mjg5ZjZjMTJiYjg3MGRiNjhmNzViMDAyNDE5M2RhMWYwNDcvZDYzNzZhODg0YmM4MGE2ZWE5NWRhODNmOTYzNTA4ZTU3ZDg1MDgzMzNjNDI0YmVkN2JlZGE1NjVlNGFhYTBmMz9yZXNwb25zZS1jb250ZW50LWRpc3Bvc2l0aW9uPSomcmVzcG9uc2UtY29udGVudC10eXBlPSoiLCJDb25kaXRpb24iOnsiRGF0ZUxlc3NUaGFuIjp7IkFXUzpFcG9jaFRpbWUiOjE2ODcwNjcxMTB9fX1dfQ__&Signature=HNrTQFuryG4jQcxepnanLroiuXTrrNZrS8R-teEtAqzsoyZqgb2CWI8BbQeKD6%7Ec9NB0XgS-r4nB5HLo72%7E17xcHOo9YPpp3mRMaIj9PMWr-4oJWvWf4LTYO7Un61vgL34fPZ4gQV8ETSMkIvtc2YLSbiNMMTTIjic3WLwjVzPvjvaGfsQnwwrm1IiltWmFzyKyOa5tfwuapcGh2LLDpc5UpcHAgq%7EQ2MVjPEChwtgerXlrW%7ErEuD-yBgqRltWJqZCUfxGDAltYruEaF3DojHSCRhKBv9j-DGJWVwH4KlII9uMGjXlo2IlnNoOuTPs4zagH4O-h8ipgOo0YO%7Ebq9lA__&Key-Pair-Id=KVTP0A1DKRTAX\n",
            "\n",
            "06/15 05:45:09 [\u001b[1;32mNOTICE\u001b[0m] CUID#13 - Redirecting to https://cdn-lfs.huggingface.co/repos/a3/72/a37288fd25de45b6a8bbb79801907289f6c12bb870db68f75b0024193da1f047/d6376a884bc80a6ea95da83f963508e57d8508333c424bed7beda565e4aaa0f3?response-content-disposition=attachment%3B+filename*%3DUTF-8%27%27pytorch_model-00006-of-00009.bin%3B+filename%3D%22pytorch_model-00006-of-00009.bin%22%3B&response-content-type=application%2Foctet-stream&Expires=1687067110&Policy=eyJTdGF0ZW1lbnQiOlt7IlJlc291cmNlIjoiaHR0cHM6Ly9jZG4tbGZzLmh1Z2dpbmdmYWNlLmNvL3JlcG9zL2EzLzcyL2EzNzI4OGZkMjVkZTQ1YjZhOGJiYjc5ODAxOTA3Mjg5ZjZjMTJiYjg3MGRiNjhmNzViMDAyNDE5M2RhMWYwNDcvZDYzNzZhODg0YmM4MGE2ZWE5NWRhODNmOTYzNTA4ZTU3ZDg1MDgzMzNjNDI0YmVkN2JlZGE1NjVlNGFhYTBmMz9yZXNwb25zZS1jb250ZW50LWRpc3Bvc2l0aW9uPSomcmVzcG9uc2UtY29udGVudC10eXBlPSoiLCJDb25kaXRpb24iOnsiRGF0ZUxlc3NUaGFuIjp7IkFXUzpFcG9jaFRpbWUiOjE2ODcwNjcxMTB9fX1dfQ__&Signature=HNrTQFuryG4jQcxepnanLroiuXTrrNZrS8R-teEtAqzsoyZqgb2CWI8BbQeKD6%7Ec9NB0XgS-r4nB5HLo72%7E17xcHOo9YPpp3mRMaIj9PMWr-4oJWvWf4LTYO7Un61vgL34fPZ4gQV8ETSMkIvtc2YLSbiNMMTTIjic3WLwjVzPvjvaGfsQnwwrm1IiltWmFzyKyOa5tfwuapcGh2LLDpc5UpcHAgq%7EQ2MVjPEChwtgerXlrW%7ErEuD-yBgqRltWJqZCUfxGDAltYruEaF3DojHSCRhKBv9j-DGJWVwH4KlII9uMGjXlo2IlnNoOuTPs4zagH4O-h8ipgOo0YO%7Ebq9lA__&Key-Pair-Id=KVTP0A1DKRTAX\n",
            "\n",
            "06/15 05:45:09 [\u001b[1;32mNOTICE\u001b[0m] CUID#15 - Redirecting to https://cdn-lfs.huggingface.co/repos/a3/72/a37288fd25de45b6a8bbb79801907289f6c12bb870db68f75b0024193da1f047/d6376a884bc80a6ea95da83f963508e57d8508333c424bed7beda565e4aaa0f3?response-content-disposition=attachment%3B+filename*%3DUTF-8%27%27pytorch_model-00006-of-00009.bin%3B+filename%3D%22pytorch_model-00006-of-00009.bin%22%3B&response-content-type=application%2Foctet-stream&Expires=1687067110&Policy=eyJTdGF0ZW1lbnQiOlt7IlJlc291cmNlIjoiaHR0cHM6Ly9jZG4tbGZzLmh1Z2dpbmdmYWNlLmNvL3JlcG9zL2EzLzcyL2EzNzI4OGZkMjVkZTQ1YjZhOGJiYjc5ODAxOTA3Mjg5ZjZjMTJiYjg3MGRiNjhmNzViMDAyNDE5M2RhMWYwNDcvZDYzNzZhODg0YmM4MGE2ZWE5NWRhODNmOTYzNTA4ZTU3ZDg1MDgzMzNjNDI0YmVkN2JlZGE1NjVlNGFhYTBmMz9yZXNwb25zZS1jb250ZW50LWRpc3Bvc2l0aW9uPSomcmVzcG9uc2UtY29udGVudC10eXBlPSoiLCJDb25kaXRpb24iOnsiRGF0ZUxlc3NUaGFuIjp7IkFXUzpFcG9jaFRpbWUiOjE2ODcwNjcxMTB9fX1dfQ__&Signature=HNrTQFuryG4jQcxepnanLroiuXTrrNZrS8R-teEtAqzsoyZqgb2CWI8BbQeKD6%7Ec9NB0XgS-r4nB5HLo72%7E17xcHOo9YPpp3mRMaIj9PMWr-4oJWvWf4LTYO7Un61vgL34fPZ4gQV8ETSMkIvtc2YLSbiNMMTTIjic3WLwjVzPvjvaGfsQnwwrm1IiltWmFzyKyOa5tfwuapcGh2LLDpc5UpcHAgq%7EQ2MVjPEChwtgerXlrW%7ErEuD-yBgqRltWJqZCUfxGDAltYruEaF3DojHSCRhKBv9j-DGJWVwH4KlII9uMGjXlo2IlnNoOuTPs4zagH4O-h8ipgOo0YO%7Ebq9lA__&Key-Pair-Id=KVTP0A1DKRTAX\n",
            "\n",
            "06/15 05:45:09 [\u001b[1;32mNOTICE\u001b[0m] CUID#10 - Redirecting to https://cdn-lfs.huggingface.co/repos/a3/72/a37288fd25de45b6a8bbb79801907289f6c12bb870db68f75b0024193da1f047/2fc011e39d4a9c5958630b1bb946dec9ca54adbccc52804fed545490f995b20b?response-content-disposition=attachment%3B+filename*%3DUTF-8%27%27pytorch_model-00004-of-00009.bin%3B+filename%3D%22pytorch_model-00004-of-00009.bin%22%3B&response-content-type=application%2Foctet-stream&Expires=1687067110&Policy=eyJTdGF0ZW1lbnQiOlt7IlJlc291cmNlIjoiaHR0cHM6Ly9jZG4tbGZzLmh1Z2dpbmdmYWNlLmNvL3JlcG9zL2EzLzcyL2EzNzI4OGZkMjVkZTQ1YjZhOGJiYjc5ODAxOTA3Mjg5ZjZjMTJiYjg3MGRiNjhmNzViMDAyNDE5M2RhMWYwNDcvMmZjMDExZTM5ZDRhOWM1OTU4NjMwYjFiYjk0NmRlYzljYTU0YWRiY2NjNTI4MDRmZWQ1NDU0OTBmOTk1YjIwYj9yZXNwb25zZS1jb250ZW50LWRpc3Bvc2l0aW9uPSomcmVzcG9uc2UtY29udGVudC10eXBlPSoiLCJDb25kaXRpb24iOnsiRGF0ZUxlc3NUaGFuIjp7IkFXUzpFcG9jaFRpbWUiOjE2ODcwNjcxMTB9fX1dfQ__&Signature=UYWnXi%7ES6AJopdCyqU7xEGMQNjMtAZwvQPOaE%7EQLZ7nU5MShO2liLOukgkxEnoJqI4C0KYYuwL13yP2XEhUFJ8RrWpxjsbEvxvLTs0VkphbCU%7EtKFxAZ2Jmkd-rTMYXWDZZbl8MVo5NF7F16U5ZDj%7EBgsnsRbRObOWTbEuqe7SkNvHvBjtUF0GdsxAQq30R0SpuSJw2Zbo4FovU%7EJNwit7%7Ebhls5BYMzIJsH0KWLrNXvWdcPiKOJWGjiGsS0QMYAhP%7EXpB%7E17gMDUFYz7gTVt27rkLvNF2hhRJum0KWHtbxTOrmorb6Jq545Bcxkbo4Ts7twec0T%7E78C5OsfFsYPZQ__&Key-Pair-Id=KVTP0A1DKRTAX\n",
            "\n",
            "06/15 05:45:09 [\u001b[1;32mNOTICE\u001b[0m] CUID#10 - Redirecting to https://cdn-lfs.huggingface.co/repos/a3/72/a37288fd25de45b6a8bbb79801907289f6c12bb870db68f75b0024193da1f047/d6376a884bc80a6ea95da83f963508e57d8508333c424bed7beda565e4aaa0f3?response-content-disposition=attachment%3B+filename*%3DUTF-8%27%27pytorch_model-00006-of-00009.bin%3B+filename%3D%22pytorch_model-00006-of-00009.bin%22%3B&response-content-type=application%2Foctet-stream&Expires=1687065734&Policy=eyJTdGF0ZW1lbnQiOlt7IlJlc291cmNlIjoiaHR0cHM6Ly9jZG4tbGZzLmh1Z2dpbmdmYWNlLmNvL3JlcG9zL2EzLzcyL2EzNzI4OGZkMjVkZTQ1YjZhOGJiYjc5ODAxOTA3Mjg5ZjZjMTJiYjg3MGRiNjhmNzViMDAyNDE5M2RhMWYwNDcvZDYzNzZhODg0YmM4MGE2ZWE5NWRhODNmOTYzNTA4ZTU3ZDg1MDgzMzNjNDI0YmVkN2JlZGE1NjVlNGFhYTBmMz9yZXNwb25zZS1jb250ZW50LWRpc3Bvc2l0aW9uPSomcmVzcG9uc2UtY29udGVudC10eXBlPSoiLCJDb25kaXRpb24iOnsiRGF0ZUxlc3NUaGFuIjp7IkFXUzpFcG9jaFRpbWUiOjE2ODcwNjU3MzR9fX1dfQ__&Signature=d62WTohxLyvsKlNHDJG%7E2GC0lO%7E4LghWgJEwdKOMDryvoja5RVxGR8lN9aJj%7EBq9IKnfjIZPEgGeuePgDQTXZlTl7x9grwwYBiN2XllD3lX7E8DvHTGbCv6gK1YaRxTeOTv1EoTCznhFMgc6h4ZsC4dNBqmLrBwANapCxQI-lFip9SK-L0DUsWJmq7TG7eWVgWQlO0bynr2r9KF3z%7ECmiYGAltHKQcBhGq0KvtgnlP7sdgY9hiiJMJ2mpPEQ3oHpV5EBbscIMdnwtyrHMvmZNj3WVZoNAuBWWDr%7ETtJcXTfZGYAO4g7bZp12EZyfTcXzknZ0Xgx290vMSLa7HVo6Zg__&Key-Pair-Id=KVTP0A1DKRTAX\n",
            "\n",
            "06/15 05:45:09 [\u001b[1;32mNOTICE\u001b[0m] CUID#12 - Redirecting to https://cdn-lfs.huggingface.co/repos/a3/72/a37288fd25de45b6a8bbb79801907289f6c12bb870db68f75b0024193da1f047/d6376a884bc80a6ea95da83f963508e57d8508333c424bed7beda565e4aaa0f3?response-content-disposition=attachment%3B+filename*%3DUTF-8%27%27pytorch_model-00006-of-00009.bin%3B+filename%3D%22pytorch_model-00006-of-00009.bin%22%3B&response-content-type=application%2Foctet-stream&Expires=1687065734&Policy=eyJTdGF0ZW1lbnQiOlt7IlJlc291cmNlIjoiaHR0cHM6Ly9jZG4tbGZzLmh1Z2dpbmdmYWNlLmNvL3JlcG9zL2EzLzcyL2EzNzI4OGZkMjVkZTQ1YjZhOGJiYjc5ODAxOTA3Mjg5ZjZjMTJiYjg3MGRiNjhmNzViMDAyNDE5M2RhMWYwNDcvZDYzNzZhODg0YmM4MGE2ZWE5NWRhODNmOTYzNTA4ZTU3ZDg1MDgzMzNjNDI0YmVkN2JlZGE1NjVlNGFhYTBmMz9yZXNwb25zZS1jb250ZW50LWRpc3Bvc2l0aW9uPSomcmVzcG9uc2UtY29udGVudC10eXBlPSoiLCJDb25kaXRpb24iOnsiRGF0ZUxlc3NUaGFuIjp7IkFXUzpFcG9jaFRpbWUiOjE2ODcwNjU3MzR9fX1dfQ__&Signature=d62WTohxLyvsKlNHDJG%7E2GC0lO%7E4LghWgJEwdKOMDryvoja5RVxGR8lN9aJj%7EBq9IKnfjIZPEgGeuePgDQTXZlTl7x9grwwYBiN2XllD3lX7E8DvHTGbCv6gK1YaRxTeOTv1EoTCznhFMgc6h4ZsC4dNBqmLrBwANapCxQI-lFip9SK-L0DUsWJmq7TG7eWVgWQlO0bynr2r9KF3z%7ECmiYGAltHKQcBhGq0KvtgnlP7sdgY9hiiJMJ2mpPEQ3oHpV5EBbscIMdnwtyrHMvmZNj3WVZoNAuBWWDr%7ETtJcXTfZGYAO4g7bZp12EZyfTcXzknZ0Xgx290vMSLa7HVo6Zg__&Key-Pair-Id=KVTP0A1DKRTAX\n",
            "\n",
            "06/15 05:45:09 [\u001b[1;32mNOTICE\u001b[0m] CUID#12 - Redirecting to https://cdn-lfs.huggingface.co/repos/a3/72/a37288fd25de45b6a8bbb79801907289f6c12bb870db68f75b0024193da1f047/2fc011e39d4a9c5958630b1bb946dec9ca54adbccc52804fed545490f995b20b?response-content-disposition=attachment%3B+filename*%3DUTF-8%27%27pytorch_model-00004-of-00009.bin%3B+filename%3D%22pytorch_model-00004-of-00009.bin%22%3B&response-content-type=application%2Foctet-stream&Expires=1687067110&Policy=eyJTdGF0ZW1lbnQiOlt7IlJlc291cmNlIjoiaHR0cHM6Ly9jZG4tbGZzLmh1Z2dpbmdmYWNlLmNvL3JlcG9zL2EzLzcyL2EzNzI4OGZkMjVkZTQ1YjZhOGJiYjc5ODAxOTA3Mjg5ZjZjMTJiYjg3MGRiNjhmNzViMDAyNDE5M2RhMWYwNDcvMmZjMDExZTM5ZDRhOWM1OTU4NjMwYjFiYjk0NmRlYzljYTU0YWRiY2NjNTI4MDRmZWQ1NDU0OTBmOTk1YjIwYj9yZXNwb25zZS1jb250ZW50LWRpc3Bvc2l0aW9uPSomcmVzcG9uc2UtY29udGVudC10eXBlPSoiLCJDb25kaXRpb24iOnsiRGF0ZUxlc3NUaGFuIjp7IkFXUzpFcG9jaFRpbWUiOjE2ODcwNjcxMTB9fX1dfQ__&Signature=UYWnXi%7ES6AJopdCyqU7xEGMQNjMtAZwvQPOaE%7EQLZ7nU5MShO2liLOukgkxEnoJqI4C0KYYuwL13yP2XEhUFJ8RrWpxjsbEvxvLTs0VkphbCU%7EtKFxAZ2Jmkd-rTMYXWDZZbl8MVo5NF7F16U5ZDj%7EBgsnsRbRObOWTbEuqe7SkNvHvBjtUF0GdsxAQq30R0SpuSJw2Zbo4FovU%7EJNwit7%7Ebhls5BYMzIJsH0KWLrNXvWdcPiKOJWGjiGsS0QMYAhP%7EXpB%7E17gMDUFYz7gTVt27rkLvNF2hhRJum0KWHtbxTOrmorb6Jq545Bcxkbo4Ts7twec0T%7E78C5OsfFsYPZQ__&Key-Pair-Id=KVTP0A1DKRTAX\n",
            "\n",
            "06/15 05:45:09 [\u001b[1;32mNOTICE\u001b[0m] CUID#17 - Redirecting to https://cdn-lfs.huggingface.co/repos/a3/72/a37288fd25de45b6a8bbb79801907289f6c12bb870db68f75b0024193da1f047/d6376a884bc80a6ea95da83f963508e57d8508333c424bed7beda565e4aaa0f3?response-content-disposition=attachment%3B+filename*%3DUTF-8%27%27pytorch_model-00006-of-00009.bin%3B+filename%3D%22pytorch_model-00006-of-00009.bin%22%3B&response-content-type=application%2Foctet-stream&Expires=1687066028&Policy=eyJTdGF0ZW1lbnQiOlt7IlJlc291cmNlIjoiaHR0cHM6Ly9jZG4tbGZzLmh1Z2dpbmdmYWNlLmNvL3JlcG9zL2EzLzcyL2EzNzI4OGZkMjVkZTQ1YjZhOGJiYjc5ODAxOTA3Mjg5ZjZjMTJiYjg3MGRiNjhmNzViMDAyNDE5M2RhMWYwNDcvZDYzNzZhODg0YmM4MGE2ZWE5NWRhODNmOTYzNTA4ZTU3ZDg1MDgzMzNjNDI0YmVkN2JlZGE1NjVlNGFhYTBmMz9yZXNwb25zZS1jb250ZW50LWRpc3Bvc2l0aW9uPSomcmVzcG9uc2UtY29udGVudC10eXBlPSoiLCJDb25kaXRpb24iOnsiRGF0ZUxlc3NUaGFuIjp7IkFXUzpFcG9jaFRpbWUiOjE2ODcwNjYwMjh9fX1dfQ__&Signature=uw4t-E-EChUWEOw-rdrsG4TSNXKYoVuami53GS5PeNIi6EuWoZHqKn3SVyh7Q8eMTL%7EzrCFpWegSDky1usa2Jhj%7E7Xr5I2SR8gbJZdZ4nYaJhpgR2gtzDA0YkWXJm542jhlExxe7h6DuhTh4n7QLjq3eypA5bO4zEFzji-bI0tgfYJyXVVAlYuYP3Wfvx9a7masy7Z1RUGiIgWc1UxAKSuG5PYjWlLnwo9ZqxNfBW7NIVZuMG%7E7s4Dx9RSGNz2rMTZMxllwNnjqcHLIyP74fieeTdpYmj6NxMWjvQ11lBwCqfKK5LGPGI97LVJ3yuS4n4B4jPoIzS-hWvY7Qflp0Ow__&Key-Pair-Id=KVTP0A1DKRTAX\n",
            "\n",
            "06/15 05:45:09 [\u001b[1;32mNOTICE\u001b[0m] CUID#21 - Redirecting to https://cdn-lfs.huggingface.co/repos/a3/72/a37288fd25de45b6a8bbb79801907289f6c12bb870db68f75b0024193da1f047/d6376a884bc80a6ea95da83f963508e57d8508333c424bed7beda565e4aaa0f3?response-content-disposition=attachment%3B+filename*%3DUTF-8%27%27pytorch_model-00006-of-00009.bin%3B+filename%3D%22pytorch_model-00006-of-00009.bin%22%3B&response-content-type=application%2Foctet-stream&Expires=1687067110&Policy=eyJTdGF0ZW1lbnQiOlt7IlJlc291cmNlIjoiaHR0cHM6Ly9jZG4tbGZzLmh1Z2dpbmdmYWNlLmNvL3JlcG9zL2EzLzcyL2EzNzI4OGZkMjVkZTQ1YjZhOGJiYjc5ODAxOTA3Mjg5ZjZjMTJiYjg3MGRiNjhmNzViMDAyNDE5M2RhMWYwNDcvZDYzNzZhODg0YmM4MGE2ZWE5NWRhODNmOTYzNTA4ZTU3ZDg1MDgzMzNjNDI0YmVkN2JlZGE1NjVlNGFhYTBmMz9yZXNwb25zZS1jb250ZW50LWRpc3Bvc2l0aW9uPSomcmVzcG9uc2UtY29udGVudC10eXBlPSoiLCJDb25kaXRpb24iOnsiRGF0ZUxlc3NUaGFuIjp7IkFXUzpFcG9jaFRpbWUiOjE2ODcwNjcxMTB9fX1dfQ__&Signature=HNrTQFuryG4jQcxepnanLroiuXTrrNZrS8R-teEtAqzsoyZqgb2CWI8BbQeKD6%7Ec9NB0XgS-r4nB5HLo72%7E17xcHOo9YPpp3mRMaIj9PMWr-4oJWvWf4LTYO7Un61vgL34fPZ4gQV8ETSMkIvtc2YLSbiNMMTTIjic3WLwjVzPvjvaGfsQnwwrm1IiltWmFzyKyOa5tfwuapcGh2LLDpc5UpcHAgq%7EQ2MVjPEChwtgerXlrW%7ErEuD-yBgqRltWJqZCUfxGDAltYruEaF3DojHSCRhKBv9j-DGJWVwH4KlII9uMGjXlo2IlnNoOuTPs4zagH4O-h8ipgOo0YO%7Ebq9lA__&Key-Pair-Id=KVTP0A1DKRTAX\n",
            "\n",
            "06/15 05:45:09 [\u001b[1;32mNOTICE\u001b[0m] CUID#11 - Redirecting to https://cdn-lfs.huggingface.co/repos/a3/72/a37288fd25de45b6a8bbb79801907289f6c12bb870db68f75b0024193da1f047/2fc011e39d4a9c5958630b1bb946dec9ca54adbccc52804fed545490f995b20b?response-content-disposition=attachment%3B+filename*%3DUTF-8%27%27pytorch_model-00004-of-00009.bin%3B+filename%3D%22pytorch_model-00004-of-00009.bin%22%3B&response-content-type=application%2Foctet-stream&Expires=1687067109&Policy=eyJTdGF0ZW1lbnQiOlt7IlJlc291cmNlIjoiaHR0cHM6Ly9jZG4tbGZzLmh1Z2dpbmdmYWNlLmNvL3JlcG9zL2EzLzcyL2EzNzI4OGZkMjVkZTQ1YjZhOGJiYjc5ODAxOTA3Mjg5ZjZjMTJiYjg3MGRiNjhmNzViMDAyNDE5M2RhMWYwNDcvMmZjMDExZTM5ZDRhOWM1OTU4NjMwYjFiYjk0NmRlYzljYTU0YWRiY2NjNTI4MDRmZWQ1NDU0OTBmOTk1YjIwYj9yZXNwb25zZS1jb250ZW50LWRpc3Bvc2l0aW9uPSomcmVzcG9uc2UtY29udGVudC10eXBlPSoiLCJDb25kaXRpb24iOnsiRGF0ZUxlc3NUaGFuIjp7IkFXUzpFcG9jaFRpbWUiOjE2ODcwNjcxMDl9fX1dfQ__&Signature=KtzoxQ7vQU4YaLXkR4-bvgUXbNysfSEhY3XyJghRGnduJ-iG9tPmqZv8H73KbLTYtn%7EASbX5R9Y%7ETiVYoDuf9JRugtx22A7WTBDf-8x48o0sXheDg%7E8gl%7ERxA1oXt-a-C9LnbxcnM83388SoAKUeNpQRX6kOup7uReaO6QoXaBg0rvcwMEV7-bT4xuy9W9lUiUKF-0EbGL5G5IdQLR6NIYYQfSILoASmFM8iWOS%7E8gZZ7ejz5alGn2S%7EgWfd0fbsNTiIjTT7cayoYTLROxnO51tbXjca7pBb4dlGbOx1XERPUAEj7eEGucwxLvJp9%7EKhYsSDsQ01k48YJOuC0m37uQ__&Key-Pair-Id=KVTP0A1DKRTAX\n",
            "\n",
            "06/15 05:45:09 [\u001b[1;32mNOTICE\u001b[0m] CUID#16 - Redirecting to https://cdn-lfs.huggingface.co/repos/a3/72/a37288fd25de45b6a8bbb79801907289f6c12bb870db68f75b0024193da1f047/d6376a884bc80a6ea95da83f963508e57d8508333c424bed7beda565e4aaa0f3?response-content-disposition=attachment%3B+filename*%3DUTF-8%27%27pytorch_model-00006-of-00009.bin%3B+filename%3D%22pytorch_model-00006-of-00009.bin%22%3B&response-content-type=application%2Foctet-stream&Expires=1687067110&Policy=eyJTdGF0ZW1lbnQiOlt7IlJlc291cmNlIjoiaHR0cHM6Ly9jZG4tbGZzLmh1Z2dpbmdmYWNlLmNvL3JlcG9zL2EzLzcyL2EzNzI4OGZkMjVkZTQ1YjZhOGJiYjc5ODAxOTA3Mjg5ZjZjMTJiYjg3MGRiNjhmNzViMDAyNDE5M2RhMWYwNDcvZDYzNzZhODg0YmM4MGE2ZWE5NWRhODNmOTYzNTA4ZTU3ZDg1MDgzMzNjNDI0YmVkN2JlZGE1NjVlNGFhYTBmMz9yZXNwb25zZS1jb250ZW50LWRpc3Bvc2l0aW9uPSomcmVzcG9uc2UtY29udGVudC10eXBlPSoiLCJDb25kaXRpb24iOnsiRGF0ZUxlc3NUaGFuIjp7IkFXUzpFcG9jaFRpbWUiOjE2ODcwNjcxMTB9fX1dfQ__&Signature=HNrTQFuryG4jQcxepnanLroiuXTrrNZrS8R-teEtAqzsoyZqgb2CWI8BbQeKD6%7Ec9NB0XgS-r4nB5HLo72%7E17xcHOo9YPpp3mRMaIj9PMWr-4oJWvWf4LTYO7Un61vgL34fPZ4gQV8ETSMkIvtc2YLSbiNMMTTIjic3WLwjVzPvjvaGfsQnwwrm1IiltWmFzyKyOa5tfwuapcGh2LLDpc5UpcHAgq%7EQ2MVjPEChwtgerXlrW%7ErEuD-yBgqRltWJqZCUfxGDAltYruEaF3DojHSCRhKBv9j-DGJWVwH4KlII9uMGjXlo2IlnNoOuTPs4zagH4O-h8ipgOo0YO%7Ebq9lA__&Key-Pair-Id=KVTP0A1DKRTAX\n",
            "\n",
            "06/15 05:45:09 [\u001b[1;32mNOTICE\u001b[0m] CUID#22 - Redirecting to https://cdn-lfs.huggingface.co/repos/a3/72/a37288fd25de45b6a8bbb79801907289f6c12bb870db68f75b0024193da1f047/d6376a884bc80a6ea95da83f963508e57d8508333c424bed7beda565e4aaa0f3?response-content-disposition=attachment%3B+filename*%3DUTF-8%27%27pytorch_model-00006-of-00009.bin%3B+filename%3D%22pytorch_model-00006-of-00009.bin%22%3B&response-content-type=application%2Foctet-stream&Expires=1687067110&Policy=eyJTdGF0ZW1lbnQiOlt7IlJlc291cmNlIjoiaHR0cHM6Ly9jZG4tbGZzLmh1Z2dpbmdmYWNlLmNvL3JlcG9zL2EzLzcyL2EzNzI4OGZkMjVkZTQ1YjZhOGJiYjc5ODAxOTA3Mjg5ZjZjMTJiYjg3MGRiNjhmNzViMDAyNDE5M2RhMWYwNDcvZDYzNzZhODg0YmM4MGE2ZWE5NWRhODNmOTYzNTA4ZTU3ZDg1MDgzMzNjNDI0YmVkN2JlZGE1NjVlNGFhYTBmMz9yZXNwb25zZS1jb250ZW50LWRpc3Bvc2l0aW9uPSomcmVzcG9uc2UtY29udGVudC10eXBlPSoiLCJDb25kaXRpb24iOnsiRGF0ZUxlc3NUaGFuIjp7IkFXUzpFcG9jaFRpbWUiOjE2ODcwNjcxMTB9fX1dfQ__&Signature=HNrTQFuryG4jQcxepnanLroiuXTrrNZrS8R-teEtAqzsoyZqgb2CWI8BbQeKD6%7Ec9NB0XgS-r4nB5HLo72%7E17xcHOo9YPpp3mRMaIj9PMWr-4oJWvWf4LTYO7Un61vgL34fPZ4gQV8ETSMkIvtc2YLSbiNMMTTIjic3WLwjVzPvjvaGfsQnwwrm1IiltWmFzyKyOa5tfwuapcGh2LLDpc5UpcHAgq%7EQ2MVjPEChwtgerXlrW%7ErEuD-yBgqRltWJqZCUfxGDAltYruEaF3DojHSCRhKBv9j-DGJWVwH4KlII9uMGjXlo2IlnNoOuTPs4zagH4O-h8ipgOo0YO%7Ebq9lA__&Key-Pair-Id=KVTP0A1DKRTAX\n",
            "\n",
            "06/15 05:45:09 [\u001b[1;32mNOTICE\u001b[0m] CUID#23 - Redirecting to https://cdn-lfs.huggingface.co/repos/a3/72/a37288fd25de45b6a8bbb79801907289f6c12bb870db68f75b0024193da1f047/d6376a884bc80a6ea95da83f963508e57d8508333c424bed7beda565e4aaa0f3?response-content-disposition=attachment%3B+filename*%3DUTF-8%27%27pytorch_model-00006-of-00009.bin%3B+filename%3D%22pytorch_model-00006-of-00009.bin%22%3B&response-content-type=application%2Foctet-stream&Expires=1687066028&Policy=eyJTdGF0ZW1lbnQiOlt7IlJlc291cmNlIjoiaHR0cHM6Ly9jZG4tbGZzLmh1Z2dpbmdmYWNlLmNvL3JlcG9zL2EzLzcyL2EzNzI4OGZkMjVkZTQ1YjZhOGJiYjc5ODAxOTA3Mjg5ZjZjMTJiYjg3MGRiNjhmNzViMDAyNDE5M2RhMWYwNDcvZDYzNzZhODg0YmM4MGE2ZWE5NWRhODNmOTYzNTA4ZTU3ZDg1MDgzMzNjNDI0YmVkN2JlZGE1NjVlNGFhYTBmMz9yZXNwb25zZS1jb250ZW50LWRpc3Bvc2l0aW9uPSomcmVzcG9uc2UtY29udGVudC10eXBlPSoiLCJDb25kaXRpb24iOnsiRGF0ZUxlc3NUaGFuIjp7IkFXUzpFcG9jaFRpbWUiOjE2ODcwNjYwMjh9fX1dfQ__&Signature=uw4t-E-EChUWEOw-rdrsG4TSNXKYoVuami53GS5PeNIi6EuWoZHqKn3SVyh7Q8eMTL%7EzrCFpWegSDky1usa2Jhj%7E7Xr5I2SR8gbJZdZ4nYaJhpgR2gtzDA0YkW\n",
            "XJm542jhlExxe7h6DuhTh4n7QLjq3eypA5bO4zEFzji-bI0tgfYJyXVVAlYuYP3Wfvx9a7masy7Z1RUGiIgWc1UxAKSuG5PYjWlLnwo9ZqxNfBW7NIVZuMG%7E7s4Dx9RSGNz2rMTZMxllwNnjqcHLIyP74fieeTdpYmj6NxMWjvQ11lBwCqfKK5LGPGI97LVJ3yuS4n4B4jPoIzS-hWvY7Qflp0Ow__&Key-Pair-Id=KVTP0A1DKRTAX\n",
            "06/15 05:45:09 [\u001b[1;32mNOTICE\u001b[0m] CUID#21 - Redirecting to https://cdn-lfs.huggingface.co/repos/a3/72/a37288fd25de45b6a8bbb79801907289f6c12bb870db68f75b0024193da1f047/2fc011e39d4a9c5958630b1bb946dec9ca54adbccc52804fed545490f995b20b?response-content-disposition=attachment%3B+filename*%3DUTF-8%27%27pytorch_model-00004-of-00009.bin%3B+filename%3D%22pytorch_model-00004-of-00009.bin%22%3B&response-content-type=application%2Foctet-stream&Expires=1687067110&Policy=eyJTdGF0ZW1lbnQiOlt7IlJlc291cmNlIjoiaHR0cHM6Ly9jZG4tbGZzLmh1Z2dpbmdmYWNlLmNvL3JlcG9zL2EzLzcyL2EzNzI4OGZkMjVkZTQ1YjZhOGJiYjc5ODAxOTA3Mjg5ZjZjMTJiYjg3MGRiNjhmNzViMDAyNDE5M2RhMWYwNDcvMmZjMDExZTM5ZDRhOWM1OTU4NjMwYjFiYjk0NmRlYzljYTU0YWRiY2NjNTI4MDRmZWQ1NDU0OTBmOTk1YjIwYj9yZXNwb25zZS1jb250ZW50LWRpc3Bvc2l0aW9uPSomcmVzcG9uc2UtY29udGVudC10eXBlPSoiLCJDb25kaXRpb24iOnsiRGF0ZUxlc3NUaGFuIjp7IkFXUzpFcG9jaFRpbWUiOjE2ODcwNjcxMTB9fX1dfQ__&Signature=UYWnXi%7ES6AJopdCyqU7xEGMQNjMtAZwvQPOaE%7EQLZ7nU5MShO2liLOukgkxEnoJqI4C0KYYuwL13yP2XEhUFJ8RrWpxjsbEvxvLTs0VkphbCU%7EtKFxAZ2Jmkd-rTMYXWDZZbl8MVo5NF7F16U5ZDj%7EBgsnsRbRObOWTbEuqe7SkNvHvBjtUF0GdsxAQq30R0SpuSJw2Zbo4FovU%7EJNwit7%7Ebhls5BYMzIJsH0KWLrNXvWdcPiKOJWGjiGsS0QMYAhP%7EXpB%7E17gMDUFYz7gTVt27rkLvNF2hhRJum0KWHtbxTOrmorb6Jq545Bcxkbo4Ts7twec0T%7E78C5OsfFsYPZQ__&Key-Pair-Id=KVTP0A1DKRTAX\n",
            "\n",
            "06/15 05:45:09 [\u001b[1;32mNOTICE\u001b[0m] CUID#11 - Redirecting to https://cdn-lfs.huggingface.co/repos/a3/72/a37288fd25de45b6a8bbb79801907289f6c12bb870db68f75b0024193da1f047/638cb048ee6ad66f85a176e980332b0d61cbddb2d5dc9b5ad1863d87e020350c?response-content-disposition=attachment%3B+filename*%3DUTF-8%27%27pytorch_model-00002-of-00009.bin%3B+filename%3D%22pytorch_model-00002-of-00009.bin%22%3B&response-content-type=application%2Foctet-stream&Expires=1687067109&Policy=eyJTdGF0ZW1lbnQiOlt7IlJlc291cmNlIjoiaHR0cHM6Ly9jZG4tbGZzLmh1Z2dpbmdmYWNlLmNvL3JlcG9zL2EzLzcyL2EzNzI4OGZkMjVkZTQ1YjZhOGJiYjc5ODAxOTA3Mjg5ZjZjMTJiYjg3MGRiNjhmNzViMDAyNDE5M2RhMWYwNDcvNjM4Y2IwNDhlZTZhZDY2Zjg1YTE3NmU5ODAzMzJiMGQ2MWNiZGRiMmQ1ZGM5YjVhZDE4NjNkODdlMDIwMzUwYz9yZXNwb25zZS1jb250ZW50LWRpc3Bvc2l0aW9uPSomcmVzcG9uc2UtY29udGVudC10eXBlPSoiLCJDb25kaXRpb24iOnsiRGF0ZUxlc3NUaGFuIjp7IkFXUzpFcG9jaFRpbWUiOjE2ODcwNjcxMDl9fX1dfQ__&Signature=qcaiIKTprIbKlMPbQ-JNEscTF14N-Hyz6rDa-VFqrQSkzP1uhqMK4UyqLl6QIJKjNY9feayUhz7BWL-f8rAWlphJxUm5X6ElRqKo9bBVxPFkLLyKQ6rA9qLTQF6YNOmPReGyc6RByz69v1YYXnVJWW-fj522no4vBDxLFcKP8lopJjRwLt9v6jLwvXHUQjmsTVRBjvPIunQdD6JOvlqJIH9DAGeMuNIn%7EeWOQwSDDie7PvbNyZDnnv57%7EnszSSnfLRDgRt4djJBt2%7EGHbgrKdF-jfkjn1TCGoy3UlSQjc04d-eCq0OnSs1uVjBYc6cxCoKa46yEEzTDwGF29ov1lkw__&Key-Pair-Id=KVTP0A1DKRTAX\n",
            "\n",
            "06/15 05:45:09 [\u001b[1;32mNOTICE\u001b[0m] CUID#13 - Redirecting to https://cdn-lfs.huggingface.co/repos/a3/72/a37288fd25de45b6a8bbb79801907289f6c12bb870db68f75b0024193da1f047/2fc011e39d4a9c5958630b1bb946dec9ca54adbccc52804fed545490f995b20b?response-content-disposition=attachment%3B+filename*%3DUTF-8%27%27pytorch_model-00004-of-00009.bin%3B+filename%3D%22pytorch_model-00004-of-00009.bin%22%3B&response-content-type=application%2Foctet-stream&Expires=1687067110&Policy=eyJTdGF0ZW1lbnQiOlt7IlJlc291cmNlIjoiaHR0cHM6Ly9jZG4tbGZzLmh1Z2dpbmdmYWNlLmNvL3JlcG9zL2EzLzcyL2EzNzI4OGZkMjVkZTQ1YjZhOGJiYjc5ODAxOTA3Mjg5ZjZjMTJiYjg3MGRiNjhmNzViMDAyNDE5M2RhMWYwNDcvMmZjMDExZTM5ZDRhOWM1OTU4NjMwYjFiYjk0NmRlYzljYTU0YWRiY2NjNTI4MDRmZWQ1NDU0OTBmOTk1YjIwYj9yZXNwb25zZS1jb250ZW50LWRpc3Bvc2l0aW9uPSomcmVzcG9uc2UtY29udGVudC10eXBlPSoiLCJDb25kaXRpb24iOnsiRGF0ZUxlc3NUaGFuIjp7IkFXUzpFcG9jaFRpbWUiOjE2ODcwNjcxMTB9fX1dfQ__&Signature=UYWnXi%7ES6AJopdCyqU7xEGMQNjMtAZwvQPOaE%7EQLZ7nU5MShO2liLOukgkxEnoJqI4C0KYYuwL13yP2XEhUFJ8RrWpxjsbEvxvLTs0VkphbCU%7EtKFxAZ2Jmkd-rTMYXWDZZbl8MVo5NF7F16U5ZDj%7EBgsnsRbRObOWTbEuqe7SkNvHvBjtUF0GdsxAQq30R0SpuSJw2Zbo4FovU%7EJNwit7%7Ebhls5BYMzIJsH0KWLrNXvWdcPiKOJWGjiGsS0QMYAhP%7EXpB%7E17gMDUFYz7gTVt27rkLvNF2hhRJum0KWHtbxTOrmorb6Jq545Bcxkbo4Ts7twec0T%7E78C5OsfFsYPZQ__&Key-Pair-Id=KVTP0A1DKRTAX\n",
            "\n",
            "06/15 05:45:09 [\u001b[1;32mNOTICE\u001b[0m] CUID#19 - Redirecting to https://cdn-lfs.huggingface.co/repos/a3/72/a37288fd25de45b6a8bbb79801907289f6c12bb870db68f75b0024193da1f047/2fc011e39d4a9c5958630b1bb946dec9ca54adbccc52804fed545490f995b20b?response-content-disposition=attachment%3B+filename*%3DUTF-8%27%27pytorch_model-00004-of-00009.bin%3B+filename%3D%22pytorch_model-00004-of-00009.bin%22%3B&response-content-type=application%2Foctet-stream&Expires=1687067110&Policy=eyJTdGF0ZW1lbnQiOlt7IlJlc291cmNlIjoiaHR0cHM6Ly9jZG4tbGZzLmh1Z2dpbmdmYWNlLmNvL3JlcG9zL2EzLzcyL2EzNzI4OGZkMjVkZTQ1YjZhOGJiYjc5ODAxOTA3Mjg5ZjZjMTJiYjg3MGRiNjhmNzViMDAyNDE5M2RhMWYwNDcvMmZjMDExZTM5ZDRhOWM1OTU4NjMwYjFiYjk0NmRlYzljYTU0YWRiY2NjNTI4MDRmZWQ1NDU0OTBmOTk1YjIwYj9yZXNwb25zZS1jb250ZW50LWRpc3Bvc2l0aW9uPSomcmVzcG9uc2UtY29udGVudC10eXBlPSoiLCJDb25kaXRpb24iOnsiRGF0ZUxlc3NUaGFuIjp7IkFXUzpFcG9jaFRpbWUiOjE2ODcwNjcxMTB9fX1dfQ__&Signature=UYWnXi%7ES6AJopdCyqU7xEGMQNjMtAZwvQPOaE%7EQLZ7nU5MShO2liLOukgkxEnoJqI4C0KYYuwL13yP2XEhUFJ8RrWpxjsbEvxvLTs0VkphbCU%7EtKFxAZ2Jmkd-rTMYXWDZZbl8MVo5NF7F16U5ZDj%7EBgsnsRbRObOWTbEuqe7SkNvHvBjtUF0GdsxAQq30R0SpuSJw2Zbo4FovU%7EJNwit7%7Ebhls5BYMzIJsH0KWLrNXvWdcPiKOJWGjiGsS0QMYAhP%7EXpB%7E17gMDUFYz7gTVt27rkLvNF2hhRJum0KWHtbxTOrmorb6Jq545Bcxkbo4Ts7twec0T%7E78C5OsfFsYPZQ__&Key-Pair-Id=KVTP0A1DKRTAX\n",
            "\n",
            "06/15 05:45:09 [\u001b[1;32mNOTICE\u001b[0m] CUID#17 - Redirecting to https://cdn-lfs.huggingface.co/repos/a3/72/a37288fd25de45b6a8bbb79801907289f6c12bb870db68f75b0024193da1f047/2fc011e39d4a9c5958630b1bb946dec9ca54adbccc52804fed545490f995b20b?response-content-disposition=attachment%3B+filename*%3DUTF-8%27%27pytorch_model-00004-of-00009.bin%3B+filename%3D%22pytorch_model-00004-of-00009.bin%22%3B&response-content-type=application%2Foctet-stream&Expires=1687067110&Policy=eyJTdGF0ZW1lbnQiOlt7IlJlc291cmNlIjoiaHR0cHM6Ly9jZG4tbGZzLmh1Z2dpbmdmYWNlLmNvL3JlcG9zL2EzLzcyL2EzNzI4OGZkMjVkZTQ1YjZhOGJiYjc5ODAxOTA3Mjg5ZjZjMTJiYjg3MGRiNjhmNzViMDAyNDE5M2RhMWYwNDcvMmZjMDExZTM5ZDRhOWM1OTU4NjMwYjFiYjk0NmRlYzljYTU0YWRiY2NjNTI4MDRmZWQ1NDU0OTBmOTk1YjIwYj9yZXNwb25zZS1jb250ZW50LWRpc3Bvc2l0aW9uPSomcmVzcG9uc2UtY29udGVudC10eXBlPSoiLCJDb25kaXRpb24iOnsiRGF0ZUxlc3NUaGFuIjp7IkFXUzpFcG9jaFRpbWUiOjE2ODcwNjcxMTB9fX1dfQ__&Signature=UYWnXi%7ES6AJopdCyqU7xEGMQNjMtAZwvQPOaE%7EQLZ7nU5MShO2liLOukgkxEnoJqI4C0KYYuwL13yP2XEhUFJ8RrWpxjsbEvxvLTs0VkphbCU%7EtKFxAZ2Jmkd-rTMYXWDZZbl8MVo5NF7F16U5ZDj%7EBgsnsRbRObOWTbEuqe7SkNvHvBjtUF0GdsxAQq30R0SpuSJw2Zbo4FovU%7EJNwit7%7Ebhls5BYMzIJsH0KWLrNXvWdcPiKOJWGjiGsS0QMYAhP%7EXpB%7E17gMDUFYz7gTVt27rkLvNF2hhRJum0KWHtbxTOrmorb6Jq545Bcxkbo4Ts7twec0T%7E78C5OsfFsYPZQ__&Key-Pair-Id=KVTP0A1DKRTAX\n",
            "\n",
            "06/15 05:45:09 [\u001b[1;32mNOTICE\u001b[0m] CUID#16 - Redirecting to https://cdn-lfs.huggingface.co/repos/a3/72/a37288fd25de45b6a8bbb79801907289f6c12bb870db68f75b0024193da1f047/2fc011e39d4a9c5958630b1bb946dec9ca54adbccc52804fed545490f995b20b?response-content-disposition=attachment%3B+filename*%3DUTF-8%27%27pytorch_model-00004-of-00009.bin%3B+filename%3D%22pytorch_model-00004-of-00009.bin%22%3B&response-content-type=application%2Foctet-stream&Expires=1687067110&Policy=eyJTdGF0ZW1lbnQiOlt7IlJlc291cmNlIjoiaHR0cHM6Ly9jZG4tbGZzLmh1Z2dpbmdmYWNlLmNvL3JlcG9zL2EzLzcyL2EzNzI4OGZkMjVkZTQ1YjZhOGJiYjc5ODAxOTA3Mjg5ZjZjMTJiYjg3MGRiNjhmNzViMDAyNDE5M2RhMWYwNDcvMmZjMDExZTM5ZDRhOWM1OTU4NjMwYjFiYjk0NmRlYzljYTU0YWRiY2NjNTI4MDRmZWQ1NDU0OTBmOTk1YjIwYj9yZXNwb25zZS1jb250ZW50LWRpc3Bvc2l0aW9uPSomcmVzcG9uc2UtY29udGVudC10eXBlPSoiLCJDb25kaXRpb24iOnsiRGF0ZUxlc3NUaGFuIjp7IkFXUzpFcG9jaFRpbWUiOjE2ODcwNjcxMTB9fX1dfQ__&Signature=UYWnXi%7ES6AJopdCyqU7xEGMQNjMtAZwvQPOaE%7EQLZ7nU5MShO2liLOukgkxEnoJqI4C0KYYuwL13yP2XEhUFJ8RrWpxjsbEvxvLTs0VkphbCU%7EtKFxAZ2Jmkd-rTMYXWDZZbl8MVo5NF7F16U5ZDj%7EBgsnsRbRObOWTbEuqe7SkNvHvBjtUF0GdsxAQq30R0SpuSJw2Zbo4FovU%7EJNwit7%7Ebhls5BYMzIJsH0KWLrNXvWdcPiKOJWGjiGsS0QMYAhP%7EXpB%7E17gMDUFYz7gTVt27rkLvNF2hhRJum0KWHtbxTOrmorb6Jq545Bcxkbo4Ts7twec0T%7E78C5OsfFsYPZQ__&Key-Pair-Id=KVTP0A1DKRTAX\n",
            "\n",
            "06/15 05:45:09 [\u001b[1;32mNOTICE\u001b[0m] CUID#20 - Redirecting to https://cdn-lfs.huggingface.co/repos/a3/72/a37288fd25de45b6a8bbb79801907289f6c12bb870db68f75b0024193da1f047/2fc011e39d4a9c5958630b1bb946dec9ca54adbccc52804fed545490f995b20b?response-content-disposition=attachment%3B+filename*%3DUTF-8%27%27pytorch_model-00004-of-00009.bin%3B+filename%3D%22pytorch_model-00004-of-00009.bin%22%3B&response-content-type=application%2Foctet-stream&Expires=1687067110&Policy=eyJTdGF0ZW1lbnQiOlt7IlJlc291cmNlIjoiaHR0cHM6Ly9jZG4tbGZzLmh1Z2dpbmdmYWNlLmNvL3JlcG9zL2EzLzcyL2EzNzI4OGZkMjVkZTQ1YjZhOGJiYjc5ODAxOTA3Mjg5ZjZjMTJiYjg3MGRiNjhmNzViMDAyNDE5M2RhMWYwNDcvMmZjMDExZTM5ZDRhOWM1OTU4NjMwYjFiYjk0NmRlYzljYTU0YWRiY2NjNTI4MDRmZWQ1NDU0OTBmOTk1YjIwYj9yZXNwb25zZS1jb250ZW50LWRpc3Bvc2l0aW9uPSomcmVzcG9uc2UtY29udGVudC10eXBlPSoiLCJDb25kaXRpb24iOnsiRGF0ZUxlc3NUaGFuIjp7IkFXUzpFcG9jaFRpbWUiOjE2ODcwNjcxMTB9fX1dfQ__&Signature=UYWnXi%7ES6AJopdCyqU7xEGMQNjMtAZwvQPOaE%7EQLZ7nU5MShO2liLOukgkxEnoJqI4C0KYYuwL13yP2XEhUFJ8RrWpxjsbEvxvLTs0VkphbCU%7EtKFxAZ2Jmkd-rTMYXWDZZbl8MVo5NF7F16U5ZDj%7EBgsnsRbRObOWTbEuqe7SkNvHvBjtUF0GdsxAQq30R0SpuSJw2Zbo4FovU%7EJNwit7%7Ebhls5BYMzIJsH0KWLrNXvWdcPiKOJWGjiGsS0QMYAhP%7EXpB%7E17gMDUFYz7gTVt27rkLvNF2hhRJum0KWHtbxTOrmorb6Jq545Bcxkbo4Ts7twec0T%7E78C5OsfFsYPZQ__&Key-Pair-Id=KVTP0A1DKRTAX\n",
            "\n",
            "06/15 05:45:09 [\u001b[1;32mNOTICE\u001b[0m] CUID#15 - Redirecting to https://cdn-lfs.huggingface.co/repos/a3/72/a37288fd25de45b6a8bbb79801907289f6c12bb870db68f75b0024193da1f047/2fc011e39d4a9c5958630b1bb946dec9ca54adbccc52804fed545490f995b20b?response-content-disposition=attachment%3B+filename*%3DUTF-8%27%27pytorch_model-00004-of-00009.bin%3B+filename%3D%22pytorch_model-00004-of-00009.bin%22%3B&response-content-type=application%2Foctet-stream&Expires=1687066791&Policy=eyJTdGF0ZW1lbnQiOlt7IlJlc291cmNlIjoiaHR0cHM6Ly9jZG4tbGZzLmh1Z2dpbmdmYWNlLmNvL3JlcG9zL2EzLzcyL2EzNzI4OGZkMjVkZTQ1YjZhOGJiYjc5ODAxOTA3Mjg5ZjZjMTJiYjg3MGRiNjhmNzViMDAyNDE5M2RhMWYwNDcvMmZjMDExZTM5ZDRhOWM1OTU4NjMwYjFiYjk0NmRlYzljYTU0YWRiY2NjNTI4MDRmZWQ1NDU0OTBmOTk1YjIwYj9yZXNwb25zZS1jb250ZW50LWRpc3Bvc2l0aW9uPSomcmVzcG9uc2UtY29udGVudC10eXBlPSoiLCJDb25kaXRpb24iOnsiRGF0ZUxlc3NUaGFuIjp7IkFXUzpFcG9jaFRpbWUiOjE2ODcwNjY3OTF9fX1dfQ__&Signature=r1iKXWZMdTA3xoUjiA9YqZpXYK3qyONKFUKbapAInwXUGSEb8UxoYz1N-sK%7EqsdQjwelg7XdTALR8vqbFj2d2VLFlnbKwT0g43WBNVoOMQ0Jndd6bsOc75CD930thjPjd0SbvLUXw9HTyFVEGPK%7E1RUKcemY5aWM2%7ExPi8gyWwOii1bBqDw9QznL-BTt79r9bNxquluwLPhrNYO%7ExmwyIF4wpMCLhR1-Q8N1ToCbJjQudvwgBIk0IgH-49Mqwr24I%7EUIVyVhsjRGAJzqea61uLr2E5Lzh0r8oxbyvjA2Ofgw1Y6mhtsAaKZQjw8DSYXclwH9EYsjA3KFFcYWh8xzbA__&Key-Pair-Id=KVTP0A1DKRTAX\n",
            "\n",
            "06/15 05:45:09 [\u001b[1;32mNOTICE\u001b[0m] CUID#14 - Redirecting to https://cdn-lfs.huggingface.co/repos/a3/72/a37288fd25de45b6a8bbb79801907289f6c12bb870db68f75b0024193da1f047/2fc011e39d4a9c5958630b1bb946dec9ca54adbccc52804fed545490f995b20b?response-content-disposition=attachment%3B+filename*%3DUTF-8%27%27pytorch_model-00004-of-00009.bin%3B+filename%3D%22pytorch_model-00004-of-00009.bin%22%3B&response-content-type=application%2Foctet-stream&Expires=1687067110&Policy=eyJTdGF0ZW1lbnQiOlt7IlJlc291cmNlIjoiaHR0cHM6Ly9jZG4tbGZzLmh1Z2dpbmdmYWNlLmNvL3JlcG9zL2EzLzcyL2EzNzI4OGZkMjVkZTQ1YjZhOGJiYjc5ODAxOTA3Mjg5ZjZjMTJiYjg3MGRiNjhmNzViMDAyNDE5M2RhMWYwNDcvMmZjMDExZTM5ZDRhOWM1OTU4NjMwYjFiYjk0NmRlYzljYTU0YWRiY2NjNTI4MDRmZWQ1NDU0OTBmOTk1YjIwYj9yZXNwb25zZS1jb250ZW50LWRpc3Bvc2l0aW9uPSomcmVzcG9uc2UtY29udGVudC10eXBlPSoiLCJDb25kaXRpb24iOnsiRGF0ZUxlc3NUaGFuIjp7IkFXUzpFcG9jaFRpbWUiOjE2ODcwNjcxMTB9fX1dfQ__&Signature=UYWnXi%7ES6AJopdCyqU7xEGMQNjMtAZwvQPOaE%7EQLZ7nU5MShO2liLOukgkxEnoJqI4C0KYYuwL13yP2XEhUFJ8RrWpxjsbEvxvLTs0VkphbCU%7EtKFxAZ2Jmkd-rTMYXWDZZbl8MVo5NF7F16U5ZDj%7EBgsnsRbRObOWTbEuqe7SkNvHvBjtUF0GdsxAQq30R0SpuSJw2Zbo4FovU%7EJNwit7%7Ebhls5BYMzIJsH0KWLrNXvWdcPiKOJWGjiGsS0QMYAhP%7EXpB%7E17gMDUFYz7gTVt27rkLvNF2hhRJum0KWHtbxTOrmorb6Jq545Bcxkbo4Ts7twec0T%7E78C5OsfFsYPZQ__&Key-Pair-Id=KVTP0A1DKRTAX\n",
            "\n",
            "06/15 05:45:09 [\u001b[1;32mNOTICE\u001b[0m] CUID#22 - Redirecting to https://cdn-lfs.huggingface.co/repos/a3/72/a37288fd25de45b6a8bbb79801907289f6c12bb870db68f75b0024193da1f047/2fc011e39d4a9c5958630b1bb946dec9ca54adbccc52804fed545490f995b20b?response-content-disposition=attachment%3B+filename*%3DUTF-8%27%27pytorch_model-00004-of-00009.bin%3B+filename%3D%22pytorch_model-00004-of-00009.bin%22%3B&response-content-type=application%2Foctet-stream&Expires=1687067109&Policy=eyJTdGF0ZW1lbnQiOlt7IlJlc291cmNlIjoiaHR0cHM6Ly9jZG4tbGZzLmh1Z2dpbmdmYWNlLmNvL3JlcG9zL2EzLzcyL2EzNzI4OGZkMjVkZTQ1YjZhOGJiYjc5ODAxOTA3Mjg5ZjZjMTJiYjg3MGRiNjhmNzViMDAyNDE5M2RhMWYwNDcvMmZjMDExZTM5ZDRhOWM1OTU4NjMwYjFiYjk0NmRlYzljYTU0YWRiY2NjNTI4MDRmZWQ1NDU0OTBmOTk1YjIwYj9yZXNwb25zZS1jb250ZW50LWRpc3Bvc2l0aW9uPSomcmVzcG9uc2UtY29udGVudC10eXBlPSoiLCJDb25kaXRpb24iOnsiRGF0ZUxlc3NUaGFuIjp7IkFXUzpFcG9jaFRpbWUiOjE2ODcwNjcxMDl9fX1dfQ__&Signature=KtzoxQ7vQU4YaLXkR4-bvgUXbNysfSEhY3XyJghRGnduJ-iG9tPmqZv8H73KbLTYtn%7EASbX5R9Y%7ETiVYoDuf9JRugtx22A7WTBDf-8x48o0sXheDg%7E8gl%7ERxA1oXt-a-C9LnbxcnM83388SoAKUeNpQRX6kOup7uReaO6QoXaBg0rvcwMEV7-bT4xuy9W9lUiUKF-0EbGL5G5IdQLR6NIYYQfSILoASmFM8iWOS%7E8gZZ7ejz5alGn2S%7EgWfd0fbsNTiIjTT7cayoYTLROxnO51tbXjca7pBb4dlGbOx1XERPUAEj7eEGucwxLvJp9%7EKhYsSDsQ01k48YJOuC0m37uQ__&Key-Pair-Id=KVTP0A1DKRTAX\n",
            "\n",
            "06/15 05:45:09 [\u001b[1;32mNOTICE\u001b[0m] CUID#9 - Redirecting to https://cdn-lfs.huggingface.co/repos/a3/72/a37288fd25de45b6a8bbb79801907289f6c12bb870db68f75b0024193da1f047/2fc011e39d4a9c5958630b1bb946dec9ca54adbccc52804fed545490f995b20b?response-content-disposition=attachment%3B+filename*%3DUTF-8%27%27pytorch_model-00004-of-00009.bin%3B+filename%3D%22pytorch_model-00004-of-00009.bin%22%3B&response-content-type=application%2Foctet-stream&Expires=1687067110&Policy=eyJTdGF0ZW1lbnQiOlt7IlJlc291cmNlIjoiaHR0cHM6Ly9jZG4tbGZzLmh1Z2dpbmdmYWNlLmNvL3JlcG9zL2EzLzcyL2EzNzI4OGZkMjVkZTQ1YjZhOGJiYjc5ODAxOTA3Mjg5ZjZjMTJiYjg3MGRiNjhmNzViMDAyNDE5M2RhMWYwNDcvMmZjMDExZTM5ZDRhOWM1OTU4NjMwYjFiYjk0NmRlYzljYTU0YWRiY2NjNTI4MDRmZWQ1NDU0OTBmOTk1YjIwYj9yZXNwb25zZS1jb250ZW50LWRpc3Bvc2l0aW9uPSomcmVzcG9uc2UtY29udGVudC10eXBlPSoiLCJDb25kaXRpb24iOnsiRGF0ZUxlc3NUaGFuIjp7IkFXUzpFcG9jaFRpbWUiOjE2ODcwNjcxMTB9fX1dfQ__&Signature=UYWnXi%7ES6AJopdCyqU7xEGMQNjMtAZwvQPOaE%7EQLZ7nU5MShO2liLOukgkxEnoJqI4C0KYYuwL13yP2XEhUFJ8RrWpxjsbEvxvLTs0VkphbCU%7EtKFxAZ2Jmkd-rTMYXWDZZbl8MVo5NF7F16U5ZDj%7EBgsnsRbRObOWTbEuqe7SkNvHvBjtUF0GdsxAQq30R0SpuSJw2Zbo4FovU%7EJNwit7%7Ebhls5BYMzIJsH0KWLrNXvWdcPiKOJWGjiGsS0QMYAhP%7EXpB%7E17gMDUFYz7gTVt27rkLvNF2hhRJum0KWHtbxTOrmorb6Jq545Bcxkbo4Ts7twec0T%7E78C5OsfFsYPZQ__&Key-Pair-Id=KVTP0A1DKRTAX\n",
            "\n",
            "06/15 05:45:09 [\u001b[1;32mNOTICE\u001b[0m] CUID#18 - Redirecting to https://cdn-lfs.huggingface.co/repos/a3/72/a37288fd25de45b6a8bbb79801907289f6c12bb870db68f75b0024193da1f047/2fc011e39d4a9c5958630b1bb946dec9ca54adbccc52804fed545490f995b20b?response-content-disposition=attachment%3B+filename*%3DUTF-8%27%27pytorch_model-00004-of-00009.bin%3B+filename%3D%22pytorch_model-00004-of-00009.bin%22%3B&response-content-type=application%2Foctet-stream&Expires=1687067110&Policy=eyJTdGF0ZW1lbnQiOlt7IlJlc291cmNlIjoiaHR0cHM6Ly9jZG4tbGZzLmh1Z2dpbmdmYWNlLmNvL3JlcG9zL2EzLzcyL2EzNzI4OGZkMjVkZTQ1YjZhOGJiYjc5ODAxOTA3Mjg5ZjZjMTJiYjg3MGRiNjhmNzViMDAyNDE5M2RhMWYwNDcvMmZjMDExZTM5ZDRhOWM1OTU4NjMwYjFiYjk0NmRlYzljYTU0YWRiY2NjNTI4MDRmZWQ1NDU0OTBmOTk1YjIwYj9yZXNwb25zZS1jb250ZW50LWRpc3Bvc2l0aW9uPSomcmVzcG9uc2UtY29udGVudC10eXBlPSoiLCJDb25kaXRpb24iOnsiRGF0ZUxlc3NUaGFuIjp7IkFXUzpFcG9jaFRpbWUiOjE2ODcwNjcxMTB9fX1dfQ__&Signature=UYWnXi%7ES6AJopdCyqU7xEGMQNjMtAZwvQPOaE%7EQLZ7nU5MShO2liLOukgkxEnoJqI4C0KYYuwL13yP2XEhUFJ8RrWpxjsbEvxvLTs0VkphbCU%7EtKFxAZ2Jmkd-rTMYXWDZZbl8MVo5NF7F16U5ZDj%7EBgsnsRbRObOWTbEuqe7SkNvHvBjtUF0GdsxAQq30R0SpuSJw2Zbo4FovU%7EJNwit7%7Ebhls5BYMzIJsH0KWLrNXvWdcPiKOJWGjiGsS0QMYAhP%7EXpB%7E17gMDUFYz7gTVt27rkLvNF2hhRJum0KWHtbxTOrmorb6Jq545Bcxkbo4Ts7twec0T%7E78C5OsfFsYPZQ__&Key-Pair-Id=KVTP0A1DKRTAX\n",
            "\n",
            "06/15 05:45:09 [\u001b[1;32mNOTICE\u001b[0m] CUID#23 - Redirecting to https://cdn-lfs.huggingface.co/repos/a3/72/a37288fd25de45b6a8bbb79801907289f6c12bb870db68f75b0024193da1f047/2fc011e39d4a9c5958630b1bb946dec9ca54adbccc52804fed545490f995b20b?response-content-disposition=attachment%3B+filename*%3DUTF-8%27%27pytorch_model-00004-of-00009.bin%3B+filename%3D%22pytorch_model-00004-of-00009.bin%22%3B&response-content-type=application%2Foctet-stream&Expires=1687066791&Policy=eyJTdGF0ZW1lbnQiOlt7IlJlc291cmNlIjoiaHR0cHM6Ly9jZG4tbGZzLmh1Z2dpbmdmYWNlLmNvL3JlcG9zL2EzLzcyL2EzNzI4OGZkMjVkZTQ1YjZhOGJiYjc5ODAxOTA3Mjg5ZjZjMTJiYjg3MGRiNjhmNzViMDAyNDE5M2RhMWYwNDcvMmZjMDExZTM5ZDRhOWM1OTU4NjMwYjFiYjk0NmRlYzljYTU0YWRiY2NjNTI4MDRmZWQ1NDU0OTBmOTk1YjIwYj9yZXNwb25zZS1jb250ZW50LWRpc3Bvc2l0aW9uPSomcmVzcG9uc2UtY29udGVudC10eXBlPSoiLCJDb25kaXRpb24iOnsiRGF0ZUxlc3NUaGFuIjp7IkFXUzpFcG9jaFRpbWUiOjE2ODcwNjY3OTF9fX1dfQ__&Signature=r1iKXWZMdTA3xoUjiA9YqZpXYK3qyONKFUKbapAInwXUGSEb8UxoYz1N-sK%7EqsdQjwelg7XdTALR8vqbFj2d2VLFlnbKwT0g43WBNVoOMQ0Jndd6bsOc75CD930thjPjd0SbvLUXw9HTyFVEGPK%7E1RUKcemY5aWM2%7ExPi8gyWwOii1bBqDw9QznL-BTt79r9bNxquluwLPhrNYO%7ExmwyIF4wpMCLhR1-Q8N1ToCbJjQudvwgBIk0IgH-49Mqwr24I%7EUIVyVhsjRGAJzqea61uLr2E5Lzh0r8oxbyvjA2Ofgw1Y6mhtsAaKZQjw8DSYXclwH9EYsjA3KFFcYWh8xzbA__&Key-Pair-Id=KVTP0A1DKRTAX\n",
            "\n",
            "06/15 05:45:09 [\u001b[1;32mNOTICE\u001b[0m] CUID#18 - Redirecting to https://cdn-lfs.huggingface.co/repos/a3/72/a37288fd25de45b6a8bbb79801907289f6c12bb870db68f75b0024193da1f047/d6376a884bc80a6ea95da83f963508e57d8508333c424bed7beda565e4aaa0f3?response-content-disposition=attachment%3B+filename*%3DUTF-8%27%27pytorch_model-00006-of-00009.bin%3B+filename%3D%22pytorch_model-00006-of-00009.bin%22%3B&response-content-type=application%2Foctet-stream&Expires=1687067110&Policy=eyJTdGF0ZW1lbnQiOlt7IlJlc291cmNlIjoiaHR0cHM6Ly9jZG4tbGZzLmh1Z2dpbmdmYWNlLmNvL3JlcG9zL2EzLzcyL2EzNzI4OGZkMjVkZTQ1YjZhOGJiYjc5ODAxOTA3Mjg5ZjZjMTJiYjg3MGRiNjhmNzViMDAyNDE5M2RhMWYwNDcvZDYzNzZhODg0YmM4MGE2ZWE5NWRhODNmOTYzNTA4ZTU3ZDg1MDgzMzNjNDI0YmVkN2JlZGE1NjVlNGFhYTBmMz9yZXNwb25zZS1jb250ZW50LWRpc3Bvc2l0aW9uPSomcmVzcG9uc2UtY29udGVudC10eXBlPSoiLCJDb25kaXRpb24iOnsiRGF0ZUxlc3NUaGFuIjp7IkFXUzpFcG9jaFRpbWUiOjE2ODcwNjcxMTB9fX1dfQ__&Signature=HNrTQFuryG4jQcxepnanLroiuXTrrNZrS8R-teEtAqzsoyZqgb2CWI8BbQeKD6%7Ec9NB0XgS-r4nB5HLo72%7E17xcHOo9YPpp3mRMaIj9PMWr-4oJWvWf4LTYO7Un61vgL34fPZ4gQV8ETSMkIvtc2YLSbiNMMTTIjic3WLwjVzPvjvaGfsQnwwrm1IiltWmFzyKyOa5tfwuapcGh2LLDpc5UpcHAgq%7EQ2MVjPEChwtgerXlrW%7ErEuD-yBgqRltWJqZCUfxGDAltYruEaF3DojHSCRhKBv9j-DGJWVwH4KlII9uMGjXlo2IlnNoOuTPs4zagH4O-h8ipgOo0YO%7Ebq9lA__&Key-Pair-Id=KVTP0A1DKRTAX\n",
            "\n",
            "06/15 05:45:09 [\u001b[1;32mNOTICE\u001b[0m] CUID#9 - Redirecting to https://cdn-lfs.huggingface.co/repos/a3/72/a37288fd25de45b6a8bbb79801907289f6c12bb870db68f75b0024193da1f047/7af5021fe9afb9b4186a59a91e75aa60570c66fba43390b634387ee54bd73223?response-content-disposition=attachment%3B+filename*%3DUTF-8%27%27pytorch_model-00008-of-00009.bin%3B+filename%3D%22pytorch_model-00008-of-00009.bin%22%3B&response-content-type=application%2Foctet-stream&Expires=1687067110&Policy=eyJTdGF0ZW1lbnQiOlt7IlJlc291cmNlIjoiaHR0cHM6Ly9jZG4tbGZzLmh1Z2dpbmdmYWNlLmNvL3JlcG9zL2EzLzcyL2EzNzI4OGZkMjVkZTQ1YjZhOGJiYjc5ODAxOTA3Mjg5ZjZjMTJiYjg3MGRiNjhmNzViMDAyNDE5M2RhMWYwNDcvN2FmNTAyMWZlOWFmYjliNDE4NmE1OWE5MWU3NWFhNjA1NzBjNjZmYmE0MzM5MGI2MzQzODdlZTU0YmQ3MzIyMz9yZXNwb25zZS1jb250ZW50LWRpc3Bvc2l0aW9uPSomcmVzcG9uc2UtY29udGVudC10eXBlPSoiLCJDb25kaXRpb24iOnsiRGF0ZUxlc3NUaGFuIjp7IkFXUzpFcG9jaFRpbWUiOjE2ODcwNjcxMTB9fX1dfQ__&Signature=Sl3iBX9Je1A7rfOZR9zYyP1MO7al8pVESJtoFKSpqi0%7EjPXVKFMU55NRyRMENnelrUydb-vEr9ahNdhuqe9X7SGbd3ECXEeqxRW%7ED7j5ZEpbB3mLR0mcetOsBhx9Fb3Ht1xyjSRibSqOave5jS5NUMWY0ZOyV9tS5%7EDnzLFmTGhil-OvQZnLvX-NU0S6n8ESmK1XehoQ3WBE9HmaodRmgTpsfcUCt71Sn4jHQ5zIkLr0gJa9yuabDqqWjpXGFYW4rcjzUZua1ykZBiiFymhahq8r3ycKo3-Qt3YQ3diS%7EZ%7Enn%7EKEMUvx4JZ69zcp6kJDieBbIT8SWBfMvu6JhUSBUQ__&Key-Pair-Id=KVTP0A1DKRTAX\n",
            "\n",
            "06/15 05:45:09 [\u001b[1;32mNOTICE\u001b[0m] CUID#20 - Redirecting to https://cdn-lfs.huggingface.co/repos/a3/72/a37288fd25de45b6a8bbb79801907289f6c12bb870db68f75b0024193da1f047/d6376a884bc80a6ea95da83f963508e57d8508333c424bed7beda565e4aaa0f3?response-content-disposition=attachment%3B+filename*%3DUTF-8%27%27pytorch_model-00006-of-00009.bin%3B+filename%3D%22pytorch_model-00006-of-00009.bin%22%3B&response-content-type=application%2Foctet-stream&Expires=1687067110&Policy=eyJTdGF0ZW1lbnQiOlt7IlJlc291cmNlIjoiaHR0cHM6Ly9jZG4tbGZzLmh1Z2dpbmdmYWNlLmNvL3JlcG9zL2EzLzcyL2EzNzI4OGZkMjVkZTQ1YjZhOGJiYjc5ODAxOTA3Mjg5ZjZjMTJiYjg3MGRiNjhmNzViMDAyNDE5M2RhMWYwNDcvZDYzNzZhODg0YmM4MGE2ZWE5NWRhODNmOTYzNTA4ZTU3ZDg1MDgzMzNjNDI0YmVkN2JlZGE1NjVlNGFhYTBmMz9yZXNwb25zZS1jb250ZW50LWRpc3Bvc2l0aW9uPSomcmVzcG9uc2UtY29udGVudC10eXBlPSoiLCJDb25kaXRpb24iOnsiRGF0ZUxlc3NUaGFuIjp7IkFXUzpFcG9jaFRpbWUiOjE2ODcwNjcxMTB9fX1dfQ__&Signature=HNrTQFuryG4jQcxepnanLroiuXTrrNZrS8R-teEtAqzsoyZqgb2CWI8BbQeKD6%7Ec9NB0XgS-r4nB5HLo72%7E17xcHOo9YPpp3mRMaIj9PMWr-4oJWvWf4LTYO7Un61vgL34fPZ4gQV8ETSMkIvtc2YLSbiNMMTTIjic3WLwjVzPvjvaGfsQnwwrm1IiltWmFzyKyOa5tfwuapcGh2LLDpc5UpcHAgq%7EQ2MVjPEChwtgerXlrW%7ErEuD-yBgqRltWJqZCUfxGDAltYruEaF3DojHSCRhKBv9j-DGJWVwH4KlII9uMGjXlo2IlnNoOuTPs4zagH4O-h8ipgOo0YO%7Ebq9lA__&Key-Pair-Id=KVTP0A1DKRTAX\n",
            "\u001b[35m[\u001b[0m#082585 16KiB/8.8GiB\u001b[36m(0%)\u001b[0m CN:16 DL:\u001b[32m210KiB\u001b[0m ETA:\u001b[33m12h15m24s\u001b[0m\u001b[35m]\u001b[0m\u001b[0m\n",
            "06/15 05:45:09 [\u001b[1;32mNOTICE\u001b[0m] CUID#10 - Redirecting to https://cdn-lfs.huggingface.co/repos/a3/72/a37288fd25de45b6a8bbb79801907289f6c12bb870db68f75b0024193da1f047/7af5021fe9afb9b4186a59a91e75aa60570c66fba43390b634387ee54bd73223?response-content-disposition=attachment%3B+filename*%3DUTF-8%27%27pytorch_model-00008-of-00009.bin%3B+filename%3D%22pytorch_model-00008-of-00009.bin%22%3B&response-content-type=application%2Foctet-stream&Expires=1687067110&Policy=eyJTdGF0ZW1lbnQiOlt7IlJlc291cmNlIjoiaHR0cHM6Ly9jZG4tbGZzLmh1Z2dpbmdmYWNlLmNvL3JlcG9zL2EzLzcyL2EzNzI4OGZkMjVkZTQ1YjZhOGJiYjc5ODAxOTA3Mjg5ZjZjMTJiYjg3MGRiNjhmNzViMDAyNDE5M2RhMWYwNDcvN2FmNTAyMWZlOWFmYjliNDE4NmE1OWE5MWU3NWFhNjA1NzBjNjZmYmE0MzM5MGI2MzQzODdlZTU0YmQ3MzIyMz9yZXNwb25zZS1jb250ZW50LWRpc3Bvc2l0aW9uPSomcmVzcG9uc2UtY29udGVudC10eXBlPSoiLCJDb25kaXRpb24iOnsiRGF0ZUxlc3NUaGFuIjp7IkFXUzpFcG9jaFRpbWUiOjE2ODcwNjcxMTB9fX1dfQ__&Signature=Sl3iBX9Je1A7rfOZR9zYyP1MO7al8pVESJtoFKSpqi0%7EjPXVKFMU55NRyRMENnelrUydb-vEr9ahNdhuqe9X7SGbd3ECXEeqxRW%7ED7j5ZEpbB3mLR0mcetOsBhx9Fb3Ht1xyjSRibSqOave5jS5NUMWY0ZOyV9tS5%7EDnzLFmTGhil-OvQZnLvX-NU0S6n8ESmK1XehoQ3WBE9HmaodRmgTpsfcUCt71Sn4jHQ5zIkLr0gJa9yuabDqqWjpXGFYW4rcjzUZua1ykZBiiFymhahq8r3ycKo3-Qt3YQ3diS%7EZ%7Enn%7EKEMUvx4JZ69zcp6kJDieBbIT8SWBfMvu6JhUSBUQ__&Key-Pair-Id=KVTP0A1DKRTAX\n",
            "\n",
            "06/15 05:45:09 [\u001b[1;32mNOTICE\u001b[0m] CUID#15 - Redirecting to https://cdn-lfs.huggingface.co/repos/a3/72/a37288fd25de45b6a8bbb79801907289f6c12bb870db68f75b0024193da1f047/7af5021fe9afb9b4186a59a91e75aa60570c66fba43390b634387ee54bd73223?response-content-disposition=attachment%3B+filename*%3DUTF-8%27%27pytorch_model-00008-of-00009.bin%3B+filename%3D%22pytorch_model-00008-of-00009.bin%22%3B&response-content-type=application%2Foctet-stream&Expires=1687067110&Policy=eyJTdGF0ZW1lbnQiOlt7IlJlc291cmNlIjoiaHR0cHM6Ly9jZG4tbGZzLmh1Z2dpbmdmYWNlLmNvL3JlcG9zL2EzLzcyL2EzNzI4OGZkMjVkZTQ1YjZhOGJiYjc5ODAxOTA3Mjg5ZjZjMTJiYjg3MGRiNjhmNzViMDAyNDE5M2RhMWYwNDcvN2FmNTAyMWZlOWFmYjliNDE4NmE1OWE5MWU3NWFhNjA1NzBjNjZmYmE0MzM5MGI2MzQzODdlZTU0YmQ3MzIyMz9yZXNwb25zZS1jb250ZW50LWRpc3Bvc2l0aW9uPSomcmVzcG9uc2UtY29udGVudC10eXBlPSoiLCJDb25kaXRpb24iOnsiRGF0ZUxlc3NUaGFuIjp7IkFXUzpFcG9jaFRpbWUiOjE2ODcwNjcxMTB9fX1dfQ__&Signature=Sl3iBX9Je1A7rfOZR9zYyP1MO7al8pVESJtoFKSpqi0%7EjPXVKFMU55NRyRMENnelrUydb-vEr9ahNdhuqe9X7SGbd3ECXEeqxRW%7ED7j5ZEpbB3mLR0mcetOsBhx9Fb3Ht1xyjSRibSqOave5jS5NUMWY0ZOyV9tS5%7EDnzLFmTGhil-OvQZnLvX-NU0S6n8ESmK1XehoQ3WBE9HmaodRmgTpsfcUCt71Sn4jHQ5zIkLr0gJa9yuabDqqWjpXGFYW4rcjzUZua1ykZBiiFymhahq8r3ycKo3-Qt3YQ3diS%7EZ%7Enn%7EKEMUvx4JZ69zcp6kJDieBbIT8SWBfMvu6JhUSBUQ__&Key-Pair-Id=KVTP0A1DKRTAX\n",
            "\n",
            "06/15 05:45:09 [\u001b[1;32mNOTICE\u001b[0m] CUID#19 - Redirecting to https://cdn-lfs.huggingface.co/repos/a3/72/a37288fd25de45b6a8bbb79801907289f6c12bb870db68f75b0024193da1f047/7af5021fe9afb9b4186a59a91e75aa60570c66fba43390b634387ee54bd73223?response-content-disposition=attachment%3B+filename*%3DUTF-8%27%27pytorch_model-00008-of-00009.bin%3B+filename%3D%22pytorch_model-00008-of-00009.bin%22%3B&response-content-type=application%2Foctet-stream&Expires=1687067110&Policy=eyJTdGF0ZW1lbnQiOlt7IlJlc291cmNlIjoiaHR0cHM6Ly9jZG4tbGZzLmh1Z2dpbmdmYWNlLmNvL3JlcG9zL2EzLzcyL2EzNzI4OGZkMjVkZTQ1YjZhOGJiYjc5ODAxOTA3Mjg5ZjZjMTJiYjg3MGRiNjhmNzViMDAyNDE5M2RhMWYwNDcvN2FmNTAyMWZlOWFmYjliNDE4NmE1OWE5MWU3NWFhNjA1NzBjNjZmYmE0MzM5MGI2MzQzODdlZTU0YmQ3MzIyMz9yZXNwb25zZS1jb250ZW50LWRpc3Bvc2l0aW9uPSomcmVzcG9uc2UtY29udGVudC10eXBlPSoiLCJDb25kaXRpb24iOnsiRGF0ZUxlc3NUaGFuIjp7IkFXUzpFcG9jaFRpbWUiOjE2ODcwNjcxMTB9fX1dfQ__&Signature=Sl3iBX9Je1A7rfOZR9zYyP1MO7al8pVESJtoFKSpqi0%7EjPXVKFMU55NRyRMENnelrUydb-vEr9ahNdhuqe9X7SGbd3ECXEeqxRW%7ED7j5ZEpbB3mLR0mcetOsBhx9Fb3Ht1xyjSRibSqOave5jS5NUMWY0ZOyV9tS5%7EDnzLFmTGhil-OvQZnLvX-NU0S6n8ESmK1XehoQ3WBE9HmaodRmgTpsfcUCt71Sn4jHQ5zIkLr0gJa9yuabDqqWjpXGFYW4rcjzUZua1ykZBiiFymhahq8r3ycKo3-Qt3YQ3diS%7EZ%7Enn%7EKEMUvx4JZ69zcp6kJDieBbIT8SWBfMvu6JhUSBUQ__&Key-Pair-Id=KVTP0A1DKRTAX\n",
            "\n",
            "06/15 05:45:09 [\u001b[1;32mNOTICE\u001b[0m] CUID#21 - Redirecting to https://cdn-lfs.huggingface.co/repos/a3/72/a37288fd25de45b6a8bbb79801907289f6c12bb870db68f75b0024193da1f047/7af5021fe9afb9b4186a59a91e75aa60570c66fba43390b634387ee54bd73223?response-content-disposition=attachment%3B+filename*%3DUTF-8%27%27pytorch_model-00008-of-00009.bin%3B+filename%3D%22pytorch_model-00008-of-00009.bin%22%3B&response-content-type=application%2Foctet-stream&Expires=1687067110&Policy=eyJTdGF0ZW1lbnQiOlt7IlJlc291cmNlIjoiaHR0cHM6Ly9jZG4tbGZzLmh1Z2dpbmdmYWNlLmNvL3JlcG9zL2EzLzcyL2EzNzI4OGZkMjVkZTQ1YjZhOGJiYjc5ODAxOTA3Mjg5ZjZjMTJiYjg3MGRiNjhmNzViMDAyNDE5M2RhMWYwNDcvN2FmNTAyMWZlOWFmYjliNDE4NmE1OWE5MWU3NWFhNjA1NzBjNjZmYmE0MzM5MGI2MzQzODdlZTU0YmQ3MzIyMz9yZXNwb25zZS1jb250ZW50LWRpc3Bvc2l0aW9uPSomcmVzcG9uc2UtY29udGVudC10eXBlPSoiLCJDb25kaXRpb24iOnsiRGF0ZUxlc3NUaGFuIjp7IkFXUzpFcG9jaFRpbWUiOjE2ODcwNjcxMTB9fX1dfQ__&Signature=Sl3iBX9Je1A7rfOZR9zYyP1MO7al8pVESJtoFKSpqi0%7EjPXVKFMU55NRyRMENnelrUydb-vEr9ahNdhuqe9X7SGbd3ECXEeqxRW%7ED7j5ZEpbB3mLR0mcetOsBhx9Fb3Ht1xyjSRibSqOave5jS5NUMWY0ZOyV9tS5%7EDnzLFmTGhil-OvQZnLvX-NU0S6n8ESmK1XehoQ3WBE9HmaodRmgTpsfcUCt71Sn4jHQ5zIkLr0gJa9yuabDqqWjpXGFYW4rcjzUZua1ykZBiiFymhahq8r3ycKo3-Qt3YQ3diS%7EZ%7Enn%7EKEMUvx4JZ69zcp6kJDieBbIT8SWBfMvu6JhUSBUQ__&Key-Pair-Id=KVTP0A1DKRTAX\n",
            "\n",
            "06/15 05:45:09 [\u001b[1;32mNOTICE\u001b[0m] CUID#14 - Redirecting to https://cdn-lfs.huggingface.co/repos/a3/72/a37288fd25de45b6a8bbb79801907289f6c12bb870db68f75b0024193da1f047/7af5021fe9afb9b4186a59a91e75aa60570c66fba43390b634387ee54bd73223?response-content-disposition=attachment%3B+filename*%3DUTF-8%27%27pytorch_model-00008-of-00009.bin%3B+filename%3D%22pytorch_model-00008-of-00009.bin%22%3B&response-content-type=application%2Foctet-stream&Expires=1687067110&Policy=eyJTdGF0ZW1lbnQiOlt7IlJlc291cmNlIjoiaHR0cHM6Ly9jZG4tbGZzLmh1Z2dpbmdmYWNlLmNvL3JlcG9zL2EzLzcyL2EzNzI4OGZkMjVkZTQ1YjZhOGJiYjc5ODAxOTA3Mjg5ZjZjMTJiYjg3MGRiNjhmNzViMDAyNDE5M2RhMWYwNDcvN2FmNTAyMWZlOWFmYjliNDE4NmE1OWE5MWU3NWFhNjA1NzBjNjZmYmE0MzM5MGI2MzQzODdlZTU0YmQ3MzIyMz9yZXNwb25zZS1jb250ZW50LWRpc3Bvc2l0aW9uPSomcmVzcG9uc2UtY29udGVudC10eXBlPSoiLCJDb25kaXRpb24iOnsiRGF0ZUxlc3NUaGFuIjp7IkFXUzpFcG9jaFRpbWUiOjE2ODcwNjcxMTB9fX1dfQ__&Signature=Sl3iBX9Je1A7rfOZR9zYyP1MO7al8pVESJtoFKSpqi0%7EjPXVKFMU55NRyRMENnelrUydb-vEr9ahNdhuqe9X7SGbd3ECXEeqxRW%7ED7j5ZEpbB3mLR0mcetOsBhx9Fb3Ht1xyjSRibSqOave5jS5NUMWY0ZOyV9tS5%7EDnzLFmTGhil-OvQZnLvX-NU0S6n8ESmK1XehoQ3WBE9HmaodRmgTpsfcUCt71Sn4jHQ5zIkLr0gJa9yuabDqqWjpXGFYW4rcjzUZua1ykZBiiFymhahq8r3ycKo3-Qt3YQ3diS%7EZ%7Enn%7EKEMUvx4JZ69zcp6kJDieBbIT8SWBfMvu6JhUSBUQ__&Key-Pair-Id=KVTP0A1DKRTAX\n",
            "\n",
            "06/15 05:45:09 [\u001b[1;32mNOTICE\u001b[0m] CUID#9 - Redirecting to https://cdn-lfs.huggingface.co/repos/a3/72/a37288fd25de45b6a8bbb79801907289f6c12bb870db68f75b0024193da1f047/b2125ceee3992a093f9808efc9a720643a44e59b17baa77eddb0fbec6965ce5a?response-content-disposition=attachment%3B+filename*%3DUTF-8%27%27pytorch_model-00003-of-00009.bin%3B+filename%3D%22pytorch_model-00003-of-00009.bin%22%3B&response-content-type=application%2Foctet-stream&Expires=1687065995&Policy=eyJTdGF0ZW1lbnQiOlt7IlJlc291cmNlIjoiaHR0cHM6Ly9jZG4tbGZzLmh1Z2dpbmdmYWNlLmNvL3JlcG9zL2EzLzcyL2EzNzI4OGZkMjVkZTQ1YjZhOGJiYjc5ODAxOTA3Mjg5ZjZjMTJiYjg3MGRiNjhmNzViMDAyNDE5M2RhMWYwNDcvYjIxMjVjZWVlMzk5MmEwOTNmOTgwOGVmYzlhNzIwNjQzYTQ0ZTU5YjE3YmFhNzdlZGRiMGZiZWM2OTY1Y2U1YT9yZXNwb25zZS1jb250ZW50LWRpc3Bvc2l0aW9uPSomcmVzcG9uc2UtY29udGVudC10eXBlPSoiLCJDb25kaXRpb24iOnsiRGF0ZUxlc3NUaGFuIjp7IkFXUzpFcG9jaFRpbWUiOjE2ODcwNjU5OTV9fX1dfQ__&Signature=DFIGZpxPnwwVkIZaWs93Q%7EkBgVwoWPlzPKtL%7EkOVS7vohAnc-ueKEkXbJO3mA0YeLsdvFdjuIifARZiF5JBdNCCxrtZbdwbs9cNVET0e5Y0wlpMAGGEjYSdc8Wvnq%7EFobEsvbRlwUHimOHo-bJVRIlZDibxLqXkbSPmMaIr8yj2XK9QqWXan0gUYTVvqS2wlbkKNA42k22qugisQ9dG71ZLzH3TYv82cK9f0m6JNGto2ntQpP19vNVQUYS0pHANVOdo-6yWK%7EZ3JRY8agfdlrCscGZJur1OqfxQAlYDEkJ471k0TUOPBRVAyJRxrA62z%7EeuUPDjs7JOf5MCmraARmg__&Key-Pair-Id=KVTP0A1DKRTAX\n",
            "\n",
            "06/15 05:45:09 [\u001b[1;32mNOTICE\u001b[0m] CUID#11 - Redirecting to https://cdn-lfs.huggingface.co/repos/a3/72/a37288fd25de45b6a8bbb79801907289f6c12bb870db68f75b0024193da1f047/7af5021fe9afb9b4186a59a91e75aa60570c66fba43390b634387ee54bd73223?response-content-disposition=attachment%3B+filename*%3DUTF-8%27%27pytorch_model-00008-of-00009.bin%3B+filename%3D%22pytorch_model-00008-of-00009.bin%22%3B&response-content-type=application%2Foctet-stream&Expires=1687067110&Policy=eyJTdGF0ZW1lbnQiOlt7IlJlc291cmNlIjoiaHR0cHM6Ly9jZG4tbGZzLmh1Z2dpbmdmYWNlLmNvL3JlcG9zL2EzLzcyL2EzNzI4OGZkMjVkZTQ1YjZhOGJiYjc5ODAxOTA3Mjg5ZjZjMTJiYjg3MGRiNjhmNzViMDAyNDE5M2RhMWYwNDcvN2FmNTAyMWZlOWFmYjliNDE4NmE1OWE5MWU3NWFhNjA1NzBjNjZmYmE0MzM5MGI2MzQzODdlZTU0YmQ3MzIyMz9yZXNwb25zZS1jb250ZW50LWRpc3Bvc2l0aW9uPSomcmVzcG9uc2UtY29udGVudC10eXBlPSoiLCJDb25kaXRpb24iOnsiRGF0ZUxlc3NUaGFuIjp7IkFXUzpFcG9jaFRpbWUiOjE2ODcwNjcxMTB9fX1dfQ__&Signature=Sl3iBX9Je1A7rfOZR9zYyP1MO7al8pVESJtoFKSpqi0%7EjPXVKFMU55NRyRMENnelrUydb-vEr9ahNdhuqe9X7SGbd3ECXEeqxRW%7ED7j5ZEpbB3mLR0mcetOsBhx9Fb3Ht1xyjSRibSqOave5jS5NUMWY0ZOyV9tS5%7EDnzLFmTGhil-OvQZnLvX-NU0S6n8ESmK1XehoQ3WBE9HmaodRmgTpsfcUCt71Sn4jHQ5zIkLr0gJa9yuabDqqWjpXGFYW4rcjzUZua1ykZBiiFymhahq8r3ycKo3-Qt3YQ3diS%7EZ%7Enn%7EKEMUvx4JZ69zcp6kJDieBbIT8SWBfMvu6JhUSBUQ__&Key-Pair-Id=KVTP0A1DKRTAX\n",
            "\n",
            "06/15 05:45:09 [\u001b[1;32mNOTICE\u001b[0m] CUID#20 - Redirecting to https://cdn-lfs.huggingface.co/repos/a3/72/a37288fd25de45b6a8bbb79801907289f6c12bb870db68f75b0024193da1f047/7af5021fe9afb9b4186a59a91e75aa60570c66fba43390b634387ee54bd73223?response-content-disposition=attachment%3B+filename*%3DUTF-8%27%27pytorch_model-00008-of-00009.bin%3B+filename%3D%22pytorch_model-00008-of-00009.bin%22%3B&response-content-type=application%2Foctet-stream&Expires=1687067110&Policy=eyJTdGF0ZW1lbnQiOlt7IlJlc291cmNlIjoiaHR0cHM6Ly9jZG4tbGZzLmh1Z2dpbmdmYWNlLmNvL3JlcG9zL2EzLzcyL2EzNzI4OGZkMjVkZTQ1YjZhOGJiYjc5ODAxOTA3Mjg5ZjZjMTJiYjg3MGRiNjhmNzViMDAyNDE5M2RhMWYwNDcvN2FmNTAyMWZlOWFmYjliNDE4NmE1OWE5MWU3NWFhNjA1NzBjNjZmYmE0MzM5MGI2MzQzODdlZTU0YmQ3MzIyMz9yZXNwb25zZS1jb250ZW50LWRpc3Bvc2l0aW9uPSomcmVzcG9uc2UtY29udGVudC10eXBlPSoiLCJDb25kaXRpb24iOnsiRGF0ZUxlc3NUaGFuIjp7IkFXUzpFcG9jaFRpbWUiOjE2ODcwNjcxMTB9fX1dfQ__&Signature=Sl3iBX9Je1A7rfOZR9zYyP1MO7al8pVESJtoFKSpqi0%7EjPXVKFMU55NRyRMENnelrUydb-vEr9ahNdhuqe9X7SGbd3ECXEeqxRW%7ED7j5ZEpbB3mLR0mcetOsBhx9Fb3Ht1xyjSRibSqOave5jS5NUMWY0ZOyV9tS5%7EDnzLFmTGhil-OvQZnLvX-NU0S6n8ESmK1XehoQ3WBE9HmaodRmgTpsfcUCt71Sn4jHQ5zIkLr0gJa9yuabDqqWjpXGFYW4rcjzUZua1ykZBiiFymhahq8r3ycKo3-Qt3YQ3diS%7EZ%7Enn%7EKEMUvx4JZ69zcp6kJDieBbIT8SWBfMvu6JhUSBUQ__&Key-Pair-Id=KVTP0A1DKRTAX\n",
            "\n",
            "06/15 05:45:09 [\u001b[1;32mNOTICE\u001b[0m] CUID#17 - Redirecting to https://cdn-lfs.huggingface.co/repos/a3/72/a37288fd25de45b6a8bbb79801907289f6c12bb870db68f75b0024193da1f047/7af5021fe9afb9b4186a59a91e75aa60570c66fba43390b634387ee54bd73223?response-content-disposition=attachment%3B+filename*%3DUTF-8%27%27pytorch_model-00008-of-00009.bin%3B+filename%3D%22pytorch_model-00008-of-00009.bin%22%3B&response-content-type=application%2Foctet-stream&Expires=1687067110&Policy=eyJTdGF0ZW1lbnQiOlt7IlJlc291cmNlIjoiaHR0cHM6Ly9jZG4tbGZzLmh1Z2dpbmdmYWNlLmNvL3JlcG9zL2EzLzcyL2EzNzI4OGZkMjVkZTQ1YjZhOGJiYjc5ODAxOTA3Mjg5ZjZjMTJiYjg3MGRiNjhmNzViMDAyNDE5M2RhMWYwNDcvN2FmNTAyMWZlOWFmYjliNDE4NmE1OWE5MWU3NWFhNjA1NzBjNjZmYmE0MzM5MGI2MzQzODdlZTU0YmQ3MzIyMz9yZXNwb25zZS1jb250ZW50LWRpc3Bvc2l0aW9uPSomcmVzcG9uc2UtY29udGVudC10eXBlPSoiLCJDb25kaXRpb24iOnsiRGF0ZUxlc3NUaGFuIjp7IkFXUzpFcG9jaFRpbWUiOjE2ODcwNjcxMTB9fX1dfQ__&Signature=Sl3iBX9Je1A7rfOZR9zYyP1MO7al8pVESJtoFKSpqi0%7EjPXVKFMU55NRyRMENnelrUydb-vEr9ahNdhuqe9X7SGbd3ECXEeqxRW%7ED7j5ZEpbB3mLR0mcetOsBhx9Fb3Ht1xyjSRibSqOave5jS5NUMWY0ZOyV9tS5%7EDnzLFmTGhil-OvQZnLvX-NU0S6n8ESmK1XehoQ3WBE9HmaodRmgTpsfcUCt71Sn4jHQ5zIkLr0gJa9yuabDqqWjpXGFYW4rcjzUZua1ykZBiiFymhahq8r3ycKo3-Qt3YQ3diS%7EZ%7Enn%7EKEMUvx4JZ69zcp6kJDieBbIT8SWBfMvu6JhUSBUQ__&Key-Pair-Id=KVTP0A1DKRTAX\n",
            "\n",
            "06/15 05:45:09 [\u001b[1;32mNOTICE\u001b[0m] CUID#23 - Redirecting to https://cdn-lfs.huggingface.co/repos/a3/72/a37288fd25de45b6a8bbb79801907289f6c12bb870db68f75b0024193da1f047/7af5021fe9afb9b4186a59a91e75aa60570c66fba43390b634387ee54bd73223?response-content-disposition=attachment%3B+filename*%3DUTF-8%27%27pytorch_model-00008-of-00009.bin%3B+filename%3D%22pytorch_model-00008-of-00009.bin%22%3B&response-content-type=application%2Foctet-stream&Expires=1687067110&Policy=eyJTdGF0ZW1lbnQiOlt7IlJlc291cmNlIjoiaHR0cHM6Ly9jZG4tbGZzLmh1Z2dpbmdmYWNlLmNvL3JlcG9zL2EzLzcyL2EzNzI4OGZkMjVkZTQ1YjZhOGJiYjc5ODAxOTA3Mjg5ZjZjMTJiYjg3MGRiNjhmNzViMDAyNDE5M2RhMWYwNDcvN2FmNTAyMWZlOWFmYjliNDE4NmE1OWE5MWU3NWFhNjA1NzBjNjZmYmE0MzM5MGI2MzQzODdlZTU0YmQ3MzIyMz9yZXNwb25zZS1jb250ZW50LWRpc3Bvc2l0aW9uPSomcmVzcG9uc2UtY29udGVudC10eXBlPSoiLCJDb25kaXRpb24iOnsiRGF0ZUxlc3NUaGFuIjp7IkFXUzpFcG9jaFRpbWUiOjE2ODcwNjcxMTB9fX1dfQ__&Signature=Sl3iBX9Je1A7rfOZR9zYyP1MO7al8pVESJtoFKSpqi0%7EjPXVKFMU55NRyRMENnelrUydb-vEr9ahNdhuqe9X7SGbd3ECXEeqxRW%7ED7j5ZEpbB3mLR0mcetOsBhx9Fb3Ht1xyjSRibSqOave5jS5NUMWY0ZOyV9tS5%7EDnzLFmTGhil-OvQZnLvX-NU0S6n8ESmK1XehoQ3WBE9HmaodRmgTpsfcUCt71Sn4jHQ5zIkLr0gJa9yuabDqqWjpXGFYW4rcjzUZua1ykZBiiFymhahq8r3ycKo3-Qt3YQ3diS%7EZ%7Enn%7EKEMUvx4JZ69zcp6kJDieBbIT8SWBfMvu6JhUSBUQ__&Key-Pair-Id=KVTP0A1DKRTAX\n",
            "\n",
            "06/15 05:45:09 [\u001b[1;32mNOTICE\u001b[0m] CUID#12 - Redirecting to https://cdn-lfs.huggingface.co/repos/a3/72/a37288fd25de45b6a8bbb79801907289f6c12bb870db68f75b0024193da1f047/7af5021fe9afb9b4186a59a91e75aa60570c66fba43390b634387ee54bd73223?response-content-disposition=attachment%3B+filename*%3DUTF-8%27%27pytorch_model-00008-of-00009.bin%3B+filename%3D%22pytorch_model-00008-of-00009.bin%22%3B&response-content-type=application%2Foctet-stream&Expires=1687067110&Policy=eyJTdGF0ZW1lbnQiOlt7IlJlc291cmNlIjoiaHR0cHM6Ly9jZG4tbGZzLmh1Z2dpbmdmYWNlLmNvL3JlcG9zL2EzLzcyL2EzNzI4OGZkMjVkZTQ1YjZhOGJiYjc5ODAxOTA3Mjg5ZjZjMTJiYjg3MGRiNjhmNzViMDAyNDE5M2RhMWYwNDcvN2FmNTAyMWZlOWFmYjliNDE4NmE1OWE5MWU3NWFhNjA1NzBjNjZmYmE0MzM5MGI2MzQzODdlZTU0YmQ3MzIyMz9yZXNwb25zZS1jb250ZW50LWRpc3Bvc2l0aW9uPSomcmVzcG9uc2UtY29udGVudC10eXBlPSoiLCJDb25kaXRpb24iOnsiRGF0ZUxlc3NUaGFuIjp7IkFXUzpFcG9jaFRpbWUiOjE2ODcwNjcxMTB9fX1dfQ__&Signature=Sl3iBX9Je1A7rfOZR9zYyP1MO7al8pVESJtoFKSpqi0%7EjPXVKFMU55NRyRMENnelrUydb-vEr9ahNdhuqe9X7SGbd3ECXEeqxRW%7ED7j5ZEpbB3mLR0mcetOsBhx9Fb3Ht1xyjSRibSqOave5jS5NUMWY0ZOyV9tS5%7EDnzLFmTGhil-OvQZnLvX-NU0S6n8ESmK1XehoQ3WBE9HmaodRmgTpsfcUCt71Sn4jHQ5zIkLr0gJa9yuabDqqWjpXGFYW4rcjzUZua1ykZBiiFymhahq8r3ycKo3-Qt3YQ3diS%7EZ%7Enn%7EKEMUvx4JZ69zcp6kJDieBbIT8SWBfMvu6JhUSBUQ__&Key-Pair-Id=KVTP0A1DKRTAX\n",
            "\n",
            "06/15 05:45:09 [\u001b[1;32mNOTICE\u001b[0m] CUID#16 - Redirecting to https://cdn-lfs.huggingface.co/repos/a3/72/a37288fd25de45b6a8bbb79801907289f6c12bb870db68f75b0024193da1f047/7af5021fe9afb9b4186a59a91e75aa60570c66fba43390b634387ee54bd73223?response-content-disposition=attachment%3B+filename*%3DUTF-8%27%27pytorch_model-00008-of-00009.bin%3B+filename%3D%22pytorch_model-00008-of-00009.bin%22%3B&response-content-type=application%2Foctet-stream&Expires=1687067110&Policy=eyJTdGF0ZW1lbnQiOlt7IlJlc291cmNlIjoiaHR0cHM6Ly9jZG4tbGZzLmh1Z2dpbmdmYWNlLmNvL3JlcG9zL2EzLzcyL2EzNzI4OGZkMjVkZTQ1YjZhOGJiYjc5ODAxOTA3Mjg5ZjZjMTJiYjg3MGRiNjhmNzViMDAyNDE5M2RhMWYwNDcvN2FmNTAyMWZlOWFmYjliNDE4NmE1OWE5MWU3NWFhNjA1NzBjNjZmYmE0MzM5MGI2MzQzODdlZTU0YmQ3MzIyMz9yZXNwb25zZS1jb250ZW50LWRpc3Bvc2l0aW9uPSomcmVzcG9uc2UtY29udGVudC10eXBlPSoiLCJDb25kaXRpb24iOnsiRGF0ZUxlc3NUaGFuIjp7IkFXUzpFcG9jaFRpbWUiOjE2ODcwNjcxMTB9fX1dfQ__&Signature=Sl3iBX9Je1A7rfOZR9zYyP1MO7al8pVESJtoFKSpqi0%7EjPXVKFMU55NRyRMENnelrUydb-vEr9ahNdhuqe9X7SGbd3ECXEeqxRW%7ED7j5ZEpbB3mLR0mcetOsBhx9Fb3Ht1xyjSRibSqOave5jS5NUMWY0ZOyV9tS5%7EDnzLFmTGhil-OvQZnLvX-NU0S6n8ESmK1XehoQ3WBE9HmaodRmgTpsfcUCt71Sn4jHQ5zIkLr0gJa9yuabDqqWjpXGFYW4rcjzUZua1ykZBiiFymhahq8r3ycKo3-Qt3YQ3diS%7EZ%7Enn%7EKEMUvx4JZ69zcp6kJDieBbIT8SWBfMvu6JhUSBUQ__&Key-Pair-Id=KVTP0A1DKRTAX\n",
            "\n",
            "06/15 05:45:10 [\u001b[1;32mNOTICE\u001b[0m] CUID#13 - Redirecting to https://cdn-lfs.huggingface.co/repos/a3/72/a37288fd25de45b6a8bbb79801907289f6c12bb870db68f75b0024193da1f047/7af5021fe9afb9b4186a59a91e75aa60570c66fba43390b634387ee54bd73223?response-content-disposition=attachment%3B+filename*%3DUTF-8%27%27pytorch_model-00008-of-00009.bin%3B+filename%3D%22pytorch_model-00008-of-00009.bin%22%3B&response-content-type=application%2Foctet-stream&Expires=1687067110&Policy=eyJTdGF0ZW1lbnQiOlt7IlJlc291cmNlIjoiaHR0cHM6Ly9jZG4tbGZzLmh1Z2dpbmdmYWNlLmNvL3JlcG9zL2EzLzcyL2EzNzI4OGZkMjVkZTQ1YjZhOGJiYjc5ODAxOTA3Mjg5ZjZjMTJiYjg3MGRiNjhmNzViMDAyNDE5M2RhMWYwNDcvN2FmNTAyMWZlOWFmYjliNDE4NmE1OWE5MWU3NWFhNjA1NzBjNjZmYmE0MzM5MGI2MzQzODdlZTU0YmQ3MzIyMz9yZXNwb25zZS1jb250ZW50LWRpc3Bvc2l0aW9uPSomcmVzcG9uc2UtY29udGVudC10eXBlPSoiLCJDb25kaXRpb24iOnsiRGF0ZUxlc3NUaGFuIjp7IkFXUzpFcG9jaFRpbWUiOjE2ODcwNjcxMTB9fX1dfQ__&Signature=Sl3iBX9Je1A7rfOZR9zYyP1MO7al8pVESJtoFKSpqi0%7EjPXVKFMU55NRyRMENnelrUydb-vEr9ahNdhuqe9X7SGbd3ECXEeqxRW%7ED7j5ZEpbB3mLR0mcetOsBhx9Fb3Ht1xyjSRibSqOave5jS5NUMWY0ZOyV9tS5%7EDnzLFmTGhil-OvQZnLvX-NU0S6n8ESmK1XehoQ3WBE9HmaodRmgTpsfcUCt71Sn4jHQ5zIkLr0gJa9yuabDqqWjpXGFYW4rcjzUZua1ykZBiiFymhahq8r3ycKo3-Qt3YQ3diS%7EZ%7Enn%7EKEMUvx4JZ69zcp6kJDieBbIT8SWBfMvu6JhUSBUQ__&Key-Pair-Id=KVTP0A1DKRTAX\n",
            "\n",
            "06/15 05:45:10 [\u001b[1;32mNOTICE\u001b[0m] CUID#19 - Redirecting to https://cdn-lfs.huggingface.co/repos/a3/72/a37288fd25de45b6a8bbb79801907289f6c12bb870db68f75b0024193da1f047/b2125ceee3992a093f9808efc9a720643a44e59b17baa77eddb0fbec6965ce5a?response-content-disposition=attachment%3B+filename*%3DUTF-8%27%27pytorch_model-00003-of-00009.bin%3B+filename%3D%22pytorch_model-00003-of-00009.bin%22%3B&response-content-type=application%2Foctet-stream&Expires=1687067110&Policy=eyJTdGF0ZW1lbnQiOlt7IlJlc291cmNlIjoiaHR0cHM6Ly9jZG4tbGZzLmh1Z2dpbmdmYWNlLmNvL3JlcG9zL2EzLzcyL2EzNzI4OGZkMjVkZTQ1YjZhOGJiYjc5ODAxOTA3Mjg5ZjZjMTJiYjg3MGRiNjhmNzViMDAyNDE5M2RhMWYwNDcvYjIxMjVjZWVlMzk5MmEwOTNmOTgwOGVmYzlhNzIwNjQzYTQ0ZTU5YjE3YmFhNzdlZGRiMGZiZWM2OTY1Y2U1YT9yZXNwb25zZS1jb250ZW50LWRpc3Bvc2l0aW9uPSomcmVzcG9uc2UtY29udGVudC10eXBlPSoiLCJDb25kaXRpb24iOnsiRGF0ZUxlc3NUaGFuIjp7IkFXUzpFcG9jaFRpbWUiOjE2ODcwNjcxMTB9fX1dfQ__&Signature=CA2n99FZwEqOfJqOVwtexLcmd76jDQAVBL-htCrl5Q3GBk3dSV%7EbnvAAmbdxMLnZLQfMyPi1iuNl5zd3gRQpGRBaIuhuFJdwLSq%7Ej%7ENBRZ96fPLyMOIaQvNLuAS6jOJ8ObjalgWRf%7EsSw1aSOTlBytl768vG%7EgLn-dNfjwJ9nOLHFpQ17sXSd-vOlhTICM85Uufj3cSg6YyJos1W7fBEk4pAqglQ7mio%7EmqmJ1oucYxqMuY9HfdYnRqwyjy0pS-z4WTNG-HOrjO-4ihC49bZvTpouwXu53gnspV9-nUL9ruAszS-FOvZ7HIkc-F4vXPkw8ZO-AtE3Kob4AJbHRMtHg__&Key-Pair-Id=KVTP0A1DKRTAX\n",
            "\n",
            "06/15 05:45:10 [\u001b[1;32mNOTICE\u001b[0m] CUID#16 - Redirecting to https://cdn-lfs.huggingface.co/repos/a3/72/a37288fd25de45b6a8bbb79801907289f6c12bb870db68f75b0024193da1f047/b2125ceee3992a093f9808efc9a720643a44e59b17baa77eddb0fbec6965ce5a?response-content-disposition=attachment%3B+filename*%3DUTF-8%27%27pytorch_model-00003-of-00009.bin%3B+filename%3D%22pytorch_model-00003-of-00009.bin%22%3B&response-content-type=application%2Foctet-stream&Expires=1687067110&Policy=eyJTdGF0ZW1lbnQiOlt7IlJlc291cmNlIjoiaHR0cHM6Ly9jZG4tbGZzLmh1Z2dpbmdmYWNlLmNvL3JlcG9zL2EzLzcyL2EzNzI4OGZkMjVkZTQ1YjZhOGJiYjc5ODAxOTA3Mjg5ZjZjMTJiYjg3MGRiNjhmNzViMDAyNDE5M2RhMWYwNDcvYjIxMjVjZWVlMzk5MmEwOTNmOTgwOGVmYzlhNzIwNjQzYTQ0ZTU5YjE3YmFhNzdlZGRiMGZiZWM2OTY1Y2U1YT9yZXNwb25zZS1jb250ZW50LWRpc3Bvc2l0aW9uPSomcmVzcG9uc2UtY29udGVudC10eXBlPSoiLCJDb25kaXRpb24iOnsiRGF0ZUxlc3NUaGFuIjp7IkFXUzpFcG9jaFRpbWUiOjE2ODcwNjcxMTB9fX1dfQ__&Signature=CA2n99FZwEqOfJqOVwtexLcmd76jDQAVBL-htCrl5Q3GBk3dSV%7EbnvAAmbdxMLnZLQfMyPi1iuNl5zd3gRQpGRBaIuhuFJdwLSq%7Ej%7ENBRZ96fPLyMOIaQvNLuAS6jOJ8ObjalgWRf%7EsSw1aSOTlBytl768vG%7EgLn-dNfjwJ9nOLHFpQ17sXSd-vOlhTICM85Uufj3cSg6YyJos1W7fBEk4pAqglQ7mio%7EmqmJ1oucYxqMuY9HfdYnRqwyjy0pS-z4WTNG-HOrjO-4ihC49bZvTpouwXu53gnspV9-nUL9ruAszS-FOvZ7HIkc-F4vXPkw8ZO-AtE3Kob4AJbHRMtHg__&Key-Pair-Id=KVTP0A1DKRTAX\n",
            "\n",
            "06/15 05:45:10 [\u001b[1;32mNOTICE\u001b[0m] CUID#13 - Redirecting to https://cdn-lfs.huggingface.co/repos/a3/72/a37288fd25de45b6a8bbb79801907289f6c12bb870db68f75b0024193da1f047/b2125ceee3992a093f9808efc9a720643a44e59b17baa77eddb0fbec6965ce5a?response-content-disposition=attachment%3B+filename*%3DUTF-8%27%27pytorch_model-00003-of-00009.bin%3B+filename%3D%22pytorch_model-00003-of-00009.bin%22%3B&response-content-type=application%2Foctet-stream&Expires=1687067110&Policy=eyJTdGF0ZW1lbnQiOlt7IlJlc291cmNlIjoiaHR0cHM6Ly9jZG4tbGZzLmh1Z2dpbmdmYWNlLmNvL3JlcG9zL2EzLzcyL2EzNzI4OGZkMjVkZTQ1YjZhOGJiYjc5ODAxOTA3Mjg5ZjZjMTJiYjg3MGRiNjhmNzViMDAyNDE5M2RhMWYwNDcvYjIxMjVjZWVlMzk5MmEwOTNmOTgwOGVmYzlhNzIwNjQzYTQ0ZTU5YjE3YmFhNzdlZGRiMGZiZWM2OTY1Y2U1YT9yZXNwb25zZS1jb250ZW50LWRpc3Bvc2l0aW9uPSomcmVzcG9uc2UtY29udGVudC10eXBlPSoiLCJDb25kaXRpb24iOnsiRGF0ZUxlc3NUaGFuIjp7IkFXUzpFcG9jaFRpbWUiOjE2ODcwNjcxMTB9fX1dfQ__&Signature=CA2n99FZwEqOfJqOVwtexLcmd76jDQAVBL-htCrl5Q3GBk3dSV%7EbnvAAmbdxMLnZLQfMyPi1iuNl5zd3gRQpGRBaIuhuFJdwLSq%7Ej%7ENBRZ96fPLyMOIaQvNLuAS6jOJ8ObjalgWRf%7EsSw1aSOTlBytl768vG%7EgLn-dNfjwJ9nOLHFpQ17sXSd-vOlhTICM85Uufj3cSg6YyJos1W7fBEk4pAqglQ7mio%7EmqmJ1oucYxqMuY9HfdYnRqwyjy0pS-z4WTNG-HOrjO-4ihC49bZvTpouwXu53gnspV9-nUL9ruAszS-FOvZ7HIkc-F4vXPkw8ZO-AtE3Kob4AJbHRMtHg__&Key-Pair-Id=KVTP0A1DKRTAX\n",
            "\n",
            "06/15 05:45:10 [\u001b[1;32mNOTICE\u001b[0m] CUID#12 - Redirecting to https://cdn-lfs.huggingface.co/repos/a3/72/a37288fd25de45b6a8bbb79801907289f6c12bb870db68f75b0024193da1f047/b2125ceee3992a093f9808efc9a720643a44e59b17baa77eddb0fbec6965ce5a?response-content-disposition=attachment%3B+filename*%3DUTF-8%27%27pytorch_model-00003-of-00009.bin%3B+filename%3D%22pytorch_model-00003-of-00009.bin%22%3B&response-content-type=application%2Foctet-stream&Expires=1687067110&Policy=eyJTdGF0ZW1lbnQiOlt7IlJlc291cmNlIjoiaHR0cHM6Ly9jZG4tbGZzLmh1Z2dpbmdmYWNlLmNvL3JlcG9zL2EzLzcyL2EzNzI4OGZkMjVkZTQ1YjZhOGJiYjc5ODAxOTA3Mjg5ZjZjMTJiYjg3MGRiNjhmNzViMDAyNDE5M2RhMWYwNDcvYjIxMjVjZWVlMzk5MmEwOTNmOTgwOGVmYzlhNzIwNjQzYTQ0ZTU5YjE3YmFhNzdlZGRiMGZiZWM2OTY1Y2U1YT9yZXNwb25zZS1jb250ZW50LWRpc3Bvc2l0aW9uPSomcmVzcG9uc2UtY29udGVudC10eXBlPSoiLCJDb25kaXRpb24iOnsiRGF0ZUxlc3NUaGFuIjp7IkFXUzpFcG9jaFRpbWUiOjE2ODcwNjcxMTB9fX1dfQ__&Signature=CA2n99FZwEqOfJqOVwtexLcmd76jDQAVBL-htCrl5Q3GBk3dSV%7EbnvAAmbdxMLnZLQfMyPi1iuNl5zd3gRQpGRBaIuhuFJdwLSq%7Ej%7ENBRZ96fPLyMOIaQvNLuAS6jOJ8ObjalgWRf%7EsSw1aSOTlBytl768vG%7EgLn-dNfjwJ9nOLHFpQ17sXSd-vOlhTICM85Uufj3cSg6YyJos1W7fBEk4pAqglQ7mio%7EmqmJ1oucYxqMuY9HfdYnRqwyjy0pS-z4WTNG-HOrjO-4ihC49bZvTpouwXu53gnspV9-nUL9ruAszS-FOvZ7HIkc-F4vXPkw8ZO-AtE3Kob4AJbHRMtHg__&Key-Pair-Id=KVTP0A1DKRTAX\n",
            "\u001b[35m[\u001b[0m#6eb087 20MiB/8.8GiB\u001b[36m(0%)\u001b[0m CN:16 DL:\u001b[32m34MiB\u001b[0m ETA:\u001b[33m4m20s\u001b[0m\u001b[35m]\u001b[0m\u001b[0m\n",
            "06/15 05:45:10 [\u001b[1;32mNOTICE\u001b[0m] CUID#23 - Redirecting to https://cdn-lfs.huggingface.co/repos/a3/72/a37288fd25de45b6a8bbb79801907289f6c12bb870db68f75b0024193da1f047/b2125ceee3992a093f9808efc9a720643a44e59b17baa77eddb0fbec6965ce5a?response-content-disposition=attachment%3B+filename*%3DUTF-8%27%27pytorch_model-00003-of-00009.bin%3B+filename%3D%22pytorch_model-00003-of-00009.bin%22%3B&response-content-type=application%2Foctet-stream&Expires=1687066133&Policy=eyJTdGF0ZW1lbnQiOlt7IlJlc291cmNlIjoiaHR0cHM6Ly9jZG4tbGZzLmh1Z2dpbmdmYWNlLmNvL3JlcG9zL2EzLzcyL2EzNzI4OGZkMjVkZTQ1YjZhOGJiYjc5ODAxOTA3Mjg5ZjZjMTJiYjg3MGRiNjhmNzViMDAyNDE5M2RhMWYwNDcvYjIxMjVjZWVlMzk5MmEwOTNmOTgwOGVmYzlhNzIwNjQzYTQ0ZTU5YjE3YmFhNzdlZGRiMGZiZWM2OTY1Y2U1YT9yZXNwb25zZS1jb250ZW50LWRpc3Bvc2l0aW9uPSomcmVzcG9uc2UtY29udGVudC10eXBlPSoiLCJDb25kaXRpb24iOnsiRGF0ZUxlc3NUaGFuIjp7IkFXUzpFcG9jaFRpbWUiOjE2ODcwNjYxMzN9fX1dfQ__&Signature=cM5ZY1tGizGOPCekqbqXNG5R9hOG9fEGSIiHddzvlbEuUpPCpGYQXHJbnFEp3%7EhV2o7643PCiw6hhwLdqyXuyi7D9z7qdV3oPuWxRHkQWWytXHpsMn7USxjDTon%7ETSmhNAHN8YNjgAFQFLS-uvqerOJFEwcV5jkA7wbHEEjj%7Ed4I0RgIsK4TvlxAqrQUPEH9JMi%7EQ8e552WFjDZRwCCAdLHGG0qOuTlRjFq2XjcrFbXeN4eSh9BlovygdBsfz1osYQPd3w0entqVpXyE3r89krBZiP%7EH5fEni2KMF0WL-dmK0S6yybW3VSgXCp5raB48WHaqju7WzP%7EK6aSb6A6JoA__&Key-Pair-Id=KVTP0A1DKRTAX\n",
            "\n",
            "06/15 05:45:10 [\u001b[1;32mNOTICE\u001b[0m] CUID#22 - Redirecting to https://cdn-lfs.huggingface.co/repos/a3/72/a37288fd25de45b6a8bbb79801907289f6c12bb870db68f75b0024193da1f047/b2125ceee3992a093f9808efc9a720643a44e59b17baa77eddb0fbec6965ce5a?response-content-disposition=attachment%3B+filename*%3DUTF-8%27%27pytorch_model-00003-of-00009.bin%3B+filename%3D%22pytorch_model-00003-of-00009.bin%22%3B&response-content-type=application%2Foctet-stream&Expires=1687067110&Policy=eyJTdGF0ZW1lbnQiOlt7IlJlc291cmNlIjoiaHR0cHM6Ly9jZG4tbGZzLmh1Z2dpbmdmYWNlLmNvL3JlcG9zL2EzLzcyL2EzNzI4OGZkMjVkZTQ1YjZhOGJiYjc5ODAxOTA3Mjg5ZjZjMTJiYjg3MGRiNjhmNzViMDAyNDE5M2RhMWYwNDcvYjIxMjVjZWVlMzk5MmEwOTNmOTgwOGVmYzlhNzIwNjQzYTQ0ZTU5YjE3YmFhNzdlZGRiMGZiZWM2OTY1Y2U1YT9yZXNwb25zZS1jb250ZW50LWRpc3Bvc2l0aW9uPSomcmVzcG9uc2UtY29udGVudC10eXBlPSoiLCJDb25kaXRpb24iOnsiRGF0ZUxlc3NUaGFuIjp7IkFXUzpFcG9jaFRpbWUiOjE2ODcwNjcxMTB9fX1dfQ__&Signature=CA2n99FZwEqOfJqOVwtexLcmd76jDQAVBL-htCrl5Q3GBk3dSV%7EbnvAAmbdxMLnZLQfMyPi1iuNl5zd3gRQpGRBaIuhuFJdwLSq%7Ej%7ENBRZ96fPLyMOIaQvNLuAS6jOJ8ObjalgWRf%7EsSw1aSOTlBytl768vG%7EgLn-dNfjwJ9nOLHFpQ17sXSd-vOlhTICM85Uufj3cSg6YyJos1W7fBEk4pAqglQ7mio%7EmqmJ1oucYxqMuY9HfdYnRqwyjy0pS-z4WTNG-HOrjO-4ihC49bZvTpouwXu53gnspV9-nUL9ruAszS-FOvZ7HIkc-F4vXPkw8ZO-AtE3Kob4AJbHRMtHg__&Key-Pair-Id=KVTP0A1DKRTAX\n",
            "\n",
            "06/15 05:45:10 [\u001b[1;32mNOTICE\u001b[0m] CUID#21 - Redirecting to https://cdn-lfs.huggingface.co/repos/a3/72/a37288fd25de45b6a8bbb79801907289f6c12bb870db68f75b0024193da1f047/b2125ceee3992a093f9808efc9a720643a44e59b17baa77eddb0fbec6965ce5a?response-content-disposition=attachment%3B+filename*%3DUTF-8%27%27pytorch_model-00003-of-00009.bin%3B+filename%3D%22pytorch_model-00003-of-00009.bin%22%3B&response-content-type=application%2Foctet-stream&Expires=1687067110&Policy=eyJTdGF0ZW1lbnQiOlt7IlJlc291cmNlIjoiaHR0cHM6Ly9jZG4tbGZzLmh1Z2dpbmdmYWNlLmNvL3JlcG9zL2EzLzcyL2EzNzI4OGZkMjVkZTQ1YjZhOGJiYjc5ODAxOTA3Mjg5ZjZjMTJiYjg3MGRiNjhmNzViMDAyNDE5M2RhMWYwNDcvYjIxMjVjZWVlMzk5MmEwOTNmOTgwOGVmYzlhNzIwNjQzYTQ0ZTU5YjE3YmFhNzdlZGRiMGZiZWM2OTY1Y2U1YT9yZXNwb25zZS1jb250ZW50LWRpc3Bvc2l0aW9uPSomcmVzcG9uc2UtY29udGVudC10eXBlPSoiLCJDb25kaXRpb24iOnsiRGF0ZUxlc3NUaGFuIjp7IkFXUzpFcG9jaFRpbWUiOjE2ODcwNjcxMTB9fX1dfQ__&Signature=CA2n99FZwEqOfJqOVwtexLcmd76jDQAVBL-htCrl5Q3GBk3dSV%7EbnvAAmbdxMLnZLQfMyPi1iuNl5zd3gRQpGRBaIuhuFJdwLSq%7Ej%7ENBRZ96fPLyMOIaQvNLuAS6jOJ8ObjalgWRf%7EsSw1aSOTlBytl768vG%7EgLn-dNfjwJ9nOLHFpQ17sXSd-vOlhTICM85Uufj3cSg6YyJos1W7fBEk4pAqglQ7mio%7EmqmJ1oucYxqMuY9HfdYnRqwyjy0pS-z4WTNG-HOrjO-4ihC49bZvTpouwXu53gnspV9-nUL9ruAszS-FOvZ7HIkc-F4vXPkw8ZO-AtE3Kob4AJbHRMtHg__&Key-Pair-Id=KVTP0A1DKRTAX\n",
            "\u001b[35m[\u001b[0m#2fc05d 16KiB/8.8GiB\u001b[36m(0%)\u001b[0m CN:16 DL:\u001b[32m228KiB\u001b[0m ETA:\u001b[33m11h18m13s\u001b[0m\u001b[35m]\u001b[0m\u001b[0m\n",
            "06/15 05:45:10 [\u001b[1;32mNOTICE\u001b[0m] CUID#18 - Redirecting to https://cdn-lfs.huggingface.co/repos/a3/72/a37288fd25de45b6a8bbb79801907289f6c12bb870db68f75b0024193da1f047/7af5021fe9afb9b4186a59a91e75aa60570c66fba43390b634387ee54bd73223?response-content-disposition=attachment%3B+filename*%3DUTF-8%27%27pytorch_model-00008-of-00009.bin%3B+filename%3D%22pytorch_model-00008-of-00009.bin%22%3B&response-content-type=application%2Foctet-stream&Expires=1687067110&Policy=eyJTdGF0ZW1lbnQiOlt7IlJlc291cmNlIjoiaHR0cHM6Ly9jZG4tbGZzLmh1Z2dpbmdmYWNlLmNvL3JlcG9zL2EzLzcyL2EzNzI4OGZkMjVkZTQ1YjZhOGJiYjc5ODAxOTA3Mjg5ZjZjMTJiYjg3MGRiNjhmNzViMDAyNDE5M2RhMWYwNDcvN2FmNTAyMWZlOWFmYjliNDE4NmE1OWE5MWU3NWFhNjA1NzBjNjZmYmE0MzM5MGI2MzQzODdlZTU0YmQ3MzIyMz9yZXNwb25zZS1jb250ZW50LWRpc3Bvc2l0aW9uPSomcmVzcG9uc2UtY29udGVudC10eXBlPSoiLCJDb25kaXRpb24iOnsiRGF0ZUxlc3NUaGFuIjp7IkFXUzpFcG9jaFRpbWUiOjE2ODcwNjcxMTB9fX1dfQ__&Signature=Sl3iBX9Je1A7rfOZR9zYyP1MO7al8pVESJtoFKSpqi0%7EjPXVKFMU55NRyRMENnelrUydb-vEr9ahNdhuqe9X7SGbd3ECXEeqxRW%7ED7j5ZEpbB3mLR0mcetOsBhx9Fb3Ht1xyjSRibSqOave5jS5NUMWY0ZOyV9tS5%7EDnzLFmTGhil-OvQZnLvX-NU0S6n8ESmK1XehoQ3WBE9HmaodRmgTpsfcUCt71Sn4jHQ5zIkLr0gJa9yuabDqqWjpXGFYW4rcjzUZua1ykZBiiFymhahq8r3ycKo3-Qt3YQ3diS%7EZ%7Enn%7EKEMUvx4JZ69zcp6kJDieBbIT8SWBfMvu6JhUSBUQ__&Key-Pair-Id=KVTP0A1DKRTAX\n",
            "\n",
            "06/15 05:45:10 [\u001b[1;32mNOTICE\u001b[0m] CUID#22 - Redirecting to https://cdn-lfs.huggingface.co/repos/a3/72/a37288fd25de45b6a8bbb79801907289f6c12bb870db68f75b0024193da1f047/7af5021fe9afb9b4186a59a91e75aa60570c66fba43390b634387ee54bd73223?response-content-disposition=attachment%3B+filename*%3DUTF-8%27%27pytorch_model-00008-of-00009.bin%3B+filename%3D%22pytorch_model-00008-of-00009.bin%22%3B&response-content-type=application%2Foctet-stream&Expires=1687067110&Policy=eyJTdGF0ZW1lbnQiOlt7IlJlc291cmNlIjoiaHR0cHM6Ly9jZG4tbGZzLmh1Z2dpbmdmYWNlLmNvL3JlcG9zL2EzLzcyL2EzNzI4OGZkMjVkZTQ1YjZhOGJiYjc5ODAxOTA3Mjg5ZjZjMTJiYjg3MGRiNjhmNzViMDAyNDE5M2RhMWYwNDcvN2FmNTAyMWZlOWFmYjliNDE4NmE1OWE5MWU3NWFhNjA1NzBjNjZmYmE0MzM5MGI2MzQzODdlZTU0YmQ3MzIyMz9yZXNwb25zZS1jb250ZW50LWRpc3Bvc2l0aW9uPSomcmVzcG9uc2UtY29udGVudC10eXBlPSoiLCJDb25kaXRpb24iOnsiRGF0ZUxlc3NUaGFuIjp7IkFXUzpFcG9jaFRpbWUiOjE2ODcwNjcxMTB9fX1dfQ__&Signature=Sl3iBX9Je1A7rfOZR9zYyP1MO7al8pVESJtoFKSpqi0%7EjPXVKFMU55NRyRMENnelrUydb-vEr9ahNdhuqe9X7SGbd3ECXEeqxRW%7ED7j5ZEpbB3mLR0mcetOsBhx9Fb3Ht1xyjSRibSqOave5jS5NUMWY0ZOyV9tS5%7EDnzLFmTGhil-OvQZnLvX-NU0S6n8ESmK1XehoQ3WBE9HmaodRmgTpsfcUCt71Sn4jHQ5zIkLr0gJa9yuabDqqWjpXGFYW4rcjzUZua1ykZBiiFymhahq8r3ycKo3-Qt3YQ3diS%7EZ%7Enn%7EKEMUvx4JZ69zcp6kJDieBbIT8SWBfMvu6JhUSBUQ__&Key-Pair-Id=KVTP0A1DKRTAX\n",
            "\n",
            "06/15 05:45:10 [\u001b[1;32mNOTICE\u001b[0m] CUID#18 - Redirecting to https://cdn-lfs.huggingface.co/repos/a3/72/a37288fd25de45b6a8bbb79801907289f6c12bb870db68f75b0024193da1f047/b2125ceee3992a093f9808efc9a720643a44e59b17baa77eddb0fbec6965ce5a?response-content-disposition=attachment%3B+filename*%3DUTF-8%27%27pytorch_model-00003-of-00009.bin%3B+filename%3D%22pytorch_model-00003-of-00009.bin%22%3B&response-content-type=application%2Foctet-stream&Expires=1687067110&Policy=eyJTdGF0ZW1lbnQiOlt7IlJlc291cmNlIjoiaHR0cHM6Ly9jZG4tbGZzLmh1Z2dpbmdmYWNlLmNvL3JlcG9zL2EzLzcyL2EzNzI4OGZkMjVkZTQ1YjZhOGJiYjc5ODAxOTA3Mjg5ZjZjMTJiYjg3MGRiNjhmNzViMDAyNDE5M2RhMWYwNDcvYjIxMjVjZWVlMzk5MmEwOTNmOTgwOGVmYzlhNzIwNjQzYTQ0ZTU5YjE3YmFhNzdlZGRiMGZiZWM2OTY1Y2U1YT9yZXNwb25zZS1jb250ZW50LWRpc3Bvc2l0aW9uPSomcmVzcG9uc2UtY29udGVudC10eXBlPSoiLCJDb25kaXRpb24iOnsiRGF0ZUxlc3NUaGFuIjp7IkFXUzpFcG9jaFRpbWUiOjE2ODcwNjcxMTB9fX1dfQ__&Signature=CA2n99FZwEqOfJqOVwtexLcmd76jDQAVBL-htCrl5Q3GBk3dSV%7EbnvAAmbdxMLnZLQfMyPi1iuNl5zd3gRQpGRBaIuhuFJdwLSq%7Ej%7ENBRZ96fPLyMOIaQvNLuAS6jOJ8ObjalgWRf%7EsSw1aSOTlBytl768vG%7EgLn-dNfjwJ9nOLHFpQ17sXSd-vOlhTICM85Uufj3cSg6YyJos1W7fBEk4pAqglQ7mio%7EmqmJ1oucYxqMuY9HfdYnRqwyjy0pS-z4WTNG-HOrjO-4ihC49bZvTpouwXu53gnspV9-nUL9ruAszS-FOvZ7HIkc-F4vXPkw8ZO-AtE3Kob4AJbHRMtHg__&Key-Pair-Id=KVTP0A1DKRTAX\n",
            "\n",
            "06/15 05:45:10 [\u001b[1;32mNOTICE\u001b[0m] CUID#20 - Redirecting to https://cdn-lfs.huggingface.co/repos/a3/72/a37288fd25de45b6a8bbb79801907289f6c12bb870db68f75b0024193da1f047/b2125ceee3992a093f9808efc9a720643a44e59b17baa77eddb0fbec6965ce5a?response-content-disposition=attachment%3B+filename*%3DUTF-8%27%27pytorch_model-00003-of-00009.bin%3B+filename%3D%22pytorch_model-00003-of-00009.bin%22%3B&response-content-type=application%2Foctet-stream&Expires=1687067110&Policy=eyJTdGF0ZW1lbnQiOlt7IlJlc291cmNlIjoiaHR0cHM6Ly9jZG4tbGZzLmh1Z2dpbmdmYWNlLmNvL3JlcG9zL2EzLzcyL2EzNzI4OGZkMjVkZTQ1YjZhOGJiYjc5ODAxOTA3Mjg5ZjZjMTJiYjg3MGRiNjhmNzViMDAyNDE5M2RhMWYwNDcvYjIxMjVjZWVlMzk5MmEwOTNmOTgwOGVmYzlhNzIwNjQzYTQ0ZTU5YjE3YmFhNzdlZGRiMGZiZWM2OTY1Y2U1YT9yZXNwb25zZS1jb250ZW50LWRpc3Bvc2l0aW9uPSomcmVzcG9uc2UtY29udGVudC10eXBlPSoiLCJDb25kaXRpb24iOnsiRGF0ZUxlc3NUaGFuIjp7IkFXUzpFcG9jaFRpbWUiOjE2ODcwNjcxMTB9fX1dfQ__&Signature=CA2n99FZwEqOfJqOVwtexLcmd76jDQAVBL-htCrl5Q3GBk3dSV%7EbnvAAmbdxMLnZLQfMyPi1iuNl5zd3gRQpGRBaIuhuFJdwLSq%7Ej%7ENBRZ96fPLyMOIaQvNLuAS6jOJ8ObjalgWRf%7EsSw1aSOTlBytl768vG%7EgLn-dNfjwJ9nOLHFpQ17sXSd-vOlhTICM85Uufj3cSg6YyJos1W7fBEk4pAqglQ7mio%7EmqmJ1oucYxqMuY9HfdYnRqwyjy0pS-z4WTNG-HOrjO-4ihC49bZvTpouwXu53gnspV9-nUL9ruAszS-FOvZ7HIkc-F4vXPkw8ZO-AtE3Kob4AJbHRMtHg__&Key-Pair-Id=KVTP0A1DKRTAX\n",
            "\u001b[35m[\u001b[0m#d91592 26MiB/8.8GiB\u001b[36m(0%)\u001b[0m CN:16 DL:\u001b[32m41MiB\u001b[0m ETA:\u001b[33m3m37s\u001b[0m\u001b[35m]\u001b[0m\u001b[0m\n",
            "06/15 05:45:10 [\u001b[1;32mNOTICE\u001b[0m] CUID#20 - Redirecting to https://cdn-lfs.huggingface.co/repos/a3/72/a37288fd25de45b6a8bbb79801907289f6c12bb870db68f75b0024193da1f047/2fc011e39d4a9c5958630b1bb946dec9ca54adbccc52804fed545490f995b20b?response-content-disposition=attachment%3B+filename*%3DUTF-8%27%27pytorch_model-00004-of-00009.bin%3B+filename%3D%22pytorch_model-00004-of-00009.bin%22%3B&response-content-type=application%2Foctet-stream&Expires=1687067110&Policy=eyJTdGF0ZW1lbnQiOlt7IlJlc291cmNlIjoiaHR0cHM6Ly9jZG4tbGZzLmh1Z2dpbmdmYWNlLmNvL3JlcG9zL2EzLzcyL2EzNzI4OGZkMjVkZTQ1YjZhOGJiYjc5ODAxOTA3Mjg5ZjZjMTJiYjg3MGRiNjhmNzViMDAyNDE5M2RhMWYwNDcvMmZjMDExZTM5ZDRhOWM1OTU4NjMwYjFiYjk0NmRlYzljYTU0YWRiY2NjNTI4MDRmZWQ1NDU0OTBmOTk1YjIwYj9yZXNwb25zZS1jb250ZW50LWRpc3Bvc2l0aW9uPSomcmVzcG9uc2UtY29udGVudC10eXBlPSoiLCJDb25kaXRpb24iOnsiRGF0ZUxlc3NUaGFuIjp7IkFXUzpFcG9jaFRpbWUiOjE2ODcwNjcxMTB9fX1dfQ__&Signature=UYWnXi%7ES6AJopdCyqU7xEGMQNjMtAZwvQPOaE%7EQLZ7nU5MShO2liLOukgkxEnoJqI4C0KYYuwL13yP2XEhUFJ8RrWpxjsbEvxvLTs0VkphbCU%7EtKFxAZ2Jmkd-rTMYXWDZZbl8MVo5NF7F16U5ZDj%7EBgsnsRbRObOWTbEuqe7SkNvHvBjtUF0GdsxAQq30R0SpuSJw2Zbo4FovU%7EJNwit7%7Ebhls5BYMzIJsH0KWLrNXvWdcPiKOJWGjiGsS0QMYAhP%7EXpB%7E17gMDUFYz7gTVt27rkLvNF2hhRJum0KWHtbxTOrmorb6Jq545Bcxkbo4Ts7twec0T%7E78C5OsfFsYPZQ__&Key-Pair-Id=KVTP0A1DKRTAX\n",
            "\n",
            "06/15 05:45:10 [\u001b[1;32mNOTICE\u001b[0m] CUID#14 - Redirecting to https://cdn-lfs.huggingface.co/repos/a3/72/a37288fd25de45b6a8bbb79801907289f6c12bb870db68f75b0024193da1f047/d6376a884bc80a6ea95da83f963508e57d8508333c424bed7beda565e4aaa0f3?response-content-disposition=attachment%3B+filename*%3DUTF-8%27%27pytorch_model-00006-of-00009.bin%3B+filename%3D%22pytorch_model-00006-of-00009.bin%22%3B&response-content-type=application%2Foctet-stream&Expires=1687067110&Policy=eyJTdGF0ZW1lbnQiOlt7IlJlc291cmNlIjoiaHR0cHM6Ly9jZG4tbGZzLmh1Z2dpbmdmYWNlLmNvL3JlcG9zL2EzLzcyL2EzNzI4OGZkMjVkZTQ1YjZhOGJiYjc5ODAxOTA3Mjg5ZjZjMTJiYjg3MGRiNjhmNzViMDAyNDE5M2RhMWYwNDcvZDYzNzZhODg0YmM4MGE2ZWE5NWRhODNmOTYzNTA4ZTU3ZDg1MDgzMzNjNDI0YmVkN2JlZGE1NjVlNGFhYTBmMz9yZXNwb25zZS1jb250ZW50LWRpc3Bvc2l0aW9uPSomcmVzcG9uc2UtY29udGVudC10eXBlPSoiLCJDb25kaXRpb24iOnsiRGF0ZUxlc3NUaGFuIjp7IkFXUzpFcG9jaFRpbWUiOjE2ODcwNjcxMTB9fX1dfQ__&Signature=HNrTQFuryG4jQcxepnanLroiuXTrrNZrS8R-teEtAqzsoyZqgb2CWI8BbQeKD6%7Ec9NB0XgS-r4nB5HLo72%7E17xcHOo9YPpp3mRMaIj9PMWr-4oJWvWf4LTYO7Un61vgL34fPZ4gQV8ETSMkIvtc2YLSbiNMMTTIjic3WLwjVzPvjvaGfsQnwwrm1IiltWmFzyKyOa5tfwuapcGh2LLDpc5UpcHAgq%7EQ2MVjPEChwtgerXlrW%7ErEuD-yBgqRltWJqZCUfxGDAltYruEaF3DojHSCRhKBv9j-DGJWVwH4KlII9uMGjXlo2IlnNoOuTPs4zagH4O-h8ipgOo0YO%7Ebq9lA__&Key-Pair-Id=KVTP0A1DKRTAX\n",
            "\u001b[35m[\u001b[0m#5defbd 6.2MiB/8.8GiB\u001b[36m(0%)\u001b[0m CN:16 DL:\u001b[32m12MiB\u001b[0m ETA:\u001b[33m11m44s\u001b[0m\u001b[35m]\u001b[0m\u001b[0m\n",
            "06/15 05:45:10 [\u001b[1;32mNOTICE\u001b[0m] CUID#14 - Redirecting to https://cdn-lfs.huggingface.co/repos/a3/72/a37288fd25de45b6a8bbb79801907289f6c12bb870db68f75b0024193da1f047/b2125ceee3992a093f9808efc9a720643a44e59b17baa77eddb0fbec6965ce5a?response-content-disposition=attachment%3B+filename*%3DUTF-8%27%27pytorch_model-00003-of-00009.bin%3B+filename%3D%22pytorch_model-00003-of-00009.bin%22%3B&response-content-type=application%2Foctet-stream&Expires=1687067110&Policy=eyJTdGF0ZW1lbnQiOlt7IlJlc291cmNlIjoiaHR0cHM6Ly9jZG4tbGZzLmh1Z2dpbmdmYWNlLmNvL3JlcG9zL2EzLzcyL2EzNzI4OGZkMjVkZTQ1YjZhOGJiYjc5ODAxOTA3Mjg5ZjZjMTJiYjg3MGRiNjhmNzViMDAyNDE5M2RhMWYwNDcvYjIxMjVjZWVlMzk5MmEwOTNmOTgwOGVmYzlhNzIwNjQzYTQ0ZTU5YjE3YmFhNzdlZGRiMGZiZWM2OTY1Y2U1YT9yZXNwb25zZS1jb250ZW50LWRpc3Bvc2l0aW9uPSomcmVzcG9uc2UtY29udGVudC10eXBlPSoiLCJDb25kaXRpb24iOnsiRGF0ZUxlc3NUaGFuIjp7IkFXUzpFcG9jaFRpbWUiOjE2ODcwNjcxMTB9fX1dfQ__&Signature=CA2n99FZwEqOfJqOVwtexLcmd76jDQAVBL-htCrl5Q3GBk3dSV%7EbnvAAmbdxMLnZLQfMyPi1iuNl5zd3gRQpGRBaIuhuFJdwLSq%7Ej%7ENBRZ96fPLyMOIaQvNLuAS6jOJ8ObjalgWRf%7EsSw1aSOTlBytl768vG%7EgLn-dNfjwJ9nOLHFpQ17sXSd-vOlhTICM85Uufj3cSg6YyJos1W7fBEk4pAqglQ7mio%7EmqmJ1oucYxqMuY9HfdYnRqwyjy0pS-z4WTNG-HOrjO-4ihC49bZvTpouwXu53gnspV9-nUL9ruAszS-FOvZ7HIkc-F4vXPkw8ZO-AtE3Kob4AJbHRMtHg__&Key-Pair-Id=KVTP0A1DKRTAX\n",
            "\n",
            "06/15 05:45:10 [\u001b[1;32mNOTICE\u001b[0m] CUID#14 - Redirecting to https://cdn-lfs.huggingface.co/repos/a3/72/a37288fd25de45b6a8bbb79801907289f6c12bb870db68f75b0024193da1f047/ae277c7c5aef0d0fea9e9e6b13113dfef0078a36c78805bebe14d32e9ab887d1?response-content-disposition=attachment%3B+filename*%3DUTF-8%27%27pytorch_model-00005-of-00009.bin%3B+filename%3D%22pytorch_model-00005-of-00009.bin%22%3B&response-content-type=application%2Foctet-stream&Expires=1687067110&Policy=eyJTdGF0ZW1lbnQiOlt7IlJlc291cmNlIjoiaHR0cHM6Ly9jZG4tbGZzLmh1Z2dpbmdmYWNlLmNvL3JlcG9zL2EzLzcyL2EzNzI4OGZkMjVkZTQ1YjZhOGJiYjc5ODAxOTA3Mjg5ZjZjMTJiYjg3MGRiNjhmNzViMDAyNDE5M2RhMWYwNDcvYWUyNzdjN2M1YWVmMGQwZmVhOWU5ZTZiMTMxMTNkZmVmMDA3OGEzNmM3ODgwNWJlYmUxNGQzMmU5YWI4ODdkMT9yZXNwb25zZS1jb250ZW50LWRpc3Bvc2l0aW9uPSomcmVzcG9uc2UtY29udGVudC10eXBlPSoiLCJDb25kaXRpb24iOnsiRGF0ZUxlc3NUaGFuIjp7IkFXUzpFcG9jaFRpbWUiOjE2ODcwNjcxMTB9fX1dfQ__&Signature=leiZvnFN15EkIIc7oljMlyjQ%7Ec768VKzz-u6jgext82aQO0TucCFxIb5Bwn7T86ysTrnvHpyIBP6LaBg950BJZI9MihJZVuBPa9Z69Sk9yI089FS2vZrCjeXo9LBAbXrkzOfp45Ck3uu4ZRv9P6ABK0WYSdOcCFycXUzx9FzgU%7EvlTfX46iMpZUu8xN9lDYXZ6GqhDm-kgQUBNVE9StpVtPK2EbJjBZAtB36nVLmE3xIW2ejniKuCBzosGSHWFF9-ME7mzbENzdeIZ%7ERlzrxoSReqQ2LW8uVQA-a%7EFudFTV9T3IxEkG2RwhiEatVhIbJLZEShmc1Xybn-Y-p6mR4XQ__&Key-Pair-Id=KVTP0A1DKRTAX\n",
            "\n",
            "06/15 05:45:10 [\u001b[1;32mNOTICE\u001b[0m] CUID#10 - Redirecting to https://cdn-lfs.huggingface.co/repos/a3/72/a37288fd25de45b6a8bbb79801907289f6c12bb870db68f75b0024193da1f047/ae277c7c5aef0d0fea9e9e6b13113dfef0078a36c78805bebe14d32e9ab887d1?response-content-disposition=attachment%3B+filename*%3DUTF-8%27%27pytorch_model-00005-of-00009.bin%3B+filename%3D%22pytorch_model-00005-of-00009.bin%22%3B&response-content-type=application%2Foctet-stream&Expires=1687067110&Policy=eyJTdGF0ZW1lbnQiOlt7IlJlc291cmNlIjoiaHR0cHM6Ly9jZG4tbGZzLmh1Z2dpbmdmYWNlLmNvL3JlcG9zL2EzLzcyL2EzNzI4OGZkMjVkZTQ1YjZhOGJiYjc5ODAxOTA3Mjg5ZjZjMTJiYjg3MGRiNjhmNzViMDAyNDE5M2RhMWYwNDcvYWUyNzdjN2M1YWVmMGQwZmVhOWU5ZTZiMTMxMTNkZmVmMDA3OGEzNmM3ODgwNWJlYmUxNGQzMmU5YWI4ODdkMT9yZXNwb25zZS1jb250ZW50LWRpc3Bvc2l0aW9uPSomcmVzcG9uc2UtY29udGVudC10eXBlPSoiLCJDb25kaXRpb24iOnsiRGF0ZUxlc3NUaGFuIjp7IkFXUzpFcG9jaFRpbWUiOjE2ODcwNjcxMTB9fX1dfQ__&Signature=leiZvnFN15EkIIc7oljMlyjQ%7Ec768VKzz-u6jgext82aQO0TucCFxIb5Bwn7T86ysTrnvHpyIBP6LaBg950BJZI9MihJZVuBPa9Z69Sk9yI089FS2vZrCjeXo9LBAbXrkzOfp45Ck3uu4ZRv9P6ABK0WYSdOcCFycXUzx9FzgU%7EvlTfX46iMpZUu8xN9lDYXZ6GqhDm-kgQUBNVE9StpVtPK2EbJjBZAtB36nVLmE3xIW2ejniKuCBzosGSHWFF9-ME7mzbENzdeIZ%7ERlzrxoSReqQ2LW8uVQA-a%7EFudFTV9T3IxEkG2RwhiEatVhIbJLZEShmc1Xybn-Y-p6mR4XQ__&Key-Pair-Id=KVTP0A1DKRTAX\n",
            "\n",
            "06/15 05:45:10 [\u001b[1;32mNOTICE\u001b[0m] CUID#20 - Redirecting to https://cdn-lfs.huggingface.co/repos/a3/72/a37288fd25de45b6a8bbb79801907289f6c12bb870db68f75b0024193da1f047/b2125ceee3992a093f9808efc9a720643a44e59b17baa77eddb0fbec6965ce5a?response-content-disposition=attachment%3B+filename*%3DUTF-8%27%27pytorch_model-00003-of-00009.bin%3B+filename%3D%22pytorch_model-00003-of-00009.bin%22%3B&response-content-type=application%2Foctet-stream&Expires=1687065995&Policy=eyJTdGF0ZW1lbnQiOlt7IlJlc291cmNlIjoiaHR0cHM6Ly9jZG4tbGZzLmh1Z2dpbmdmYWNlLmNvL3JlcG9zL2EzLzcyL2EzNzI4OGZkMjVkZTQ1YjZhOGJiYjc5ODAxOTA3Mjg5ZjZjMTJiYjg3MGRiNjhmNzViMDAyNDE5M2RhMWYwNDcvYjIxMjVjZWVlMzk5MmEwOTNmOTgwOGVmYzlhNzIwNjQzYTQ0ZTU5YjE3YmFhNzdlZGRiMGZiZWM2OTY1Y2U1YT9yZXNwb25zZS1jb250ZW50LWRpc3Bvc2l0aW9uPSomcmVzcG9uc2UtY29udGVudC10eXBlPSoiLCJDb25kaXRpb24iOnsiRGF0ZUxlc3NUaGFuIjp7IkFXUzpFcG9jaFRpbWUiOjE2ODcwNjU5OTV9fX1dfQ__&Signature=DFIGZpxPnwwVkIZaWs93Q%7EkBgVwoWPlzPKtL%7EkOVS7vohAnc-ueKEkXbJO3mA0YeLsdvFdjuIifARZiF5JBdNCCxrtZbdwbs9cNVET0e5Y0wlpMAGGEjYSdc8Wvnq%7EFobEsvbRlwUHimOHo-bJVRIlZDibxLqXkbSPmMaIr8yj2XK9QqWXan0gUYTVvqS2wlbkKNA42k22qugisQ9dG71ZLzH3TYv82cK9f0m6JNGto2ntQpP19vNVQUYS0pHANVOdo-6yWK%7EZ3JRY8agfdlrCscGZJur1OqfxQAlYDEkJ471k0TUOPBRVAyJRxrA62z%7EeuUPDjs7JOf5MCmraARmg__&Key-Pair-Id=KVTP0A1DKRTAX\n",
            "\n",
            "06/15 05:45:10 [\u001b[1;32mNOTICE\u001b[0m] CUID#16 - Redirecting to https://cdn-lfs.huggingface.co/repos/a3/72/a37288fd25de45b6a8bbb79801907289f6c12bb870db68f75b0024193da1f047/ae277c7c5aef0d0fea9e9e6b13113dfef0078a36c78805bebe14d32e9ab887d1?response-content-disposition=attachment%3B+filename*%3DUTF-8%27%27pytorch_model-00005-of-00009.bin%3B+filename%3D%22pytorch_model-00005-of-00009.bin%22%3B&response-content-type=application%2Foctet-stream&Expires=1687067110&Policy=eyJTdGF0ZW1lbnQiOlt7IlJlc291cmNlIjoiaHR0cHM6Ly9jZG4tbGZzLmh1Z2dpbmdmYWNlLmNvL3JlcG9zL2EzLzcyL2EzNzI4OGZkMjVkZTQ1YjZhOGJiYjc5ODAxOTA3Mjg5ZjZjMTJiYjg3MGRiNjhmNzViMDAyNDE5M2RhMWYwNDcvYWUyNzdjN2M1YWVmMGQwZmVhOWU5ZTZiMTMxMTNkZmVmMDA3OGEzNmM3ODgwNWJlYmUxNGQzMmU5YWI4ODdkMT9yZXNwb25zZS1jb250ZW50LWRpc3Bvc2l0aW9uPSomcmVzcG9uc2UtY29udGVudC10eXBlPSoiLCJDb25kaXRpb24iOnsiRGF0ZUxlc3NUaGFuIjp7IkFXUzpFcG9jaFRpbWUiOjE2ODcwNjcxMTB9fX1dfQ__&Signature=leiZvnFN15EkIIc7oljMlyjQ%7Ec768VKzz-u6jgext82aQO0TucCFxIb5Bwn7T86ysTrnvHpyIBP6LaBg950BJZI9MihJZVuBPa9Z69Sk9yI089FS2vZrCjeXo9LBAbXrkzOfp45Ck3uu4ZRv9P6ABK0WYSdOcCFycXUzx9FzgU%7EvlTfX46iMpZUu8xN9lDYXZ6GqhDm-kgQUBNVE9StpVtPK2EbJjBZAtB36nVLmE3xIW2ejniKuCBzosGSHWFF9-ME7mzbENzdeIZ%7ERlzrxoSReqQ2LW8uVQA-a%7EFudFTV9T3IxEkG2RwhiEatVhIbJLZEShmc1Xybn-Y-p6mR4XQ__&Key-Pair-Id=KVTP0A1DKRTAX\n",
            "\n",
            "06/15 05:45:10 [\u001b[1;32mNOTICE\u001b[0m] CUID#12 - Redirecting to https://cdn-lfs.huggingface.co/repos/a3/72/a37288fd25de45b6a8bbb79801907289f6c12bb870db68f75b0024193da1f047/ae277c7c5aef0d0fea9e9e6b13113dfef0078a36c78805bebe14d32e9ab887d1?response-content-disposition=attachment%3B+filename*%3DUTF-8%27%27pytorch_model-00005-of-00009.bin%3B+filename%3D%22pytorch_model-00005-of-00009.bin%22%3B&response-content-type=application%2Foctet-stream&Expires=1687067110&Policy=eyJTdGF0ZW1lbnQiOlt7IlJlc291cmNlIjoiaHR0cHM6Ly9jZG4tbGZzLmh1Z2dpbmdmYWNlLmNvL3JlcG9zL2EzLzcyL2EzNzI4OGZkMjVkZTQ1YjZhOGJiYjc5ODAxOTA3Mjg5ZjZjMTJiYjg3MGRiNjhmNzViMDAyNDE5M2RhMWYwNDcvYWUyNzdjN2M1YWVmMGQwZmVhOWU5ZTZiMTMxMTNkZmVmMDA3OGEzNmM3ODgwNWJlYmUxNGQzMmU5YWI4ODdkMT9yZXNwb25zZS1jb250ZW50LWRpc3Bvc2l0aW9uPSomcmVzcG9uc2UtY29udGVudC10eXBlPSoiLCJDb25kaXRpb24iOnsiRGF0ZUxlc3NUaGFuIjp7IkFXUzpFcG9jaFRpbWUiOjE2ODcwNjcxMTB9fX1dfQ__&Signature=leiZvnFN15EkIIc7oljMlyjQ%7Ec768VKzz-u6jgext82aQO0TucCFxIb5Bwn7T86ysTrnvHpyIBP6LaBg950BJZI9MihJZVuBPa9Z69Sk9yI089FS2vZrCjeXo9LBAbXrkzOfp45Ck3uu4ZRv9P6ABK0WYSdOcCFycXUzx9FzgU%7EvlTfX46iMpZUu8xN9lDYXZ6GqhDm-kgQUBNVE9StpVtPK2EbJjBZAtB36nVLmE3xIW2ejniKuCBzosGSHWFF9-ME7mzbENzdeIZ%7ERlzrxoSReqQ2LW8uVQA-a%7EFudFTV9T3IxEkG2RwhiEatVhIbJLZEShmc1Xybn-Y-p6mR4XQ__&Key-Pair-Id=KVTP0A1DKRTAX\n",
            "\n",
            "06/15 05:45:10 [\u001b[1;32mNOTICE\u001b[0m] CUID#18 - Redirecting to https://cdn-lfs.huggingface.co/repos/a3/72/a37288fd25de45b6a8bbb79801907289f6c12bb870db68f75b0024193da1f047/ae277c7c5aef0d0fea9e9e6b13113dfef0078a36c78805bebe14d32e9ab887d1?response-content-disposition=attachment%3B+filename*%3DUTF-8%27%27pytorch_model-00005-of-00009.bin%3B+filename%3D%22pytorch_model-00005-of-00009.bin%22%3B&response-content-type=application%2Foctet-stream&Expires=1687067110&Policy=eyJTdGF0ZW1lbnQiOlt7IlJlc291cmNlIjoiaHR0cHM6Ly9jZG4tbGZzLmh1Z2dpbmdmYWNlLmNvL3JlcG9zL2EzLzcyL2EzNzI4OGZkMjVkZTQ1YjZhOGJiYjc5ODAxOTA3Mjg5ZjZjMTJiYjg3MGRiNjhmNzViMDAyNDE5M2RhMWYwNDcvYWUyNzdjN2M1YWVmMGQwZmVhOWU5ZTZiMTMxMTNkZmVmMDA3OGEzNmM3ODgwNWJlYmUxNGQzMmU5YWI4ODdkMT9yZXNwb25zZS1jb250ZW50LWRpc3Bvc2l0aW9uPSomcmVzcG9uc2UtY29udGVudC10eXBlPSoiLCJDb25kaXRpb24iOnsiRGF0ZUxlc3NUaGFuIjp7IkFXUzpFcG9jaFRpbWUiOjE2ODcwNjcxMTB9fX1dfQ__&Signature=leiZvnFN15EkIIc7oljMlyjQ%7Ec768VKzz-u6jgext82aQO0TucCFxIb5Bwn7T86ysTrnvHpyIBP6LaBg950BJZI9MihJZVuBPa9Z69Sk9yI089FS2vZrCjeXo9LBAbXrkzOfp45Ck3uu4ZRv9P6ABK0WYSdOcCFycXUzx9FzgU%7EvlTfX46iMpZUu8xN9lDYXZ6GqhDm-kgQUBNVE9StpVtPK2EbJjBZAtB36nVLmE3xIW2ejniKuCBzosGSHWFF9-ME7mzbENzdeIZ%7ERlzrxoSReqQ2LW8uVQA-a%7EFudFTV9T3IxEkG2RwhiEatVhIbJLZEShmc1Xybn-Y-p6mR4XQ__&Key-Pair-Id=KVTP0A1DKRTAX\n",
            "\n",
            "06/15 05:45:10 [\u001b[1;32mNOTICE\u001b[0m] CUID#20 - Redirecting to https://cdn-lfs.huggingface.co/repos/a3/72/a37288fd25de45b6a8bbb79801907289f6c12bb870db68f75b0024193da1f047/ae277c7c5aef0d0fea9e9e6b13113dfef0078a36c78805bebe14d32e9ab887d1?response-content-disposition=attachment%3B+filename*%3DUTF-8%27%27pytorch_model-00005-of-00009.bin%3B+filename%3D%22pytorch_model-00005-of-00009.bin%22%3B&response-content-type=application%2Foctet-stream&Expires=1687067110&Policy=eyJTdGF0ZW1lbnQiOlt7IlJlc291cmNlIjoiaHR0cHM6Ly9jZG4tbGZzLmh1Z2dpbmdmYWNlLmNvL3JlcG9zL2EzLzcyL2EzNzI4OGZkMjVkZTQ1YjZhOGJiYjc5ODAxOTA3Mjg5ZjZjMTJiYjg3MGRiNjhmNzViMDAyNDE5M2RhMWYwNDcvYWUyNzdjN2M1YWVmMGQwZmVhOWU5ZTZiMTMxMTNkZmVmMDA3OGEzNmM3ODgwNWJlYmUxNGQzMmU5YWI4ODdkMT9yZXNwb25zZS1jb250ZW50LWRpc3Bvc2l0aW9uPSomcmVzcG9uc2UtY29udGVudC10eXBlPSoiLCJDb25kaXRpb24iOnsiRGF0ZUxlc3NUaGFuIjp7IkFXUzpFcG9jaFRpbWUiOjE2ODcwNjcxMTB9fX1dfQ__&Signature=leiZvnFN15EkIIc7oljMlyjQ%7Ec768VKzz-u6jgext82aQO0TucCFxIb5Bwn7T86ysTrnvHpyIBP6LaBg950BJZI9MihJZVuBPa9Z69Sk9yI089FS2vZrCjeXo9LBAbXrkzOfp45Ck3uu4ZRv9P6ABK0WYSdOcCFycXUzx9FzgU%7EvlTfX46iMpZUu8xN9lDYXZ6GqhDm-kgQUBNVE9StpVtPK2EbJjBZAtB36nVLmE3xIW2ejniKuCBzosGSHWFF9-ME7mzbENzdeIZ%7ERlzrxoSReqQ2LW8uVQA-a%7EFudFTV9T3IxEkG2RwhiEatVhIbJLZEShmc1Xybn-Y-p6mR4XQ__&Key-Pair-Id=KVTP0A1DKRTAX\n",
            "\n",
            "06/15 05:45:10 [\u001b[1;32mNOTICE\u001b[0m] CUID#15 - Redirecting to https://cdn-lfs.huggingface.co/repos/a3/72/a37288fd25de45b6a8bbb79801907289f6c12bb870db68f75b0024193da1f047/ae277c7c5aef0d0fea9e9e6b13113dfef0078a36c78805bebe14d32e9ab887d1?response-content-disposition=attachment%3B+filename*%3DUTF-8%27%27pytorch_model-00005-of-00009.bin%3B+filename%3D%22pytorch_model-00005-of-00009.bin%22%3B&response-content-type=application%2Foctet-stream&Expires=1687067110&Policy=eyJTdGF0ZW1lbnQiOlt7IlJlc291cmNlIjoiaHR0cHM6Ly9jZG4tbGZzLmh1Z2dpbmdmYWNlLmNvL3JlcG9zL2EzLzcyL2EzNzI4OGZkMjVkZTQ1YjZhOGJiYjc5ODAxOTA3Mjg5ZjZjMTJiYjg3MGRiNjhmNzViMDAyNDE5M2RhMWYwNDcvYWUyNzdjN2M1YWVmMGQwZmVhOWU5ZTZiMTMxMTNkZmVmMDA3OGEzNmM3ODgwNWJlYmUxNGQzMmU5YWI4ODdkMT9yZXNwb25zZS1jb250ZW50LWRpc3Bvc2l0aW9uPSomcmVzcG9uc2UtY29udGVudC10eXBlPSoiLCJDb25kaXRpb24iOnsiRGF0ZUxlc3NUaGFuIjp7IkFXUzpFcG9jaFRpbWUiOjE2ODcwNjcxMTB9fX1dfQ__&Signature=leiZvnFN15EkIIc7oljMlyjQ%7Ec768VKzz-u6jgext82aQO0TucCFxIb5Bwn7T86ysTrnvHpyIBP6LaBg950BJZI9MihJZVuBPa9Z69Sk9yI089FS2vZrCjeXo9LBAbXrkzOfp45Ck3uu4ZRv9P6ABK0WYSdOcCFycXUzx9FzgU%7EvlTfX46iMpZUu8xN9lDYXZ6GqhDm-kgQUBNVE9StpVtPK2EbJjBZAtB36nVLmE3xIW2ejniKuCBzosGSHWFF9-ME7mzbENzdeIZ%7ERlzrxoSReqQ2LW8uVQA-a%7EFudFTV9T3IxEkG2RwhiEatVhIbJLZEShmc1Xybn-Y-p6mR4XQ__&Key-Pair-Id=KVTP0A1DKRTAX\n",
            "\n",
            "06/15 05:45:10 [\u001b[1;32mNOTICE\u001b[0m] CUID#19 - Redirecting to https://cdn-lfs.huggingface.co/repos/a3/72/a37288fd25de45b6a8bbb79801907289f6c12bb870db68f75b0024193da1f047/ae277c7c5aef0d0fea9e9e6b13113dfef0078a36c78805bebe14d32e9ab887d1?response-content-disposition=attachment%3B+filename*%3DUTF-8%27%27pytorch_model-00005-of-00009.bin%3B+filename%3D%22pytorch_model-00005-of-00009.bin%22%3B&response-content-type=application%2Foctet-stream&Expires=1687067110&Policy=eyJTdGF0ZW1lbnQiOlt7IlJlc291cmNlIjoiaHR0cHM6Ly9jZG4tbGZzLmh1Z2dpbmdmYWNlLmNvL3JlcG9zL2EzLzcyL2EzNzI4OGZkMjVkZTQ1YjZhOGJiYjc5ODAxOTA3Mjg5ZjZjMTJiYjg3MGRiNjhmNzViMDAyNDE5M2RhMWYwNDcvYWUyNzdjN2M1YWVmMGQwZmVhOWU5ZTZiMTMxMTNkZmVmMDA3OGEzNmM3ODgwNWJlYmUxNGQzMmU5YWI4ODdkMT9yZXNwb25zZS1jb250ZW50LWRpc3Bvc2l0aW9uPSomcmVzcG9uc2UtY29udGVudC10eXBlPSoiLCJDb25kaXRpb24iOnsiRGF0ZUxlc3NUaGFuIjp7IkFXUzpFcG9jaFRpbWUiOjE2ODcwNjcxMTB9fX1dfQ__&Signature=leiZvnFN15EkIIc7oljMlyjQ%7Ec768VKzz-u6jgext82aQO0TucCFxIb5Bwn7T86ysTrnvHpyIBP6LaBg950BJZI9MihJZVuBPa9Z69Sk9yI089FS2vZrCjeXo9LBAbXrkzOfp45Ck3uu4ZRv9P6ABK0WYSdOcCFycXUzx9FzgU%7EvlTfX46iMpZUu8xN9lDYXZ6GqhDm-kgQUBNVE9StpVtPK2EbJjBZAtB36nVLmE3xIW2ejniKuCBzosGSHWFF9-ME7mzbENzdeIZ%7ERlzrxoSReqQ2LW8uVQA-a%7EFudFTV9T3IxEkG2RwhiEatVhIbJLZEShmc1Xybn-Y-p6mR4XQ__&Key-Pair-Id=KVTP0A1DKRTAX\n",
            "\n",
            "06/15 05:45:10 [\u001b[1;32mNOTICE\u001b[0m] CUID#17 - Redirecting to https://cdn-lfs.huggingface.co/repos/a3/72/a37288fd25de45b6a8bbb79801907289f6c12bb870db68f75b0024193da1f047/b2125ceee3992a093f9808efc9a720643a44e59b17baa77eddb0fbec6965ce5a?response-content-disposition=attachment%3B+filename*%3DUTF-8%27%27pytorch_model-00003-of-00009.bin%3B+filename%3D%22pytorch_model-00003-of-00009.bin%22%3B&response-content-type=application%2Foctet-stream&Expires=1687067110&Policy=eyJTdGF0ZW1lbnQiOlt7IlJlc291cmNlIjoiaHR0cHM6Ly9jZG4tbGZzLmh1Z2dpbmdmYWNlLmNvL3JlcG9zL2EzLzcyL2EzNzI4OGZkMjVkZTQ1YjZhOGJiYjc5ODAxOTA3Mjg5ZjZjMTJiYjg3MGRiNjhmNzViMDAyNDE5M2RhMWYwNDcvYjIxMjVjZWVlMzk5MmEwOTNmOTgwOGVmYzlhNzIwNjQzYTQ0ZTU5YjE3YmFhNzdlZGRiMGZiZWM2OTY1Y2U1YT9yZXNwb25zZS1jb250ZW50LWRpc3Bvc2l0aW9uPSomcmVzcG9uc2UtY29udGVudC10eXBlPSoiLCJDb25kaXRpb24iOnsiRGF0ZUxlc3NUaGFuIjp7IkFXUzpFcG9jaFRpbWUiOjE2ODcwNjcxMTB9fX1dfQ__&Signature=CA2n99FZwEqOfJqOVwtexLcmd76jDQAVBL-htCrl5Q3GBk3dSV%7EbnvAAmbdxMLnZLQfMyPi1iuNl5zd3gRQpGRBaIuhuFJdwLSq%7Ej%7ENBRZ96fPLyMOIaQvNLuAS6jOJ8ObjalgWRf%7EsSw1aSOTlBytl768vG%7EgLn-dNfjwJ9nOLHFpQ17sXSd-vOlhTICM85Uufj3cSg6YyJos1W7fBEk4pAqglQ7mio%7EmqmJ1oucYxqMuY9HfdYnRqwyjy0pS-z4WTNG-HOrjO-4ihC49bZvTpouwXu53gnspV9-nUL9ruAszS-FOvZ7HIkc-F4vXPkw8ZO-AtE3Kob4AJbHRMtHg__&Key-Pair-Id=KVTP0A1DKRTAX\n",
            "\n",
            "06/15 05:45:10 [\u001b[1;32mNOTICE\u001b[0m] CUID#21 - Redirecting to https://cdn-lfs.huggingface.co/repos/a3/72/a37288fd25de45b6a8bbb79801907289f6c12bb870db68f75b0024193da1f047/ae277c7c5aef0d0fea9e9e6b13113dfef0078a36c78805bebe14d32e9ab887d1?response-content-disposition=attachment%3B+filename*%3DUTF-8%27%27pytorch_model-00005-of-00009.bin%3B+filename%3D%22pytorch_model-00005-of-00009.bin%22%3B&response-content-type=application%2Foctet-stream&Expires=1687067110&Policy=eyJTdGF0ZW1lbnQiOlt7IlJlc291cmNlIjoiaHR0cHM6Ly9jZG4tbGZzLmh1Z2dpbmdmYWNlLmNvL3JlcG9zL2EzLzcyL2EzNzI4OGZkMjVkZTQ1YjZhOGJiYjc5ODAxOTA3Mjg5ZjZjMTJiYjg3MGRiNjhmNzViMDAyNDE5M2RhMWYwNDcvYWUyNzdjN2M1YWVmMGQwZmVhOWU5ZTZiMTMxMTNkZmVmMDA3OGEzNmM3ODgwNWJlYmUxNGQzMmU5YWI4ODdkMT9yZXNwb25zZS1jb250ZW50LWRpc3Bvc2l0aW9uPSomcmVzcG9uc2UtY29udGVudC10eXBlPSoiLCJDb25kaXRpb24iOnsiRGF0ZUxlc3NUaGFuIjp7IkFXUzpFcG9jaFRpbWUiOjE2ODcwNjcxMTB9fX1dfQ__&Signature=leiZvnFN15EkIIc7oljMlyjQ%7Ec768VKzz-u6jgext82aQO0TucCFxIb5Bwn7T86ysTrnvHpyIBP6LaBg950BJZI9MihJZVuBPa9Z69Sk9yI089FS2vZrCjeXo9LBAbXrkzOfp45Ck3uu4ZRv9P6ABK0WYSdOcCFycXUzx9FzgU%7EvlTfX46iMpZUu8xN9lDYXZ6GqhDm-kgQUBNVE9StpVtPK2EbJjBZAtB36nVLmE3xIW2ejniKuCBzosGSHWFF9-ME7mzbENzdeIZ%7ERlzrxoSReqQ2LW8uVQA-a%7EFudFTV9T3IxEkG2RwhiEatVhIbJLZEShmc1Xybn-Y-p6mR4XQ__&Key-Pair-Id=KVTP0A1DKRTAX\n",
            "\n",
            "06/15 05:45:10 [\u001b[1;32mNOTICE\u001b[0m] CUID#13 - Redirecting to https://cdn-lfs.huggingface.co/repos/a3/72/a37288fd25de45b6a8bbb79801907289f6c12bb870db68f75b0024193da1f047/ae277c7c5aef0d0fea9e9e6b13113dfef0078a36c78805bebe14d32e9ab887d1?response-content-disposition=attachment%3B+filename*%3DUTF-8%27%27pytorch_model-00005-of-00009.bin%3B+filename%3D%22pytorch_model-00005-of-00009.bin%22%3B&response-content-type=application%2Foctet-stream&Expires=1687067110&Policy=eyJTdGF0ZW1lbnQiOlt7IlJlc291cmNlIjoiaHR0cHM6Ly9jZG4tbGZzLmh1Z2dpbmdmYWNlLmNvL3JlcG9zL2EzLzcyL2EzNzI4OGZkMjVkZTQ1YjZhOGJiYjc5ODAxOTA3Mjg5ZjZjMTJiYjg3MGRiNjhmNzViMDAyNDE5M2RhMWYwNDcvYWUyNzdjN2M1YWVmMGQwZmVhOWU5ZTZiMTMxMTNkZmVmMDA3OGEzNmM3ODgwNWJlYmUxNGQzMmU5YWI4ODdkMT9yZXNwb25zZS1jb250ZW50LWRpc3Bvc2l0aW9uPSomcmVzcG9uc2UtY29udGVudC10eXBlPSoiLCJDb25kaXRpb24iOnsiRGF0ZUxlc3NUaGFuIjp7IkFXUzpFcG9jaFRpbWUiOjE2ODcwNjcxMTB9fX1dfQ__&Signature=leiZvnFN15EkIIc7oljMlyjQ%7Ec768VKzz-u6jgext82aQO0TucCFxIb5Bwn7T86ysTrnvHpyIBP6LaBg950BJZI9MihJZVuBPa9Z69Sk9yI089FS2vZrCjeXo9LBAbXrkzOfp45Ck3uu4ZRv9P6ABK0WYSdOcCFycXUzx9FzgU%7EvlTfX46iMpZUu8xN9lDYXZ6GqhDm-kgQUBNVE9StpVtPK2EbJjBZAtB36nVLmE3xIW2ejniKuCBzosGSHWFF9-ME7mzbENzdeIZ%7ERlzrxoSReqQ2LW8uVQA-a%7EFudFTV9T3IxEkG2RwhiEatVhIbJLZEShmc1Xybn-Y-p6mR4XQ__&Key-Pair-Id=KVTP0A1DKRTAX\n",
            "\n",
            "06/15 05:45:10 [\u001b[1;32mNOTICE\u001b[0m] CUID#23 - Redirecting to https://cdn-lfs.huggingface.co/repos/a3/72/a37288fd25de45b6a8bbb79801907289f6c12bb870db68f75b0024193da1f047/ae277c7c5aef0d0fea9e9e6b13113dfef0078a36c78805bebe14d32e9ab887d1?response-content-disposition=attachment%3B+filename*%3DUTF-8%27%27pytorch_model-00005-of-00009.bin%3B+filename%3D%22pytorch_model-00005-of-00009.bin%22%3B&response-content-type=application%2Foctet-stream&Expires=1687067110&Policy=eyJTdGF0ZW1lbnQiOlt7IlJlc291cmNlIjoiaHR0cHM6Ly9jZG4tbGZzLmh1Z2dpbmdmYWNlLmNvL3JlcG9zL2EzLzcyL2EzNzI4OGZkMjVkZTQ1YjZhOGJiYjc5ODAxOTA3Mjg5ZjZjMTJiYjg3MGRiNjhmNzViMDAyNDE5M2RhMWYwNDcvYWUyNzdjN2M1YWVmMGQwZmVhOWU5ZTZiMTMxMTNkZmVmMDA3OGEzNmM3ODgwNWJlYmUxNGQzMmU5YWI4ODdkMT9yZXNwb25zZS1jb250ZW50LWRpc3Bvc2l0aW9uPSomcmVzcG9uc2UtY29udGVudC10eXBlPSoiLCJDb25kaXRpb24iOnsiRGF0ZUxlc3NUaGFuIjp7IkFXUzpFcG9jaFRpbWUiOjE2ODcwNjcxMTB9fX1dfQ__&Signature=leiZvnFN15EkIIc7oljMlyjQ%7Ec768VKzz-u6jgext82aQO0TucCFxIb5Bwn7T86ysTrnvHpyIBP6LaBg950BJZI9MihJZVuBPa9Z69Sk9yI089FS2vZrCjeXo9LBAbXrkzOfp45Ck3uu4ZRv9P6ABK0WYSdOcCFycXUzx9FzgU%7EvlTfX46iMpZUu8xN9lDYXZ6GqhDm-kgQUBNVE9StpVtPK2EbJjBZAtB36nVLmE3xIW2ejniKuCBzosGSHWFF9-ME7mzbENzdeIZ%7ERlzrxoSReqQ2LW8uVQA-a%7EFudFTV9T3IxEkG2RwhiEatVhIbJLZEShmc1Xybn-Y-p6mR4XQ__&Key-Pair-Id=KVTP0A1DKRTAX\n",
            "\n",
            "06/15 05:45:10 [\u001b[1;32mNOTICE\u001b[0m] CUID#17 - Redirecting to https://cdn-lfs.huggingface.co/repos/a3/72/a37288fd25de45b6a8bbb79801907289f6c12bb870db68f75b0024193da1f047/ae277c7c5aef0d0fea9e9e6b13113dfef0078a36c78805bebe14d32e9ab887d1?response-content-disposition=attachment%3B+filename*%3DUTF-8%27%27pytorch_model-00005-of-00009.bin%3B+filename%3D%22pytorch_model-00005-of-00009.bin%22%3B&response-content-type=application%2Foctet-stream&Expires=1687067110&Policy=eyJTdGF0ZW1lbnQiOlt7IlJlc291cmNlIjoiaHR0cHM6Ly9jZG4tbGZzLmh1Z2dpbmdmYWNlLmNvL3JlcG9zL2EzLzcyL2EzNzI4OGZkMjVkZTQ1YjZhOGJiYjc5ODAxOTA3Mjg5ZjZjMTJiYjg3MGRiNjhmNzViMDAyNDE5M2RhMWYwNDcvYWUyNzdjN2M1YWVmMGQwZmVhOWU5ZTZiMTMxMTNkZmVmMDA3OGEzNmM3ODgwNWJlYmUxNGQzMmU5YWI4ODdkMT9yZXNwb25zZS1jb250ZW50LWRpc3Bvc2l0aW9uPSomcmVzcG9uc2UtY29udGVudC10eXBlPSoiLCJDb25kaXRpb24iOnsiRGF0ZUxlc3NUaGFuIjp7IkFXUzpFcG9jaFRpbWUiOjE2ODcwNjcxMTB9fX1dfQ__&Signature=leiZvnFN15EkIIc7oljMlyjQ%7Ec768VKzz-u6jgext82aQO0TucCFxIb5Bwn7T86ysTrnvHpyIBP6LaBg950BJZI9MihJZVuBPa9Z69Sk9yI089FS2vZrCjeXo9LBAbXrkzOfp45Ck3uu4ZRv9P6ABK0WYSdOcCFycXUzx9FzgU%7EvlTfX46iMpZUu8xN9lDYXZ6GqhDm-kgQUBNVE9StpVtPK2EbJjBZAtB36nVLmE3xIW2ejniKuCBzosGSHWFF9-ME7mzbENzdeIZ%7ERlzrxoSReqQ2LW8uVQA-a%7EFudFTV9T3IxEkG2RwhiEatVhIbJLZEShmc1Xybn-Y-p6mR4XQ__&Key-Pair-Id=KVTP0A1DKRTAX\n",
            "\u001b[35m[\u001b[0m#6c82e1 0B/0B CN:1 DL:\u001b[32m0B\u001b[0m\u001b[35m]\u001b[0m\u001b[0m                      \n",
            "06/15 05:45:10 [\u001b[1;32mNOTICE\u001b[0m] CUID#15 - Redirecting to https://cdn-lfs.huggingface.co/repos/a3/72/a37288fd25de45b6a8bbb79801907289f6c12bb870db68f75b0024193da1f047/b2125ceee3992a093f9808efc9a720643a44e59b17baa77eddb0fbec6965ce5a?response-content-disposition=attachment%3B+filename*%3DUTF-8%27%27pytorch_model-00003-of-00009.bin%3B+filename%3D%22pytorch_model-00003-of-00009.bin%22%3B&response-content-type=application%2Foctet-stream&Expires=1687065995&Policy=eyJTdGF0ZW1lbnQiOlt7IlJlc291cmNlIjoiaHR0cHM6Ly9jZG4tbGZzLmh1Z2dpbmdmYWNlLmNvL3JlcG9zL2EzLzcyL2EzNzI4OGZkMjVkZTQ1YjZhOGJiYjc5ODAxOTA3Mjg5ZjZjMTJiYjg3MGRiNjhmNzViMDAyNDE5M2RhMWYwNDcvYjIxMjVjZWVlMzk5MmEwOTNmOTgwOGVmYzlhNzIwNjQzYTQ0ZTU5YjE3YmFhNzdlZGRiMGZiZWM2OTY1Y2U1YT9yZXNwb25zZS1jb250ZW50LWRpc3Bvc2l0aW9uPSomcmVzcG9uc2UtY29udGVudC10eXBlPSoiLCJDb25kaXRpb24iOnsiRGF0ZUxlc3NUaGFuIjp7IkFXUzpFcG9jaFRpbWUiOjE2ODcwNjU5OTV9fX1dfQ__&Signature=DFIGZpxPnwwVkIZaWs93Q%7EkBgVwoWPlzPKtL%7EkOVS7vohAnc-ueKEkXbJO3mA0YeLsdvFdjuIifARZiF5JBdNCCxrtZbdwbs9cNVET0e5Y0wlpMAGGEjYSdc8Wvnq%7EFobEsvbRlwUHimOHo-bJVRIlZDibxLqXkbSPmMaIr8yj2XK9QqWXan0gUYTVvqS2wlbkKNA42k22qugisQ9dG71ZLzH3TYv82cK9f0m6JNGto2ntQpP19vNVQUYS0pHANVOdo-6yWK%7EZ3JRY8agfdlrCscGZJur1OqfxQAlYDEkJ471k0TUOPBRVAyJRxrA62z%7EeuUPDjs7JOf5MCmraARmg__&Key-Pair-Id=KVTP0A1DKRTAX\n",
            "\n",
            "06/15 05:45:10 [\u001b[1;32mNOTICE\u001b[0m] CUID#10 - Redirecting to https://cdn-lfs.huggingface.co/repos/a3/72/a37288fd25de45b6a8bbb79801907289f6c12bb870db68f75b0024193da1f047/b2125ceee3992a093f9808efc9a720643a44e59b17baa77eddb0fbec6965ce5a?response-content-disposition=attachment%3B+filename*%3DUTF-8%27%27pytorch_model-00003-of-00009.bin%3B+filename%3D%22pytorch_model-00003-of-00009.bin%22%3B&response-content-type=application%2Foctet-stream&Expires=1687067110&Policy=eyJTdGF0ZW1lbnQiOlt7IlJlc291cmNlIjoiaHR0cHM6Ly9jZG4tbGZzLmh1Z2dpbmdmYWNlLmNvL3JlcG9zL2EzLzcyL2EzNzI4OGZkMjVkZTQ1YjZhOGJiYjc5ODAxOTA3Mjg5ZjZjMTJiYjg3MGRiNjhmNzViMDAyNDE5M2RhMWYwNDcvYjIxMjVjZWVlMzk5MmEwOTNmOTgwOGVmYzlhNzIwNjQzYTQ0ZTU5YjE3YmFhNzdlZGRiMGZiZWM2OTY1Y2U1YT9yZXNwb25zZS1jb250ZW50LWRpc3Bvc2l0aW9uPSomcmVzcG9uc2UtY29udGVudC10eXBlPSoiLCJDb25kaXRpb24iOnsiRGF0ZUxlc3NUaGFuIjp7IkFXUzpFcG9jaFRpbWUiOjE2ODcwNjcxMTB9fX1dfQ__&Signature=CA2n99FZwEqOfJqOVwtexLcmd76jDQAVBL-htCrl5Q3GBk3dSV%7EbnvAAmbdxMLnZLQfMyPi1iuNl5zd3gRQpGRBaIuhuFJdwLSq%7Ej%7ENBRZ96fPLyMOIaQvNLuAS6jOJ8ObjalgWRf%7EsSw1aSOTlBytl768vG%7EgLn-dNfjwJ9nOLHFpQ17sXSd-vOlhTICM85Uufj3cSg6YyJos1W7fBEk4pAqglQ7mio%7EmqmJ1oucYxqMuY9HfdYnRqwyjy0pS-z4WTNG-HOrjO-4ihC49bZvTpouwXu53gnspV9-nUL9ruAszS-FOvZ7HIkc-F4vXPkw8ZO-AtE3Kob4AJbHRMtHg__&Key-Pair-Id=KVTP0A1DKRTAX\n",
            "\n",
            "06/15 05:45:10 [\u001b[1;32mNOTICE\u001b[0m] CUID#20 - Redirecting to https://cdn-lfs.huggingface.co/repos/a3/72/a37288fd25de45b6a8bbb79801907289f6c12bb870db68f75b0024193da1f047/ae277c7c5aef0d0fea9e9e6b13113dfef0078a36c78805bebe14d32e9ab887d1?response-content-disposition=attachment%3B+filename*%3DUTF-8%27%27pytorch_model-00005-of-00009.bin%3B+filename%3D%22pytorch_model-00005-of-00009.bin%22%3B&response-content-type=application%2Foctet-stream&Expires=1687067110&Policy=eyJTdGF0ZW1lbnQiOlt7IlJlc291cmNlIjoiaHR0cHM6Ly9jZG4tbGZzLmh1Z2dpbmdmYWNlLmNvL3JlcG9zL2EzLzcyL2EzNzI4OGZkMjVkZTQ1YjZhOGJiYjc5ODAxOTA3Mjg5ZjZjMTJiYjg3MGRiNjhmNzViMDAyNDE5M2RhMWYwNDcvYWUyNzdjN2M1YWVmMGQwZmVhOWU5ZTZiMTMxMTNkZmVmMDA3OGEzNmM3ODgwNWJlYmUxNGQzMmU5YWI4ODdkMT9yZXNwb25zZS1jb250ZW50LWRpc3Bvc2l0aW9uPSomcmVzcG9uc2UtY29udGVudC10eXBlPSoiLCJDb25kaXRpb24iOnsiRGF0ZUxlc3NUaGFuIjp7IkFXUzpFcG9jaFRpbWUiOjE2ODcwNjcxMTB9fX1dfQ__&Signature=leiZvnFN15EkIIc7oljMlyjQ%7Ec768VKzz-u6jgext82aQO0TucCFxIb5Bwn7T86ysTrnvHpyIBP6LaBg950BJZI9MihJZVuBPa9Z69Sk9yI089FS2vZrCjeXo9LBAbXrkzOfp45Ck3uu4ZRv9P6ABK0WYSdOcCFycXUzx9FzgU%7EvlTfX46iMpZUu8xN9lDYXZ6GqhDm-kgQUBNVE9StpVtPK2EbJjBZAtB36nVLmE3xIW2ejniKuCBzosGSHWFF9-ME7mzbENzdeIZ%7ERlzrxoSReqQ2LW8uVQA-a%7EFudFTV9T3IxEkG2RwhiEatVhIbJLZEShmc1Xybn-Y-p6mR4XQ__&Key-Pair-Id=KVTP0A1DKRTAX\n",
            "\n",
            "06/15 05:45:10 [\u001b[1;32mNOTICE\u001b[0m] CUID#9 - Redirecting to https://cdn-lfs.huggingface.co/repos/a3/72/a37288fd25de45b6a8bbb79801907289f6c12bb870db68f75b0024193da1f047/ae277c7c5aef0d0fea9e9e6b13113dfef0078a36c78805bebe14d32e9ab887d1?response-content-disposition=attachment%3B+filename*%3DUTF-8%27%27pytorch_model-00005-of-00009.bin%3B+filename%3D%22pytorch_model-00005-of-00009.bin%22%3B&response-content-type=application%2Foctet-stream&Expires=1687067110&Policy=eyJTdGF0ZW1lbnQiOlt7IlJlc291cmNlIjoiaHR0cHM6Ly9jZG4tbGZzLmh1Z2dpbmdmYWNlLmNvL3JlcG9zL2EzLzcyL2EzNzI4OGZkMjVkZTQ1YjZhOGJiYjc5ODAxOTA3Mjg5ZjZjMTJiYjg3MGRiNjhmNzViMDAyNDE5M2RhMWYwNDcvYWUyNzdjN2M1YWVmMGQwZmVhOWU5ZTZiMTMxMTNkZmVmMDA3OGEzNmM3ODgwNWJlYmUxNGQzMmU5YWI4ODdkMT9yZXNwb25zZS1jb250ZW50LWRpc3Bvc2l0aW9uPSomcmVzcG9uc2UtY29udGVudC10eXBlPSoiLCJDb25kaXRpb24iOnsiRGF0ZUxlc3NUaGFuIjp7IkFXUzpFcG9jaFRpbWUiOjE2ODcwNjcxMTB9fX1dfQ__&Signature=leiZvnFN15EkIIc7oljMlyjQ%7Ec768VKzz-u6jgext82aQO0TucCFxIb5Bwn7T86ysTrnvHpyIBP6LaBg950BJZI9MihJZVuBPa9Z69Sk9yI089FS2vZrCjeXo9LBAbXrkzOfp45Ck3uu4ZRv9P6ABK0WYSdOcCFycXUzx9FzgU%7EvlTfX46iMpZUu8xN9lDYXZ6GqhDm-kgQUBNVE9StpVtPK2EbJjBZAtB36nVLmE3xIW2ejniKuCBzosGSHWFF9-ME7mzbENzdeIZ%7ERlzrxoSReqQ2LW8uVQA-a%7EFudFTV9T3IxEkG2RwhiEatVhIbJLZEShmc1Xybn-Y-p6mR4XQ__&Key-Pair-Id=KVTP0A1DKRTAX\n",
            "\n",
            "06/15 05:45:10 [\u001b[1;32mNOTICE\u001b[0m] CUID#11 - Redirecting to https://cdn-lfs.huggingface.co/repos/a3/72/a37288fd25de45b6a8bbb79801907289f6c12bb870db68f75b0024193da1f047/ae277c7c5aef0d0fea9e9e6b13113dfef0078a36c78805bebe14d32e9ab887d1?response-content-disposition=attachment%3B+filename*%3DUTF-8%27%27pytorch_model-00005-of-00009.bin%3B+filename%3D%22pytorch_model-00005-of-00009.bin%22%3B&response-content-type=application%2Foctet-stream&Expires=1687067110&Policy=eyJTdGF0ZW1lbnQiOlt7IlJlc291cmNlIjoiaHR0cHM6Ly9jZG4tbGZzLmh1Z2dpbmdmYWNlLmNvL3JlcG9zL2EzLzcyL2EzNzI4OGZkMjVkZTQ1YjZhOGJiYjc5ODAxOTA3Mjg5ZjZjMTJiYjg3MGRiNjhmNzViMDAyNDE5M2RhMWYwNDcvYWUyNzdjN2M1YWVmMGQwZmVhOWU5ZTZiMTMxMTNkZmVmMDA3OGEzNmM3ODgwNWJlYmUxNGQzMmU5YWI4ODdkMT9yZXNwb25zZS1jb250ZW50LWRpc3Bvc2l0aW9uPSomcmVzcG9uc2UtY29udGVudC10eXBlPSoiLCJDb25kaXRpb24iOnsiRGF0ZUxlc3NUaGFuIjp7IkFXUzpFcG9jaFRpbWUiOjE2ODcwNjcxMTB9fX1dfQ__&Signature=leiZvnFN15EkIIc7oljMlyjQ%7Ec768VKzz-u6jgext82aQO0TucCFxIb5Bwn7T86ysTrnvHpyIBP6LaBg950BJZI9MihJZVuBPa9Z69Sk9yI089FS2vZrCjeXo9LBAbXrkzOfp45Ck3uu4ZRv9P6ABK0WYSdOcCFycXUzx9FzgU%7EvlTfX46iMpZUu8xN9lDYXZ6GqhDm-kgQUBNVE9StpVtPK2EbJjBZAtB36nVLmE3xIW2ejniKuCBzosGSHWFF9-ME7mzbENzdeIZ%7ERlzrxoSReqQ2LW8uVQA-a%7EFudFTV9T3IxEkG2RwhiEatVhIbJLZEShmc1Xybn-Y-p6mR4XQ__&Key-Pair-Id=KVTP0A1DKRTAX\n",
            "\n",
            "06/15 05:45:10 [\u001b[1;32mNOTICE\u001b[0m] CUID#11 - Redirecting to https://cdn-lfs.huggingface.co/repos/a3/72/a37288fd25de45b6a8bbb79801907289f6c12bb870db68f75b0024193da1f047/b2125ceee3992a093f9808efc9a720643a44e59b17baa77eddb0fbec6965ce5a?response-content-disposition=attachment%3B+filename*%3DUTF-8%27%27pytorch_model-00003-of-00009.bin%3B+filename%3D%22pytorch_model-00003-of-00009.bin%22%3B&response-content-type=application%2Foctet-stream&Expires=1687066133&Policy=eyJTdGF0ZW1lbnQiOlt7IlJlc291cmNlIjoiaHR0cHM6Ly9jZG4tbGZzLmh1Z2dpbmdmYWNlLmNvL3JlcG9zL2EzLzcyL2EzNzI4OGZkMjVkZTQ1YjZhOGJiYjc5ODAxOTA3Mjg5ZjZjMTJiYjg3MGRiNjhmNzViMDAyNDE5M2RhMWYwNDcvYjIxMjVjZWVlMzk5MmEwOTNmOTgwOGVmYzlhNzIwNjQzYTQ0ZTU5YjE3YmFhNzdlZGRiMGZiZWM2OTY1Y2U1YT9yZXNwb25zZS1jb250ZW50LWRpc3Bvc2l0aW9uPSomcmVzcG9uc2UtY29udGVudC10eXBlPSoiLCJDb25kaXRpb24iOnsiRGF0ZUxlc3NUaGFuIjp7IkFXUzpFcG9jaFRpbWUiOjE2ODcwNjYxMzN9fX1dfQ__&Signature=cM5ZY1tGizGOPCekqbqXNG5R9hOG9fEGSIiHddzvlbEuUpPCpGYQXHJbnFEp3%7EhV2o7643PCiw6hhwLdqyXuyi7D9z7qdV3oPuWxRHkQWWytXHpsMn7USxjDTon%7ETSmhNAHN8YNjgAFQFLS-uvqerOJFEwcV5jkA7wbHEEjj%7Ed4I0RgIsK4TvlxAqrQUPEH9JMi%7EQ8e552WFjDZRwCCAdLHGG0qOuTlRjFq2XjcrFbXeN4eSh9BlovygdBsfz1osYQPd3w0entqVpXyE3r89krBZiP%7EH5fEni2KMF0WL-dmK0S6yybW3VSgXCp5raB48WHaqju7WzP%7EK6aSb6A6JoA__&Key-Pair-Id=KVTP0A1DKRTAX\n",
            "\n",
            "06/15 05:45:10 [\u001b[1;32mNOTICE\u001b[0m] CUID#18 - Redirecting to https://cdn-lfs.huggingface.co/repos/a3/72/a37288fd25de45b6a8bbb79801907289f6c12bb870db68f75b0024193da1f047/c3f07c8ec31edebe5ff80ed32d175475a044a0517d84c5eff6f6247ad0a4432d?response-content-disposition=attachment%3B+filename*%3DUTF-8%27%27pytorch_model-00007-of-00009.bin%3B+filename%3D%22pytorch_model-00007-of-00009.bin%22%3B&response-content-type=application%2Foctet-stream&Expires=1687067111&Policy=eyJTdGF0ZW1lbnQiOlt7IlJlc291cmNlIjoiaHR0cHM6Ly9jZG4tbGZzLmh1Z2dpbmdmYWNlLmNvL3JlcG9zL2EzLzcyL2EzNzI4OGZkMjVkZTQ1YjZhOGJiYjc5ODAxOTA3Mjg5ZjZjMTJiYjg3MGRiNjhmNzViMDAyNDE5M2RhMWYwNDcvYzNmMDdjOGVjMzFlZGViZTVmZjgwZWQzMmQxNzU0NzVhMDQ0YTA1MTdkODRjNWVmZjZmNjI0N2FkMGE0NDMyZD9yZXNwb25zZS1jb250ZW50LWRpc3Bvc2l0aW9uPSomcmVzcG9uc2UtY29udGVudC10eXBlPSoiLCJDb25kaXRpb24iOnsiRGF0ZUxlc3NUaGFuIjp7IkFXUzpFcG9jaFRpbWUiOjE2ODcwNjcxMTF9fX1dfQ__&Signature=vf9Z1gloODcnaEhN5wUvbxpwERWNSN9azW24uqPnhHfBVDdo%7EdEyonlqujXFqD26nKndivmnxP9Y%7E-jGE-UDc9K5PD5vss1-m3lPfSUJ5IEeKlO636abNS2HgYWiA73KiDgHVomsdAgURCh5dZ4rYTBYsJ6JlO2WoNCIsGyRNX67ooUYjSF-L86In9HGbFXB6ectSMX5EqdeYPE8mljS9iJEootjZotR6ipqDdi%7EJA26B7GNhWQOjSAfRrtnqT9t8quW46TxSG0e2ITxtt77P4Izn4XN4YU0-wE69dXuj3xjMF1R5p3vyCdBCn8qRpM61QYMPA15M6O%7E0ARNGaMpKw__&Key-Pair-Id=KVTP0A1DKRTAX\n",
            "\n",
            "06/15 05:45:10 [\u001b[1;32mNOTICE\u001b[0m] CUID#11 - Redirecting to https://cdn-lfs.huggingface.co/repos/a3/72/a37288fd25de45b6a8bbb79801907289f6c12bb870db68f75b0024193da1f047/c3f07c8ec31edebe5ff80ed32d175475a044a0517d84c5eff6f6247ad0a4432d?response-content-disposition=attachment%3B+filename*%3DUTF-8%27%27pytorch_model-00007-of-00009.bin%3B+filename%3D%22pytorch_model-00007-of-00009.bin%22%3B&response-content-type=application%2Foctet-stream&Expires=1687067111&Policy=eyJTdGF0ZW1lbnQiOlt7IlJlc291cmNlIjoiaHR0cHM6Ly9jZG4tbGZzLmh1Z2dpbmdmYWNlLmNvL3JlcG9zL2EzLzcyL2EzNzI4OGZkMjVkZTQ1YjZhOGJiYjc5ODAxOTA3Mjg5ZjZjMTJiYjg3MGRiNjhmNzViMDAyNDE5M2RhMWYwNDcvYzNmMDdjOGVjMzFlZGViZTVmZjgwZWQzMmQxNzU0NzVhMDQ0YTA1MTdkODRjNWVmZjZmNjI0N2FkMGE0NDMyZD9yZXNwb25zZS1jb250ZW50LWRpc3Bvc2l0aW9uPSomcmVzcG9uc2UtY29udGVudC10eXBlPSoiLCJDb25kaXRpb24iOnsiRGF0ZUxlc3NUaGFuIjp7IkFXUzpFcG9jaFRpbWUiOjE2ODcwNjcxMTF9fX1dfQ__&Signature=vf9Z1gloODcnaEhN5wUvbxpwERWNSN9azW24uqPnhHfBVDdo%7EdEyonlqujXFqD26nKndivmnxP9Y%7E-jGE-UDc9K5PD5vss1-m3lPfSUJ5IEeKlO636abNS2HgYWiA73KiDgHVomsdAgURCh5dZ4rYTBYsJ6JlO2WoNCIsGyRNX67ooUYjSF-L86In9HGbFXB6ectSMX5EqdeYPE8mljS9iJEootjZotR6ipqDdi%7EJA26B7GNhWQOjSAfRrtnqT9t8quW46TxSG0e2ITxtt77P4Izn4XN4YU0-wE69dXuj3xjMF1R5p3vyCdBCn8qRpM61QYMPA15M6O%7E0ARNGaMpKw__&Key-Pair-Id=KVTP0A1DKRTAX\n",
            "\n",
            "06/15 05:45:10 [\u001b[1;32mNOTICE\u001b[0m] CUID#21 - Redirecting to https://cdn-lfs.huggingface.co/repos/a3/72/a37288fd25de45b6a8bbb79801907289f6c12bb870db68f75b0024193da1f047/c3f07c8ec31edebe5ff80ed32d175475a044a0517d84c5eff6f6247ad0a4432d?response-content-disposition=attachment%3B+filename*%3DUTF-8%27%27pytorch_model-00007-of-00009.bin%3B+filename%3D%22pytorch_model-00007-of-00009.bin%22%3B&response-content-type=application%2Foctet-stream&Expires=1687067111&Policy=eyJTdGF0ZW1lbnQiOlt7IlJlc291cmNlIjoiaHR0cHM6Ly9jZG4tbGZzLmh1Z2dpbmdmYWNlLmNvL3JlcG9zL2EzLzcyL2EzNzI4OGZkMjVkZTQ1YjZhOGJiYjc5ODAxOTA3Mjg5ZjZjMTJiYjg3MGRiNjhmNzViMDAyNDE5M2RhMWYwNDcvYzNmMDdjOGVjMzFlZGViZTVmZjgwZWQzMmQxNzU0NzVhMDQ0YTA1MTdkODRjNWVmZjZmNjI0N2FkMGE0NDMyZD9yZXNwb25zZS1jb250ZW50LWRpc3Bvc2l0aW9uPSomcmVzcG9uc2UtY29udGVudC10eXBlPSoiLCJDb25kaXRpb24iOnsiRGF0ZUxlc3NUaGFuIjp7IkFXUzpFcG9jaFRpbWUiOjE2ODcwNjcxMTF9fX1dfQ__&Signature=vf9Z1gloODcnaEhN5wUvbxpwERWNSN9azW24uqPnhHfBVDdo%7EdEyonlqujXFqD26nKndivmnxP9Y%7E-jGE-UDc9K5PD5vss1-m3lPfSUJ5IEeKlO636abNS2HgYWiA73KiDgHVomsdAgURCh5dZ4rYTBYsJ6JlO2WoNCIsGyRNX67ooUYjSF-L86In9HGbFXB6ectSMX5EqdeYPE8mljS9iJEootjZotR6ipqDdi%7EJA26B7GNhWQOjSAfRrtnqT9t8quW46TxSG0e2ITxtt77P4Izn4XN4YU0-wE69dXuj3xjMF1R5p3vyCdBCn8qRpM61QYMPA15M6O%7E0ARNGaMpKw__&Key-Pair-Id=KVTP0A1DKRTAX\n",
            "\n",
            "06/15 05:45:10 [\u001b[1;32mNOTICE\u001b[0m] CUID#10 - Redirecting to https://cdn-lfs.huggingface.co/repos/a3/72/a37288fd25de45b6a8bbb79801907289f6c12bb870db68f75b0024193da1f047/c3f07c8ec31edebe5ff80ed32d175475a044a0517d84c5eff6f6247ad0a4432d?response-content-disposition=attachment%3B+filename*%3DUTF-8%27%27pytorch_model-00007-of-00009.bin%3B+filename%3D%22pytorch_model-00007-of-00009.bin%22%3B&response-content-type=application%2Foctet-stream&Expires=1687067111&Policy=eyJTdGF0ZW1lbnQiOlt7IlJlc291cmNlIjoiaHR0cHM6Ly9jZG4tbGZzLmh1Z2dpbmdmYWNlLmNvL3JlcG9zL2EzLzcyL2EzNzI4OGZkMjVkZTQ1YjZhOGJiYjc5ODAxOTA3Mjg5ZjZjMTJiYjg3MGRiNjhmNzViMDAyNDE5M2RhMWYwNDcvYzNmMDdjOGVjMzFlZGViZTVmZjgwZWQzMmQxNzU0NzVhMDQ0YTA1MTdkODRjNWVmZjZmNjI0N2FkMGE0NDMyZD9yZXNwb25zZS1jb250ZW50LWRpc3Bvc2l0aW9uPSomcmVzcG9uc2UtY29udGVudC10eXBlPSoiLCJDb25kaXRpb24iOnsiRGF0ZUxlc3NUaGFuIjp7IkFXUzpFcG9jaFRpbWUiOjE2ODcwNjcxMTF9fX1dfQ__&Signature=vf9Z1gloODcnaEhN5wUvbxpwERWNSN9azW24uqPnhHfBVDdo%7EdEyonlqujXFqD26nKndivmnxP9Y%7E-jGE-UDc9K5PD5vss1-m3lPfSUJ5IEeKlO636abNS2HgYWiA73KiDgHVomsdAgURCh5dZ4rYTBYsJ6JlO2WoNCIsGyRNX67ooUYjSF-L86In9HGbFXB6ectSMX5EqdeYPE8mljS9iJEootjZotR6ipqDdi%7EJA26B7GNhWQOjSAfRrtnqT9t8quW46TxSG0e2ITxtt77P4Izn4XN4YU0-wE69dXuj3xjMF1R5p3vyCdBCn8qRpM61QYMPA15M6O%7E0ARNGaMpKw__&Key-Pair-Id=KVTP0A1DKRTAX\n",
            "\n",
            "06/15 05:45:10 [\u001b[1;32mNOTICE\u001b[0m] CUID#20 - Redirecting to https://cdn-lfs.huggingface.co/repos/a3/72/a37288fd25de45b6a8bbb79801907289f6c12bb870db68f75b0024193da1f047/c3f07c8ec31edebe5ff80ed32d175475a044a0517d84c5eff6f6247ad0a4432d?response-content-disposition=attachment%3B+filename*%3DUTF-8%27%27pytorch_model-00007-of-00009.bin%3B+filename%3D%22pytorch_model-00007-of-00009.bin%22%3B&response-content-type=application%2Foctet-stream&Expires=1687067110&Policy=eyJTdGF0ZW1lbnQiOlt7IlJlc291cmNlIjoiaHR0cHM6Ly9jZG4tbGZzLmh1Z2dpbmdmYWNlLmNvL3JlcG9zL2EzLzcyL2EzNzI4OGZkMjVkZTQ1YjZhOGJiYjc5ODAxOTA3Mjg5ZjZjMTJiYjg3MGRiNjhmNzViMDAyNDE5M2RhMWYwNDcvYzNmMDdjOGVjMzFlZGViZTVmZjgwZWQzMmQxNzU0NzVhMDQ0YTA1MTdkODRjNWVmZjZmNjI0N2FkMGE0NDMyZD9yZXNwb25zZS1jb250ZW50LWRpc3Bvc2l0aW9uPSomcmVzcG9uc2UtY29udGVudC10eXBlPSoiLCJDb25kaXRpb24iOnsiRGF0ZUxlc3NUaGFuIjp7IkFXUzpFcG9jaFRpbWUiOjE2ODcwNjcxMTB9fX1dfQ__&Signature=a7l0Xmqf0Fs9EOd%7ElD-gDSom3uYGWhw-OVuWkVuNFNqvFw3R6gb4YtimNPh2Tdr60VgfGSRIIgFGYu0Mj59bESNehRX2Dk8lYkcz-hv8uRI-jllRJiFUZFl9K8kDD9LTeuPaESVFfOQF4-UyHUf6dhGb1C5TIrLJ5HZYxkYe7ypu2%7Exq%7ExyrFI476sPt%7ELvPoYyz95cKNUQ2aHuRMxKqLdkLAXKe3dyrwAPuxbWpuCaeGS7DNu81TdABlrvz74a5xQPcqXwPfZdfSjyalaA18Fby8AP6i0pADd9WYLg35zI1a8nJtedRcdYwK88Sj0JDmnnis6HVlUMUld%7EWeC6hyA__&Key-Pair-Id=KVTP0A1DKRTAX\n",
            "\n",
            "06/15 05:45:10 [\u001b[1;32mNOTICE\u001b[0m] CUID#19 - Redirecting to https://cdn-lfs.huggingface.co/repos/a3/72/a37288fd25de45b6a8bbb79801907289f6c12bb870db68f75b0024193da1f047/c3f07c8ec31edebe5ff80ed32d175475a044a0517d84c5eff6f6247ad0a4432d?response-content-disposition=attachment%3B+filename*%3DUTF-8%27%27pytorch_model-00007-of-00009.bin%3B+filename%3D%22pytorch_model-00007-of-00009.bin%22%3B&response-content-type=application%2Foctet-stream&Expires=1687067111&Policy=eyJTdGF0ZW1lbnQiOlt7IlJlc291cmNlIjoiaHR0cHM6Ly9jZG4tbGZzLmh1Z2dpbmdmYWNlLmNvL3JlcG9zL2EzLzcyL2EzNzI4OGZkMjVkZTQ1YjZhOGJiYjc5ODAxOTA3Mjg5ZjZjMTJiYjg3MGRiNjhmNzViMDAyNDE5M2RhMWYwNDcvYzNmMDdjOGVjMzFlZGViZTVmZjgwZWQzMmQxNzU0NzVhMDQ0YTA1MTdkODRjNWVmZjZmNjI0N2FkMGE0NDMyZD9yZXNwb25zZS1jb250ZW50LWRpc3Bvc2l0aW9uPSomcmVzcG9uc2UtY29udGVudC10eXBlPSoiLCJDb25kaXRpb24iOnsiRGF0ZUxlc3NUaGFuIjp7IkFXUzpFcG9jaFRpbWUiOjE2ODcwNjcxMTF9fX1dfQ__&Signature=vf9Z1gloODcnaEhN5wUvbxpwERWNSN9azW24uqPnhHfBVDdo%7EdEyonlqujXFqD26nKndivmnxP9Y%7E-jGE-UDc9K5PD5vss1-m3lPfSUJ5IEeKlO636abNS2HgYWiA73KiDgHVomsdAgURCh5dZ4rYTBYsJ6JlO2WoNCIsGyRNX67ooUYjSF-L86In9HGbFXB6ectSMX5EqdeYPE8mljS9iJEootjZotR6ipqDdi%7EJA26B7GNhWQOjSAfRrtnqT9t8quW46TxSG0e2ITxtt77P4Izn4XN4YU0-wE69dXuj3xjMF1R5p3vyCdBCn8qRpM61QYMPA15M6O%7E0ARNGaMpKw__&Key-Pair-Id=KVTP0A1DKRTAX\n",
            "\n",
            "06/15 05:45:10 [\u001b[1;32mNOTICE\u001b[0m] CUID#16 - Redirecting to https://cdn-lfs.huggingface.co/repos/a3/72/a37288fd25de45b6a8bbb79801907289f6c12bb870db68f75b0024193da1f047/c3f07c8ec31edebe5ff80ed32d175475a044a0517d84c5eff6f6247ad0a4432d?response-content-disposition=attachment%3B+filename*%3DUTF-8%27%27pytorch_model-00007-of-00009.bin%3B+filename%3D%22pytorch_model-00007-of-00009.bin%22%3B&response-content-type=application%2Foctet-stream&Expires=1687067111&Policy=eyJTdGF0ZW1lbnQiOlt7IlJlc291cmNlIjoiaHR0cHM6Ly9jZG4tbGZzLmh1Z2dpbmdmYWNlLmNvL3JlcG9zL2EzLzcyL2EzNzI4OGZkMjVkZTQ1YjZhOGJiYjc5ODAxOTA3Mjg5ZjZjMTJiYjg3MGRiNjhmNzViMDAyNDE5M2RhMWYwNDcvYzNmMDdjOGVjMzFlZGViZTVmZjgwZWQzMmQxNzU0NzVhMDQ0YTA1MTdkODRjNWVmZjZmNjI0N2FkMGE0NDMyZD9yZXNwb25zZS1jb250ZW50LWRpc3Bvc2l0aW9uPSomcmVzcG9uc2UtY29udGVudC10eXBlPSoiLCJDb25kaXRpb24iOnsiRGF0ZUxlc3NUaGFuIjp7IkFXUzpFcG9jaFRpbWUiOjE2ODcwNjcxMTF9fX1dfQ__&Signature=vf9Z1gloODcnaEhN5wUvbxpwERWNSN9azW24uqPnhHfBVDdo%7EdEyonlqujXFqD26nKndivmnxP9Y%7E-jGE-UDc9K5PD5vss1-m3lPfSUJ5IEeKlO636abNS2HgYWiA73KiDgHVomsdAgURCh5dZ4rYTBYsJ6JlO2WoNCIsGyRNX67ooUYjSF-L86In9HGbFXB6ectSMX5EqdeYPE8mljS9iJEootjZotR6ipqDdi%7EJA26B7GNhWQOjSAfRrtnqT9t8quW46TxSG0e2ITxtt77P4Izn4XN4YU0-wE69dXuj3xjMF1R5p3vyCdBCn8qRpM61QYMPA15M6O%7E0ARNGaMpKw__&Key-Pair-Id=KVTP0A1DKRTAX\n",
            "\n",
            "06/15 05:45:10 [\u001b[1;32mNOTICE\u001b[0m] CUID#22 - Redirecting to https://cdn-lfs.huggingface.co/repos/a3/72/a37288fd25de45b6a8bbb79801907289f6c12bb870db68f75b0024193da1f047/c3f07c8ec31edebe5ff80ed32d175475a044a0517d84c5eff6f6247ad0a4432d?response-content-disposition=attachment%3B+filename*%3DUTF-8%27%27pytorch_model-00007-of-00009.bin%3B+filename%3D%22pytorch_model-00007-of-00009.bin%22%3B&response-content-type=application%2Foctet-stream&Expires=1687067110&Policy=eyJTdGF0ZW1lbnQiOlt7IlJlc291cmNlIjoiaHR0cHM6Ly9jZG4tbGZzLmh1Z2dpbmdmYWNlLmNvL3JlcG9zL2EzLzcyL2EzNzI4OGZkMjVkZTQ1YjZhOGJiYjc5ODAxOTA3Mjg5ZjZjMTJiYjg3MGRiNjhmNzViMDAyNDE5M2RhMWYwNDcvYzNmMDdjOGVjMzFlZGViZTVmZjgwZWQzMmQxNzU0NzVhMDQ0YTA1MTdkODRjNWVmZjZmNjI0N2FkMGE0NDMyZD9yZXNwb25zZS1jb250ZW50LWRpc3Bvc2l0aW9uPSomcmVzcG9uc2UtY29udGVudC10eXBlPSoiLCJDb25kaXRpb24iOnsiRGF0ZUxlc3NUaGFuIjp7IkFXUzpFcG9jaFRpbWUiOjE2ODcwNjcxMTB9fX1dfQ__&Signature=a7l0Xmqf0Fs9EOd%7ElD-gDSom3uYGWhw-OVuWkVuNFNqvFw3R6gb4YtimNPh2Tdr60VgfGSRIIgFGYu0Mj59bESNehRX2Dk8lYkcz-hv8uRI-jllRJiFUZFl9K8kDD9LTeuPaESVFfOQF4-UyHUf6dhGb1C5TIrLJ5HZYxkYe7ypu2%7Exq%7ExyrFI476sPt%7ELvPoYyz95cKNUQ2aHuRMxKqLdkLAXKe3dyrwAPuxbWpuCaeGS7DNu81TdABlrvz74a5xQPcqXwPfZdfSjyalaA18Fby8AP6i0pADd9WYLg35zI1a8nJtedRcdYwK88Sj0JDmnnis6HVlUMUld%7EWeC6hyA__&Key-Pair-Id=KVTP0A1DKRTAX\n",
            "\n",
            "06/15 05:45:10 [\u001b[1;32mNOTICE\u001b[0m] CUID#12 - Redirecting to https://cdn-lfs.huggingface.co/repos/a3/72/a37288fd25de45b6a8bbb79801907289f6c12bb870db68f75b0024193da1f047/c3f07c8ec31edebe5ff80ed32d175475a044a0517d84c5eff6f6247ad0a4432d?response-content-disposition=attachment%3B+filename*%3DUTF-8%27%27pytorch_model-00007-of-00009.bin%3B+filename%3D%22pytorch_model-00007-of-00009.bin%22%3B&response-content-type=application%2Foctet-stream&Expires=1687067111&Policy=eyJTdGF0ZW1lbnQiOlt7IlJlc291cmNlIjoiaHR0cHM6Ly9jZG4tbGZzLmh1Z2dpbmdmYWNlLmNvL3JlcG9zL2EzLzcyL2EzNzI4OGZkMjVkZTQ1YjZhOGJiYjc5ODAxOTA3Mjg5ZjZjMTJiYjg3MGRiNjhmNzViMDAyNDE5M2RhMWYwNDcvYzNmMDdjOGVjMzFlZGViZTVmZjgwZWQzMmQxNzU0NzVhMDQ0YTA1MTdkODRjNWVmZjZmNjI0N2FkMGE0NDMyZD9yZXNwb25zZS1jb250ZW50LWRpc3Bvc2l0aW9uPSomcmVzcG9uc2UtY29udGVudC10eXBlPSoiLCJDb25kaXRpb24iOnsiRGF0ZUxlc3NUaGFuIjp7IkFXUzpFcG9jaFRpbWUiOjE2ODcwNjcxMTF9fX1dfQ__&Signature=vf9Z1gloODcnaEhN5wUvbxpwERWNSN9azW24uqPnhHfBVDdo%7EdEyonlqujXFqD26nKndivmnxP9Y%7E-jGE-UDc9K5PD5vss1-m3lPfSUJ5IEeKlO636abNS2HgYWiA73KiDgHVomsdAgURCh5dZ4rYTBYsJ6JlO2WoNCIsGyRNX67ooUYjSF-L86In9HGbFXB6ectSMX5EqdeYPE8mljS9iJEootjZotR6ipqDdi%7EJA26B7GNhWQOjSAfRrtnqT9t8quW46TxSG0e2ITxtt77P4Izn4XN4YU0-wE69dXuj3xjMF1R5p3vyCdBCn8qRpM61QYMPA15M6O%7E0ARNGaMpKw__&Key-Pair-Id=KVTP0A1DKRTAX\n",
            "\n",
            "06/15 05:45:10 [\u001b[1;32mNOTICE\u001b[0m] CUID#22 - Redirecting to https://cdn-lfs.huggingface.co/repos/a3/72/a37288fd25de45b6a8bbb79801907289f6c12bb870db68f75b0024193da1f047/ae277c7c5aef0d0fea9e9e6b13113dfef0078a36c78805bebe14d32e9ab887d1?response-content-disposition=attachment%3B+filename*%3DUTF-8%27%27pytorch_model-00005-of-00009.bin%3B+filename%3D%22pytorch_model-00005-of-00009.bin%22%3B&response-content-type=application%2Foctet-stream&Expires=1687067110&Policy=eyJTdGF0ZW1lbnQiOlt7IlJlc291cmNlIjoiaHR0cHM6Ly9jZG4tbGZzLmh1Z2dpbmdmYWNlLmNvL3JlcG9zL2EzLzcyL2EzNzI4OGZkMjVkZTQ1YjZhOGJiYjc5ODAxOTA3Mjg5ZjZjMTJiYjg3MGRiNjhmNzViMDAyNDE5M2RhMWYwNDcvYWUyNzdjN2M1YWVmMGQwZmVhOWU5ZTZiMTMxMTNkZmVmMDA3OGEzNmM3ODgwNWJlYmUxNGQzMmU5YWI4ODdkMT9yZXNwb25zZS1jb250ZW50LWRpc3Bvc2l0aW9uPSomcmVzcG9uc2UtY29udGVudC10eXBlPSoiLCJDb25kaXRpb24iOnsiRGF0ZUxlc3NUaGFuIjp7IkFXUzpFcG9jaFRpbWUiOjE2ODcwNjcxMTB9fX1dfQ__&Signature=leiZvnFN15EkIIc7oljMlyjQ%7Ec768VKzz-u6jgext82aQO0TucCFxIb5Bwn7T86ysTrnvHpyIBP6LaBg950BJZI9MihJZVuBPa9Z69Sk9yI089FS2vZrCjeXo9LBAbXrkzOfp45Ck3uu4ZRv9P6ABK0WYSdOcCFycXUzx9FzgU%7EvlTfX46iMpZUu8xN9lDYXZ6GqhDm-kgQUBNVE9StpVtPK2EbJjBZAtB36nVLmE3xIW2ejniKuCBzosGSHWFF9-ME7mzbENzdeIZ%7ERlzrxoSReqQ2LW8uVQA-a%7EFudFTV9T3IxEkG2RwhiEatVhIbJLZEShmc1Xybn-Y-p6mR4XQ__&Key-Pair-Id=KVTP0A1DKRTAX\n",
            "\n",
            "06/15 05:45:10 [\u001b[1;32mNOTICE\u001b[0m] CUID#9 - Redirecting to https://cdn-lfs.huggingface.co/repos/a3/72/a37288fd25de45b6a8bbb79801907289f6c12bb870db68f75b0024193da1f047/c3f07c8ec31edebe5ff80ed32d175475a044a0517d84c5eff6f6247ad0a4432d?response-content-disposition=attachment%3B+filename*%3DUTF-8%27%27pytorch_model-00007-of-00009.bin%3B+filename%3D%22pytorch_model-00007-of-00009.bin%22%3B&response-content-type=application%2Foctet-stream&Expires=1687067110&Policy=eyJTdGF0ZW1lbnQiOlt7IlJlc291cmNlIjoiaHR0cHM6Ly9jZG4tbGZzLmh1Z2dpbmdmYWNlLmNvL3JlcG9zL2EzLzcyL2EzNzI4OGZkMjVkZTQ1YjZhOGJiYjc5ODAxOTA3Mjg5ZjZjMTJiYjg3MGRiNjhmNzViMDAyNDE5M2RhMWYwNDcvYzNmMDdjOGVjMzFlZGViZTVmZjgwZWQzMmQxNzU0NzVhMDQ0YTA1MTdkODRjNWVmZjZmNjI0N2FkMGE0NDMyZD9yZXNwb25zZS1jb250ZW50LWRpc3Bvc2l0aW9uPSomcmVzcG9uc2UtY29udGVudC10eXBlPSoiLCJDb25kaXRpb24iOnsiRGF0ZUxlc3NUaGFuIjp7IkFXUzpFcG9jaFRpbWUiOjE2ODcwNjcxMTB9fX1dfQ__&Signature=a7l0Xmqf0Fs9EOd%7ElD-gDSom3uYGWhw-OVuWkVuNFNqvFw3R6gb4YtimNPh2Tdr60VgfGSRIIgFGYu0Mj59bESNehRX2Dk8lYkcz-hv8uRI-jllRJiFUZFl9K8kDD9LTeuPaESVFfOQF4-UyHUf6dhGb1C5TIrLJ5HZYxkYe7ypu2%7Exq%7ExyrFI476sPt%7ELvPoYyz95cKNUQ2aHuRMxKqLdkLAXKe3dyrwAPuxbWpuCaeGS7DNu81TdABlrvz74a5xQPcqXwPfZdfSjyalaA18Fby8AP6i0pADd9WYLg35zI1a8nJtedRcdYwK88Sj0JDmnnis6HVlUMUld%7EWeC6hyA__&Key-Pair-Id=KVTP0A1DKRTAX\n",
            "\n",
            "06/15 05:45:10 [\u001b[1;32mNOTICE\u001b[0m] CUID#14 - Redirecting to https://cdn-lfs.huggingface.co/repos/a3/72/a37288fd25de45b6a8bbb79801907289f6c12bb870db68f75b0024193da1f047/c3f07c8ec31edebe5ff80ed32d175475a044a0517d84c5eff6f6247ad0a4432d?response-content-disposition=attachment%3B+filename*%3DUTF-8%27%27pytorch_model-00007-of-00009.bin%3B+filename%3D%22pytorch_model-00007-of-00009.bin%22%3B&response-content-type=application%2Foctet-stream&Expires=1687067111&Policy=eyJTdGF0ZW1lbnQiOlt7IlJlc291cmNlIjoiaHR0cHM6Ly9jZG4tbGZzLmh1Z2dpbmdmYWNlLmNvL3JlcG9zL2EzLzcyL2EzNzI4OGZkMjVkZTQ1YjZhOGJiYjc5ODAxOTA3Mjg5ZjZjMTJiYjg3MGRiNjhmNzViMDAyNDE5M2RhMWYwNDcvYzNmMDdjOGVjMzFlZGViZTVmZjgwZWQzMmQxNzU0NzVhMDQ0YTA1MTdkODRjNWVmZjZmNjI0N2FkMGE0NDMyZD9yZXNwb25zZS1jb250ZW50LWRpc3Bvc2l0aW9uPSomcmVzcG9uc2UtY29udGVudC10eXBlPSoiLCJDb25kaXRpb24iOnsiRGF0ZUxlc3NUaGFuIjp7IkFXUzpFcG9jaFRpbWUiOjE2ODcwNjcxMTF9fX1dfQ__&Signature=vf9Z1gloODcnaEhN5wUvbxpwERWNSN9azW24uqPnhHfBVDdo%7EdEyonlqujXFqD26nKndivmnxP9Y%7E-jGE-UDc9K5PD5vss1-m3lPfSUJ5IEeKlO636abNS2HgYWiA73KiDgHVomsdAgURCh5dZ4rYTBYsJ6JlO2WoNCIsGyRNX67ooUYjSF-L86In9HGbFXB6ectSMX5EqdeYPE8mljS9iJEootjZotR6ipqDdi%7EJA26B7GNhWQOjSAfRrtnqT9t8quW46TxSG0e2ITxtt77P4Izn4XN4YU0-wE69dXuj3xjMF1R5p3vyCdBCn8qRpM61QYMPA15M6O%7E0ARNGaMpKw__&Key-Pair-Id=KVTP0A1DKRTAX\n",
            "\n",
            "06/15 05:45:10 [\u001b[1;32mNOTICE\u001b[0m] CUID#13 - Redirecting to https://cdn-lfs.huggingface.co/repos/a3/72/a37288fd25de45b6a8bbb79801907289f6c12bb870db68f75b0024193da1f047/c3f07c8ec31edebe5ff80ed32d175475a044a0517d84c5eff6f6247ad0a4432d?response-content-disposition=attachment%3B+filename*%3DUTF-8%27%27pytorch_model-00007-of-00009.bin%3B+filename%3D%22pytorch_model-00007-of-00009.bin%22%3B&response-content-type=application%2Foctet-stream&Expires=1687067111&Policy=eyJTdGF0ZW1lbnQiOlt7IlJlc291cmNlIjoiaHR0cHM6Ly9jZG4tbGZzLmh1Z2dpbmdmYWNlLmNvL3JlcG9zL2EzLzcyL2EzNzI4OGZkMjVkZTQ1YjZhOGJiYjc5ODAxOTA3Mjg5ZjZjMTJiYjg3MGRiNjhmNzViMDAyNDE5M2RhMWYwNDcvYzNmMDdjOGVjMzFlZGViZTVmZjgwZWQzMmQxNzU0NzVhMDQ0YTA1MTdkODRjNWVmZjZmNjI0N2FkMGE0NDMyZD9yZXNwb25zZS1jb250ZW50LWRpc3Bvc2l0aW9uPSomcmVzcG9uc2UtY29udGVudC10eXBlPSoiLCJDb25kaXRpb24iOnsiRGF0ZUxlc3NUaGFuIjp7IkFXUzpFcG9jaFRpbWUiOjE2ODcwNjcxMTF9fX1dfQ__&Signature=vf9Z1gloODcnaEhN5wUvbxpwERWNSN9azW24uqPnhHfBVDdo%7EdEyonlqujXFqD26nKndivmnxP9Y%7E-jGE-UDc9K5PD5vss1-m3lPfSUJ5IEeKlO636abNS2HgYWiA73KiDgHVomsdAgURCh5dZ4rYTBYsJ6JlO2WoNCIsGyRNX67ooUYjSF-L86In9HGbFXB6ectSMX5EqdeYPE8mljS9iJEootjZotR6ipqDdi%7EJA26B7GNhWQOjSAfRrtnqT9t8quW46TxSG0e2ITxtt77P4Izn4XN4YU0-wE69dXuj3xjMF1R5p3vyCdBCn8qRpM61QYMPA15M6O%7E0ARNGaMpKw__&Key-Pair-Id=KVTP0A1DKRTAX\n",
            "\n",
            "06/15 05:45:10 [\u001b[1;32mNOTICE\u001b[0m] CUID#15 - Redirecting to https://cdn-lfs.huggingface.co/repos/a3/72/a37288fd25de45b6a8bbb79801907289f6c12bb870db68f75b0024193da1f047/c3f07c8ec31edebe5ff80ed32d175475a044a0517d84c5eff6f6247ad0a4432d?response-content-disposition=attachment%3B+filename*%3DUTF-8%27%27pytorch_model-00007-of-00009.bin%3B+filename%3D%22pytorch_model-00007-of-00009.bin%22%3B&response-content-type=application%2Foctet-stream&Expires=1687066038&Policy=eyJTdGF0ZW1lbnQiOlt7IlJlc291cmNlIjoiaHR0cHM6Ly9jZG4tbGZzLmh1Z2dpbmdmYWNlLmNvL3JlcG9zL2EzLzcyL2EzNzI4OGZkMjVkZTQ1YjZhOGJiYjc5ODAxOTA3Mjg5ZjZjMTJiYjg3MGRiNjhmNzViMDAyNDE5M2RhMWYwNDcvYzNmMDdjOGVjMzFlZGViZTVmZjgwZWQzMmQxNzU0NzVhMDQ0YTA1MTdkODRjNWVmZjZmNjI0N2FkMGE0NDMyZD9yZXNwb25zZS1jb250ZW50LWRpc3Bvc2l0aW9uPSomcmVzcG9uc2UtY29udGVudC10eXBlPSoiLCJDb25kaXRpb24iOnsiRGF0ZUxlc3NUaGFuIjp7IkFXUzpFcG9jaFRpbWUiOjE2ODcwNjYwMzh9fX1dfQ__&Signature=ssiu8k268cTdLneM-fQsD6vJObfZfQDi5CFMRmaR2Mla02TnL%7EOHmzGqJ3TlBxu-NGQxpS-3hkLBAGZuTS7ejLJqbaH-%7EE1sZhJGWnpW4RDXkoSypLl2eM9NgeP7k-mVbV5SkK0S34-eKS1kNtTIq0zCKVXxv9kNRNaOg5p%7EY7jJaPXomWCj6biNfTNEhqdvWucv4SPkEx8ziDrFY1DPysK5DLrJw4rx%7E7gTYbtl9p7ceu%7EiSBMT8wzUsswnVU6%7En19msLzAT2tT4COPGT-uByAm%7EJ9dSE1hnHc3l0d5NqD1PX-tWwaNqGzWjD3xPk9E5TELMwgetV4HifwOBHpU7w__&Key-Pair-Id=KVTP0A1DKRTAX\n",
            "\n",
            "06/15 05:45:10 [\u001b[1;32mNOTICE\u001b[0m] CUID#17 - Redirecting to https://cdn-lfs.huggingface.co/repos/a3/72/a37288fd25de45b6a8bbb79801907289f6c12bb870db68f75b0024193da1f047/c3f07c8ec31edebe5ff80ed32d175475a044a0517d84c5eff6f6247ad0a4432d?response-content-disposition=attachment%3B+filename*%3DUTF-8%27%27pytorch_model-00007-of-00009.bin%3B+filename%3D%22pytorch_model-00007-of-00009.bin%22%3B&response-content-type=application%2Foctet-stream&Expires=1687067111&Policy=eyJTdGF0ZW1lbnQiOlt7IlJlc291cmNlIjoiaHR0cHM6Ly9jZG4tbGZzLmh1Z2dpbmdmYWNlLmNvL3JlcG9zL2EzLzcyL2EzNzI4OGZkMjVkZTQ1YjZhOGJiYjc5ODAxOTA3Mjg5ZjZjMTJiYjg3MGRiNjhmNzViMDAyNDE5M2RhMWYwNDcvYzNmMDdjOGVjMzFlZGViZTVmZjgwZWQzMmQxNzU0NzVhMDQ0YTA1MTdkODRjNWVmZjZmNjI0N2FkMGE0NDMyZD9yZXNwb25zZS1jb250ZW50LWRpc3Bvc2l0aW9uPSomcmVzcG9uc2UtY29udGVudC10eXBlPSoiLCJDb25kaXRpb24iOnsiRGF0ZUxlc3NUaGFuIjp7IkFXUzpFcG9jaFRpbWUiOjE2ODcwNjcxMTF9fX1dfQ__&Signature=vf9Z1gloODcnaEhN5wUvbxpwERWNSN9azW24uqPnhHfBVDdo%7EdEyonlqujXFqD26nKndivmnxP9Y%7E-jGE-UDc9K5PD5vss1-m3lPfSUJ5IEeKlO636abNS2HgYWiA73KiDgHVomsdAgURCh5dZ4rYTBYsJ6JlO2WoNCIsGyRNX67ooUYjSF-L86In9HGbFXB6ectSMX5EqdeYPE8mljS9iJEootjZotR6ipqDdi%7EJA26B7GNhWQOjSAfRrtnqT9t8quW46TxSG0e2ITxtt77P4Izn4XN4YU0-wE69dXuj3xjMF1R5p3vyCdBCn8qRpM61QYMPA15M6O%7E0ARNGaMpKw__&Key-Pair-Id=KVTP0A1DKRTAX\n",
            "\u001b[35m[\u001b[0m#6c82e1 9.4MiB/8.8GiB\u001b[36m(0%)\u001b[0m CN:16 DL:\u001b[32m10MiB\u001b[0m ETA:\u001b[33m13m56s\u001b[0m\u001b[35m]\u001b[0m\u001b[0m\n",
            "06/15 05:45:11 [\u001b[1;32mNOTICE\u001b[0m] CUID#23 - Redirecting to https://cdn-lfs.huggingface.co/repos/a3/72/a37288fd25de45b6a8bbb79801907289f6c12bb870db68f75b0024193da1f047/c3f07c8ec31edebe5ff80ed32d175475a044a0517d84c5eff6f6247ad0a4432d?response-content-disposition=attachment%3B+filename*%3DUTF-8%27%27pytorch_model-00007-of-00009.bin%3B+filename%3D%22pytorch_model-00007-of-00009.bin%22%3B&response-content-type=application%2Foctet-stream&Expires=1687067111&Policy=eyJTdGF0ZW1lbnQiOlt7IlJlc291cmNlIjoiaHR0cHM6Ly9jZG4tbGZzLmh1Z2dpbmdmYWNlLmNvL3JlcG9zL2EzLzcyL2EzNzI4OGZkMjVkZTQ1YjZhOGJiYjc5ODAxOTA3Mjg5ZjZjMTJiYjg3MGRiNjhmNzViMDAyNDE5M2RhMWYwNDcvYzNmMDdjOGVjMzFlZGViZTVmZjgwZWQzMmQxNzU0NzVhMDQ0YTA1MTdkODRjNWVmZjZmNjI0N2FkMGE0NDMyZD9yZXNwb25zZS1jb250ZW50LWRpc3Bvc2l0aW9uPSomcmVzcG9uc2UtY29udGVudC10eXBlPSoiLCJDb25kaXRpb24iOnsiRGF0ZUxlc3NUaGFuIjp7IkFXUzpFcG9jaFRpbWUiOjE2ODcwNjcxMTF9fX1dfQ__&Signature=vf9Z1gloODcnaEhN5wUvbxpwERWNSN9azW24uqPnhHfBVDdo%7EdEyonlqujXFqD26nKndivmnxP9Y%7E-jGE-UDc9K5PD5vss1-m3lPfSUJ5IEeKlO636abNS2HgYWiA73KiDgHVomsdAgURCh5dZ4rYTBYsJ6JlO2WoNCIsGyRNX67ooUYjSF-L86In9HGbFXB6ectSMX5EqdeYPE8mljS9iJEootjZotR6ipqDdi%7EJA26B7GNhWQOjSAfRrtnqT9t8quW46TxSG0e2ITxtt77P4Izn4XN4YU0-wE69dXuj3xjMF1R5p3vyCdBCn8qRpM61QYMPA15M6O%7E0ARNGaMpKw__&Key-Pair-Id=KVTP0A1DKRTAX\n",
            " *** Download Progress Summary as of Thu Jun 15 05:46:16 2023 ***              m23s\u001b[0m\u001b[35m]\u001b[0m\u001b[0mmm\n",
            "===============================================================================\n",
            "[#746934 7.4GiB/8.8GiB(84%) CN:16 DL:30MiB ETA:46s]\n",
            "FILE: models/tiiuae_falcon-40b/pytorch_model-00001-of-00009.bin\n",
            "-------------------------------------------------------------------------------\n",
            "\n",
            " *** Download Progress Summary as of Thu Jun 15 05:46:16 2023 ***              46s\u001b[0m\u001b[35m]\u001b[0m\u001b[0m\n",
            "===============================================================================\n",
            "[#082585 6.9GiB/8.8GiB(78%) CN:16 DL:25MiB ETA:1m16s]\n",
            "FILE: models/tiiuae_falcon-40b/pytorch_model-00003-of-00009.bin\n",
            "-------------------------------------------------------------------------------\n",
            "\n",
            " *** Download Progress Summary as of Thu Jun 15 05:46:16 2023 ***              1m16s\u001b[0m\u001b[35m]\u001b[0m\u001b[0m\n",
            "===============================================================================\n",
            "[#2fc05d 6.6GiB/8.8GiB(75%) CN:16 DL:27MiB ETA:1m22s]\n",
            "FILE: models/tiiuae_falcon-40b/pytorch_model-00005-of-00009.bin\n",
            "-------------------------------------------------------------------------------\n",
            "\n",
            " *** Download Progress Summary as of Thu Jun 15 05:46:16 2023 ***              1m22s\u001b[0m\u001b[35m]\u001b[0m\u001b[0m\n",
            "===============================================================================\n",
            "[#d91592 6.9GiB/8.8GiB(78%) CN:16 DL:21MiB ETA:1m31s]\n",
            "FILE: models/tiiuae_falcon-40b/pytorch_model-00006-of-00009.bin\n",
            "-------------------------------------------------------------------------------\n",
            "\n",
            " *** Download Progress Summary as of Thu Jun 15 05:46:16 2023 ***              1m31s\u001b[0m\u001b[35m]\u001b[0m\u001b[0m\n",
            "===============================================================================\n",
            "[#ff0ecc 7.2GiB/8.8GiB(81%) CN:16 DL:20MiB ETA:1m22s]\n",
            "FILE: models/tiiuae_falcon-40b/pytorch_model-00002-of-00009.bin\n",
            "-------------------------------------------------------------------------------\n",
            "\n",
            " *** Download Progress Summary as of Thu Jun 15 05:46:16 2023 ***              1m22s\u001b[0m\u001b[35m]\u001b[0m\u001b[0m\n",
            "===============================================================================\n",
            "[#5defbd 6.8GiB/8.8GiB(77%) CN:16 DL:29MiB ETA:1m11s]\n",
            "FILE: models/tiiuae_falcon-40b/pytorch_model-00008-of-00009.bin\n",
            "-------------------------------------------------------------------------------\n",
            "\n",
            " *** Download Progress Summary as of Thu Jun 15 05:46:16 2023 ***              1m11s\u001b[0m\u001b[35m]\u001b[0m\u001b[0m\n",
            "===============================================================================\n",
            "[#6eb087 6.9GiB/8.8GiB(78%) CN:16 DL:20MiB ETA:1m34s]\n",
            "FILE: models/tiiuae_falcon-40b/pytorch_model-00004-of-00009.bin\n",
            "-------------------------------------------------------------------------------\n",
            "\n",
            " *** Download Progress Summary as of Thu Jun 15 05:46:16 2023 ***              1m34s\u001b[0m\u001b[35m]\u001b[0m\u001b[0m\n",
            "===============================================================================\n",
            "[#6c82e1 6.3GiB/8.8GiB(72%) CN:16 DL:21MiB ETA:1m56s]\n",
            "FILE: models/tiiuae_falcon-40b/pytorch_model-00007-of-00009.bin\n",
            "-------------------------------------------------------------------------------\n",
            "\n",
            "\u001b[35m[\u001b[0m#082585 8.4GiB/8.8GiB\u001b[36m(95%)\u001b[0m CN:16 DL:\u001b[32m123MiB\u001b[0m ETA:\u001b[33m3s\u001b[0m\u001b[35m]\u001b[0m\u001b[0mmm\n",
            "06/15 05:46:28 [\u001b[1;32mNOTICE\u001b[0m] Download complete: models/tiiuae_falcon-40b/pytorch_model-00001-of-00009.bin\n",
            "\n",
            "Download Results:\n",
            "gid   |stat|avg speed  |path/URI\n",
            "======+====+===========+=======================================================\n",
            "746934|\u001b[1;32mOK\u001b[0m  |   115MiB/s|models/tiiuae_falcon-40b/pytorch_model-00001-of-00009.bin\n",
            "\n",
            "Status Legend:\n",
            "(OK):download completed.\n",
            " 33%|██████████████▋                             | 6/18 [01:19<02:46, 13.91s/it]Running: aria2c -c -x 16 -s 16 -k 1M https://huggingface.co/tiiuae/falcon-40b/resolve/main/pytorch_model-00009-of-00009.bin -d models/tiiuae_falcon-40b -o pytorch_model-00009-of-00009.bin\n",
            "\n",
            "06/15 05:46:28 [\u001b[1;32mNOTICE\u001b[0m] Downloading 1 item(s)\n",
            "\u001b[35m[\u001b[0m#6eb087 8.4GiB/8.8GiB\u001b[36m(94%)\u001b[0m CN:16 DL:\u001b[32m124MiB\u001b[0m ETA:\u001b[33m3s\u001b[0m\u001b[35m]\u001b[0m\u001b[0m\n",
            "06/15 05:46:28 [\u001b[1;32mNOTICE\u001b[0m] CUID#7 - Redirecting to https://cdn-lfs.huggingface.co/repos/a3/72/a37288fd25de45b6a8bbb79801907289f6c12bb870db68f75b0024193da1f047/c5c794d3106945f514b5501904506485377c95ce2cef030373c7cbe7459ef610?response-content-disposition=attachment%3B+filename*%3DUTF-8%27%27pytorch_model-00009-of-00009.bin%3B+filename%3D%22pytorch_model-00009-of-00009.bin%22%3B&response-content-type=application%2Foctet-stream&Expires=1687067188&Policy=eyJTdGF0ZW1lbnQiOlt7IlJlc291cmNlIjoiaHR0cHM6Ly9jZG4tbGZzLmh1Z2dpbmdmYWNlLmNvL3JlcG9zL2EzLzcyL2EzNzI4OGZkMjVkZTQ1YjZhOGJiYjc5ODAxOTA3Mjg5ZjZjMTJiYjg3MGRiNjhmNzViMDAyNDE5M2RhMWYwNDcvYzVjNzk0ZDMxMDY5NDVmNTE0YjU1MDE5MDQ1MDY0ODUzNzdjOTVjZTJjZWYwMzAzNzNjN2NiZTc0NTllZjYxMD9yZXNwb25zZS1jb250ZW50LWRpc3Bvc2l0aW9uPSomcmVzcG9uc2UtY29udGVudC10eXBlPSoiLCJDb25kaXRpb24iOnsiRGF0ZUxlc3NUaGFuIjp7IkFXUzpFcG9jaFRpbWUiOjE2ODcwNjcxODh9fX1dfQ__&Signature=yDAPYPdqfLJ8dWUnVdhAWkwKAS9HRQd07katx7%7EsU2Doi9A-LhFwAmMzjlAUdzPwj39IVOTAvaUG291LgFuj7mPlYDLu4B0YQyQEDFzHdSunvh6L1vvf5wDyky4YX9tYEeVe8wcQGQPmBA20eALe%7ERAOKcLE2Ucwu3jyTAsJqu1HkX-UbGgm8MpYmrUpXEUQu3pDhRHA80HwgOm7ZglXEOjHR1isvsj6f2w--biGdFkNpJNN4Y5Td0rZ70MenMlFhlUHAV0ar0zkmsPLRewHA29A3h9jumllYOHyOouSM2Wdjs6ne3xORcr2IuHB%7EwstPluUTahgtS2GHLRtL5fNcQ__&Key-Pair-Id=KVTP0A1DKRTAX\n",
            "\u001b[35m[\u001b[0m#2fc05d 8.3GiB/8.8GiB\u001b[36m(93%)\u001b[0m CN:16 DL:\u001b[32m128MiB\u001b[0m ETA:\u001b[33m4s\u001b[0m\u001b[35m]\u001b[0m\u001b[0m\n",
            "06/15 05:46:29 [\u001b[1;32mNOTICE\u001b[0m] CUID#9 - Redirecting to https://cdn-lfs.huggingface.co/repos/a3/72/a37288fd25de45b6a8bbb79801907289f6c12bb870db68f75b0024193da1f047/c5c794d3106945f514b5501904506485377c95ce2cef030373c7cbe7459ef610?response-content-disposition=attachment%3B+filename*%3DUTF-8%27%27pytorch_model-00009-of-00009.bin%3B+filename%3D%22pytorch_model-00009-of-00009.bin%22%3B&response-content-type=application%2Foctet-stream&Expires=1687067189&Policy=eyJTdGF0ZW1lbnQiOlt7IlJlc291cmNlIjoiaHR0cHM6Ly9jZG4tbGZzLmh1Z2dpbmdmYWNlLmNvL3JlcG9zL2EzLzcyL2EzNzI4OGZkMjVkZTQ1YjZhOGJiYjc5ODAxOTA3Mjg5ZjZjMTJiYjg3MGRiNjhmNzViMDAyNDE5M2RhMWYwNDcvYzVjNzk0ZDMxMDY5NDVmNTE0YjU1MDE5MDQ1MDY0ODUzNzdjOTVjZTJjZWYwMzAzNzNjN2NiZTc0NTllZjYxMD9yZXNwb25zZS1jb250ZW50LWRpc3Bvc2l0aW9uPSomcmVzcG9uc2UtY29udGVudC10eXBlPSoiLCJDb25kaXRpb24iOnsiRGF0ZUxlc3NUaGFuIjp7IkFXUzpFcG9jaFRpbWUiOjE2ODcwNjcxODl9fX1dfQ__&Signature=BZ%7EbarCiBcbWJfCYM8eD11-NQ9p%7EQzs2U9y6XdgQDlwz6lhnoJQSdcgWhNdA1Fu1KgcVjXWUptDFOfmBx1HHNKFH%7E4tKe9hTzBEUmLU6fxsV%7E0Vg2QX5vstsR0ayhHU5rlW-XxIw2P8GOEql611GEKPMBp4afzhcpBRZSigw3qSCgClyXG%7Et%7EsWH8tSedJjfxSkxePIsthnQjS59M%7E6IvtvIfd-VN%7EsKKhIbYVzA-s7tjGIF%7ET-1J7QhqsLkfAOH%7EJaBFAZxiLiV8qpjqLRbdoE-iF%7EXq0voV8TeOn9Dwu5FFMUn8Kgd0UEoWtLKA9uWWmVJTxqDj3aDMYHC%7EFWbfg__&Key-Pair-Id=KVTP0A1DKRTAX\n",
            "\u001b[35m[\u001b[0m#ff0ecc 8.6GiB/8.8GiB\u001b[36m(98%)\u001b[0m CN:16 DL:\u001b[32m121MiB\u001b[0m ETA:\u001b[33m1s\u001b[0m\u001b[35m]\u001b[0m\u001b[0m\n",
            "06/15 05:46:29 [\u001b[1;32mNOTICE\u001b[0m] CUID#11 - Redirecting to https://cdn-lfs.huggingface.co/repos/a3/72/a37288fd25de45b6a8bbb79801907289f6c12bb870db68f75b0024193da1f047/c5c794d3106945f514b5501904506485377c95ce2cef030373c7cbe7459ef610?response-content-disposition=attachment%3B+filename*%3DUTF-8%27%27pytorch_model-00009-of-00009.bin%3B+filename%3D%22pytorch_model-00009-of-00009.bin%22%3B&response-content-type=application%2Foctet-stream&Expires=1687067190&Policy=eyJTdGF0ZW1lbnQiOlt7IlJlc291cmNlIjoiaHR0cHM6Ly9jZG4tbGZzLmh1Z2dpbmdmYWNlLmNvL3JlcG9zL2EzLzcyL2EzNzI4OGZkMjVkZTQ1YjZhOGJiYjc5ODAxOTA3Mjg5ZjZjMTJiYjg3MGRiNjhmNzViMDAyNDE5M2RhMWYwNDcvYzVjNzk0ZDMxMDY5NDVmNTE0YjU1MDE5MDQ1MDY0ODUzNzdjOTVjZTJjZWYwMzAzNzNjN2NiZTc0NTllZjYxMD9yZXNwb25zZS1jb250ZW50LWRpc3Bvc2l0aW9uPSomcmVzcG9uc2UtY29udGVudC10eXBlPSoiLCJDb25kaXRpb24iOnsiRGF0ZUxlc3NUaGFuIjp7IkFXUzpFcG9jaFRpbWUiOjE2ODcwNjcxOTB9fX1dfQ__&Signature=rnnvKrPPYc1utoJMcRJlCn3SEmiAioErijEfLVMYmoOVlIlBvKvvFw7JFfcZrWQSwgMycT33MFhdSZJawkhnwDJu1tLNFLYRRTv-HPJU-lj%7EX5VzjjMDQIVM7dzJhiVzwi1cW7z87tasBPhKwMbCPJzixXusyzEunuZtikiPcgQ-WtHoRbI8fQyINOuM4y4far7v6wQ4azs1JwQGHa%7E0ge7fZfNoAUnK1Tpt850K5%7ESLnmVMwH6E3S3FBbITWlx05W4oqJXd-4TIp3tPnYzSDLxffOq9rCYCsHzmurfXbBvmMlKRkCyn8PgwTqqGWF-iFyL1NZHWhFkmTO2av3UW7w__&Key-Pair-Id=KVTP0A1DKRTAX\n",
            "\n",
            "06/15 05:46:29 [\u001b[1;32mNOTICE\u001b[0m] CUID#12 - Redirecting to https://cdn-lfs.huggingface.co/repos/a3/72/a37288fd25de45b6a8bbb79801907289f6c12bb870db68f75b0024193da1f047/c5c794d3106945f514b5501904506485377c95ce2cef030373c7cbe7459ef610?response-content-disposition=attachment%3B+filename*%3DUTF-8%27%27pytorch_model-00009-of-00009.bin%3B+filename%3D%22pytorch_model-00009-of-00009.bin%22%3B&response-content-type=application%2Foctet-stream&Expires=1687067190&Policy=eyJTdGF0ZW1lbnQiOlt7IlJlc291cmNlIjoiaHR0cHM6Ly9jZG4tbGZzLmh1Z2dpbmdmYWNlLmNvL3JlcG9zL2EzLzcyL2EzNzI4OGZkMjVkZTQ1YjZhOGJiYjc5ODAxOTA3Mjg5ZjZjMTJiYjg3MGRiNjhmNzViMDAyNDE5M2RhMWYwNDcvYzVjNzk0ZDMxMDY5NDVmNTE0YjU1MDE5MDQ1MDY0ODUzNzdjOTVjZTJjZWYwMzAzNzNjN2NiZTc0NTllZjYxMD9yZXNwb25zZS1jb250ZW50LWRpc3Bvc2l0aW9uPSomcmVzcG9uc2UtY29udGVudC10eXBlPSoiLCJDb25kaXRpb24iOnsiRGF0ZUxlc3NUaGFuIjp7IkFXUzpFcG9jaFRpbWUiOjE2ODcwNjcxOTB9fX1dfQ__&Signature=rnnvKrPPYc1utoJMcRJlCn3SEmiAioErijEfLVMYmoOVlIlBvKvvFw7JFfcZrWQSwgMycT33MFhdSZJawkhnwDJu1tLNFLYRRTv-HPJU-lj%7EX5VzjjMDQIVM7dzJhiVzwi1cW7z87tasBPhKwMbCPJzixXusyzEunuZtikiPcgQ-WtHoRbI8fQyINOuM4y4far7v6wQ4azs1JwQGHa%7E0ge7fZfNoAUnK1Tpt850K5%7ESLnmVMwH6E3S3FBbITWlx05W4oqJXd-4TIp3tPnYzSDLxffOq9rCYCsHzmurfXbBvmMlKRkCyn8PgwTqqGWF-iFyL1NZHWhFkmTO2av3UW7w__&Key-Pair-Id=KVTP0A1DKRTAX\n",
            "\n",
            "06/15 05:46:29 [\u001b[1;32mNOTICE\u001b[0m] CUID#19 - Redirecting to https://cdn-lfs.huggingface.co/repos/a3/72/a37288fd25de45b6a8bbb79801907289f6c12bb870db68f75b0024193da1f047/c5c794d3106945f514b5501904506485377c95ce2cef030373c7cbe7459ef610?response-content-disposition=attachment%3B+filename*%3DUTF-8%27%27pytorch_model-00009-of-00009.bin%3B+filename%3D%22pytorch_model-00009-of-00009.bin%22%3B&response-content-type=application%2Foctet-stream&Expires=1687067190&Policy=eyJTdGF0ZW1lbnQiOlt7IlJlc291cmNlIjoiaHR0cHM6Ly9jZG4tbGZzLmh1Z2dpbmdmYWNlLmNvL3JlcG9zL2EzLzcyL2EzNzI4OGZkMjVkZTQ1YjZhOGJiYjc5ODAxOTA3Mjg5ZjZjMTJiYjg3MGRiNjhmNzViMDAyNDE5M2RhMWYwNDcvYzVjNzk0ZDMxMDY5NDVmNTE0YjU1MDE5MDQ1MDY0ODUzNzdjOTVjZTJjZWYwMzAzNzNjN2NiZTc0NTllZjYxMD9yZXNwb25zZS1jb250ZW50LWRpc3Bvc2l0aW9uPSomcmVzcG9uc2UtY29udGVudC10eXBlPSoiLCJDb25kaXRpb24iOnsiRGF0ZUxlc3NUaGFuIjp7IkFXUzpFcG9jaFRpbWUiOjE2ODcwNjcxOTB9fX1dfQ__&Signature=rnnvKrPPYc1utoJMcRJlCn3SEmiAioErijEfLVMYmoOVlIlBvKvvFw7JFfcZrWQSwgMycT33MFhdSZJawkhnwDJu1tLNFLYRRTv-HPJU-lj%7EX5VzjjMDQIVM7dzJhiVzwi1cW7z87tasBPhKwMbCPJzixXusyzEunuZtikiPcgQ-WtHoRbI8fQyINOuM4y4far7v6wQ4azs1JwQGHa%7E0ge7fZfNoAUnK1Tpt850K5%7ESLnmVMwH6E3S3FBbITWlx05W4oqJXd-4TIp3tPnYzSDLxffOq9rCYCsHzmurfXbBvmMlKRkCyn8PgwTqqGWF-iFyL1NZHWhFkmTO2av3UW7w__&Key-Pair-Id=KVTP0A1DKRTAX\n",
            "\n",
            "06/15 05:46:29 [\u001b[1;32mNOTICE\u001b[0m] CUID#16 - Redirecting to https://cdn-lfs.huggingface.co/repos/a3/72/a37288fd25de45b6a8bbb79801907289f6c12bb870db68f75b0024193da1f047/c5c794d3106945f514b5501904506485377c95ce2cef030373c7cbe7459ef610?response-content-disposition=attachment%3B+filename*%3DUTF-8%27%27pytorch_model-00009-of-00009.bin%3B+filename%3D%22pytorch_model-00009-of-00009.bin%22%3B&response-content-type=application%2Foctet-stream&Expires=1687067190&Policy=eyJTdGF0ZW1lbnQiOlt7IlJlc291cmNlIjoiaHR0cHM6Ly9jZG4tbGZzLmh1Z2dpbmdmYWNlLmNvL3JlcG9zL2EzLzcyL2EzNzI4OGZkMjVkZTQ1YjZhOGJiYjc5ODAxOTA3Mjg5ZjZjMTJiYjg3MGRiNjhmNzViMDAyNDE5M2RhMWYwNDcvYzVjNzk0ZDMxMDY5NDVmNTE0YjU1MDE5MDQ1MDY0ODUzNzdjOTVjZTJjZWYwMzAzNzNjN2NiZTc0NTllZjYxMD9yZXNwb25zZS1jb250ZW50LWRpc3Bvc2l0aW9uPSomcmVzcG9uc2UtY29udGVudC10eXBlPSoiLCJDb25kaXRpb24iOnsiRGF0ZUxlc3NUaGFuIjp7IkFXUzpFcG9jaFRpbWUiOjE2ODcwNjcxOTB9fX1dfQ__&Signature=rnnvKrPPYc1utoJMcRJlCn3SEmiAioErijEfLVMYmoOVlIlBvKvvFw7JFfcZrWQSwgMycT33MFhdSZJawkhnwDJu1tLNFLYRRTv-HPJU-lj%7EX5VzjjMDQIVM7dzJhiVzwi1cW7z87tasBPhKwMbCPJzixXusyzEunuZtikiPcgQ-WtHoRbI8fQyINOuM4y4far7v6wQ4azs1JwQGHa%7E0ge7fZfNoAUnK1Tpt850K5%7ESLnmVMwH6E3S3FBbITWlx05W4oqJXd-4TIp3tPnYzSDLxffOq9rCYCsHzmurfXbBvmMlKRkCyn8PgwTqqGWF-iFyL1NZHWhFkmTO2av3UW7w__&Key-Pair-Id=KVTP0A1DKRTAX\n",
            "\n",
            "06/15 05:46:29 [\u001b[1;32mNOTICE\u001b[0m] CUID#18 - Redirecting to https://cdn-lfs.huggingface.co/repos/a3/72/a37288fd25de45b6a8bbb79801907289f6c12bb870db68f75b0024193da1f047/c5c794d3106945f514b5501904506485377c95ce2cef030373c7cbe7459ef610?response-content-disposition=attachment%3B+filename*%3DUTF-8%27%27pytorch_model-00009-of-00009.bin%3B+filename%3D%22pytorch_model-00009-of-00009.bin%22%3B&response-content-type=application%2Foctet-stream&Expires=1687067190&Policy=eyJTdGF0ZW1lbnQiOlt7IlJlc291cmNlIjoiaHR0cHM6Ly9jZG4tbGZzLmh1Z2dpbmdmYWNlLmNvL3JlcG9zL2EzLzcyL2EzNzI4OGZkMjVkZTQ1YjZhOGJiYjc5ODAxOTA3Mjg5ZjZjMTJiYjg3MGRiNjhmNzViMDAyNDE5M2RhMWYwNDcvYzVjNzk0ZDMxMDY5NDVmNTE0YjU1MDE5MDQ1MDY0ODUzNzdjOTVjZTJjZWYwMzAzNzNjN2NiZTc0NTllZjYxMD9yZXNwb25zZS1jb250ZW50LWRpc3Bvc2l0aW9uPSomcmVzcG9uc2UtY29udGVudC10eXBlPSoiLCJDb25kaXRpb24iOnsiRGF0ZUxlc3NUaGFuIjp7IkFXUzpFcG9jaFRpbWUiOjE2ODcwNjcxOTB9fX1dfQ__&Signature=rnnvKrPPYc1utoJMcRJlCn3SEmiAioErijEfLVMYmoOVlIlBvKvvFw7JFfcZrWQSwgMycT33MFhdSZJawkhnwDJu1tLNFLYRRTv-HPJU-lj%7EX5VzjjMDQIVM7dzJhiVzwi1cW7z87tasBPhKwMbCPJzixXusyzEunuZtikiPcgQ-WtHoRbI8fQyINOuM4y4far7v6wQ4azs1JwQGHa%7E0ge7fZfNoAUnK1Tpt850K5%7ESLnmVMwH6E3S3FBbITWlx05W4oqJXd-4TIp3tPnYzSDLxffOq9rCYCsHzmurfXbBvmMlKRkCyn8PgwTqqGWF-iFyL1NZHWhFkmTO2av3UW7w__&Key-Pair-Id=KVTP0A1DKRTAX\n",
            "\n",
            "06/15 05:46:29 [\u001b[1;32mNOTICE\u001b[0m] CUID#23 - Redirecting to https://cdn-lfs.huggingface.co/repos/a3/72/a37288fd25de45b6a8bbb79801907289f6c12bb870db68f75b0024193da1f047/c5c794d3106945f514b5501904506485377c95ce2cef030373c7cbe7459ef610?response-content-disposition=attachment%3B+filename*%3DUTF-8%27%27pytorch_model-00009-of-00009.bin%3B+filename%3D%22pytorch_model-00009-of-00009.bin%22%3B&response-content-type=application%2Foctet-stream&Expires=1687067190&Policy=eyJTdGF0ZW1lbnQiOlt7IlJlc291cmNlIjoiaHR0cHM6Ly9jZG4tbGZzLmh1Z2dpbmdmYWNlLmNvL3JlcG9zL2EzLzcyL2EzNzI4OGZkMjVkZTQ1YjZhOGJiYjc5ODAxOTA3Mjg5ZjZjMTJiYjg3MGRiNjhmNzViMDAyNDE5M2RhMWYwNDcvYzVjNzk0ZDMxMDY5NDVmNTE0YjU1MDE5MDQ1MDY0ODUzNzdjOTVjZTJjZWYwMzAzNzNjN2NiZTc0NTllZjYxMD9yZXNwb25zZS1jb250ZW50LWRpc3Bvc2l0aW9uPSomcmVzcG9uc2UtY29udGVudC10eXBlPSoiLCJDb25kaXRpb24iOnsiRGF0ZUxlc3NUaGFuIjp7IkFXUzpFcG9jaFRpbWUiOjE2ODcwNjcxOTB9fX1dfQ__&Signature=rnnvKrPPYc1utoJMcRJlCn3SEmiAioErijEfLVMYmoOVlIlBvKvvFw7JFfcZrWQSwgMycT33MFhdSZJawkhnwDJu1tLNFLYRRTv-HPJU-lj%7EX5VzjjMDQIVM7dzJhiVzwi1cW7z87tasBPhKwMbCPJzixXusyzEunuZtikiPcgQ-WtHoRbI8fQyINOuM4y4far7v6wQ4azs1JwQGHa%7E0ge7fZfNoAUnK1Tpt850K5%7ESLnmVMwH6E3S3FBbITWlx05W4oqJXd-4TIp3tPnYzSDLxffOq9rCYCsHzmurfXbBvmMlKRkCyn8PgwTqqGWF-iFyL1NZHWhFkmTO2av3UW7w__&Key-Pair-Id=KVTP0A1DKRTAX\n",
            "\u001b[35m[\u001b[0m#6c82e1 8.1GiB/8.8GiB\u001b[36m(91%)\u001b[0m CN:16 DL:\u001b[32m140MiB\u001b[0m ETA:\u001b[33m5s\u001b[0m\u001b[35m]\u001b[0m\u001b[0m\n",
            "06/15 05:46:29 [\u001b[1;32mNOTICE\u001b[0m] CUID#10 - Redirecting to https://cdn-lfs.huggingface.co/repos/a3/72/a37288fd25de45b6a8bbb79801907289f6c12bb870db68f75b0024193da1f047/c5c794d3106945f514b5501904506485377c95ce2cef030373c7cbe7459ef610?response-content-disposition=attachment%3B+filename*%3DUTF-8%27%27pytorch_model-00009-of-00009.bin%3B+filename%3D%22pytorch_model-00009-of-00009.bin%22%3B&response-content-type=application%2Foctet-stream&Expires=1687067190&Policy=eyJTdGF0ZW1lbnQiOlt7IlJlc291cmNlIjoiaHR0cHM6Ly9jZG4tbGZzLmh1Z2dpbmdmYWNlLmNvL3JlcG9zL2EzLzcyL2EzNzI4OGZkMjVkZTQ1YjZhOGJiYjc5ODAxOTA3Mjg5ZjZjMTJiYjg3MGRiNjhmNzViMDAyNDE5M2RhMWYwNDcvYzVjNzk0ZDMxMDY5NDVmNTE0YjU1MDE5MDQ1MDY0ODUzNzdjOTVjZTJjZWYwMzAzNzNjN2NiZTc0NTllZjYxMD9yZXNwb25zZS1jb250ZW50LWRpc3Bvc2l0aW9uPSomcmVzcG9uc2UtY29udGVudC10eXBlPSoiLCJDb25kaXRpb24iOnsiRGF0ZUxlc3NUaGFuIjp7IkFXUzpFcG9jaFRpbWUiOjE2ODcwNjcxOTB9fX1dfQ__&Signature=rnnvKrPPYc1utoJMcRJlCn3SEmiAioErijEfLVMYmoOVlIlBvKvvFw7JFfcZrWQSwgMycT33MFhdSZJawkhnwDJu1tLNFLYRRTv-HPJU-lj%7EX5VzjjMDQIVM7dzJhiVzwi1cW7z87tasBPhKwMbCPJzixXusyzEunuZtikiPcgQ-WtHoRbI8fQyINOuM4y4far7v6wQ4azs1JwQGHa%7E0ge7fZfNoAUnK1Tpt850K5%7ESLnmVMwH6E3S3FBbITWlx05W4oqJXd-4TIp3tPnYzSDLxffOq9rCYCsHzmurfXbBvmMlKRkCyn8PgwTqqGWF-iFyL1NZHWhFkmTO2av3UW7w__&Key-Pair-Id=KVTP0A1DKRTAX\n",
            "\n",
            "06/15 05:46:29 [\u001b[1;32mNOTICE\u001b[0m] CUID#14 - Redirecting to https://cdn-lfs.huggingface.co/repos/a3/72/a37288fd25de45b6a8bbb79801907289f6c12bb870db68f75b0024193da1f047/c5c794d3106945f514b5501904506485377c95ce2cef030373c7cbe7459ef610?response-content-disposition=attachment%3B+filename*%3DUTF-8%27%27pytorch_model-00009-of-00009.bin%3B+filename%3D%22pytorch_model-00009-of-00009.bin%22%3B&response-content-type=application%2Foctet-stream&Expires=1687067190&Policy=eyJTdGF0ZW1lbnQiOlt7IlJlc291cmNlIjoiaHR0cHM6Ly9jZG4tbGZzLmh1Z2dpbmdmYWNlLmNvL3JlcG9zL2EzLzcyL2EzNzI4OGZkMjVkZTQ1YjZhOGJiYjc5ODAxOTA3Mjg5ZjZjMTJiYjg3MGRiNjhmNzViMDAyNDE5M2RhMWYwNDcvYzVjNzk0ZDMxMDY5NDVmNTE0YjU1MDE5MDQ1MDY0ODUzNzdjOTVjZTJjZWYwMzAzNzNjN2NiZTc0NTllZjYxMD9yZXNwb25zZS1jb250ZW50LWRpc3Bvc2l0aW9uPSomcmVzcG9uc2UtY29udGVudC10eXBlPSoiLCJDb25kaXRpb24iOnsiRGF0ZUxlc3NUaGFuIjp7IkFXUzpFcG9jaFRpbWUiOjE2ODcwNjcxOTB9fX1dfQ__&Signature=rnnvKrPPYc1utoJMcRJlCn3SEmiAioErijEfLVMYmoOVlIlBvKvvFw7JFfcZrWQSwgMycT33MFhdSZJawkhnwDJu1tLNFLYRRTv-HPJU-lj%7EX5VzjjMDQIVM7dzJhiVzwi1cW7z87tasBPhKwMbCPJzixXusyzEunuZtikiPcgQ-WtHoRbI8fQyINOuM4y4far7v6wQ4azs1JwQGHa%7E0ge7fZfNoAUnK1Tpt850K5%7ESLnmVMwH6E3S3FBbITWlx05W4oqJXd-4TIp3tPnYzSDLxffOq9rCYCsHzmurfXbBvmMlKRkCyn8PgwTqqGWF-iFyL1NZHWhFkmTO2av3UW7w__&Key-Pair-Id=KVTP0A1DKRTAX\n",
            "\n",
            "06/15 05:46:29 [\u001b[1;32mNOTICE\u001b[0m] CUID#17 - Redirecting to https://cdn-lfs.huggingface.co/repos/a3/72/a37288fd25de45b6a8bbb79801907289f6c12bb870db68f75b0024193da1f047/c5c794d3106945f514b5501904506485377c95ce2cef030373c7cbe7459ef610?response-content-disposition=attachment%3B+filename*%3DUTF-8%27%27pytorch_model-00009-of-00009.bin%3B+filename%3D%22pytorch_model-00009-of-00009.bin%22%3B&response-content-type=application%2Foctet-stream&Expires=1687067188&Policy=eyJTdGF0ZW1lbnQiOlt7IlJlc291cmNlIjoiaHR0cHM6Ly9jZG4tbGZzLmh1Z2dpbmdmYWNlLmNvL3JlcG9zL2EzLzcyL2EzNzI4OGZkMjVkZTQ1YjZhOGJiYjc5ODAxOTA3Mjg5ZjZjMTJiYjg3MGRiNjhmNzViMDAyNDE5M2RhMWYwNDcvYzVjNzk0ZDMxMDY5NDVmNTE0YjU1MDE5MDQ1MDY0ODUzNzdjOTVjZTJjZWYwMzAzNzNjN2NiZTc0NTllZjYxMD9yZXNwb25zZS1jb250ZW50LWRpc3Bvc2l0aW9uPSomcmVzcG9uc2UtY29udGVudC10eXBlPSoiLCJDb25kaXRpb24iOnsiRGF0ZUxlc3NUaGFuIjp7IkFXUzpFcG9jaFRpbWUiOjE2ODcwNjcxODh9fX1dfQ__&Signature=yDAPYPdqfLJ8dWUnVdhAWkwKAS9HRQd07katx7%7EsU2Doi9A-LhFwAmMzjlAUdzPwj39IVOTAvaUG291LgFuj7mPlYDLu4B0YQyQEDFzHdSunvh6L1vvf5wDyky4YX9tYEeVe8wcQGQPmBA20eALe%7ERAOKcLE2Ucwu3jyTAsJqu1HkX-UbGgm8MpYmrUpXEUQu3pDhRHA80HwgOm7ZglXEOjHR1isvsj6f2w--biGdFkNpJNN4Y5Td0rZ70MenMlFhlUHAV0ar0zkmsPLRewHA29A3h9jumllYOHyOouSM2Wdjs6ne3xORcr2IuHB%7EwstPluUTahgtS2GHLRtL5fNcQ__&Key-Pair-Id=KVTP0A1DKRTAX\n",
            "\n",
            "06/15 05:46:29 [\u001b[1;32mNOTICE\u001b[0m] CUID#15 - Redirecting to https://cdn-lfs.huggingface.co/repos/a3/72/a37288fd25de45b6a8bbb79801907289f6c12bb870db68f75b0024193da1f047/c5c794d3106945f514b5501904506485377c95ce2cef030373c7cbe7459ef610?response-content-disposition=attachment%3B+filename*%3DUTF-8%27%27pytorch_model-00009-of-00009.bin%3B+filename%3D%22pytorch_model-00009-of-00009.bin%22%3B&response-content-type=application%2Foctet-stream&Expires=1687067190&Policy=eyJTdGF0ZW1lbnQiOlt7IlJlc291cmNlIjoiaHR0cHM6Ly9jZG4tbGZzLmh1Z2dpbmdmYWNlLmNvL3JlcG9zL2EzLzcyL2EzNzI4OGZkMjVkZTQ1YjZhOGJiYjc5ODAxOTA3Mjg5ZjZjMTJiYjg3MGRiNjhmNzViMDAyNDE5M2RhMWYwNDcvYzVjNzk0ZDMxMDY5NDVmNTE0YjU1MDE5MDQ1MDY0ODUzNzdjOTVjZTJjZWYwMzAzNzNjN2NiZTc0NTllZjYxMD9yZXNwb25zZS1jb250ZW50LWRpc3Bvc2l0aW9uPSomcmVzcG9uc2UtY29udGVudC10eXBlPSoiLCJDb25kaXRpb24iOnsiRGF0ZUxlc3NUaGFuIjp7IkFXUzpFcG9jaFRpbWUiOjE2ODcwNjcxOTB9fX1dfQ__&Signature=rnnvKrPPYc1utoJMcRJlCn3SEmiAioErijEfLVMYmoOVlIlBvKvvFw7JFfcZrWQSwgMycT33MFhdSZJawkhnwDJu1tLNFLYRRTv-HPJU-lj%7EX5VzjjMDQIVM7dzJhiVzwi1cW7z87tasBPhKwMbCPJzixXusyzEunuZtikiPcgQ-WtHoRbI8fQyINOuM4y4far7v6wQ4azs1JwQGHa%7E0ge7fZfNoAUnK1Tpt850K5%7ESLnmVMwH6E3S3FBbITWlx05W4oqJXd-4TIp3tPnYzSDLxffOq9rCYCsHzmurfXbBvmMlKRkCyn8PgwTqqGWF-iFyL1NZHWhFkmTO2av3UW7w__&Key-Pair-Id=KVTP0A1DKRTAX\n",
            "\n",
            "06/15 05:46:29 [\u001b[1;32mNOTICE\u001b[0m] CUID#21 - Redirecting to https://cdn-lfs.huggingface.co/repos/a3/72/a37288fd25de45b6a8bbb79801907289f6c12bb870db68f75b0024193da1f047/c5c794d3106945f514b5501904506485377c95ce2cef030373c7cbe7459ef610?response-content-disposition=attachment%3B+filename*%3DUTF-8%27%27pytorch_model-00009-of-00009.bin%3B+filename%3D%22pytorch_model-00009-of-00009.bin%22%3B&response-content-type=application%2Foctet-stream&Expires=1687067189&Policy=eyJTdGF0ZW1lbnQiOlt7IlJlc291cmNlIjoiaHR0cHM6Ly9jZG4tbGZzLmh1Z2dpbmdmYWNlLmNvL3JlcG9zL2EzLzcyL2EzNzI4OGZkMjVkZTQ1YjZhOGJiYjc5ODAxOTA3Mjg5ZjZjMTJiYjg3MGRiNjhmNzViMDAyNDE5M2RhMWYwNDcvYzVjNzk0ZDMxMDY5NDVmNTE0YjU1MDE5MDQ1MDY0ODUzNzdjOTVjZTJjZWYwMzAzNzNjN2NiZTc0NTllZjYxMD9yZXNwb25zZS1jb250ZW50LWRpc3Bvc2l0aW9uPSomcmVzcG9uc2UtY29udGVudC10eXBlPSoiLCJDb25kaXRpb24iOnsiRGF0ZUxlc3NUaGFuIjp7IkFXUzpFcG9jaFRpbWUiOjE2ODcwNjcxODl9fX1dfQ__&Signature=BZ%7EbarCiBcbWJfCYM8eD11-NQ9p%7EQzs2U9y6XdgQDlwz6lhnoJQSdcgWhNdA1Fu1KgcVjXWUptDFOfmBx1HHNKFH%7E4tKe9hTzBEUmLU6fxsV%7E0Vg2QX5vstsR0ayhHU5rlW-XxIw2P8GOEql611GEKPMBp4afzhcpBRZSigw3qSCgClyXG%7Et%7EsWH8tSedJjfxSkxePIsthnQjS59M%7E6IvtvIfd-VN%7EsKKhIbYVzA-s7tjGIF%7ET-1J7QhqsLkfAOH%7EJaBFAZxiLiV8qpjqLRbdoE-iF%7EXq0voV8TeOn9Dwu5FFMUn8Kgd0UEoWtLKA9uWWmVJTxqDj3aDMYHC%7EFWbfg__&Key-Pair-Id=KVTP0A1DKRTAX\n",
            "\n",
            "06/15 05:46:29 [\u001b[1;32mNOTICE\u001b[0m] CUID#22 - Redirecting to https://cdn-lfs.huggingface.co/repos/a3/72/a37288fd25de45b6a8bbb79801907289f6c12bb870db68f75b0024193da1f047/c5c794d3106945f514b5501904506485377c95ce2cef030373c7cbe7459ef610?response-content-disposition=attachment%3B+filename*%3DUTF-8%27%27pytorch_model-00009-of-00009.bin%3B+filename%3D%22pytorch_model-00009-of-00009.bin%22%3B&response-content-type=application%2Foctet-stream&Expires=1687067189&Policy=eyJTdGF0ZW1lbnQiOlt7IlJlc291cmNlIjoiaHR0cHM6Ly9jZG4tbGZzLmh1Z2dpbmdmYWNlLmNvL3JlcG9zL2EzLzcyL2EzNzI4OGZkMjVkZTQ1YjZhOGJiYjc5ODAxOTA3Mjg5ZjZjMTJiYjg3MGRiNjhmNzViMDAyNDE5M2RhMWYwNDcvYzVjNzk0ZDMxMDY5NDVmNTE0YjU1MDE5MDQ1MDY0ODUzNzdjOTVjZTJjZWYwMzAzNzNjN2NiZTc0NTllZjYxMD9yZXNwb25zZS1jb250ZW50LWRpc3Bvc2l0aW9uPSomcmVzcG9uc2UtY29udGVudC10eXBlPSoiLCJDb25kaXRpb24iOnsiRGF0ZUxlc3NUaGFuIjp7IkFXUzpFcG9jaFRpbWUiOjE2ODcwNjcxODl9fX1dfQ__&Signature=BZ%7EbarCiBcbWJfCYM8eD11-NQ9p%7EQzs2U9y6XdgQDlwz6lhnoJQSdcgWhNdA1Fu1KgcVjXWUptDFOfmBx1HHNKFH%7E4tKe9hTzBEUmLU6fxsV%7E0Vg2QX5vstsR0ayhHU5rlW-XxIw2P8GOEql611GEKPMBp4afzhcpBRZSigw3qSCgClyXG%7Et%7EsWH8tSedJjfxSkxePIsthnQjS59M%7E6IvtvIfd-VN%7EsKKhIbYVzA-s7tjGIF%7ET-1J7QhqsLkfAOH%7EJaBFAZxiLiV8qpjqLRbdoE-iF%7EXq0voV8TeOn9Dwu5FFMUn8Kgd0UEoWtLKA9uWWmVJTxqDj3aDMYHC%7EFWbfg__&Key-Pair-Id=KVTP0A1DKRTAX\n",
            "\n",
            "06/15 05:46:29 [\u001b[1;32mNOTICE\u001b[0m] CUID#13 - Redirecting to https://cdn-lfs.huggingface.co/repos/a3/72/a37288fd25de45b6a8bbb79801907289f6c12bb870db68f75b0024193da1f047/c5c794d3106945f514b5501904506485377c95ce2cef030373c7cbe7459ef610?response-content-disposition=attachment%3B+filename*%3DUTF-8%27%27pytorch_model-00009-of-00009.bin%3B+filename%3D%22pytorch_model-00009-of-00009.bin%22%3B&response-content-type=application%2Foctet-stream&Expires=1687067188&Policy=eyJTdGF0ZW1lbnQiOlt7IlJlc291cmNlIjoiaHR0cHM6Ly9jZG4tbGZzLmh1Z2dpbmdmYWNlLmNvL3JlcG9zL2EzLzcyL2EzNzI4OGZkMjVkZTQ1YjZhOGJiYjc5ODAxOTA3Mjg5ZjZjMTJiYjg3MGRiNjhmNzViMDAyNDE5M2RhMWYwNDcvYzVjNzk0ZDMxMDY5NDVmNTE0YjU1MDE5MDQ1MDY0ODUzNzdjOTVjZTJjZWYwMzAzNzNjN2NiZTc0NTllZjYxMD9yZXNwb25zZS1jb250ZW50LWRpc3Bvc2l0aW9uPSomcmVzcG9uc2UtY29udGVudC10eXBlPSoiLCJDb25kaXRpb24iOnsiRGF0ZUxlc3NUaGFuIjp7IkFXUzpFcG9jaFRpbWUiOjE2ODcwNjcxODh9fX1dfQ__&Signature=yDAPYPdqfLJ8dWUnVdhAWkwKAS9HRQd07katx7%7EsU2Doi9A-LhFwAmMzjlAUdzPwj39IVOTAvaUG291LgFuj7mPlYDLu4B0YQyQEDFzHdSunvh6L1vvf5wDyky4YX9tYEeVe8wcQGQPmBA20eALe%7ERAOKcLE2Ucwu3jyTAsJqu1HkX-UbGgm8MpYmrUpXEUQu3pDhRHA80HwgOm7ZglXEOjHR1isvsj6f2w--biGdFkNpJNN4Y5Td0rZ70MenMlFhlUHAV0ar0zkmsPLRewHA29A3h9jumllYOHyOouSM2Wdjs6ne3xORcr2IuHB%7EwstPluUTahgtS2GHLRtL5fNcQ__&Key-Pair-Id=KVTP0A1DKRTAX\n",
            "\u001b[35m[\u001b[0m#082585 8.7GiB/8.8GiB\u001b[36m(98%)\u001b[0m CN:16 DL:\u001b[32m126MiB\u001b[0m ETA:\u001b[33m1s\u001b[0m\u001b[35m]\u001b[0m\u001b[0m\n",
            "06/15 05:46:30 [\u001b[1;32mNOTICE\u001b[0m] CUID#20 - Redirecting to https://cdn-lfs.huggingface.co/repos/a3/72/a37288fd25de45b6a8bbb79801907289f6c12bb870db68f75b0024193da1f047/c5c794d3106945f514b5501904506485377c95ce2cef030373c7cbe7459ef610?response-content-disposition=attachment%3B+filename*%3DUTF-8%27%27pytorch_model-00009-of-00009.bin%3B+filename%3D%22pytorch_model-00009-of-00009.bin%22%3B&response-content-type=application%2Foctet-stream&Expires=1687067190&Policy=eyJTdGF0ZW1lbnQiOlt7IlJlc291cmNlIjoiaHR0cHM6Ly9jZG4tbGZzLmh1Z2dpbmdmYWNlLmNvL3JlcG9zL2EzLzcyL2EzNzI4OGZkMjVkZTQ1YjZhOGJiYjc5ODAxOTA3Mjg5ZjZjMTJiYjg3MGRiNjhmNzViMDAyNDE5M2RhMWYwNDcvYzVjNzk0ZDMxMDY5NDVmNTE0YjU1MDE5MDQ1MDY0ODUzNzdjOTVjZTJjZWYwMzAzNzNjN2NiZTc0NTllZjYxMD9yZXNwb25zZS1jb250ZW50LWRpc3Bvc2l0aW9uPSomcmVzcG9uc2UtY29udGVudC10eXBlPSoiLCJDb25kaXRpb24iOnsiRGF0ZUxlc3NUaGFuIjp7IkFXUzpFcG9jaFRpbWUiOjE2ODcwNjcxOTB9fX1dfQ__&Signature=rnnvKrPPYc1utoJMcRJlCn3SEmiAioErijEfLVMYmoOVlIlBvKvvFw7JFfcZrWQSwgMycT33MFhdSZJawkhnwDJu1tLNFLYRRTv-HPJU-lj%7EX5VzjjMDQIVM7dzJhiVzwi1cW7z87tasBPhKwMbCPJzixXusyzEunuZtikiPcgQ-WtHoRbI8fQyINOuM4y4far7v6wQ4azs1JwQGHa%7E0ge7fZfNoAUnK1Tpt850K5%7ESLnmVMwH6E3S3FBbITWlx05W4oqJXd-4TIp3tPnYzSDLxffOq9rCYCsHzmurfXbBvmMlKRkCyn8PgwTqqGWF-iFyL1NZHWhFkmTO2av3UW7w__&Key-Pair-Id=KVTP0A1DKRTAX\n",
            "\u001b[35m[\u001b[0m#6c82e1 8.8GiB/8.8GiB\u001b[36m(99%)\u001b[0m CN:6 DL:\u001b[32m163MiB\u001b[0m\u001b[35m]\u001b[0m\u001b[0mm[0m\u001b[35m]\u001b[0m\u001b[0m0m\n",
            "06/15 05:46:34 [\u001b[1;32mNOTICE\u001b[0m] Download complete: models/tiiuae_falcon-40b/pytorch_model-00004-of-00009.bin\n",
            "\n",
            "Download Results:\n",
            "gid   |stat|avg speed  |path/URI\n",
            "======+====+===========+=======================================================\n",
            "6eb087|\u001b[1;32mOK\u001b[0m  |   109MiB/s|models/tiiuae_falcon-40b/pytorch_model-00004-of-00009.bin\n",
            "\n",
            "Status Legend:\n",
            "(OK):download completed.\n",
            "Running: aria2c -c -x 16 -s 16 -k 1M https://huggingface.co/tiiuae/falcon-40b/resolve/main/pytorch_model.bin.index.json -d models/tiiuae_falcon-40b -o pytorch_model.bin.index.json\n",
            "\n",
            "06/15 05:46:34 [\u001b[1;32mNOTICE\u001b[0m] Downloading 1 item(s)\n",
            "\n",
            "06/15 05:46:34 [\u001b[1;32mNOTICE\u001b[0m] Download complete: models/tiiuae_falcon-40b/pytorch_model-00002-of-00009.bin\n",
            "\n",
            "Download Results:\n",
            "gid   |stat|avg speed  |path/URI\n",
            "======+====+===========+=======================================================\n",
            "ff0ecc|\u001b[1;32mOK\u001b[0m  |   109MiB/s|models/tiiuae_falcon-40b/pytorch_model-00002-of-00009.bin\n",
            "\n",
            "Status Legend:\n",
            "(OK):download completed.\n",
            " 39%|█████████████████                           | 7/18 [01:25<02:15, 12.33s/it]Running: aria2c -c -x 16 -s 16 -k 1M https://huggingface.co/tiiuae/falcon-40b/resolve/main/special_tokens_map.json -d models/tiiuae_falcon-40b -o special_tokens_map.json\n",
            "\n",
            "06/15 05:46:34 [\u001b[1;32mNOTICE\u001b[0m] Downloading 1 item(s)\n",
            "\u001b[35m[\u001b[0m#77239b 1.2GiB/7.0GiB\u001b[36m(17%)\u001b[0m CN:16 DL:\u001b[32m254MiB\u001b[0m ETA:\u001b[33m23s\u001b[0m\u001b[35m]\u001b[0m\u001b[0m\n",
            "06/15 05:46:34 [\u001b[1;32mNOTICE\u001b[0m] Download complete: models/tiiuae_falcon-40b/pytorch_model-00003-of-00009.bin\n",
            "\n",
            "Download Results:\n",
            "gid   |stat|avg speed  |path/URI\n",
            "======+====+===========+=======================================================\n",
            "082585|\u001b[1;32mOK\u001b[0m  |   110MiB/s|models/tiiuae_falcon-40b/pytorch_model-00003-of-00009.bin\n",
            "\n",
            "Status Legend:\n",
            "(OK):download completed.\n",
            "Running: aria2c -c -x 16 -s 16 -k 1M https://huggingface.co/tiiuae/falcon-40b/resolve/main/tokenizer.json -d models/tiiuae_falcon-40b -o tokenizer.json\n",
            " 44%|███████████████████▌                        | 8/18 [01:25<01:36,  9.62s/it]\n",
            "06/15 05:46:34 [\u001b[1;32mNOTICE\u001b[0m] Downloading 1 item(s)\n",
            "\u001b[35m[\u001b[0m#2fc05d 8.8GiB/8.8GiB\u001b[36m(99%)\u001b[0m CN:2 DL:\u001b[32m124MiB\u001b[0m\u001b[35m]\u001b[0m\u001b[0m\n",
            "06/15 05:46:34 [\u001b[1;32mNOTICE\u001b[0m] Download complete: models/tiiuae_falcon-40b/pytorch_model-00008-of-00009.bin\n",
            "\n",
            "Download Results:\n",
            "gid   |stat|avg speed  |path/URI\n",
            "======+====+===========+=======================================================\n",
            "5defbd|\u001b[1;32mOK\u001b[0m  |   109MiB/s|models/tiiuae_falcon-40b/pytorch_model-00008-of-00009.bin\n",
            "\n",
            "Status Legend:\n",
            "(OK):download completed.\n",
            "Running: aria2c -c -x 16 -s 16 -k 1M https://huggingface.co/tiiuae/falcon-40b/resolve/main/tokenizer_config.json -d models/tiiuae_falcon-40b -o tokenizer_config.json\n",
            "\n",
            "06/15 05:46:34 [\u001b[1;32mNOTICE\u001b[0m] Downloading 1 item(s)\n",
            "\n",
            "06/15 05:46:34 [\u001b[1;32mNOTICE\u001b[0m] Download complete: models/tiiuae_falcon-40b/pytorch_model-00006-of-00009.bin\n",
            "\n",
            "Download Results:\n",
            "gid   |stat|avg speed  |path/URI\n",
            "======+====+===========+=======================================================\n",
            "d91592|\u001b[1;32mOK\u001b[0m  |   107MiB/s|models/tiiuae_falcon-40b/pytorch_model-00006-of-00009.bin\n",
            "\n",
            "Status Legend:\n",
            "(OK):download completed.\n",
            "\n",
            "06/15 05:46:35 [\u001b[1;32mNOTICE\u001b[0m] Download complete: models/tiiuae_falcon-40b/pytorch_model.bin.index.json\n",
            "\n",
            "Download Results:\n",
            "gid   |stat|avg speed  |path/URI\n",
            "======+====+===========+=======================================================\n",
            "57fae6|\u001b[1;32mOK\u001b[0m  |    74KiB/s|models/tiiuae_falcon-40b/pytorch_model.bin.index.json\n",
            "\n",
            "Status Legend:\n",
            "(OK):download completed.\n",
            "\u001b[35m[\u001b[0m#77239b 1.8GiB/7.0GiB\u001b[36m(25%)\u001b[0m CN:16 DL:\u001b[32m311MiB\u001b[0m ETA:\u001b[33m17s\u001b[0m\u001b[35m]\u001b[0m\u001b[0m\n",
            "06/15 05:46:35 [\u001b[1;32mNOTICE\u001b[0m] Download complete: models/tiiuae_falcon-40b/special_tokens_map.json\n",
            "\n",
            "Download Results:\n",
            "gid   |stat|avg speed  |path/URI\n",
            "======+====+===========+=======================================================\n",
            "76d008|\u001b[1;32mOK\u001b[0m  |     483B/s|models/tiiuae_falcon-40b/special_tokens_map.json\n",
            "\n",
            "Status Legend:\n",
            "(OK):download completed.\n",
            "\u001b[35m[\u001b[0m#6cd364 0B/0B CN:1 DL:\u001b[32m0B\u001b[0m\u001b[35m]\u001b[0m\u001b[0m                      \n",
            "06/15 05:46:35 [\u001b[1;32mNOTICE\u001b[0m] Download complete: models/tiiuae_falcon-40b/tokenizer_config.json\n",
            "\n",
            "Download Results:\n",
            "gid   |stat|avg speed  |path/URI\n",
            "======+====+===========+=======================================================\n",
            "fb3c80|\u001b[1;32mOK\u001b[0m  |     370B/s|models/tiiuae_falcon-40b/tokenizer_config.json\n",
            "\n",
            "Status Legend:\n",
            "(OK):download completed.\n",
            "\n",
            "06/15 05:46:35 [\u001b[1;32mNOTICE\u001b[0m] Download complete: models/tiiuae_falcon-40b/pytorch_model-00007-of-00009.bin\n",
            "\n",
            "Download Results:\n",
            "gid   |stat|avg speed  |path/URI\n",
            "======+====+===========+=======================================================\n",
            "6c82e1|\u001b[1;32mOK\u001b[0m  |   107MiB/s|models/tiiuae_falcon-40b/pytorch_model-00007-of-00009.bin\n",
            "\n",
            "Status Legend:\n",
            "(OK):download completed.\n",
            "\n",
            "06/15 05:46:35 [\u001b[1;32mNOTICE\u001b[0m] Download complete: models/tiiuae_falcon-40b/pytorch_model-00005-of-00009.bin\n",
            "\n",
            "Download Results:\n",
            "gid   |stat|avg speed  |path/URI\n",
            "======+====+===========+=======================================================\n",
            "2fc05d|\u001b[1;32mOK\u001b[0m  |   106MiB/s|models/tiiuae_falcon-40b/pytorch_model-00005-of-00009.bin\n",
            "\n",
            "Status Legend:\n",
            "(OK):download completed.\n",
            "\u001b[35m[\u001b[0m#77239b 4.6GiB/7.0GiB\u001b[36m(65%)\u001b[0m CN:16 DL:\u001b[32m474MiB\u001b[0m ETA:\u001b[33m5s\u001b[0m\u001b[35m]\u001b[0m\u001b[0mm\n",
            "06/15 05:46:41 [\u001b[1;32mNOTICE\u001b[0m] Download complete: models/tiiuae_falcon-40b/tokenizer.json\n",
            "\n",
            "Download Results:\n",
            "gid   |stat|avg speed  |path/URI\n",
            "======+====+===========+=======================================================\n",
            "6cd364|\u001b[1;32mOK\u001b[0m  |   2.3MiB/s|models/tiiuae_falcon-40b/tokenizer.json\n",
            "\n",
            "Status Legend:\n",
            "(OK):download completed.\n",
            "\u001b[35m[\u001b[0m#77239b 7.0GiB/7.0GiB\u001b[36m(99%)\u001b[0m CN:1 DL:\u001b[32m490MiB\u001b[0m\u001b[35m]\u001b[0m\u001b[0mm0m\u001b[35m]\u001b[0m\u001b[0m\n",
            "06/15 05:46:49 [\u001b[1;32mNOTICE\u001b[0m] Download complete: models/tiiuae_falcon-40b/pytorch_model-00009-of-00009.bin\n",
            "\n",
            "Download Results:\n",
            "gid   |stat|avg speed  |path/URI\n",
            "======+====+===========+=======================================================\n",
            "77239b|\u001b[1;32mOK\u001b[0m  |   418MiB/s|models/tiiuae_falcon-40b/pytorch_model-00009-of-00009.bin\n",
            "\n",
            "Status Legend:\n",
            "(OK):download completed.\n",
            "100%|███████████████████████████████████████████| 18/18 [01:40<00:00,  5.59s/it]\n",
            "\n"
          ]
        }
      ],
      "source": [
        "!python /content/llm-playground/helper/download-model.py tiiuae/falcon-40b\n",
        "# /content/llm-playground/models/tiiuae_falcon-40b"
      ]
    },
    {
      "cell_type": "code",
      "execution_count": null,
      "metadata": {
        "id": "ydCdRNI9gJ78"
      },
      "outputs": [],
      "source": [
        "# Downloading shards: 100%|████████████████████████| 9/9 [19:19<00:00, 128.85s/it]\n",
        "# Loading checkpoint shards: 100%|██████████████████| 9/9 [01:30<00:00, 10.08s/it]\n",
        "# (OK):download completed.\n",
        "# 100%|████████████████████████████████████████████████████████████████████| 18/18 [01:44<00:00,  5.81s/it]"
      ]
    },
    {
      "cell_type": "markdown",
      "metadata": {
        "id": "RFqQyPp5HbAm"
      },
      "source": [
        "### HF Login"
      ]
    },
    {
      "cell_type": "code",
      "execution_count": null,
      "metadata": {
        "id": "s6wC1lP23B-4",
        "outputId": "9b47ee03-5fa6-4524-c70b-2341e62d0b3d"
      },
      "outputs": [
        {
          "name": "stdout",
          "output_type": "stream",
          "text": [
            "Token is valid (permission: write).\n",
            "Your token has been saved in your configured git credential helpers (store).\n",
            "Your token has been saved to /root/.cache/huggingface/token\n",
            "Login successful\n"
          ]
        }
      ],
      "source": [
        "# For axolotl push_dataset_to_hub\n",
        "import os\n",
        "from huggingface_hub import notebook_login, login\n",
        "# Colab:\n",
        "# notebook_login()\n",
        "# RunPod:\n",
        "login(os.environ.get(\"HUGGINGFACE_TOKEN\"), add_to_git_credential=True)"
      ]
    },
    {
      "cell_type": "markdown",
      "metadata": {
        "id": "R2AigYR_DY7X"
      },
      "source": [
        "### Update axolotl"
      ]
    },
    {
      "cell_type": "code",
      "execution_count": null,
      "metadata": {
        "id": "IQYJdcd7DY7X"
      },
      "outputs": [],
      "source": [
        "%cd /workspace/"
      ]
    },
    {
      "cell_type": "code",
      "execution_count": null,
      "metadata": {
        "id": "PLn5aNACDY7X",
        "scrolled": true
      },
      "outputs": [],
      "source": [
        "!git clone https://github.com/OpenAccess-AI-Collective/axolotl axolotl-update"
      ]
    },
    {
      "cell_type": "code",
      "execution_count": null,
      "metadata": {
        "id": "vdY5tXtYDY7X"
      },
      "outputs": [],
      "source": [
        "!cp -r axolotl-update/* axolotl"
      ]
    },
    {
      "cell_type": "code",
      "execution_count": null,
      "metadata": {
        "id": "kHsKmIUmDY7Y"
      },
      "outputs": [],
      "source": [
        "%cd /workspace/axolotl"
      ]
    },
    {
      "cell_type": "code",
      "execution_count": null,
      "metadata": {
        "id": "ljX3Yir2DY7Y",
        "scrolled": true
      },
      "outputs": [],
      "source": [
        "!git status"
      ]
    },
    {
      "cell_type": "code",
      "execution_count": null,
      "metadata": {
        "id": "Adru8lVlzhLi",
        "outputId": "23c763bb-5f06-40b4-d59d-9a99c3427a3c"
      },
      "outputs": [
        {
          "name": "stdout",
          "output_type": "stream",
          "text": [
            "Setting ds_accelerator to cuda (auto detect)\n",
            "--------------------------------------------------\n",
            "DeepSpeed C++/CUDA extension op report\n",
            "--------------------------------------------------\n",
            "NOTE: Ops not installed will be just-in-time (JIT) compiled at\n",
            "      runtime if needed. Op compatibility means that your system\n",
            "      meet the required dependencies to JIT install the op.\n",
            "--------------------------------------------------\n",
            "JIT compiled ops requires ninja\n",
            "ninja .................. \u001b[92m[OKAY]\u001b[0m\n",
            "--------------------------------------------------\n",
            "op name ................ installed .. compatible\n",
            "--------------------------------------------------\n",
            "async_io ............... \u001b[92m[YES]\u001b[0m ...... \u001b[92m[OKAY]\u001b[0m\n",
            "cpu_adagrad ............ \u001b[92m[YES]\u001b[0m ...... \u001b[92m[OKAY]\u001b[0m\n",
            "cpu_adam ............... \u001b[92m[YES]\u001b[0m ...... \u001b[92m[OKAY]\u001b[0m\n",
            "fused_adam ............. \u001b[92m[YES]\u001b[0m ...... \u001b[92m[OKAY]\u001b[0m\n",
            "fused_lamb ............. \u001b[92m[YES]\u001b[0m ...... \u001b[92m[OKAY]\u001b[0m\n",
            "quantizer .............. \u001b[92m[YES]\u001b[0m ...... \u001b[92m[OKAY]\u001b[0m\n",
            "random_ltd ............. \u001b[92m[YES]\u001b[0m ...... \u001b[92m[OKAY]\u001b[0m\n",
            "\u001b[93m [WARNING] \u001b[0m sparse_attn requires a torch version >= 1.5 and < 2.0 but detected 2.0\n",
            "\u001b[93m [WARNING] \u001b[0m using untested triton version (2.0.0), only 1.0.0 is known to be compatible\n",
            "sparse_attn ............ \u001b[93m[NO]\u001b[0m ....... \u001b[93m[NO]\u001b[0m\n",
            "spatial_inference ...... \u001b[92m[YES]\u001b[0m ...... \u001b[92m[OKAY]\u001b[0m\n",
            "transformer ............ \u001b[92m[YES]\u001b[0m ...... \u001b[92m[OKAY]\u001b[0m\n",
            "stochastic_transformer . \u001b[92m[YES]\u001b[0m ...... \u001b[92m[OKAY]\u001b[0m\n",
            "transformer_inference .. \u001b[92m[YES]\u001b[0m ...... \u001b[92m[OKAY]\u001b[0m\n",
            "utils .................. \u001b[92m[YES]\u001b[0m ...... \u001b[92m[OKAY]\u001b[0m\n",
            "--------------------------------------------------\n",
            "DeepSpeed general environment info:\n",
            "torch install path ............... ['/root/miniconda3/envs/py3.9/lib/python3.9/site-packages/torch']\n",
            "torch version .................... 2.0.1+cu117\n",
            "deepspeed install path ........... ['/root/miniconda3/envs/py3.9/lib/python3.9/site-packages/deepspeed']\n",
            "deepspeed info ................... 0.9.3+52907a66, 52907a66, master\n",
            "torch cuda version ............... 11.7\n",
            "torch hip version ................ None\n",
            "nvcc version ..................... 11.8\n",
            "deepspeed wheel compiled w. ...... torch 2.0, cuda 11.8\n"
          ]
        }
      ],
      "source": [
        "!ds_report"
      ]
    },
    {
      "cell_type": "code",
      "execution_count": null,
      "metadata": {
        "id": "wbaorAF2DY7Y",
        "scrolled": true
      },
      "outputs": [],
      "source": [
        "!pip install -e ."
      ]
    },
    {
      "cell_type": "code",
      "execution_count": null,
      "metadata": {
        "id": "p_9eIEonzhLi"
      },
      "outputs": [],
      "source": [
        "!pip list|grep torch"
      ]
    },
    {
      "cell_type": "markdown",
      "metadata": {
        "id": "SD1Ahx1QG5xm"
      },
      "source": [
        "### Init Storage"
      ]
    },
    {
      "cell_type": "code",
      "execution_count": null,
      "metadata": {
        "id": "LBBF-lS2HVPG",
        "outputId": "a98fae7e-9c13-4990-fc20-8f877f6647c2"
      },
      "outputs": [
        {
          "name": "stdout",
          "output_type": "stream",
          "text": [
            "/content/axolotl-trained is already a clone of https://huggingface.co/utensil/axolotl-trained. Make sure you pull the latest changes with `repo.git_pull()`.\n"
          ]
        }
      ],
      "source": [
        "!python /content/llm-playground/helper/storage.py utensil/axolotl-trained /content/ -m"
      ]
    },
    {
      "cell_type": "code",
      "execution_count": null,
      "metadata": {
        "id": "0_FP2VeXH0Un",
        "outputId": "fc88bfb0-34f8-4f30-be11-49f2d9923522"
      },
      "outputs": [
        {
          "name": "stdout",
          "output_type": "stream",
          "text": [
            "falcon-qlora-40b-gsm8k\n"
          ]
        }
      ],
      "source": [
        "!ls /content/axolotl-trained"
      ]
    },
    {
      "cell_type": "code",
      "execution_count": null,
      "metadata": {
        "id": "G86XUuQ1gJ8J"
      },
      "outputs": [],
      "source": []
    },
    {
      "cell_type": "code",
      "execution_count": null,
      "metadata": {
        "id": "oOXz9ZCJgJ8J"
      },
      "outputs": [],
      "source": []
    },
    {
      "cell_type": "markdown",
      "metadata": {
        "id": "raYU6HmYduRa"
      },
      "source": [
        "### Reinstall PyTorch with CUDA 11.8 (optional)"
      ]
    },
    {
      "cell_type": "code",
      "execution_count": null,
      "metadata": {
        "id": "Ym6v1nl6duRa",
        "outputId": "4484e752-db90-4f7a-9fb8-2ba89ec3c773"
      },
      "outputs": [
        {
          "name": "stdout",
          "output_type": "stream",
          "text": [
            "Looking in indexes: https://download.pytorch.org/whl/cu118\n",
            "Requirement already satisfied: torch in /root/miniconda3/envs/py3.9/lib/python3.9/site-packages (2.0.1)\n",
            "Collecting torch\n",
            "  Using cached https://download.pytorch.org/whl/cu118/torch-2.0.1%2Bcu118-cp39-cp39-linux_x86_64.whl (2267.3 MB)\n",
            "Requirement already satisfied: filelock in /root/miniconda3/envs/py3.9/lib/python3.9/site-packages (from torch) (3.12.2)\n",
            "Requirement already satisfied: typing-extensions in /root/miniconda3/envs/py3.9/lib/python3.9/site-packages (from torch) (4.6.3)\n",
            "Requirement already satisfied: sympy in /root/miniconda3/envs/py3.9/lib/python3.9/site-packages (from torch) (1.12)\n",
            "Requirement already satisfied: networkx in /root/miniconda3/envs/py3.9/lib/python3.9/site-packages (from torch) (3.1)\n",
            "Requirement already satisfied: jinja2 in /root/miniconda3/envs/py3.9/lib/python3.9/site-packages (from torch) (3.1.2)\n",
            "Requirement already satisfied: triton==2.0.0 in /root/miniconda3/envs/py3.9/lib/python3.9/site-packages (from torch) (2.0.0)\n",
            "Requirement already satisfied: cmake in /root/miniconda3/envs/py3.9/lib/python3.9/site-packages (from triton==2.0.0->torch) (3.26.4)\n",
            "Requirement already satisfied: lit in /root/miniconda3/envs/py3.9/lib/python3.9/site-packages (from triton==2.0.0->torch) (16.0.5.post0)\n",
            "Requirement already satisfied: MarkupSafe>=2.0 in /root/miniconda3/envs/py3.9/lib/python3.9/site-packages (from jinja2->torch) (2.1.3)\n",
            "Requirement already satisfied: mpmath>=0.19 in /root/miniconda3/envs/py3.9/lib/python3.9/site-packages (from sympy->torch) (1.3.0)\n",
            "Installing collected packages: torch\n",
            "  Attempting uninstall: torch\n",
            "    Found existing installation: torch 2.0.1\n",
            "    Uninstalling torch-2.0.1:\n",
            "      Successfully uninstalled torch-2.0.1\n",
            "\u001b[31mERROR: pip's dependency resolver does not currently take into account all the packages that are installed. This behaviour is the source of the following dependency conflicts.\n",
            "torchaudio 2.0.1+cu118 requires torch==2.0.0, but you have torch 2.0.1+cu118 which is incompatible.\u001b[0m\u001b[31m\n",
            "\u001b[0mSuccessfully installed torch-2.0.1+cu118\n",
            "\u001b[33mWARNING: Running pip as the 'root' user can result in broken permissions and conflicting behaviour with the system package manager. It is recommended to use a virtual environment instead: https://pip.pypa.io/warnings/venv\u001b[0m\u001b[33m\n",
            "\u001b[0m"
          ]
        }
      ],
      "source": [
        "!pip3 install -U torch --index-url https://download.pytorch.org/whl/cu118"
      ]
    },
    {
      "cell_type": "code",
      "execution_count": null,
      "metadata": {
        "id": "W0A0aPWJzhLk",
        "outputId": "a9dad6ff-0705-4ed1-a9c6-2a4784834ba6"
      },
      "outputs": [
        {
          "name": "stdout",
          "output_type": "stream",
          "text": [
            "torch                    2.0.1+cu118\n",
            "torchaudio               2.0.1+cu118\n",
            "torchvision              0.15.2\n"
          ]
        }
      ],
      "source": [
        "!pip list|grep torch"
      ]
    },
    {
      "cell_type": "markdown",
      "metadata": {
        "id": "4sPSrhKPHIrS"
      },
      "source": [
        "### Reinstall deepspeed (optional)"
      ]
    },
    {
      "cell_type": "code",
      "execution_count": null,
      "metadata": {
        "id": "U_PIACM6duRa"
      },
      "outputs": [],
      "source": [
        "!ds_report"
      ]
    },
    {
      "cell_type": "code",
      "execution_count": null,
      "metadata": {
        "id": "i1-u6vhWHvt6"
      },
      "outputs": [],
      "source": [
        "!yes|pip uninstall deepspeed"
      ]
    },
    {
      "cell_type": "code",
      "execution_count": null,
      "metadata": {
        "id": "xIpqugJOHuhh",
        "scrolled": true
      },
      "outputs": [],
      "source": [
        "!TORCH_CUDA_ARCH_LIST=\"3.5;5.0;6.0;6.1;7.0;7.5;8.0;8.6+PTX\" DS_BUILD_OPS=1 DS_BUILD_SPARSE_ATTN=0 pip install deepspeed --global-option=\"build_ext\" --global-option=\"-j8\" # --global-option=\"bdist_wheel\""
      ]
    },
    {
      "cell_type": "code",
      "execution_count": null,
      "metadata": {
        "id": "o8JzOr94dDm1"
      },
      "outputs": [],
      "source": [
        "!pip install deepspeed"
      ]
    },
    {
      "cell_type": "code",
      "execution_count": null,
      "metadata": {
        "id": "xcKtKd_MdDm1"
      },
      "outputs": [],
      "source": [
        "!ds_report"
      ]
    },
    {
      "cell_type": "markdown",
      "metadata": {
        "id": "m_tw4OcVHQdK"
      },
      "source": [
        "### Init Configs"
      ]
    },
    {
      "cell_type": "code",
      "execution_count": null,
      "metadata": {
        "id": "zJvyUmZdktu0",
        "outputId": "8e949574-556a-4061-fe89-9084edd65aa7"
      },
      "outputs": [
        {
          "name": "stdout",
          "output_type": "stream",
          "text": [
            "/workspace/axolotl\n"
          ]
        }
      ],
      "source": [
        "%cd /workspace/axolotl"
      ]
    },
    {
      "cell_type": "code",
      "execution_count": null,
      "metadata": {
        "id": "mC48y25Lkqa5"
      },
      "outputs": [],
      "source": [
        "# Try no config\n",
        "# !accelerate config default"
      ]
    },
    {
      "cell_type": "code",
      "execution_count": null,
      "metadata": {
        "id": "cL5E8urQEXiL",
        "outputId": "a685485e-7f2c-4f00-aa6c-872737e7489e"
      },
      "outputs": [
        {
          "name": "stdout",
          "output_type": "stream",
          "text": [
            "Overwriting ds_config.json\n"
          ]
        }
      ],
      "source": [
        "%%writefile ds_config.json\n",
        "{\n",
        "    \"zero_optimization\": {\n",
        "        \"stage\": 3,\n",
        "        \"offload_optimizer\": {\n",
        "            \"device\": \"cpu\",\n",
        "            \"pin_memory\": true\n",
        "        },\n",
        "        \"offload_param\": {\n",
        "            \"device\": \"cpu\",\n",
        "            \"pin_memory\": true\n",
        "        },\n",
        "        \"overlap_comm\": true,\n",
        "        \"contiguous_gradients\": true,\n",
        "        \"sub_group_size\": 0,\n",
        "        \"reduce_bucket_size\": \"auto\",\n",
        "        \"stage3_prefetch_bucket_size\": \"auto\",\n",
        "        \"stage3_param_persistence_threshold\": \"auto\",\n",
        "        \"stage3_max_live_parameters\": 0,\n",
        "        \"stage3_max_reuse_distance\": 0,\n",
        "        \"stage3_gather_16bit_weights_on_model_save\": true\n",
        "    },\n",
        "   \"bf16\": {\n",
        "        \"enabled\": \"auto\"\n",
        "    },\n",
        "    \"fp16\": {\n",
        "        \"enabled\": \"auto\",\n",
        "        \"auto_cast\": false,\n",
        "        \"loss_scale\": 0,\n",
        "        \"initial_scale_power\": 32,\n",
        "        \"loss_scale_window\": 1000,\n",
        "        \"hysteresis\": 2,\n",
        "        \"min_loss_scale\": 1\n",
        "    },\n",
        "    \"optimizer\": {\n",
        "        \"type\": \"AdamW\",\n",
        "        \"params\": {\n",
        "          \"lr\": \"auto\",\n",
        "          \"betas\": \"auto\",\n",
        "          \"eps\": \"auto\",\n",
        "          \"weight_decay\": \"auto\"\n",
        "        }\n",
        "    },\n",
        "    \"scheduler\": {\n",
        "      \"type\": \"WarmupDecayLR\",\n",
        "      \"params\": {\n",
        "        \"total_num_steps\": \"auto\",\n",
        "        \"warmup_min_lr\": \"auto\",\n",
        "        \"warmup_max_lr\": \"auto\",\n",
        "        \"warmup_num_steps\": \"auto\"\n",
        "       }\n",
        "    },\n",
        "    \"gradient_accumulation_steps\": \"auto\",\n",
        "    \"train_batch_size\": \"auto\",\n",
        "    \"train_micro_batch_size_per_gpu\": \"auto\",\n",
        "    \"wall_clock_breakdown\": false\n",
        "}"
      ]
    },
    {
      "cell_type": "code",
      "execution_count": null,
      "metadata": {
        "id": "efZJw_gCDY7J",
        "scrolled": true,
        "outputId": "7095cc5a-6967-414f-c7ed-9191fde8b81a"
      },
      "outputs": [
        {
          "name": "stdout",
          "output_type": "stream",
          "text": [
            "Writing examples/falcon/config-40b-qlora.yml\n"
          ]
        }
      ],
      "source": [
        "%%writefile examples/falcon/config-40b-qlora.yml\n",
        "# 1b: tiiuae/falcon-rw-1b\n",
        "# 7b: tiiuae/falcon-7b\n",
        "# 40b: tiiuae/falcon-40b\n",
        "base_model: /content/llm-playground/models/tiiuae_falcon-40b\n",
        "base_model_config: /content/llm-playground/models/tiiuae_falcon-40b\n",
        "# required by falcon custom model code: https://huggingface.co/tiiuae/falcon-7b/tree/main\n",
        "trust_remote_code: true\n",
        "model_type: AutoModelForCausalLM\n",
        "tokenizer_type: AutoTokenizer\n",
        "load_in_8bit: false\n",
        "# enable 4bit for QLoRA\n",
        "load_in_4bit: true\n",
        "gptq: false\n",
        "strict: false\n",
        "\n",
        "push_dataset_to_hub: utensil\n",
        "hf_use_auth_token: true\n",
        "\n",
        "datasets:\n",
        "  - path: QingyiSi/Alpaca-CoT\n",
        "    data_files:\n",
        "      - Chain-of-Thought/formatted_cot_data/gsm8k_train.json\n",
        "    type: \"alpaca:chat\"\n",
        "\n",
        "dataset_prepared_path: last_run_prepared\n",
        "val_set_size: 0.01\n",
        "# enable QLoRA\n",
        "adapter: qlora\n",
        "lora_model_dir:\n",
        "sequence_len: 2048\n",
        "max_packed_sequence_len:\n",
        "\n",
        "# hyperparameters from QLoRA paper Appendix B.2\n",
        "# \"We find hyperparameters to be largely robust across datasets\"\n",
        "lora_r: 64\n",
        "lora_alpha: 16\n",
        "# 0.1 for models up to 13B\n",
        "# 0.05 for 33B and 65B models\n",
        "lora_dropout: 0.05\n",
        "# add LoRA modules on all linear layers of the base model\n",
        "lora_target_modules:\n",
        "lora_target_linear: true\n",
        "lora_fan_in_fan_out:\n",
        "\n",
        "wandb_project: falcon-qlora\n",
        "wandb_watch:\n",
        "wandb_run_id:\n",
        "wandb_log_model:\n",
        "output_dir: /content/axolotl-trained/falcon-qlora-40b-gsm8k/\n",
        "\n",
        "# QLoRA paper Table 9\n",
        "# - 16 for 7b & 13b\n",
        "# - 32 for 33b, 64 for 64b\n",
        "# Max size tested on A6000\n",
        "# - 7b: 40\n",
        "# - 40b: 4\n",
        "# decrease if OOM, increase for max VRAM utilization\n",
        "micro_batch_size: 1\n",
        "gradient_accumulation_steps: 1\n",
        "num_epochs: 3\n",
        "# Optimizer for QLoRA\n",
        "# optimizer: paged_adamw_32bit\n",
        "torchdistx_path:\n",
        "# lr_scheduler: cosine\n",
        "# QLoRA paper Table 9\n",
        "# - 2e-4 for 7b & 13b\n",
        "# - 1e-4 for 33b & 64b\n",
        "learning_rate: 0.0002\n",
        "train_on_inputs: false\n",
        "group_by_length: false\n",
        "bf16: true\n",
        "fp16: false\n",
        "tf32: true\n",
        "gradient_checkpointing: true\n",
        "# stop training after this many evaluation losses have increased in a row\n",
        "# https://huggingface.co/transformers/v4.2.2/_modules/transformers/trainer_callback.html#EarlyStoppingCallback\n",
        "early_stopping_patience: 3\n",
        "resume_from_checkpoint:\n",
        "auto_resume_from_checkpoints: true\n",
        "local_rank:\n",
        "logging_steps: 1\n",
        "xformers_attention: true\n",
        "flash_attention:\n",
        "gptq_groupsize:\n",
        "gptq_model_v1:\n",
        "warmup_steps: 10\n",
        "eval_steps: 5\n",
        "save_steps: 10\n",
        "debug:\n",
        "deepspeed:\n",
        "weight_decay: 0.01\n",
        "fsdp:\n",
        "fsdp_config:\n",
        "special_tokens:\n",
        "  pad_token: \"<|endoftext|>\"\n",
        "  bos_token: \">>ABSTRACT<<\"\n",
        "  eos_token: \"<|endoftext|>\""
      ]
    },
    {
      "cell_type": "code",
      "execution_count": null,
      "metadata": {
        "id": "uTWOnrpzEr-1",
        "outputId": "ba77db6b-8807-4e96-f196-b15462b45edf"
      },
      "outputs": [
        {
          "name": "stdout",
          "output_type": "stream",
          "text": [
            "env: ACCELERATE_USE_DEEPSPEED=true\n"
          ]
        }
      ],
      "source": [
        "%env ACCELERATE_USE_DEEPSPEED=true"
      ]
    },
    {
      "cell_type": "code",
      "execution_count": null,
      "metadata": {
        "id": "iz9sbxRAElkU",
        "outputId": "bceb8e0c-7e59-4338-b1fa-61db7b83a8a8"
      },
      "outputs": [
        {
          "name": "stdout",
          "output_type": "stream",
          "text": [
            "Writing scripts/ft.py\n"
          ]
        }
      ],
      "source": [
        "%%writefile scripts/ft.py\n",
        "import os\n",
        "from pathlib import Path\n",
        "import fire\n",
        "import logging\n",
        "import finetune\n",
        "from axolotl.utils.trainer import setup_trainer as setup_trainer_orig\n",
        "\n",
        "logging.basicConfig(level=os.getenv(\"LOG_LEVEL\", \"INFO\"))\n",
        "\n",
        "def train_ex(\n",
        "    config: Path = Path(\"configs/\"),\n",
        "    prepare_ds_only: bool = False,\n",
        "    **kwargs,\n",
        "):\n",
        "  logging.info('train_ex before')\n",
        "  finetune.train(config, prepare_ds_only, **kwargs)\n",
        "  logging.info('train_ex after')\n",
        "\n",
        "def setup_trainer_ex(cfg, train_dataset, eval_dataset, model, tokenizer):\n",
        "  logging.info('setup_trainer_ex before')\n",
        "  logging.info(f'cfg.some_config = {cfg.some_config}')\n",
        "  trainer = setup_trainer_orig(cfg, train_dataset, eval_dataset, model, tokenizer)\n",
        "  logging.info('setup_trainer_ex after')\n",
        "  return trainer\n",
        "\n",
        "finetune.setup_trainer = setup_trainer_ex\n",
        "\n",
        "if __name__ == \"__main__\":\n",
        "    fire.Fire(train_ex)"
      ]
    },
    {
      "cell_type": "markdown",
      "metadata": {
        "id": "vj6CD_zZHUpG"
      },
      "source": [
        "# Training"
      ]
    },
    {
      "cell_type": "markdown",
      "metadata": {
        "id": "2CqrhYq-DY7J"
      },
      "source": [
        "## #1 DS"
      ]
    },
    {
      "cell_type": "code",
      "execution_count": null,
      "metadata": {
        "id": "GsRPtribgJ8O",
        "outputId": "32cd1493-332f-4382-a9fb-b149420be60e"
      },
      "outputs": [
        {
          "name": "stdout",
          "output_type": "stream",
          "text": [
            "env: HF_HUB_DISABLE_PROGRESS_BARS=1\n"
          ]
        }
      ],
      "source": [
        "%env HF_HUB_DISABLE_PROGRESS_BARS=1"
      ]
    },
    {
      "cell_type": "code",
      "execution_count": null,
      "metadata": {
        "id": "I_oAE22wgJ8Q",
        "outputId": "98585402-c194-41c4-c4c0-529826739682"
      },
      "outputs": [
        {
          "name": "stdout",
          "output_type": "stream",
          "text": [
            "env: ACCELERATE_USE_DEEPSPEED=true\n"
          ]
        }
      ],
      "source": [
        "%env ACCELERATE_USE_DEEPSPEED=true"
      ]
    },
    {
      "cell_type": "code",
      "execution_count": null,
      "metadata": {
        "id": "m66yoSyzK7uC",
        "outputId": "0fb2a013-86f9-49e0-9b31-22b69346aeea"
      },
      "outputs": [
        {
          "name": "stdout",
          "output_type": "stream",
          "text": [
            "/workspace/axolotl\n"
          ]
        }
      ],
      "source": [
        "%cd /workspace/axolotl"
      ]
    },
    {
      "cell_type": "code",
      "execution_count": null,
      "metadata": {
        "id": "joQh6mGBm3_J"
      },
      "outputs": [],
      "source": [
        "!cat examples/falcon/config-40b-qlora.yml"
      ]
    },
    {
      "cell_type": "code",
      "execution_count": null,
      "metadata": {
        "id": "ULwPlElbm73f"
      },
      "outputs": [],
      "source": [
        "#%%writefile examples/falcon/config-40b-qlora.yml"
      ]
    },
    {
      "cell_type": "code",
      "execution_count": null,
      "metadata": {
        "id": "jICMPJuomFsx",
        "scrolled": true,
        "outputId": "4dbfb871-a4f1-4b3d-bb78-9a46068cac60"
      },
      "outputs": [
        {
          "name": "stdout",
          "output_type": "stream",
          "text": [
            "Setting ds_accelerator to cuda (auto detect)\n",
            "The following values were not passed to `accelerate launch` and had defaults used instead:\n",
            "\t`--num_processes` was set to a value of `2`\n",
            "\t\tMore than one GPU was found, enabling multi-GPU training.\n",
            "\t\tIf this was unintended please pass in `--num_processes=1`.\n",
            "\t`--num_machines` was set to a value of `1`\n",
            "\t`--mixed_precision` was set to a value of `'no'`\n",
            "\t`--dynamo_backend` was set to a value of `'no'`\n",
            "To avoid this warning pass in values for each of the problematic parameters or run `accelerate config`.\n",
            "Setting ds_accelerator to cuda (auto detect)\n",
            "Setting ds_accelerator to cuda (auto detect)\n",
            "\n",
            "===================================BUG REPORT===================================\n",
            "Welcome to bitsandbytes. For bug reports, please run\n",
            "\n",
            "python -m bitsandbytes\n",
            "\n",
            " and submit this information together with your error trace to: https://github.com/TimDettmers/bitsandbytes/issues\n",
            "================================================================================\n",
            "bin /root/miniconda3/envs/py3.9/lib/python3.9/site-packages/bitsandbytes-0.39.0-py3.9.egg/bitsandbytes/libbitsandbytes_cuda118.so\n",
            "/root/miniconda3/envs/py3.9/lib/python3.9/site-packages/bitsandbytes-0.39.0-py3.9.egg/bitsandbytes/cuda_setup/main.py:149: UserWarning: WARNING: The following directories listed in your path were found to be non-existent: {PosixPath('/usr/local/nvidia/lib'), PosixPath('/usr/local/nvidia/lib64')}\n",
            "  warn(msg)\n",
            "/root/miniconda3/envs/py3.9/lib/python3.9/site-packages/bitsandbytes-0.39.0-py3.9.egg/bitsandbytes/cuda_setup/main.py:149: UserWarning: /usr/local/nvidia/lib:/usr/local/nvidia/lib64 did not contain ['libcudart.so', 'libcudart.so.11.0', 'libcudart.so.12.0'] as expected! Searching further paths...\n",
            "  warn(msg)\n",
            "/root/miniconda3/envs/py3.9/lib/python3.9/site-packages/bitsandbytes-0.39.0-py3.9.egg/bitsandbytes/cuda_setup/main.py:149: UserWarning: WARNING: The following directories listed in your path were found to be non-existent: {PosixPath('module'), PosixPath('//matplotlib_inline.backend_inline')}\n",
            "  warn(msg)\n",
            "/root/miniconda3/envs/py3.9/lib/python3.9/site-packages/bitsandbytes-0.39.0-py3.9.egg/bitsandbytes/cuda_setup/main.py:149: UserWarning: WARNING: The following directories listed in your path were found to be non-existent: {PosixPath('ssh-rsa AAAAB3NzaC1yc2EAAAADAQABAAABgQDvnE4umHheXhWsDJbbukYvvyc47/mC4z8syS93btA72T90WDrQagOy5O+DrhdXOvr5i/JwsTlAImy57eLRrtRFOrQq73jyi7Dzo0tvrAiNLVgX2q2dFLoplRyXDXiVYLPmPieMWQOeUCLeSb8FC5zzllcocZwjMXpxScDerZqnlAR0ccpSkGyKIod4ZMkn/29A/C5kHEb/wT8cOAq+MWJ/2okZZgbiR0AMV4DynAkrtcx9JnJnTs9chiMyH+dyCS42Ai24sHWJBkQo6TfxXkyKo9GOpu3Y2WLgrHyaot9Lk5mA1mujyIWdlReD2nvjeCQKjl3KW3xZ73m4nD97MydWSWoJfEWlr+VZvk8EWsZk3CYLZCIBLdod6xXJJ0DD0pvTIq11c8VB7XkgVjapuU/sC8M6HFzHW/NBeE+xX/txPkZkIGqrnxeQ0AtBXdN9ukyNGhGzTkPYJNliiYpY0dCvVuz/BJ2FawFTQGnD1EHOenUCRajREFGCbKoYZqi40j8= utensil@Utensils-MacBook-Pro.local')}\n",
            "  warn(msg)\n",
            "/root/miniconda3/envs/py3.9/lib/python3.9/site-packages/bitsandbytes-0.39.0-py3.9.egg/bitsandbytes/cuda_setup/main.py:149: UserWarning: WARNING: The following directories listed in your path were found to be non-existent: {PosixPath('/tmp/torchelastic_1bxk43d5/none_skzfe6l4/attempt_0/1/error.json')}\n",
            "  warn(msg)\n",
            "CUDA_SETUP: WARNING! libcudart.so not found in any environmental path. Searching in backup paths...\n",
            "/root/miniconda3/envs/py3.9/lib/python3.9/site-packages/bitsandbytes-0.39.0-py3.9.egg/bitsandbytes/cuda_setup/main.py:149: UserWarning: Found duplicate ['libcudart.so', 'libcudart.so.11.0', 'libcudart.so.12.0'] files: {PosixPath('/usr/local/cuda/lib64/libcudart.so.11.0'), PosixPath('/usr/local/cuda/lib64/libcudart.so')}.. We'll flip a coin and try one of these, in order to fail forward.\n",
            "Either way, this might cause trouble in the future:\n",
            "If you get `CUDA error: invalid device function` errors, the above might be the cause and the solution is to make sure only one ['libcudart.so', 'libcudart.so.11.0', 'libcudart.so.12.0'] in the paths that we search based on your env.\n",
            "  warn(msg)\n",
            "CUDA SETUP: CUDA runtime path found: /usr/local/cuda/lib64/libcudart.so.11.0\n",
            "CUDA SETUP: Highest compute capability among GPUs detected: 8.0\n",
            "CUDA SETUP: Detected CUDA version 118\n",
            "CUDA SETUP: Loading binary /root/miniconda3/envs/py3.9/lib/python3.9/site-packages/bitsandbytes-0.39.0-py3.9.egg/bitsandbytes/libbitsandbytes_cuda118.so...\n",
            "\n",
            "===================================BUG REPORT===================================\n",
            "Welcome to bitsandbytes. For bug reports, please run\n",
            "\n",
            "python -m bitsandbytes\n",
            "\n",
            " and submit this information together with your error trace to: https://github.com/TimDettmers/bitsandbytes/issues\n",
            "================================================================================\n",
            "bin /root/miniconda3/envs/py3.9/lib/python3.9/site-packages/bitsandbytes-0.39.0-py3.9.egg/bitsandbytes/libbitsandbytes_cuda118.so\n",
            "/root/miniconda3/envs/py3.9/lib/python3.9/site-packages/bitsandbytes-0.39.0-py3.9.egg/bitsandbytes/cuda_setup/main.py:149: UserWarning: WARNING: The following directories listed in your path were found to be non-existent: {PosixPath('/usr/local/nvidia/lib64'), PosixPath('/usr/local/nvidia/lib')}\n",
            "  warn(msg)\n",
            "/root/miniconda3/envs/py3.9/lib/python3.9/site-packages/bitsandbytes-0.39.0-py3.9.egg/bitsandbytes/cuda_setup/main.py:149: UserWarning: /usr/local/nvidia/lib:/usr/local/nvidia/lib64 did not contain ['libcudart.so', 'libcudart.so.11.0', 'libcudart.so.12.0'] as expected! Searching further paths...\n",
            "  warn(msg)\n",
            "/root/miniconda3/envs/py3.9/lib/python3.9/site-packages/bitsandbytes-0.39.0-py3.9.egg/bitsandbytes/cuda_setup/main.py:149: UserWarning: WARNING: The following directories listed in your path were found to be non-existent: {PosixPath('//matplotlib_inline.backend_inline'), PosixPath('module')}\n",
            "  warn(msg)\n",
            "/root/miniconda3/envs/py3.9/lib/python3.9/site-packages/bitsandbytes-0.39.0-py3.9.egg/bitsandbytes/cuda_setup/main.py:149: UserWarning: WARNING: The following directories listed in your path were found to be non-existent: {PosixPath('ssh-rsa AAAAB3NzaC1yc2EAAAADAQABAAABgQDvnE4umHheXhWsDJbbukYvvyc47/mC4z8syS93btA72T90WDrQagOy5O+DrhdXOvr5i/JwsTlAImy57eLRrtRFOrQq73jyi7Dzo0tvrAiNLVgX2q2dFLoplRyXDXiVYLPmPieMWQOeUCLeSb8FC5zzllcocZwjMXpxScDerZqnlAR0ccpSkGyKIod4ZMkn/29A/C5kHEb/wT8cOAq+MWJ/2okZZgbiR0AMV4DynAkrtcx9JnJnTs9chiMyH+dyCS42Ai24sHWJBkQo6TfxXkyKo9GOpu3Y2WLgrHyaot9Lk5mA1mujyIWdlReD2nvjeCQKjl3KW3xZ73m4nD97MydWSWoJfEWlr+VZvk8EWsZk3CYLZCIBLdod6xXJJ0DD0pvTIq11c8VB7XkgVjapuU/sC8M6HFzHW/NBeE+xX/txPkZkIGqrnxeQ0AtBXdN9ukyNGhGzTkPYJNliiYpY0dCvVuz/BJ2FawFTQGnD1EHOenUCRajREFGCbKoYZqi40j8= utensil@Utensils-MacBook-Pro.local')}\n",
            "  warn(msg)\n",
            "/root/miniconda3/envs/py3.9/lib/python3.9/site-packages/bitsandbytes-0.39.0-py3.9.egg/bitsandbytes/cuda_setup/main.py:149: UserWarning: WARNING: The following directories listed in your path were found to be non-existent: {PosixPath('/tmp/torchelastic_1bxk43d5/none_skzfe6l4/attempt_0/0/error.json')}\n",
            "  warn(msg)\n",
            "CUDA_SETUP: WARNING! libcudart.so not found in any environmental path. Searching in backup paths...\n",
            "/root/miniconda3/envs/py3.9/lib/python3.9/site-packages/bitsandbytes-0.39.0-py3.9.egg/bitsandbytes/cuda_setup/main.py:149: UserWarning: Found duplicate ['libcudart.so', 'libcudart.so.11.0', 'libcudart.so.12.0'] files: {PosixPath('/usr/local/cuda/lib64/libcudart.so'), PosixPath('/usr/local/cuda/lib64/libcudart.so.11.0')}.. We'll flip a coin and try one of these, in order to fail forward.\n",
            "Either way, this might cause trouble in the future:\n",
            "If you get `CUDA error: invalid device function` errors, the above might be the cause and the solution is to make sure only one ['libcudart.so', 'libcudart.so.11.0', 'libcudart.so.12.0'] in the paths that we search based on your env.\n",
            "  warn(msg)\n",
            "CUDA SETUP: CUDA runtime path found: /usr/local/cuda/lib64/libcudart.so\n",
            "CUDA SETUP: Highest compute capability among GPUs detected: 8.0\n",
            "CUDA SETUP: Detected CUDA version 118\n",
            "CUDA SETUP: Loading binary /root/miniconda3/envs/py3.9/lib/python3.9/site-packages/bitsandbytes-0.39.0-py3.9.egg/bitsandbytes/libbitsandbytes_cuda118.so...\n",
            "WARNING:root:`trust_remote_code` is set to true. Please make sure that you reviewed the remote code/model.\n",
            "INFO:root:loading tokenizer... /content/llm-playground/models/tiiuae_falcon-40b\n",
            "Using bos_token, but it is not set yet.\n",
            "Using pad_token, but it is not set yet.\n",
            "Using unk_token, but it is not set yet.\n",
            "WARNING:root:`trust_remote_code` is set to true. Please make sure that you reviewed the remote code/model.\n",
            "INFO:root:loading tokenizer... /content/llm-playground/models/tiiuae_falcon-40b\n",
            "Using bos_token, but it is not set yet.\n",
            "Using pad_token, but it is not set yet.\n",
            "Using unk_token, but it is not set yet.\n",
            "WARNING:datasets.builder:Found cached dataset parquet (/root/.cache/huggingface/datasets/utensil___parquet/utensil--31a4e867d804a957707db033c9abcd13-7b1208a23cdad6e9/0.0.0/14a00e99c0d15a23649d0db8944380ac81082d4b021f398733dd84f3a6c569a7)\n",
            "100%|████████████████████████████████████████████| 1/1 [00:00<00:00, 226.89it/s]\n",
            "INFO:root:loading model and peft_config...\n",
            "WARNING:datasets.builder:Found cached dataset parquet (/root/.cache/huggingface/datasets/utensil___parquet/utensil--31a4e867d804a957707db033c9abcd13-7b1208a23cdad6e9/0.0.0/14a00e99c0d15a23649d0db8944380ac81082d4b021f398733dd84f3a6c569a7)\n",
            "100%|████████████████████████████████████████████| 1/1 [00:00<00:00, 474.52it/s]\n",
            "INFO:root:loading model and peft_config...\n",
            "Loading checkpoint shards: 100%|██████████████████| 9/9 [01:26<00:00,  9.58s/it]\n",
            "INFO:root:converting PEFT model w/ prepare_model_for_kbit_training\n",
            "INFO:root:found linear modules: ['query_key_value', 'dense_h_to_4h', 'dense', 'dense_4h_to_h']\n",
            "Loading checkpoint shards: 100%|██████████████████| 9/9 [01:56<00:00, 12.90s/it]\n",
            "INFO:root:converting PEFT model w/ prepare_model_for_kbit_training\n",
            "INFO:root:found linear modules: ['dense', 'dense_4h_to_h', 'dense_h_to_4h', 'query_key_value']\n",
            "trainable params: 444,334,080 || all params: 21,363,310,592 || trainable%: 2.0798933671188187\n",
            "[2023-06-15 05:57:13,398] [WARNING] [comm.py:152:init_deepspeed_backend] NCCL backend in DeepSpeed not yet implemented\n",
            "[2023-06-15 05:57:13,398] [INFO] [comm.py:594:init_distributed] cdb=None\n",
            "INFO:torch.distributed.distributed_c10d:Added key: store_based_barrier_key:1 to store for rank: 1\n",
            "INFO:torch.distributed.distributed_c10d:Waiting in store based barrier to initialize process group for rank: 1, key: store_based_barrier_key:1 (world_size=2, worker_count=1, timeout=0:30:00)\n",
            "INFO:torch.distributed.distributed_c10d:Waiting in store based barrier to initialize process group for rank: 1, key: store_based_barrier_key:1 (world_size=2, worker_count=1, timeout=0:30:00)\n",
            "INFO:torch.distributed.distributed_c10d:Waiting in store based barrier to initialize process group for rank: 1, key: store_based_barrier_key:1 (world_size=2, worker_count=1, timeout=0:30:00)\n",
            "INFO:torch.distributed.distributed_c10d:Waiting in store based barrier to initialize process group for rank: 1, key: store_based_barrier_key:1 (world_size=2, worker_count=1, timeout=0:30:00)\n",
            "trainable params: 444,334,080 || all params: 21,363,310,592 || trainable%: 2.0798933671188187\n",
            "[2023-06-15 05:57:58,323] [WARNING] [comm.py:152:init_deepspeed_backend] NCCL backend in DeepSpeed not yet implemented\n",
            "[2023-06-15 05:57:58,324] [INFO] [comm.py:594:init_distributed] cdb=None\n",
            "[2023-06-15 05:57:58,324] [INFO] [comm.py:625:init_distributed] Initializing TorchBackend in DeepSpeed with backend nccl\n",
            "INFO:torch.distributed.distributed_c10d:Added key: store_based_barrier_key:1 to store for rank: 0\n",
            "INFO:torch.distributed.distributed_c10d:Rank 0: Completed store-based barrier for key:store_based_barrier_key:1 with 2 nodes.\n",
            "INFO:torch.distributed.distributed_c10d:Rank 1: Completed store-based barrier for key:store_based_barrier_key:1 with 2 nodes.\n",
            "INFO:root:Compiling torch model\n",
            "INFO:root:Compiling torch model\n",
            "INFO:root:Pre-saving adapter config to /content/axolotl-trained/falcon-qlora-40b-gsm8k/\n",
            "INFO:root:Starting trainer...\n",
            "INFO:root:Pre-saving adapter config to /content/axolotl-trained/falcon-qlora-40b-gsm8k/\n",
            "INFO:root:Starting trainer...\n",
            "INFO:torch.distributed.distributed_c10d:Added key: store_based_barrier_key:2 to store for rank: 0\n",
            "INFO:torch.distributed.distributed_c10d:Added key: store_based_barrier_key:2 to store for rank: 1\n",
            "INFO:torch.distributed.distributed_c10d:Rank 1: Completed store-based barrier for key:store_based_barrier_key:2 with 2 nodes.\n",
            "INFO:torch.distributed.distributed_c10d:Rank 0: Completed store-based barrier for key:store_based_barrier_key:2 with 2 nodes.\n",
            "Parameter Offload: Total persistent parameters: 1982464 in 242 params\n",
            "\u001b[34m\u001b[1mwandb\u001b[0m: Currently logged in as: \u001b[33mutensil\u001b[0m. Use \u001b[1m`wandb login --relogin`\u001b[0m to force relogin\n",
            "\u001b[34m\u001b[1mwandb\u001b[0m: Tracking run with wandb version 0.15.4\n",
            "\u001b[34m\u001b[1mwandb\u001b[0m: Run data is saved locally in \u001b[35m\u001b[1m/workspace/axolotl/wandb/run-20230615_055816-m3g6ulyg\u001b[0m\n",
            "\u001b[34m\u001b[1mwandb\u001b[0m: Run \u001b[1m`wandb offline`\u001b[0m to turn off syncing.\n",
            "\u001b[34m\u001b[1mwandb\u001b[0m: Syncing run \u001b[33meffortless-night-33\u001b[0m\n",
            "\u001b[34m\u001b[1mwandb\u001b[0m: ⭐️ View project at \u001b[34m\u001b[4mhttps://wandb.ai/utensil/falcon-qlora\u001b[0m\n",
            "\u001b[34m\u001b[1mwandb\u001b[0m: 🚀 View run at \u001b[34m\u001b[4mhttps://wandb.ai/utensil/falcon-qlora/runs/m3g6ulyg\u001b[0m\n",
            "  0%|                                                 | 0/11097 [00:00<?, ?it/s]You're using a PreTrainedTokenizerFast tokenizer. Please note that with a fast tokenizer, using the `__call__` method is faster than using a method to encode the text followed by a call to the `pad` method to get a padded encoding.\n",
            "You're using a PreTrainedTokenizerFast tokenizer. Please note that with a fast tokenizer, using the `__call__` method is faster than using a method to encode the text followed by a call to the `pad` method to get a padded encoding.\n",
            "Traceback (most recent call last):\n",
            "  File \"/workspace/axolotl/scripts/finetune.py\", line 352, in <module>\n",
            "    fire.Fire(train)\n",
            "  File \"/root/miniconda3/envs/py3.9/lib/python3.9/site-packages/fire/core.py\", line 141, in Fire\n",
            "    component_trace = _Fire(component, args, parsed_flag_args, context, name)\n",
            "  File \"/root/miniconda3/envs/py3.9/lib/python3.9/site-packages/fire/core.py\", line 475, in _Fire\n",
            "    component, remaining_args = _CallAndUpdateTrace(\n",
            "  File \"/root/miniconda3/envs/py3.9/lib/python3.9/site-packages/fire/core.py\", line 691, in _CallAndUpdateTrace\n",
            "    component = fn(*varargs, **kwargs)\n",
            "  File \"/workspace/axolotl/scripts/finetune.py\", line 337, in train\n",
            "    trainer.train(resume_from_checkpoint=resume_from_checkpoint)\n",
            "  File \"/root/miniconda3/envs/py3.9/lib/python3.9/site-packages/transformers/trainer.py\", line 1539, in train\n",
            "    return inner_training_loop(\n",
            "  File \"/root/miniconda3/envs/py3.9/lib/python3.9/site-packages/transformers/trainer.py\", line 1801, in _inner_training_loop\n",
            "    tr_loss_step = self.training_step(model, inputs)\n",
            "  File \"/root/miniconda3/envs/py3.9/lib/python3.9/site-packages/transformers/trainer.py\", line 2647, in training_step\n",
            "    self.accelerator.backward(loss)\n",
            "  File \"/root/miniconda3/envs/py3.9/lib/python3.9/site-packages/accelerate/accelerator.py\", line 1835, in backward\n",
            "    self.deepspeed_engine_wrapped.backward(loss, **kwargs)\n",
            "  File \"/root/miniconda3/envs/py3.9/lib/python3.9/site-packages/accelerate/utils/deepspeed.py\", line 167, in backward\n",
            "    self.engine.backward(loss, **kwargs)\n",
            "  File \"/root/miniconda3/envs/py3.9/lib/python3.9/site-packages/deepspeed/utils/nvtx.py\", line 15, in wrapped_fn\n",
            "    ret_val = func(*args, **kwargs)\n",
            "  File \"/root/miniconda3/envs/py3.9/lib/python3.9/site-packages/deepspeed/runtime/engine.py\", line 1859, in backward\n",
            "    self.optimizer.backward(loss, retain_graph=retain_graph)\n",
            "  File \"/root/miniconda3/envs/py3.9/lib/python3.9/site-packages/deepspeed/utils/nvtx.py\", line 15, in wrapped_fn\n",
            "    ret_val = func(*args, **kwargs)\n",
            "  File \"/root/miniconda3/envs/py3.9/lib/python3.9/site-packages/deepspeed/runtime/zero/stage3.py\", line 1963, in backward\n",
            "    self.loss_scaler.backward(loss.float(), retain_graph=retain_graph)\n",
            "  File \"/root/miniconda3/envs/py3.9/lib/python3.9/site-packages/deepspeed/runtime/fp16/loss_scaler.py\", line 63, in backward\n",
            "    scaled_loss.backward(retain_graph=retain_graph)\n",
            "  File \"/root/miniconda3/envs/py3.9/lib/python3.9/site-packages/torch/_tensor.py\", line 487, in backward\n",
            "    torch.autograd.backward(\n",
            "  File \"/root/miniconda3/envs/py3.9/lib/python3.9/site-packages/torch/autograd/__init__.py\", line 200, in backward\n",
            "    Variable._execution_engine.run_backward(  # Calls into the C++ engine to run the backward pass\n",
            "  File \"/root/miniconda3/envs/py3.9/lib/python3.9/site-packages/torch/autograd/function.py\", line 274, in apply\n",
            "    return user_fn(self, *args)\n",
            "  File \"/root/miniconda3/envs/py3.9/lib/python3.9/site-packages/torch/utils/checkpoint.py\", line 141, in backward\n",
            "    outputs = ctx.run_function(*detached_inputs)\n",
            "  File \"/root/.cache/huggingface/modules/transformers_modules/tiiuae_falcon-40b/modelling_RW.py\", line 642, in custom_forward\n",
            "    return module(*inputs, use_cache=use_cache, output_attentions=output_attentions)\n",
            "  File \"/root/miniconda3/envs/py3.9/lib/python3.9/site-packages/torch/nn/modules/module.py\", line 1538, in _call_impl\n",
            "    result = forward_call(*args, **kwargs)\n",
            "  File \"/root/miniconda3/envs/py3.9/lib/python3.9/site-packages/accelerate/hooks.py\", line 165, in new_forward\n",
            "    output = old_forward(*args, **kwargs)\n",
            "  File \"/root/.cache/huggingface/modules/transformers_modules/tiiuae_falcon-40b/modelling_RW.py\", line 396, in forward\n",
            "    attn_outputs = self.self_attention(\n",
            "  File \"/root/miniconda3/envs/py3.9/lib/python3.9/site-packages/torch/nn/modules/module.py\", line 1538, in _call_impl\n",
            "    result = forward_call(*args, **kwargs)\n",
            "  File \"/root/miniconda3/envs/py3.9/lib/python3.9/site-packages/accelerate/hooks.py\", line 165, in new_forward\n",
            "    output = old_forward(*args, **kwargs)\n",
            "  File \"/root/.cache/huggingface/modules/transformers_modules/tiiuae_falcon-40b/modelling_RW.py\", line 252, in forward\n",
            "    fused_qkv = self.query_key_value(hidden_states)  # [batch_size, seq_length, 3 x hidden_size]\n",
            "  File \"/root/miniconda3/envs/py3.9/lib/python3.9/site-packages/torch/nn/modules/module.py\", line 1527, in _call_impl\n",
            "    result = hook(self, args)\n",
            "  File \"/root/miniconda3/envs/py3.9/lib/python3.9/site-packages/deepspeed/utils/nvtx.py\", line 15, in wrapped_fn\n",
            "    ret_val = func(*args, **kwargs)\n",
            "  File \"/root/miniconda3/envs/py3.9/lib/python3.9/site-packages/deepspeed/runtime/zero/parameter_offload.py\", line 371, in _pre_forward_module_hook\n",
            "    self.pre_sub_module_forward_function(module)\n",
            "  File \"/root/miniconda3/envs/py3.9/lib/python3.9/site-packages/torch/utils/_contextlib.py\", line 115, in decorate_context\n",
            "    return func(*args, **kwargs)\n",
            "  File \"/root/miniconda3/envs/py3.9/lib/python3.9/site-packages/deepspeed/runtime/zero/parameter_offload.py\", line 483, in pre_sub_module_forward_function\n",
            "    param_coordinator.fetch_sub_module(sub_module)\n",
            "  File \"/root/miniconda3/envs/py3.9/lib/python3.9/site-packages/deepspeed/utils/nvtx.py\", line 15, in wrapped_fn\n",
            "    ret_val = func(*args, **kwargs)\n",
            "  File \"/root/miniconda3/envs/py3.9/lib/python3.9/site-packages/torch/utils/_contextlib.py\", line 115, in decorate_context\n",
            "    return func(*args, **kwargs)\n",
            "  File \"/root/miniconda3/envs/py3.9/lib/python3.9/site-packages/deepspeed/runtime/zero/partitioned_param_coordinator.py\", line 251, in fetch_sub_module\n",
            "    self.__all_gather_params(params_to_fetch)\n",
            "  File \"/root/miniconda3/envs/py3.9/lib/python3.9/site-packages/deepspeed/utils/nvtx.py\", line 15, in wrapped_fn\n",
            "    ret_val = func(*args, **kwargs)\n",
            "  File \"/root/miniconda3/envs/py3.9/lib/python3.9/site-packages/deepspeed/runtime/zero/partitioned_param_coordinator.py\", line 381, in __all_gather_params\n",
            "    handle = partitioned_params[0].all_gather_coalesced(partitioned_params)\n",
            "  File \"/root/miniconda3/envs/py3.9/lib/python3.9/site-packages/deepspeed/utils/nvtx.py\", line 15, in wrapped_fn\n",
            "    ret_val = func(*args, **kwargs)\n",
            "  File \"/root/miniconda3/envs/py3.9/lib/python3.9/site-packages/deepspeed/runtime/zero/partition_parameters.py\", line 928, in all_gather_coalesced\n",
            "    dtype=get_only_unique_item(p.dtype for p in params),\n",
            "  File \"/root/miniconda3/envs/py3.9/lib/python3.9/site-packages/deepspeed/runtime/utils.py\", line 824, in get_only_unique_item\n",
            "    raise RuntimeError(f\"expected there to be only one unique element in {items}\")\n",
            "RuntimeError: expected there to be only one unique element in <generator object Init._convert_to_deepspeed_param.<locals>.all_gather_coalesced.<locals>.<genexpr> at 0x7fcca6664190>\n",
            "Traceback (most recent call last):\n",
            "  File \"/workspace/axolotl/scripts/finetune.py\", line 352, in <module>\n",
            "    fire.Fire(train)\n",
            "  File \"/root/miniconda3/envs/py3.9/lib/python3.9/site-packages/fire/core.py\", line 141, in Fire\n",
            "    component_trace = _Fire(component, args, parsed_flag_args, context, name)\n",
            "  File \"/root/miniconda3/envs/py3.9/lib/python3.9/site-packages/fire/core.py\", line 475, in _Fire\n",
            "    component, remaining_args = _CallAndUpdateTrace(\n",
            "  File \"/root/miniconda3/envs/py3.9/lib/python3.9/site-packages/fire/core.py\", line 691, in _CallAndUpdateTrace\n",
            "    component = fn(*varargs, **kwargs)\n",
            "  File \"/workspace/axolotl/scripts/finetune.py\", line 337, in train\n",
            "    trainer.train(resume_from_checkpoint=resume_from_checkpoint)\n",
            "  File \"/root/miniconda3/envs/py3.9/lib/python3.9/site-packages/transformers/trainer.py\", line 1539, in train\n",
            "    return inner_training_loop(\n",
            "  File \"/root/miniconda3/envs/py3.9/lib/python3.9/site-packages/transformers/trainer.py\", line 1801, in _inner_training_loop\n",
            "    tr_loss_step = self.training_step(model, inputs)\n",
            "  File \"/root/miniconda3/envs/py3.9/lib/python3.9/site-packages/transformers/trainer.py\", line 2647, in training_step\n",
            "    self.accelerator.backward(loss)\n",
            "  File \"/root/miniconda3/envs/py3.9/lib/python3.9/site-packages/accelerate/accelerator.py\", line 1835, in backward\n",
            "    self.deepspeed_engine_wrapped.backward(loss, **kwargs)\n",
            "  File \"/root/miniconda3/envs/py3.9/lib/python3.9/site-packages/accelerate/utils/deepspeed.py\", line 167, in backward\n",
            "    self.engine.backward(loss, **kwargs)\n",
            "  File \"/root/miniconda3/envs/py3.9/lib/python3.9/site-packages/deepspeed/utils/nvtx.py\", line 15, in wrapped_fn\n",
            "    ret_val = func(*args, **kwargs)\n",
            "  File \"/root/miniconda3/envs/py3.9/lib/python3.9/site-packages/deepspeed/runtime/engine.py\", line 1859, in backward\n",
            "    self.optimizer.backward(loss, retain_graph=retain_graph)\n",
            "  File \"/root/miniconda3/envs/py3.9/lib/python3.9/site-packages/deepspeed/utils/nvtx.py\", line 15, in wrapped_fn\n",
            "    ret_val = func(*args, **kwargs)\n",
            "  File \"/root/miniconda3/envs/py3.9/lib/python3.9/site-packages/deepspeed/runtime/zero/stage3.py\", line 1963, in backward\n",
            "    self.loss_scaler.backward(loss.float(), retain_graph=retain_graph)\n",
            "  File \"/root/miniconda3/envs/py3.9/lib/python3.9/site-packages/deepspeed/runtime/fp16/loss_scaler.py\", line 63, in backward\n",
            "    scaled_loss.backward(retain_graph=retain_graph)\n",
            "  File \"/root/miniconda3/envs/py3.9/lib/python3.9/site-packages/torch/_tensor.py\", line 487, in backward\n",
            "    torch.autograd.backward(\n",
            "  File \"/root/miniconda3/envs/py3.9/lib/python3.9/site-packages/torch/autograd/__init__.py\", line 200, in backward\n",
            "    Variable._execution_engine.run_backward(  # Calls into the C++ engine to run the backward pass\n",
            "  File \"/root/miniconda3/envs/py3.9/lib/python3.9/site-packages/torch/autograd/function.py\", line 274, in apply\n",
            "    return user_fn(self, *args)\n",
            "  File \"/root/miniconda3/envs/py3.9/lib/python3.9/site-packages/torch/utils/checkpoint.py\", line 141, in backward\n",
            "    outputs = ctx.run_function(*detached_inputs)\n",
            "  File \"/root/.cache/huggingface/modules/transformers_modules/tiiuae_falcon-40b/modelling_RW.py\", line 642, in custom_forward\n",
            "    return module(*inputs, use_cache=use_cache, output_attentions=output_attentions)\n",
            "  File \"/root/miniconda3/envs/py3.9/lib/python3.9/site-packages/torch/nn/modules/module.py\", line 1538, in _call_impl\n",
            "    result = forward_call(*args, **kwargs)\n",
            "  File \"/root/miniconda3/envs/py3.9/lib/python3.9/site-packages/accelerate/hooks.py\", line 165, in new_forward\n",
            "    output = old_forward(*args, **kwargs)\n",
            "  File \"/root/.cache/huggingface/modules/transformers_modules/tiiuae_falcon-40b/modelling_RW.py\", line 396, in forward\n",
            "    attn_outputs = self.self_attention(\n",
            "  File \"/root/miniconda3/envs/py3.9/lib/python3.9/site-packages/torch/nn/modules/module.py\", line 1538, in _call_impl\n",
            "    result = forward_call(*args, **kwargs)\n",
            "  File \"/root/miniconda3/envs/py3.9/lib/python3.9/site-packages/accelerate/hooks.py\", line 165, in new_forward\n",
            "    output = old_forward(*args, **kwargs)\n",
            "  File \"/root/.cache/huggingface/modules/transformers_modules/tiiuae_falcon-40b/modelling_RW.py\", line 252, in forward\n",
            "    fused_qkv = self.query_key_value(hidden_states)  # [batch_size, seq_length, 3 x hidden_size]\n",
            "  File \"/root/miniconda3/envs/py3.9/lib/python3.9/site-packages/torch/nn/modules/module.py\", line 1527, in _call_impl\n",
            "    result = hook(self, args)\n",
            "  File \"/root/miniconda3/envs/py3.9/lib/python3.9/site-packages/deepspeed/utils/nvtx.py\", line 15, in wrapped_fn\n",
            "    ret_val = func(*args, **kwargs)\n",
            "  File \"/root/miniconda3/envs/py3.9/lib/python3.9/site-packages/deepspeed/runtime/zero/parameter_offload.py\", line 371, in _pre_forward_module_hook\n",
            "    self.pre_sub_module_forward_function(module)\n",
            "  File \"/root/miniconda3/envs/py3.9/lib/python3.9/site-packages/torch/utils/_contextlib.py\", line 115, in decorate_context\n",
            "    return func(*args, **kwargs)\n",
            "  File \"/root/miniconda3/envs/py3.9/lib/python3.9/site-packages/deepspeed/runtime/zero/parameter_offload.py\", line 483, in pre_sub_module_forward_function\n",
            "    param_coordinator.fetch_sub_module(sub_module)\n",
            "  File \"/root/miniconda3/envs/py3.9/lib/python3.9/site-packages/deepspeed/utils/nvtx.py\", line 15, in wrapped_fn\n",
            "    ret_val = func(*args, **kwargs)\n",
            "  File \"/root/miniconda3/envs/py3.9/lib/python3.9/site-packages/torch/utils/_contextlib.py\", line 115, in decorate_context\n",
            "    return func(*args, **kwargs)\n",
            "  File \"/root/miniconda3/envs/py3.9/lib/python3.9/site-packages/deepspeed/runtime/zero/partitioned_param_coordinator.py\", line 251, in fetch_sub_module\n",
            "    self.__all_gather_params(params_to_fetch)\n",
            "  File \"/root/miniconda3/envs/py3.9/lib/python3.9/site-packages/deepspeed/utils/nvtx.py\", line 15, in wrapped_fn\n",
            "    ret_val = func(*args, **kwargs)\n",
            "  File \"/root/miniconda3/envs/py3.9/lib/python3.9/site-packages/deepspeed/runtime/zero/partitioned_param_coordinator.py\", line 381, in __all_gather_params\n",
            "    handle = partitioned_params[0].all_gather_coalesced(partitioned_params)\n",
            "  File \"/root/miniconda3/envs/py3.9/lib/python3.9/site-packages/deepspeed/utils/nvtx.py\", line 15, in wrapped_fn\n",
            "    ret_val = func(*args, **kwargs)\n",
            "  File \"/root/miniconda3/envs/py3.9/lib/python3.9/site-packages/deepspeed/runtime/zero/partition_parameters.py\", line 928, in all_gather_coalesced\n",
            "    dtype=get_only_unique_item(p.dtype for p in params),\n",
            "  File \"/root/miniconda3/envs/py3.9/lib/python3.9/site-packages/deepspeed/runtime/utils.py\", line 824, in get_only_unique_item\n",
            "    raise RuntimeError(f\"expected there to be only one unique element in {items}\")\n",
            "RuntimeError: expected there to be only one unique element in <generator object Init._convert_to_deepspeed_param.<locals>.all_gather_coalesced.<locals>.<genexpr> at 0x7feeaf14b3c0>\n",
            "\u001b[34m\u001b[1mwandb\u001b[0m: Waiting for W&B process to finish... \u001b[31m(failed 1).\u001b[0m Press Control-C to abort syncing.\n",
            "\u001b[34m\u001b[1mwandb\u001b[0m: 🚀 View run \u001b[33meffortless-night-33\u001b[0m at: \u001b[34m\u001b[4mhttps://wandb.ai/utensil/falcon-qlora/runs/m3g6ulyg\u001b[0m\n",
            "\u001b[34m\u001b[1mwandb\u001b[0m: Synced 6 W&B file(s), 0 media file(s), 0 artifact file(s) and 0 other file(s)\n",
            "\u001b[34m\u001b[1mwandb\u001b[0m: Find logs at: \u001b[35m\u001b[1m./wandb/run-20230615_055816-m3g6ulyg/logs\u001b[0m\n",
            "WARNING:torch.distributed.elastic.multiprocessing.api:Sending process 1286 closing signal SIGTERM\n",
            "ERROR:torch.distributed.elastic.multiprocessing.api:failed (exitcode: 1) local_rank: 1 (pid: 1287) of binary: /root/miniconda3/envs/py3.9/bin/python3\n",
            "Traceback (most recent call last):\n",
            "  File \"/root/miniconda3/envs/py3.9/bin/accelerate\", line 8, in <module>\n",
            "    sys.exit(main())\n",
            "  File \"/root/miniconda3/envs/py3.9/lib/python3.9/site-packages/accelerate/commands/accelerate_cli.py\", line 45, in main\n",
            "    args.func(args)\n",
            "  File \"/root/miniconda3/envs/py3.9/lib/python3.9/site-packages/accelerate/commands/launch.py\", line 960, in launch_command\n",
            "    multi_gpu_launcher(args)\n",
            "  File \"/root/miniconda3/envs/py3.9/lib/python3.9/site-packages/accelerate/commands/launch.py\", line 649, in multi_gpu_launcher\n",
            "    distrib_run.run(args)\n",
            "  File \"/root/miniconda3/envs/py3.9/lib/python3.9/site-packages/torch/distributed/run.py\", line 785, in run\n",
            "    elastic_launch(\n",
            "  File \"/root/miniconda3/envs/py3.9/lib/python3.9/site-packages/torch/distributed/launcher/api.py\", line 134, in __call__\n",
            "    return launch_agent(self._config, self._entrypoint, list(args))\n",
            "  File \"/root/miniconda3/envs/py3.9/lib/python3.9/site-packages/torch/distributed/launcher/api.py\", line 250, in launch_agent\n",
            "    raise ChildFailedError(\n",
            "torch.distributed.elastic.multiprocessing.errors.ChildFailedError: \n",
            "============================================================\n",
            "scripts/finetune.py FAILED\n",
            "------------------------------------------------------------\n",
            "Failures:\n",
            "  <NO_OTHER_FAILURES>\n",
            "------------------------------------------------------------\n",
            "Root Cause (first observed failure):\n",
            "[0]:\n",
            "  time      : 2023-06-15_05:58:26\n",
            "  host      : 45b6a43d80e9\n",
            "  rank      : 1 (local_rank: 1)\n",
            "  exitcode  : 1 (pid: 1287)\n",
            "  error_file: <N/A>\n",
            "  traceback : To enable traceback see: https://pytorch.org/docs/stable/elastic/errors.html\n",
            "============================================================\n"
          ]
        }
      ],
      "source": [
        "!accelerate launch scripts/finetune.py examples/falcon/config-40b-qlora.yml"
      ]
    },
    {
      "cell_type": "markdown",
      "metadata": {
        "id": "yIfs-AbKDY7K"
      },
      "source": [
        "## #2 ACC mbs 8 2xA100"
      ]
    },
    {
      "cell_type": "code",
      "execution_count": null,
      "metadata": {
        "id": "3gNWb1VKgJ8S",
        "outputId": "3c13a723-e8be-4ecf-f3fb-8b11286bc442"
      },
      "outputs": [
        {
          "name": "stdout",
          "output_type": "stream",
          "text": [
            "env: ACCELERATE_USE_DEEPSPEED=false\n"
          ]
        }
      ],
      "source": [
        "%env ACCELERATE_USE_DEEPSPEED=false"
      ]
    },
    {
      "cell_type": "code",
      "execution_count": null,
      "metadata": {
        "id": "6U1u8RtbDY7K",
        "scrolled": true,
        "outputId": "b677d2aa-5875-4fe8-f270-0f74360dbb79"
      },
      "outputs": [
        {
          "name": "stdout",
          "output_type": "stream",
          "text": [
            "# 1b: tiiuae/falcon-rw-1b\n",
            "# 7b: tiiuae/falcon-7b\n",
            "# 40b: tiiuae/falcon-40b\n",
            "base_model: /content/llm-playground/models/tiiuae_falcon-40b\n",
            "base_model_config: /content/llm-playground/models/tiiuae_falcon-40b\n",
            "# required by falcon custom model code: https://huggingface.co/tiiuae/falcon-7b/tree/main\n",
            "trust_remote_code: true\n",
            "model_type: AutoModelForCausalLM\n",
            "tokenizer_type: AutoTokenizer\n",
            "load_in_8bit: false\n",
            "# enable 4bit for QLoRA\n",
            "load_in_4bit: true\n",
            "gptq: false\n",
            "strict: false\n",
            "\n",
            "push_dataset_to_hub: utensil\n",
            "hf_use_auth_token: true\n",
            "\n",
            "datasets:\n",
            "  - path: QingyiSi/Alpaca-CoT\n",
            "    data_files:\n",
            "      - Chain-of-Thought/formatted_cot_data/gsm8k_train.json\n",
            "    type: \"alpaca:chat\"\n",
            "\n",
            "dataset_prepared_path: last_run_prepared\n",
            "val_set_size: 0.01\n",
            "# enable QLoRA\n",
            "adapter: qlora\n",
            "lora_model_dir:\n",
            "sequence_len: 2048\n",
            "max_packed_sequence_len:\n",
            "\n",
            "# hyperparameters from QLoRA paper Appendix B.2\n",
            "# \"We find hyperparameters to be largely robust across datasets\"\n",
            "lora_r: 64\n",
            "lora_alpha: 16\n",
            "# 0.1 for models up to 13B\n",
            "# 0.05 for 33B and 65B models\n",
            "lora_dropout: 0.05\n",
            "# add LoRA modules on all linear layers of the base model\n",
            "lora_target_modules:\n",
            "lora_target_linear: true\n",
            "lora_fan_in_fan_out:\n",
            "\n",
            "wandb_project: falcon-qlora\n",
            "wandb_watch:\n",
            "wandb_run_id:\n",
            "wandb_log_model:\n",
            "output_dir: /content/axolotl-trained/falcon-qlora-40b-gsm8k/\n",
            "\n",
            "# QLoRA paper Table 9\n",
            "# - 16 for 7b & 13b\n",
            "# - 32 for 33b, 64 for 64b\n",
            "# Max size tested on A6000\n",
            "# - 7b: 40\n",
            "# - 40b: 4\n",
            "# decrease if OOM, increase for max VRAM utilization\n",
            "micro_batch_size: 8\n",
            "gradient_accumulation_steps: 1\n",
            "num_epochs: 3\n",
            "# Optimizer for QLoRA\n",
            "# optimizer: paged_adamw_32bit\n",
            "torchdistx_path:\n",
            "# lr_scheduler: cosine\n",
            "# QLoRA paper Table 9\n",
            "# - 2e-4 for 7b & 13b\n",
            "# - 1e-4 for 33b & 64b\n",
            "learning_rate: 0.0002\n",
            "train_on_inputs: false\n",
            "group_by_length: false\n",
            "bf16: true\n",
            "fp16: false\n",
            "tf32: true\n",
            "gradient_checkpointing: true\n",
            "# stop training after this many evaluation losses have increased in a row\n",
            "# https://huggingface.co/transformers/v4.2.2/_modules/transformers/trainer_callback.html#EarlyStoppingCallback\n",
            "early_stopping_patience: 3\n",
            "resume_from_checkpoint:\n",
            "auto_resume_from_checkpoints: true\n",
            "local_rank:\n",
            "logging_steps: 1\n",
            "xformers_attention: true\n",
            "flash_attention:\n",
            "gptq_groupsize:\n",
            "gptq_model_v1:\n",
            "warmup_steps: 10\n",
            "eval_steps: 5\n",
            "save_steps: 10\n",
            "debug:\n",
            "deepspeed:\n",
            "weight_decay: 0.01\n",
            "fsdp:\n",
            "fsdp_config:\n",
            "special_tokens:\n",
            "  pad_token: \"<|endoftext|>\"\n",
            "  bos_token: \">>ABSTRACT<<\"\n",
            "  eos_token: \"<|endoftext|>\"\n"
          ]
        }
      ],
      "source": [
        "!cat examples/falcon/config-40b-qlora.yml"
      ]
    },
    {
      "cell_type": "code",
      "execution_count": null,
      "metadata": {
        "id": "3EeOND66dDnF"
      },
      "outputs": [],
      "source": [
        "!ds_report"
      ]
    },
    {
      "cell_type": "code",
      "execution_count": null,
      "metadata": {
        "id": "jnz7AF94LJTa"
      },
      "outputs": [],
      "source": [
        "#%%writefile examples/falcon/config-40b-qlora.yml"
      ]
    },
    {
      "cell_type": "code",
      "execution_count": null,
      "metadata": {
        "id": "xR8QPcw3DY7K",
        "scrolled": true,
        "outputId": "c62e94cf-a16f-4414-b178-3873e821d64e"
      },
      "outputs": [
        {
          "name": "stdout",
          "output_type": "stream",
          "text": [
            "Setting ds_accelerator to cuda (auto detect)\n",
            "The following values were not passed to `accelerate launch` and had defaults used instead:\n",
            "\t`--num_processes` was set to a value of `2`\n",
            "\t\tMore than one GPU was found, enabling multi-GPU training.\n",
            "\t\tIf this was unintended please pass in `--num_processes=1`.\n",
            "\t`--num_machines` was set to a value of `1`\n",
            "\t`--mixed_precision` was set to a value of `'no'`\n",
            "\t`--dynamo_backend` was set to a value of `'no'`\n",
            "To avoid this warning pass in values for each of the problematic parameters or run `accelerate config`.\n",
            "Setting ds_accelerator to cuda (auto detect)\n",
            "Setting ds_accelerator to cuda (auto detect)\n",
            "\n",
            "===================================BUG REPORT===================================\n",
            "Welcome to bitsandbytes. For bug reports, please run\n",
            "\n",
            "python -m bitsandbytes\n",
            "\n",
            " and submit this information together with your error trace to: https://github.com/TimDettmers/bitsandbytes/issues\n",
            "================================================================================\n",
            "bin /root/miniconda3/envs/py3.9/lib/python3.9/site-packages/bitsandbytes-0.39.0-py3.9.egg/bitsandbytes/libbitsandbytes_cuda118.so\n",
            "/root/miniconda3/envs/py3.9/lib/python3.9/site-packages/bitsandbytes-0.39.0-py3.9.egg/bitsandbytes/cuda_setup/main.py:149: UserWarning: WARNING: The following directories listed in your path were found to be non-existent: {PosixPath('/usr/local/nvidia/lib64'), PosixPath('/usr/local/nvidia/lib')}\n",
            "  warn(msg)\n",
            "/root/miniconda3/envs/py3.9/lib/python3.9/site-packages/bitsandbytes-0.39.0-py3.9.egg/bitsandbytes/cuda_setup/main.py:149: UserWarning: /usr/local/nvidia/lib:/usr/local/nvidia/lib64 did not contain ['libcudart.so', 'libcudart.so.11.0', 'libcudart.so.12.0'] as expected! Searching further paths...\n",
            "  warn(msg)\n",
            "/root/miniconda3/envs/py3.9/lib/python3.9/site-packages/bitsandbytes-0.39.0-py3.9.egg/bitsandbytes/cuda_setup/main.py:149: UserWarning: WARNING: The following directories listed in your path were found to be non-existent: {PosixPath('//matplotlib_inline.backend_inline'), PosixPath('module')}\n",
            "  warn(msg)\n",
            "/root/miniconda3/envs/py3.9/lib/python3.9/site-packages/bitsandbytes-0.39.0-py3.9.egg/bitsandbytes/cuda_setup/main.py:149: UserWarning: WARNING: The following directories listed in your path were found to be non-existent: {PosixPath('ssh-rsa AAAAB3NzaC1yc2EAAAADAQABAAABgQDvnE4umHheXhWsDJbbukYvvyc47/mC4z8syS93btA72T90WDrQagOy5O+DrhdXOvr5i/JwsTlAImy57eLRrtRFOrQq73jyi7Dzo0tvrAiNLVgX2q2dFLoplRyXDXiVYLPmPieMWQOeUCLeSb8FC5zzllcocZwjMXpxScDerZqnlAR0ccpSkGyKIod4ZMkn/29A/C5kHEb/wT8cOAq+MWJ/2okZZgbiR0AMV4DynAkrtcx9JnJnTs9chiMyH+dyCS42Ai24sHWJBkQo6TfxXkyKo9GOpu3Y2WLgrHyaot9Lk5mA1mujyIWdlReD2nvjeCQKjl3KW3xZ73m4nD97MydWSWoJfEWlr+VZvk8EWsZk3CYLZCIBLdod6xXJJ0DD0pvTIq11c8VB7XkgVjapuU/sC8M6HFzHW/NBeE+xX/txPkZkIGqrnxeQ0AtBXdN9ukyNGhGzTkPYJNliiYpY0dCvVuz/BJ2FawFTQGnD1EHOenUCRajREFGCbKoYZqi40j8= utensil@Utensils-MacBook-Pro.local')}\n",
            "  warn(msg)\n",
            "/root/miniconda3/envs/py3.9/lib/python3.9/site-packages/bitsandbytes-0.39.0-py3.9.egg/bitsandbytes/cuda_setup/main.py:149: UserWarning: WARNING: The following directories listed in your path were found to be non-existent: {PosixPath('/tmp/torchelastic_di0knv5h/none_klqtan3d/attempt_0/0/error.json')}\n",
            "  warn(msg)\n",
            "CUDA_SETUP: WARNING! libcudart.so not found in any environmental path. Searching in backup paths...\n",
            "/root/miniconda3/envs/py3.9/lib/python3.9/site-packages/bitsandbytes-0.39.0-py3.9.egg/bitsandbytes/cuda_setup/main.py:149: UserWarning: Found duplicate ['libcudart.so', 'libcudart.so.11.0', 'libcudart.so.12.0'] files: {PosixPath('/usr/local/cuda/lib64/libcudart.so.11.0'), PosixPath('/usr/local/cuda/lib64/libcudart.so')}.. We'll flip a coin and try one of these, in order to fail forward.\n",
            "Either way, this might cause trouble in the future:\n",
            "If you get `CUDA error: invalid device function` errors, the above might be the cause and the solution is to make sure only one ['libcudart.so', 'libcudart.so.11.0', 'libcudart.so.12.0'] in the paths that we search based on your env.\n",
            "  warn(msg)\n",
            "CUDA SETUP: CUDA runtime path found: /usr/local/cuda/lib64/libcudart.so.11.0\n",
            "CUDA SETUP: Highest compute capability among GPUs detected: 8.0\n",
            "CUDA SETUP: Detected CUDA version 118\n",
            "CUDA SETUP: Loading binary /root/miniconda3/envs/py3.9/lib/python3.9/site-packages/bitsandbytes-0.39.0-py3.9.egg/bitsandbytes/libbitsandbytes_cuda118.so...\n",
            "\n",
            "===================================BUG REPORT===================================\n",
            "Welcome to bitsandbytes. For bug reports, please run\n",
            "\n",
            "python -m bitsandbytes\n",
            "\n",
            " and submit this information together with your error trace to: https://github.com/TimDettmers/bitsandbytes/issues\n",
            "================================================================================\n",
            "bin /root/miniconda3/envs/py3.9/lib/python3.9/site-packages/bitsandbytes-0.39.0-py3.9.egg/bitsandbytes/libbitsandbytes_cuda118.so\n",
            "/root/miniconda3/envs/py3.9/lib/python3.9/site-packages/bitsandbytes-0.39.0-py3.9.egg/bitsandbytes/cuda_setup/main.py:149: UserWarning: WARNING: The following directories listed in your path were found to be non-existent: {PosixPath('/usr/local/nvidia/lib'), PosixPath('/usr/local/nvidia/lib64')}\n",
            "  warn(msg)\n",
            "/root/miniconda3/envs/py3.9/lib/python3.9/site-packages/bitsandbytes-0.39.0-py3.9.egg/bitsandbytes/cuda_setup/main.py:149: UserWarning: /usr/local/nvidia/lib:/usr/local/nvidia/lib64 did not contain ['libcudart.so', 'libcudart.so.11.0', 'libcudart.so.12.0'] as expected! Searching further paths...\n",
            "  warn(msg)\n",
            "/root/miniconda3/envs/py3.9/lib/python3.9/site-packages/bitsandbytes-0.39.0-py3.9.egg/bitsandbytes/cuda_setup/main.py:149: UserWarning: WARNING: The following directories listed in your path were found to be non-existent: {PosixPath('//matplotlib_inline.backend_inline'), PosixPath('module')}\n",
            "  warn(msg)\n",
            "/root/miniconda3/envs/py3.9/lib/python3.9/site-packages/bitsandbytes-0.39.0-py3.9.egg/bitsandbytes/cuda_setup/main.py:149: UserWarning: WARNING: The following directories listed in your path were found to be non-existent: {PosixPath('ssh-rsa AAAAB3NzaC1yc2EAAAADAQABAAABgQDvnE4umHheXhWsDJbbukYvvyc47/mC4z8syS93btA72T90WDrQagOy5O+DrhdXOvr5i/JwsTlAImy57eLRrtRFOrQq73jyi7Dzo0tvrAiNLVgX2q2dFLoplRyXDXiVYLPmPieMWQOeUCLeSb8FC5zzllcocZwjMXpxScDerZqnlAR0ccpSkGyKIod4ZMkn/29A/C5kHEb/wT8cOAq+MWJ/2okZZgbiR0AMV4DynAkrtcx9JnJnTs9chiMyH+dyCS42Ai24sHWJBkQo6TfxXkyKo9GOpu3Y2WLgrHyaot9Lk5mA1mujyIWdlReD2nvjeCQKjl3KW3xZ73m4nD97MydWSWoJfEWlr+VZvk8EWsZk3CYLZCIBLdod6xXJJ0DD0pvTIq11c8VB7XkgVjapuU/sC8M6HFzHW/NBeE+xX/txPkZkIGqrnxeQ0AtBXdN9ukyNGhGzTkPYJNliiYpY0dCvVuz/BJ2FawFTQGnD1EHOenUCRajREFGCbKoYZqi40j8= utensil@Utensils-MacBook-Pro.local')}\n",
            "  warn(msg)\n",
            "/root/miniconda3/envs/py3.9/lib/python3.9/site-packages/bitsandbytes-0.39.0-py3.9.egg/bitsandbytes/cuda_setup/main.py:149: UserWarning: WARNING: The following directories listed in your path were found to be non-existent: {PosixPath('/tmp/torchelastic_di0knv5h/none_klqtan3d/attempt_0/1/error.json')}\n",
            "  warn(msg)\n",
            "CUDA_SETUP: WARNING! libcudart.so not found in any environmental path. Searching in backup paths...\n",
            "/root/miniconda3/envs/py3.9/lib/python3.9/site-packages/bitsandbytes-0.39.0-py3.9.egg/bitsandbytes/cuda_setup/main.py:149: UserWarning: Found duplicate ['libcudart.so', 'libcudart.so.11.0', 'libcudart.so.12.0'] files: {PosixPath('/usr/local/cuda/lib64/libcudart.so'), PosixPath('/usr/local/cuda/lib64/libcudart.so.11.0')}.. We'll flip a coin and try one of these, in order to fail forward.\n",
            "Either way, this might cause trouble in the future:\n",
            "If you get `CUDA error: invalid device function` errors, the above might be the cause and the solution is to make sure only one ['libcudart.so', 'libcudart.so.11.0', 'libcudart.so.12.0'] in the paths that we search based on your env.\n",
            "  warn(msg)\n",
            "CUDA SETUP: CUDA runtime path found: /usr/local/cuda/lib64/libcudart.so\n",
            "CUDA SETUP: Highest compute capability among GPUs detected: 8.0\n",
            "CUDA SETUP: Detected CUDA version 118\n",
            "CUDA SETUP: Loading binary /root/miniconda3/envs/py3.9/lib/python3.9/site-packages/bitsandbytes-0.39.0-py3.9.egg/bitsandbytes/libbitsandbytes_cuda118.so...\n",
            "WARNING:root:`trust_remote_code` is set to true. Please make sure that you reviewed the remote code/model.\n",
            "INFO:root:loading tokenizer... /content/llm-playground/models/tiiuae_falcon-40b\n",
            "WARNING:root:`trust_remote_code` is set to true. Please make sure that you reviewed the remote code/model.\n",
            "INFO:root:loading tokenizer... /content/llm-playground/models/tiiuae_falcon-40b\n",
            "Using bos_token, but it is not set yet.\n",
            "Using pad_token, but it is not set yet.\n",
            "Using unk_token, but it is not set yet.\n",
            "Using bos_token, but it is not set yet.\n",
            "Using pad_token, but it is not set yet.\n",
            "Using unk_token, but it is not set yet.\n",
            "WARNING:datasets.builder:Found cached dataset parquet (/root/.cache/huggingface/datasets/utensil___parquet/utensil--31a4e867d804a957707db033c9abcd13-7b1208a23cdad6e9/0.0.0/14a00e99c0d15a23649d0db8944380ac81082d4b021f398733dd84f3a6c569a7)\n",
            "100%|████████████████████████████████████████████| 1/1 [00:00<00:00, 361.52it/s]\n",
            "INFO:root:loading model and peft_config...\n",
            "WARNING:datasets.builder:Found cached dataset parquet (/root/.cache/huggingface/datasets/utensil___parquet/utensil--31a4e867d804a957707db033c9abcd13-7b1208a23cdad6e9/0.0.0/14a00e99c0d15a23649d0db8944380ac81082d4b021f398733dd84f3a6c569a7)\n",
            "100%|████████████████████████████████████████████| 1/1 [00:00<00:00, 470.06it/s]\n",
            "INFO:root:loading model and peft_config...\n",
            "Loading checkpoint shards: 100%|██████████████████| 9/9 [01:27<00:00,  9.69s/it]\n",
            "INFO:root:converting PEFT model w/ prepare_model_for_kbit_training\n",
            "INFO:root:found linear modules: ['query_key_value', 'dense_4h_to_h', 'dense', 'dense_h_to_4h']\n",
            "Loading checkpoint shards: 100%|██████████████████| 9/9 [01:52<00:00, 12.50s/it]\n",
            "INFO:root:converting PEFT model w/ prepare_model_for_kbit_training\n",
            "INFO:root:found linear modules: ['dense_h_to_4h', 'query_key_value', 'dense_4h_to_h', 'dense']\n",
            "trainable params: 444,334,080 || all params: 21,363,310,592 || trainable%: 2.0798933671188187\n",
            "INFO:torch.distributed.distributed_c10d:Added key: store_based_barrier_key:1 to store for rank: 1\n",
            "INFO:torch.distributed.distributed_c10d:Waiting in store based barrier to initialize process group for rank: 1, key: store_based_barrier_key:1 (world_size=2, worker_count=1, timeout=0:30:00)\n",
            "INFO:torch.distributed.distributed_c10d:Waiting in store based barrier to initialize process group for rank: 1, key: store_based_barrier_key:1 (world_size=2, worker_count=1, timeout=0:30:00)\n",
            "trainable params: 444,334,080 || all params: 21,363,310,592 || trainable%: 2.0798933671188187\n",
            "INFO:torch.distributed.distributed_c10d:Added key: store_based_barrier_key:1 to store for rank: 0\n",
            "INFO:torch.distributed.distributed_c10d:Rank 0: Completed store-based barrier for key:store_based_barrier_key:1 with 2 nodes.\n",
            "INFO:torch.distributed.distributed_c10d:Rank 1: Completed store-based barrier for key:store_based_barrier_key:1 with 2 nodes.\n",
            "INFO:root:Compiling torch model\n",
            "INFO:root:Compiling torch model\n",
            "INFO:root:Pre-saving adapter config to /content/axolotl-trained/falcon-qlora-40b-gsm8k/\n",
            "INFO:root:Starting trainer...\n",
            "INFO:root:Pre-saving adapter config to /content/axolotl-trained/falcon-qlora-40b-gsm8k/\n",
            "INFO:root:Starting trainer...\n",
            "/root/miniconda3/envs/py3.9/lib/python3.9/site-packages/transformers/optimization.py:411: FutureWarning: This implementation of AdamW is deprecated and will be removed in a future version. Use the PyTorch implementation torch.optim.AdamW instead, or set `no_deprecation_warning=True` to disable this warning\n",
            "  warnings.warn(\n",
            "/root/miniconda3/envs/py3.9/lib/python3.9/site-packages/transformers/optimization.py:411: FutureWarning: This implementation of AdamW is deprecated and will be removed in a future version. Use the PyTorch implementation torch.optim.AdamW instead, or set `no_deprecation_warning=True` to disable this warning\n",
            "  warnings.warn(\n",
            "\u001b[34m\u001b[1mwandb\u001b[0m: Currently logged in as: \u001b[33mutensil\u001b[0m. Use \u001b[1m`wandb login --relogin`\u001b[0m to force relogin\n",
            "\u001b[34m\u001b[1mwandb\u001b[0m: Tracking run with wandb version 0.15.4\n",
            "\u001b[34m\u001b[1mwandb\u001b[0m: Run data is saved locally in \u001b[35m\u001b[1m/workspace/axolotl/wandb/run-20230615_060713-f6n8z72h\u001b[0m\n",
            "\u001b[34m\u001b[1mwandb\u001b[0m: Run \u001b[1m`wandb offline`\u001b[0m to turn off syncing.\n",
            "\u001b[34m\u001b[1mwandb\u001b[0m: Syncing run \u001b[33mrich-snowball-34\u001b[0m\n",
            "\u001b[34m\u001b[1mwandb\u001b[0m: ⭐️ View project at \u001b[34m\u001b[4mhttps://wandb.ai/utensil/falcon-qlora\u001b[0m\n",
            "\u001b[34m\u001b[1mwandb\u001b[0m: 🚀 View run at \u001b[34m\u001b[4mhttps://wandb.ai/utensil/falcon-qlora/runs/f6n8z72h\u001b[0m\n",
            "  0%|                                                  | 0/1389 [00:00<?, ?it/s]You're using a PreTrainedTokenizerFast tokenizer. Please note that with a fast tokenizer, using the `__call__` method is faster than using a method to encode the text followed by a call to the `pad` method to get a padded encoding.\n",
            "You're using a PreTrainedTokenizerFast tokenizer. Please note that with a fast tokenizer, using the `__call__` method is faster than using a method to encode the text followed by a call to the `pad` method to get a padded encoding.\n",
            "{'loss': 0.8923, 'learning_rate': 2e-05, 'epoch': 0.0}                          \n",
            "  0%|                                        | 1/1389 [00:05<2:12:44,  5.74s/it]INFO:torch.nn.parallel.distributed:Reducer buckets have been rebuilt in this iteration.\n",
            "INFO:torch.nn.parallel.distributed:Reducer buckets have been rebuilt in this iteration.\n",
            "{'loss': 0.966, 'learning_rate': 4e-05, 'epoch': 0.0}                           \n",
            "{'loss': 0.8753, 'learning_rate': 6e-05, 'epoch': 0.01}                         \n",
            "{'loss': 0.9189, 'learning_rate': 8e-05, 'epoch': 0.01}                         \n",
            "{'loss': 0.9441, 'learning_rate': 0.0001, 'epoch': 0.01}                        \n",
            "  0%|▏                                       | 5/1389 [00:30<2:19:32,  6.05s/it]\n",
            "  0%|                                                     | 0/5 [00:00<?, ?it/s]\u001b[A\n",
            " 40%|██████████████████                           | 2/5 [00:01<00:02,  1.33it/s]\u001b[A\n",
            " 60%|███████████████████████████                  | 3/5 [00:02<00:02,  1.00s/it]\u001b[A\n",
            " 80%|████████████████████████████████████         | 4/5 [00:04<00:01,  1.29s/it]\u001b[A\n",
            "100%|█████████████████████████████████████████████| 5/5 [00:05<00:00,  1.29s/it]\u001b[A\n",
            "{'eval_loss': 0.9676344990730286, 'eval_runtime': 7.5963, 'eval_samples_per_second': 9.873, 'eval_steps_per_second': 0.658, 'epoch': 0.01}\n",
            "\n",
            "  0%|▏                                       | 5/1389 [00:37<2:19:32,  6.05s/it]\u001b[A\n",
            "{'loss': 0.8491, 'learning_rate': 0.00012, 'epoch': 0.01}                       \u001b[A\n",
            "{'loss': 0.9407, 'learning_rate': 0.00014, 'epoch': 0.02}                       \n",
            "{'loss': 0.9811, 'learning_rate': 0.00016, 'epoch': 0.02}                       \n",
            "{'loss': 0.8937, 'learning_rate': 0.00018, 'epoch': 0.02}                       \n",
            "{'loss': 0.83, 'learning_rate': 0.0002, 'epoch': 0.02}                          \n",
            "  1%|▎                                      | 10/1389 [01:06<2:26:42,  6.38s/it]\n",
            "  0%|                                                     | 0/5 [00:00<?, ?it/s]\u001b[A\n",
            " 40%|██████████████████                           | 2/5 [00:01<00:02,  1.33it/s]\u001b[A\n",
            " 60%|███████████████████████████                  | 3/5 [00:02<00:02,  1.00s/it]\u001b[A\n",
            " 80%|████████████████████████████████████         | 4/5 [00:04<00:01,  1.29s/it]\u001b[A\n",
            "                                                                                \u001b[A\n",
            "\u001b[A{'eval_loss': 0.7891015410423279, 'eval_runtime': 7.5974, 'eval_samples_per_second': 9.872, 'eval_steps_per_second': 0.658, 'epoch': 0.02}\n",
            "  1%|▎                                      | 10/1389 [01:14<2:26:42,  6.38s/it]\n",
            "100%|█████████████████████████████████████████████| 5/5 [00:05<00:00,  1.29s/it]\u001b[A\n",
            "{'loss': 0.7103, 'learning_rate': 0.00019999974049780868, 'epoch': 0.02}        \u001b[A\n",
            "{'loss': 0.7612, 'learning_rate': 0.00019999896199258152, 'epoch': 0.03}        \n",
            "{'loss': 0.6619, 'learning_rate': 0.000199997664488359, 'epoch': 0.03}          \n",
            "{'loss': 0.7407, 'learning_rate': 0.00019999584799187522, 'epoch': 0.03}        \n",
            "{'loss': 0.6521, 'learning_rate': 0.0001999935125125579, 'epoch': 0.03}         \n",
            "  1%|▍                                      | 15/1389 [01:46<2:25:29,  6.35s/it]\n",
            "  0%|                                                     | 0/5 [00:00<?, ?it/s]\u001b[A\n",
            " 40%|██████████████████                           | 2/5 [00:01<00:02,  1.33it/s]\u001b[A\n",
            " 60%|███████████████████████████                  | 3/5 [00:02<00:02,  1.00s/it]\u001b[A\n",
            " 80%|████████████████████████████████████         | 4/5 [00:04<00:01,  1.30s/it]\u001b[A\n",
            "                                                                                \u001b[A\n",
            "\u001b[A{'eval_loss': 0.6672295928001404, 'eval_runtime': 7.6109, 'eval_samples_per_second': 9.854, 'eval_steps_per_second': 0.657, 'epoch': 0.03}\n",
            "  1%|▍                                      | 15/1389 [01:54<2:25:29,  6.35s/it]\n",
            "100%|█████████████████████████████████████████████| 5/5 [00:06<00:00,  1.30s/it]\u001b[A\n",
            "{'loss': 0.6331, 'learning_rate': 0.00019999065806252829, 'epoch': 0.03}        \u001b[A\n",
            "{'loss': 0.6308, 'learning_rate': 0.00019998728465660105, 'epoch': 0.04}        \n",
            "{'loss': 0.6205, 'learning_rate': 0.00019998339231228434, 'epoch': 0.04}        \n",
            "  1%|▌                                      | 18/1389 [02:09<2:30:26,  6.58s/it]^C\n",
            "WARNING:torch.distributed.elastic.agent.server.api:Received 2 death signal, shutting down workers\n",
            "WARNING:torch.distributed.elastic.multiprocessing.api:Sending process 1686 closing signal SIGINT\n",
            "WARNING:torch.distributed.elastic.multiprocessing.api:Sending process 1687 closing signal SIGINT\n"
          ]
        }
      ],
      "source": [
        "!accelerate launch scripts/finetune.py examples/falcon/config-40b-qlora.yml"
      ]
    },
    {
      "cell_type": "markdown",
      "metadata": {
        "id": "AcbjGJ2GDY7L"
      },
      "source": [
        "## #3"
      ]
    },
    {
      "cell_type": "code",
      "execution_count": null,
      "metadata": {
        "id": "00vedG_seEDL",
        "outputId": "ebf0da2b-92ee-46aa-e904-ce81f8476a88"
      },
      "outputs": [
        {
          "name": "stdout",
          "output_type": "stream",
          "text": [
            "env: HF_HUB_DISABLE_PROGRESS_BARS=1\n"
          ]
        }
      ],
      "source": [
        "%env HF_HUB_DISABLE_PROGRESS_BARS=1"
      ]
    },
    {
      "cell_type": "code",
      "execution_count": null,
      "metadata": {
        "id": "y0ltGgTqeEDM",
        "outputId": "0cb91b87-5b41-49e4-d075-fe7415d39ba4"
      },
      "outputs": [
        {
          "name": "stdout",
          "output_type": "stream",
          "text": [
            "env: ACCELERATE_USE_DEEPSPEED=false\n"
          ]
        }
      ],
      "source": [
        "%env ACCELERATE_USE_DEEPSPEED=false"
      ]
    },
    {
      "cell_type": "code",
      "execution_count": null,
      "metadata": {
        "id": "_6hvCkF0DY7L",
        "scrolled": true
      },
      "outputs": [],
      "source": [
        "!cat examples/falcon/config-40b-qlora.yml"
      ]
    },
    {
      "cell_type": "code",
      "execution_count": null,
      "metadata": {
        "id": "OwPMxEdeLLDu"
      },
      "outputs": [],
      "source": [
        "#%%writefile examples/falcon/config-40b-qlora.yml"
      ]
    },
    {
      "cell_type": "code",
      "execution_count": null,
      "metadata": {
        "id": "9XsSrgMvDY7L",
        "scrolled": true,
        "outputId": "e06dbe76-def8-40ae-9b83-9b4c55a7a7dd"
      },
      "outputs": [
        {
          "name": "stdout",
          "output_type": "stream",
          "text": [
            "Setting ds_accelerator to cuda (auto detect)\n",
            "The following values were not passed to `accelerate launch` and had defaults used instead:\n",
            "\t`--num_processes` was set to a value of `2`\n",
            "\t\tMore than one GPU was found, enabling multi-GPU training.\n",
            "\t\tIf this was unintended please pass in `--num_processes=1`.\n",
            "\t`--num_machines` was set to a value of `1`\n",
            "\t`--mixed_precision` was set to a value of `'no'`\n",
            "\t`--dynamo_backend` was set to a value of `'no'`\n",
            "To avoid this warning pass in values for each of the problematic parameters or run `accelerate config`.\n",
            "Setting ds_accelerator to cuda (auto detect)\n",
            "Setting ds_accelerator to cuda (auto detect)\n",
            "\n",
            "===================================BUG REPORT===================================\n",
            "Welcome to bitsandbytes. For bug reports, please run\n",
            "\n",
            "python -m bitsandbytes\n",
            "\n",
            " and submit this information together with your error trace to: https://github.com/TimDettmers/bitsandbytes/issues\n",
            "================================================================================\n",
            "bin /root/miniconda3/envs/py3.9/lib/python3.9/site-packages/bitsandbytes-0.39.0-py3.9.egg/bitsandbytes/libbitsandbytes_cuda118.so\n",
            "/root/miniconda3/envs/py3.9/lib/python3.9/site-packages/bitsandbytes-0.39.0-py3.9.egg/bitsandbytes/cuda_setup/main.py:149: UserWarning: WARNING: The following directories listed in your path were found to be non-existent: {PosixPath('/usr/local/nvidia/lib64'), PosixPath('/usr/local/nvidia/lib')}\n",
            "  warn(msg)\n",
            "/root/miniconda3/envs/py3.9/lib/python3.9/site-packages/bitsandbytes-0.39.0-py3.9.egg/bitsandbytes/cuda_setup/main.py:149: UserWarning: /usr/local/nvidia/lib:/usr/local/nvidia/lib64 did not contain ['libcudart.so', 'libcudart.so.11.0', 'libcudart.so.12.0'] as expected! Searching further paths...\n",
            "  warn(msg)\n",
            "/root/miniconda3/envs/py3.9/lib/python3.9/site-packages/bitsandbytes-0.39.0-py3.9.egg/bitsandbytes/cuda_setup/main.py:149: UserWarning: WARNING: The following directories listed in your path were found to be non-existent: {PosixPath('//matplotlib_inline.backend_inline'), PosixPath('module')}\n",
            "  warn(msg)\n",
            "/root/miniconda3/envs/py3.9/lib/python3.9/site-packages/bitsandbytes-0.39.0-py3.9.egg/bitsandbytes/cuda_setup/main.py:149: UserWarning: WARNING: The following directories listed in your path were found to be non-existent: {PosixPath('ssh-rsa AAAAB3NzaC1yc2EAAAADAQABAAABgQDvnE4umHheXhWsDJbbukYvvyc47/mC4z8syS93btA72T90WDrQagOy5O+DrhdXOvr5i/JwsTlAImy57eLRrtRFOrQq73jyi7Dzo0tvrAiNLVgX2q2dFLoplRyXDXiVYLPmPieMWQOeUCLeSb8FC5zzllcocZwjMXpxScDerZqnlAR0ccpSkGyKIod4ZMkn/29A/C5kHEb/wT8cOAq+MWJ/2okZZgbiR0AMV4DynAkrtcx9JnJnTs9chiMyH+dyCS42Ai24sHWJBkQo6TfxXkyKo9GOpu3Y2WLgrHyaot9Lk5mA1mujyIWdlReD2nvjeCQKjl3KW3xZ73m4nD97MydWSWoJfEWlr+VZvk8EWsZk3CYLZCIBLdod6xXJJ0DD0pvTIq11c8VB7XkgVjapuU/sC8M6HFzHW/NBeE+xX/txPkZkIGqrnxeQ0AtBXdN9ukyNGhGzTkPYJNliiYpY0dCvVuz/BJ2FawFTQGnD1EHOenUCRajREFGCbKoYZqi40j8= utensil@Utensils-MacBook-Pro.local')}\n",
            "  warn(msg)\n",
            "/root/miniconda3/envs/py3.9/lib/python3.9/site-packages/bitsandbytes-0.39.0-py3.9.egg/bitsandbytes/cuda_setup/main.py:149: UserWarning: WARNING: The following directories listed in your path were found to be non-existent: {PosixPath('/tmp/torchelastic_cq8_cqex/none_zwe5pxfo/attempt_0/0/error.json')}\n",
            "  warn(msg)\n",
            "CUDA_SETUP: WARNING! libcudart.so not found in any environmental path. Searching in backup paths...\n",
            "/root/miniconda3/envs/py3.9/lib/python3.9/site-packages/bitsandbytes-0.39.0-py3.9.egg/bitsandbytes/cuda_setup/main.py:149: UserWarning: Found duplicate ['libcudart.so', 'libcudart.so.11.0', 'libcudart.so.12.0'] files: {PosixPath('/usr/local/cuda/lib64/libcudart.so'), PosixPath('/usr/local/cuda/lib64/libcudart.so.11.0')}.. We'll flip a coin and try one of these, in order to fail forward.\n",
            "Either way, this might cause trouble in the future:\n",
            "If you get `CUDA error: invalid device function` errors, the above might be the cause and the solution is to make sure only one ['libcudart.so', 'libcudart.so.11.0', 'libcudart.so.12.0'] in the paths that we search based on your env.\n",
            "  warn(msg)\n",
            "CUDA SETUP: CUDA runtime path found: /usr/local/cuda/lib64/libcudart.so\n",
            "CUDA SETUP: Highest compute capability among GPUs detected: 8.0\n",
            "CUDA SETUP: Detected CUDA version 118\n",
            "CUDA SETUP: Loading binary /root/miniconda3/envs/py3.9/lib/python3.9/site-packages/bitsandbytes-0.39.0-py3.9.egg/bitsandbytes/libbitsandbytes_cuda118.so...\n",
            "\n",
            "===================================BUG REPORT===================================\n",
            "Welcome to bitsandbytes. For bug reports, please run\n",
            "\n",
            "python -m bitsandbytes\n",
            "\n",
            " and submit this information together with your error trace to: https://github.com/TimDettmers/bitsandbytes/issues\n",
            "================================================================================\n",
            "bin /root/miniconda3/envs/py3.9/lib/python3.9/site-packages/bitsandbytes-0.39.0-py3.9.egg/bitsandbytes/libbitsandbytes_cuda118.so\n",
            "/root/miniconda3/envs/py3.9/lib/python3.9/site-packages/bitsandbytes-0.39.0-py3.9.egg/bitsandbytes/cuda_setup/main.py:149: UserWarning: WARNING: The following directories listed in your path were found to be non-existent: {PosixPath('/usr/local/nvidia/lib'), PosixPath('/usr/local/nvidia/lib64')}\n",
            "  warn(msg)\n",
            "/root/miniconda3/envs/py3.9/lib/python3.9/site-packages/bitsandbytes-0.39.0-py3.9.egg/bitsandbytes/cuda_setup/main.py:149: UserWarning: /usr/local/nvidia/lib:/usr/local/nvidia/lib64 did not contain ['libcudart.so', 'libcudart.so.11.0', 'libcudart.so.12.0'] as expected! Searching further paths...\n",
            "  warn(msg)\n",
            "/root/miniconda3/envs/py3.9/lib/python3.9/site-packages/bitsandbytes-0.39.0-py3.9.egg/bitsandbytes/cuda_setup/main.py:149: UserWarning: WARNING: The following directories listed in your path were found to be non-existent: {PosixPath('module'), PosixPath('//matplotlib_inline.backend_inline')}\n",
            "  warn(msg)\n",
            "/root/miniconda3/envs/py3.9/lib/python3.9/site-packages/bitsandbytes-0.39.0-py3.9.egg/bitsandbytes/cuda_setup/main.py:149: UserWarning: WARNING: The following directories listed in your path were found to be non-existent: {PosixPath('ssh-rsa AAAAB3NzaC1yc2EAAAADAQABAAABgQDvnE4umHheXhWsDJbbukYvvyc47/mC4z8syS93btA72T90WDrQagOy5O+DrhdXOvr5i/JwsTlAImy57eLRrtRFOrQq73jyi7Dzo0tvrAiNLVgX2q2dFLoplRyXDXiVYLPmPieMWQOeUCLeSb8FC5zzllcocZwjMXpxScDerZqnlAR0ccpSkGyKIod4ZMkn/29A/C5kHEb/wT8cOAq+MWJ/2okZZgbiR0AMV4DynAkrtcx9JnJnTs9chiMyH+dyCS42Ai24sHWJBkQo6TfxXkyKo9GOpu3Y2WLgrHyaot9Lk5mA1mujyIWdlReD2nvjeCQKjl3KW3xZ73m4nD97MydWSWoJfEWlr+VZvk8EWsZk3CYLZCIBLdod6xXJJ0DD0pvTIq11c8VB7XkgVjapuU/sC8M6HFzHW/NBeE+xX/txPkZkIGqrnxeQ0AtBXdN9ukyNGhGzTkPYJNliiYpY0dCvVuz/BJ2FawFTQGnD1EHOenUCRajREFGCbKoYZqi40j8= utensil@Utensils-MacBook-Pro.local')}\n",
            "  warn(msg)\n",
            "/root/miniconda3/envs/py3.9/lib/python3.9/site-packages/bitsandbytes-0.39.0-py3.9.egg/bitsandbytes/cuda_setup/main.py:149: UserWarning: WARNING: The following directories listed in your path were found to be non-existent: {PosixPath('/tmp/torchelastic_cq8_cqex/none_zwe5pxfo/attempt_0/1/error.json')}\n",
            "  warn(msg)\n",
            "CUDA_SETUP: WARNING! libcudart.so not found in any environmental path. Searching in backup paths...\n",
            "/root/miniconda3/envs/py3.9/lib/python3.9/site-packages/bitsandbytes-0.39.0-py3.9.egg/bitsandbytes/cuda_setup/main.py:149: UserWarning: Found duplicate ['libcudart.so', 'libcudart.so.11.0', 'libcudart.so.12.0'] files: {PosixPath('/usr/local/cuda/lib64/libcudart.so'), PosixPath('/usr/local/cuda/lib64/libcudart.so.11.0')}.. We'll flip a coin and try one of these, in order to fail forward.\n",
            "Either way, this might cause trouble in the future:\n",
            "If you get `CUDA error: invalid device function` errors, the above might be the cause and the solution is to make sure only one ['libcudart.so', 'libcudart.so.11.0', 'libcudart.so.12.0'] in the paths that we search based on your env.\n",
            "  warn(msg)\n",
            "CUDA SETUP: CUDA runtime path found: /usr/local/cuda/lib64/libcudart.so\n",
            "CUDA SETUP: Highest compute capability among GPUs detected: 8.0\n",
            "CUDA SETUP: Detected CUDA version 118\n",
            "CUDA SETUP: Loading binary /root/miniconda3/envs/py3.9/lib/python3.9/site-packages/bitsandbytes-0.39.0-py3.9.egg/bitsandbytes/libbitsandbytes_cuda118.so...\n",
            "WARNING:root:`trust_remote_code` is set to true. Please make sure that you reviewed the remote code/model.\n",
            "INFO:root:loading tokenizer... /content/llm-playground/models/tiiuae_falcon-40b\n",
            "Using bos_token, but it is not set yet.\n",
            "Using pad_token, but it is not set yet.\n",
            "Using unk_token, but it is not set yet.\n",
            "WARNING:root:`trust_remote_code` is set to true. Please make sure that you reviewed the remote code/model.\n",
            "INFO:root:loading tokenizer... /content/llm-playground/models/tiiuae_falcon-40b\n",
            "Using bos_token, but it is not set yet.\n",
            "Using pad_token, but it is not set yet.\n",
            "Using unk_token, but it is not set yet.\n",
            "WARNING:datasets.builder:Found cached dataset parquet (/root/.cache/huggingface/datasets/utensil___parquet/utensil--31a4e867d804a957707db033c9abcd13-7b1208a23cdad6e9/0.0.0/14a00e99c0d15a23649d0db8944380ac81082d4b021f398733dd84f3a6c569a7)\n",
            "100%|████████████████████████████████████████████| 1/1 [00:00<00:00, 579.40it/s]\n",
            "INFO:root:loading model and peft_config...\n",
            "WARNING:datasets.builder:Found cached dataset parquet (/root/.cache/huggingface/datasets/utensil___parquet/utensil--31a4e867d804a957707db033c9abcd13-7b1208a23cdad6e9/0.0.0/14a00e99c0d15a23649d0db8944380ac81082d4b021f398733dd84f3a6c569a7)\n",
            "100%|████████████████████████████████████████████| 1/1 [00:00<00:00, 459.85it/s]\n",
            "INFO:root:loading model and peft_config...\n",
            "Loading checkpoint shards: 100%|██████████████████| 9/9 [01:28<00:00,  9.78s/it]\n",
            "INFO:root:converting PEFT model w/ prepare_model_for_kbit_training\n",
            "INFO:root:found linear modules: ['dense_h_to_4h', 'query_key_value', 'dense_4h_to_h', 'dense']\n",
            "Loading checkpoint shards: 100%|██████████████████| 9/9 [01:54<00:00, 12.69s/it]\n",
            "INFO:root:converting PEFT model w/ prepare_model_for_kbit_training\n",
            "INFO:root:found linear modules: ['query_key_value', 'dense_h_to_4h', 'dense', 'dense_4h_to_h']\n",
            "trainable params: 444,334,080 || all params: 21,363,310,592 || trainable%: 2.0798933671188187\n",
            "INFO:torch.distributed.distributed_c10d:Added key: store_based_barrier_key:1 to store for rank: 0\n",
            "INFO:torch.distributed.distributed_c10d:Waiting in store based barrier to initialize process group for rank: 0, key: store_based_barrier_key:1 (world_size=2, worker_count=1, timeout=0:30:00)\n",
            "INFO:torch.distributed.distributed_c10d:Waiting in store based barrier to initialize process group for rank: 0, key: store_based_barrier_key:1 (world_size=2, worker_count=1, timeout=0:30:00)\n",
            "trainable params: 444,334,080 || all params: 21,363,310,592 || trainable%: 2.0798933671188187\n",
            "INFO:torch.distributed.distributed_c10d:Added key: store_based_barrier_key:1 to store for rank: 1\n",
            "INFO:torch.distributed.distributed_c10d:Rank 1: Completed store-based barrier for key:store_based_barrier_key:1 with 2 nodes.\n",
            "INFO:torch.distributed.distributed_c10d:Rank 0: Completed store-based barrier for key:store_based_barrier_key:1 with 2 nodes.\n",
            "INFO:root:Compiling torch model\n",
            "INFO:root:Compiling torch model\n",
            "INFO:root:Pre-saving adapter config to /content/axolotl-trained/falcon-qlora-40b-gsm8k/\n",
            "INFO:root:Starting trainer...\n",
            "INFO:root:Pre-saving adapter config to /content/axolotl-trained/falcon-qlora-40b-gsm8k/\n",
            "INFO:root:Starting trainer...\n",
            "/root/miniconda3/envs/py3.9/lib/python3.9/site-packages/transformers/optimization.py:411: FutureWarning: This implementation of AdamW is deprecated and will be removed in a future version. Use the PyTorch implementation torch.optim.AdamW instead, or set `no_deprecation_warning=True` to disable this warning\n",
            "  warnings.warn(\n",
            "/root/miniconda3/envs/py3.9/lib/python3.9/site-packages/transformers/optimization.py:411: FutureWarning: This implementation of AdamW is deprecated and will be removed in a future version. Use the PyTorch implementation torch.optim.AdamW instead, or set `no_deprecation_warning=True` to disable this warning\n",
            "  warnings.warn(\n",
            "\u001b[34m\u001b[1mwandb\u001b[0m: Currently logged in as: \u001b[33mutensil\u001b[0m. Use \u001b[1m`wandb login --relogin`\u001b[0m to force relogin\n",
            "\u001b[34m\u001b[1mwandb\u001b[0m: Tracking run with wandb version 0.15.4\n",
            "\u001b[34m\u001b[1mwandb\u001b[0m: Run data is saved locally in \u001b[35m\u001b[1m/workspace/axolotl/wandb/run-20230615_063702-i092vdud\u001b[0m\n",
            "\u001b[34m\u001b[1mwandb\u001b[0m: Run \u001b[1m`wandb offline`\u001b[0m to turn off syncing.\n",
            "\u001b[34m\u001b[1mwandb\u001b[0m: Syncing run \u001b[33mserene-spaceship-35\u001b[0m\n",
            "\u001b[34m\u001b[1mwandb\u001b[0m: ⭐️ View project at \u001b[34m\u001b[4mhttps://wandb.ai/utensil/falcon-qlora\u001b[0m\n",
            "\u001b[34m\u001b[1mwandb\u001b[0m: 🚀 View run at \u001b[34m\u001b[4mhttps://wandb.ai/utensil/falcon-qlora/runs/i092vdud\u001b[0m\n",
            "  0%|                                                  | 0/1389 [00:00<?, ?it/s]You're using a PreTrainedTokenizerFast tokenizer. Please note that with a fast tokenizer, using the `__call__` method is faster than using a method to encode the text followed by a call to the `pad` method to get a padded encoding.\n",
            "You're using a PreTrainedTokenizerFast tokenizer. Please note that with a fast tokenizer, using the `__call__` method is faster than using a method to encode the text followed by a call to the `pad` method to get a padded encoding.\n",
            "{'loss': 0.8923, 'learning_rate': 2e-05, 'epoch': 0.0}                          \n",
            "  0%|                                        | 1/1389 [00:05<2:10:54,  5.66s/it]INFO:torch.nn.parallel.distributed:Reducer buckets have been rebuilt in this iteration.\n",
            "INFO:torch.nn.parallel.distributed:Reducer buckets have been rebuilt in this iteration.\n",
            "{'loss': 0.966, 'learning_rate': 4e-05, 'epoch': 0.0}                           \n",
            "{'loss': 0.8754, 'learning_rate': 6e-05, 'epoch': 0.01}                         \n",
            "{'loss': 0.9188, 'learning_rate': 8e-05, 'epoch': 0.01}                         \n",
            "{'loss': 0.944, 'learning_rate': 0.0001, 'epoch': 0.01}                         \n",
            "  0%|▏                                       | 5/1389 [00:30<2:19:29,  6.05s/it]\n",
            "  0%|                                                     | 0/5 [00:00<?, ?it/s]\u001b[A\n",
            " 40%|██████████████████                           | 2/5 [00:01<00:02,  1.33it/s]\u001b[A\n",
            " 60%|███████████████████████████                  | 3/5 [00:02<00:02,  1.00s/it]\u001b[A\n",
            " 80%|████████████████████████████████████         | 4/5 [00:04<00:01,  1.29s/it]\u001b[A\n",
            "100%|█████████████████████████████████████████████| 5/5 [00:05<00:00,  1.29s/it]\u001b[A\n",
            "{'eval_loss': 0.9678322076797485, 'eval_runtime': 7.5939, 'eval_samples_per_second': 9.876, 'eval_steps_per_second': 0.658, 'epoch': 0.01}\n",
            "\n",
            "  0%|▏                                       | 5/1389 [00:37<2:19:29,  6.05s/it]\u001b[A\n",
            "{'loss': 0.849, 'learning_rate': 0.00012, 'epoch': 0.01}                        \u001b[A\n",
            "{'loss': 0.9405, 'learning_rate': 0.00014, 'epoch': 0.02}                       \n",
            "{'loss': 0.9812, 'learning_rate': 0.00016, 'epoch': 0.02}                       \n",
            "{'loss': 0.8941, 'learning_rate': 0.00018, 'epoch': 0.02}                       \n",
            "{'loss': 0.83, 'learning_rate': 0.0002, 'epoch': 0.02}                          \n",
            "  1%|▎                                      | 10/1389 [01:06<2:26:34,  6.38s/it]\n",
            "  0%|                                                     | 0/5 [00:00<?, ?it/s]\u001b[A\n",
            " 40%|██████████████████                           | 2/5 [00:01<00:02,  1.33it/s]\u001b[A\n",
            " 60%|███████████████████████████                  | 3/5 [00:02<00:02,  1.00s/it]\u001b[A\n",
            " 80%|████████████████████████████████████         | 4/5 [00:04<00:01,  1.29s/it]\u001b[A\n",
            "100%|█████████████████████████████████████████████| 5/5 [00:05<00:00,  1.29s/it]\u001b[A\n",
            "{'eval_loss': 0.7889500856399536, 'eval_runtime': 7.5994, 'eval_samples_per_second': 9.869, 'eval_steps_per_second': 0.658, 'epoch': 0.02}\n",
            "\n",
            "  1%|▎                                      | 10/1389 [01:14<2:26:34,  6.38s/it]\u001b[A\n",
            "{'loss': 0.7104, 'learning_rate': 0.00019999974049780868, 'epoch': 0.02}        \u001b[A\n",
            "{'loss': 0.7617, 'learning_rate': 0.00019999896199258152, 'epoch': 0.03}        \n",
            "{'loss': 0.6615, 'learning_rate': 0.000199997664488359, 'epoch': 0.03}          \n",
            "{'loss': 0.7408, 'learning_rate': 0.00019999584799187522, 'epoch': 0.03}        \n",
            "{'loss': 0.6524, 'learning_rate': 0.0001999935125125579, 'epoch': 0.03}         \n",
            "  1%|▍                                      | 15/1389 [01:46<2:25:49,  6.37s/it]\n",
            "  0%|                                                     | 0/5 [00:00<?, ?it/s]\u001b[A\n",
            " 40%|██████████████████                           | 2/5 [00:01<00:02,  1.33it/s]\u001b[A\n",
            " 60%|███████████████████████████                  | 3/5 [00:02<00:02,  1.01s/it]\u001b[A\n",
            " 80%|████████████████████████████████████         | 4/5 [00:04<00:01,  1.30s/it]\u001b[A\n",
            "                                                                                \u001b[A\n",
            "\u001b[A{'eval_loss': 0.666982114315033, 'eval_runtime': 7.6118, 'eval_samples_per_second': 9.853, 'eval_steps_per_second': 0.657, 'epoch': 0.03}\n",
            "  1%|▍                                      | 15/1389 [01:54<2:25:49,  6.37s/it]\n",
            "100%|█████████████████████████████████████████████| 5/5 [00:06<00:00,  1.30s/it]\u001b[A\n",
            "{'loss': 0.6332, 'learning_rate': 0.00019999065806252829, 'epoch': 0.03}        \u001b[A\n",
            "{'loss': 0.6305, 'learning_rate': 0.00019998728465660105, 'epoch': 0.04}        \n",
            "{'loss': 0.6201, 'learning_rate': 0.00019998339231228434, 'epoch': 0.04}        \n",
            "{'loss': 0.6082, 'learning_rate': 0.0001999789810497796, 'epoch': 0.04}         \n",
            "{'loss': 0.6937, 'learning_rate': 0.0001999740508919815, 'epoch': 0.04}         \n",
            "  1%|▌                                      | 20/1389 [02:20<2:18:28,  6.07s/it]\n",
            "  0%|                                                     | 0/5 [00:00<?, ?it/s]\u001b[A\n",
            " 40%|██████████████████                           | 2/5 [00:01<00:02,  1.33it/s]\u001b[A\n",
            " 60%|███████████████████████████                  | 3/5 [00:02<00:02,  1.00s/it]\u001b[A\n",
            " 80%|████████████████████████████████████         | 4/5 [00:04<00:01,  1.29s/it]\u001b[A\n",
            "                                                                                \u001b[A\n",
            "\u001b[A{'eval_loss': 0.6269410848617554, 'eval_runtime': 7.6011, 'eval_samples_per_second': 9.867, 'eval_steps_per_second': 0.658, 'epoch': 0.04}\n",
            "  1%|▌                                      | 20/1389 [02:28<2:18:28,  6.07s/it]\n",
            "100%|█████████████████████████████████████████████| 5/5 [00:05<00:00,  1.29s/it]\u001b[A\n",
            "{'loss': 0.5945, 'learning_rate': 0.0001999686018644777, 'epoch': 0.05}         \u001b[A\n",
            "{'loss': 0.5684, 'learning_rate': 0.00019996263399554897, 'epoch': 0.05}        \n",
            "{'loss': 0.6205, 'learning_rate': 0.00019995614731616875, 'epoch': 0.05}        \n",
            "{'loss': 0.5239, 'learning_rate': 0.00019994914186000328, 'epoch': 0.05}        \n",
            "{'loss': 0.5992, 'learning_rate': 0.0001999416176634111, 'epoch': 0.05}         \n",
            "  2%|▋                                      | 25/1389 [03:04<2:36:39,  6.89s/it]\n",
            "  0%|                                                     | 0/5 [00:00<?, ?it/s]\u001b[A\n",
            " 40%|██████████████████                           | 2/5 [00:01<00:02,  1.33it/s]\u001b[A\n",
            " 60%|███████████████████████████                  | 3/5 [00:02<00:02,  1.01s/it]\u001b[A\n",
            " 80%|████████████████████████████████████         | 4/5 [00:04<00:01,  1.30s/it]\u001b[A\n",
            "                                                                                \u001b[A\n",
            "\u001b[A{'eval_loss': 0.6057789921760559, 'eval_runtime': 7.6112, 'eval_samples_per_second': 9.854, 'eval_steps_per_second': 0.657, 'epoch': 0.05}\n",
            "  2%|▋                                      | 25/1389 [03:12<2:36:39,  6.89s/it]\n",
            "100%|█████████████████████████████████████████████| 5/5 [00:06<00:00,  1.30s/it]\u001b[A\n",
            "{'loss': 0.6511, 'learning_rate': 0.00019993357476544312, 'epoch': 0.06}        \u001b[A\n",
            "{'loss': 0.5517, 'learning_rate': 0.0001999250132078424, 'epoch': 0.06}         \n",
            "{'loss': 0.6695, 'learning_rate': 0.00019991593303504376, 'epoch': 0.06}        \n",
            "{'loss': 0.5484, 'learning_rate': 0.00019990633429417363, 'epoch': 0.06}        \n",
            "{'loss': 0.6036, 'learning_rate': 0.00019989621703505, 'epoch': 0.06}           \n",
            "  2%|▊                                      | 30/1389 [03:37<2:15:24,  5.98s/it]\n",
            "  0%|                                                     | 0/5 [00:00<?, ?it/s]\u001b[A\n",
            " 40%|██████████████████                           | 2/5 [00:01<00:02,  1.33it/s]\u001b[A\n",
            " 60%|███████████████████████████                  | 3/5 [00:02<00:02,  1.01s/it]\u001b[A\n",
            " 80%|████████████████████████████████████         | 4/5 [00:04<00:01,  1.30s/it]\u001b[A\n",
            "                                                                                \u001b[A\n",
            "\u001b[A{'eval_loss': 0.5918962955474854, 'eval_runtime': 7.6199, 'eval_samples_per_second': 9.843, 'eval_steps_per_second': 0.656, 'epoch': 0.06}\n",
            "  2%|▊                                      | 30/1389 [03:45<2:15:24,  5.98s/it]\n",
            "100%|█████████████████████████████████████████████| 5/5 [00:06<00:00,  1.30s/it]\u001b[A\n",
            "{'loss': 0.6625, 'learning_rate': 0.00019988558131018186, 'epoch': 0.07}        \u001b[A\n",
            "{'loss': 0.5129, 'learning_rate': 0.00019987442717476906, 'epoch': 0.07}        \n",
            "{'loss': 0.618, 'learning_rate': 0.00019986275468670205, 'epoch': 0.07}         \n",
            "{'loss': 0.6272, 'learning_rate': 0.00019985056390656162, 'epoch': 0.07}        \n",
            "{'loss': 0.5633, 'learning_rate': 0.00019983785489761837, 'epoch': 0.08}        \n",
            "  3%|▉                                      | 35/1389 [04:17<2:20:38,  6.23s/it]\n",
            "  0%|                                                     | 0/5 [00:00<?, ?it/s]\u001b[A\n",
            " 40%|██████████████████                           | 2/5 [00:01<00:02,  1.33it/s]\u001b[A\n",
            " 60%|███████████████████████████                  | 3/5 [00:02<00:02,  1.00s/it]\u001b[A\n",
            " 80%|████████████████████████████████████         | 4/5 [00:04<00:01,  1.30s/it]\u001b[A\n",
            "                                                                                \u001b[A\n",
            "\u001b[A{'eval_loss': 0.582270085811615, 'eval_runtime': 7.6121, 'eval_samples_per_second': 9.853, 'eval_steps_per_second': 0.657, 'epoch': 0.08}\n",
            "  3%|▉                                      | 35/1389 [04:24<2:20:38,  6.23s/it]\n",
            "100%|█████████████████████████████████████████████| 5/5 [00:05<00:00,  1.30s/it]\u001b[A\n",
            "{'loss': 0.4954, 'learning_rate': 0.00019982462772583266, 'epoch': 0.08}        \u001b[A\n",
            "{'loss': 0.5971, 'learning_rate': 0.00019981088245985408, 'epoch': 0.08}        \n",
            "{'loss': 0.5066, 'learning_rate': 0.00019979661917102115, 'epoch': 0.08}        \n",
            "{'loss': 0.5612, 'learning_rate': 0.000199781837933361, 'epoch': 0.08}          \n",
            "{'loss': 0.5672, 'learning_rate': 0.00019976653882358884, 'epoch': 0.09}        \n",
            "  3%|█                                      | 40/1389 [04:51<2:13:04,  5.92s/it]\n",
            "  0%|                                                     | 0/5 [00:00<?, ?it/s]\u001b[A\n",
            " 40%|██████████████████                           | 2/5 [00:01<00:02,  1.33it/s]\u001b[A\n",
            " 60%|███████████████████████████                  | 3/5 [00:02<00:02,  1.01s/it]\u001b[A\n",
            " 80%|████████████████████████████████████         | 4/5 [00:04<00:01,  1.30s/it]\u001b[A\n",
            "                                                                                \u001b[A\n",
            "\u001b[A{'eval_loss': 0.5713567137718201, 'eval_runtime': 7.6143, 'eval_samples_per_second': 9.85, 'eval_steps_per_second': 0.657, 'epoch': 0.09}\n",
            "  3%|█                                      | 40/1389 [04:59<2:13:04,  5.92s/it]\n",
            "100%|█████████████████████████████████████████████| 5/5 [00:06<00:00,  1.30s/it]\u001b[A\n",
            "{'loss': 0.5407, 'learning_rate': 0.0001997507219211078, 'epoch': 0.09}         \u001b[A\n",
            "{'loss': 0.5787, 'learning_rate': 0.00019973438730800822, 'epoch': 0.09}        \n",
            "{'loss': 0.5536, 'learning_rate': 0.00019971753506906753, 'epoch': 0.09}        \n",
            "{'loss': 0.564, 'learning_rate': 0.00019970016529174947, 'epoch': 0.1}          \n",
            "{'loss': 0.5253, 'learning_rate': 0.0001996822780662041, 'epoch': 0.1}          \n",
            "  3%|█▎                                     | 45/1389 [05:34<2:35:54,  6.96s/it]\n",
            "  0%|                                                     | 0/5 [00:00<?, ?it/s]\u001b[A\n",
            " 40%|██████████████████                           | 2/5 [00:01<00:02,  1.33it/s]\u001b[A\n",
            " 60%|███████████████████████████                  | 3/5 [00:02<00:02,  1.00s/it]\u001b[A\n",
            " 80%|████████████████████████████████████         | 4/5 [00:04<00:01,  1.29s/it]\u001b[A\n",
            "                                                                                \u001b[A\n",
            "\u001b[A{'eval_loss': 0.5644603371620178, 'eval_runtime': 7.5992, 'eval_samples_per_second': 9.869, 'eval_steps_per_second': 0.658, 'epoch': 0.1}\n",
            "  3%|█▎                                     | 45/1389 [05:41<2:35:54,  6.96s/it]\n",
            "100%|█████████████████████████████████████████████| 5/5 [00:05<00:00,  1.30s/it]\u001b[A\n",
            "{'loss': 0.613, 'learning_rate': 0.00019966387348526683, 'epoch': 0.1}          \u001b[A\n",
            "{'loss': 0.5056, 'learning_rate': 0.00019964495164445824, 'epoch': 0.1}         \n",
            "{'loss': 0.5891, 'learning_rate': 0.0001996255126419835, 'epoch': 0.1}          \n",
            "{'loss': 0.532, 'learning_rate': 0.0001996055565787319, 'epoch': 0.11}          \n",
            "{'loss': 0.5306, 'learning_rate': 0.0001995850835582763, 'epoch': 0.11}         \n",
            "  4%|█▍                                     | 50/1389 [06:09<2:22:11,  6.37s/it]\n",
            "  0%|                                                     | 0/5 [00:00<?, ?it/s]\u001b[A\n",
            " 40%|██████████████████                           | 2/5 [00:01<00:02,  1.33it/s]\u001b[A\n",
            " 60%|███████████████████████████                  | 3/5 [00:02<00:02,  1.01s/it]\u001b[A\n",
            " 80%|████████████████████████████████████         | 4/5 [00:04<00:01,  1.30s/it]\u001b[A\n",
            "                                                                                \u001b[A\n",
            "\u001b[A{'eval_loss': 0.5597566962242126, 'eval_runtime': 7.6202, 'eval_samples_per_second': 9.842, 'eval_steps_per_second': 0.656, 'epoch': 0.11}\n",
            "  4%|█▍                                     | 50/1389 [06:17<2:22:11,  6.37s/it]\n",
            "100%|█████████████████████████████████████████████| 5/5 [00:06<00:00,  1.30s/it]\u001b[A\n",
            "{'loss': 0.5049, 'learning_rate': 0.00019956409368687258, 'epoch': 0.11}        \u001b[A\n",
            "{'loss': 0.4402, 'learning_rate': 0.000199542587073459, 'epoch': 0.11}          \n",
            "{'loss': 0.6045, 'learning_rate': 0.00019952056382965597, 'epoch': 0.11}        \n",
            "{'loss': 0.5307, 'learning_rate': 0.00019949802406976495, 'epoch': 0.12}        \n",
            "{'loss': 0.5596, 'learning_rate': 0.00019947496791076837, 'epoch': 0.12}        \n",
            "  4%|█▌                                     | 55/1389 [06:52<2:34:11,  6.94s/it]\n",
            "  0%|                                                     | 0/5 [00:00<?, ?it/s]\u001b[A\n",
            " 40%|██████████████████                           | 2/5 [00:01<00:02,  1.33it/s]\u001b[A\n",
            " 60%|███████████████████████████                  | 3/5 [00:02<00:02,  1.00s/it]\u001b[A\n",
            " 80%|████████████████████████████████████         | 4/5 [00:04<00:01,  1.30s/it]\u001b[A\n",
            "                                                                                \u001b[A\n",
            "\u001b[A{'eval_loss': 0.5534916520118713, 'eval_runtime': 7.6155, 'eval_samples_per_second': 9.848, 'eval_steps_per_second': 0.657, 'epoch': 0.12}\n",
            "  4%|█▌                                     | 55/1389 [07:00<2:34:11,  6.94s/it]\n",
            "100%|█████████████████████████████████████████████| 5/5 [00:06<00:00,  1.30s/it]\u001b[A\n",
            "{'loss': 0.4604, 'learning_rate': 0.00019945139547232872, 'epoch': 0.12}        \u001b[A\n",
            "{'loss': 0.5247, 'learning_rate': 0.0001994273068767879, 'epoch': 0.12}         \n",
            "{'loss': 0.4839, 'learning_rate': 0.00019940270224916688, 'epoch': 0.13}        \n",
            "{'loss': 0.4711, 'learning_rate': 0.00019937758171716468, 'epoch': 0.13}        \n",
            "{'loss': 0.6023, 'learning_rate': 0.000199351945411158, 'epoch': 0.13}          \n",
            "  4%|█▋                                     | 60/1389 [07:25<2:06:28,  5.71s/it]\n",
            "  0%|                                                     | 0/5 [00:00<?, ?it/s]\u001b[A\n",
            " 40%|██████████████████                           | 2/5 [00:01<00:02,  1.32it/s]\u001b[A\n",
            " 60%|███████████████████████████                  | 3/5 [00:02<00:02,  1.01s/it]\u001b[A\n",
            " 80%|████████████████████████████████████         | 4/5 [00:04<00:01,  1.30s/it]\u001b[A\n",
            "                                                                                \u001b[A\n",
            "\u001b[A{'eval_loss': 0.5523245334625244, 'eval_runtime': 7.619, 'eval_samples_per_second': 9.844, 'eval_steps_per_second': 0.656, 'epoch': 0.13}\n",
            "  4%|█▋                                     | 60/1389 [07:32<2:06:28,  5.71s/it]\n",
            "100%|█████████████████████████████████████████████| 5/5 [00:06<00:00,  1.30s/it]\u001b[A\n",
            "{'loss': 0.5267, 'learning_rate': 0.00019932579346420038, 'epoch': 0.13}        \u001b[A\n",
            "{'loss': 0.6374, 'learning_rate': 0.00019929912601202151, 'epoch': 0.13}        \n",
            "{'loss': 0.5353, 'learning_rate': 0.00019927194319302677, 'epoch': 0.14}        \n",
            "{'loss': 0.4776, 'learning_rate': 0.00019924424514829606, 'epoch': 0.14}        \n",
            "{'loss': 0.5877, 'learning_rate': 0.00019921603202158354, 'epoch': 0.14}        \n",
            "  5%|█▊                                     | 65/1389 [08:07<2:25:29,  6.59s/it]\n",
            "  0%|                                                     | 0/5 [00:00<?, ?it/s]\u001b[A\n",
            " 40%|██████████████████                           | 2/5 [00:01<00:02,  1.32it/s]\u001b[A\n",
            " 60%|███████████████████████████                  | 3/5 [00:02<00:02,  1.01s/it]\u001b[A\n",
            " 80%|████████████████████████████████████         | 4/5 [00:04<00:01,  1.30s/it]\u001b[A\n",
            "                                                                                \u001b[A\n",
            "\u001b[A{'eval_loss': 0.5474674701690674, 'eval_runtime': 7.6284, 'eval_samples_per_second': 9.832, 'eval_steps_per_second': 0.655, 'epoch': 0.14}\n",
            "  5%|█▊                                     | 65/1389 [08:15<2:25:29,  6.59s/it]\n",
            "100%|█████████████████████████████████████████████| 5/5 [00:06<00:00,  1.30s/it]\u001b[A\n",
            "{'loss': 0.5452, 'learning_rate': 0.00019918730395931649, 'epoch': 0.14}        \u001b[A\n",
            "{'loss': 0.4506, 'learning_rate': 0.00019915806111059486, 'epoch': 0.14}        \n",
            "{'loss': 0.4975, 'learning_rate': 0.0001991283036271903, 'epoch': 0.15}         \n",
            "{'loss': 0.4824, 'learning_rate': 0.0001990980316635455, 'epoch': 0.15}         \n",
            "{'loss': 0.5021, 'learning_rate': 0.00019906724537677316, 'epoch': 0.15}        \n",
            "  5%|█▉                                     | 70/1389 [08:40<2:08:03,  5.83s/it]\n",
            "  0%|                                                     | 0/5 [00:00<?, ?it/s]\u001b[A\n",
            " 40%|██████████████████                           | 2/5 [00:01<00:02,  1.33it/s]\u001b[A\n",
            " 60%|███████████████████████████                  | 3/5 [00:02<00:02,  1.01s/it]\u001b[A\n",
            " 80%|████████████████████████████████████         | 4/5 [00:04<00:01,  1.29s/it]\u001b[A\n",
            "                                                                                \u001b[A\n",
            "\u001b[A{'eval_loss': 0.5464188456535339, 'eval_runtime': 7.6115, 'eval_samples_per_second': 9.854, 'eval_steps_per_second': 0.657, 'epoch': 0.15}\n",
            "  5%|█▉                                     | 70/1389 [08:48<2:08:03,  5.83s/it]\n",
            "100%|█████████████████████████████████████████████| 5/5 [00:05<00:00,  1.30s/it]\u001b[A\n",
            "{'loss': 0.5526, 'learning_rate': 0.00019903594492665558, 'epoch': 0.15}        \u001b[A\n",
            "{'loss': 0.6151, 'learning_rate': 0.0001990041304756434, 'epoch': 0.16}         \n",
            "{'loss': 0.6145, 'learning_rate': 0.00019897180218885507, 'epoch': 0.16}        \n",
            "{'loss': 0.523, 'learning_rate': 0.00019893896023407578, 'epoch': 0.16}         \n",
            "{'loss': 0.5953, 'learning_rate': 0.0001989056047817567, 'epoch': 0.16}         \n",
            "  5%|██                                     | 75/1389 [09:20<2:15:18,  6.18s/it]\n",
            "  0%|                                                     | 0/5 [00:00<?, ?it/s]\u001b[A\n",
            " 40%|██████████████████                           | 2/5 [00:01<00:02,  1.32it/s]\u001b[A\n",
            " 60%|███████████████████████████                  | 3/5 [00:02<00:02,  1.01s/it]\u001b[A\n",
            " 80%|████████████████████████████████████         | 4/5 [00:04<00:01,  1.30s/it]\u001b[A\n",
            "                                                                                \u001b[A\n",
            "\u001b[A{'eval_loss': 0.5411080121994019, 'eval_runtime': 7.6317, 'eval_samples_per_second': 9.827, 'eval_steps_per_second': 0.655, 'epoch': 0.16}\n",
            "  5%|██                                     | 75/1389 [09:28<2:15:18,  6.18s/it]\n",
            "100%|█████████████████████████████████████████████| 5/5 [00:06<00:00,  1.30s/it]\u001b[A\n",
            "{'loss': 0.5425, 'learning_rate': 0.0001988717360050141, 'epoch': 0.16}         \u001b[A\n",
            "{'loss': 0.5297, 'learning_rate': 0.00019883735407962846, 'epoch': 0.17}        \n",
            "{'loss': 0.4905, 'learning_rate': 0.00019880245918404342, 'epoch': 0.17}        \n",
            "{'loss': 0.5863, 'learning_rate': 0.000198767051499365, 'epoch': 0.17}          \n",
            "{'loss': 0.6053, 'learning_rate': 0.00019873113120936074, 'epoch': 0.17}        \n",
            "  6%|██▏                                    | 80/1389 [09:52<2:07:02,  5.82s/it]\n",
            "  0%|                                                     | 0/5 [00:00<?, ?it/s]\u001b[A\n",
            " 40%|██████████████████                           | 2/5 [00:01<00:02,  1.33it/s]\u001b[A\n",
            " 60%|███████████████████████████                  | 3/5 [00:02<00:02,  1.01s/it]\u001b[A\n",
            " 80%|████████████████████████████████████         | 4/5 [00:04<00:01,  1.29s/it]\u001b[A\n",
            "                                                                                \u001b[A\n",
            "\u001b[A{'eval_loss': 0.5292178988456726, 'eval_runtime': 7.6051, 'eval_samples_per_second': 9.862, 'eval_steps_per_second': 0.657, 'epoch': 0.17}\n",
            "  6%|██▏                                    | 80/1389 [10:00<2:07:02,  5.82s/it]\n",
            "100%|█████████████████████████████████████████████| 5/5 [00:05<00:00,  1.29s/it]\u001b[A\n",
            "{'loss': 0.4371, 'learning_rate': 0.00019869469850045842, 'epoch': 0.17}        \u001b[A\n",
            "{'loss': 0.53, 'learning_rate': 0.00019865775356174545, 'epoch': 0.18}          \n",
            "{'loss': 0.572, 'learning_rate': 0.00019862029658496762, 'epoch': 0.18}         \n",
            "{'loss': 0.6009, 'learning_rate': 0.00019858232776452837, 'epoch': 0.18}        \n",
            "{'loss': 0.5375, 'learning_rate': 0.00019854384729748746, 'epoch': 0.18}        \n",
            "  6%|██▍                                    | 85/1389 [10:32<2:19:28,  6.42s/it]\n",
            "  0%|                                                     | 0/5 [00:00<?, ?it/s]\u001b[A\n",
            " 40%|██████████████████                           | 2/5 [00:01<00:02,  1.32it/s]\u001b[A\n",
            " 60%|███████████████████████████                  | 3/5 [00:02<00:02,  1.01s/it]\u001b[A\n",
            " 80%|████████████████████████████████████         | 4/5 [00:04<00:01,  1.30s/it]\u001b[A\n",
            "                                                                                \u001b[A\n",
            "\u001b[A{'eval_loss': 0.5238733887672424, 'eval_runtime': 7.6302, 'eval_samples_per_second': 9.829, 'eval_steps_per_second': 0.655, 'epoch': 0.18}\n",
            "  6%|██▍                                    | 85/1389 [10:40<2:19:28,  6.42s/it]\n",
            "100%|█████████████████████████████████████████████| 5/5 [00:06<00:00,  1.30s/it]\u001b[A\n",
            "{'loss': 0.5502, 'learning_rate': 0.00019850485538356027, 'epoch': 0.19}        \u001b[A\n",
            "{'loss': 0.691, 'learning_rate': 0.0001984653522251165, 'epoch': 0.19}          \n",
            "{'loss': 0.5475, 'learning_rate': 0.00019842533802717923, 'epoch': 0.19}        \n",
            "{'loss': 0.4969, 'learning_rate': 0.00019838481299742398, 'epoch': 0.19}        \n",
            "{'loss': 0.5819, 'learning_rate': 0.0001983437773461774, 'epoch': 0.19}         \n",
            "  6%|██▌                                    | 90/1389 [11:05<2:07:52,  5.91s/it]\n",
            "  0%|                                                     | 0/5 [00:00<?, ?it/s]\u001b[A\n",
            " 40%|██████████████████                           | 2/5 [00:01<00:02,  1.33it/s]\u001b[A\n",
            " 60%|███████████████████████████                  | 3/5 [00:02<00:02,  1.00s/it]\u001b[A\n",
            " 80%|████████████████████████████████████         | 4/5 [00:04<00:01,  1.30s/it]\u001b[A\n",
            "                                                                                \u001b[A\n",
            "\u001b[A{'eval_loss': 0.522545576095581, 'eval_runtime': 7.6095, 'eval_samples_per_second': 9.856, 'eval_steps_per_second': 0.657, 'epoch': 0.19}\n",
            "  6%|██▌                                    | 90/1389 [11:13<2:07:52,  5.91s/it]\n",
            "100%|█████████████████████████████████████████████| 5/5 [00:05<00:00,  1.30s/it]\u001b[A\n",
            "{'loss': 0.5247, 'learning_rate': 0.00019830223128641637, 'epoch': 0.2}         \u001b[A\n",
            "{'loss': 0.5104, 'learning_rate': 0.00019826017503376666, 'epoch': 0.2}         \n",
            "{'loss': 0.4686, 'learning_rate': 0.00019821760880650214, 'epoch': 0.2}         \n",
            "{'loss': 0.4606, 'learning_rate': 0.00019817453282554333, 'epoch': 0.2}         \n",
            "{'loss': 0.4579, 'learning_rate': 0.00019813094731445654, 'epoch': 0.21}        \n",
            "  7%|██▋                                    | 95/1389 [11:45<2:15:51,  6.30s/it]\n",
            "  0%|                                                     | 0/5 [00:00<?, ?it/s]\u001b[A\n",
            " 40%|██████████████████                           | 2/5 [00:01<00:02,  1.33it/s]\u001b[A\n",
            " 60%|███████████████████████████                  | 3/5 [00:02<00:02,  1.01s/it]\u001b[A\n",
            " 80%|████████████████████████████████████         | 4/5 [00:04<00:01,  1.30s/it]\u001b[A\n",
            "                                                                                \u001b[A\n",
            "\u001b[A{'eval_loss': 0.5233108997344971, 'eval_runtime': 7.617, 'eval_samples_per_second': 9.846, 'eval_steps_per_second': 0.656, 'epoch': 0.21}\n",
            "  7%|██▋                                    | 95/1389 [11:52<2:15:51,  6.30s/it]\n",
            "100%|█████████████████████████████████████████████| 5/5 [00:06<00:00,  1.30s/it]\u001b[A\n",
            "{'loss': 0.5293, 'learning_rate': 0.00019808685249945245, 'epoch': 0.21}        \u001b[A\n",
            "{'loss': 0.5291, 'learning_rate': 0.00019804224860938506, 'epoch': 0.21}        \n",
            "{'loss': 0.4462, 'learning_rate': 0.0001979971358757505, 'epoch': 0.21}         \n",
            "{'loss': 0.4863, 'learning_rate': 0.0001979515145326859, 'epoch': 0.21}         \n",
            "{'loss': 0.5767, 'learning_rate': 0.000197905384816968, 'epoch': 0.22}          \n",
            "  7%|██▋                                   | 100/1389 [12:16<2:00:18,  5.60s/it]\n",
            "  0%|                                                     | 0/5 [00:00<?, ?it/s]\u001b[A\n",
            " 40%|██████████████████                           | 2/5 [00:01<00:02,  1.33it/s]\u001b[A\n",
            " 60%|███████████████████████████                  | 3/5 [00:02<00:02,  1.00s/it]\u001b[A\n",
            " 80%|████████████████████████████████████         | 4/5 [00:04<00:01,  1.29s/it]\u001b[A\n",
            "                                                                                \u001b[A\n",
            "\u001b[A{'eval_loss': 0.5204299092292786, 'eval_runtime': 7.6072, 'eval_samples_per_second': 9.859, 'eval_steps_per_second': 0.657, 'epoch': 0.22}\n",
            "  7%|██▋                                   | 100/1389 [12:24<2:00:18,  5.60s/it]\n",
            "100%|█████████████████████████████████████████████| 5/5 [00:05<00:00,  1.29s/it]\u001b[A\n",
            "{'loss': 0.5042, 'learning_rate': 0.00019785874696801202, 'epoch': 0.22}        \u001b[A\n",
            "{'loss': 0.5831, 'learning_rate': 0.00019781160122787046, 'epoch': 0.22}        \n",
            "{'loss': 0.5289, 'learning_rate': 0.00019776394784123177, 'epoch': 0.22}        \n",
            "{'loss': 0.5916, 'learning_rate': 0.00019771578705541916, 'epoch': 0.22}        \n",
            "{'loss': 0.5822, 'learning_rate': 0.00019766711912038915, 'epoch': 0.23}        \n",
            "  8%|██▊                                   | 105/1389 [12:55<2:11:40,  6.15s/it]\n",
            "  0%|                                                     | 0/5 [00:00<?, ?it/s]\u001b[A\n",
            " 40%|██████████████████                           | 2/5 [00:01<00:02,  1.33it/s]\u001b[A\n",
            " 60%|███████████████████████████                  | 3/5 [00:02<00:02,  1.01s/it]\u001b[A\n",
            " 80%|████████████████████████████████████         | 4/5 [00:04<00:01,  1.30s/it]\u001b[A\n",
            "                                                                                \u001b[A\n",
            "\u001b[A{'eval_loss': 0.5199926495552063, 'eval_runtime': 7.617, 'eval_samples_per_second': 9.846, 'eval_steps_per_second': 0.656, 'epoch': 0.23}\n",
            "  8%|██▊                                   | 105/1389 [13:03<2:11:40,  6.15s/it]\n",
            "100%|█████████████████████████████████████████████| 5/5 [00:06<00:00,  1.30s/it]\u001b[A\n",
            "{'loss': 0.5887, 'learning_rate': 0.0001976179442887305, 'epoch': 0.23}         \u001b[A\n",
            "{'loss': 0.4716, 'learning_rate': 0.00019756826281566272, 'epoch': 0.23}        \n",
            "{'loss': 0.56, 'learning_rate': 0.00019751807495903484, 'epoch': 0.23}          \n",
            "{'loss': 0.5132, 'learning_rate': 0.00019746738097932407, 'epoch': 0.24}        \n",
            "{'loss': 0.5541, 'learning_rate': 0.0001974161811396343, 'epoch': 0.24}         \n",
            "  8%|███                                   | 110/1389 [13:29<2:06:45,  5.95s/it]\n",
            "  0%|                                                     | 0/5 [00:00<?, ?it/s]\u001b[A\n",
            " 40%|██████████████████                           | 2/5 [00:01<00:02,  1.33it/s]\u001b[A\n",
            " 60%|███████████████████████████                  | 3/5 [00:02<00:02,  1.00s/it]\u001b[A\n",
            " 80%|████████████████████████████████████         | 4/5 [00:04<00:01,  1.29s/it]\u001b[A\n",
            "                                                                                \u001b[A\n",
            "\u001b[A{'eval_loss': 0.5165018439292908, 'eval_runtime': 7.6078, 'eval_samples_per_second': 9.858, 'eval_steps_per_second': 0.657, 'epoch': 0.24}\n",
            "  8%|███                                   | 110/1389 [13:37<2:06:45,  5.95s/it]\n",
            "100%|█████████████████████████████████████████████| 5/5 [00:05<00:00,  1.29s/it]\u001b[A\n",
            "{'loss': 0.5185, 'learning_rate': 0.00019736447570569503, 'epoch': 0.24}        \u001b[A\n",
            "{'loss': 0.5005, 'learning_rate': 0.0001973122649458597, 'epoch': 0.24}         \n",
            "{'loss': 0.4212, 'learning_rate': 0.00019725954913110442, 'epoch': 0.24}        \n",
            "{'loss': 0.5075, 'learning_rate': 0.0001972063285350266, 'epoch': 0.25}         \n",
            "{'loss': 0.6098, 'learning_rate': 0.00019715260343384347, 'epoch': 0.25}        \n",
            "  8%|███▏                                  | 115/1389 [14:09<2:11:37,  6.20s/it]\n",
            "  0%|                                                     | 0/5 [00:00<?, ?it/s]\u001b[A\n",
            " 40%|██████████████████                           | 2/5 [00:01<00:02,  1.33it/s]\u001b[A\n",
            " 60%|███████████████████████████                  | 3/5 [00:02<00:02,  1.01s/it]\u001b[A\n",
            " 80%|████████████████████████████████████         | 4/5 [00:04<00:01,  1.30s/it]\u001b[A\n",
            "                                                                                \u001b[A\n",
            "\u001b[A{'eval_loss': 0.5142084956169128, 'eval_runtime': 7.6151, 'eval_samples_per_second': 9.849, 'eval_steps_per_second': 0.657, 'epoch': 0.25}\n",
            "  8%|███▏                                  | 115/1389 [14:16<2:11:37,  6.20s/it]\n",
            "100%|█████████████████████████████████████████████| 5/5 [00:06<00:00,  1.30s/it]\u001b[A\n",
            "{'loss': 0.5293, 'learning_rate': 0.00019709837410639063, 'epoch': 0.25}        \u001b[A\n",
            "{'loss': 0.4133, 'learning_rate': 0.0001970436408341207, 'epoch': 0.25}         \n",
            "{'loss': 0.4468, 'learning_rate': 0.00019698840390110176, 'epoch': 0.25}        \n",
            "{'loss': 0.3952, 'learning_rate': 0.0001969326635940159, 'epoch': 0.26}         \n",
            "{'loss': 0.5116, 'learning_rate': 0.00019687642020215775, 'epoch': 0.26}        \n",
            "  9%|███▎                                  | 120/1389 [14:46<2:15:54,  6.43s/it]\n",
            "  0%|                                                     | 0/5 [00:00<?, ?it/s]\u001b[A\n",
            " 40%|██████████████████                           | 2/5 [00:01<00:02,  1.33it/s]\u001b[A\n",
            " 60%|███████████████████████████                  | 3/5 [00:02<00:02,  1.00s/it]\u001b[A\n",
            " 80%|████████████████████████████████████         | 4/5 [00:04<00:01,  1.29s/it]\u001b[A\n",
            "                                                                                \u001b[A\n",
            "\u001b[A{'eval_loss': 0.5140112042427063, 'eval_runtime': 7.5965, 'eval_samples_per_second': 9.873, 'eval_steps_per_second': 0.658, 'epoch': 0.26}\n",
            "  9%|███▎                                  | 120/1389 [14:53<2:15:54,  6.43s/it]\n",
            "100%|█████████████████████████████████████████████| 5/5 [00:05<00:00,  1.29s/it]\u001b[A\n",
            "{'loss': 0.5046, 'learning_rate': 0.00019681967401743297, 'epoch': 0.26}        \u001b[A\n",
            "{'loss': 0.4896, 'learning_rate': 0.00019676242533435678, 'epoch': 0.26}        \n",
            "{'loss': 0.4537, 'learning_rate': 0.00019670467445005233, 'epoch': 0.27}        \n",
            "{'loss': 0.521, 'learning_rate': 0.00019664642166424928, 'epoch': 0.27}         \n",
            "{'loss': 0.5513, 'learning_rate': 0.00019658766727928206, 'epoch': 0.27}        \n",
            "  9%|███▍                                  | 125/1389 [15:26<2:17:36,  6.53s/it]\n",
            "  0%|                                                     | 0/5 [00:00<?, ?it/s]\u001b[A\n",
            " 40%|██████████████████                           | 2/5 [00:01<00:02,  1.32it/s]\u001b[A\n",
            " 60%|███████████████████████████                  | 3/5 [00:02<00:02,  1.01s/it]\u001b[A\n",
            " 80%|████████████████████████████████████         | 4/5 [00:04<00:01,  1.30s/it]\u001b[A\n",
            "                                                                                \u001b[A\n",
            "\u001b[A{'eval_loss': 0.5105311870574951, 'eval_runtime': 7.628, 'eval_samples_per_second': 9.832, 'eval_steps_per_second': 0.655, 'epoch': 0.27}\n",
            "  9%|███▍                                  | 125/1389 [15:34<2:17:36,  6.53s/it]\n",
            "100%|█████████████████████████████████████████████| 5/5 [00:06<00:00,  1.30s/it]\u001b[A\n",
            "{'loss': 0.4681, 'learning_rate': 0.00019652841160008858, 'epoch': 0.27}        \u001b[A\n",
            "{'loss': 0.4856, 'learning_rate': 0.0001964686549342084, 'epoch': 0.27}         \n",
            "{'loss': 0.528, 'learning_rate': 0.00019640839759178116, 'epoch': 0.28}         \n",
            "{'loss': 0.407, 'learning_rate': 0.00019634763988554522, 'epoch': 0.28}         \n",
            "{'loss': 0.5112, 'learning_rate': 0.00019628638213083565, 'epoch': 0.28}        \n",
            "  9%|███▌                                  | 130/1389 [16:00<2:02:22,  5.83s/it]\n",
            "  0%|                                                     | 0/5 [00:00<?, ?it/s]\u001b[A\n",
            " 40%|██████████████████                           | 2/5 [00:01<00:02,  1.33it/s]\u001b[A\n",
            " 60%|███████████████████████████                  | 3/5 [00:02<00:02,  1.01s/it]\u001b[A\n",
            " 80%|████████████████████████████████████         | 4/5 [00:04<00:01,  1.29s/it]\u001b[A\n",
            "                                                                                \u001b[A\n",
            "\u001b[A{'eval_loss': 0.5079454779624939, 'eval_runtime': 7.6057, 'eval_samples_per_second': 9.861, 'eval_steps_per_second': 0.657, 'epoch': 0.28}\n",
            "  9%|███▌                                  | 130/1389 [16:07<2:02:22,  5.83s/it]\n",
            "100%|█████████████████████████████████████████████| 5/5 [00:05<00:00,  1.29s/it]\u001b[A\n",
            "{'loss': 0.48, 'learning_rate': 0.00019622462464558295, 'epoch': 0.28}          \u001b[A\n",
            "{'loss': 0.5438, 'learning_rate': 0.00019616236775031113, 'epoch': 0.29}        \n",
            "{'loss': 0.499, 'learning_rate': 0.00019609961176813624, 'epoch': 0.29}         \n",
            "{'loss': 0.4279, 'learning_rate': 0.0001960363570247645, 'epoch': 0.29}         \n",
            "{'loss': 0.5266, 'learning_rate': 0.0001959726038484909, 'epoch': 0.29}         \n",
            " 10%|███▋                                  | 135/1389 [16:40<2:12:13,  6.33s/it]\n",
            "  0%|                                                     | 0/5 [00:00<?, ?it/s]\u001b[A\n",
            " 40%|██████████████████                           | 2/5 [00:01<00:02,  1.33it/s]\u001b[A\n",
            " 60%|███████████████████████████                  | 3/5 [00:02<00:02,  1.01s/it]\u001b[A\n",
            " 80%|████████████████████████████████████         | 4/5 [00:04<00:01,  1.30s/it]\u001b[A\n",
            "                                                                                \u001b[A\n",
            "\u001b[A{'eval_loss': 0.507485568523407, 'eval_runtime': 7.6135, 'eval_samples_per_second': 9.851, 'eval_steps_per_second': 0.657, 'epoch': 0.29}\n",
            " 10%|███▋                                  | 135/1389 [16:48<2:12:13,  6.33s/it]\n",
            "100%|█████████████████████████████████████████████| 5/5 [00:06<00:00,  1.30s/it]\u001b[A\n",
            "{'loss': 0.5482, 'learning_rate': 0.00019590835257019714, 'epoch': 0.29}        \u001b[A\n",
            "{'loss': 0.4879, 'learning_rate': 0.00019584360352335023, 'epoch': 0.3}         \n",
            "{'loss': 0.5314, 'learning_rate': 0.0001957783570440005, 'epoch': 0.3}          \n",
            "{'loss': 0.4855, 'learning_rate': 0.0001957126134707801, 'epoch': 0.3}          \n",
            "{'loss': 0.4825, 'learning_rate': 0.00019564637314490108, 'epoch': 0.3}         \n",
            " 10%|███▊                                  | 140/1389 [17:14<2:01:59,  5.86s/it]\n",
            "  0%|                                                     | 0/5 [00:00<?, ?it/s]\u001b[A\n",
            " 40%|██████████████████                           | 2/5 [00:01<00:02,  1.32it/s]\u001b[A\n",
            " 60%|███████████████████████████                  | 3/5 [00:02<00:02,  1.01s/it]\u001b[A\n",
            " 80%|████████████████████████████████████         | 4/5 [00:04<00:01,  1.30s/it]\u001b[A\n",
            "                                                                                \u001b[A\n",
            "\u001b[A{'eval_loss': 0.5040709376335144, 'eval_runtime': 7.6169, 'eval_samples_per_second': 9.846, 'eval_steps_per_second': 0.656, 'epoch': 0.3}\n",
            " 10%|███▊                                  | 140/1389 [17:22<2:01:59,  5.86s/it]\n",
            "100%|█████████████████████████████████████████████| 5/5 [00:06<00:00,  1.30s/it]\u001b[A\n",
            "{'loss': 0.5761, 'learning_rate': 0.0001955796364101535, 'epoch': 0.3}          \u001b[A\n",
            "{'loss': 0.5142, 'learning_rate': 0.00019551240361290407, 'epoch': 0.31}        \n",
            "{'loss': 0.4928, 'learning_rate': 0.00019544467510209388, 'epoch': 0.31}        \n",
            "{'loss': 0.5168, 'learning_rate': 0.0001953764512292369, 'epoch': 0.31}         \n",
            "{'loss': 0.5137, 'learning_rate': 0.00019530773234841803, 'epoch': 0.31}        \n",
            " 10%|███▉                                  | 145/1389 [17:54<2:09:00,  6.22s/it]\n",
            "  0%|                                                     | 0/5 [00:00<?, ?it/s]\u001b[A\n",
            " 40%|██████████████████                           | 2/5 [00:01<00:02,  1.32it/s]\u001b[A\n",
            " 60%|███████████████████████████                  | 3/5 [00:02<00:02,  1.01s/it]\u001b[A\n",
            " 80%|████████████████████████████████████         | 4/5 [00:04<00:01,  1.30s/it]\u001b[A\n",
            "                                                                                \u001b[A\n",
            "\u001b[A{'eval_loss': 0.5070948600769043, 'eval_runtime': 7.6198, 'eval_samples_per_second': 9.843, 'eval_steps_per_second': 0.656, 'epoch': 0.31}\n",
            " 10%|███▉                                  | 145/1389 [18:02<2:09:00,  6.22s/it]\n",
            "100%|█████████████████████████████████████████████| 5/5 [00:06<00:00,  1.30s/it]\u001b[A\n",
            "{'loss': 0.4877, 'learning_rate': 0.00019523851881629126, 'epoch': 0.32}        \u001b[A\n",
            "{'loss': 0.5623, 'learning_rate': 0.0001951688109920778, 'epoch': 0.32}         \n",
            "{'loss': 0.509, 'learning_rate': 0.00019509860923756442, 'epoch': 0.32}         \n",
            "{'loss': 0.5348, 'learning_rate': 0.00019502791391710125, 'epoch': 0.32}        \n",
            "{'loss': 0.5894, 'learning_rate': 0.00019495672539760007, 'epoch': 0.32}        \n",
            " 11%|████                                  | 150/1389 [18:30<2:15:03,  6.54s/it]\n",
            "  0%|                                                     | 0/5 [00:00<?, ?it/s]\u001b[A\n",
            " 40%|██████████████████                           | 2/5 [00:01<00:02,  1.33it/s]\u001b[A\n",
            " 60%|███████████████████████████                  | 3/5 [00:02<00:02,  1.00s/it]\u001b[A\n",
            " 80%|████████████████████████████████████         | 4/5 [00:04<00:01,  1.30s/it]\u001b[A\n",
            "                                                                                \u001b[A\n",
            "\u001b[A{'eval_loss': 0.5078986883163452, 'eval_runtime': 7.6139, 'eval_samples_per_second': 9.85, 'eval_steps_per_second': 0.657, 'epoch': 0.32}\n",
            " 11%|████                                  | 150/1389 [18:37<2:15:03,  6.54s/it]\n",
            "100%|█████████████████████████████████████████████| 5/5 [00:06<00:00,  1.30s/it]\u001b[A\n",
            "{'loss': 0.4545, 'learning_rate': 0.00019488504404853248, 'epoch': 0.33}        \u001b[A\n",
            "{'loss': 0.5354, 'learning_rate': 0.00019481287024192775, 'epoch': 0.33}        \n",
            "{'loss': 0.4467, 'learning_rate': 0.00019474020435237117, 'epoch': 0.33}        \n",
            "{'loss': 0.5151, 'learning_rate': 0.00019466704675700185, 'epoch': 0.33}        \n",
            "{'loss': 0.5278, 'learning_rate': 0.00019459339783551094, 'epoch': 0.33}        \n",
            " 11%|████▏                                 | 155/1389 [19:10<2:10:44,  6.36s/it]\n",
            "  0%|                                                     | 0/5 [00:00<?, ?it/s]\u001b[A\n",
            " 40%|██████████████████                           | 2/5 [00:01<00:02,  1.33it/s]\u001b[A\n",
            " 60%|███████████████████████████                  | 3/5 [00:02<00:02,  1.01s/it]\u001b[A\n",
            " 80%|████████████████████████████████████         | 4/5 [00:04<00:01,  1.30s/it]\u001b[A\n",
            "                                                                                \u001b[A\n",
            "\u001b[A{'eval_loss': 0.5058236122131348, 'eval_runtime': 7.6235, 'eval_samples_per_second': 9.838, 'eval_steps_per_second': 0.656, 'epoch': 0.33}\n",
            " 11%|████▏                                 | 155/1389 [19:17<2:10:44,  6.36s/it]\n",
            "100%|█████████████████████████████████████████████| 5/5 [00:06<00:00,  1.30s/it]\u001b[A\n",
            "{'train_runtime': 1161.7804, 'train_samples_per_second': 19.103, 'train_steps_per_second': 1.196, 'train_loss': 0.565378487302411, 'epoch': 0.33}\n",
            " 11%|████▏                                 | 155/1389 [19:18<2:10:44,  6.36s/it]INFO:root:Training Completed!!! Saving pre-trained model to /content/axolotl-trained/falcon-qlora-40b-gsm8k/\n",
            " 11%|████▏                                 | 155/1389 [19:18<2:33:43,  7.47s/it]\n",
            "INFO:root:Training Completed!!! Saving pre-trained model to /content/axolotl-trained/falcon-qlora-40b-gsm8k/\n",
            "\u001b[34m\u001b[1mwandb\u001b[0m: Waiting for W&B process to finish... \u001b[32m(success).\u001b[0m\n",
            "\u001b[34m\u001b[1mwandb\u001b[0m: \n",
            "\u001b[34m\u001b[1mwandb\u001b[0m: Run history:\n",
            "\u001b[34m\u001b[1mwandb\u001b[0m:                      eval/loss █▅▃▃▃▂▂▂▂▂▂▂▂▂▂▁▁▁▁▁▁▁▁▁▁▁▁▁▁▁▁\n",
            "\u001b[34m\u001b[1mwandb\u001b[0m:                   eval/runtime ▁▂▄▂▄▆▄▅▂▆▅▆▇▄█▃█▄▅▃▅▄▅▁▇▃▅▅▆▅▆\n",
            "\u001b[34m\u001b[1mwandb\u001b[0m:        eval/samples_per_second █▇▅▇▅▃▅▄▇▃▄▃▂▅▁▆▁▅▄▆▄▅▄█▂▆▄▄▃▄▃\n",
            "\u001b[34m\u001b[1mwandb\u001b[0m:          eval/steps_per_second ██▆█▆▃▆▆█▃▆▃▁▆▁▆▁▆▃▆▃▆▆█▁▆▆▃▃▆▃\n",
            "\u001b[34m\u001b[1mwandb\u001b[0m:                    train/epoch ▁▁▁▂▂▂▂▂▂▃▃▃▃▃▄▄▄▄▄▄▅▅▅▅▅▅▆▆▆▆▇▇▇▇▇▇████\n",
            "\u001b[34m\u001b[1mwandb\u001b[0m:              train/global_step ▁▁▁▂▂▂▂▂▂▃▃▃▃▃▄▄▄▄▄▄▅▅▅▅▅▅▆▆▆▆▆▇▇▇▇▇▇███\n",
            "\u001b[34m\u001b[1mwandb\u001b[0m:            train/learning_rate ▁▃▆█████████████████████████████████████\n",
            "\u001b[34m\u001b[1mwandb\u001b[0m:                     train/loss █▇█▅▄▄▂▄▂▂▃▃▃▁▁▃▂▂▃▂▂▂▃▃▁▁▃▃▃▂▁▂▂▂▁▂▂▂▃▂\n",
            "\u001b[34m\u001b[1mwandb\u001b[0m:               train/total_flos ▁\n",
            "\u001b[34m\u001b[1mwandb\u001b[0m:               train/train_loss ▁\n",
            "\u001b[34m\u001b[1mwandb\u001b[0m:            train/train_runtime ▁\n",
            "\u001b[34m\u001b[1mwandb\u001b[0m: train/train_samples_per_second ▁\n",
            "\u001b[34m\u001b[1mwandb\u001b[0m:   train/train_steps_per_second ▁\n",
            "\u001b[34m\u001b[1mwandb\u001b[0m: \n",
            "\u001b[34m\u001b[1mwandb\u001b[0m: Run summary:\n",
            "\u001b[34m\u001b[1mwandb\u001b[0m:                      eval/loss 0.50582\n",
            "\u001b[34m\u001b[1mwandb\u001b[0m:                   eval/runtime 7.6235\n",
            "\u001b[34m\u001b[1mwandb\u001b[0m:        eval/samples_per_second 9.838\n",
            "\u001b[34m\u001b[1mwandb\u001b[0m:          eval/steps_per_second 0.656\n",
            "\u001b[34m\u001b[1mwandb\u001b[0m:                    train/epoch 0.33\n",
            "\u001b[34m\u001b[1mwandb\u001b[0m:              train/global_step 155\n",
            "\u001b[34m\u001b[1mwandb\u001b[0m:            train/learning_rate 0.00019\n",
            "\u001b[34m\u001b[1mwandb\u001b[0m:                     train/loss 0.5278\n",
            "\u001b[34m\u001b[1mwandb\u001b[0m:               train/total_flos 8.762064566747136e+16\n",
            "\u001b[34m\u001b[1mwandb\u001b[0m:               train/train_loss 0.56538\n",
            "\u001b[34m\u001b[1mwandb\u001b[0m:            train/train_runtime 1161.7804\n",
            "\u001b[34m\u001b[1mwandb\u001b[0m: train/train_samples_per_second 19.103\n",
            "\u001b[34m\u001b[1mwandb\u001b[0m:   train/train_steps_per_second 1.196\n",
            "\u001b[34m\u001b[1mwandb\u001b[0m: \n",
            "\u001b[34m\u001b[1mwandb\u001b[0m: 🚀 View run \u001b[33mserene-spaceship-35\u001b[0m at: \u001b[34m\u001b[4mhttps://wandb.ai/utensil/falcon-qlora/runs/i092vdud\u001b[0m\n",
            "\u001b[34m\u001b[1mwandb\u001b[0m: Synced 6 W&B file(s), 0 media file(s), 2 artifact file(s) and 0 other file(s)\n",
            "\u001b[34m\u001b[1mwandb\u001b[0m: Find logs at: \u001b[35m\u001b[1m./wandb/run-20230615_063702-i092vdud/logs\u001b[0m\n",
            "Exception in thread NetStatThr:\n",
            "Traceback (most recent call last):\n",
            "  File \"/root/miniconda3/envs/py3.9/lib/python3.9/threading.py\", line 980, in _bootstrap_inner\n",
            "    self.run()\n",
            "  File \"/root/miniconda3/envs/py3.9/lib/python3.9/threading.py\", line 917, in run\n",
            "    self._target(*self._args, **self._kwargs)\n",
            "  File \"/root/miniconda3/envs/py3.9/lib/python3.9/site-packages/wandb/sdk/wandb_run.py\", line 257, in check_network_status\n",
            "    self._loop_check_status(\n",
            "  File \"/root/miniconda3/envs/py3.9/lib/python3.9/site-packages/wandb/sdk/wandb_run.py\", line 213, in _loop_check_status\n",
            "    local_handle = request()\n",
            "  File \"/root/miniconda3/envs/py3.9/lib/python3.9/site-packages/wandb/sdk/interface/interface.py\", line 797, in deliver_network_status\n",
            "    return self._deliver_network_status(status)\n",
            "  File \"/root/miniconda3/envs/py3.9/lib/python3.9/site-packages/wandb/sdk/interface/interface_shared.py\", line 601, in _deliver_network_status\n",
            "    return self._deliver_record(record)\n",
            "  File \"/root/miniconda3/envs/py3.9/lib/python3.9/site-packages/wandb/sdk/interface/interface_shared.py\", line 560, in _deliver_record\n",
            "    handle = mailbox._deliver_record(record, interface=self)\n",
            "  File \"/root/miniconda3/envs/py3.9/lib/python3.9/site-packages/wandb/sdk/lib/mailbox.py\", line 455, in _deliver_record\n",
            "    interface._publish(record)\n",
            "  File \"/root/miniconda3/envs/py3.9/lib/python3.9/site-packages/wandb/sdk/interface/interface_sock.py\", line 51, in _publish\n",
            "    self._sock_client.send_record_publish(record)\n",
            "  File \"/root/miniconda3/envs/py3.9/lib/python3.9/site-packages/wandb/sdk/lib/sock_client.py\", line 221, in send_record_publish\n",
            "    self.send_server_request(server_req)\n",
            "  File \"/root/miniconda3/envs/py3.9/lib/python3.9/site-packages/wandb/sdk/lib/sock_client.py\", line 155, in send_server_request\n",
            "    self._send_message(msg)\n",
            "  File \"/root/miniconda3/envs/py3.9/lib/python3.9/site-packages/wandb/sdk/lib/sock_client.py\", line 152, in _send_message\n",
            "    self._sendall_with_error_handle(header + data)\n",
            "  File \"/root/miniconda3/envs/py3.9/lib/python3.9/site-packages/wandb/sdk/lib/sock_client.py\", line 130, in _sendall_with_error_handle\n",
            "    sent = self._sock.send(data)\n",
            "BrokenPipeError: [Errno 32] Broken pipe\n"
          ]
        }
      ],
      "source": [
        "!accelerate launch scripts/finetune.py examples/falcon/config-40b-qlora.yml"
      ]
    },
    {
      "cell_type": "markdown",
      "metadata": {
        "id": "VVwP73VWDY7L"
      },
      "source": [
        "## #4"
      ]
    },
    {
      "cell_type": "code",
      "execution_count": null,
      "metadata": {
        "id": "r-azUQO0dDnH"
      },
      "outputs": [],
      "source": [
        "%env ACCELERATE_USE_DEEPSPEED=false"
      ]
    },
    {
      "cell_type": "code",
      "execution_count": null,
      "metadata": {
        "id": "J3_tDMBqDY7L",
        "scrolled": true
      },
      "outputs": [],
      "source": [
        "!cat examples/falcon/config-40b-qlora.yml"
      ]
    },
    {
      "cell_type": "code",
      "execution_count": null,
      "metadata": {
        "id": "rzFuqSRNLL5_"
      },
      "outputs": [],
      "source": [
        "#%%writefile examples/falcon/config-40b-qlora.yml"
      ]
    },
    {
      "cell_type": "code",
      "execution_count": null,
      "metadata": {
        "id": "2VIorWx3DY7M",
        "scrolled": true
      },
      "outputs": [],
      "source": [
        "!accelerate launch scripts/finetune.py examples/falcon/config-40b-qlora.yml"
      ]
    },
    {
      "cell_type": "markdown",
      "metadata": {
        "id": "_TrgHEoizhLx"
      },
      "source": [
        "## #5 mbs 8"
      ]
    },
    {
      "cell_type": "code",
      "execution_count": null,
      "metadata": {
        "id": "0NdJGjFTdDnI"
      },
      "outputs": [],
      "source": [
        "%env HF_HUB_DISABLE_PROGRESS_BARS=1"
      ]
    },
    {
      "cell_type": "code",
      "execution_count": null,
      "metadata": {
        "id": "GcOtbqlCdDnI"
      },
      "outputs": [],
      "source": [
        "!cat examples/falcon/config-40b-qlora.yml"
      ]
    },
    {
      "cell_type": "code",
      "execution_count": null,
      "metadata": {
        "id": "WpJG6JK2zhLx",
        "scrolled": true
      },
      "outputs": [],
      "source": [
        "!accelerate launch scripts/finetune.py examples/falcon/config-40b-qlora.yml"
      ]
    },
    {
      "cell_type": "markdown",
      "metadata": {
        "id": "hrnqGCBezhLy"
      },
      "source": [
        "## #6"
      ]
    },
    {
      "cell_type": "code",
      "execution_count": null,
      "metadata": {
        "id": "YHaDkOkvdDnI"
      },
      "outputs": [],
      "source": [
        "!cat examples/falcon/config-40b-qlora.yml"
      ]
    },
    {
      "cell_type": "code",
      "execution_count": null,
      "metadata": {
        "id": "7aEj2fAgzhLz"
      },
      "outputs": [],
      "source": [
        "!accelerate launch scripts/finetune.py examples/falcon/config-40b-qlora.yml"
      ]
    },
    {
      "cell_type": "markdown",
      "metadata": {
        "id": "UivJrMd8zhLz"
      },
      "source": [
        "## #7"
      ]
    },
    {
      "cell_type": "code",
      "execution_count": null,
      "metadata": {
        "id": "99raQX83zhLz"
      },
      "outputs": [],
      "source": [
        "!cat examples/falcon/config-40b-qlora.yml"
      ]
    },
    {
      "cell_type": "code",
      "execution_count": null,
      "metadata": {
        "id": "ubZ7fVBVzhLz"
      },
      "outputs": [],
      "source": [
        "!accelerate launch scripts/finetune.py examples/falcon/config-40b-qlora.yml --deepspeed ds_config.json"
      ]
    },
    {
      "cell_type": "code",
      "execution_count": null,
      "metadata": {
        "id": "UuaiP0pUzhL0"
      },
      "outputs": [],
      "source": []
    },
    {
      "cell_type": "code",
      "execution_count": null,
      "metadata": {
        "id": "Wzy_ZDY4zhL0"
      },
      "outputs": [],
      "source": []
    },
    {
      "cell_type": "markdown",
      "metadata": {
        "id": "OFWDQTL_vGSL"
      },
      "source": [
        "# Upload"
      ]
    },
    {
      "cell_type": "markdown",
      "metadata": {
        "id": "spqeHYEGDY7Q"
      },
      "source": [
        "### Upload checkpoints to HF"
      ]
    },
    {
      "cell_type": "code",
      "execution_count": null,
      "metadata": {
        "id": "zkekyF8DKerI"
      },
      "outputs": [],
      "source": [
        "%cd /content/axolotl-trained/falcon-qlora-40b-gsm8k/"
      ]
    },
    {
      "cell_type": "code",
      "execution_count": null,
      "metadata": {
        "id": "eL8SpVYpNY1y"
      },
      "outputs": [],
      "source": [
        "!ls -lhta |grep checkpoint-"
      ]
    },
    {
      "cell_type": "code",
      "execution_count": null,
      "metadata": {
        "id": "Pj_79rGoKkA_"
      },
      "outputs": [],
      "source": [
        "!ls -lhta |grep checkpoint- | awk 'NR > 1 {print $9}'"
      ]
    },
    {
      "cell_type": "code",
      "execution_count": null,
      "metadata": {
        "id": "XK8IWmrtKvlJ"
      },
      "outputs": [],
      "source": [
        "# ls -lhta |grep checkpoint- | awk 'NR > 1 {print $9}' | xargs rm -rf"
      ]
    },
    {
      "cell_type": "code",
      "execution_count": null,
      "metadata": {
        "id": "DgyQDH-YDY7R"
      },
      "outputs": [],
      "source": [
        "!python /workspace/llm-playground/helper/storage.py utensil/axolotl-trained /content/ -u"
      ]
    },
    {
      "cell_type": "markdown",
      "metadata": {
        "id": "H5TnMCeLDY7M"
      },
      "source": [
        "## Below are ad hoc cells handling issues during training\n",
        "\n",
        "current out dir:\n",
        "\n",
        "```\n",
        "/content/axolotl-trained/falcon-qlora-40b-gsm8k/\n",
        "```"
      ]
    },
    {
      "cell_type": "markdown",
      "metadata": {
        "id": "UdCBx0UZDY7M"
      },
      "source": [
        "### Force release VRAM"
      ]
    },
    {
      "cell_type": "code",
      "execution_count": null,
      "metadata": {
        "id": "_0VdzsqSDY7M"
      },
      "outputs": [],
      "source": [
        "# First interupt the kernel, wait a few seconds then run this to kill finetune to release VRAM\n",
        "!ps aux|grep python|grep finetune|awk '{print $2}'|xargs kill"
      ]
    },
    {
      "cell_type": "markdown",
      "metadata": {
        "id": "bT7StF_PDY7N"
      },
      "source": [
        "### Clean the finetuned model and all checkpoints"
      ]
    },
    {
      "cell_type": "code",
      "execution_count": null,
      "metadata": {
        "id": "FT4c-7KHDY7N"
      },
      "outputs": [],
      "source": [
        "# Only run this to start over\n",
        "!rm -rf /content/axolotl-trained/falcon-qlora-40b-gsm8k/"
      ]
    },
    {
      "cell_type": "markdown",
      "metadata": {
        "id": "p6s4xi9jDY7N"
      },
      "source": [
        "### Zip the prepared dataset"
      ]
    },
    {
      "cell_type": "code",
      "execution_count": null,
      "metadata": {
        "id": "MZ-aBbwEDY7N"
      },
      "outputs": [],
      "source": [
        "!apt install zip\n",
        "!zip -r last_run_prepared.zip -xi last_run_prepared"
      ]
    },
    {
      "cell_type": "markdown",
      "metadata": {
        "id": "8BFC20jMDY7N"
      },
      "source": [
        "### Monitoring GPU"
      ]
    },
    {
      "cell_type": "code",
      "execution_count": null,
      "metadata": {
        "id": "MgPaXew2DY7O"
      },
      "outputs": [],
      "source": [
        "# Run this in a seperate terminal\n",
        "!nvitop -m full"
      ]
    },
    {
      "cell_type": "markdown",
      "metadata": {
        "id": "pYFlPnbXDY7O"
      },
      "source": [
        "### Fix DISK FULL"
      ]
    },
    {
      "cell_type": "code",
      "execution_count": null,
      "metadata": {
        "id": "yv5CWZu7DY7O"
      },
      "outputs": [],
      "source": [
        "%cd /"
      ]
    },
    {
      "cell_type": "code",
      "execution_count": null,
      "metadata": {
        "id": "wvqYxcpZDY7P"
      },
      "outputs": [],
      "source": [
        "!du -d 2 -h|grep G"
      ]
    },
    {
      "cell_type": "code",
      "execution_count": null,
      "metadata": {
        "id": "tIIJxrv1DY7P"
      },
      "outputs": [],
      "source": [
        "!du -d 2 -h /root/.local"
      ]
    },
    {
      "cell_type": "code",
      "execution_count": null,
      "metadata": {
        "id": "25FTebpHDY7P"
      },
      "outputs": [],
      "source": [
        "!rm -rf /root/.local/share/Trash/"
      ]
    },
    {
      "cell_type": "code",
      "execution_count": null,
      "metadata": {
        "id": "8K4d-2ocDY7P"
      },
      "outputs": [],
      "source": [
        "!rm -rf /root/.local/share/wandb/"
      ]
    },
    {
      "cell_type": "code",
      "execution_count": null,
      "metadata": {
        "id": "UtOoZLugDY7P"
      },
      "outputs": [],
      "source": [
        "!rm -rf /root/.cache/wandb/"
      ]
    },
    {
      "cell_type": "markdown",
      "metadata": {
        "id": "17SexQnqDY7P"
      },
      "source": [
        "### Check who is using GPU"
      ]
    },
    {
      "cell_type": "code",
      "execution_count": null,
      "metadata": {
        "id": "kE8A5crNDY7P",
        "scrolled": true
      },
      "outputs": [],
      "source": [
        "!apt install lsof"
      ]
    },
    {
      "cell_type": "code",
      "execution_count": null,
      "metadata": {
        "id": "dwNCASirDY7Q",
        "scrolled": true
      },
      "outputs": [],
      "source": [
        "!lsof /dev/nvidia*"
      ]
    },
    {
      "cell_type": "markdown",
      "metadata": {
        "id": "gxZv_qjgDY7Y"
      },
      "source": [
        "### A new bash without tmux etc."
      ]
    },
    {
      "cell_type": "code",
      "execution_count": null,
      "metadata": {
        "id": "NDkJAXwTDY7Z"
      },
      "outputs": [],
      "source": [
        "!bash --norc --noprofile"
      ]
    },
    {
      "cell_type": "markdown",
      "metadata": {
        "id": "pR3s54THDY7Z"
      },
      "source": [
        "### Clean up all checkpoints but last one"
      ]
    },
    {
      "cell_type": "code",
      "execution_count": null,
      "metadata": {
        "id": "4fSoQ8hteEDX"
      },
      "outputs": [],
      "source": []
    },
    {
      "cell_type": "code",
      "execution_count": null,
      "metadata": {
        "id": "SJtsGJ0oeEDX",
        "outputId": "e6379cd7-013c-483c-dc21-83f342680c3b"
      },
      "outputs": [
        {
          "name": "stdout",
          "output_type": "stream",
          "text": [
            "checkpoint-10\n"
          ]
        }
      ],
      "source": [
        "!cd /content/axolotl-trained/falcon-qlora-40b-gsm8k/ && ls -lhta |grep checkpoint- | awk '{print $9}'"
      ]
    },
    {
      "cell_type": "code",
      "execution_count": null,
      "metadata": {
        "id": "LdO1EybEDY7Z"
      },
      "outputs": [],
      "source": [
        "!cd /content/axolotl-trained/falcon-qlora-40b-gsm8k/ && ls -lhta |grep checkpoint- | awk 'NR > 0 {print $9}' | xargs rm -rf"
      ]
    },
    {
      "cell_type": "code",
      "execution_count": null,
      "metadata": {
        "id": "yyk_zXK5eEDX"
      },
      "outputs": [],
      "source": []
    }
  ],
  "metadata": {
    "accelerator": "GPU",
    "colab": {
      "gpuType": "T4",
      "provenance": [],
      "include_colab_link": true
    },
    "kernelspec": {
      "display_name": "Python 3 (ipykernel)",
      "language": "python",
      "name": "python3"
    },
    "language_info": {
      "codemirror_mode": {
        "name": "ipython",
        "version": 3
      },
      "file_extension": ".py",
      "mimetype": "text/x-python",
      "name": "python",
      "nbconvert_exporter": "python",
      "pygments_lexer": "ipython3",
      "version": "3.9.16"
    }
  },
  "nbformat": 4,
  "nbformat_minor": 0
}