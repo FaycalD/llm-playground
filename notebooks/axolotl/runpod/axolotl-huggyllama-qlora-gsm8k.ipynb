{
 "cells": [
  {
   "cell_type": "code",
   "execution_count": 1,
   "metadata": {
    "colab": {
     "base_uri": "https://localhost:8080/"
    },
    "id": "zJvyUmZdktu0",
    "outputId": "25275dd8-4787-4b77-f7bf-4f2bbe66f0b8"
   },
   "outputs": [
    {
     "name": "stdout",
     "output_type": "stream",
     "text": [
      "/workspace/axolotl\n"
     ]
    }
   ],
   "source": [
    "%cd /workspace/axolotl"
   ]
  },
  {
   "cell_type": "code",
   "execution_count": 2,
   "metadata": {
    "colab": {
     "base_uri": "https://localhost:8080/"
    },
    "id": "mC48y25Lkqa5",
    "outputId": "2757a3c8-3790-4fd3-be39-03be8f533b35"
   },
   "outputs": [
    {
     "name": "stdout",
     "output_type": "stream",
     "text": [
      "Setting ds_accelerator to cuda (auto detect)\n",
      "accelerate configuration saved at /root/.cache/huggingface/accelerate/default_config.yaml\n"
     ]
    }
   ],
   "source": [
    "!accelerate config --config_file configs/accelerate/default_config.yaml default"
   ]
  },
  {
   "cell_type": "code",
   "execution_count": 20,
   "metadata": {
    "scrolled": true
   },
   "outputs": [
    {
     "name": "stdout",
     "output_type": "stream",
     "text": [
      "# Based on https://gist.github.com/fearnworks/723709806cebc67bafe1eb8138e7efbd\n",
      "base_model: huggyllama/llama-7b\n",
      "base_model_config: huggyllama/llama-7b\n",
      "model_type: LlamaForCausalLM\n",
      "tokenizer_type: LlamaTokenizer\n",
      "load_in_8bit: false\n",
      "load_in_4bit: true\n",
      "strict: false\n",
      "push_dataset_to_hub:\n",
      "datasets:\n",
      "  # - path: AtlasUnified/Code-Instruct-Sets\n",
      "  #   data_files:\n",
      "  #     - unmasked-set-1.jsonl\n",
      "  #     - unmasked-set-2.jsonl\n",
      "  #     - unmasked-set-3.jsonl\n",
      "  #     - unmasked-set-4.jsonl\n",
      "  #   type: alpaca_code_instruct\n",
      "  # - path: winglian/pygmalion-cleaned\n",
      "  #   data_files:\n",
      "  #     - v13_no_ai.cleaned.jsonl\n",
      "  #   type: pygmalion\n",
      "  #   shards: 4\n",
      "  # - path: winglian/evals\n",
      "  #   data_files:\n",
      "  #     - hf/ARC-Challenge.jsonl\n",
      "  #     - hf/ARC-Easy.jsonl\n",
      "  #     - hf/riddle_sense.jsonl\n",
      "  #   type: explainchoice:chat\n",
      "  # - path: winglian/evals\n",
      "  #   data_files:\n",
      "  #     - hf/gsm8k.jsonl\n",
      "  #     - custom/logic_inference_oa.jsonl\n",
      "  #   type: alpaca_chat.load_qa\n",
      "  # - path: winglian/evals\n",
      "  #   data_files:\n",
      "  #     - custom/in_context_qa.jsonl\n",
      "  #   type: context_qa\n",
      "  # - path: winglian/evals\n",
      "  #   data_files:\n",
      "  #     - custom/in_context_qa.jsonl\n",
      "  #   type: context_qa.load_404\n",
      "  # - path: winglian/evals\n",
      "  #   data_files:\n",
      "  #     - custom/jokes_explained_500up.jsonl\n",
      "  #   type: sharegpt_jokes\n",
      "  # - path: winglian/evals\n",
      "  #   data_files:\n",
      "  #     - custom/classify-self-chat.sharegpt.jsonl\n",
      "  #     - custom/coding-self-chat.sharegpt.jsonl\n",
      "  #     - custom/prose-gpt4.sharegpt.jsonl\n",
      "  #     - custom/prose-rewrite-gpt4.sharegpt.jsonl\n",
      "  #   type: sharegpt_simple\n",
      "  # - path: winglian/evals\n",
      "  #   data_files:\n",
      "  #     - custom/guanaco-cleaned.en.jsonl\n",
      "  #   type: sharegpt_simple.load_guanaco\n",
      "  # - path: winglian/evals\n",
      "  #   data_files:\n",
      "  #     - openai/tldr.jsonl\n",
      "  #   type: summarizetldr:chat\n",
      "  # - path: winglian/evals\n",
      "  #   data_files:\n",
      "  #     - hellaswag/hellaswag.jsonl\n",
      "  #   type: explainchoice:chat\n",
      "  #   shards: 60\n",
      "  # - path: metaeval/ScienceQA_text_only\n",
      "  #   type: concisechoice:chat\n",
      "  #   shards: 13\n",
      "  # - path: teknium/GPTeacher-General-Instruct\n",
      "  #   data_files: \n",
      "  #     - gpt4-instruct-similarity-0.6-dataset.json\n",
      "  #   type: gpteacher:chat\n",
      "  - path: QingyiSi/Alpaca-CoT\n",
      "    data_files:\n",
      "      # - chain-of-thought/formatted_cot_data/aqua_train.jsonl\n",
      "      # - Chain-of-Thought/formatted_cot_data/creak_train.json\n",
      "      # - Chain-of-Thought/formatted_cot_data/ecqa_train.json\n",
      "      # - Chain-of-Thought/formatted_cot_data/esnli_train.json\n",
      "      - Chain-of-Thought/formatted_cot_data/gsm8k_train.json\n",
      "      # - Chain-of-Thought/formatted_cot_data/qasc_train.json\n",
      "      # - Chain-of-Thought/formatted_cot_data/qed_train.json\n",
      "      # - Chain-of-Thought/formatted_cot_data/sensemaking_train.json\n",
      "      # - Chain-of-Thought/formatted_cot_data/strategyqa_train.json\n",
      "      # - GPTeacher/Roleplay/formatted_roleplay-similarity_0.6-instruct-dataset.json\n",
      "    type: \"alpaca:chat\"\n",
      "dataset_prepared_path: last_run_prepared\n",
      "val_set_size: 0.01\n",
      "adapter: qlora\n",
      "lora_model_dir:\n",
      "sequence_len: 2048\n",
      "max_packed_sequence_len: 2048\n",
      "lora_r: 64\n",
      "lora_alpha: 16\n",
      "lora_dropout: 0.05\n",
      "lora_target_modules:\n",
      "lora_target_linear: true\n",
      "lora_fan_in_fan_out:\n",
      "wandb_project: huggyllama-qlora\n",
      "wandb_watch:\n",
      "wandb_run_id:\n",
      "wandb_log_model: checkpoint\n",
      "output_dir: ./qlora-out\n",
      "batch_size: 36\n",
      "micro_batch_size: 4\n",
      "num_epochs: 3\n",
      "optimizer: paged_adamw_32bit\n",
      "torchdistx_path:\n",
      "lr_scheduler: cosine\n",
      "learning_rate: 0.0002\n",
      "train_on_inputs: false\n",
      "group_by_length: false\n",
      "bf16: true\n",
      "fp16: false\n",
      "tf32: true\n",
      "gradient_checkpointing: true\n",
      "# stop training after this many evaluation losses have increased in a row\n",
      "# https://huggingface.co/transformers/v4.2.2/_modules/transformers/trainer_callback.html#EarlyStoppingCallback\n",
      "early_stopping_patience: 3\n",
      "resume_from_checkpoint:\n",
      "auto_resume_from_checkpoints: true\n",
      "local_rank:\n",
      "logging_steps: 1\n",
      "xformers_attention: false\n",
      "flash_attention:\n",
      "gptq_groupsize:\n",
      "gptq_model_v1:\n",
      "warmup_steps: 10\n",
      "eval_steps: 5\n",
      "save_steps: 10\n",
      "debug:\n",
      "deepspeed:\n",
      "weight_decay: 0.000001\n",
      "fsdp:\n",
      "fsdp_config:\n",
      "special_tokens:\n",
      "  bos_token: \"<s>\"\n",
      "  eos_token: \"</s>\"\n",
      "  unk_token: \"<unk>\""
     ]
    }
   ],
   "source": [
    "!cat examples/huggyllama/qlora.yml"
   ]
  },
  {
   "cell_type": "code",
   "execution_count": null,
   "metadata": {
    "id": "jICMPJuomFsx",
    "scrolled": true
   },
   "outputs": [
    {
     "name": "stdout",
     "output_type": "stream",
     "text": [
      "Setting ds_accelerator to cuda (auto detect)\n",
      "The following values were not passed to `accelerate launch` and had defaults used instead:\n",
      "\t`--num_processes` was set to a value of `1`\n",
      "\t`--num_machines` was set to a value of `1`\n",
      "\t`--mixed_precision` was set to a value of `'no'`\n",
      "\t`--dynamo_backend` was set to a value of `'no'`\n",
      "To avoid this warning pass in values for each of the problematic parameters or run `accelerate config`.\n",
      "\n",
      "===================================BUG REPORT===================================\n",
      "Welcome to bitsandbytes. For bug reports, please run\n",
      "\n",
      "python -m bitsandbytes\n",
      "\n",
      " and submit this information together with your error trace to: https://github.com/TimDettmers/bitsandbytes/issues\n",
      "================================================================================\n",
      "bin /root/miniconda3/envs/py3.9/lib/python3.9/site-packages/bitsandbytes-0.39.0-py3.9.egg/bitsandbytes/libbitsandbytes_cuda118.so\n",
      "/root/miniconda3/envs/py3.9/lib/python3.9/site-packages/bitsandbytes-0.39.0-py3.9.egg/bitsandbytes/cuda_setup/main.py:149: UserWarning: WARNING: The following directories listed in your path were found to be non-existent: {PosixPath('/usr/local/nvidia/lib'), PosixPath('/usr/local/nvidia/lib64')}\n",
      "  warn(msg)\n",
      "/root/miniconda3/envs/py3.9/lib/python3.9/site-packages/bitsandbytes-0.39.0-py3.9.egg/bitsandbytes/cuda_setup/main.py:149: UserWarning: /usr/local/nvidia/lib:/usr/local/nvidia/lib64 did not contain ['libcudart.so', 'libcudart.so.11.0', 'libcudart.so.12.0'] as expected! Searching further paths...\n",
      "  warn(msg)\n",
      "/root/miniconda3/envs/py3.9/lib/python3.9/site-packages/bitsandbytes-0.39.0-py3.9.egg/bitsandbytes/cuda_setup/main.py:149: UserWarning: WARNING: The following directories listed in your path were found to be non-existent: {PosixPath('//matplotlib_inline.backend_inline'), PosixPath('module')}\n",
      "  warn(msg)\n",
      "/root/miniconda3/envs/py3.9/lib/python3.9/site-packages/bitsandbytes-0.39.0-py3.9.egg/bitsandbytes/cuda_setup/main.py:149: UserWarning: WARNING: The following directories listed in your path were found to be non-existent: {PosixPath('ssh-ed25519 AAAAC3NzaC1lZDI1NTE5AAAAIK1tFOFrWbmoa2ckCJYhzgBHKTSMeR/AeuScCCzugqlI utensilcandel@gmail.com')}\n",
      "  warn(msg)\n",
      "CUDA_SETUP: WARNING! libcudart.so not found in any environmental path. Searching in backup paths...\n",
      "/root/miniconda3/envs/py3.9/lib/python3.9/site-packages/bitsandbytes-0.39.0-py3.9.egg/bitsandbytes/cuda_setup/main.py:149: UserWarning: Found duplicate ['libcudart.so', 'libcudart.so.11.0', 'libcudart.so.12.0'] files: {PosixPath('/usr/local/cuda/lib64/libcudart.so'), PosixPath('/usr/local/cuda/lib64/libcudart.so.11.0')}.. We'll flip a coin and try one of these, in order to fail forward.\n",
      "Either way, this might cause trouble in the future:\n",
      "If you get `CUDA error: invalid device function` errors, the above might be the cause and the solution is to make sure only one ['libcudart.so', 'libcudart.so.11.0', 'libcudart.so.12.0'] in the paths that we search based on your env.\n",
      "  warn(msg)\n",
      "CUDA SETUP: CUDA runtime path found: /usr/local/cuda/lib64/libcudart.so\n",
      "CUDA SETUP: Highest compute capability among GPUs detected: 8.6\n",
      "CUDA SETUP: Detected CUDA version 118\n",
      "CUDA SETUP: Loading binary /root/miniconda3/envs/py3.9/lib/python3.9/site-packages/bitsandbytes-0.39.0-py3.9.egg/bitsandbytes/libbitsandbytes_cuda118.so...\n",
      "Setting ds_accelerator to cuda (auto detect)\n",
      "INFO:root:loading tokenizer...\n",
      "Using pad_token, but it is not set yet.\n",
      "INFO:root:Loading prepared packed dataset from disk at last_run_prepared/21a0611c6c2b67b31f00097fa2a91c26...\n",
      "INFO:root:Prepared packed dataset loaded from disk...\n",
      "INFO:root:loading model and peft_config...\n",
      "Loading checkpoint shards: 100%|██████████████████| 2/2 [00:17<00:00,  8.57s/it]\n",
      "INFO:root:converting PEFT model w/ prepare_model_for_int8_training\n",
      "/root/miniconda3/envs/py3.9/lib/python3.9/site-packages/peft/utils/other.py:76: FutureWarning: prepare_model_for_int8_training is deprecated and will be removed in a future version. Use prepare_model_for_kbit_training instead.\n",
      "  warnings.warn(\n",
      "INFO:root:found linear modules: ['o_proj', 'k_proj', 'gate_proj', 'q_proj', 'down_proj', 'up_proj', 'v_proj']\n",
      "trainable params: 159907840 || all params: 3660320768 || trainable%: 4.368683788535114\n",
      "INFO:root:Compiling torch model\n",
      "INFO:root:Pre-saving adapter config to ./qlora-out\n",
      "INFO:root:Starting trainer...\n",
      "\u001b[34m\u001b[1mwandb\u001b[0m: Currently logged in as: \u001b[33mutensil\u001b[0m. Use \u001b[1m`wandb login --relogin`\u001b[0m to force relogin\n",
      "\u001b[34m\u001b[1mwandb\u001b[0m: Tracking run with wandb version 0.15.3\n",
      "\u001b[34m\u001b[1mwandb\u001b[0m: Run data is saved locally in \u001b[35m\u001b[1m/workspace/axolotl/wandb/run-20230531_095249-zoq4h9i4\u001b[0m\n",
      "\u001b[34m\u001b[1mwandb\u001b[0m: Run \u001b[1m`wandb offline`\u001b[0m to turn off syncing.\n",
      "\u001b[34m\u001b[1mwandb\u001b[0m: Syncing run \u001b[33mtoasty-darkness-4\u001b[0m\n",
      "\u001b[34m\u001b[1mwandb\u001b[0m: ⭐️ View project at \u001b[34m\u001b[4mhttps://wandb.ai/utensil/huggyllama-qlora\u001b[0m\n",
      "\u001b[34m\u001b[1mwandb\u001b[0m: 🚀 View run at \u001b[34m\u001b[4mhttps://wandb.ai/utensil/huggyllama-qlora/runs/zoq4h9i4\u001b[0m\n",
      "{'loss': 6.3419, 'learning_rate': 2e-05, 'epoch': 0.05}                         \n",
      "{'loss': 6.3029, 'learning_rate': 4e-05, 'epoch': 0.09}                         \n",
      "{'loss': 6.3147, 'learning_rate': 6e-05, 'epoch': 0.14}                         \n",
      "{'loss': 6.2108, 'learning_rate': 8e-05, 'epoch': 0.19}                         \n",
      "{'loss': 6.106, 'learning_rate': 0.0001, 'epoch': 0.24}                         \n",
      "  8%|███▎                                      | 5/63 [08:18<1:36:12, 99.53s/it]\n",
      "  0%|                                                     | 0/2 [00:00<?, ?it/s]\u001b[A\n",
      "                                                                                \u001b[A\n",
      "\u001b[A{'eval_loss': 6.03704833984375, 'eval_runtime': 6.0393, 'eval_samples_per_second': 1.325, 'eval_steps_per_second': 0.331, 'epoch': 0.24}\n",
      "  8%|███▎                                      | 5/63 [08:24<1:36:12, 99.53s/it]\n",
      "100%|█████████████████████████████████████████████| 2/2 [00:03<00:00,  1.53s/it]\u001b[A\n",
      "{'loss': 5.9102, 'learning_rate': 0.00012, 'epoch': 0.28}                       \u001b[A\n",
      "{'loss': 5.6807, 'learning_rate': 0.00014, 'epoch': 0.33}                       \n",
      "{'loss': 5.4495, 'learning_rate': 0.00016, 'epoch': 0.38}                       \n",
      "{'loss': 5.0589, 'learning_rate': 0.00018, 'epoch': 0.42}                       \n",
      "{'loss': 5.0491, 'learning_rate': 0.0002, 'epoch': 0.47}                        \n",
      " 16%|██████▌                                  | 10/63 [16:39<1:27:46, 99.37s/it]\n",
      "  0%|                                                     | 0/2 [00:00<?, ?it/s]\u001b[A\n",
      "100%|█████████████████████████████████████████████| 2/2 [00:03<00:00,  1.54s/it]\u001b[A\n",
      "{'eval_loss': 4.82437801361084, 'eval_runtime': 6.0447, 'eval_samples_per_second': 1.323, 'eval_steps_per_second': 0.331, 'epoch': 0.47}\n",
      "\n",
      " 16%|██████▌                                  | 10/63 [16:45<1:27:46, 99.37s/it]\u001b[A\n",
      "                                                                                \u001b[A\u001b[34m\u001b[1mwandb\u001b[0m: Adding directory to artifact (./qlora-out/checkpoint-10)... Done. 8.7s\n",
      "{'loss': 4.7483, 'learning_rate': 0.00019982437317643217, 'epoch': 0.52}        \n",
      "{'loss': 4.5427, 'learning_rate': 0.00019929810960135172, 'epoch': 0.57}        \n",
      "{'loss': 4.3835, 'learning_rate': 0.00019842305779475968, 'epoch': 0.61}        \n",
      "{'loss': 4.3011, 'learning_rate': 0.0001972022914080411, 'epoch': 0.66}         \n",
      "{'loss': 4.1025, 'learning_rate': 0.00019564009842765225, 'epoch': 0.71}        \n",
      " 24%|█████████▌                              | 15/63 [25:16<1:20:38, 100.80s/it]\n",
      "  0%|                                                     | 0/2 [00:00<?, ?it/s]\u001b[A\n",
      "                                                                                \u001b[A\n",
      "\u001b[A{'eval_loss': 3.9233617782592773, 'eval_runtime': 6.0371, 'eval_samples_per_second': 1.325, 'eval_steps_per_second': 0.331, 'epoch': 0.71}\n",
      " 24%|█████████▌                              | 15/63 [25:22<1:20:38, 100.80s/it]\n",
      "100%|█████████████████████████████████████████████| 2/2 [00:03<00:00,  1.53s/it]\u001b[A\n",
      "                                                                                \u001b[A"
     ]
    }
   ],
   "source": [
    "!accelerate launch scripts/finetune.py examples/huggyllama/qlora.yml"
   ]
  },
  {
   "attachments": {},
   "cell_type": "markdown",
   "metadata": {},
   "source": [
    "## Below are ad hoc cells handling issues during training"
   ]
  },
  {
   "cell_type": "code",
   "execution_count": 19,
   "metadata": {},
   "outputs": [],
   "source": [
    "!ps aux|grep python|grep finetune|awk '{print $2}'|xargs kill -9"
   ]
  },
  {
   "cell_type": "code",
   "execution_count": null,
   "metadata": {},
   "outputs": [],
   "source": [
    "!apt install zip\n",
    "!zip -r last_run_prepared.zip -xi last_run_prepared"
   ]
  },
  {
   "cell_type": "code",
   "execution_count": null,
   "metadata": {},
   "outputs": [],
   "source": [
    "!nvitop -m full"
   ]
  },
  {
   "cell_type": "code",
   "execution_count": null,
   "metadata": {
    "scrolled": true
   },
   "outputs": [],
   "source": [
    "!apt install lsof"
   ]
  },
  {
   "cell_type": "code",
   "execution_count": null,
   "metadata": {
    "scrolled": true
   },
   "outputs": [],
   "source": [
    "!lsof /dev/nvidia*"
   ]
  }
 ],
 "metadata": {
  "accelerator": "GPU",
  "colab": {
   "authorship_tag": "ABX9TyP0jHt4WNuLaC5ecmX0YtWl",
   "gpuType": "T4",
   "include_colab_link": true,
   "provenance": [],
   "toc_visible": true
  },
  "kernelspec": {
   "display_name": "Python 3 (ipykernel)",
   "language": "python",
   "name": "python3"
  },
  "language_info": {
   "codemirror_mode": {
    "name": "ipython",
    "version": 3
   },
   "file_extension": ".py",
   "mimetype": "text/x-python",
   "name": "python",
   "nbconvert_exporter": "python",
   "pygments_lexer": "ipython3",
   "version": "3.9.16"
  }
 },
 "nbformat": 4,
 "nbformat_minor": 4
}
