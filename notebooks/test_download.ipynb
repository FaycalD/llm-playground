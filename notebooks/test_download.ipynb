{
 "cells": [
  {
   "attachments": {},
   "cell_type": "markdown",
   "metadata": {},
   "source": [
    "Note: run `./helper/prepare.sh` first"
   ]
  },
  {
   "cell_type": "code",
   "execution_count": 1,
   "metadata": {},
   "outputs": [
    {
     "name": "stdout",
     "output_type": "stream",
     "text": [
      "/workspaces/llm-playground/notebooks\n"
     ]
    }
   ],
   "source": [
    "!pwd"
   ]
  },
  {
   "cell_type": "code",
   "execution_count": 2,
   "metadata": {},
   "outputs": [
    {
     "name": "stdout",
     "output_type": "stream",
     "text": [
      "Working directory changed to: /workspaces/llm-playground/helper/..\n",
      "Skipping: .gitattributes\n",
      "Downloading the model to loras/tloen_alpaca-lora-7b\n",
      "Downloaded: README.md\n",
      "Downloaded: adapter_config.json\n",
      "Downloaded: adapter_model.bin\n",
      "100%|██████████████████████████████████████████| 3/3 [00:00<00:00, 28728.11it/s]\n",
      "\n"
     ]
    }
   ],
   "source": [
    "!python ../helper/download-model.py tloen/alpaca-lora-7b"
   ]
  },
  {
   "cell_type": "code",
   "execution_count": 3,
   "metadata": {},
   "outputs": [
    {
     "name": "stdout",
     "output_type": "stream",
     "text": [
      "Token is valid.\n",
      "Your token has been saved in your configured git credential helpers (/.codespaces/bin/gitcredential_github.sh).\n",
      "Your token has been saved to /home/codespace/.cache/huggingface/token\n",
      "Login successful\n"
     ]
    }
   ],
   "source": [
    "!huggingface-cli login --token $HUGGINGFACE_TOKEN --add-to-git-credential"
   ]
  },
  {
   "cell_type": "code",
   "execution_count": 4,
   "metadata": {},
   "outputs": [
    {
     "name": "stdout",
     "output_type": "stream",
     "text": [
      "Working directory changed to: /workspaces/llm-playground/helper/..\n",
      "Ignoring error: Tree Entry not found: data\n",
      "Downloading the dataset to datasets/ehartford_oa_leet10k\n",
      "  0%|                                                     | 0/5 [00:00<?, ?it/s]\n",
      "100%|███████████████████████| 29.0  /29.0   21.5kiB/s , File: oa_leet10k.parquet\u001b[A\n",
      " 20%|█████████                                    | 1/5 [00:00<00:00,  4.06it/s]\n",
      "100%|███████| 29.0  /29.0   19.0kiB/s , File: oa_leet10k_contests_merged.parquet\u001b[A\n",
      " 40%|██████████████████                           | 2/5 [00:00<00:00,  4.10it/s]\n",
      "100%|█████████████████████████████████████| 29.0  /29.0   18.5kiB/s , File: data\u001b[A\n",
      " 60%|███████████████████████████                  | 3/5 [00:00<00:00,  4.12it/s]\n",
      "100%|███████████████████████████| 29.0  /29.0   17.5kiB/s , File: .gitattributes\u001b[A\n",
      "100%|████████████████████████████████| 29.0  /29.0   21.3kiB/s , File: README.md\n",
      "100%|█████████████████████████████████████████████| 5/5 [00:01<00:00,  3.84it/s]\n",
      "\n"
     ]
    }
   ],
   "source": [
    "!python ../helper/download-dataset.py ehartford/oa_leet10k"
   ]
  },
  {
   "cell_type": "code",
   "execution_count": null,
   "metadata": {},
   "outputs": [],
   "source": []
  }
 ],
 "metadata": {
  "kernelspec": {
   "display_name": "Python 3",
   "language": "python",
   "name": "python3"
  },
  "language_info": {
   "codemirror_mode": {
    "name": "ipython",
    "version": 3
   },
   "file_extension": ".py",
   "mimetype": "text/x-python",
   "name": "python",
   "nbconvert_exporter": "python",
   "pygments_lexer": "ipython3",
   "version": "3.10.4"
  },
  "orig_nbformat": 4
 },
 "nbformat": 4,
 "nbformat_minor": 2
}
